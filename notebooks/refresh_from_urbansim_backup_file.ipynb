{
 "metadata": {
  "name": ""
 },
 "nbformat": 3,
 "nbformat_minor": 0,
 "worksheets": [
  {
   "cells": [
    {
     "cell_type": "code",
     "collapsed": false,
     "input": [
      "import numpy as np, pandas as pd, os\n",
      "import psycopg2\n",
      "import pandas.io.sql as sql\n",
      "conn_string = \"host='localhost' port=5432 dbname='drcog_backup' user='postgres' password='postgres'\"\n",
      "conn = psycopg2.connect(conn_string)\n",
      "cur = conn.cursor()\n",
      "query = '''\n",
      "select a.parcel_id, a.county_id, a.parcel_sqft, a.land_value, a.zone_id, a.lu_type_id, a.centroid_x, a.centroid_y, a.tax_exempt_flag, a.school_district, a.zoning_id, round(ST_X(b.centroid_geom)) as x, round(ST_Y(b.centroid_geom)) as y,\n",
      "b.dist_bus, b.dist_rail, b.in_ugb, b.in_uga, b.env_constr_park, b.env_constr_lake, b.env_constr_floodplain, b.env_constr_river, b.env_constr_landslide, far_id from parcels a join parcels_spatial b on a.parcel_id = b.parcel_id\n",
      "'''\n",
      "parcels = sql.read_frame(query,conn)"
     ],
     "language": "python",
     "metadata": {},
     "outputs": [],
     "prompt_number": 1
    },
    {
     "cell_type": "code",
     "collapsed": false,
     "input": [
      "parcels[['x','y']].describe()"
     ],
     "language": "python",
     "metadata": {},
     "outputs": [
      {
       "html": [
        "<div style=\"max-height:1000px;max-width:1500px;overflow:auto;\">\n",
        "<table border=\"1\" class=\"dataframe\">\n",
        "  <thead>\n",
        "    <tr style=\"text-align: right;\">\n",
        "      <th></th>\n",
        "      <th>x</th>\n",
        "      <th>y</th>\n",
        "    </tr>\n",
        "  </thead>\n",
        "  <tbody>\n",
        "    <tr>\n",
        "      <th>count</th>\n",
        "      <td>  949484.000000</td>\n",
        "      <td>  949484.000000</td>\n",
        "    </tr>\n",
        "    <tr>\n",
        "      <th>mean</th>\n",
        "      <td> 3145177.076667</td>\n",
        "      <td> 1700240.999813</td>\n",
        "    </tr>\n",
        "    <tr>\n",
        "      <th>std</th>\n",
        "      <td>   55332.772747</td>\n",
        "      <td>   71084.681992</td>\n",
        "    </tr>\n",
        "    <tr>\n",
        "      <th>min</th>\n",
        "      <td> 2887889.000000</td>\n",
        "      <td> 1472248.000000</td>\n",
        "    </tr>\n",
        "    <tr>\n",
        "      <th>25%</th>\n",
        "      <td> 3114749.000000</td>\n",
        "      <td> 1652022.000000</td>\n",
        "    </tr>\n",
        "    <tr>\n",
        "      <th>50%</th>\n",
        "      <td> 3145977.000000</td>\n",
        "      <td> 1692499.000000</td>\n",
        "    </tr>\n",
        "    <tr>\n",
        "      <th>75%</th>\n",
        "      <td> 3179069.000000</td>\n",
        "      <td> 1748392.000000</td>\n",
        "    </tr>\n",
        "    <tr>\n",
        "      <th>max</th>\n",
        "      <td> 3503749.000000</td>\n",
        "      <td> 1886418.000000</td>\n",
        "    </tr>\n",
        "  </tbody>\n",
        "</table>\n",
        "</div>"
       ],
       "metadata": {},
       "output_type": "pyout",
       "prompt_number": 2,
       "text": [
        "                    x               y\n",
        "count   949484.000000   949484.000000\n",
        "mean   3145177.076667  1700240.999813\n",
        "std      55332.772747    71084.681992\n",
        "min    2887889.000000  1472248.000000\n",
        "25%    3114749.000000  1652022.000000\n",
        "50%    3145977.000000  1692499.000000\n",
        "75%    3179069.000000  1748392.000000\n",
        "max    3503749.000000  1886418.000000"
       ]
      }
     ],
     "prompt_number": 2
    },
    {
     "cell_type": "code",
     "collapsed": false,
     "input": [
      "parcels['prop_constrained'] = parcels.env_constr_park + parcels.env_constr_lake + parcels.env_constr_floodplain + parcels.env_constr_river + parcels.env_constr_landslide"
     ],
     "language": "python",
     "metadata": {},
     "outputs": [],
     "prompt_number": 3
    },
    {
     "cell_type": "code",
     "collapsed": false,
     "input": [
      "parcels.prop_constrained[parcels.prop_constrained>1.0] = 1.0"
     ],
     "language": "python",
     "metadata": {},
     "outputs": [],
     "prompt_number": 4
    },
    {
     "cell_type": "code",
     "collapsed": false,
     "input": [
      "store = pd.HDFStore('c:\\\\urbansim\\\\data\\\\drcog.h5')\n",
      "store['parcels'] = parcels"
     ],
     "language": "python",
     "metadata": {},
     "outputs": [],
     "prompt_number": 5
    }
   ],
   "metadata": {}
  }
 ]
}