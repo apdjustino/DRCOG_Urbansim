{
 "metadata": {
  "name": ""
 },
 "nbformat": 3,
 "nbformat_minor": 0,
 "worksheets": [
  {
   "cells": [
    {
     "cell_type": "code",
     "collapsed": false,
     "input": [
      "import numpy as np, pandas as pd, os\n",
      "from synthicity.utils import misc\n",
      "from drcog.models import elcm_simulation, hlcm_simulation, regression_model_simulation, dataset\n",
      "dset = dataset.DRCOGDataset(os.path.join(misc.data_dir(),'drcog.h5'))\n",
      "np.random.seed(1)\n",
      "\n",
      "##Variable Library\n",
      "from drcog.variables import variable_library\n",
      "variable_library.calculate_variables(dset)\n",
      "\n",
      "establishments = dset.establishments\n",
      "households = dset.households\n",
      "households_for_estimation = dset.households_for_estimation\n",
      "buildings = dset.buildings\n",
      "\n",
      "sim_year = 2011\n",
      "\n",
      "coeff_store_path = os.path.join(misc.data_dir(),'coeffs.h5')\n",
      "coeff_store = pd.HDFStore(coeff_store_path)\n",
      "dset.coeffs = coeff_store.coeffs.copy()\n",
      "coeff_store.close()\n",
      "\n",
      "hh_zone1 = dset.fetch('households').groupby('zone_id').size()\n",
      "emp_zone1 = dset.fetch('establishments').groupby('zone_id').employees.sum()"
     ],
     "language": "python",
     "metadata": {},
     "outputs": [
      {
       "output_type": "stream",
       "stream": "stdout",
       "text": [
        "Fetching parcels\n",
        "Fetching modify_table\n",
        "Fetching buildings"
       ]
      },
      {
       "output_type": "stream",
       "stream": "stdout",
       "text": [
        "\n",
        "Fetching establishments"
       ]
      },
      {
       "output_type": "stream",
       "stream": "stdout",
       "text": [
        "\n",
        "Fetching modify_table"
       ]
      },
      {
       "output_type": "stream",
       "stream": "stdout",
       "text": [
        "\n",
        "Fetching modify_table"
       ]
      },
      {
       "output_type": "stream",
       "stream": "stdout",
       "text": [
        "\n",
        "Fetching households_for_estimation"
       ]
      },
      {
       "output_type": "stream",
       "stream": "stdout",
       "text": [
        "\n",
        "Fetching modify_table\n",
        "Fetching households\n",
        "Fetching modify_table\n",
        "Fetching zones"
       ]
      },
      {
       "output_type": "stream",
       "stream": "stdout",
       "text": [
        "\n",
        "Fetching modify_table\n",
        "Fetching travel_data"
       ]
      },
      {
       "output_type": "stream",
       "stream": "stdout",
       "text": [
        "\n",
        "Fetching modify_table"
       ]
      },
      {
       "output_type": "stream",
       "stream": "stdout",
       "text": [
        "\n"
       ]
      }
     ],
     "prompt_number": 1
    },
    {
     "cell_type": "code",
     "collapsed": false,
     "input": [
      "alternatives = buildings[(buildings.residential_units>0)]\n",
      "\n",
      "hlcm_simulation.simulate(dset, year=sim_year,\n",
      "                         depvar = 'building_id',alternatives=alternatives,simulation_table = 'households',output_names = (\"drcog-coeff-hlcm-%s.csv\",\"DRCOG HOUSEHOLD LOCATION CHOICE MODELS (%s)\",\"hh_location_%s\",\"household_building_ids\"),\n",
      "                         agents_groupby= ['income_3_tenure',],\n",
      "                         transition_config = {'Enabled':True,'control_totals_table':'annual_household_control_totals','scaling_factor':1.0},\n",
      "                         relocation_config = {'Enabled':True,'relocation_rates_table':'annual_household_relocation_rates','scaling_factor':1.0},\n",
      "                         )"
     ],
     "language": "python",
     "metadata": {},
     "outputs": [
      {
       "output_type": "stream",
       "stream": "stdout",
       "text": [
        "Fetching annual_household_control_totals\n",
        "Fetching modify_table\n",
        "total_number_of_households    23538\n",
        "persons                       45227\n",
        "dtype: int32\n",
        "Adding agents to match target of 68765 \n",
        "Histogram of agents by year:\n"
       ]
      },
      {
       "output_type": "stream",
       "stream": "stdout",
       "text": [
        "2011    23538\n",
        "dtype: int64\n",
        "Histogram of relocation rates:"
       ]
      },
      {
       "output_type": "stream",
       "stream": "stdout",
       "text": [
        "\n",
        "0.00148    156891\n",
        "0.00000    151587\n",
        "0.00309    128645\n",
        "0.00274    126702\n",
        "0.00145    113687\n",
        "0.00311     75448\n",
        "0.00183     64158\n",
        "0.00348     59075\n",
        "0.00540     55346\n",
        "0.00184     49096\n",
        "0.00110     39096\n",
        "0.00220     30741\n",
        "0.00402     26679\n",
        "0.00099     19702\n",
        "0.00130     17099\n",
        "0.00124     16598\n",
        "0.00199     12906\n",
        "0.00111     12166\n",
        "0.00132     12111\n",
        "0.00117      9626\n",
        "0.00222      6566\n",
        "dtype: int64"
       ]
      },
      {
       "output_type": "stream",
       "stream": "stdout",
       "text": [
        "\n",
        "2448 agents are moving\n",
        "Total new agents and movers = 25947"
       ]
      },
      {
       "output_type": "stream",
       "stream": "stdout",
       "text": [
        "\n",
        "Assigning units to 6208 agents of segment 1"
       ]
      },
      {
       "output_type": "stream",
       "stream": "stdout",
       "text": [
        "\n",
        "Assigning units to 7307 agents of segment 2\n",
        "Assigning units to 4900 agents of segment 3\n",
        "Assigning units to 3803 agents of segment 4\n",
        "Assigning units to 3729 agents of segment 5\n",
        "Assigned 25947 agents to 13344 locations with 0 unplaced"
       ]
      },
      {
       "output_type": "stream",
       "stream": "stdout",
       "text": [
        "\n"
       ]
      }
     ],
     "prompt_number": 2
    },
    {
     "cell_type": "code",
     "collapsed": false,
     "input": [
      "alternatives = buildings[(buildings.non_residential_sqft>0)]\n",
      "\n",
      "elcm_simulation.simulate(dset, year=sim_year, \n",
      "                         depvar = 'building_id',alternatives=alternatives,simulation_table = 'establishments',output_names = (\"drcog-coeff-elcm-%s.csv\",\"DRCOG EMPLOYMENT LOCATION CHOICE MODELS (%s)\",\"emp_location_%s\",\"establishment_building_ids\"),\n",
      "                         agents_groupby= ['sector_id_retail_agg',],\n",
      "                         transition_config = {'Enabled':True,'control_totals_table':'annual_employment_control_totals','scaling_factor':1.0})"
     ],
     "language": "python",
     "metadata": {},
     "outputs": [
      {
       "output_type": "stream",
       "stream": "stdout",
       "text": [
        "Fetching annual_employment_control_totals\n",
        "Fetching modify_table\n",
        "                                 total_number_of_jobs\n",
        "sector_id_six home_based_status                      \n",
        "1             1                                  7276\n",
        "2             1                                 23908\n",
        "3             1                                  5197\n",
        "4             1                                 10395\n",
        "5             1                                 13513\n",
        "6             1                                 62368\n",
        "1             0                                 95218\n",
        "2             0                                312859\n",
        "3             0                                 68013\n",
        "4             0                                136026\n",
        "5             0                                176833\n",
        "6             0                                816154\n",
        "Adding agents to match target of 1727760 \n",
        "action\n",
        "6680\n",
        "action"
       ]
      },
      {
       "output_type": "stream",
       "stream": "stdout",
       "text": [
        "\n",
        "23031\n",
        "action\n",
        "-10467\n",
        "action"
       ]
      },
      {
       "output_type": "stream",
       "stream": "stdout",
       "text": [
        "\n",
        "10306\n",
        "action\n",
        "10690\n",
        "action"
       ]
      },
      {
       "output_type": "stream",
       "stream": "stdout",
       "text": [
        "\n",
        "34805\n",
        "action"
       ]
      },
      {
       "output_type": "stream",
       "stream": "stdout",
       "text": [
        "\n",
        "-16660\n",
        "action"
       ]
      },
      {
       "output_type": "stream",
       "stream": "stdout",
       "text": [
        "\n",
        "280118\n",
        "action"
       ]
      },
      {
       "output_type": "stream",
       "stream": "stdout",
       "text": [
        "\n",
        "-271403\n",
        "action"
       ]
      },
      {
       "output_type": "stream",
       "stream": "stdout",
       "text": [
        "\n",
        "10785\n",
        "action\n",
        "-15220\n",
        "action"
       ]
      },
      {
       "output_type": "stream",
       "stream": "stdout",
       "text": [
        "\n",
        "58213\n",
        "Histogram of agents by year:\n"
       ]
      },
      {
       "output_type": "stream",
       "stream": "stdout",
       "text": [
        "2011    106692\n",
        "dtype: int64\n",
        "Total new agents and movers = 108209\n",
        "Assigning units to 23 agents of segment 11"
       ]
      },
      {
       "output_type": "stream",
       "stream": "stdout",
       "text": [
        "\n",
        "Assigning units to 239 agents of segment 23\n",
        "Assigning units to 3 agents of segment 31\n",
        "Assigning units to 2 agents of segment 33\n",
        "Assigning units to 10 agents of segment 42\n",
        "Assigning units to 5445 agents of segment 44\n",
        "Assigning units to 4937 agents of segment 45"
       ]
      },
      {
       "output_type": "stream",
       "stream": "stdout",
       "text": [
        "\n",
        "Assigning units to 55 agents of segment 48\n",
        "Assigning units to 3 agents of segment 49\n",
        "Assigning units to 1064 agents of segment 51\n",
        "Assigning units to 4134 agents of segment 52"
       ]
      },
      {
       "output_type": "stream",
       "stream": "stdout",
       "text": [
        "\n",
        "Assigning units to 5522 agents of segment 53"
       ]
      },
      {
       "output_type": "stream",
       "stream": "stdout",
       "text": [
        "\n",
        "Assigning units to 16194 agents of segment 54"
       ]
      },
      {
       "output_type": "stream",
       "stream": "stdout",
       "text": [
        "\n",
        "Assigning units to 189 agents of segment 55"
       ]
      },
      {
       "output_type": "stream",
       "stream": "stdout",
       "text": [
        "\n",
        "Assigning units to 5727 agents of segment 56"
       ]
      },
      {
       "output_type": "stream",
       "stream": "stdout",
       "text": [
        "\n",
        "Assigning units to 6699 agents of segment 61"
       ]
      },
      {
       "output_type": "stream",
       "stream": "stdout",
       "text": [
        "\n",
        "Assigning units to 2672 agents of segment 62\n",
        "Assigning units to 37769 agents of segment 71"
       ]
      },
      {
       "output_type": "stream",
       "stream": "stdout",
       "text": [
        "\n",
        "WARNING: not enough options to fit agents, will result in unplaced agents"
       ]
      },
      {
       "output_type": "stream",
       "stream": "stdout",
       "text": [
        "\n",
        "Assigning units to 6095 agents of segment 81\n",
        "Assigning units to 43 agents of segment 92"
       ]
      },
      {
       "output_type": "stream",
       "stream": "stdout",
       "text": [
        "\n",
        "WARNING: not enough options to fit agents, will result in unplaced agents\n",
        "WARNING: not enough options to fit agents, will result in unplaced agents\n",
        "Assigning units to 203 agents of segment 7211"
       ]
      },
      {
       "output_type": "stream",
       "stream": "stdout",
       "text": [
        "\n",
        "Assigning units to 3134 agents of segment 7221\n",
        "Assigning units to 3220 agents of segment 7222"
       ]
      },
      {
       "output_type": "stream",
       "stream": "stdout",
       "text": [
        "\n",
        "Assigning units to 204 agents of segment 7223"
       ]
      },
      {
       "output_type": "stream",
       "stream": "stdout",
       "text": [
        "\n",
        "Assigning units to 4623 agents of segment 7224\n",
        "Assigned 108209 agents to 25015 locations with 25416 unplaced"
       ]
      },
      {
       "output_type": "stream",
       "stream": "stdout",
       "text": [
        "\n"
       ]
      }
     ],
     "prompt_number": 3
    },
    {
     "cell_type": "code",
     "collapsed": false,
     "input": [
      "regression_model_simulation.simulate(dset, year=sim_year, output_varname='unit_price_residential',\n",
      "                                     simulation_table='buildings', output_names = [\"drcog-coeff-reshedonic-%s.csv\",\"DRCOG RESHEDONIC MODEL (%s)\",\"resprice_%s\"],\n",
      "                                     agents_groupby = 'building_type_id', segment_ids = [2,3,20,24])"
     ],
     "language": "python",
     "metadata": {},
     "outputs": [
      {
       "output_type": "stream",
       "stream": "stdout",
       "text": [
        "Generating rents on 24111 buildings\n",
        "Generating rents on 14447 buildings\n",
        "Generating rents on 740753 buildings"
       ]
      },
      {
       "output_type": "stream",
       "stream": "stdout",
       "text": [
        "\n",
        "Generating rents on 31263 buildings"
       ]
      },
      {
       "output_type": "stream",
       "stream": "stdout",
       "text": [
        "\n"
       ]
      }
     ],
     "prompt_number": 4
    },
    {
     "cell_type": "code",
     "collapsed": false,
     "input": [
      "regression_model_simulation.simulate(dset, year=sim_year, \n",
      "                                     output_varname='unit_price_non_residential', simulation_table='buildings', output_names = [\"drcog-coeff-nrhedonic-%s.csv\",\"DRCOG NRHEDONIC MODEL (%s)\",\"nrprice_%s\"],\n",
      "                                     agents_groupby = 'building_type_id', segment_ids = [5,8,11,16,17,18,21,23,9,22])"
     ],
     "language": "python",
     "metadata": {},
     "outputs": [
      {
       "output_type": "stream",
       "stream": "stdout",
       "text": [
        "Generating rents on 7211 buildings\n",
        "Generating rents on 845 buildings\n",
        "Generating rents on 2736 buildings\n",
        "Generating rents on 1029 buildings\n",
        "Generating rents on 1808 buildings\n",
        "Generating rents on 2394 buildings\n",
        "Generating rents on 11837 buildings\n",
        "Generating rents on 1280 buildings"
       ]
      },
      {
       "output_type": "stream",
       "stream": "stdout",
       "text": [
        "\n",
        "Generating rents on 11726 buildings\n",
        "Generating rents on 790 buildings\n"
       ]
      }
     ],
     "prompt_number": 5
    },
    {
     "cell_type": "code",
     "collapsed": false,
     "input": [
      "developer_configuration = {\n",
      "                           'enforce_environmental_constraints':True,\n",
      "                           'enforce_allowable_use_constraints':True,\n",
      "                           'enforce_ugb':False,\n",
      "                           'outside_ugb_allowable_density':1.0,\n",
      "                           'uga_policies':False,\n",
      "                           'inside_uga_allowable_density':1.0,\n",
      "                           'max_allowable_far_field_name':'far',\n",
      "                           'land_property_acquisition_cost_factor':1.0,\n",
      "                           'profit_factor':1.0,\n",
      "                           'min_building_sqft':400,\n",
      "                           'min_lot_sqft':500,\n",
      "                           'zonal_levers':True\n",
      "                           }\n",
      "\n",
      "from urbandeveloper import proforma_developer_model\n",
      "buildings, newbuildings = proforma_developer_model.run(dset,hh_zone1,emp_zone1,developer_configuration,sim_year)\n",
      "dset.d['buildings'] = pd.concat([buildings,newbuildings])"
     ],
     "language": "python",
     "metadata": {},
     "outputs": [
      {
       "output_type": "stream",
       "stream": "stdout",
       "text": [
        "industrial Fri Apr 11 17:30:14 2014\n",
        "residential"
       ]
      },
      {
       "output_type": "stream",
       "stream": "stdout",
       "text": [
        " Fri Apr 11 17:30:18 2014\n",
        "retail"
       ]
      },
      {
       "output_type": "stream",
       "stream": "stdout",
       "text": [
        " Fri Apr 11 17:30:21 2014\n",
        "office"
       ]
      },
      {
       "output_type": "stream",
       "stream": "stdout",
       "text": [
        " Fri Apr 11 17:30:25 2014\n",
        "Fetching zoning"
       ]
      },
      {
       "output_type": "stream",
       "stream": "stdout",
       "text": [
        "\n",
        "Fetching modify_table\n",
        "Fetching fars\n",
        "Fetching modify_table\n",
        "2"
       ]
      },
      {
       "output_type": "stream",
       "stream": "stdout",
       "text": [
        " 294.689887129\n",
        "3 "
       ]
      },
      {
       "output_type": "stream",
       "stream": "stdout",
       "text": [
        "294.689887129\n",
        "5 "
       ]
      },
      {
       "output_type": "stream",
       "stream": "stdout",
       "text": [
        "111.465344077\n",
        "9 "
       ]
      },
      {
       "output_type": "stream",
       "stream": "stdout",
       "text": [
        "27.8990690346\n",
        "17 "
       ]
      },
      {
       "output_type": "stream",
       "stream": "stdout",
       "text": [
        "89.2201291344\n",
        "18 "
       ]
      },
      {
       "output_type": "stream",
       "stream": "stdout",
       "text": [
        "89.2201291344\n",
        "20 "
       ]
      },
      {
       "output_type": "stream",
       "stream": "stdout",
       "text": [
        "288.672116156\n",
        "22 "
       ]
      },
      {
       "output_type": "stream",
       "stream": "stdout",
       "text": [
        "31.784575281\n",
        "24 "
       ]
      },
      {
       "output_type": "stream",
       "stream": "stdout",
       "text": [
        "294.666027128\n",
        "2335 new buildings for btyp 3"
       ]
      },
      {
       "output_type": "stream",
       "stream": "stdout",
       "text": [
        "\n",
        "2491 new buildings for btyp 2"
       ]
      },
      {
       "output_type": "stream",
       "stream": "stdout",
       "text": [
        "\n",
        "2561 new buildings for btyp 24"
       ]
      },
      {
       "output_type": "stream",
       "stream": "stdout",
       "text": [
        "\n",
        "2458 new buildings for btyp 20"
       ]
      },
      {
       "output_type": "stream",
       "stream": "stdout",
       "text": [
        "\n",
        "306 new buildings for btyp 5"
       ]
      },
      {
       "output_type": "stream",
       "stream": "stdout",
       "text": [
        "\n",
        "310 new buildings for btyp 17"
       ]
      },
      {
       "output_type": "stream",
       "stream": "stdout",
       "text": [
        "\n",
        "228 new buildings for btyp 18"
       ]
      },
      {
       "output_type": "stream",
       "stream": "stdout",
       "text": [
        "\n",
        "122 new buildings for btyp 9"
       ]
      },
      {
       "output_type": "stream",
       "stream": "stdout",
       "text": [
        "\n",
        "103 new buildings for btyp 22"
       ]
      },
      {
       "output_type": "stream",
       "stream": "stdout",
       "text": [
        "\n",
        "       building_type_id  building_sqft   lot_size  residential_units  \\\n",
        "count          10566.00       10566.00   10566.00           10566.00   \n",
        "mean              12.60        3275.62   22177.25               1.78   \n",
        "std                9.61        8049.87   35870.86               3.41   \n",
        "min                2.00         400.00     513.00               0.00   \n",
        "25%                3.00         623.03    6225.25               1.00   \n",
        "50%               17.00         835.80    8249.50               1.00   \n",
        "75%               20.00        1752.60   15459.50               1.00   \n",
        "max               24.00      146882.19  199818.00              90.00   \n",
        "\n",
        "       net_residential_units  \n",
        "count               10566.00  \n",
        "mean                   -0.54  \n",
        "std                     9.87  \n",
        "min                  -216.00  \n",
        "25%                     0.00  \n",
        "50%                     0.00  \n",
        "75%                     1.00  \n",
        "max                    90.00  "
       ]
      },
      {
       "output_type": "stream",
       "stream": "stdout",
       "text": [
        "\n",
        "building_type_id\n",
        "2                   5203096.33\n",
        "3                   6297830.38\n",
        "5                   4739535.87\n",
        "9                   1567143.18\n",
        "17                  3915675.79\n",
        "18                  2255506.63\n",
        "20                  4318938.28\n",
        "22                  1437377.25\n",
        "24                  4875112.35\n",
        "Name: building_sqft, dtype: float64\n",
        "building_type_id\n",
        "2                   4733\n",
        "3                   5354\n",
        "5                      0\n",
        "9                      0\n",
        "17                     0\n",
        "18                     0\n",
        "20                  4141\n",
        "22                     0\n",
        "24                  4535\n",
        "Name: residential_units, dtype: float64\n",
        "Applying price shifts\n"
       ]
      }
     ],
     "prompt_number": 6
    },
    {
     "cell_type": "code",
     "collapsed": false,
     "input": [
      "# sim_year = 2015\n",
      "# urbancanvas_scenario_id = 0\n",
      "\n",
      "# def export_to_urbancanvas(building_df,current_year,urbancanvas_scenario_id):\n",
      "#     import pandas.io.sql as sql\n",
      "#     import psycopg2\n",
      "#     import cStringIO\n",
      "#     conn_string = \"host='paris.urbansim.org' dbname='denver' user='drcog' password='M0untains#' port=5433\"\n",
      "#     conn=psycopg2.connect(conn_string)\n",
      "#     cur = conn.cursor()\n",
      "    \n",
      "#     if urbancanvas_scenario_id == 0:\n",
      "#         query = \"select nextval('developmentproject_id_seq');\"\n",
      "#         nextval = sql.read_frame(query,conn)\n",
      "#         nextval = nextval.values[0][0]\n",
      "#         query = \"select max(id)+1 from scenario_project;\"\n",
      "#         id = sql.read_frame(query,conn)\n",
      "#         id = id.values[0][0]\n",
      "#         query = \"INSERT INTO scenario(id, name) VALUES(%s, 'Run #%s');\" % (nextval,nextval)\n",
      "#         cur.execute(query)\n",
      "#         conn.commit()\n",
      "#         query = \"INSERT INTO scenario_project(id, scenario, project) VALUES(%s, %s, 1);\" % (id,nextval)\n",
      "#         cur.execute(query)\n",
      "#         conn.commit()\n",
      "#         query = \"select max(id)+1 from scenario_project;\"\n",
      "#         id = sql.read_frame(query,conn)\n",
      "#         id = id.values[0][0]\n",
      "#         query = \"INSERT INTO scenario_project(id, scenario, project) VALUES(%s, %s, %s);\" % (id,nextval,nextval)\n",
      "#         cur.execute(query)\n",
      "#         conn.commit()\n",
      "#     else:\n",
      "#         nextval = urbancanvas_scenario_id\n",
      "#     nextval_string = '{' + str(nextval) + '}'\n",
      "#     building_df['projects'] = nextval_string\n",
      "    \n",
      "#     valid_from = '{' + str(current_year) + '-1-1}'\n",
      "#     building_df['valid_from'] = valid_from\n",
      "#     building_df['land_area'] = 0\n",
      "#     building_df['tax_exempt'] = 0\n",
      "#     building_df['srcparc_id'] = '0'\n",
      "#     building_df['building_id'] = building_df.index.values\n",
      "#     building_df['stories'] = 30 ###For testing!\n",
      "#     del building_df['unit_price_residential']\n",
      "#     del building_df['unit_price_non_residential']\n",
      "#     del building_df['building_sqft_per_job']\n",
      "#     del building_df['base_year_jobs']\n",
      "#     del building_df['non_residential_units']\n",
      "#     del building_df['all_units']\n",
      "    \n",
      "#     print 'Exporting %s buildings to Urbancanvas database for project %s and year %s.' % (building_df.index.size,nextval,current_year)\n",
      "#     output = cStringIO.StringIO()\n",
      "#     building_df.to_csv(output, sep='\\t', header=False, index=False)\n",
      "#     output.seek(0)\n",
      "#     cur.copy_from(output, 'building_footprints', columns =tuple(building_df.columns.values.tolist()))\n",
      "#     conn.commit()\n",
      "    \n",
      "#     return nextval\n",
      "\n",
      "# nv = export_to_urbancanvas(newbuildings, sim_year, urbancanvas_scenario_id)"
     ],
     "language": "python",
     "metadata": {},
     "outputs": [],
     "prompt_number": 7
    },
    {
     "cell_type": "code",
     "collapsed": false,
     "input": [
      "urbancanvas_scenario_id = 0\n",
      "from drcog.variables import urbancanvas_export\n",
      "nv = urbancanvas_export.export_to_urbancanvas(newbuildings, sim_year, urbancanvas_scenario_id)"
     ],
     "language": "python",
     "metadata": {},
     "outputs": [
      {
       "output_type": "stream",
       "stream": "stdout",
       "text": [
        "Exporting 10566 buildings to Urbancanvas database for project 160 and year 2011.\n"
       ]
      }
     ],
     "prompt_number": 8
    },
    {
     "cell_type": "code",
     "collapsed": false,
     "input": [
      "nv"
     ],
     "language": "python",
     "metadata": {},
     "outputs": [
      {
       "metadata": {},
       "output_type": "pyout",
       "prompt_number": 9,
       "text": [
        "160"
       ]
      }
     ],
     "prompt_number": 9
    }
   ],
   "metadata": {}
  }
 ]
}