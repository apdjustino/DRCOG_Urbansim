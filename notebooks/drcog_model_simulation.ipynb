{
 "metadata": {
  "name": ""
 },
 "nbformat": 3,
 "nbformat_minor": 0,
 "worksheets": [
  {
   "cells": [
    {
     "cell_type": "code",
     "collapsed": false,
     "input": [
      "import numpy as np, pandas as pd, os\n",
      "from synthicity.utils import misc\n",
      "from drcog.models import elcm_simulation, hlcm_simulation, regression_model_simulation, dataset\n",
      "dset = dataset.DRCOGDataset(os.path.join(misc.data_dir(),'drcog.h5'))"
     ],
     "language": "python",
     "metadata": {},
     "outputs": [],
     "prompt_number": 1
    },
    {
     "cell_type": "code",
     "collapsed": false,
     "input": [
      "p = dset.fetch('parcels')\n",
      "elcm_configuration = {'building_sqft_per_job_table':'building_sqft_per_job','scaling_factor':1.0}\n",
      "b = dset.fetch('buildings',building_sqft_per_job_table=elcm_configuration['building_sqft_per_job_table'],bsqft_job_scaling=elcm_configuration['scaling_factor'])\n",
      "b = b[['building_type_id','improvement_value','land_area','non_residential_sqft','parcel_id','residential_units','sqft_per_unit','stories','tax_exempt','year_built','bldg_sq_ft','unit_price_non_residential','unit_price_residential','building_sqft_per_job','non_residential_units','base_year_jobs','all_units']]\n",
      "z = dset.fetch('zones')\n",
      "pz = pd.merge(p.reset_index(),z,left_on='zone_id',right_index=True,how='left')\n",
      "pz = pz.set_index('parcel_id')\n",
      "bpz = pd.merge(b,pz,left_on='parcel_id',right_index=True)"
     ],
     "language": "python",
     "metadata": {},
     "outputs": [
      {
       "output_type": "stream",
       "stream": "stdout",
       "text": [
        "Fetching parcels\n",
        "Fetching modify_table"
       ]
      },
      {
       "output_type": "stream",
       "stream": "stdout",
       "text": [
        "\n",
        "Fetching buildings\n",
        "Fetching establishments"
       ]
      },
      {
       "output_type": "stream",
       "stream": "stdout",
       "text": [
        "\n",
        "Fetching modify_table"
       ]
      },
      {
       "output_type": "stream",
       "stream": "stdout",
       "text": [
        "\n",
        "Fetching modify_table"
       ]
      },
      {
       "output_type": "stream",
       "stream": "stdout",
       "text": [
        "\n",
        "Fetching zones"
       ]
      },
      {
       "output_type": "stream",
       "stream": "stdout",
       "text": [
        "\n",
        "Fetching modify_table\n"
       ]
      }
     ],
     "prompt_number": 2
    },
    {
     "cell_type": "code",
     "collapsed": false,
     "input": [
      "pz = pz.set_index('parcel_id')"
     ],
     "language": "python",
     "metadata": {},
     "outputs": [],
     "prompt_number": 6
    },
    {
     "cell_type": "code",
     "collapsed": false,
     "input": [
      "b"
     ],
     "language": "python",
     "metadata": {},
     "outputs": [
      {
       "html": [
        "<pre>\n",
        "&lt;class 'pandas.core.frame.DataFrame'&gt;\n",
        "Int64Index: 881751 entries, 55152 to 1015771\n",
        "Data columns (total 17 columns):\n",
        "building_type_id              881751  non-null values\n",
        "improvement_value             881751  non-null values\n",
        "land_area                     881751  non-null values\n",
        "non_residential_sqft          881751  non-null values\n",
        "parcel_id                     881751  non-null values\n",
        "residential_units             881751  non-null values\n",
        "sqft_per_unit                 881751  non-null values\n",
        "stories                       881751  non-null values\n",
        "tax_exempt                    881751  non-null values\n",
        "year_built                    881751  non-null values\n",
        "bldg_sq_ft                    881751  non-null values\n",
        "unit_price_non_residential    881751  non-null values\n",
        "unit_price_residential        881751  non-null values\n",
        "building_sqft_per_job         754153  non-null values\n",
        "non_residential_units         767676  non-null values\n",
        "base_year_jobs                104226  non-null values\n",
        "all_units                     767676  non-null values\n",
        "dtypes: float32(2), float64(4), int32(11)\n",
        "</pre>"
       ],
       "metadata": {},
       "output_type": "pyout",
       "prompt_number": 4,
       "text": [
        "<class 'pandas.core.frame.DataFrame'>\n",
        "Int64Index: 881751 entries, 55152 to 1015771\n",
        "Data columns (total 17 columns):\n",
        "building_type_id              881751  non-null values\n",
        "improvement_value             881751  non-null values\n",
        "land_area                     881751  non-null values\n",
        "non_residential_sqft          881751  non-null values\n",
        "parcel_id                     881751  non-null values\n",
        "residential_units             881751  non-null values\n",
        "sqft_per_unit                 881751  non-null values\n",
        "stories                       881751  non-null values\n",
        "tax_exempt                    881751  non-null values\n",
        "year_built                    881751  non-null values\n",
        "bldg_sq_ft                    881751  non-null values\n",
        "unit_price_non_residential    881751  non-null values\n",
        "unit_price_residential        881751  non-null values\n",
        "building_sqft_per_job         754153  non-null values\n",
        "non_residential_units         767676  non-null values\n",
        "base_year_jobs                104226  non-null values\n",
        "all_units                     767676  non-null values\n",
        "dtypes: float32(2), float64(4), int32(11)"
       ]
      }
     ],
     "prompt_number": 4
    },
    {
     "cell_type": "code",
     "collapsed": false,
     "input": [
      "bpz"
     ],
     "language": "python",
     "metadata": {},
     "outputs": [
      {
       "html": [
        "<pre>\n",
        "&lt;class 'pandas.core.frame.DataFrame'&gt;\n",
        "Int64Index: 881750 entries, 55152 to 1015771\n",
        "Data columns (total 71 columns):\n",
        "building_type_id              881750  non-null values\n",
        "improvement_value             881750  non-null values\n",
        "land_area                     881750  non-null values\n",
        "non_residential_sqft          881750  non-null values\n",
        "parcel_id                     881750  non-null values\n",
        "residential_units             881750  non-null values\n",
        "sqft_per_unit                 881750  non-null values\n",
        "stories                       881750  non-null values\n",
        "tax_exempt                    881750  non-null values\n",
        "year_built                    881750  non-null values\n",
        "bldg_sq_ft                    881750  non-null values\n",
        "unit_price_non_residential    881750  non-null values\n",
        "unit_price_residential        881750  non-null values\n",
        "building_sqft_per_job         754152  non-null values\n",
        "non_residential_units         767675  non-null values\n",
        "base_year_jobs                104226  non-null values\n",
        "all_units                     767675  non-null values\n",
        "index                         881750  non-null values\n",
        "county_id                     881750  non-null values\n",
        "parcel_sqft                   881750  non-null values\n",
        "land_value                    881750  non-null values\n",
        "zone_id                       881750  non-null values\n",
        "lu_type_id                    881750  non-null values\n",
        "centroid_x                    881750  non-null values\n",
        "centroid_y                    881750  non-null values\n",
        "tax_exempt_flag               881750  non-null values\n",
        "school_district               881750  non-null values\n",
        "zoning_id                     881750  non-null values\n",
        "dist_bus                      881750  non-null values\n",
        "dist_rail                     881750  non-null values\n",
        "in_ugb                        881750  non-null values\n",
        "in_uga                        881750  non-null values\n",
        "env_constr_park               881750  non-null values\n",
        "env_constr_lake               881750  non-null values\n",
        "env_constr_floodplain         881750  non-null values\n",
        "env_constr_river              881750  non-null values\n",
        "env_constr_landslide          881750  non-null values\n",
        "far_id                        881750  non-null values\n",
        "prop_constrained              881750  non-null values\n",
        "external_zone_id              881750  non-null values\n",
        "area                          881750  non-null values\n",
        "acreage                       881750  non-null values\n",
        "modelarea                     881750  non-null values\n",
        "area_type                     881750  non-null values\n",
        "zonecentroid_x                881750  non-null values\n",
        "zonecentroid_y                881750  non-null values\n",
        "county                        881750  non-null values\n",
        "numtransstops                 881750  non-null values\n",
        "averagedailyparkingcost       881750  non-null values\n",
        "intrdenshhbuffer              881750  non-null values\n",
        "intrdensempbuffer             881750  non-null values\n",
        "private_pk8enrollment         881750  non-null values\n",
        "public_pk8enrollment          881750  non-null values\n",
        "total_pk8enrollment           881750  non-null values\n",
        "private_912enrollment         881750  non-null values\n",
        "public_912enrollment          881750  non-null values\n",
        "total_912enrollment           881750  non-null values\n",
        "universityenrollment          881750  non-null values\n",
        "schooldistrictzone            881750  non-null values\n",
        "schooldistrictname            881750  non-null values\n",
        "newdistrictname               881750  non-null values\n",
        "newdistrictid                 881750  non-null values\n",
        "totalzonalenrollment          881750  non-null values\n",
        "escort_agglogsum              881750  non-null values\n",
        "persbus_agglogsum             881750  non-null values\n",
        "shop_agglogsum                881750  non-null values\n",
        "meal_agglogsum                881750  non-null values\n",
        "socrec_agglogsum              881750  non-null values\n",
        "workbasedsubtour_agglogsum    881750  non-null values\n",
        "allpurpose_agglosum           881750  non-null values\n",
        "school_district_id            881750  non-null values\n",
        "dtypes: float32(16), float64(11), int32(26), int64(15), object(3)\n",
        "</pre>"
       ],
       "metadata": {},
       "output_type": "pyout",
       "prompt_number": 3,
       "text": [
        "<class 'pandas.core.frame.DataFrame'>\n",
        "Int64Index: 881750 entries, 55152 to 1015771\n",
        "Data columns (total 71 columns):\n",
        "building_type_id              881750  non-null values\n",
        "improvement_value             881750  non-null values\n",
        "land_area                     881750  non-null values\n",
        "non_residential_sqft          881750  non-null values\n",
        "parcel_id                     881750  non-null values\n",
        "residential_units             881750  non-null values\n",
        "sqft_per_unit                 881750  non-null values\n",
        "stories                       881750  non-null values\n",
        "tax_exempt                    881750  non-null values\n",
        "year_built                    881750  non-null values\n",
        "bldg_sq_ft                    881750  non-null values\n",
        "unit_price_non_residential    881750  non-null values\n",
        "unit_price_residential        881750  non-null values\n",
        "building_sqft_per_job         754152  non-null values\n",
        "non_residential_units         767675  non-null values\n",
        "base_year_jobs                104226  non-null values\n",
        "all_units                     767675  non-null values\n",
        "index                         881750  non-null values\n",
        "county_id                     881750  non-null values\n",
        "parcel_sqft                   881750  non-null values\n",
        "land_value                    881750  non-null values\n",
        "zone_id                       881750  non-null values\n",
        "lu_type_id                    881750  non-null values\n",
        "centroid_x                    881750  non-null values\n",
        "centroid_y                    881750  non-null values\n",
        "tax_exempt_flag               881750  non-null values\n",
        "school_district               881750  non-null values\n",
        "zoning_id                     881750  non-null values\n",
        "dist_bus                      881750  non-null values\n",
        "dist_rail                     881750  non-null values\n",
        "in_ugb                        881750  non-null values\n",
        "in_uga                        881750  non-null values\n",
        "env_constr_park               881750  non-null values\n",
        "env_constr_lake               881750  non-null values\n",
        "env_constr_floodplain         881750  non-null values\n",
        "env_constr_river              881750  non-null values\n",
        "env_constr_landslide          881750  non-null values\n",
        "far_id                        881750  non-null values\n",
        "prop_constrained              881750  non-null values\n",
        "external_zone_id              881750  non-null values\n",
        "area                          881750  non-null values\n",
        "acreage                       881750  non-null values\n",
        "modelarea                     881750  non-null values\n",
        "area_type                     881750  non-null values\n",
        "zonecentroid_x                881750  non-null values\n",
        "zonecentroid_y                881750  non-null values\n",
        "county                        881750  non-null values\n",
        "numtransstops                 881750  non-null values\n",
        "averagedailyparkingcost       881750  non-null values\n",
        "intrdenshhbuffer              881750  non-null values\n",
        "intrdensempbuffer             881750  non-null values\n",
        "private_pk8enrollment         881750  non-null values\n",
        "public_pk8enrollment          881750  non-null values\n",
        "total_pk8enrollment           881750  non-null values\n",
        "private_912enrollment         881750  non-null values\n",
        "public_912enrollment          881750  non-null values\n",
        "total_912enrollment           881750  non-null values\n",
        "universityenrollment          881750  non-null values\n",
        "schooldistrictzone            881750  non-null values\n",
        "schooldistrictname            881750  non-null values\n",
        "newdistrictname               881750  non-null values\n",
        "newdistrictid                 881750  non-null values\n",
        "totalzonalenrollment          881750  non-null values\n",
        "escort_agglogsum              881750  non-null values\n",
        "persbus_agglogsum             881750  non-null values\n",
        "shop_agglogsum                881750  non-null values\n",
        "meal_agglogsum                881750  non-null values\n",
        "socrec_agglogsum              881750  non-null values\n",
        "workbasedsubtour_agglogsum    881750  non-null values\n",
        "allpurpose_agglosum           881750  non-null values\n",
        "school_district_id            881750  non-null values\n",
        "dtypes: float32(16), float64(11), int32(26), int64(15), object(3)"
       ]
      }
     ],
     "prompt_number": 3
    },
    {
     "cell_type": "code",
     "collapsed": false,
     "input": [
      "import numpy as np, pandas as pd, os\n",
      "from synthicity.utils import misc\n",
      "from drcog.models import elcm_simulation, hlcm_simulation, regression_model_simulation, dataset\n",
      "dset = dataset.DRCOGDataset(os.path.join(misc.data_dir(),'drcog.h5'))\n",
      "np.random.seed(1)\n",
      "\n",
      "#Variable Library\n",
      "from drcog.variables import variable_library\n",
      "variable_library.calculate_variables(dset)\n",
      "\n",
      "establishments = dset.establishments\n",
      "households = dset.households\n",
      "households_for_estimation = dset.households_for_estimation\n",
      "buildings = dset.buildings\n",
      "\n",
      "sim_year = 2011\n",
      "\n",
      "coeff_store_path = os.path.join(misc.data_dir(),'coeffs.h5')\n",
      "coeff_store = pd.HDFStore(coeff_store_path)\n",
      "dset.coeffs = coeff_store.coeffs.copy()\n",
      "coeff_store.close()\n",
      "\n",
      "hh_zone1 = dset.fetch('households').groupby('zone_id').size()\n",
      "emp_zone1 = dset.fetch('establishments').groupby('zone_id').employees.sum()"
     ],
     "language": "python",
     "metadata": {},
     "outputs": [
      {
       "output_type": "stream",
       "stream": "stdout",
       "text": [
        "Fetching parcels\n",
        "Fetching modify_table"
       ]
      },
      {
       "output_type": "stream",
       "stream": "stdout",
       "text": [
        "\n",
        "Fetching buildings"
       ]
      },
      {
       "output_type": "stream",
       "stream": "stdout",
       "text": [
        "\n",
        "Fetching establishments"
       ]
      },
      {
       "output_type": "stream",
       "stream": "stdout",
       "text": [
        "\n",
        "Fetching modify_table"
       ]
      },
      {
       "output_type": "stream",
       "stream": "stdout",
       "text": [
        "\n",
        "Fetching modify_table"
       ]
      },
      {
       "output_type": "stream",
       "stream": "stdout",
       "text": [
        "\n",
        "Fetching households_for_estimation"
       ]
      },
      {
       "output_type": "stream",
       "stream": "stdout",
       "text": [
        "\n",
        "Fetching modify_table\n",
        "Fetching households\n",
        "Fetching modify_table\n",
        "Fetching zones"
       ]
      },
      {
       "output_type": "stream",
       "stream": "stdout",
       "text": [
        "\n",
        "Fetching modify_table\n",
        "Fetching travel_data"
       ]
      },
      {
       "output_type": "stream",
       "stream": "stdout",
       "text": [
        "\n",
        "Fetching modify_table"
       ]
      },
      {
       "output_type": "stream",
       "stream": "stdout",
       "text": [
        "\n"
       ]
      }
     ],
     "prompt_number": 1
    },
    {
     "cell_type": "code",
     "collapsed": false,
     "input": [
      "buildings.head()"
     ],
     "language": "python",
     "metadata": {},
     "outputs": [
      {
       "html": [
        "<pre>\n",
        "&lt;class 'pandas.core.frame.DataFrame'&gt;\n",
        "Int64Index: 5 entries, 55152 to 920048\n",
        "Columns: 148 entries, parcel_id to residential_units_capacity\n",
        "dtypes: float32(20), float64(62), int32(47), int64(16), object(3)\n",
        "</pre>"
       ],
       "metadata": {},
       "output_type": "pyout",
       "prompt_number": 12,
       "text": [
        "<class 'pandas.core.frame.DataFrame'>\n",
        "Int64Index: 5 entries, 55152 to 920048\n",
        "Columns: 148 entries, parcel_id to residential_units_capacity\n",
        "dtypes: float32(20), float64(62), int32(47), int64(16), object(3)"
       ]
      }
     ],
     "prompt_number": 12
    },
    {
     "cell_type": "code",
     "collapsed": false,
     "input": [
      "dset.store.buildings[['residential_units',]]"
     ],
     "language": "python",
     "metadata": {},
     "outputs": [
      {
       "html": [
        "<pre>\n",
        "&lt;class 'pandas.core.frame.DataFrame'&gt;\n",
        "Int64Index: 881751 entries, 55152 to 1015771\n",
        "Data columns (total 1 columns):\n",
        "residential_units    881751  non-null values\n",
        "dtypes: int32(1)\n",
        "</pre>"
       ],
       "metadata": {},
       "output_type": "pyout",
       "prompt_number": 4,
       "text": [
        "<class 'pandas.core.frame.DataFrame'>\n",
        "Int64Index: 881751 entries, 55152 to 1015771\n",
        "Data columns (total 1 columns):\n",
        "residential_units    881751  non-null values\n",
        "dtypes: int32(1)"
       ]
      }
     ],
     "prompt_number": 4
    },
    {
     "cell_type": "code",
     "collapsed": false,
     "input": [
      "e = establishments.reset_index()\n",
      "bids = []\n",
      "eids = []\n",
      "hbs = []\n",
      "sids = []\n",
      "for idx in e.index:\n",
      "    for job in range(e.employees[idx]):\n",
      "        bids.append(e.building_id[idx])\n",
      "        eids.append(e.index[idx])\n",
      "        hbs.append(e.home_based_status[idx])\n",
      "        sids.append(e.sector_id[idx])\n",
      "print len(bids)\n",
      "print len(eids)\n",
      "print len(hbs)\n",
      "print len(sids)\n",
      "jobs = pd.DataFrame({'tempid':range(1,len(bids)+1),'building_id':bids,'establishment_id':eids,'home_based_status':hbs,'sector_id':sids})"
     ],
     "language": "python",
     "metadata": {},
     "outputs": [
      {
       "output_type": "stream",
       "stream": "stdout",
       "text": [
        "1606882\n",
        "1606882\n",
        "1606882\n",
        "1606882\n"
       ]
      }
     ],
     "prompt_number": 2
    },
    {
     "cell_type": "code",
     "collapsed": false,
     "input": [
      "jobs"
     ],
     "language": "python",
     "metadata": {},
     "outputs": [
      {
       "html": [
        "<pre>\n",
        "&lt;class 'pandas.core.frame.DataFrame'&gt;\n",
        "Int64Index: 1606882 entries, 0 to 1606881\n",
        "Data columns (total 5 columns):\n",
        "building_id          1606882  non-null values\n",
        "establishment_id     1606882  non-null values\n",
        "home_based_status    1606882  non-null values\n",
        "sector_id            1606882  non-null values\n",
        "tempid               1606882  non-null values\n",
        "dtypes: int64(5)\n",
        "</pre>"
       ],
       "metadata": {},
       "output_type": "pyout",
       "prompt_number": 3,
       "text": [
        "<class 'pandas.core.frame.DataFrame'>\n",
        "Int64Index: 1606882 entries, 0 to 1606881\n",
        "Data columns (total 5 columns):\n",
        "building_id          1606882  non-null values\n",
        "establishment_id     1606882  non-null values\n",
        "home_based_status    1606882  non-null values\n",
        "sector_id            1606882  non-null values\n",
        "tempid               1606882  non-null values\n",
        "dtypes: int64(5)"
       ]
      }
     ],
     "prompt_number": 3
    },
    {
     "cell_type": "code",
     "collapsed": false,
     "input": [
      "buildings[['residential_units','centroid_x','centroid_y','external_zone_id']]"
     ],
     "language": "python",
     "metadata": {},
     "outputs": [
      {
       "html": [
        "<pre>\n",
        "&lt;class 'pandas.core.frame.DataFrame'&gt;\n",
        "Int64Index: 754153 entries, 55152 to 1015771\n",
        "Data columns (total 4 columns):\n",
        "residential_units    754153  non-null values\n",
        "centroid_x           754153  non-null values\n",
        "centroid_y           754153  non-null values\n",
        "external_zone_id     754153  non-null values\n",
        "dtypes: int32(2), int64(2)\n",
        "</pre>"
       ],
       "metadata": {},
       "output_type": "pyout",
       "prompt_number": 4,
       "text": [
        "<class 'pandas.core.frame.DataFrame'>\n",
        "Int64Index: 754153 entries, 55152 to 1015771\n",
        "Data columns (total 4 columns):\n",
        "residential_units    754153  non-null values\n",
        "centroid_x           754153  non-null values\n",
        "centroid_y           754153  non-null values\n",
        "external_zone_id     754153  non-null values\n",
        "dtypes: int32(2), int64(2)"
       ]
      }
     ],
     "prompt_number": 4
    },
    {
     "cell_type": "code",
     "collapsed": false,
     "input": [
      "np.unique(buildings.external_zone_id)"
     ],
     "language": "python",
     "metadata": {},
     "outputs": [
      {
       "metadata": {},
       "output_type": "pyout",
       "prompt_number": 5,
       "text": [
        "building_id\n",
        "12617          101010\n",
        "13011          101020\n",
        "12491          101030\n",
        "117777         101040\n",
        "17617          101050\n",
        "2589           101060\n",
        "2103           101070\n",
        "35744          101080\n",
        "18842          101090\n",
        "12033          101100\n",
        "20053          101110\n",
        "21339          101120\n",
        "27209          101130\n",
        "13294          102010\n",
        "13726          102020\n",
        "...\n",
        "516621         802480\n",
        "610774         802490\n",
        "566786         802501\n",
        "553868         802502\n",
        "608588         802510\n",
        "513063         802520\n",
        "557639         802530\n",
        "570779         802540\n",
        "564022         802550\n",
        "62597          803050\n",
        "55589          803060\n",
        "43937          803080\n",
        "103466         803090\n",
        "120567         803100\n",
        "20747          803110\n",
        "Name: external_zone_id, Length: 2681, dtype: int32"
       ]
      }
     ],
     "prompt_number": 5
    },
    {
     "cell_type": "code",
     "collapsed": false,
     "input": [
      "jobs['x'] = buildings.centroid_x[jobs.building_id].values\n",
      "jobs['y'] = buildings.centroid_y[jobs.building_id].values\n",
      "jobs['taz05_id'] = buildings.external_zone_id[jobs.building_id].values\n",
      "jobs['sector_id_six'] = 1*(jobs.sector_id==61) + 2*(jobs.sector_id==71) + 3*np.in1d(jobs.sector_id,[11,21,22,23,31,32,33,42,48,49]) + 4*np.in1d(jobs.sector_id,[7221,7222,7224]) + 5*np.in1d(jobs.sector_id,[44,45,7211,7212,7213,7223]) + 6*np.in1d(jobs.sector_id,[51,52,53,54,55,56,62,81,92])\n",
      "jobs['jobtypename'] = ''\n",
      "jobs.jobtypename[jobs.sector_id_six==1] = 'Education'\n",
      "jobs.jobtypename[jobs.sector_id_six==2] = 'Entertainment'\n",
      "jobs.jobtypename[jobs.sector_id_six==3] = 'Production'\n",
      "jobs.jobtypename[jobs.sector_id_six==4] = 'Restaurant'\n",
      "jobs.jobtypename[jobs.sector_id_six==5] = 'Retail'\n",
      "jobs.jobtypename[jobs.sector_id_six==6] = 'Service'\n",
      "jobs['urbancenter_id'] = 0"
     ],
     "language": "python",
     "metadata": {},
     "outputs": [],
     "prompt_number": 13
    },
    {
     "cell_type": "code",
     "collapsed": false,
     "input": [
      "np.unique(dset.zones['external_zone_id'].values)"
     ],
     "language": "python",
     "metadata": {},
     "outputs": [
      {
       "metadata": {},
       "output_type": "pyout",
       "prompt_number": 5,
       "text": [
        "array([101010, 101020, 101030, ..., 803100, 803110, 803120])"
       ]
      }
     ],
     "prompt_number": 5
    },
    {
     "cell_type": "code",
     "collapsed": false,
     "input": [
      "jobs.tail()"
     ],
     "language": "python",
     "metadata": {},
     "outputs": [
      {
       "html": [
        "<div style=\"max-height:1000px;max-width:1500px;overflow:auto;\">\n",
        "<table border=\"1\" class=\"dataframe\">\n",
        "  <thead>\n",
        "    <tr style=\"text-align: right;\">\n",
        "      <th></th>\n",
        "      <th>building_id</th>\n",
        "      <th>establishment_id</th>\n",
        "      <th>home_based_status</th>\n",
        "      <th>sector_id</th>\n",
        "      <th>tempid</th>\n",
        "      <th>x</th>\n",
        "      <th>y</th>\n",
        "      <th>taz05_id</th>\n",
        "      <th>sector_id_six</th>\n",
        "      <th>jobtypename</th>\n",
        "      <th>urbancenter_id</th>\n",
        "    </tr>\n",
        "  </thead>\n",
        "  <tbody>\n",
        "    <tr>\n",
        "      <th>1606877</th>\n",
        "      <td> 367318</td>\n",
        "      <td> 202188</td>\n",
        "      <td> 1</td>\n",
        "      <td> 81</td>\n",
        "      <td> 1606878</td>\n",
        "      <td> 3075432</td>\n",
        "      <td> 1244915</td>\n",
        "      <td> 107080</td>\n",
        "      <td> 6</td>\n",
        "      <td>    Service</td>\n",
        "      <td> 0</td>\n",
        "    </tr>\n",
        "    <tr>\n",
        "      <th>1606878</th>\n",
        "      <td> 256128</td>\n",
        "      <td> 202189</td>\n",
        "      <td> 1</td>\n",
        "      <td> 23</td>\n",
        "      <td> 1606879</td>\n",
        "      <td> 3132919</td>\n",
        "      <td> 1655657</td>\n",
        "      <td> 508250</td>\n",
        "      <td> 3</td>\n",
        "      <td> Production</td>\n",
        "      <td> 0</td>\n",
        "    </tr>\n",
        "    <tr>\n",
        "      <th>1606879</th>\n",
        "      <td> 399735</td>\n",
        "      <td> 202190</td>\n",
        "      <td> 1</td>\n",
        "      <td> 52</td>\n",
        "      <td> 1606880</td>\n",
        "      <td> 3003022</td>\n",
        "      <td> 1240716</td>\n",
        "      <td> 101110</td>\n",
        "      <td> 6</td>\n",
        "      <td>    Service</td>\n",
        "      <td> 0</td>\n",
        "    </tr>\n",
        "    <tr>\n",
        "      <th>1606880</th>\n",
        "      <td> 871464</td>\n",
        "      <td> 202191</td>\n",
        "      <td> 1</td>\n",
        "      <td> 54</td>\n",
        "      <td> 1606881</td>\n",
        "      <td> 3037898</td>\n",
        "      <td> 1750666</td>\n",
        "      <td> 201010</td>\n",
        "      <td> 6</td>\n",
        "      <td>    Service</td>\n",
        "      <td> 0</td>\n",
        "    </tr>\n",
        "    <tr>\n",
        "      <th>1606881</th>\n",
        "      <td> 524578</td>\n",
        "      <td> 202192</td>\n",
        "      <td> 1</td>\n",
        "      <td> 54</td>\n",
        "      <td> 1606882</td>\n",
        "      <td> 3127188</td>\n",
        "      <td> 1667861</td>\n",
        "      <td> 408220</td>\n",
        "      <td> 6</td>\n",
        "      <td>    Service</td>\n",
        "      <td> 0</td>\n",
        "    </tr>\n",
        "  </tbody>\n",
        "</table>\n",
        "</div>"
       ],
       "metadata": {},
       "output_type": "pyout",
       "prompt_number": 14,
       "text": [
        "         building_id  establishment_id  home_based_status  sector_id   tempid  \\\n",
        "1606877       367318            202188                  1         81  1606878   \n",
        "1606878       256128            202189                  1         23  1606879   \n",
        "1606879       399735            202190                  1         52  1606880   \n",
        "1606880       871464            202191                  1         54  1606881   \n",
        "1606881       524578            202192                  1         54  1606882   \n",
        "\n",
        "               x        y  taz05_id  sector_id_six jobtypename  urbancenter_id  \n",
        "1606877  3075432  1244915    107080              6     Service               0  \n",
        "1606878  3132919  1655657    508250              3  Production               0  \n",
        "1606879  3003022  1240716    101110              6     Service               0  \n",
        "1606880  3037898  1750666    201010              6     Service               0  \n",
        "1606881  3127188  1667861    408220              6     Service               0  "
       ]
      }
     ],
     "prompt_number": 14
    },
    {
     "cell_type": "code",
     "collapsed": false,
     "input": [
      "jobs[jobs.building_id==-1]"
     ],
     "language": "python",
     "metadata": {},
     "outputs": [
      {
       "html": [
        "<pre>\n",
        "&lt;class 'pandas.core.frame.DataFrame'&gt;\n",
        "Int64Index: 1849 entries, 1564619 to 1606861\n",
        "Data columns (total 8 columns):\n",
        "building_id          1849  non-null values\n",
        "establishment_id     1849  non-null values\n",
        "home_based_status    1849  non-null values\n",
        "sector_id            1849  non-null values\n",
        "tempid               1849  non-null values\n",
        "x                    0  non-null values\n",
        "y                    0  non-null values\n",
        "taz05_id             0  non-null values\n",
        "dtypes: float64(3), int64(5)\n",
        "</pre>"
       ],
       "metadata": {},
       "output_type": "pyout",
       "prompt_number": 10,
       "text": [
        "<class 'pandas.core.frame.DataFrame'>\n",
        "Int64Index: 1849 entries, 1564619 to 1606861\n",
        "Data columns (total 8 columns):\n",
        "building_id          1849  non-null values\n",
        "establishment_id     1849  non-null values\n",
        "home_based_status    1849  non-null values\n",
        "sector_id            1849  non-null values\n",
        "tempid               1849  non-null values\n",
        "x                    0  non-null values\n",
        "y                    0  non-null values\n",
        "taz05_id             0  non-null values\n",
        "dtypes: float64(3), int64(5)"
       ]
      }
     ],
     "prompt_number": 10
    },
    {
     "cell_type": "code",
     "collapsed": false,
     "input": [
      "establishments[establishments.building_id==-1]"
     ],
     "language": "python",
     "metadata": {},
     "outputs": [
      {
       "html": [
        "<pre>\n",
        "&lt;class 'pandas.core.frame.DataFrame'&gt;\n",
        "Int64Index: 1849 entries, 406861368 to 416085617\n",
        "Data columns (total 11 columns):\n",
        "building_id             1849  non-null values\n",
        "home_based_status       1849  non-null values\n",
        "infogroup_id            1849  non-null values\n",
        "qcew_id                 1849  non-null values\n",
        "sector_id               1849  non-null values\n",
        "employees               1849  non-null values\n",
        "zone_id                 0  non-null values\n",
        "county_id               0  non-null values\n",
        "sector_id_six           1849  non-null values\n",
        "sector_id_retail_agg    1849  non-null values\n",
        "nonres_sqft             0  non-null values\n",
        "dtypes: float64(3), int32(7), object(1)\n",
        "</pre>"
       ],
       "metadata": {},
       "output_type": "pyout",
       "prompt_number": 32,
       "text": [
        "<class 'pandas.core.frame.DataFrame'>\n",
        "Int64Index: 1849 entries, 406861368 to 416085617\n",
        "Data columns (total 11 columns):\n",
        "building_id             1849  non-null values\n",
        "home_based_status       1849  non-null values\n",
        "infogroup_id            1849  non-null values\n",
        "qcew_id                 1849  non-null values\n",
        "sector_id               1849  non-null values\n",
        "employees               1849  non-null values\n",
        "zone_id                 0  non-null values\n",
        "county_id               0  non-null values\n",
        "sector_id_six           1849  non-null values\n",
        "sector_id_retail_agg    1849  non-null values\n",
        "nonres_sqft             0  non-null values\n",
        "dtypes: float64(3), int32(7), object(1)"
       ]
      }
     ],
     "prompt_number": 32
    },
    {
     "cell_type": "code",
     "collapsed": false,
     "input": [
      "alternatives = buildings[(buildings.residential_units>0)]\n",
      "\n",
      "hlcm_simulation.simulate(dset, year=sim_year,\n",
      "                         depvar = 'building_id',alternatives=alternatives,simulation_table = 'households',output_names = (\"drcog-coeff-hlcm-%s.csv\",\"DRCOG HOUSEHOLD LOCATION CHOICE MODELS (%s)\",\"hh_location_%s\",\"household_building_ids\"),\n",
      "                         agents_groupby= ['income_3_tenure',],\n",
      "                         transition_config = {'Enabled':True,'control_totals_table':'annual_household_control_totals','scaling_factor':1.0},\n",
      "                         relocation_config = {'Enabled':True,'relocation_rates_table':'annual_household_relocation_rates','scaling_factor':1.0},\n",
      "                         )"
     ],
     "language": "python",
     "metadata": {},
     "outputs": [
      {
       "output_type": "stream",
       "stream": "stdout",
       "text": [
        "Fetching annual_household_control_totals\n",
        "Fetching modify_table\n",
        "total_number_of_households    23538\n",
        "persons                       45227\n",
        "dtype: int32\n",
        "Adding agents to match target of 68765 \n",
        "Histogram of agents by year:\n"
       ]
      },
      {
       "output_type": "stream",
       "stream": "stdout",
       "text": [
        "2011    23538\n",
        "dtype: int64\n",
        "Histogram of relocation rates:"
       ]
      },
      {
       "output_type": "stream",
       "stream": "stdout",
       "text": [
        "\n",
        "0.00148    156891\n",
        "0.00000    151587\n",
        "0.00309    128645\n",
        "0.00274    126702\n",
        "0.00145    113687\n",
        "0.00311     75448\n",
        "0.00183     64158\n",
        "0.00348     59075\n",
        "0.00540     55346\n",
        "0.00184     49096\n",
        "0.00110     39096\n",
        "0.00220     30741\n",
        "0.00402     26679\n",
        "0.00099     19702\n",
        "0.00130     17099\n",
        "0.00124     16598\n",
        "0.00199     12906\n",
        "0.00111     12166\n",
        "0.00132     12111\n",
        "0.00117      9626\n",
        "0.00222      6566\n",
        "dtype: int64"
       ]
      },
      {
       "output_type": "stream",
       "stream": "stdout",
       "text": [
        "\n",
        "2448 agents are moving\n",
        "Total new agents and movers = 25947"
       ]
      },
      {
       "output_type": "stream",
       "stream": "stdout",
       "text": [
        "\n",
        "Assigning units to 6208 agents of segment 1"
       ]
      },
      {
       "output_type": "stream",
       "stream": "stdout",
       "text": [
        "\n",
        "Assigning units to 7307 agents of segment 2\n",
        "Assigning units to 4900 agents of segment 3\n",
        "Assigning units to 3803 agents of segment 4\n",
        "Assigning units to 3729 agents of segment 5\n",
        "Assigned 25947 agents to 13344 locations with 0 unplaced"
       ]
      },
      {
       "output_type": "stream",
       "stream": "stdout",
       "text": [
        "\n"
       ]
      }
     ],
     "prompt_number": 2
    },
    {
     "cell_type": "code",
     "collapsed": false,
     "input": [
      "alternatives = buildings[(buildings.non_residential_sqft>0)]\n",
      "\n",
      "elcm_simulation.simulate(dset, year=sim_year, \n",
      "                         depvar = 'building_id',alternatives=alternatives,simulation_table = 'establishments',output_names = (\"drcog-coeff-elcm-%s.csv\",\"DRCOG EMPLOYMENT LOCATION CHOICE MODELS (%s)\",\"emp_location_%s\",\"establishment_building_ids\"),\n",
      "                         agents_groupby= ['sector_id_retail_agg',],\n",
      "                         transition_config = {'Enabled':True,'control_totals_table':'annual_employment_control_totals','scaling_factor':1.0})"
     ],
     "language": "python",
     "metadata": {},
     "outputs": [
      {
       "output_type": "stream",
       "stream": "stdout",
       "text": [
        "Fetching annual_employment_control_totals\n",
        "Fetching modify_table\n",
        "                                 total_number_of_jobs\n",
        "sector_id_six home_based_status                      \n",
        "1             1                                  7276\n",
        "2             1                                 23908\n",
        "3             1                                  5197\n",
        "4             1                                 10395\n",
        "5             1                                 13513\n",
        "6             1                                 62368\n",
        "1             0                                 95218\n",
        "2             0                                312859\n",
        "3             0                                 68013\n",
        "4             0                                136026\n",
        "5             0                                176833\n",
        "6             0                                816154\n",
        "Adding agents to match target of 1727760 \n",
        "action\n",
        "6680\n",
        "action"
       ]
      },
      {
       "output_type": "stream",
       "stream": "stdout",
       "text": [
        "\n",
        "23031\n",
        "action\n",
        "-10467\n",
        "action"
       ]
      },
      {
       "output_type": "stream",
       "stream": "stdout",
       "text": [
        "\n",
        "10306\n",
        "action\n",
        "10690\n",
        "action"
       ]
      },
      {
       "output_type": "stream",
       "stream": "stdout",
       "text": [
        "\n",
        "34805\n",
        "action"
       ]
      },
      {
       "output_type": "stream",
       "stream": "stdout",
       "text": [
        "\n",
        "-16660\n",
        "action"
       ]
      },
      {
       "output_type": "stream",
       "stream": "stdout",
       "text": [
        "\n",
        "280118\n",
        "action"
       ]
      },
      {
       "output_type": "stream",
       "stream": "stdout",
       "text": [
        "\n",
        "-271403\n",
        "action"
       ]
      },
      {
       "output_type": "stream",
       "stream": "stdout",
       "text": [
        "\n",
        "10785\n",
        "action\n",
        "-15220\n",
        "action"
       ]
      },
      {
       "output_type": "stream",
       "stream": "stdout",
       "text": [
        "\n",
        "58213\n",
        "Histogram of agents by year:\n"
       ]
      },
      {
       "output_type": "stream",
       "stream": "stdout",
       "text": [
        "2011    106692\n",
        "dtype: int64\n",
        "Total new agents and movers = 108209\n",
        "Assigning units to 23 agents of segment 11"
       ]
      },
      {
       "output_type": "stream",
       "stream": "stdout",
       "text": [
        "\n",
        "Assigning units to 239 agents of segment 23\n",
        "Assigning units to 3 agents of segment 31\n",
        "Assigning units to 2 agents of segment 33\n",
        "Assigning units to 10 agents of segment 42\n",
        "Assigning units to 5445 agents of segment 44\n",
        "Assigning units to 4937 agents of segment 45"
       ]
      },
      {
       "output_type": "stream",
       "stream": "stdout",
       "text": [
        "\n",
        "Assigning units to 55 agents of segment 48\n",
        "Assigning units to 3 agents of segment 49\n",
        "Assigning units to 1064 agents of segment 51\n",
        "Assigning units to 4134 agents of segment 52"
       ]
      },
      {
       "output_type": "stream",
       "stream": "stdout",
       "text": [
        "\n",
        "Assigning units to 5522 agents of segment 53"
       ]
      },
      {
       "output_type": "stream",
       "stream": "stdout",
       "text": [
        "\n",
        "Assigning units to 16194 agents of segment 54"
       ]
      },
      {
       "output_type": "stream",
       "stream": "stdout",
       "text": [
        "\n",
        "Assigning units to 189 agents of segment 55"
       ]
      },
      {
       "output_type": "stream",
       "stream": "stdout",
       "text": [
        "\n",
        "Assigning units to 5727 agents of segment 56"
       ]
      },
      {
       "output_type": "stream",
       "stream": "stdout",
       "text": [
        "\n",
        "Assigning units to 6699 agents of segment 61"
       ]
      },
      {
       "output_type": "stream",
       "stream": "stdout",
       "text": [
        "\n",
        "Assigning units to 2672 agents of segment 62\n",
        "Assigning units to 37769 agents of segment 71"
       ]
      },
      {
       "output_type": "stream",
       "stream": "stdout",
       "text": [
        "\n",
        "WARNING: not enough options to fit agents, will result in unplaced agents"
       ]
      },
      {
       "output_type": "stream",
       "stream": "stdout",
       "text": [
        "\n",
        "Assigning units to 6095 agents of segment 81\n",
        "Assigning units to 43 agents of segment 92"
       ]
      },
      {
       "output_type": "stream",
       "stream": "stdout",
       "text": [
        "\n",
        "WARNING: not enough options to fit agents, will result in unplaced agents\n",
        "WARNING: not enough options to fit agents, will result in unplaced agents\n",
        "Assigning units to 203 agents of segment 7211"
       ]
      },
      {
       "output_type": "stream",
       "stream": "stdout",
       "text": [
        "\n",
        "Assigning units to 3134 agents of segment 7221\n",
        "Assigning units to 3220 agents of segment 7222"
       ]
      },
      {
       "output_type": "stream",
       "stream": "stdout",
       "text": [
        "\n",
        "Assigning units to 204 agents of segment 7223"
       ]
      },
      {
       "output_type": "stream",
       "stream": "stdout",
       "text": [
        "\n",
        "Assigning units to 4623 agents of segment 7224\n",
        "Assigned 108209 agents to 25015 locations with 25416 unplaced"
       ]
      },
      {
       "output_type": "stream",
       "stream": "stdout",
       "text": [
        "\n"
       ]
      }
     ],
     "prompt_number": 3
    },
    {
     "cell_type": "code",
     "collapsed": false,
     "input": [
      "regression_model_simulation.simulate(dset, year=sim_year, output_varname='unit_price_residential',\n",
      "                                     simulation_table='buildings', output_names = [\"drcog-coeff-reshedonic-%s.csv\",\"DRCOG RESHEDONIC MODEL (%s)\",\"resprice_%s\"],\n",
      "                                     agents_groupby = 'building_type_id', segment_ids = [2,3,20,24])"
     ],
     "language": "python",
     "metadata": {},
     "outputs": [
      {
       "output_type": "stream",
       "stream": "stdout",
       "text": [
        "Generating rents on 24111 buildings\n",
        "Generating rents on 14447 buildings\n",
        "Generating rents on 740753 buildings"
       ]
      },
      {
       "output_type": "stream",
       "stream": "stdout",
       "text": [
        "\n",
        "Generating rents on 31263 buildings"
       ]
      },
      {
       "output_type": "stream",
       "stream": "stdout",
       "text": [
        "\n"
       ]
      }
     ],
     "prompt_number": 4
    },
    {
     "cell_type": "code",
     "collapsed": false,
     "input": [
      "regression_model_simulation.simulate(dset, year=sim_year, \n",
      "                                     output_varname='unit_price_non_residential', simulation_table='buildings', output_names = [\"drcog-coeff-nrhedonic-%s.csv\",\"DRCOG NRHEDONIC MODEL (%s)\",\"nrprice_%s\"],\n",
      "                                     agents_groupby = 'building_type_id', segment_ids = [5,8,11,16,17,18,21,23,9,22])"
     ],
     "language": "python",
     "metadata": {},
     "outputs": [
      {
       "output_type": "stream",
       "stream": "stdout",
       "text": [
        "Generating rents on 7211 buildings\n",
        "Generating rents on 845 buildings\n",
        "Generating rents on 2736 buildings\n",
        "Generating rents on 1029 buildings\n",
        "Generating rents on 1808 buildings\n",
        "Generating rents on 2394 buildings\n",
        "Generating rents on 11837 buildings\n",
        "Generating rents on 1280 buildings"
       ]
      },
      {
       "output_type": "stream",
       "stream": "stdout",
       "text": [
        "\n",
        "Generating rents on 11726 buildings\n",
        "Generating rents on 790 buildings\n"
       ]
      }
     ],
     "prompt_number": 5
    },
    {
     "cell_type": "code",
     "collapsed": false,
     "input": [
      "developer_configuration = {\n",
      "                           'enforce_environmental_constraints':True,\n",
      "                           'enforce_allowable_use_constraints':True,\n",
      "                           'enforce_ugb':False,\n",
      "                           'outside_ugb_allowable_density':1.0,\n",
      "                           'uga_policies':False,\n",
      "                           'inside_uga_allowable_density':1.0,\n",
      "                           'max_allowable_far_field_name':'far',\n",
      "                           'land_property_acquisition_cost_factor':1.0,\n",
      "                           'profit_factor':1.0,\n",
      "                           'min_building_sqft':400,\n",
      "                           'min_lot_sqft':500,\n",
      "                           'zonal_levers':True\n",
      "                           }\n",
      "\n",
      "from urbandeveloper import proforma_developer_model\n",
      "buildings, newbuildings = proforma_developer_model.run(dset,hh_zone1,emp_zone1,developer_configuration,sim_year)\n",
      "dset.d['buildings'] = pd.concat([buildings,newbuildings])"
     ],
     "language": "python",
     "metadata": {},
     "outputs": [
      {
       "output_type": "stream",
       "stream": "stdout",
       "text": [
        "industrial Fri Apr 11 17:30:14 2014\n",
        "residential"
       ]
      },
      {
       "output_type": "stream",
       "stream": "stdout",
       "text": [
        " Fri Apr 11 17:30:18 2014\n",
        "retail"
       ]
      },
      {
       "output_type": "stream",
       "stream": "stdout",
       "text": [
        " Fri Apr 11 17:30:21 2014\n",
        "office"
       ]
      },
      {
       "output_type": "stream",
       "stream": "stdout",
       "text": [
        " Fri Apr 11 17:30:25 2014\n",
        "Fetching zoning"
       ]
      },
      {
       "output_type": "stream",
       "stream": "stdout",
       "text": [
        "\n",
        "Fetching modify_table\n",
        "Fetching fars\n",
        "Fetching modify_table\n",
        "2"
       ]
      },
      {
       "output_type": "stream",
       "stream": "stdout",
       "text": [
        " 294.689887129\n",
        "3 "
       ]
      },
      {
       "output_type": "stream",
       "stream": "stdout",
       "text": [
        "294.689887129\n",
        "5 "
       ]
      },
      {
       "output_type": "stream",
       "stream": "stdout",
       "text": [
        "111.465344077\n",
        "9 "
       ]
      },
      {
       "output_type": "stream",
       "stream": "stdout",
       "text": [
        "27.8990690346\n",
        "17 "
       ]
      },
      {
       "output_type": "stream",
       "stream": "stdout",
       "text": [
        "89.2201291344\n",
        "18 "
       ]
      },
      {
       "output_type": "stream",
       "stream": "stdout",
       "text": [
        "89.2201291344\n",
        "20 "
       ]
      },
      {
       "output_type": "stream",
       "stream": "stdout",
       "text": [
        "288.672116156\n",
        "22 "
       ]
      },
      {
       "output_type": "stream",
       "stream": "stdout",
       "text": [
        "31.784575281\n",
        "24 "
       ]
      },
      {
       "output_type": "stream",
       "stream": "stdout",
       "text": [
        "294.666027128\n",
        "2335 new buildings for btyp 3"
       ]
      },
      {
       "output_type": "stream",
       "stream": "stdout",
       "text": [
        "\n",
        "2491 new buildings for btyp 2"
       ]
      },
      {
       "output_type": "stream",
       "stream": "stdout",
       "text": [
        "\n",
        "2561 new buildings for btyp 24"
       ]
      },
      {
       "output_type": "stream",
       "stream": "stdout",
       "text": [
        "\n",
        "2458 new buildings for btyp 20"
       ]
      },
      {
       "output_type": "stream",
       "stream": "stdout",
       "text": [
        "\n",
        "306 new buildings for btyp 5"
       ]
      },
      {
       "output_type": "stream",
       "stream": "stdout",
       "text": [
        "\n",
        "310 new buildings for btyp 17"
       ]
      },
      {
       "output_type": "stream",
       "stream": "stdout",
       "text": [
        "\n",
        "228 new buildings for btyp 18"
       ]
      },
      {
       "output_type": "stream",
       "stream": "stdout",
       "text": [
        "\n",
        "122 new buildings for btyp 9"
       ]
      },
      {
       "output_type": "stream",
       "stream": "stdout",
       "text": [
        "\n",
        "103 new buildings for btyp 22"
       ]
      },
      {
       "output_type": "stream",
       "stream": "stdout",
       "text": [
        "\n",
        "       building_type_id  building_sqft   lot_size  residential_units  \\\n",
        "count          10566.00       10566.00   10566.00           10566.00   \n",
        "mean              12.60        3275.62   22177.25               1.78   \n",
        "std                9.61        8049.87   35870.86               3.41   \n",
        "min                2.00         400.00     513.00               0.00   \n",
        "25%                3.00         623.03    6225.25               1.00   \n",
        "50%               17.00         835.80    8249.50               1.00   \n",
        "75%               20.00        1752.60   15459.50               1.00   \n",
        "max               24.00      146882.19  199818.00              90.00   \n",
        "\n",
        "       net_residential_units  \n",
        "count               10566.00  \n",
        "mean                   -0.54  \n",
        "std                     9.87  \n",
        "min                  -216.00  \n",
        "25%                     0.00  \n",
        "50%                     0.00  \n",
        "75%                     1.00  \n",
        "max                    90.00  "
       ]
      },
      {
       "output_type": "stream",
       "stream": "stdout",
       "text": [
        "\n",
        "building_type_id\n",
        "2                   5203096.33\n",
        "3                   6297830.38\n",
        "5                   4739535.87\n",
        "9                   1567143.18\n",
        "17                  3915675.79\n",
        "18                  2255506.63\n",
        "20                  4318938.28\n",
        "22                  1437377.25\n",
        "24                  4875112.35\n",
        "Name: building_sqft, dtype: float64\n",
        "building_type_id\n",
        "2                   4733\n",
        "3                   5354\n",
        "5                      0\n",
        "9                      0\n",
        "17                     0\n",
        "18                     0\n",
        "20                  4141\n",
        "22                     0\n",
        "24                  4535\n",
        "Name: residential_units, dtype: float64\n",
        "Applying price shifts\n"
       ]
      }
     ],
     "prompt_number": 6
    },
    {
     "cell_type": "code",
     "collapsed": false,
     "input": [
      "# sim_year = 2015\n",
      "# urbancanvas_scenario_id = 0\n",
      "\n",
      "# def export_to_urbancanvas(building_df,current_year,urbancanvas_scenario_id):\n",
      "#     import pandas.io.sql as sql\n",
      "#     import psycopg2\n",
      "#     import cStringIO\n",
      "#     conn_string = \"host='paris.urbansim.org' dbname='denver' user='drcog' password='M0untains#' port=5433\"\n",
      "#     conn=psycopg2.connect(conn_string)\n",
      "#     cur = conn.cursor()\n",
      "    \n",
      "#     if urbancanvas_scenario_id == 0:\n",
      "#         query = \"select nextval('developmentproject_id_seq');\"\n",
      "#         nextval = sql.read_frame(query,conn)\n",
      "#         nextval = nextval.values[0][0]\n",
      "#         query = \"select max(id)+1 from scenario_project;\"\n",
      "#         id = sql.read_frame(query,conn)\n",
      "#         id = id.values[0][0]\n",
      "#         query = \"INSERT INTO scenario(id, name) VALUES(%s, 'Run #%s');\" % (nextval,nextval)\n",
      "#         cur.execute(query)\n",
      "#         conn.commit()\n",
      "#         query = \"INSERT INTO scenario_project(id, scenario, project) VALUES(%s, %s, 1);\" % (id,nextval)\n",
      "#         cur.execute(query)\n",
      "#         conn.commit()\n",
      "#         query = \"select max(id)+1 from scenario_project;\"\n",
      "#         id = sql.read_frame(query,conn)\n",
      "#         id = id.values[0][0]\n",
      "#         query = \"INSERT INTO scenario_project(id, scenario, project) VALUES(%s, %s, %s);\" % (id,nextval,nextval)\n",
      "#         cur.execute(query)\n",
      "#         conn.commit()\n",
      "#     else:\n",
      "#         nextval = urbancanvas_scenario_id\n",
      "#     nextval_string = '{' + str(nextval) + '}'\n",
      "#     building_df['projects'] = nextval_string\n",
      "    \n",
      "#     valid_from = '{' + str(current_year) + '-1-1}'\n",
      "#     building_df['valid_from'] = valid_from\n",
      "#     building_df['land_area'] = 0\n",
      "#     building_df['tax_exempt'] = 0\n",
      "#     building_df['srcparc_id'] = '0'\n",
      "#     building_df['building_id'] = building_df.index.values\n",
      "#     building_df['stories'] = 30 ###For testing!\n",
      "#     del building_df['unit_price_residential']\n",
      "#     del building_df['unit_price_non_residential']\n",
      "#     del building_df['building_sqft_per_job']\n",
      "#     del building_df['base_year_jobs']\n",
      "#     del building_df['non_residential_units']\n",
      "#     del building_df['all_units']\n",
      "    \n",
      "#     print 'Exporting %s buildings to Urbancanvas database for project %s and year %s.' % (building_df.index.size,nextval,current_year)\n",
      "#     output = cStringIO.StringIO()\n",
      "#     building_df.to_csv(output, sep='\\t', header=False, index=False)\n",
      "#     output.seek(0)\n",
      "#     cur.copy_from(output, 'building_footprints', columns =tuple(building_df.columns.values.tolist()))\n",
      "#     conn.commit()\n",
      "    \n",
      "#     return nextval\n",
      "\n",
      "# nv = export_to_urbancanvas(newbuildings, sim_year, urbancanvas_scenario_id)"
     ],
     "language": "python",
     "metadata": {},
     "outputs": [],
     "prompt_number": 7
    },
    {
     "cell_type": "code",
     "collapsed": false,
     "input": [
      "urbancanvas_scenario_id = 0\n",
      "from drcog.variables import urbancanvas_export\n",
      "nv = urbancanvas_export.export_to_urbancanvas(newbuildings, sim_year, urbancanvas_scenario_id)"
     ],
     "language": "python",
     "metadata": {},
     "outputs": [
      {
       "output_type": "stream",
       "stream": "stdout",
       "text": [
        "Exporting 10566 buildings to Urbancanvas database for project 160 and year 2011.\n"
       ]
      }
     ],
     "prompt_number": 8
    },
    {
     "cell_type": "code",
     "collapsed": false,
     "input": [
      "nv"
     ],
     "language": "python",
     "metadata": {},
     "outputs": [
      {
       "metadata": {},
       "output_type": "pyout",
       "prompt_number": 9,
       "text": [
        "160"
       ]
      }
     ],
     "prompt_number": 9
    }
   ],
   "metadata": {}
  }
 ]
}