{
 "metadata": {
  "name": ""
 },
 "nbformat": 3,
 "nbformat_minor": 0,
 "worksheets": [
  {
   "cells": [
    {
     "cell_type": "code",
     "collapsed": false,
     "input": [
      "import pandas as pd, numpy as np\n",
      "import psycopg2\n",
      "import pandas.io.sql as sql\n",
      "conn_string = \"host='paris.urbansim.org' port=5433 dbname='denver' user='urbancanvas' password='Visua1ization'\"\n",
      "conn = psycopg2.connect(conn_string)\n",
      "cur = conn.cursor()\n",
      "hh = sql.read_frame('select * from synthetic_hh',conn)\n",
      "persons = sql.read_frame('select * from synthetic_persons',conn)"
     ],
     "language": "python",
     "metadata": {},
     "outputs": [],
     "prompt_number": 1
    },
    {
     "cell_type": "code",
     "collapsed": false,
     "input": [
      "pums_hh = sql.read_frame('select * from pums_hh',conn)\n",
      "pums_p = sql.read_frame('select * from pums_person',conn)\n",
      "pums_hh = pums_hh.set_index('serialno')\n",
      "pums_p = pums_p.set_index('serialno')\n",
      "pums_hh = pums_hh[(pums_hh.type==1)*(pums_hh.np>0)]"
     ],
     "language": "python",
     "metadata": {},
     "outputs": [],
     "prompt_number": 2
    },
    {
     "cell_type": "code",
     "collapsed": false,
     "input": [
      "pums_p['age'] = pums_p.agep\n",
      "pums_p['relate'] = pums_p.relp\n",
      "pums_p['esr_recode'] = 0*(pums_p.esr.isin([-99,6])) + 1*(pums_p.esr.isin([1,4])) + 2*(pums_p.esr.isin([2,5])) + 3*(pums_p.esr==3)\n",
      "pums_p['grade'] = pums_p.schg*(pums_p.schg>0) + 0*(pums_p.schg==-99)\n",
      "pums_p['pnum'] = pums_p.sporder\n",
      "pums_p['paug'] = 0\n",
      "pums_p['ddp'] = 0\n",
      "pums_p['sex'] = pums_p.sex\n",
      "pums_p['weeks'] = 0*(pums_p.wkw==-99) + 7*(pums_p.wkw==6) + 20*(pums_p.wkw==5) + 33*(pums_p.wkw==4) + 44*(pums_p.wkw==3) + 49*(pums_p.wkw==2) + 52*(pums_p.wkw==1)\n",
      "pums_p['hours'] = pums_p.wkhp*(pums_p.wkhp>0) + 0*(pums_p.wkhp==-99)\n",
      "pums_p['race1'] = pums_p.rac1p\n",
      "pums_p['hispan'] = pums_p.hisp\n",
      "pums_p['msp'] = pums_p.msp ##Get rid of -99's in the whole dataframe at end\n",
      "pums_p['poverty'] = pums_p.povpip\n",
      "pums_hh.adjinc = pums_hh.adjinc*.000001\n",
      "pums_p['inc_adjustment'] = pums_hh.adjinc[pums_p.index.values].values\n",
      "pums_p['earns'] = pums_p.pernp*pums_p.inc_adjustment \n",
      "\n",
      "pums_p['indnaics'] = pums_p.indp07\n",
      "pums_p['pemploy'] = 1*(pums_p.wkhp>=25) + 2*(pums_p.wkhp<25)*(pums_p.wkhp>0) + 3*(pums_p.wkhp<1)\n",
      "pums_p['pstudent'] = 1*(pums_p.schg<=5)*(pums_p.schg>0) + 2*(pums_p.schg>5) + 3*(pums_p.schg==-99)\n",
      "pums_p['padkid'] = 1*(pums_p.agep>=18)*(pums_p.agep<=24)*(pums_p.relp.isin([1,2,4,5]))\n",
      "pums_p.padkid[pums_p.padkid==0] = 2\n",
      "pums_p['pagecat'] = 0*(pums_p.agep<=5) + 1*(pums_p.agep>=6)*(pums_p.agep<=11) + 2*(pums_p.agep>=12)*(pums_p.agep<=15) + 3*(pums_p.agep>=16)*(pums_p.agep<=17) \\\n",
      "                    + 4*(pums_p.agep>=18)*(pums_p.agep<=24) + 5*(pums_p.agep>=25)*(pums_p.agep<=34) + 6*(pums_p.agep>=35)*(pums_p.agep<=49) \\\n",
      "                    + 7*(pums_p.agep>=50)*(pums_p.agep<=64) + 8*(pums_p.agep>=65)*(pums_p.agep<=79) + 9*(pums_p.agep>=80)\n",
      "pums_p['ptype'] = 1*(pums_p.agep>=16)*(pums_p.wkhp>=25)*(pums_p.schg==-99) + 2*(pums_p.agep>=16)*(pums_p.wkhp>0)*(pums_p.wkhp<25)*(pums_p.schg==-99) + 3*(pums_p.schg>5) \\\n",
      "                  + 4*(pums_p.schg==-99)*(pums_p.wkhp==-99)*(pums_p.agep>=16)*(pums_p.agep<=64) + 5*(pums_p.schg==-99)*(pums_p.wkhp==-99)*(pums_p.agep>=65) \\\n",
      "                  + 6*(pums_p.schg<6)*(pums_p.wkhp<25)*(pums_p.agep>=16)*(pums_p.agep<=19) + 7*(pums_p.agep>=6)*(pums_p.agep<=15) + 8*(pums_p.agep<=5)  \n",
      "        ##The categories are not mutually exclusive, I need better bin defintion\n",
      "        \n",
      "joined = pd.merge(pums_p, pums_hh, left_index=True, right_index=True)\n",
      "joined['serialno'] = joined.index.values\n",
      "joined['is_worker'] = np.in1d(joined.esr,[1,2,3,4,5]).astype('int32')\n",
      "\n",
      "num_children = joined[joined.agep<18].groupby('serialno').size()\n",
      "num_adults = joined[joined.agep>=18].groupby('serialno').size()\n",
      "num_workers = joined.groupby('serialno').is_worker.sum()\n",
      "\n",
      "pums_hh['age_of_head'] = joined[joined.relp==0].agep\n",
      "pums_hh['children'] = num_children\n",
      "\n",
      "pums_hh['hhagecat'] = 1*(pums_hh.age_of_head<65) + 2*(pums_hh.age_of_head>=65)\n",
      "pums_hh['hhagecat3'] = 1*(pums_hh.age_of_head<45) + 2*(pums_hh.age_of_head>=45)*(pums_hh.age_of_head<65) + 3*(pums_hh.age_of_head>=65)\n",
      "\n",
      "pums_hh['hhsizecat'] = pums_hh.np*(pums_hh.np<=5) + 5*(pums_hh.np>5)\n",
      "pums_hh['hhsizecat6'] = pums_hh.np*(pums_hh.np<=6) + 6*(pums_hh.np>6)\n",
      "pums_hh['hfamily'] = 1*(pums_hh.hht>3) + 2*(pums_hh.hht<=3)\n",
      "pums_hh['hunittype'] = 0\n",
      "pums_hh['hnoccat'] = 0*(pums_hh.noc==0) + 1*(pums_hh.noc>0)\n",
      "pums_hh['hnccat6'] = num_children*(num_children<5) + 5*(num_children>=5)\n",
      "pums_hh['hnacat6'] =  num_adults*(num_adults<5) + 5*(num_adults>=5)\n",
      "pums_hh['hwrkrcat'] = num_workers*(num_workers<3) + 3*(num_workers>=3)\n",
      "pums_hh['hwrkrcat5'] = num_workers*(num_workers<4) + 4*(num_workers>=4)\n",
      "pums_hh['h0005'] = joined[joined.agep<=5].groupby('serialno').size()\n",
      "pums_hh['h0611'] = joined[(joined.agep>=6)*(joined.agep<=11)].groupby('serialno').size()\n",
      "pums_hh['h1215'] = joined[(joined.agep>=12)*(joined.agep<=15)].groupby('serialno').size()\n",
      "pums_hh['h1617'] = joined[(joined.agep>=16)*(joined.agep<=17)].groupby('serialno').size()\n",
      "pums_hh['h1824'] = joined[(joined.agep>=18)*(joined.agep<=24)].groupby('serialno').size()\n",
      "pums_hh['h2534'] = joined[(joined.agep>=25)*(joined.agep<=34)].groupby('serialno').size()\n",
      "pums_hh['h3549'] = joined[(joined.agep>=35)*(joined.agep<=49)].groupby('serialno').size()\n",
      "pums_hh['h5064'] = joined[(joined.agep>=50)*(joined.agep<=64)].groupby('serialno').size()\n",
      "pums_hh['h6579'] = joined[(joined.agep>=65)*(joined.agep<=79)].groupby('serialno').size()\n",
      "pums_hh['h80up'] = joined[(joined.agep>=80)].groupby('serialno').size()\n",
      "pums_hh['hworkers'] = num_workers\n",
      "pums_hh['hwork_f'] = joined[joined.ptype==1].groupby('serialno').size()\n",
      "pums_hh['hwork_p'] = joined[joined.ptype==2].groupby('serialno').size()\n",
      "pums_hh['huniv'] = joined[joined.ptype==3].groupby('serialno').size()\n",
      "pums_hh['hnwork'] = joined[joined.ptype==4].groupby('serialno').size()\n",
      "pums_hh['hretire'] = joined[joined.ptype==5].groupby('serialno').size()\n",
      "pums_hh['hpresch'] = joined[joined.ptype==8].groupby('serialno').size()\n",
      "pums_hh['hschpred'] = joined[joined.ptype==7].groupby('serialno').size()\n",
      "pums_hh['hschdriv'] = joined[joined.ptype==6].groupby('serialno').size()\n",
      "pums_hh['hadnwst'] = joined[(joined.agep>=16)*(joined.wkhp==-99)*(joined.schg>0)].groupby('serialno').size()\n",
      "pums_hh['hadwpst'] = joined[(joined.agep>=16)*(joined.wkhp>0)*(joined.schg>0)].groupby('serialno').size()\n",
      "pums_hh['hadkids'] = joined[(joined.agep>=18)*(joined.relp==2)].groupby('serialno').size()\n",
      "\n",
      "pums_hh['puma5'] = pums_hh.puma  ##Needs to be updated by urbansim!!\n",
      "pums_hh['hinc'] = pums_hh.hincp*pums_hh.adjinc ##consider putting in terms of 1999 dollars.\n",
      "pums_hh['persons'] = pums_hh.np\n",
      "pums_hh.hht[pums_hh.hht==-99] = 0\n",
      "pums_hh['unittype'] = pums_hh.type - 1\n",
      "pums_hh['hinccat1'] = 1*(pums_hh.hinc<20000) + 2*(pums_hh.hinc>=20000)*(pums_hh.hinc<50000) + 3*(pums_hh.hinc>=50000)*(pums_hh.hinc<100000) + 4*(pums_hh.hinc>=100000)\n",
      "pums_hh['hinccat2'] = 1*(pums_hh.hinc<10000) + 2*(pums_hh.hinc>=10000)*(pums_hh.hinc<20000) + 3*(pums_hh.hinc>=20000)*(pums_hh.hinc<30000) + \\\n",
      "                      4*(pums_hh.hinc>=30000)*(pums_hh.hinc<40000) + 5*(pums_hh.hinc>=40000)*(pums_hh.hinc<50000) + 6*(pums_hh.hinc>=50000)*(pums_hh.hinc<60000) + \\\n",
      "                      7*(pums_hh.hinc>=60000)*(pums_hh.hinc<75000) + 8*(pums_hh.hinc>=75000)*(pums_hh.hinc<100000) +  9*(pums_hh.hinc>=100000)\n",
      "pums_hh['hownrent'] = 1*(pums_hh.ten<3) + 2*(pums_hh.ten>2)\n",
      "pums_hh['bucketBin'] = 0\n",
      "pums_hh['originalpuma'] = pums_hh.puma"
     ],
     "language": "python",
     "metadata": {},
     "outputs": [],
     "prompt_number": 3
    },
    {
     "cell_type": "code",
     "collapsed": false,
     "input": [
      "households = pd.merge(hh, pums_hh, left_on='serialno',right_index=True)\n",
      "households_urbansim = households[['age_of_head','veh','children','hinc','persons','hownrent','hworkers','serialno','taz','household_id']]\n",
      "households_urbansim = households_urbansim.rename(columns={'veh':'cars','hinc':'income','hownrent':'tenure','hworkers':'workers'})\n",
      "households_urbansim = households_urbansim.fillna(0).set_index('household_id')\n",
      "households_urbansim.children = households_urbansim.children.astype('int32')\n",
      "households_urbansim['building_id'] = -1\n",
      "households_urbansim.tail(10)"
     ],
     "language": "python",
     "metadata": {},
     "outputs": [
      {
       "html": [
        "<div style=\"max-height:1000px;max-width:1500px;overflow:auto;\">\n",
        "<table border=\"1\" class=\"dataframe\">\n",
        "  <thead>\n",
        "    <tr style=\"text-align: right;\">\n",
        "      <th></th>\n",
        "      <th>age_of_head</th>\n",
        "      <th>cars</th>\n",
        "      <th>children</th>\n",
        "      <th>income</th>\n",
        "      <th>persons</th>\n",
        "      <th>tenure</th>\n",
        "      <th>workers</th>\n",
        "      <th>serialno</th>\n",
        "      <th>taz</th>\n",
        "      <th>building_id</th>\n",
        "    </tr>\n",
        "    <tr>\n",
        "      <th>household_id</th>\n",
        "      <th></th>\n",
        "      <th></th>\n",
        "      <th></th>\n",
        "      <th></th>\n",
        "      <th></th>\n",
        "      <th></th>\n",
        "      <th></th>\n",
        "      <th></th>\n",
        "      <th></th>\n",
        "      <th></th>\n",
        "    </tr>\n",
        "  </thead>\n",
        "  <tbody>\n",
        "    <tr>\n",
        "      <th>1160501</th>\n",
        "      <td> 41</td>\n",
        "      <td> 4</td>\n",
        "      <td> 3</td>\n",
        "      <td> 103940.70000</td>\n",
        "      <td> 6</td>\n",
        "      <td> 1</td>\n",
        "      <td> 1</td>\n",
        "      <td> 2010000177763</td>\n",
        "      <td> 705140</td>\n",
        "      <td>-1</td>\n",
        "    </tr>\n",
        "    <tr>\n",
        "      <th>1160521</th>\n",
        "      <td> 49</td>\n",
        "      <td> 3</td>\n",
        "      <td> 2</td>\n",
        "      <td> 280639.89000</td>\n",
        "      <td> 4</td>\n",
        "      <td> 1</td>\n",
        "      <td> 2</td>\n",
        "      <td> 2010000864482</td>\n",
        "      <td> 705140</td>\n",
        "      <td>-1</td>\n",
        "    </tr>\n",
        "    <tr>\n",
        "      <th>1160658</th>\n",
        "      <td> 45</td>\n",
        "      <td> 4</td>\n",
        "      <td> 0</td>\n",
        "      <td>  91467.81600</td>\n",
        "      <td> 2</td>\n",
        "      <td> 1</td>\n",
        "      <td> 2</td>\n",
        "      <td> 2010000780607</td>\n",
        "      <td> 704120</td>\n",
        "      <td>-1</td>\n",
        "    </tr>\n",
        "    <tr>\n",
        "      <th>1160661</th>\n",
        "      <td> 57</td>\n",
        "      <td> 3</td>\n",
        "      <td> 0</td>\n",
        "      <td>  96664.85100</td>\n",
        "      <td> 3</td>\n",
        "      <td> 1</td>\n",
        "      <td> 3</td>\n",
        "      <td> 2010001352055</td>\n",
        "      <td> 704120</td>\n",
        "      <td>-1</td>\n",
        "    </tr>\n",
        "    <tr>\n",
        "      <th>1160703</th>\n",
        "      <td> 56</td>\n",
        "      <td> 4</td>\n",
        "      <td> 2</td>\n",
        "      <td>  76593.67200</td>\n",
        "      <td> 5</td>\n",
        "      <td> 1</td>\n",
        "      <td> 2</td>\n",
        "      <td> 2008001020632</td>\n",
        "      <td> 802410</td>\n",
        "      <td>-1</td>\n",
        "    </tr>\n",
        "    <tr>\n",
        "      <th>1160732</th>\n",
        "      <td> 55</td>\n",
        "      <td> 3</td>\n",
        "      <td> 0</td>\n",
        "      <td>  86625.31543</td>\n",
        "      <td> 3</td>\n",
        "      <td> 1</td>\n",
        "      <td> 3</td>\n",
        "      <td> 2008000278740</td>\n",
        "      <td> 802410</td>\n",
        "      <td>-1</td>\n",
        "    </tr>\n",
        "    <tr>\n",
        "      <th>1160772</th>\n",
        "      <td> 46</td>\n",
        "      <td> 5</td>\n",
        "      <td> 2</td>\n",
        "      <td>  87873.85310</td>\n",
        "      <td> 6</td>\n",
        "      <td> 1</td>\n",
        "      <td> 4</td>\n",
        "      <td> 2011001493720</td>\n",
        "      <td> 802410</td>\n",
        "      <td>-1</td>\n",
        "    </tr>\n",
        "    <tr>\n",
        "      <th>1160812</th>\n",
        "      <td> 52</td>\n",
        "      <td> 3</td>\n",
        "      <td> 2</td>\n",
        "      <td> 156165.98680</td>\n",
        "      <td> 5</td>\n",
        "      <td> 1</td>\n",
        "      <td> 3</td>\n",
        "      <td> 2008000762007</td>\n",
        "      <td> 802410</td>\n",
        "      <td>-1</td>\n",
        "    </tr>\n",
        "    <tr>\n",
        "      <th>1160815</th>\n",
        "      <td> 37</td>\n",
        "      <td> 4</td>\n",
        "      <td> 2</td>\n",
        "      <td> 234078.77204</td>\n",
        "      <td> 4</td>\n",
        "      <td> 1</td>\n",
        "      <td> 2</td>\n",
        "      <td> 2008000944489</td>\n",
        "      <td> 802410</td>\n",
        "      <td>-1</td>\n",
        "    </tr>\n",
        "    <tr>\n",
        "      <th>1160869</th>\n",
        "      <td> 55</td>\n",
        "      <td> 3</td>\n",
        "      <td> 0</td>\n",
        "      <td> 117097.25500</td>\n",
        "      <td> 3</td>\n",
        "      <td> 1</td>\n",
        "      <td> 2</td>\n",
        "      <td> 2011000854428</td>\n",
        "      <td> 802410</td>\n",
        "      <td>-1</td>\n",
        "    </tr>\n",
        "  </tbody>\n",
        "</table>\n",
        "</div>"
       ],
       "metadata": {},
       "output_type": "pyout",
       "prompt_number": 4,
       "text": [
        "              age_of_head  cars  children        income  persons  tenure  \\\n",
        "household_id                                                               \n",
        "1160501                41     4         3  103940.70000        6       1   \n",
        "1160521                49     3         2  280639.89000        4       1   \n",
        "1160658                45     4         0   91467.81600        2       1   \n",
        "1160661                57     3         0   96664.85100        3       1   \n",
        "1160703                56     4         2   76593.67200        5       1   \n",
        "1160732                55     3         0   86625.31543        3       1   \n",
        "1160772                46     5         2   87873.85310        6       1   \n",
        "1160812                52     3         2  156165.98680        5       1   \n",
        "1160815                37     4         2  234078.77204        4       1   \n",
        "1160869                55     3         0  117097.25500        3       1   \n",
        "\n",
        "              workers       serialno     taz  building_id  \n",
        "household_id                                               \n",
        "1160501             1  2010000177763  705140           -1  \n",
        "1160521             2  2010000864482  705140           -1  \n",
        "1160658             2  2010000780607  704120           -1  \n",
        "1160661             3  2010001352055  704120           -1  \n",
        "1160703             2  2008001020632  802410           -1  \n",
        "1160732             3  2008000278740  802410           -1  \n",
        "1160772             4  2011001493720  802410           -1  \n",
        "1160812             3  2008000762007  802410           -1  \n",
        "1160815             2  2008000944489  802410           -1  \n",
        "1160869             2  2011000854428  802410           -1  "
       ]
      }
     ],
     "prompt_number": 4
    },
    {
     "cell_type": "code",
     "collapsed": false,
     "input": [
      "import os\n",
      "from synthicity.utils import misc\n",
      "from drcog.models import dataset\n",
      "dset = dataset.DRCOGDataset(os.path.join(misc.data_dir(),'drcog.h5'))\n",
      "p = dset.parcels.set_index('parcel_id')\n",
      "z = dset.zones\n",
      "p['taz'] = z.external_zone_id[p.zone_id].values\n",
      "b = dset.buildings\n",
      "h = dset.households\n",
      "hb = pd.merge(h,b,left_on='building_id',right_index=True)\n",
      "hbp = pd.merge(hb,p,left_on='parcel_id',right_index=True)\n",
      "bp = pd.merge(b,p,left_on='parcel_id',right_index=True)\n",
      "taz_hh_counts = hbp.groupby('taz').size()"
     ],
     "language": "python",
     "metadata": {},
     "outputs": [
      {
       "output_type": "stream",
       "stream": "stdout",
       "text": [
        "Fetching parcels\n",
        "Fetching modify_table"
       ]
      },
      {
       "output_type": "stream",
       "stream": "stdout",
       "text": [
        "\n",
        "Fetching zones"
       ]
      },
      {
       "output_type": "stream",
       "stream": "stdout",
       "text": [
        "\n",
        "Fetching modify_table\n",
        "Fetching buildings\n",
        "Fetching establishments"
       ]
      },
      {
       "output_type": "stream",
       "stream": "stdout",
       "text": [
        "\n",
        "Fetching modify_table"
       ]
      },
      {
       "output_type": "stream",
       "stream": "stdout",
       "text": [
        "\n",
        "Fetching modify_table"
       ]
      },
      {
       "output_type": "stream",
       "stream": "stdout",
       "text": [
        "\n",
        "Fetching households\n",
        "Fetching modify_table\n"
       ]
      }
     ],
     "prompt_number": 5
    },
    {
     "cell_type": "code",
     "collapsed": false,
     "input": [
      "# previous_totals = hbp.groupby('taz').size()\n",
      "# current_totals = households.groupby('taz').size()\n",
      "# missing_zones = list(set(hbp.groupby('taz').size().index.values) - set(households.groupby('taz').size().index.values))\n",
      "# previous_totals[np.in1d(previous_totals.index.values,missing_zones)]\n",
      "# previous_totals[np.in1d(current_totals.index.values,missing_zones)]\n",
      "# a = pd.DataFrame({'previous':previous_totals,'current':current_totals})"
     ],
     "language": "python",
     "metadata": {},
     "outputs": [],
     "prompt_number": 6
    },
    {
     "cell_type": "code",
     "collapsed": false,
     "input": [
      "empty_units = dset.buildings[(dset.buildings.residential_units>0)].residential_units\n",
      "empty_units = empty_units[empty_units>0].order(ascending=False)\n",
      "alternatives = bp[['building_type_id','parcel_id','unit_price_residential','taz']]\n",
      "alternatives = alternatives.ix[np.repeat(empty_units.index,empty_units.values.astype('int'))]"
     ],
     "language": "python",
     "metadata": {},
     "outputs": [],
     "prompt_number": 7
    },
    {
     "cell_type": "code",
     "collapsed": false,
     "input": [
      "def unit_choice(chooser_ids, alternative_ids, probabilities):\n",
      "    \"\"\"\n",
      "    Have a set of choosers choose from among alternatives according\n",
      "    to a probability distribution. Choice is binary: each\n",
      "    alternative can only be chosen once.\n",
      "\n",
      "    Parameters\n",
      "    ----------\n",
      "    chooser_ids : 1d array_like\n",
      "        Array of IDs of the agents that are making choices.\n",
      "    alternative_ids : 1d array_like\n",
      "        Array of IDs of alternatives among which agents are making choices.\n",
      "    probabilities : 1d array_like\n",
      "        The probability that an agent will choose an alternative.\n",
      "        Must be the same shape as `alternative_ids`. Unavailable\n",
      "        alternatives should have a probability of 0.\n",
      "\n",
      "    Returns\n",
      "    -------\n",
      "    choices : pandas.Series\n",
      "        Mapping of chooser ID to alternative ID. Some choosers\n",
      "        will map to a nan value when there are not enough alternatives\n",
      "        for all the choosers.\n",
      "\n",
      "    \"\"\"\n",
      "    chooser_ids = np.asanyarray(chooser_ids)\n",
      "    alternative_ids = np.asanyarray(alternative_ids)\n",
      "    probabilities = np.asanyarray(probabilities)\n",
      "\n",
      "    choices = pd.Series([np.nan] * len(chooser_ids), index=chooser_ids)\n",
      "\n",
      "    if probabilities.sum() == 0:\n",
      "        # return all nan if there are no available units\n",
      "        return choices\n",
      "\n",
      "    # probabilities need to sum to 1 for np.random.choice\n",
      "    probabilities = probabilities / probabilities.sum()\n",
      "\n",
      "    # need to see if there are as many available alternatives as choosers\n",
      "    n_available = np.count_nonzero(probabilities)\n",
      "    n_choosers = len(chooser_ids)\n",
      "    n_to_choose = n_choosers if n_choosers < n_available else n_available\n",
      "\n",
      "    chosen = np.random.choice(\n",
      "        alternative_ids, size=n_to_choose, replace=False, p=probabilities)\n",
      "\n",
      "    # if there are fewer available units than choosers we need to pick\n",
      "    # which choosers get a unit\n",
      "    if n_to_choose == n_available:\n",
      "        chooser_ids = np.random.choice(\n",
      "            chooser_ids, size=n_to_choose, replace=False)\n",
      "\n",
      "    choices[chooser_ids] = chosen\n",
      "\n",
      "    return choices"
     ],
     "language": "python",
     "metadata": {},
     "outputs": [],
     "prompt_number": 8
    },
    {
     "cell_type": "code",
     "collapsed": false,
     "input": [
      "for taz in np.unique(households_urbansim.taz):\n",
      "    num_hh = taz_hh_counts[taz_hh_counts.index.values==taz].values[0]\n",
      "    chooser_ids = households_urbansim.index.values[households_urbansim.taz==taz]\n",
      "    print 'There are %s households in TAZ %s' % (num_hh, taz)\n",
      "    alts = alternatives[alternatives.taz==taz]\n",
      "    alternative_ids = alts.index.values\n",
      "    probabilities = np.ones(len(alternative_ids))\n",
      "    num_resunits = len(alts)\n",
      "    print 'There are %s residential units in TAZ %s' % (num_resunits, taz)\n",
      "    choices = unit_choice(chooser_ids,alternative_ids,probabilities)\n",
      "    #households_urbansim.building_id[np.in1d(households_urbansim.index.values,chooser_ids)] = choices.values\n",
      "    households_urbansim.loc[chooser_ids,'building_id'] = choices\n",
      "    if taz == 101020:\n",
      "        print choices\n",
      "    if num_hh > num_resunits:\n",
      "        print 'Warning:  number of households exceeds number of resunits in TAZ %s' % taz"
     ],
     "language": "python",
     "metadata": {},
     "outputs": [
      {
       "output_type": "stream",
       "stream": "stdout",
       "text": [
        "There are 270 households in TAZ 101020\n",
        "There are 954 residential units in TAZ 101020\n",
        "216528    310694\n",
        "216535    310733\n",
        "216542    307006\n",
        "216546    307016\n",
        "216599    310548\n",
        "216600    309648\n",
        "216601    344004\n",
        "216602    309642\n",
        "216603    310198\n",
        "216604    310199\n",
        "216605    344041\n",
        "216606    309897\n",
        "216607    310431\n",
        "216608    309729\n",
        "216609    306996\n",
        "...\n",
        "216543    306100\n",
        "216508    309939\n",
        "216707    309829\n",
        "216708    309854\n",
        "216501    309809\n",
        "216509    306051\n",
        "216533    310586\n",
        "216556    310082\n",
        "216745    344097\n",
        "216539    310617\n",
        "216503    309877\n",
        "216510    344205\n",
        "216531    310620\n",
        "216576    310484\n",
        "216579    309685\n",
        "Length: 270, dtype: float64"
       ]
      },
      {
       "output_type": "stream",
       "stream": "stdout",
       "text": [
        "\n",
        "There are 40 households in TAZ 101030\n",
        "There are 677 residential units in TAZ 101030\n",
        "There are 132 households in TAZ 101040\n",
        "There are 185 residential units in TAZ 101040\n",
        "There are 19 households in TAZ 101050"
       ]
      },
      {
       "output_type": "stream",
       "stream": "stdout",
       "text": [
        "\n",
        "There are 46 residential units in TAZ 101050\n",
        "There are 894 households in TAZ 101060\n",
        "There are 1279 residential units in TAZ 101060\n",
        "There are 152 households in TAZ 101070"
       ]
      },
      {
       "output_type": "stream",
       "stream": "stdout",
       "text": [
        "\n",
        "There are 201 residential units in TAZ 101070\n",
        "There are 306 households in TAZ 101080\n",
        "There are 537 residential units in TAZ 101080\n",
        "There are 1073 households in TAZ 101090"
       ]
      },
      {
       "output_type": "stream",
       "stream": "stdout",
       "text": [
        "\n",
        "There are 1142 residential units in TAZ 101090\n",
        "There are 264 households in TAZ 101100\n",
        "There are 583 residential units in TAZ 101100\n",
        "There are 981 households in TAZ 101110"
       ]
      },
      {
       "output_type": "stream",
       "stream": "stdout",
       "text": [
        "\n",
        "There are 1602 residential units in TAZ 101110\n",
        "There are 986 households in TAZ 101120\n",
        "There are 923 residential units in TAZ 101120\n",
        "Warning:  number of households exceeds number of resunits in TAZ 101120\n",
        "There are 561 households in TAZ 101130"
       ]
      },
      {
       "output_type": "stream",
       "stream": "stdout",
       "text": [
        "\n",
        "There are 733 residential units in TAZ 101130\n",
        "There are 4 households in TAZ 102010\n",
        "There are 22 residential units in TAZ 102010\n",
        "There are 473 households in TAZ 102020\n",
        "There are 564 residential units in TAZ 102020"
       ]
      },
      {
       "output_type": "stream",
       "stream": "stdout",
       "text": [
        "\n",
        "There are 162 households in TAZ 102030\n",
        "There are 262 residential units in TAZ 102030\n",
        "There are 161 households in TAZ 102040\n",
        "There are 194 residential units in TAZ 102040\n",
        "There are 312 households in TAZ 102050\n",
        "There are 457 residential units in TAZ 102050\n",
        "There are 133 households in TAZ 102060"
       ]
      },
      {
       "output_type": "stream",
       "stream": "stdout",
       "text": [
        "\n",
        "There are 123 residential units in TAZ 102060\n",
        "Warning:  number of households exceeds number of resunits in TAZ 102060\n",
        "There are 123 households in TAZ 102070\n",
        "There are 173 residential units in TAZ 102070\n",
        "There are 163 households in TAZ 102080\n",
        "There are 159 residential units in TAZ 102080\n",
        "Warning:  number of households exceeds number of resunits in TAZ 102080\n",
        "There are 288 households in TAZ 102090\n",
        "There are 445 residential units in TAZ 102090"
       ]
      },
      {
       "output_type": "stream",
       "stream": "stdout",
       "text": [
        "\n",
        "There are 168 households in TAZ 102100\n",
        "There are 196 residential units in TAZ 102100\n",
        "There are 126 households in TAZ 102110\n",
        "There are 153 residential units in TAZ 102110\n",
        "There are 24 households in TAZ 102120\n",
        "There are 31 residential units in TAZ 102120\n",
        "There are 231 households in TAZ 102130"
       ]
      },
      {
       "output_type": "stream",
       "stream": "stdout",
       "text": [
        "\n",
        "There are 288 residential units in TAZ 102130\n",
        "There are 368 households in TAZ 102140\n",
        "There are 411 residential units in TAZ 102140\n",
        "There are 41 households in TAZ 102150\n",
        "There are 55 residential units in TAZ 102150\n",
        "There are 192 households in TAZ 102160\n",
        "There are 218 residential units in TAZ 102160"
       ]
      },
      {
       "output_type": "stream",
       "stream": "stdout",
       "text": [
        "\n",
        "There are 19 households in TAZ 102170\n",
        "There are 37 residential units in TAZ 102170\n",
        "There are 680 households in TAZ 102180\n",
        "There are 814 residential units in TAZ 102180\n",
        "There are 237 households in TAZ 102190\n",
        "There are 281 residential units in TAZ 102190\n",
        "There are 1 households in TAZ 102200"
       ]
      },
      {
       "output_type": "stream",
       "stream": "stdout",
       "text": [
        "\n",
        "There are 0 residential units in TAZ 102200\n",
        "Warning:  number of households exceeds number of resunits in TAZ 102200\n",
        "There are 5 households in TAZ 102210\n",
        "There are 20 residential units in TAZ 102210\n",
        "There are 329 households in TAZ 102220\n",
        "There are 330 residential units in TAZ 102220\n",
        "There are 39 households in TAZ 102230\n",
        "There are 31 residential units in TAZ 102230"
       ]
      },
      {
       "output_type": "stream",
       "stream": "stdout",
       "text": [
        "\n",
        "Warning:  number of households exceeds number of resunits in TAZ 102230\n",
        "There are 3 households in TAZ 102240\n",
        "There are 0 residential units in TAZ 102240\n",
        "Warning:  number of households exceeds number of resunits in TAZ 102240\n",
        "There are 5 households in TAZ 102250\n",
        "There are 5 residential units in TAZ 102250\n",
        "There are 256 households in TAZ 102270\n",
        "There are 269 residential units in TAZ 102270\n",
        "There are 316 households in TAZ 102280"
       ]
      },
      {
       "output_type": "stream",
       "stream": "stdout",
       "text": [
        "\n",
        "There are 350 residential units in TAZ 102280\n",
        "There are 11 households in TAZ 102290\n",
        "There are 11 residential units in TAZ 102290\n",
        "There are 693 households in TAZ 102300\n",
        "There are 610 residential units in TAZ 102300\n",
        "Warning:  number of households exceeds number of resunits in TAZ 102300\n",
        "There are 75 households in TAZ 102310\n",
        "There are 76 residential units in TAZ 102310"
       ]
      },
      {
       "output_type": "stream",
       "stream": "stdout",
       "text": [
        "\n",
        "There are 91 households in TAZ 102320\n",
        "There are 159 residential units in TAZ 102320\n",
        "There are 56 households in TAZ 102330\n",
        "There are 48 residential units in TAZ 102330\n",
        "Warning:  number of households exceeds number of resunits in TAZ 102330\n",
        "There are 616 households in TAZ 102340\n",
        "There are 660 residential units in TAZ 102340\n",
        "There are 575 households in TAZ 102350"
       ]
      },
      {
       "output_type": "stream",
       "stream": "stdout",
       "text": [
        "\n",
        "There are 641 residential units in TAZ 102350\n",
        "There are 423 households in TAZ 102360\n",
        "There are 484 residential units in TAZ 102360\n",
        "There are 117 households in TAZ 102370\n",
        "There are 482 residential units in TAZ 102370\n",
        "There are 2 households in TAZ 102390"
       ]
      },
      {
       "output_type": "stream",
       "stream": "stdout",
       "text": [
        "\n",
        "There are 0 residential units in TAZ 102390\n",
        "Warning:  number of households exceeds number of resunits in TAZ 102390\n",
        "There are 159 households in TAZ 102400\n",
        "There are 140 residential units in TAZ 102400\n",
        "Warning:  number of households exceeds number of resunits in TAZ 102400\n",
        "There are 34 households in TAZ 102410\n",
        "There are 33 residential units in TAZ 102410\n",
        "Warning:  number of households exceeds number of resunits in TAZ 102410\n",
        "There are 313 households in TAZ 102420\n",
        "There are 385 residential units in TAZ 102420"
       ]
      },
      {
       "output_type": "stream",
       "stream": "stdout",
       "text": [
        "\n",
        "There are 71 households in TAZ 102440\n",
        "There are 67 residential units in TAZ 102440\n",
        "Warning:  number of households exceeds number of resunits in TAZ 102440\n",
        "There are 1403 households in TAZ 102450\n",
        "There are 1278 residential units in TAZ 102450\n",
        "Warning:  number of households exceeds number of resunits in TAZ 102450\n",
        "There are 196 households in TAZ 102460\n",
        "There are 162 residential units in TAZ 102460\n",
        "Warning:  number of households exceeds number of resunits in TAZ 102460"
       ]
      },
      {
       "output_type": "stream",
       "stream": "stdout",
       "text": [
        "\n",
        "There are 473 households in TAZ 102470\n",
        "There are 507 residential units in TAZ 102470\n",
        "There are 409 households in TAZ 102480\n",
        "There are 389 residential units in TAZ 102480\n",
        "Warning:  number of households exceeds number of resunits in TAZ 102480\n",
        "There are 49 households in TAZ 102490\n",
        "There are 49 residential units in TAZ 102490\n",
        "There are 4 households in TAZ 102500"
       ]
      },
      {
       "output_type": "stream",
       "stream": "stdout",
       "text": [
        "\n",
        "There are 15 residential units in TAZ 102500\n",
        "There are 25 households in TAZ 102510\n",
        "There are 51 residential units in TAZ 102510\n",
        "There are 9 households in TAZ 102520\n",
        "There are 7 residential units in TAZ 102520\n",
        "Warning:  number of households exceeds number of resunits in TAZ 102520\n",
        "There are 73 households in TAZ 102530\n",
        "There are 38 residential units in TAZ 102530"
       ]
      },
      {
       "output_type": "stream",
       "stream": "stdout",
       "text": [
        "\n",
        "Warning:  number of households exceeds number of resunits in TAZ 102530\n",
        "There are 23 households in TAZ 102540\n",
        "There are 51 residential units in TAZ 102540\n",
        "There are 678 households in TAZ 102550\n",
        "There are 688 residential units in TAZ 102550\n",
        "There are 149 households in TAZ 102560\n",
        "There are 217 residential units in TAZ 102560\n",
        "There are 396 households in TAZ 102570"
       ]
      },
      {
       "output_type": "stream",
       "stream": "stdout",
       "text": [
        "\n",
        "There are 327 residential units in TAZ 102570\n",
        "Warning:  number of households exceeds number of resunits in TAZ 102570\n",
        "There are 16 households in TAZ 102580\n",
        "There are 50 residential units in TAZ 102580\n",
        "There are 15 households in TAZ 102590\n",
        "There are 42 residential units in TAZ 102590\n",
        "There are 18 households in TAZ 102600\n",
        "There are 58 residential units in TAZ 102600"
       ]
      },
      {
       "output_type": "stream",
       "stream": "stdout",
       "text": [
        "\n",
        "There are 18 households in TAZ 102610\n",
        "There are 22 residential units in TAZ 102610\n",
        "There are 31 households in TAZ 102620\n",
        "There are 60 residential units in TAZ 102620\n",
        "There are 29 households in TAZ 102630\n",
        "There are 33 residential units in TAZ 102630\n",
        "There are 31 households in TAZ 102640"
       ]
      },
      {
       "output_type": "stream",
       "stream": "stdout",
       "text": [
        "\n",
        "There are 0 residential units in TAZ 102640\n",
        "Warning:  number of households exceeds number of resunits in TAZ 102640\n",
        "There are 594 households in TAZ 102650\n",
        "There are 493 residential units in TAZ 102650\n",
        "Warning:  number of households exceeds number of resunits in TAZ 102650\n",
        "There are 259 households in TAZ 102660\n",
        "There are 274 residential units in TAZ 102660\n",
        "There are 506 households in TAZ 102670\n",
        "There are 749 residential units in TAZ 102670"
       ]
      },
      {
       "output_type": "stream",
       "stream": "stdout",
       "text": [
        "\n",
        "There are 11 households in TAZ 102680\n",
        "There are 0 residential units in TAZ 102680\n",
        "Warning:  number of households exceeds number of resunits in TAZ 102680\n",
        "There are 14 households in TAZ 102690\n",
        "There are 35 residential units in TAZ 102690\n",
        "There are 188 households in TAZ 102700\n",
        "There are 217 residential units in TAZ 102700\n",
        "There are 22 households in TAZ 102710"
       ]
      },
      {
       "output_type": "stream",
       "stream": "stdout",
       "text": [
        "\n",
        "There are 24 residential units in TAZ 102710\n",
        "There are 25 households in TAZ 102720\n",
        "There are 30 residential units in TAZ 102720\n",
        "There are 51 households in TAZ 102730\n",
        "There are 83 residential units in TAZ 102730\n",
        "There are 12 households in TAZ 102740\n",
        "There are 15 residential units in TAZ 102740"
       ]
      },
      {
       "output_type": "stream",
       "stream": "stdout",
       "text": [
        "\n",
        "There are 20 households in TAZ 102750\n",
        "There are 34 residential units in TAZ 102750\n",
        "There are 3 households in TAZ 102760\n",
        "There are 3 residential units in TAZ 102760\n",
        "There are 340 households in TAZ 102770\n",
        "There are 218 residential units in TAZ 102770\n",
        "Warning:  number of households exceeds number of resunits in TAZ 102770"
       ]
      },
      {
       "output_type": "stream",
       "stream": "stdout",
       "text": [
        "\n",
        "There are 520 households in TAZ 102780\n",
        "There are 531 residential units in TAZ 102780\n",
        "There are 10 households in TAZ 102790\n",
        "There are 20 residential units in TAZ 102790\n",
        "There are 490 households in TAZ 102800\n",
        "There are 473 residential units in TAZ 102800\n",
        "Warning:  number of households exceeds number of resunits in TAZ 102800"
       ]
      },
      {
       "output_type": "stream",
       "stream": "stdout",
       "text": [
        "\n",
        "There are 124 households in TAZ 102810\n",
        "There are 145 residential units in TAZ 102810\n",
        "There are 57 households in TAZ 102820\n",
        "There are 81 residential units in TAZ 102820\n",
        "There are 402 households in TAZ 102830\n",
        "There are 354 residential units in TAZ 102830\n",
        "Warning:  number of households exceeds number of resunits in TAZ 102830\n",
        "There are 88 households in TAZ 102840"
       ]
      },
      {
       "output_type": "stream",
       "stream": "stdout",
       "text": [
        "\n",
        "There are 116 residential units in TAZ 102840\n",
        "There are 98 households in TAZ 102850\n",
        "There are 95 residential units in TAZ 102850\n",
        "Warning:  number of households exceeds number of resunits in TAZ 102850\n",
        "There are 7 households in TAZ 102860\n",
        "There are 10 residential units in TAZ 102860\n",
        "There are 15 households in TAZ 102890\n",
        "There are 1 residential units in TAZ 102890"
       ]
      },
      {
       "output_type": "stream",
       "stream": "stdout",
       "text": [
        "\n",
        "Warning:  number of households exceeds number of resunits in TAZ 102890\n",
        "There are 44 households in TAZ 103010\n",
        "There are 68 residential units in TAZ 103010\n",
        "There are 120 households in TAZ 103020\n",
        "There are 200 residential units in TAZ 103020\n",
        "There are 70 households in TAZ 103030\n",
        "There are 115 residential units in TAZ 103030\n",
        "There are 54 households in TAZ 103040"
       ]
      },
      {
       "output_type": "stream",
       "stream": "stdout",
       "text": [
        "\n",
        "There are 61 residential units in TAZ 103040\n",
        "There are 13 households in TAZ 103050\n",
        "There are 9 residential units in TAZ 103050\n",
        "Warning:  number of households exceeds number of resunits in TAZ 103050\n",
        "There are 294 households in TAZ 103060\n",
        "There are 139 residential units in TAZ 103060\n",
        "Warning:  number of households exceeds number of resunits in TAZ 103060\n",
        "There are 169 households in TAZ 103070\n",
        "There are 192 residential units in TAZ 103070"
       ]
      },
      {
       "output_type": "stream",
       "stream": "stdout",
       "text": [
        "\n",
        "There are 437 households in TAZ 103080\n",
        "There are 835 residential units in TAZ 103080\n",
        "There are 452 households in TAZ 103090\n",
        "There are 516 residential units in TAZ 103090\n",
        "There are 505 households in TAZ 103100\n",
        "There are 792 residential units in TAZ 103100\n",
        "There are 51 households in TAZ 103110"
       ]
      },
      {
       "output_type": "stream",
       "stream": "stdout",
       "text": [
        "\n",
        "There are 84 residential units in TAZ 103110\n",
        "There are 24 households in TAZ 103120\n",
        "There are 39 residential units in TAZ 103120\n",
        "There are 572 households in TAZ 103130\n",
        "There are 657 residential units in TAZ 103130\n",
        "There are 824 households in TAZ 103140\n",
        "There are 928 residential units in TAZ 103140"
       ]
      },
      {
       "output_type": "stream",
       "stream": "stdout",
       "text": [
        "\n",
        "There are 605 households in TAZ 103150\n",
        "There are 798 residential units in TAZ 103150\n",
        "There are 81 households in TAZ 103160\n",
        "There are 39 residential units in TAZ 103160\n",
        "Warning:  number of households exceeds number of resunits in TAZ 103160\n",
        "There are 643 households in TAZ 103170\n",
        "There are 871 residential units in TAZ 103170\n",
        "There are 451 households in TAZ 103180"
       ]
      },
      {
       "output_type": "stream",
       "stream": "stdout",
       "text": [
        "\n",
        "There are 350 residential units in TAZ 103180\n",
        "Warning:  number of households exceeds number of resunits in TAZ 103180\n",
        "There are 606 households in TAZ 103190\n",
        "There are 626 residential units in TAZ 103190\n",
        "There are 1054 households in TAZ 103200\n",
        "There are 1111 residential units in TAZ 103200\n",
        "There are 545 households in TAZ 103210"
       ]
      },
      {
       "output_type": "stream",
       "stream": "stdout",
       "text": [
        "\n",
        "There are 547 residential units in TAZ 103210\n",
        "There are 320 households in TAZ 103220\n",
        "There are 264 residential units in TAZ 103220\n",
        "Warning:  number of households exceeds number of resunits in TAZ 103220\n",
        "There are 547 households in TAZ 103230\n",
        "There are 509 residential units in TAZ 103230\n",
        "Warning:  number of households exceeds number of resunits in TAZ 103230\n",
        "There are 243 households in TAZ 103240\n",
        "There are 289 residential units in TAZ 103240"
       ]
      },
      {
       "output_type": "stream",
       "stream": "stdout",
       "text": [
        "\n",
        "There are 215 households in TAZ 103250\n",
        "There are 203 residential units in TAZ 103250\n",
        "Warning:  number of households exceeds number of resunits in TAZ 103250\n",
        "There are 891 households in TAZ 103260\n",
        "There are 797 residential units in TAZ 103260\n",
        "Warning:  number of households exceeds number of resunits in TAZ 103260\n",
        "There are 674 households in TAZ 103270\n",
        "There are 789 residential units in TAZ 103270\n",
        "There are 742 households in TAZ 103280"
       ]
      },
      {
       "output_type": "stream",
       "stream": "stdout",
       "text": [
        "\n",
        "There are 740 residential units in TAZ 103280\n",
        "Warning:  number of households exceeds number of resunits in TAZ 103280\n",
        "There are 283 households in TAZ 103290\n",
        "There are 278 residential units in TAZ 103290\n",
        "Warning:  number of households exceeds number of resunits in TAZ 103290\n",
        "There are 299 households in TAZ 103300\n",
        "There are 716 residential units in TAZ 103300\n",
        "There are 201 households in TAZ 103310\n",
        "There are 282 residential units in TAZ 103310"
       ]
      },
      {
       "output_type": "stream",
       "stream": "stdout",
       "text": [
        "\n",
        "There are 149 households in TAZ 103320\n",
        "There are 76 residential units in TAZ 103320\n",
        "Warning:  number of households exceeds number of resunits in TAZ 103320\n",
        "There are 17 households in TAZ 103330\n",
        "There are 15 residential units in TAZ 103330\n",
        "Warning:  number of households exceeds number of resunits in TAZ 103330\n",
        "There are 10 households in TAZ 103340\n",
        "There are 0 residential units in TAZ 103340\n",
        "Warning:  number of households exceeds number of resunits in TAZ 103340"
       ]
      },
      {
       "output_type": "stream",
       "stream": "stdout",
       "text": [
        "\n",
        "There are 18 households in TAZ 103350\n",
        "There are 94 residential units in TAZ 103350\n",
        "There are 39 households in TAZ 103360\n",
        "There are 52 residential units in TAZ 103360\n",
        "There are 4 households in TAZ 103370\n",
        "There are 9 residential units in TAZ 103370\n",
        "There are 18 households in TAZ 103380"
       ]
      },
      {
       "output_type": "stream",
       "stream": "stdout",
       "text": [
        "\n",
        "There are 18 residential units in TAZ 103380\n",
        "There are 45 households in TAZ 103390\n",
        "There are 1 residential units in TAZ 103390\n",
        "Warning:  number of households exceeds number of resunits in TAZ 103390\n",
        "There are 49 households in TAZ 103400\n",
        "There are 35 residential units in TAZ 103400\n",
        "Warning:  number of households exceeds number of resunits in TAZ 103400\n",
        "There are 6 households in TAZ 103410\n",
        "There are 15 residential units in TAZ 103410"
       ]
      },
      {
       "output_type": "stream",
       "stream": "stdout",
       "text": [
        "\n",
        "There are 5 households in TAZ 103420\n",
        "There are 2 residential units in TAZ 103420\n",
        "Warning:  number of households exceeds number of resunits in TAZ 103420\n",
        "There are 548 households in TAZ 103430\n",
        "There are 683 residential units in TAZ 103430\n",
        "There are 604 households in TAZ 103440\n",
        "There are 727 residential units in TAZ 103440\n",
        "There are 22 households in TAZ 103450"
       ]
      },
      {
       "output_type": "stream",
       "stream": "stdout",
       "text": [
        "\n",
        "There are 24 residential units in TAZ 103450\n",
        "There are 253 households in TAZ 103460\n",
        "There are 470 residential units in TAZ 103460\n",
        "There are 33 households in TAZ 103470\n",
        "There are 43 residential units in TAZ 103470\n",
        "There are 63 households in TAZ 103480\n",
        "There are 69 residential units in TAZ 103480"
       ]
      },
      {
       "output_type": "stream",
       "stream": "stdout",
       "text": [
        "\n",
        "There are 29 households in TAZ 103490\n",
        "There are 46 residential units in TAZ 103490\n",
        "There are 40 households in TAZ 103500\n",
        "There are 64 residential units in TAZ 103500\n",
        "There are 72 households in TAZ 103510\n",
        "There are 76 residential units in TAZ 103510\n",
        "There are 4 households in TAZ 103520"
       ]
      },
      {
       "output_type": "stream",
       "stream": "stdout",
       "text": [
        "\n",
        "There are 1 residential units in TAZ 103520\n",
        "Warning:  number of households exceeds number of resunits in TAZ 103520\n",
        "There are 96 households in TAZ 103530\n",
        "There are 68 residential units in TAZ 103530\n",
        "Warning:  number of households exceeds number of resunits in TAZ 103530\n",
        "There are 3 households in TAZ 103540\n",
        "There are 1 residential units in TAZ 103540\n",
        "Warning:  number of households exceeds number of resunits in TAZ 103540\n",
        "There are 57 households in TAZ 104010\n",
        "There are 68 residential units in TAZ 104010"
       ]
      },
      {
       "output_type": "stream",
       "stream": "stdout",
       "text": [
        "\n",
        "There are 1348 households in TAZ 104020\n",
        "There are 1502 residential units in TAZ 104020\n",
        "There are 383 households in TAZ 104030\n",
        "There are 425 residential units in TAZ 104030\n",
        "There are 1205 households in TAZ 104040\n",
        "There are 1274 residential units in TAZ 104040\n",
        "There are 629 households in TAZ 104050"
       ]
      },
      {
       "output_type": "stream",
       "stream": "stdout",
       "text": [
        "\n",
        "There are 647 residential units in TAZ 104050\n",
        "There are 610 households in TAZ 104060\n",
        "There are 865 residential units in TAZ 104060\n",
        "There are 95 households in TAZ 104070\n",
        "There are 181 residential units in TAZ 104070\n",
        "There are 988 households in TAZ 104080\n",
        "There are 940 residential units in TAZ 104080"
       ]
      },
      {
       "output_type": "stream",
       "stream": "stdout",
       "text": [
        "\n",
        "Warning:  number of households exceeds number of resunits in TAZ 104080\n",
        "There are 766 households in TAZ 104090\n",
        "There are 1061 residential units in TAZ 104090\n",
        "There are 742 households in TAZ 104100\n",
        "There are 857 residential units in TAZ 104100\n",
        "There are 15 households in TAZ 104110\n",
        "There are 14 residential units in TAZ 104110\n",
        "Warning:  number of households exceeds number of resunits in TAZ 104110"
       ]
      },
      {
       "output_type": "stream",
       "stream": "stdout",
       "text": [
        "\n",
        "There are 565 households in TAZ 104120\n",
        "There are 578 residential units in TAZ 104120\n",
        "There are 745 households in TAZ 104130\n",
        "There are 795 residential units in TAZ 104130\n",
        "There are 31 households in TAZ 104140\n",
        "There are 40 residential units in TAZ 104140\n",
        "There are 1021 households in TAZ 104150"
       ]
      },
      {
       "output_type": "stream",
       "stream": "stdout",
       "text": [
        "\n",
        "There are 1168 residential units in TAZ 104150\n",
        "There are 837 households in TAZ 104160\n",
        "There are 903 residential units in TAZ 104160\n",
        "There are 815 households in TAZ 104170\n",
        "There are 797 residential units in TAZ 104170\n",
        "Warning:  number of households exceeds number of resunits in TAZ 104170\n",
        "There are 48 households in TAZ 104180\n",
        "There are 137 residential units in TAZ 104180"
       ]
      },
      {
       "output_type": "stream",
       "stream": "stdout",
       "text": [
        "\n",
        "There are 846 households in TAZ 104190\n",
        "There are 947 residential units in TAZ 104190\n",
        "There are 649 households in TAZ 104200\n",
        "There are 590 residential units in TAZ 104200\n",
        "Warning:  number of households exceeds number of resunits in TAZ 104200\n",
        "There are 214 households in TAZ 104210\n",
        "There are 261 residential units in TAZ 104210\n",
        "There are 30 households in TAZ 104220"
       ]
      },
      {
       "output_type": "stream",
       "stream": "stdout",
       "text": [
        "\n",
        "There are 49 residential units in TAZ 104220\n",
        "There are 29 households in TAZ 104230\n",
        "There are 24 residential units in TAZ 104230\n",
        "Warning:  number of households exceeds number of resunits in TAZ 104230\n",
        "There are 4 households in TAZ 104240\n",
        "There are 5 residential units in TAZ 104240\n",
        "There are 75 households in TAZ 104250\n",
        "There are 116 residential units in TAZ 104250"
       ]
      },
      {
       "output_type": "stream",
       "stream": "stdout",
       "text": [
        "\n",
        "There are 146 households in TAZ 104260\n",
        "There are 130 residential units in TAZ 104260\n",
        "Warning:  number of households exceeds number of resunits in TAZ 104260\n",
        "There are 518 households in TAZ 104280\n",
        "There are 490 residential units in TAZ 104280\n",
        "Warning:  number of households exceeds number of resunits in TAZ 104280\n",
        "There are 156 households in TAZ 104290\n",
        "There are 167 residential units in TAZ 104290\n",
        "There are 23 households in TAZ 104300"
       ]
      },
      {
       "output_type": "stream",
       "stream": "stdout",
       "text": [
        "\n",
        "There are 34 residential units in TAZ 104300\n",
        "There are 80 households in TAZ 104310\n",
        "There are 73 residential units in TAZ 104310\n",
        "Warning:  number of households exceeds number of resunits in TAZ 104310\n",
        "There are 75 households in TAZ 104320\n",
        "There are 104 residential units in TAZ 104320\n",
        "There are 522 households in TAZ 104330\n",
        "There are 572 residential units in TAZ 104330"
       ]
      },
      {
       "output_type": "stream",
       "stream": "stdout",
       "text": [
        "\n",
        "There are 566 households in TAZ 104340\n",
        "There are 615 residential units in TAZ 104340\n",
        "There are 381 households in TAZ 104350\n",
        "There are 401 residential units in TAZ 104350\n",
        "There are 4 households in TAZ 104360\n",
        "There are 3 residential units in TAZ 104360\n",
        "Warning:  number of households exceeds number of resunits in TAZ 104360"
       ]
      },
      {
       "output_type": "stream",
       "stream": "stdout",
       "text": [
        "\n",
        "There are 4 households in TAZ 104370\n",
        "There are 0 residential units in TAZ 104370\n",
        "Warning:  number of households exceeds number of resunits in TAZ 104370\n",
        "There are 515 households in TAZ 104380\n",
        "There are 400 residential units in TAZ 104380\n",
        "Warning:  number of households exceeds number of resunits in TAZ 104380\n",
        "There are 648 households in TAZ 104390\n",
        "There are 620 residential units in TAZ 104390\n",
        "Warning:  number of households exceeds number of resunits in TAZ 104390\n",
        "There are 1401 households in TAZ 104400"
       ]
      },
      {
       "output_type": "stream",
       "stream": "stdout",
       "text": [
        "\n",
        "There are 1952 residential units in TAZ 104400\n",
        "There are 661 households in TAZ 104410\n",
        "There are 1102 residential units in TAZ 104410\n",
        "There are 779 households in TAZ 104420\n",
        "There are 542 residential units in TAZ 104420\n",
        "Warning:  number of households exceeds number of resunits in TAZ 104420\n",
        "There are 226 households in TAZ 104430\n",
        "There are 8 residential units in TAZ 104430"
       ]
      },
      {
       "output_type": "stream",
       "stream": "stdout",
       "text": [
        "\n",
        "Warning:  number of households exceeds number of resunits in TAZ 104430\n",
        "There are 48 households in TAZ 104440\n",
        "There are 72 residential units in TAZ 104440\n",
        "There are 5 households in TAZ 104450\n",
        "There are 26 residential units in TAZ 104450\n",
        "There are 127 households in TAZ 105010\n",
        "There are 133 residential units in TAZ 105010\n",
        "There are 355 households in TAZ 105020"
       ]
      },
      {
       "output_type": "stream",
       "stream": "stdout",
       "text": [
        "\n",
        "There are 396 residential units in TAZ 105020\n",
        "There are 77 households in TAZ 105030\n",
        "There are 79 residential units in TAZ 105030\n",
        "There are 245 households in TAZ 105040\n",
        "There are 272 residential units in TAZ 105040\n",
        "There are 114 households in TAZ 105050\n",
        "There are 126 residential units in TAZ 105050"
       ]
      },
      {
       "output_type": "stream",
       "stream": "stdout",
       "text": [
        "\n",
        "There are 7 households in TAZ 105060\n",
        "There are 13 residential units in TAZ 105060\n",
        "There are 199 households in TAZ 105070\n",
        "There are 280 residential units in TAZ 105070\n",
        "There are 271 households in TAZ 105080\n",
        "There are 300 residential units in TAZ 105080\n",
        "There are 183 households in TAZ 105090"
       ]
      },
      {
       "output_type": "stream",
       "stream": "stdout",
       "text": [
        "\n",
        "There are 212 residential units in TAZ 105090\n",
        "There are 93 households in TAZ 105100\n",
        "There are 153 residential units in TAZ 105100\n",
        "There are 700 households in TAZ 105110\n",
        "There are 613 residential units in TAZ 105110\n",
        "Warning:  number of households exceeds number of resunits in TAZ 105110\n",
        "There are 86 households in TAZ 105120\n",
        "There are 177 residential units in TAZ 105120"
       ]
      },
      {
       "output_type": "stream",
       "stream": "stdout",
       "text": [
        "\n",
        "There are 483 households in TAZ 105130\n",
        "There are 447 residential units in TAZ 105130\n",
        "Warning:  number of households exceeds number of resunits in TAZ 105130\n",
        "There are 703 households in TAZ 105140\n",
        "There are 731 residential units in TAZ 105140\n",
        "There are 37 households in TAZ 105150\n",
        "There are 35 residential units in TAZ 105150\n",
        "Warning:  number of households exceeds number of resunits in TAZ 105150"
       ]
      },
      {
       "output_type": "stream",
       "stream": "stdout",
       "text": [
        "\n",
        "There are 24 households in TAZ 105160\n",
        "There are 49 residential units in TAZ 105160\n",
        "There are 22 households in TAZ 105170\n",
        "There are 38 residential units in TAZ 105170\n",
        "There are 20 households in TAZ 105180\n",
        "There are 38 residential units in TAZ 105180\n",
        "There are 621 households in TAZ 105190"
       ]
      },
      {
       "output_type": "stream",
       "stream": "stdout",
       "text": [
        "\n",
        "There are 597 residential units in TAZ 105190\n",
        "Warning:  number of households exceeds number of resunits in TAZ 105190\n",
        "There are 1258 households in TAZ 105200\n",
        "There are 1799 residential units in TAZ 105200\n",
        "There are 678 households in TAZ 105210\n",
        "There are 620 residential units in TAZ 105210\n",
        "Warning:  number of households exceeds number of resunits in TAZ 105210\n",
        "There are 314 households in TAZ 105220"
       ]
      },
      {
       "output_type": "stream",
       "stream": "stdout",
       "text": [
        "\n",
        "There are 385 residential units in TAZ 105220\n",
        "There are 755 households in TAZ 105230\n",
        "There are 779 residential units in TAZ 105230\n",
        "There are 442 households in TAZ 105240\n",
        "There are 446 residential units in TAZ 105240\n",
        "There are 625 households in TAZ 105250\n",
        "There are 1042 residential units in TAZ 105250"
       ]
      },
      {
       "output_type": "stream",
       "stream": "stdout",
       "text": [
        "\n",
        "There are 89 households in TAZ 105260\n",
        "There are 120 residential units in TAZ 105260\n",
        "There are 932 households in TAZ 105270\n",
        "There are 999 residential units in TAZ 105270\n",
        "There are 111 households in TAZ 105280\n",
        "There are 123 residential units in TAZ 105280\n",
        "There are 177 households in TAZ 105290"
       ]
      },
      {
       "output_type": "stream",
       "stream": "stdout",
       "text": [
        "\n",
        "There are 216 residential units in TAZ 105290\n",
        "There are 87 households in TAZ 105300\n",
        "There are 106 residential units in TAZ 105300\n",
        "There are 43 households in TAZ 105310\n",
        "There are 46 residential units in TAZ 105310\n",
        "There are 25 households in TAZ 105320\n",
        "There are 37 residential units in TAZ 105320"
       ]
      },
      {
       "output_type": "stream",
       "stream": "stdout",
       "text": [
        "\n",
        "There are 25 households in TAZ 105330\n",
        "There are 27 residential units in TAZ 105330\n",
        "There are 219 households in TAZ 105340\n",
        "There are 305 residential units in TAZ 105340\n",
        "There are 97 households in TAZ 105350\n",
        "There are 163 residential units in TAZ 105350\n",
        "There are 660 households in TAZ 105360"
       ]
      },
      {
       "output_type": "stream",
       "stream": "stdout",
       "text": [
        "\n",
        "There are 699 residential units in TAZ 105360\n",
        "There are 1072 households in TAZ 105370\n",
        "There are 1139 residential units in TAZ 105370\n",
        "There are 494 households in TAZ 105380\n",
        "There are 497 residential units in TAZ 105380\n",
        "There are 783 households in TAZ 105390\n",
        "There are 726 residential units in TAZ 105390"
       ]
      },
      {
       "output_type": "stream",
       "stream": "stdout",
       "text": [
        "\n",
        "Warning:  number of households exceeds number of resunits in TAZ 105390\n",
        "There are 567 households in TAZ 105400\n",
        "There are 504 residential units in TAZ 105400\n",
        "Warning:  number of households exceeds number of resunits in TAZ 105400\n",
        "There are 498 households in TAZ 105410\n",
        "There are 501 residential units in TAZ 105410\n",
        "There are 636 households in TAZ 105420\n",
        "There are 616 residential units in TAZ 105420\n",
        "Warning:  number of households exceeds number of resunits in TAZ 105420"
       ]
      },
      {
       "output_type": "stream",
       "stream": "stdout",
       "text": [
        "\n",
        "There are 4 households in TAZ 105430\n",
        "There are 6 residential units in TAZ 105430\n",
        "There are 862 households in TAZ 105440\n",
        "There are 951 residential units in TAZ 105440\n",
        "There are 469 households in TAZ 105450\n",
        "There are 451 residential units in TAZ 105450\n",
        "Warning:  number of households exceeds number of resunits in TAZ 105450\n",
        "There are 7 households in TAZ 105460"
       ]
      },
      {
       "output_type": "stream",
       "stream": "stdout",
       "text": [
        "\n",
        "There are 1 residential units in TAZ 105460\n",
        "Warning:  number of households exceeds number of resunits in TAZ 105460\n",
        "There are 427 households in TAZ 105470\n",
        "There are 512 residential units in TAZ 105470\n",
        "There are 1 households in TAZ 105480\n",
        "There are 1 residential units in TAZ 105480\n",
        "There are 2 households in TAZ 105490\n",
        "There are 0 residential units in TAZ 105490"
       ]
      },
      {
       "output_type": "stream",
       "stream": "stdout",
       "text": [
        "\n",
        "Warning:  number of households exceeds number of resunits in TAZ 105490\n",
        "There are 53 households in TAZ 105500\n",
        "There are 86 residential units in TAZ 105500\n",
        "There are 2 households in TAZ 105520\n",
        "There are 0 residential units in TAZ 105520\n",
        "Warning:  number of households exceeds number of resunits in TAZ 105520\n",
        "There are 458 households in TAZ 105550\n",
        "There are 519 residential units in TAZ 105550\n",
        "There are 12 households in TAZ 105560"
       ]
      },
      {
       "output_type": "stream",
       "stream": "stdout",
       "text": [
        "\n",
        "There are 10 residential units in TAZ 105560\n",
        "Warning:  number of households exceeds number of resunits in TAZ 105560\n",
        "There are 10 households in TAZ 105570\n",
        "There are 3 residential units in TAZ 105570\n",
        "Warning:  number of households exceeds number of resunits in TAZ 105570\n",
        "There are 32 households in TAZ 105580\n",
        "There are 22 residential units in TAZ 105580\n",
        "Warning:  number of households exceeds number of resunits in TAZ 105580\n",
        "There are 1216 households in TAZ 105590\n",
        "There are 1297 residential units in TAZ 105590"
       ]
      },
      {
       "output_type": "stream",
       "stream": "stdout",
       "text": [
        "\n",
        "There are 4 households in TAZ 105600\n",
        "There are 0 residential units in TAZ 105600\n",
        "Warning:  number of households exceeds number of resunits in TAZ 105600\n",
        "There are 1 households in TAZ 105620\n",
        "There are 0 residential units in TAZ 105620\n",
        "Warning:  number of households exceeds number of resunits in TAZ 105620\n",
        "There are 8 households in TAZ 105630\n",
        "There are 12 residential units in TAZ 105630\n",
        "There are 37 households in TAZ 106010"
       ]
      },
      {
       "output_type": "stream",
       "stream": "stdout",
       "text": [
        "\n",
        "There are 50 residential units in TAZ 106010\n",
        "There are 31 households in TAZ 106020\n",
        "There are 49 residential units in TAZ 106020\n",
        "There are 1 households in TAZ 106030\n",
        "There are 0 residential units in TAZ 106030\n",
        "Warning:  number of households exceeds number of resunits in TAZ 106030\n",
        "There are 136 households in TAZ 106040\n",
        "There are 0 residential units in TAZ 106040"
       ]
      },
      {
       "output_type": "stream",
       "stream": "stdout",
       "text": [
        "\n",
        "Warning:  number of households exceeds number of resunits in TAZ 106040\n",
        "There are 143 households in TAZ 106050\n",
        "There are 140 residential units in TAZ 106050\n",
        "Warning:  number of households exceeds number of resunits in TAZ 106050\n",
        "There are 26 households in TAZ 106060\n",
        "There are 62 residential units in TAZ 106060\n",
        "There are 3 households in TAZ 106080\n",
        "There are 10 residential units in TAZ 106080\n",
        "There are 3 households in TAZ 106090"
       ]
      },
      {
       "output_type": "stream",
       "stream": "stdout",
       "text": [
        "\n",
        "There are 1 residential units in TAZ 106090\n",
        "Warning:  number of households exceeds number of resunits in TAZ 106090\n",
        "There are 13 households in TAZ 106100\n",
        "There are 13 residential units in TAZ 106100\n",
        "There are 3 households in TAZ 106200\n",
        "There are 0 residential units in TAZ 106200\n",
        "Warning:  number of households exceeds number of resunits in TAZ 106200\n",
        "There are 146 households in TAZ 106210\n",
        "There are 101 residential units in TAZ 106210"
       ]
      },
      {
       "output_type": "stream",
       "stream": "stdout",
       "text": [
        "\n",
        "Warning:  number of households exceeds number of resunits in TAZ 106210\n",
        "There are 251 households in TAZ 106220\n",
        "There are 289 residential units in TAZ 106220\n",
        "There are 388 households in TAZ 106230\n",
        "There are 459 residential units in TAZ 106230\n",
        "There are 428 households in TAZ 106240\n",
        "There are 448 residential units in TAZ 106240\n",
        "There are 494 households in TAZ 106250"
       ]
      },
      {
       "output_type": "stream",
       "stream": "stdout",
       "text": [
        "\n",
        "There are 561 residential units in TAZ 106250\n",
        "There are 1406 households in TAZ 106260\n",
        "There are 2401 residential units in TAZ 106260\n",
        "There are 1 households in TAZ 106270\n",
        "There are 0 residential units in TAZ 106270\n",
        "Warning:  number of households exceeds number of resunits in TAZ 106270\n",
        "There are 1068 households in TAZ 106420\n",
        "There are 1103 residential units in TAZ 106420"
       ]
      },
      {
       "output_type": "stream",
       "stream": "stdout",
       "text": [
        "\n",
        "There are 184 households in TAZ 106430\n",
        "There are 193 residential units in TAZ 106430\n",
        "There are 11 households in TAZ 106440\n",
        "There are 4 residential units in TAZ 106440\n",
        "Warning:  number of households exceeds number of resunits in TAZ 106440\n",
        "There are 1048 households in TAZ 107010\n",
        "There are 1167 residential units in TAZ 107010\n",
        "There are 783 households in TAZ 107020"
       ]
      },
      {
       "output_type": "stream",
       "stream": "stdout",
       "text": [
        "\n",
        "There are 182 residential units in TAZ 107020\n",
        "Warning:  number of households exceeds number of resunits in TAZ 107020\n",
        "There are 11 households in TAZ 107030\n",
        "There are 7 residential units in TAZ 107030\n",
        "Warning:  number of households exceeds number of resunits in TAZ 107030\n",
        "There are 693 households in TAZ 107040\n",
        "There are 516 residential units in TAZ 107040\n",
        "Warning:  number of households exceeds number of resunits in TAZ 107040\n",
        "There are 1272 households in TAZ 107070"
       ]
      },
      {
       "output_type": "stream",
       "stream": "stdout",
       "text": [
        "\n",
        "There are 1213 residential units in TAZ 107070\n",
        "Warning:  number of households exceeds number of resunits in TAZ 107070\n",
        "There are 408 households in TAZ 107080\n",
        "There are 378 residential units in TAZ 107080\n",
        "Warning:  number of households exceeds number of resunits in TAZ 107080\n",
        "There are 331 households in TAZ 107090\n",
        "There are 245 residential units in TAZ 107090\n",
        "Warning:  number of households exceeds number of resunits in TAZ 107090\n",
        "There are 368 households in TAZ 107100"
       ]
      },
      {
       "output_type": "stream",
       "stream": "stdout",
       "text": [
        "\n",
        "There are 352 residential units in TAZ 107100\n",
        "Warning:  number of households exceeds number of resunits in TAZ 107100\n",
        "There are 609 households in TAZ 107110\n",
        "There are 450 residential units in TAZ 107110\n",
        "Warning:  number of households exceeds number of resunits in TAZ 107110\n",
        "There are 973 households in TAZ 107130\n",
        "There are 718 residential units in TAZ 107130\n",
        "Warning:  number of households exceeds number of resunits in TAZ 107130\n",
        "There are 1754 households in TAZ 107140\n",
        "There are 2729 residential units in TAZ 107140"
       ]
      },
      {
       "output_type": "stream",
       "stream": "stdout",
       "text": [
        "\n",
        "There are 1255 households in TAZ 107150\n",
        "There are 1418 residential units in TAZ 107150\n",
        "There are 613 households in TAZ 107160\n",
        "There are 694 residential units in TAZ 107160\n",
        "There are 2 households in TAZ 107170\n",
        "There are 4 residential units in TAZ 107170\n",
        "There are 5 households in TAZ 107180"
       ]
      },
      {
       "output_type": "stream",
       "stream": "stdout",
       "text": [
        "\n",
        "There are 1 residential units in TAZ 107180\n",
        "Warning:  number of households exceeds number of resunits in TAZ 107180\n",
        "There are 42 households in TAZ 107190\n",
        "There are 48 residential units in TAZ 107190\n",
        "There are 148 households in TAZ 107200\n",
        "There are 141 residential units in TAZ 107200\n",
        "Warning:  number of households exceeds number of resunits in TAZ 107200\n",
        "There are 542 households in TAZ 107210\n",
        "There are 515 residential units in TAZ 107210"
       ]
      },
      {
       "output_type": "stream",
       "stream": "stdout",
       "text": [
        "\n",
        "Warning:  number of households exceeds number of resunits in TAZ 107210\n",
        "There are 52 households in TAZ 107230\n",
        "There are 700 residential units in TAZ 107230\n",
        "There are 902 households in TAZ 107240\n",
        "There are 1209 residential units in TAZ 107240\n",
        "There are 1103 households in TAZ 107250\n",
        "There are 1097 residential units in TAZ 107250\n",
        "Warning:  number of households exceeds number of resunits in TAZ 107250"
       ]
      },
      {
       "output_type": "stream",
       "stream": "stdout",
       "text": [
        "\n",
        "There are 676 households in TAZ 107260\n",
        "There are 669 residential units in TAZ 107260\n",
        "Warning:  number of households exceeds number of resunits in TAZ 107260\n",
        "There are 475 households in TAZ 107270\n",
        "There are 516 residential units in TAZ 107270\n",
        "There are 6 households in TAZ 107280\n",
        "There are 2 residential units in TAZ 107280\n",
        "Warning:  number of households exceeds number of resunits in TAZ 107280\n",
        "There are 5 households in TAZ 107290"
       ]
      },
      {
       "output_type": "stream",
       "stream": "stdout",
       "text": [
        "\n",
        "There are 0 residential units in TAZ 107290\n",
        "Warning:  number of households exceeds number of resunits in TAZ 107290\n",
        "There are 241 households in TAZ 107300\n",
        "There are 234 residential units in TAZ 107300\n",
        "Warning:  number of households exceeds number of resunits in TAZ 107300\n",
        "There are 619 households in TAZ 107310\n",
        "There are 630 residential units in TAZ 107310\n",
        "There are 477 households in TAZ 107320\n",
        "There are 484 residential units in TAZ 107320"
       ]
      },
      {
       "output_type": "stream",
       "stream": "stdout",
       "text": [
        "\n",
        "There are 953 households in TAZ 107330\n",
        "There are 1005 residential units in TAZ 107330\n",
        "There are 160 households in TAZ 107340\n",
        "There are 176 residential units in TAZ 107340\n",
        "There are 596 households in TAZ 107350\n",
        "There are 528 residential units in TAZ 107350\n",
        "Warning:  number of households exceeds number of resunits in TAZ 107350"
       ]
      },
      {
       "output_type": "stream",
       "stream": "stdout",
       "text": [
        "\n",
        "There are 84 households in TAZ 107360\n",
        "There are 90 residential units in TAZ 107360\n",
        "There are 280 households in TAZ 107370\n",
        "There are 282 residential units in TAZ 107370\n",
        "There are 1006 households in TAZ 107380\n",
        "There are 1003 residential units in TAZ 107380\n",
        "Warning:  number of households exceeds number of resunits in TAZ 107380\n",
        "There are 11 households in TAZ 107390"
       ]
      },
      {
       "output_type": "stream",
       "stream": "stdout",
       "text": [
        "\n",
        "There are 10 residential units in TAZ 107390\n",
        "Warning:  number of households exceeds number of resunits in TAZ 107390\n",
        "There are 274 households in TAZ 107400\n",
        "There are 286 residential units in TAZ 107400\n",
        "There are 436 households in TAZ 107410\n",
        "There are 402 residential units in TAZ 107410\n",
        "Warning:  number of households exceeds number of resunits in TAZ 107410\n",
        "There are 448 households in TAZ 107420\n",
        "There are 528 residential units in TAZ 107420"
       ]
      },
      {
       "output_type": "stream",
       "stream": "stdout",
       "text": [
        "\n",
        "There are 239 households in TAZ 107430\n",
        "There are 224 residential units in TAZ 107430\n",
        "Warning:  number of households exceeds number of resunits in TAZ 107430\n",
        "There are 305 households in TAZ 107440\n",
        "There are 270 residential units in TAZ 107440\n",
        "Warning:  number of households exceeds number of resunits in TAZ 107440\n",
        "There are 26 households in TAZ 107450\n",
        "There are 26 residential units in TAZ 107450\n",
        "There are 921 households in TAZ 107460"
       ]
      },
      {
       "output_type": "stream",
       "stream": "stdout",
       "text": [
        "\n",
        "There are 818 residential units in TAZ 107460\n",
        "Warning:  number of households exceeds number of resunits in TAZ 107460\n",
        "There are 16 households in TAZ 107470\n",
        "There are 17 residential units in TAZ 107470\n",
        "There are 63 households in TAZ 107480\n",
        "There are 73 residential units in TAZ 107480\n",
        "There are 805 households in TAZ 108010\n",
        "There are 778 residential units in TAZ 108010"
       ]
      },
      {
       "output_type": "stream",
       "stream": "stdout",
       "text": [
        "\n",
        "Warning:  number of households exceeds number of resunits in TAZ 108010\n",
        "There are 626 households in TAZ 108020\n",
        "There are 1126 residential units in TAZ 108020\n",
        "There are 249 households in TAZ 108030\n",
        "There are 199 residential units in TAZ 108030\n",
        "Warning:  number of households exceeds number of resunits in TAZ 108030\n",
        "There are 228 households in TAZ 108040\n",
        "There are 221 residential units in TAZ 108040\n",
        "Warning:  number of households exceeds number of resunits in TAZ 108040"
       ]
      },
      {
       "output_type": "stream",
       "stream": "stdout",
       "text": [
        "\n",
        "There are 98 households in TAZ 108050\n",
        "There are 94 residential units in TAZ 108050\n",
        "Warning:  number of households exceeds number of resunits in TAZ 108050\n",
        "There are 169 households in TAZ 108060\n",
        "There are 166 residential units in TAZ 108060\n",
        "Warning:  number of households exceeds number of resunits in TAZ 108060\n",
        "There are 494 households in TAZ 108070\n",
        "There are 502 residential units in TAZ 108070\n",
        "There are 253 households in TAZ 108080"
       ]
      },
      {
       "output_type": "stream",
       "stream": "stdout",
       "text": [
        "\n",
        "There are 263 residential units in TAZ 108080\n",
        "There are 329 households in TAZ 108090\n",
        "There are 334 residential units in TAZ 108090\n",
        "There are 504 households in TAZ 108100\n",
        "There are 482 residential units in TAZ 108100\n",
        "Warning:  number of households exceeds number of resunits in TAZ 108100\n",
        "There are 56 households in TAZ 108110\n",
        "There are 56 residential units in TAZ 108110"
       ]
      },
      {
       "output_type": "stream",
       "stream": "stdout",
       "text": [
        "\n",
        "There are 432 households in TAZ 108120\n",
        "There are 411 residential units in TAZ 108120\n",
        "Warning:  number of households exceeds number of resunits in TAZ 108120\n",
        "There are 444 households in TAZ 108130\n",
        "There are 417 residential units in TAZ 108130\n",
        "Warning:  number of households exceeds number of resunits in TAZ 108130\n",
        "There are 692 households in TAZ 108140\n",
        "There are 693 residential units in TAZ 108140\n",
        "There are 364 households in TAZ 108150"
       ]
      },
      {
       "output_type": "stream",
       "stream": "stdout",
       "text": [
        "\n",
        "There are 369 residential units in TAZ 108150\n",
        "There are 831 households in TAZ 108160\n",
        "There are 889 residential units in TAZ 108160\n",
        "There are 545 households in TAZ 108170\n",
        "There are 560 residential units in TAZ 108170\n",
        "There are 603 households in TAZ 108180\n",
        "There are 525 residential units in TAZ 108180"
       ]
      },
      {
       "output_type": "stream",
       "stream": "stdout",
       "text": [
        "\n",
        "Warning:  number of households exceeds number of resunits in TAZ 108180\n",
        "There are 322 households in TAZ 108190\n",
        "There are 237 residential units in TAZ 108190\n",
        "Warning:  number of households exceeds number of resunits in TAZ 108190\n",
        "There are 417 households in TAZ 108200\n",
        "There are 323 residential units in TAZ 108200\n",
        "Warning:  number of households exceeds number of resunits in TAZ 108200\n",
        "There are 1596 households in TAZ 108210\n",
        "There are 1421 residential units in TAZ 108210\n",
        "Warning:  number of households exceeds number of resunits in TAZ 108210"
       ]
      },
      {
       "output_type": "stream",
       "stream": "stdout",
       "text": [
        "\n",
        "There are 47 households in TAZ 108230\n",
        "There are 1 residential units in TAZ 108230\n",
        "Warning:  number of households exceeds number of resunits in TAZ 108230\n",
        "There are 993 households in TAZ 108240\n",
        "There are 659 residential units in TAZ 108240\n",
        "Warning:  number of households exceeds number of resunits in TAZ 108240\n",
        "There are 298 households in TAZ 108250\n",
        "There are 364 residential units in TAZ 108250\n",
        "There are 4 households in TAZ 108260"
       ]
      },
      {
       "output_type": "stream",
       "stream": "stdout",
       "text": [
        "\n",
        "There are 1 residential units in TAZ 108260\n",
        "Warning:  number of households exceeds number of resunits in TAZ 108260\n",
        "There are 482 households in TAZ 108290\n",
        "There are 89 residential units in TAZ 108290\n",
        "Warning:  number of households exceeds number of resunits in TAZ 108290\n",
        "There are 3 households in TAZ 108300\n",
        "There are 39 residential units in TAZ 108300\n",
        "There are 355 households in TAZ 108310\n",
        "There are 313 residential units in TAZ 108310"
       ]
      },
      {
       "output_type": "stream",
       "stream": "stdout",
       "text": [
        "\n",
        "Warning:  number of households exceeds number of resunits in TAZ 108310\n",
        "There are 438 households in TAZ 108320\n",
        "There are 544 residential units in TAZ 108320\n",
        "There are 411 households in TAZ 108330\n",
        "There are 409 residential units in TAZ 108330\n",
        "Warning:  number of households exceeds number of resunits in TAZ 108330\n",
        "There are 72 households in TAZ 108340\n",
        "There are 66 residential units in TAZ 108340\n",
        "Warning:  number of households exceeds number of resunits in TAZ 108340"
       ]
      },
      {
       "output_type": "stream",
       "stream": "stdout",
       "text": [
        "\n",
        "There are 551 households in TAZ 108350\n",
        "There are 565 residential units in TAZ 108350\n",
        "There are 505 households in TAZ 108360\n",
        "There are 498 residential units in TAZ 108360\n",
        "Warning:  number of households exceeds number of resunits in TAZ 108360\n",
        "There are 346 households in TAZ 108370\n",
        "There are 361 residential units in TAZ 108370\n",
        "There are 366 households in TAZ 108380"
       ]
      },
      {
       "output_type": "stream",
       "stream": "stdout",
       "text": [
        "\n",
        "There are 369 residential units in TAZ 108380\n",
        "There are 102 households in TAZ 108390\n",
        "There are 120 residential units in TAZ 108390\n",
        "There are 40 households in TAZ 108400\n",
        "There are 184 residential units in TAZ 108400\n",
        "There are 202 households in TAZ 108410\n",
        "There are 165 residential units in TAZ 108410"
       ]
      },
      {
       "output_type": "stream",
       "stream": "stdout",
       "text": [
        "\n",
        "Warning:  number of households exceeds number of resunits in TAZ 108410\n",
        "There are 36 households in TAZ 108420\n",
        "There are 66 residential units in TAZ 108420\n",
        "There are 48 households in TAZ 108430\n",
        "There are 103 residential units in TAZ 108430\n",
        "There are 813 households in TAZ 108440\n",
        "There are 733 residential units in TAZ 108440\n",
        "Warning:  number of households exceeds number of resunits in TAZ 108440"
       ]
      },
      {
       "output_type": "stream",
       "stream": "stdout",
       "text": [
        "\n",
        "There are 1072 households in TAZ 108450\n",
        "There are 1043 residential units in TAZ 108450\n",
        "Warning:  number of households exceeds number of resunits in TAZ 108450\n",
        "There are 123 households in TAZ 108460\n",
        "There are 109 residential units in TAZ 108460\n",
        "Warning:  number of households exceeds number of resunits in TAZ 108460\n",
        "There are 229 households in TAZ 108470\n",
        "There are 202 residential units in TAZ 108470\n",
        "Warning:  number of households exceeds number of resunits in TAZ 108470"
       ]
      },
      {
       "output_type": "stream",
       "stream": "stdout",
       "text": [
        "\n",
        "There are 1 households in TAZ 108480\n",
        "There are 0 residential units in TAZ 108480\n",
        "Warning:  number of households exceeds number of resunits in TAZ 108480\n",
        "There are 39 households in TAZ 108490\n",
        "There are 0 residential units in TAZ 108490\n",
        "Warning:  number of households exceeds number of resunits in TAZ 108490\n",
        "There are 4 households in TAZ 108540\n",
        "There are 0 residential units in TAZ 108540\n",
        "Warning:  number of households exceeds number of resunits in TAZ 108540\n",
        "There are 9 households in TAZ 108550"
       ]
      },
      {
       "output_type": "stream",
       "stream": "stdout",
       "text": [
        "\n",
        "There are 0 residential units in TAZ 108550\n",
        "Warning:  number of households exceeds number of resunits in TAZ 108550\n",
        "There are 1 households in TAZ 108580\n",
        "There are 342 residential units in TAZ 108580\n",
        "There are 33 households in TAZ 108590\n",
        "There are 0 residential units in TAZ 108590\n",
        "Warning:  number of households exceeds number of resunits in TAZ 108590\n",
        "There are 933 households in TAZ 108610\n",
        "There are 901 residential units in TAZ 108610"
       ]
      },
      {
       "output_type": "stream",
       "stream": "stdout",
       "text": [
        "\n",
        "Warning:  number of households exceeds number of resunits in TAZ 108610\n",
        "There are 93 households in TAZ 108620\n",
        "There are 95 residential units in TAZ 108620\n",
        "There are 13 households in TAZ 108630\n",
        "There are 0 residential units in TAZ 108630\n",
        "Warning:  number of households exceeds number of resunits in TAZ 108630\n",
        "There are 179 households in TAZ 108640\n",
        "There are 169 residential units in TAZ 108640\n",
        "Warning:  number of households exceeds number of resunits in TAZ 108640"
       ]
      },
      {
       "output_type": "stream",
       "stream": "stdout",
       "text": [
        "\n",
        "There are 484 households in TAZ 108650\n",
        "There are 483 residential units in TAZ 108650\n",
        "Warning:  number of households exceeds number of resunits in TAZ 108650\n",
        "There are 11 households in TAZ 108660\n",
        "There are 18 residential units in TAZ 108660\n",
        "There are 788 households in TAZ 108670\n",
        "There are 730 residential units in TAZ 108670\n",
        "Warning:  number of households exceeds number of resunits in TAZ 108670"
       ]
      },
      {
       "output_type": "stream",
       "stream": "stdout",
       "text": [
        "\n",
        "There are 607 households in TAZ 108680\n",
        "There are 785 residential units in TAZ 108680\n",
        "There are 32 households in TAZ 108690\n",
        "There are 33 residential units in TAZ 108690\n",
        "There are 265 households in TAZ 108710\n",
        "There are 453 residential units in TAZ 108710\n",
        "There are 446 households in TAZ 108720"
       ]
      },
      {
       "output_type": "stream",
       "stream": "stdout",
       "text": [
        "\n",
        "There are 502 residential units in TAZ 108720\n",
        "There are 1023 households in TAZ 201010\n",
        "There are 961 residential units in TAZ 201010\n",
        "Warning:  number of households exceeds number of resunits in TAZ 201010\n",
        "There are 34 households in TAZ 201020\n",
        "There are 6 residential units in TAZ 201020\n",
        "Warning:  number of households exceeds number of resunits in TAZ 201020\n",
        "There are 473 households in TAZ 201030"
       ]
      },
      {
       "output_type": "stream",
       "stream": "stdout",
       "text": [
        "\n",
        "There are 94 residential units in TAZ 201030\n",
        "Warning:  number of households exceeds number of resunits in TAZ 201030\n",
        "There are 189 households in TAZ 201040\n",
        "There are 169 residential units in TAZ 201040\n",
        "Warning:  number of households exceeds number of resunits in TAZ 201040\n",
        "There are 188 households in TAZ 201050\n",
        "There are 196 residential units in TAZ 201050\n",
        "There are 329 households in TAZ 201060"
       ]
      },
      {
       "output_type": "stream",
       "stream": "stdout",
       "text": [
        "\n",
        "There are 301 residential units in TAZ 201060\n",
        "Warning:  number of households exceeds number of resunits in TAZ 201060\n",
        "There are 519 households in TAZ 201070\n",
        "There are 470 residential units in TAZ 201070\n",
        "Warning:  number of households exceeds number of resunits in TAZ 201070\n",
        "There are 306 households in TAZ 201080\n",
        "There are 265 residential units in TAZ 201080\n",
        "Warning:  number of households exceeds number of resunits in TAZ 201080\n",
        "There are 8 households in TAZ 202010\n",
        "There are 0 residential units in TAZ 202010"
       ]
      },
      {
       "output_type": "stream",
       "stream": "stdout",
       "text": [
        "\n",
        "Warning:  number of households exceeds number of resunits in TAZ 202010\n",
        "There are 195 households in TAZ 202040\n",
        "There are 0 residential units in TAZ 202040\n",
        "Warning:  number of households exceeds number of resunits in TAZ 202040\n",
        "There are 3 households in TAZ 202060\n",
        "There are 0 residential units in TAZ 202060\n",
        "Warning:  number of households exceeds number of resunits in TAZ 202060\n",
        "There are 1621 households in TAZ 202120\n",
        "There are 1610 residential units in TAZ 202120\n",
        "Warning:  number of households exceeds number of resunits in TAZ 202120"
       ]
      },
      {
       "output_type": "stream",
       "stream": "stdout",
       "text": [
        "\n",
        "There are 999 households in TAZ 202130\n",
        "There are 987 residential units in TAZ 202130\n",
        "Warning:  number of households exceeds number of resunits in TAZ 202130\n",
        "There are 170 households in TAZ 202140\n",
        "There are 13 residential units in TAZ 202140\n",
        "Warning:  number of households exceeds number of resunits in TAZ 202140\n",
        "There are 224 households in TAZ 202150\n",
        "There are 171 residential units in TAZ 202150\n",
        "Warning:  number of households exceeds number of resunits in TAZ 202150"
       ]
      },
      {
       "output_type": "stream",
       "stream": "stdout",
       "text": [
        "\n",
        "There are 1 households in TAZ 202160\n",
        "There are 0 residential units in TAZ 202160\n",
        "Warning:  number of households exceeds number of resunits in TAZ 202160\n",
        "There are 1 households in TAZ 202170\n",
        "There are 0 residential units in TAZ 202170\n",
        "Warning:  number of households exceeds number of resunits in TAZ 202170\n",
        "There are 7 households in TAZ 202190\n",
        "There are 8 residential units in TAZ 202190\n",
        "There are 90 households in TAZ 202200"
       ]
      },
      {
       "output_type": "stream",
       "stream": "stdout",
       "text": [
        "\n",
        "There are 95 residential units in TAZ 202200\n",
        "There are 1205 households in TAZ 202210\n",
        "There are 1272 residential units in TAZ 202210\n",
        "There are 420 households in TAZ 202220\n",
        "There are 437 residential units in TAZ 202220\n",
        "There are 1133 households in TAZ 202230\n",
        "There are 1079 residential units in TAZ 202230"
       ]
      },
      {
       "output_type": "stream",
       "stream": "stdout",
       "text": [
        "\n",
        "Warning:  number of households exceeds number of resunits in TAZ 202230\n",
        "There are 707 households in TAZ 202240\n",
        "There are 770 residential units in TAZ 202240\n",
        "There are 89 households in TAZ 202250\n",
        "There are 79 residential units in TAZ 202250\n",
        "Warning:  number of households exceeds number of resunits in TAZ 202250\n",
        "There are 75 households in TAZ 202260\n",
        "There are 65 residential units in TAZ 202260"
       ]
      },
      {
       "output_type": "stream",
       "stream": "stdout",
       "text": [
        "\n",
        "Warning:  number of households exceeds number of resunits in TAZ 202260\n",
        "There are 3 households in TAZ 202270\n",
        "There are 0 residential units in TAZ 202270\n",
        "Warning:  number of households exceeds number of resunits in TAZ 202270\n",
        "There are 275 households in TAZ 202280\n",
        "There are 219 residential units in TAZ 202280\n",
        "Warning:  number of households exceeds number of resunits in TAZ 202280\n",
        "There are 24 households in TAZ 202290\n",
        "There are 1 residential units in TAZ 202290\n",
        "Warning:  number of households exceeds number of resunits in TAZ 202290"
       ]
      },
      {
       "output_type": "stream",
       "stream": "stdout",
       "text": [
        "\n",
        "There are 22 households in TAZ 202300\n",
        "There are 0 residential units in TAZ 202300\n",
        "Warning:  number of households exceeds number of resunits in TAZ 202300\n",
        "There are 738 households in TAZ 202310\n",
        "There are 666 residential units in TAZ 202310\n",
        "Warning:  number of households exceeds number of resunits in TAZ 202310\n",
        "There are 537 households in TAZ 202320\n",
        "There are 563 residential units in TAZ 202320\n",
        "There are 208 households in TAZ 202330"
       ]
      },
      {
       "output_type": "stream",
       "stream": "stdout",
       "text": [
        "\n",
        "There are 209 residential units in TAZ 202330\n",
        "There are 6 households in TAZ 202340\n",
        "There are 0 residential units in TAZ 202340\n",
        "Warning:  number of households exceeds number of resunits in TAZ 202340\n",
        "There are 644 households in TAZ 202350\n",
        "There are 665 residential units in TAZ 202350\n",
        "There are 932 households in TAZ 202360\n",
        "There are 933 residential units in TAZ 202360"
       ]
      },
      {
       "output_type": "stream",
       "stream": "stdout",
       "text": [
        "\n",
        "There are 870 households in TAZ 202370\n",
        "There are 858 residential units in TAZ 202370\n",
        "Warning:  number of households exceeds number of resunits in TAZ 202370\n",
        "There are 82 households in TAZ 202380\n",
        "There are 3 residential units in TAZ 202380\n",
        "Warning:  number of households exceeds number of resunits in TAZ 202380\n",
        "There are 192 households in TAZ 202390\n",
        "There are 258 residential units in TAZ 202390\n",
        "There are 600 households in TAZ 202410"
       ]
      },
      {
       "output_type": "stream",
       "stream": "stdout",
       "text": [
        "\n",
        "There are 6 residential units in TAZ 202410\n",
        "Warning:  number of households exceeds number of resunits in TAZ 202410\n",
        "There are 189 households in TAZ 202420\n",
        "There are 473 residential units in TAZ 202420\n",
        "There are 1001 households in TAZ 202430\n",
        "There are 935 residential units in TAZ 202430\n",
        "Warning:  number of households exceeds number of resunits in TAZ 202430\n",
        "There are 13 households in TAZ 202440\n",
        "There are 0 residential units in TAZ 202440"
       ]
      },
      {
       "output_type": "stream",
       "stream": "stdout",
       "text": [
        "\n",
        "Warning:  number of households exceeds number of resunits in TAZ 202440\n",
        "There are 1144 households in TAZ 202450\n",
        "There are 1311 residential units in TAZ 202450\n",
        "There are 1775 households in TAZ 202460\n",
        "There are 1743 residential units in TAZ 202460\n",
        "Warning:  number of households exceeds number of resunits in TAZ 202460\n",
        "There are 5 households in TAZ 202470\n",
        "There are 0 residential units in TAZ 202470"
       ]
      },
      {
       "output_type": "stream",
       "stream": "stdout",
       "text": [
        "\n",
        "Warning:  number of households exceeds number of resunits in TAZ 202470\n",
        "There are 302 households in TAZ 202490\n",
        "There are 0 residential units in TAZ 202490\n",
        "Warning:  number of households exceeds number of resunits in TAZ 202490\n",
        "There are 80 households in TAZ 202500\n",
        "There are 0 residential units in TAZ 202500\n",
        "Warning:  number of households exceeds number of resunits in TAZ 202500\n",
        "There are 3 households in TAZ 202510\n",
        "There are 0 residential units in TAZ 202510\n",
        "Warning:  number of households exceeds number of resunits in TAZ 202510"
       ]
      },
      {
       "output_type": "stream",
       "stream": "stdout",
       "text": [
        "\n",
        "There are 335 households in TAZ 202520\n",
        "There are 353 residential units in TAZ 202520\n",
        "There are 526 households in TAZ 202530\n",
        "There are 562 residential units in TAZ 202530\n",
        "There are 1235 households in TAZ 202540\n",
        "There are 1289 residential units in TAZ 202540\n",
        "There are 1669 households in TAZ 202550"
       ]
      },
      {
       "output_type": "stream",
       "stream": "stdout",
       "text": [
        "\n",
        "There are 1774 residential units in TAZ 202550\n",
        "There are 666 households in TAZ 202560\n",
        "There are 693 residential units in TAZ 202560\n",
        "There are 716 households in TAZ 202570\n",
        "There are 739 residential units in TAZ 202570\n",
        "There are 275 households in TAZ 202580"
       ]
      },
      {
       "output_type": "stream",
       "stream": "stdout",
       "text": [
        "\n",
        "There are 277 residential units in TAZ 202580\n",
        "There are 72 households in TAZ 202590\n",
        "There are 79 residential units in TAZ 202590\n",
        "There are 153 households in TAZ 202600\n",
        "There are 160 residential units in TAZ 202600\n",
        "There are 264 households in TAZ 202610\n",
        "There are 281 residential units in TAZ 202610"
       ]
      },
      {
       "output_type": "stream",
       "stream": "stdout",
       "text": [
        "\n",
        "There are 611 households in TAZ 202620\n",
        "There are 611 residential units in TAZ 202620\n",
        "There are 953 households in TAZ 203010\n",
        "There are 973 residential units in TAZ 203010\n",
        "There are 596 households in TAZ 203020\n",
        "There are 664 residential units in TAZ 203020\n",
        "There are 330 households in TAZ 203030"
       ]
      },
      {
       "output_type": "stream",
       "stream": "stdout",
       "text": [
        "\n",
        "There are 352 residential units in TAZ 203030\n",
        "There are 1390 households in TAZ 203040\n",
        "There are 1552 residential units in TAZ 203040\n",
        "There are 672 households in TAZ 203050\n",
        "There are 706 residential units in TAZ 203050\n",
        "There are 303 households in TAZ 203060\n",
        "There are 308 residential units in TAZ 203060"
       ]
      },
      {
       "output_type": "stream",
       "stream": "stdout",
       "text": [
        "\n",
        "There are 503 households in TAZ 203070\n",
        "There are 538 residential units in TAZ 203070\n",
        "There are 167 households in TAZ 203080\n",
        "There are 180 residential units in TAZ 203080\n",
        "There are 513 households in TAZ 203090\n",
        "There are 523 residential units in TAZ 203090\n",
        "There are 419 households in TAZ 203100"
       ]
      },
      {
       "output_type": "stream",
       "stream": "stdout",
       "text": [
        "\n",
        "There are 495 residential units in TAZ 203100\n",
        "There are 1158 households in TAZ 203110\n",
        "There are 1211 residential units in TAZ 203110\n",
        "There are 919 households in TAZ 203120\n",
        "There are 979 residential units in TAZ 203120\n",
        "There are 707 households in TAZ 203130\n",
        "There are 721 residential units in TAZ 203130"
       ]
      },
      {
       "output_type": "stream",
       "stream": "stdout",
       "text": [
        "\n",
        "There are 1003 households in TAZ 203140\n",
        "There are 1003 residential units in TAZ 203140\n",
        "There are 674 households in TAZ 203150\n",
        "There are 700 residential units in TAZ 203150\n",
        "There are 852 households in TAZ 203160\n",
        "There are 936 residential units in TAZ 203160"
       ]
      },
      {
       "output_type": "stream",
       "stream": "stdout",
       "text": [
        "\n",
        "There are 519 households in TAZ 203170\n",
        "There are 513 residential units in TAZ 203170\n",
        "Warning:  number of households exceeds number of resunits in TAZ 203170\n",
        "There are 457 households in TAZ 203180\n",
        "There are 515 residential units in TAZ 203180\n",
        "There are 170 households in TAZ 204010\n",
        "There are 10 residential units in TAZ 204010\n",
        "Warning:  number of households exceeds number of resunits in TAZ 204010"
       ]
      },
      {
       "output_type": "stream",
       "stream": "stdout",
       "text": [
        "\n",
        "There are 43 households in TAZ 204020\n",
        "There are 37 residential units in TAZ 204020\n",
        "Warning:  number of households exceeds number of resunits in TAZ 204020\n",
        "There are 25 households in TAZ 204030\n",
        "There are 59 residential units in TAZ 204030\n",
        "There are 765 households in TAZ 204040\n",
        "There are 842 residential units in TAZ 204040\n",
        "There are 569 households in TAZ 204050"
       ]
      },
      {
       "output_type": "stream",
       "stream": "stdout",
       "text": [
        "\n",
        "There are 59 residential units in TAZ 204050\n",
        "Warning:  number of households exceeds number of resunits in TAZ 204050\n",
        "There are 910 households in TAZ 204060\n",
        "There are 989 residential units in TAZ 204060\n",
        "There are 852 households in TAZ 204070\n",
        "There are 872 residential units in TAZ 204070\n",
        "There are 187 households in TAZ 204080\n",
        "There are 200 residential units in TAZ 204080"
       ]
      },
      {
       "output_type": "stream",
       "stream": "stdout",
       "text": [
        "\n",
        "There are 488 households in TAZ 204090\n",
        "There are 489 residential units in TAZ 204090\n",
        "There are 124 households in TAZ 204100\n",
        "There are 172 residential units in TAZ 204100\n",
        "There are 613 households in TAZ 204110\n",
        "There are 585 residential units in TAZ 204110\n",
        "Warning:  number of households exceeds number of resunits in TAZ 204110"
       ]
      },
      {
       "output_type": "stream",
       "stream": "stdout",
       "text": [
        "\n",
        "There are 374 households in TAZ 204120\n",
        "There are 509 residential units in TAZ 204120\n",
        "There are 84 households in TAZ 204130\n",
        "There are 145 residential units in TAZ 204130\n",
        "There are 5 households in TAZ 204140\n",
        "There are 35 residential units in TAZ 204140\n",
        "There are 13 households in TAZ 204150"
       ]
      },
      {
       "output_type": "stream",
       "stream": "stdout",
       "text": [
        "\n",
        "There are 50 residential units in TAZ 204150\n",
        "There are 191 households in TAZ 204160\n",
        "There are 214 residential units in TAZ 204160\n",
        "There are 583 households in TAZ 204170\n",
        "There are 697 residential units in TAZ 204170\n",
        "There are 824 households in TAZ 204180\n",
        "There are 923 residential units in TAZ 204180"
       ]
      },
      {
       "output_type": "stream",
       "stream": "stdout",
       "text": [
        "\n",
        "There are 832 households in TAZ 204190\n",
        "There are 840 residential units in TAZ 204190\n",
        "There are 1423 households in TAZ 204200\n",
        "There are 1555 residential units in TAZ 204200\n",
        "There are 476 households in TAZ 204210\n",
        "There are 486 residential units in TAZ 204210\n",
        "There are 355 households in TAZ 204220"
       ]
      },
      {
       "output_type": "stream",
       "stream": "stdout",
       "text": [
        "\n",
        "There are 364 residential units in TAZ 204220\n",
        "There are 432 households in TAZ 204230\n",
        "There are 514 residential units in TAZ 204230\n",
        "There are 739 households in TAZ 204240\n",
        "There are 773 residential units in TAZ 204240\n",
        "There are 690 households in TAZ 204250\n",
        "There are 704 residential units in TAZ 204250"
       ]
      },
      {
       "output_type": "stream",
       "stream": "stdout",
       "text": [
        "\n",
        "There are 767 households in TAZ 205010\n",
        "There are 815 residential units in TAZ 205010\n",
        "There are 353 households in TAZ 205020\n",
        "There are 676 residential units in TAZ 205020\n",
        "There are 235 households in TAZ 205030\n",
        "There are 357 residential units in TAZ 205030\n",
        "There are 1086 households in TAZ 205040"
       ]
      },
      {
       "output_type": "stream",
       "stream": "stdout",
       "text": [
        "\n",
        "There are 1177 residential units in TAZ 205040\n",
        "There are 244 households in TAZ 205050\n",
        "There are 246 residential units in TAZ 205050\n",
        "There are 524 households in TAZ 205060\n",
        "There are 588 residential units in TAZ 205060\n",
        "There are 156 households in TAZ 205070\n",
        "There are 223 residential units in TAZ 205070"
       ]
      },
      {
       "output_type": "stream",
       "stream": "stdout",
       "text": [
        "\n",
        "There are 598 households in TAZ 205080\n",
        "There are 1028 residential units in TAZ 205080\n",
        "There are 148 households in TAZ 205090\n",
        "There are 174 residential units in TAZ 205090\n",
        "There are 343 households in TAZ 205100\n",
        "There are 311 residential units in TAZ 205100\n",
        "Warning:  number of households exceeds number of resunits in TAZ 205100"
       ]
      },
      {
       "output_type": "stream",
       "stream": "stdout",
       "text": [
        "\n",
        "There are 163 households in TAZ 205110\n",
        "There are 173 residential units in TAZ 205110\n",
        "There are 4 households in TAZ 205120\n",
        "There are 0 residential units in TAZ 205120\n",
        "Warning:  number of households exceeds number of resunits in TAZ 205120\n",
        "There are 150 households in TAZ 205130\n",
        "There are 155 residential units in TAZ 205130\n",
        "There are 1179 households in TAZ 205140"
       ]
      },
      {
       "output_type": "stream",
       "stream": "stdout",
       "text": [
        "\n",
        "There are 1268 residential units in TAZ 205140\n",
        "There are 39 households in TAZ 205150\n",
        "There are 27 residential units in TAZ 205150\n",
        "Warning:  number of households exceeds number of resunits in TAZ 205150\n",
        "There are 255 households in TAZ 205160\n",
        "There are 234 residential units in TAZ 205160\n",
        "Warning:  number of households exceeds number of resunits in TAZ 205160\n",
        "There are 676 households in TAZ 205170\n",
        "There are 719 residential units in TAZ 205170"
       ]
      },
      {
       "output_type": "stream",
       "stream": "stdout",
       "text": [
        "\n",
        "There are 470 households in TAZ 205180\n",
        "There are 504 residential units in TAZ 205180\n",
        "There are 421 households in TAZ 205190\n",
        "There are 398 residential units in TAZ 205190\n",
        "Warning:  number of households exceeds number of resunits in TAZ 205190\n",
        "There are 2 households in TAZ 205200\n",
        "There are 0 residential units in TAZ 205200\n",
        "Warning:  number of households exceeds number of resunits in TAZ 205200"
       ]
      },
      {
       "output_type": "stream",
       "stream": "stdout",
       "text": [
        "\n",
        "There are 101 households in TAZ 205210\n",
        "There are 100 residential units in TAZ 205210\n",
        "Warning:  number of households exceeds number of resunits in TAZ 205210\n",
        "There are 180 households in TAZ 205220\n",
        "There are 179 residential units in TAZ 205220\n",
        "Warning:  number of households exceeds number of resunits in TAZ 205220\n",
        "There are 213 households in TAZ 205230\n",
        "There are 158 residential units in TAZ 205230\n",
        "Warning:  number of households exceeds number of resunits in TAZ 205230\n",
        "There are 100 households in TAZ 205240"
       ]
      },
      {
       "output_type": "stream",
       "stream": "stdout",
       "text": [
        "\n",
        "There are 71 residential units in TAZ 205240\n",
        "Warning:  number of households exceeds number of resunits in TAZ 205240\n",
        "There are 552 households in TAZ 205250\n",
        "There are 434 residential units in TAZ 205250\n",
        "Warning:  number of households exceeds number of resunits in TAZ 205250\n",
        "There are 2 households in TAZ 205260\n",
        "There are 5 residential units in TAZ 205260\n",
        "There are 316 households in TAZ 205270\n",
        "There are 343 residential units in TAZ 205270"
       ]
      },
      {
       "output_type": "stream",
       "stream": "stdout",
       "text": [
        "\n",
        "There are 751 households in TAZ 205280\n",
        "There are 662 residential units in TAZ 205280\n",
        "Warning:  number of households exceeds number of resunits in TAZ 205280\n",
        "There are 255 households in TAZ 205290\n",
        "There are 230 residential units in TAZ 205290\n",
        "Warning:  number of households exceeds number of resunits in TAZ 205290\n",
        "There are 139 households in TAZ 205300\n",
        "There are 15 residential units in TAZ 205300\n",
        "Warning:  number of households exceeds number of resunits in TAZ 205300"
       ]
      },
      {
       "output_type": "stream",
       "stream": "stdout",
       "text": [
        "\n",
        "There are 121 households in TAZ 205310\n",
        "There are 0 residential units in TAZ 205310\n",
        "Warning:  number of households exceeds number of resunits in TAZ 205310\n",
        "There are 317 households in TAZ 205330\n",
        "There are 572 residential units in TAZ 205330\n",
        "There are 38 households in TAZ 205340\n",
        "There are 0 residential units in TAZ 205340\n",
        "Warning:  number of households exceeds number of resunits in TAZ 205340\n",
        "There are 47 households in TAZ 205360"
       ]
      },
      {
       "output_type": "stream",
       "stream": "stdout",
       "text": [
        "\n",
        "There are 54 residential units in TAZ 205360\n",
        "There are 242 households in TAZ 205370\n",
        "There are 153 residential units in TAZ 205370\n",
        "Warning:  number of households exceeds number of resunits in TAZ 205370\n",
        "There are 418 households in TAZ 205380\n",
        "There are 377 residential units in TAZ 205380\n",
        "Warning:  number of households exceeds number of resunits in TAZ 205380\n",
        "There are 575 households in TAZ 205390\n",
        "There are 597 residential units in TAZ 205390"
       ]
      },
      {
       "output_type": "stream",
       "stream": "stdout",
       "text": [
        "\n",
        "There are 739 households in TAZ 206010\n",
        "There are 753 residential units in TAZ 206010\n",
        "There are 313 households in TAZ 206020\n",
        "There are 327 residential units in TAZ 206020\n",
        "There are 1116 households in TAZ 206030\n",
        "There are 1090 residential units in TAZ 206030\n",
        "Warning:  number of households exceeds number of resunits in TAZ 206030"
       ]
      },
      {
       "output_type": "stream",
       "stream": "stdout",
       "text": [
        "\n",
        "There are 405 households in TAZ 206040\n",
        "There are 424 residential units in TAZ 206040\n",
        "There are 710 households in TAZ 206050\n",
        "There are 585 residential units in TAZ 206050\n",
        "Warning:  number of households exceeds number of resunits in TAZ 206050\n",
        "There are 762 households in TAZ 206060\n",
        "There are 801 residential units in TAZ 206060\n",
        "There are 832 households in TAZ 206070"
       ]
      },
      {
       "output_type": "stream",
       "stream": "stdout",
       "text": [
        "\n",
        "There are 817 residential units in TAZ 206070\n",
        "Warning:  number of households exceeds number of resunits in TAZ 206070\n",
        "There are 158 households in TAZ 206080\n",
        "There are 56 residential units in TAZ 206080\n",
        "Warning:  number of households exceeds number of resunits in TAZ 206080\n",
        "There are 256 households in TAZ 206090\n",
        "There are 230 residential units in TAZ 206090\n",
        "Warning:  number of households exceeds number of resunits in TAZ 206090\n",
        "There are 420 households in TAZ 206100\n",
        "There are 361 residential units in TAZ 206100"
       ]
      },
      {
       "output_type": "stream",
       "stream": "stdout",
       "text": [
        "\n",
        "Warning:  number of households exceeds number of resunits in TAZ 206100\n",
        "There are 956 households in TAZ 206110\n",
        "There are 931 residential units in TAZ 206110\n",
        "Warning:  number of households exceeds number of resunits in TAZ 206110\n",
        "There are 11 households in TAZ 206120\n",
        "There are 241 residential units in TAZ 206120\n",
        "There are 153 households in TAZ 206130\n",
        "There are 152 residential units in TAZ 206130\n",
        "Warning:  number of households exceeds number of resunits in TAZ 206130"
       ]
      },
      {
       "output_type": "stream",
       "stream": "stdout",
       "text": [
        "\n",
        "There are 452 households in TAZ 206140\n",
        "There are 373 residential units in TAZ 206140\n",
        "Warning:  number of households exceeds number of resunits in TAZ 206140\n",
        "There are 50 households in TAZ 206150\n",
        "There are 97 residential units in TAZ 206150\n",
        "There are 136 households in TAZ 206160\n",
        "There are 74 residential units in TAZ 206160\n",
        "Warning:  number of households exceeds number of resunits in TAZ 206160\n",
        "There are 640 households in TAZ 206170"
       ]
      },
      {
       "output_type": "stream",
       "stream": "stdout",
       "text": [
        "\n",
        "There are 1106 residential units in TAZ 206170\n",
        "There are 831 households in TAZ 206180\n",
        "There are 1115 residential units in TAZ 206180\n",
        "There are 13 households in TAZ 206190\n",
        "There are 17 residential units in TAZ 206190\n",
        "There are 546 households in TAZ 206200\n",
        "There are 547 residential units in TAZ 206200"
       ]
      },
      {
       "output_type": "stream",
       "stream": "stdout",
       "text": [
        "\n",
        "There are 186 households in TAZ 206210\n",
        "There are 159 residential units in TAZ 206210\n",
        "Warning:  number of households exceeds number of resunits in TAZ 206210\n",
        "There are 228 households in TAZ 206220\n",
        "There are 233 residential units in TAZ 206220\n",
        "There are 31 households in TAZ 206230\n",
        "There are 35 residential units in TAZ 206230\n",
        "There are 50 households in TAZ 206240"
       ]
      },
      {
       "output_type": "stream",
       "stream": "stdout",
       "text": [
        "\n",
        "There are 53 residential units in TAZ 206240\n",
        "There are 169 households in TAZ 206250\n",
        "There are 126 residential units in TAZ 206250\n",
        "Warning:  number of households exceeds number of resunits in TAZ 206250\n",
        "There are 1031 households in TAZ 206260\n",
        "There are 1050 residential units in TAZ 206260\n",
        "There are 389 households in TAZ 206270\n",
        "There are 467 residential units in TAZ 206270"
       ]
      },
      {
       "output_type": "stream",
       "stream": "stdout",
       "text": [
        "\n",
        "There are 933 households in TAZ 206280\n",
        "There are 948 residential units in TAZ 206280\n",
        "There are 78 households in TAZ 206290\n",
        "There are 10 residential units in TAZ 206290\n",
        "Warning:  number of households exceeds number of resunits in TAZ 206290\n",
        "There are 46 households in TAZ 206300\n",
        "There are 229 residential units in TAZ 206300\n",
        "There are 1010 households in TAZ 207010"
       ]
      },
      {
       "output_type": "stream",
       "stream": "stdout",
       "text": [
        "\n",
        "There are 863 residential units in TAZ 207010\n",
        "Warning:  number of households exceeds number of resunits in TAZ 207010\n",
        "There are 803 households in TAZ 207020\n",
        "There are 693 residential units in TAZ 207020\n",
        "Warning:  number of households exceeds number of resunits in TAZ 207020\n",
        "There are 436 households in TAZ 207030\n",
        "There are 424 residential units in TAZ 207030\n",
        "Warning:  number of households exceeds number of resunits in TAZ 207030\n",
        "There are 523 households in TAZ 207040"
       ]
      },
      {
       "output_type": "stream",
       "stream": "stdout",
       "text": [
        "\n",
        "There are 479 residential units in TAZ 207040\n",
        "Warning:  number of households exceeds number of resunits in TAZ 207040\n",
        "There are 548 households in TAZ 207050\n",
        "There are 533 residential units in TAZ 207050\n",
        "Warning:  number of households exceeds number of resunits in TAZ 207050\n",
        "There are 7 households in TAZ 207060\n",
        "There are 8 residential units in TAZ 207060\n",
        "There are 580 households in TAZ 207070\n",
        "There are 535 residential units in TAZ 207070"
       ]
      },
      {
       "output_type": "stream",
       "stream": "stdout",
       "text": [
        "\n",
        "Warning:  number of households exceeds number of resunits in TAZ 207070\n",
        "There are 658 households in TAZ 207080\n",
        "There are 718 residential units in TAZ 207080\n",
        "There are 387 households in TAZ 207090\n",
        "There are 324 residential units in TAZ 207090\n",
        "Warning:  number of households exceeds number of resunits in TAZ 207090\n",
        "There are 556 households in TAZ 207100\n",
        "There are 500 residential units in TAZ 207100\n",
        "Warning:  number of households exceeds number of resunits in TAZ 207100"
       ]
      },
      {
       "output_type": "stream",
       "stream": "stdout",
       "text": [
        "\n",
        "There are 209 households in TAZ 207110\n",
        "There are 202 residential units in TAZ 207110\n",
        "Warning:  number of households exceeds number of resunits in TAZ 207110\n",
        "There are 341 households in TAZ 207120\n",
        "There are 320 residential units in TAZ 207120\n",
        "Warning:  number of households exceeds number of resunits in TAZ 207120\n",
        "There are 542 households in TAZ 207130\n",
        "There are 495 residential units in TAZ 207130\n",
        "Warning:  number of households exceeds number of resunits in TAZ 207130\n",
        "There are 638 households in TAZ 207140"
       ]
      },
      {
       "output_type": "stream",
       "stream": "stdout",
       "text": [
        "\n",
        "There are 656 residential units in TAZ 207140\n",
        "There are 65 households in TAZ 207150\n",
        "There are 60 residential units in TAZ 207150\n",
        "Warning:  number of households exceeds number of resunits in TAZ 207150\n",
        "There are 668 households in TAZ 207160\n",
        "There are 704 residential units in TAZ 207160\n",
        "There are 590 households in TAZ 207170\n",
        "There are 585 residential units in TAZ 207170"
       ]
      },
      {
       "output_type": "stream",
       "stream": "stdout",
       "text": [
        "\n",
        "Warning:  number of households exceeds number of resunits in TAZ 207170\n",
        "There are 468 households in TAZ 207180\n",
        "There are 503 residential units in TAZ 207180\n",
        "There are 563 households in TAZ 207190\n",
        "There are 530 residential units in TAZ 207190\n",
        "Warning:  number of households exceeds number of resunits in TAZ 207190\n",
        "There are 1249 households in TAZ 207200\n",
        "There are 1510 residential units in TAZ 207200"
       ]
      },
      {
       "output_type": "stream",
       "stream": "stdout",
       "text": [
        "\n",
        "There are 931 households in TAZ 207210\n",
        "There are 961 residential units in TAZ 207210\n",
        "There are 1411 households in TAZ 207220\n",
        "There are 1467 residential units in TAZ 207220\n",
        "There are 751 households in TAZ 207230\n",
        "There are 619 residential units in TAZ 207230"
       ]
      },
      {
       "output_type": "stream",
       "stream": "stdout",
       "text": [
        "\n",
        "Warning:  number of households exceeds number of resunits in TAZ 207230\n",
        "There are 14 households in TAZ 207240\n",
        "There are 10 residential units in TAZ 207240\n",
        "Warning:  number of households exceeds number of resunits in TAZ 207240\n",
        "There are 451 households in TAZ 208010\n",
        "There are 446 residential units in TAZ 208010\n",
        "Warning:  number of households exceeds number of resunits in TAZ 208010\n",
        "There are 750 households in TAZ 208020\n",
        "There are 758 residential units in TAZ 208020\n",
        "There are 418 households in TAZ 208030"
       ]
      },
      {
       "output_type": "stream",
       "stream": "stdout",
       "text": [
        "\n",
        "There are 412 residential units in TAZ 208030\n",
        "Warning:  number of households exceeds number of resunits in TAZ 208030\n",
        "There are 362 households in TAZ 208040\n",
        "There are 386 residential units in TAZ 208040\n",
        "There are 701 households in TAZ 208050\n",
        "There are 728 residential units in TAZ 208050\n",
        "There are 881 households in TAZ 208060\n",
        "There are 810 residential units in TAZ 208060"
       ]
      },
      {
       "output_type": "stream",
       "stream": "stdout",
       "text": [
        "\n",
        "Warning:  number of households exceeds number of resunits in TAZ 208060\n",
        "There are 387 households in TAZ 208070\n",
        "There are 393 residential units in TAZ 208070\n",
        "There are 460 households in TAZ 208080\n",
        "There are 443 residential units in TAZ 208080\n",
        "Warning:  number of households exceeds number of resunits in TAZ 208080\n",
        "There are 700 households in TAZ 208090\n",
        "There are 668 residential units in TAZ 208090"
       ]
      },
      {
       "output_type": "stream",
       "stream": "stdout",
       "text": [
        "\n",
        "Warning:  number of households exceeds number of resunits in TAZ 208090\n",
        "There are 821 households in TAZ 208100\n",
        "There are 775 residential units in TAZ 208100\n",
        "Warning:  number of households exceeds number of resunits in TAZ 208100\n",
        "There are 819 households in TAZ 208110\n",
        "There are 918 residential units in TAZ 208110\n",
        "There are 1013 households in TAZ 208120\n",
        "There are 1316 residential units in TAZ 208120"
       ]
      },
      {
       "output_type": "stream",
       "stream": "stdout",
       "text": [
        "\n",
        "There are 654 households in TAZ 208130\n",
        "There are 562 residential units in TAZ 208130\n",
        "Warning:  number of households exceeds number of resunits in TAZ 208130\n",
        "There are 370 households in TAZ 208140\n",
        "There are 540 residential units in TAZ 208140\n",
        "There are 382 households in TAZ 208150\n",
        "There are 505 residential units in TAZ 208150\n",
        "There are 362 households in TAZ 208160"
       ]
      },
      {
       "output_type": "stream",
       "stream": "stdout",
       "text": [
        "\n",
        "There are 285 residential units in TAZ 208160\n",
        "Warning:  number of households exceeds number of resunits in TAZ 208160\n",
        "There are 1393 households in TAZ 208170\n",
        "There are 1183 residential units in TAZ 208170\n",
        "Warning:  number of households exceeds number of resunits in TAZ 208170\n",
        "There are 424 households in TAZ 208180\n",
        "There are 485 residential units in TAZ 208180\n",
        "There are 366 households in TAZ 208190\n",
        "There are 313 residential units in TAZ 208190"
       ]
      },
      {
       "output_type": "stream",
       "stream": "stdout",
       "text": [
        "\n",
        "Warning:  number of households exceeds number of resunits in TAZ 208190\n",
        "There are 32 households in TAZ 208210\n",
        "There are 0 residential units in TAZ 208210\n",
        "Warning:  number of households exceeds number of resunits in TAZ 208210\n",
        "There are 65 households in TAZ 208220\n",
        "There are 3 residential units in TAZ 208220\n",
        "Warning:  number of households exceeds number of resunits in TAZ 208220\n",
        "There are 741 households in TAZ 208230\n",
        "There are 503 residential units in TAZ 208230\n",
        "Warning:  number of households exceeds number of resunits in TAZ 208230"
       ]
      },
      {
       "output_type": "stream",
       "stream": "stdout",
       "text": [
        "\n",
        "There are 550 households in TAZ 208240\n",
        "There are 532 residential units in TAZ 208240\n",
        "Warning:  number of households exceeds number of resunits in TAZ 208240\n",
        "There are 63 households in TAZ 208250\n",
        "There are 2 residential units in TAZ 208250\n",
        "Warning:  number of households exceeds number of resunits in TAZ 208250\n",
        "There are 38 households in TAZ 208260\n",
        "There are 34 residential units in TAZ 208260\n",
        "Warning:  number of households exceeds number of resunits in TAZ 208260\n",
        "There are 138 households in TAZ 208270"
       ]
      },
      {
       "output_type": "stream",
       "stream": "stdout",
       "text": [
        "\n",
        "There are 184 residential units in TAZ 208270\n",
        "There are 146 households in TAZ 208280\n",
        "There are 140 residential units in TAZ 208280\n",
        "Warning:  number of households exceeds number of resunits in TAZ 208280\n",
        "There are 817 households in TAZ 208290\n",
        "There are 798 residential units in TAZ 208290\n",
        "Warning:  number of households exceeds number of resunits in TAZ 208290\n",
        "There are 768 households in TAZ 208300\n",
        "There are 750 residential units in TAZ 208300"
       ]
      },
      {
       "output_type": "stream",
       "stream": "stdout",
       "text": [
        "\n",
        "Warning:  number of households exceeds number of resunits in TAZ 208300\n",
        "There are 385 households in TAZ 208310\n",
        "There are 378 residential units in TAZ 208310\n",
        "Warning:  number of households exceeds number of resunits in TAZ 208310\n",
        "There are 464 households in TAZ 208320\n",
        "There are 317 residential units in TAZ 208320\n",
        "Warning:  number of households exceeds number of resunits in TAZ 208320\n",
        "There are 646 households in TAZ 208330\n",
        "There are 590 residential units in TAZ 208330\n",
        "Warning:  number of households exceeds number of resunits in TAZ 208330"
       ]
      },
      {
       "output_type": "stream",
       "stream": "stdout",
       "text": [
        "\n",
        "There are 873 households in TAZ 208340\n",
        "There are 758 residential units in TAZ 208340\n",
        "Warning:  number of households exceeds number of resunits in TAZ 208340\n",
        "There are 648 households in TAZ 208350\n",
        "There are 630 residential units in TAZ 208350\n",
        "Warning:  number of households exceeds number of resunits in TAZ 208350\n",
        "There are 594 households in TAZ 208360\n",
        "There are 531 residential units in TAZ 208360\n",
        "Warning:  number of households exceeds number of resunits in TAZ 208360"
       ]
      },
      {
       "output_type": "stream",
       "stream": "stdout",
       "text": [
        "\n",
        "There are 378 households in TAZ 208370\n",
        "There are 382 residential units in TAZ 208370\n",
        "There are 303 households in TAZ 208380\n",
        "There are 308 residential units in TAZ 208380\n",
        "There are 963 households in TAZ 208390\n",
        "There are 967 residential units in TAZ 208390\n",
        "There are 54 households in TAZ 208400"
       ]
      },
      {
       "output_type": "stream",
       "stream": "stdout",
       "text": [
        "\n",
        "There are 49 residential units in TAZ 208400\n",
        "Warning:  number of households exceeds number of resunits in TAZ 208400\n",
        "There are 612 households in TAZ 208410\n",
        "There are 649 residential units in TAZ 208410\n",
        "There are 286 households in TAZ 208420\n",
        "There are 265 residential units in TAZ 208420\n",
        "Warning:  number of households exceeds number of resunits in TAZ 208420\n",
        "There are 292 households in TAZ 209010\n",
        "There are 274 residential units in TAZ 209010"
       ]
      },
      {
       "output_type": "stream",
       "stream": "stdout",
       "text": [
        "\n",
        "Warning:  number of households exceeds number of resunits in TAZ 209010\n",
        "There are 414 households in TAZ 209020\n",
        "There are 427 residential units in TAZ 209020\n",
        "There are 223 households in TAZ 209030\n",
        "There are 218 residential units in TAZ 209030\n",
        "Warning:  number of households exceeds number of resunits in TAZ 209030\n",
        "There are 479 households in TAZ 209040\n",
        "There are 462 residential units in TAZ 209040\n",
        "Warning:  number of households exceeds number of resunits in TAZ 209040"
       ]
      },
      {
       "output_type": "stream",
       "stream": "stdout",
       "text": [
        "\n",
        "There are 339 households in TAZ 209050\n",
        "There are 428 residential units in TAZ 209050\n",
        "There are 565 households in TAZ 209060\n",
        "There are 692 residential units in TAZ 209060\n",
        "There are 417 households in TAZ 209070\n",
        "There are 387 residential units in TAZ 209070\n",
        "Warning:  number of households exceeds number of resunits in TAZ 209070\n",
        "There are 610 households in TAZ 209080"
       ]
      },
      {
       "output_type": "stream",
       "stream": "stdout",
       "text": [
        "\n",
        "There are 529 residential units in TAZ 209080\n",
        "Warning:  number of households exceeds number of resunits in TAZ 209080\n",
        "There are 694 households in TAZ 209090\n",
        "There are 637 residential units in TAZ 209090\n",
        "Warning:  number of households exceeds number of resunits in TAZ 209090\n",
        "There are 419 households in TAZ 209100\n",
        "There are 358 residential units in TAZ 209100\n",
        "Warning:  number of households exceeds number of resunits in TAZ 209100\n",
        "There are 661 households in TAZ 209110\n",
        "There are 499 residential units in TAZ 209110"
       ]
      },
      {
       "output_type": "stream",
       "stream": "stdout",
       "text": [
        "\n",
        "Warning:  number of households exceeds number of resunits in TAZ 209110\n",
        "There are 571 households in TAZ 209120\n",
        "There are 524 residential units in TAZ 209120\n",
        "Warning:  number of households exceeds number of resunits in TAZ 209120\n",
        "There are 1010 households in TAZ 209130\n",
        "There are 967 residential units in TAZ 209130\n",
        "Warning:  number of households exceeds number of resunits in TAZ 209130\n",
        "There are 33 households in TAZ 209140\n",
        "There are 0 residential units in TAZ 209140"
       ]
      },
      {
       "output_type": "stream",
       "stream": "stdout",
       "text": [
        "\n",
        "Warning:  number of households exceeds number of resunits in TAZ 209140\n",
        "There are 81 households in TAZ 209150\n",
        "There are 362 residential units in TAZ 209150\n",
        "There are 1815 households in TAZ 209160\n",
        "There are 2104 residential units in TAZ 209160\n",
        "There are 799 households in TAZ 209170\n",
        "There are 827 residential units in TAZ 209170\n",
        "There are 868 households in TAZ 209180"
       ]
      },
      {
       "output_type": "stream",
       "stream": "stdout",
       "text": [
        "\n",
        "There are 1071 residential units in TAZ 209180\n",
        "There are 1279 households in TAZ 209190\n",
        "There are 1298 residential units in TAZ 209190\n",
        "There are 547 households in TAZ 209200\n",
        "There are 451 residential units in TAZ 209200\n",
        "Warning:  number of households exceeds number of resunits in TAZ 209200\n",
        "There are 645 households in TAZ 209210\n",
        "There are 669 residential units in TAZ 209210"
       ]
      },
      {
       "output_type": "stream",
       "stream": "stdout",
       "text": [
        "\n",
        "There are 357 households in TAZ 209220\n",
        "There are 626 residential units in TAZ 209220\n",
        "There are 439 households in TAZ 209230\n",
        "There are 412 residential units in TAZ 209230\n",
        "Warning:  number of households exceeds number of resunits in TAZ 209230\n",
        "There are 691 households in TAZ 209240\n",
        "There are 700 residential units in TAZ 209240\n",
        "There are 574 households in TAZ 209250"
       ]
      },
      {
       "output_type": "stream",
       "stream": "stdout",
       "text": [
        "\n",
        "There are 529 residential units in TAZ 209250\n",
        "Warning:  number of households exceeds number of resunits in TAZ 209250\n",
        "There are 1346 households in TAZ 209260\n",
        "There are 1367 residential units in TAZ 209260\n",
        "There are 562 households in TAZ 209270\n",
        "There are 576 residential units in TAZ 209270\n",
        "There are 593 households in TAZ 209280"
       ]
      },
      {
       "output_type": "stream",
       "stream": "stdout",
       "text": [
        "\n",
        "There are 650 residential units in TAZ 209280\n",
        "There are 646 households in TAZ 209290\n",
        "There are 647 residential units in TAZ 209290\n",
        "There are 837 households in TAZ 209300\n",
        "There are 881 residential units in TAZ 209300\n",
        "There are 1329 households in TAZ 209310"
       ]
      },
      {
       "output_type": "stream",
       "stream": "stdout",
       "text": [
        "\n",
        "There are 1363 residential units in TAZ 209310\n",
        "There are 84 households in TAZ 209320\n",
        "There are 18 residential units in TAZ 209320\n",
        "Warning:  number of households exceeds number of resunits in TAZ 209320\n",
        "There are 575 households in TAZ 209330\n",
        "There are 570 residential units in TAZ 209330\n",
        "Warning:  number of households exceeds number of resunits in TAZ 209330\n",
        "There are 469 households in TAZ 209340\n",
        "There are 471 residential units in TAZ 209340"
       ]
      },
      {
       "output_type": "stream",
       "stream": "stdout",
       "text": [
        "\n",
        "There are 462 households in TAZ 209350\n",
        "There are 477 residential units in TAZ 209350\n",
        "There are 466 households in TAZ 209360\n",
        "There are 483 residential units in TAZ 209360\n",
        "There are 592 households in TAZ 209370\n",
        "There are 626 residential units in TAZ 209370\n",
        "There are 328 households in TAZ 209380"
       ]
      },
      {
       "output_type": "stream",
       "stream": "stdout",
       "text": [
        "\n",
        "There are 352 residential units in TAZ 209380\n",
        "There are 403 households in TAZ 209390\n",
        "There are 399 residential units in TAZ 209390\n",
        "Warning:  number of households exceeds number of resunits in TAZ 209390\n",
        "There are 1278 households in TAZ 209400\n",
        "There are 1315 residential units in TAZ 209400\n",
        "There are 1465 households in TAZ 209410"
       ]
      },
      {
       "output_type": "stream",
       "stream": "stdout",
       "text": [
        "\n",
        "There are 1643 residential units in TAZ 209410\n",
        "There are 210 households in TAZ 209420\n",
        "There are 207 residential units in TAZ 209420\n",
        "Warning:  number of households exceeds number of resunits in TAZ 209420\n",
        "There are 455 households in TAZ 209430\n",
        "There are 467 residential units in TAZ 209430\n",
        "There are 408 households in TAZ 209440\n",
        "There are 572 residential units in TAZ 209440"
       ]
      },
      {
       "output_type": "stream",
       "stream": "stdout",
       "text": [
        "\n",
        "There are 84 households in TAZ 209450\n",
        "There are 51 residential units in TAZ 209450\n",
        "Warning:  number of households exceeds number of resunits in TAZ 209450\n",
        "There are 865 households in TAZ 210010\n",
        "There are 858 residential units in TAZ 210010\n",
        "Warning:  number of households exceeds number of resunits in TAZ 210010\n",
        "There are 1190 households in TAZ 210020\n",
        "There are 1225 residential units in TAZ 210020\n",
        "There are 21 households in TAZ 210030"
       ]
      },
      {
       "output_type": "stream",
       "stream": "stdout",
       "text": [
        "\n",
        "There are 21 residential units in TAZ 210030\n",
        "There are 2467 households in TAZ 210040\n",
        "There are 2636 residential units in TAZ 210040\n",
        "There are 295 households in TAZ 210050\n",
        "There are 0 residential units in TAZ 210050\n",
        "Warning:  number of households exceeds number of resunits in TAZ 210050\n",
        "There are 434 households in TAZ 210060\n",
        "There are 0 residential units in TAZ 210060"
       ]
      },
      {
       "output_type": "stream",
       "stream": "stdout",
       "text": [
        "\n",
        "Warning:  number of households exceeds number of resunits in TAZ 210060\n",
        "There are 391 households in TAZ 210070\n",
        "There are 0 residential units in TAZ 210070\n",
        "Warning:  number of households exceeds number of resunits in TAZ 210070\n",
        "There are 157 households in TAZ 210080\n",
        "There are 0 residential units in TAZ 210080\n",
        "Warning:  number of households exceeds number of resunits in TAZ 210080\n",
        "There are 690 households in TAZ 210090\n",
        "There are 682 residential units in TAZ 210090\n",
        "Warning:  number of households exceeds number of resunits in TAZ 210090"
       ]
      },
      {
       "output_type": "stream",
       "stream": "stdout",
       "text": [
        "\n",
        "There are 818 households in TAZ 210100\n",
        "There are 786 residential units in TAZ 210100\n",
        "Warning:  number of households exceeds number of resunits in TAZ 210100\n",
        "There are 819 households in TAZ 210110\n",
        "There are 835 residential units in TAZ 210110\n",
        "There are 1120 households in TAZ 210120\n",
        "There are 1140 residential units in TAZ 210120\n",
        "There are 65 households in TAZ 210130"
       ]
      },
      {
       "output_type": "stream",
       "stream": "stdout",
       "text": [
        "\n",
        "There are 133 residential units in TAZ 210130\n",
        "There are 1527 households in TAZ 210140\n",
        "There are 1589 residential units in TAZ 210140\n",
        "There are 552 households in TAZ 210150\n",
        "There are 575 residential units in TAZ 210150\n",
        "There are 634 households in TAZ 210160"
       ]
      },
      {
       "output_type": "stream",
       "stream": "stdout",
       "text": [
        "\n",
        "There are 638 residential units in TAZ 210160\n",
        "There are 12 households in TAZ 210170\n",
        "There are 8 residential units in TAZ 210170\n",
        "Warning:  number of households exceeds number of resunits in TAZ 210170\n",
        "There are 6 households in TAZ 210180\n",
        "There are 2 residential units in TAZ 210180\n",
        "Warning:  number of households exceeds number of resunits in TAZ 210180\n",
        "There are 701 households in TAZ 210190\n",
        "There are 716 residential units in TAZ 210190"
       ]
      },
      {
       "output_type": "stream",
       "stream": "stdout",
       "text": [
        "\n",
        "There are 743 households in TAZ 210200\n",
        "There are 739 residential units in TAZ 210200\n",
        "Warning:  number of households exceeds number of resunits in TAZ 210200\n",
        "There are 828 households in TAZ 210210\n",
        "There are 819 residential units in TAZ 210210\n",
        "Warning:  number of households exceeds number of resunits in TAZ 210210\n",
        "There are 521 households in TAZ 210220\n",
        "There are 528 residential units in TAZ 210220\n",
        "There are 1274 households in TAZ 210230"
       ]
      },
      {
       "output_type": "stream",
       "stream": "stdout",
       "text": [
        "\n",
        "There are 1269 residential units in TAZ 210230\n",
        "Warning:  number of households exceeds number of resunits in TAZ 210230\n",
        "There are 519 households in TAZ 210240\n",
        "There are 568 residential units in TAZ 210240\n",
        "There are 910 households in TAZ 210250\n",
        "There are 922 residential units in TAZ 210250\n",
        "There are 707 households in TAZ 210260"
       ]
      },
      {
       "output_type": "stream",
       "stream": "stdout",
       "text": [
        "\n",
        "There are 701 residential units in TAZ 210260\n",
        "Warning:  number of households exceeds number of resunits in TAZ 210260\n",
        "There are 1311 households in TAZ 210270\n",
        "There are 1425 residential units in TAZ 210270\n",
        "There are 207 households in TAZ 210280\n",
        "There are 58 residential units in TAZ 210280\n",
        "Warning:  number of households exceeds number of resunits in TAZ 210280\n",
        "There are 29 households in TAZ 210290"
       ]
      },
      {
       "output_type": "stream",
       "stream": "stdout",
       "text": [
        "\n",
        "There are 10 residential units in TAZ 210290\n",
        "Warning:  number of households exceeds number of resunits in TAZ 210290\n",
        "There are 30 households in TAZ 210300\n",
        "There are 1 residential units in TAZ 210300\n",
        "Warning:  number of households exceeds number of resunits in TAZ 210300\n",
        "There are 108 households in TAZ 210310\n",
        "There are 100 residential units in TAZ 210310\n",
        "Warning:  number of households exceeds number of resunits in TAZ 210310\n",
        "There are 451 households in TAZ 210320\n",
        "There are 451 residential units in TAZ 210320"
       ]
      },
      {
       "output_type": "stream",
       "stream": "stdout",
       "text": [
        "\n",
        "There are 358 households in TAZ 210330\n",
        "There are 272 residential units in TAZ 210330\n",
        "Warning:  number of households exceeds number of resunits in TAZ 210330\n",
        "There are 392 households in TAZ 210340\n",
        "There are 327 residential units in TAZ 210340\n",
        "Warning:  number of households exceeds number of resunits in TAZ 210340\n",
        "There are 1619 households in TAZ 210350\n",
        "There are 1796 residential units in TAZ 210350\n",
        "There are 9 households in TAZ 210360"
       ]
      },
      {
       "output_type": "stream",
       "stream": "stdout",
       "text": [
        "\n",
        "There are 3 residential units in TAZ 210360\n",
        "Warning:  number of households exceeds number of resunits in TAZ 210360\n",
        "There are 4 households in TAZ 210370\n",
        "There are 2 residential units in TAZ 210370\n",
        "Warning:  number of households exceeds number of resunits in TAZ 210370\n",
        "There are 193 households in TAZ 211010\n",
        "There are 150 residential units in TAZ 211010\n",
        "Warning:  number of households exceeds number of resunits in TAZ 211010\n",
        "There are 326 households in TAZ 211020\n",
        "There are 348 residential units in TAZ 211020"
       ]
      },
      {
       "output_type": "stream",
       "stream": "stdout",
       "text": [
        "\n",
        "There are 583 households in TAZ 211030\n",
        "There are 593 residential units in TAZ 211030\n",
        "There are 675 households in TAZ 211040\n",
        "There are 308 residential units in TAZ 211040\n",
        "Warning:  number of households exceeds number of resunits in TAZ 211040\n",
        "There are 719 households in TAZ 211050\n",
        "There are 690 residential units in TAZ 211050\n",
        "Warning:  number of households exceeds number of resunits in TAZ 211050"
       ]
      },
      {
       "output_type": "stream",
       "stream": "stdout",
       "text": [
        "\n",
        "There are 1194 households in TAZ 211060\n",
        "There are 1093 residential units in TAZ 211060\n",
        "Warning:  number of households exceeds number of resunits in TAZ 211060\n",
        "There are 10 households in TAZ 211070\n",
        "There are 29 residential units in TAZ 211070\n",
        "There are 5 households in TAZ 211090\n",
        "There are 2 residential units in TAZ 211090\n",
        "Warning:  number of households exceeds number of resunits in TAZ 211090\n",
        "There are 63 households in TAZ 211100"
       ]
      },
      {
       "output_type": "stream",
       "stream": "stdout",
       "text": [
        "\n",
        "There are 46 residential units in TAZ 211100\n",
        "Warning:  number of households exceeds number of resunits in TAZ 211100\n",
        "There are 1166 households in TAZ 211110\n",
        "There are 1220 residential units in TAZ 211110\n",
        "There are 506 households in TAZ 211120\n",
        "There are 534 residential units in TAZ 211120\n",
        "There are 265 households in TAZ 211130\n",
        "There are 208 residential units in TAZ 211130"
       ]
      },
      {
       "output_type": "stream",
       "stream": "stdout",
       "text": [
        "\n",
        "Warning:  number of households exceeds number of resunits in TAZ 211130\n",
        "There are 273 households in TAZ 211140\n",
        "There are 200 residential units in TAZ 211140\n",
        "Warning:  number of households exceeds number of resunits in TAZ 211140\n",
        "There are 204 households in TAZ 211150\n",
        "There are 428 residential units in TAZ 211150\n",
        "There are 655 households in TAZ 211160\n",
        "There are 641 residential units in TAZ 211160\n",
        "Warning:  number of households exceeds number of resunits in TAZ 211160"
       ]
      },
      {
       "output_type": "stream",
       "stream": "stdout",
       "text": [
        "\n",
        "There are 753 households in TAZ 211170\n",
        "There are 706 residential units in TAZ 211170\n",
        "Warning:  number of households exceeds number of resunits in TAZ 211170\n",
        "There are 870 households in TAZ 211180\n",
        "There are 1039 residential units in TAZ 211180\n",
        "There are 172 households in TAZ 211190\n",
        "There are 147 residential units in TAZ 211190\n",
        "Warning:  number of households exceeds number of resunits in TAZ 211190\n",
        "There are 568 households in TAZ 211200"
       ]
      },
      {
       "output_type": "stream",
       "stream": "stdout",
       "text": [
        "\n",
        "There are 657 residential units in TAZ 211200\n",
        "There are 44 households in TAZ 211210\n",
        "There are 43 residential units in TAZ 211210\n",
        "Warning:  number of households exceeds number of resunits in TAZ 211210\n",
        "There are 259 households in TAZ 211220\n",
        "There are 327 residential units in TAZ 211220\n",
        "There are 441 households in TAZ 211230\n",
        "There are 393 residential units in TAZ 211230"
       ]
      },
      {
       "output_type": "stream",
       "stream": "stdout",
       "text": [
        "\n",
        "Warning:  number of households exceeds number of resunits in TAZ 211230\n",
        "There are 733 households in TAZ 211240\n",
        "There are 768 residential units in TAZ 211240\n",
        "There are 665 households in TAZ 211250\n",
        "There are 735 residential units in TAZ 211250\n",
        "There are 595 households in TAZ 211260\n",
        "There are 376 residential units in TAZ 211260"
       ]
      },
      {
       "output_type": "stream",
       "stream": "stdout",
       "text": [
        "\n",
        "Warning:  number of households exceeds number of resunits in TAZ 211260\n",
        "There are 518 households in TAZ 211270\n",
        "There are 563 residential units in TAZ 211270\n",
        "There are 938 households in TAZ 211280\n",
        "There are 1012 residential units in TAZ 211280\n",
        "There are 733 households in TAZ 211290\n",
        "There are 813 residential units in TAZ 211290\n",
        "There are 865 households in TAZ 211300"
       ]
      },
      {
       "output_type": "stream",
       "stream": "stdout",
       "text": [
        "\n",
        "There are 799 residential units in TAZ 211300\n",
        "Warning:  number of households exceeds number of resunits in TAZ 211300\n",
        "There are 646 households in TAZ 211310\n",
        "There are 795 residential units in TAZ 211310\n",
        "There are 148 households in TAZ 212010\n",
        "There are 80 residential units in TAZ 212010\n",
        "Warning:  number of households exceeds number of resunits in TAZ 212010\n",
        "There are 1437 households in TAZ 212020\n",
        "There are 1262 residential units in TAZ 212020"
       ]
      },
      {
       "output_type": "stream",
       "stream": "stdout",
       "text": [
        "\n",
        "Warning:  number of households exceeds number of resunits in TAZ 212020\n",
        "There are 267 households in TAZ 212030\n",
        "There are 280 residential units in TAZ 212030\n",
        "There are 465 households in TAZ 212040\n",
        "There are 511 residential units in TAZ 212040\n",
        "There are 348 households in TAZ 212050\n",
        "There are 349 residential units in TAZ 212050\n",
        "There are 197 households in TAZ 212060"
       ]
      },
      {
       "output_type": "stream",
       "stream": "stdout",
       "text": [
        "\n",
        "There are 153 residential units in TAZ 212060\n",
        "Warning:  number of households exceeds number of resunits in TAZ 212060\n",
        "There are 929 households in TAZ 212070\n",
        "There are 744 residential units in TAZ 212070\n",
        "Warning:  number of households exceeds number of resunits in TAZ 212070\n",
        "There are 1165 households in TAZ 212080\n",
        "There are 937 residential units in TAZ 212080\n",
        "Warning:  number of households exceeds number of resunits in TAZ 212080\n",
        "There are 5 households in TAZ 212090"
       ]
      },
      {
       "output_type": "stream",
       "stream": "stdout",
       "text": [
        "\n",
        "There are 0 residential units in TAZ 212090\n",
        "Warning:  number of households exceeds number of resunits in TAZ 212090\n",
        "There are 707 households in TAZ 212100\n",
        "There are 721 residential units in TAZ 212100\n",
        "There are 347 households in TAZ 212110\n",
        "There are 272 residential units in TAZ 212110\n",
        "Warning:  number of households exceeds number of resunits in TAZ 212110\n",
        "There are 253 households in TAZ 212120\n",
        "There are 151 residential units in TAZ 212120"
       ]
      },
      {
       "output_type": "stream",
       "stream": "stdout",
       "text": [
        "\n",
        "Warning:  number of households exceeds number of resunits in TAZ 212120\n",
        "There are 1219 households in TAZ 212130\n",
        "There are 1172 residential units in TAZ 212130\n",
        "Warning:  number of households exceeds number of resunits in TAZ 212130\n",
        "There are 574 households in TAZ 212140\n",
        "There are 733 residential units in TAZ 212140\n",
        "There are 1109 households in TAZ 212150\n",
        "There are 1404 residential units in TAZ 212150"
       ]
      },
      {
       "output_type": "stream",
       "stream": "stdout",
       "text": [
        "\n",
        "There are 220 households in TAZ 212160\n",
        "There are 376 residential units in TAZ 212160\n",
        "There are 64 households in TAZ 212170\n",
        "There are 108 residential units in TAZ 212170\n",
        "There are 451 households in TAZ 212180\n",
        "There are 927 residential units in TAZ 212180\n",
        "There are 735 households in TAZ 212190"
       ]
      },
      {
       "output_type": "stream",
       "stream": "stdout",
       "text": [
        "\n",
        "There are 791 residential units in TAZ 212190\n",
        "There are 51 households in TAZ 212210\n",
        "There are 70 residential units in TAZ 212210\n",
        "There are 76 households in TAZ 212220\n",
        "There are 91 residential units in TAZ 212220\n",
        "There are 532 households in TAZ 213010\n",
        "There are 563 residential units in TAZ 213010"
       ]
      },
      {
       "output_type": "stream",
       "stream": "stdout",
       "text": [
        "\n",
        "There are 59 households in TAZ 213030\n",
        "There are 59 residential units in TAZ 213030\n",
        "There are 807 households in TAZ 213040\n",
        "There are 842 residential units in TAZ 213040\n",
        "There are 304 households in TAZ 213050\n",
        "There are 581 residential units in TAZ 213050\n",
        "There are 469 households in TAZ 213060"
       ]
      },
      {
       "output_type": "stream",
       "stream": "stdout",
       "text": [
        "\n",
        "There are 495 residential units in TAZ 213060\n",
        "There are 960 households in TAZ 213070\n",
        "There are 1021 residential units in TAZ 213070\n",
        "There are 501 households in TAZ 213080\n",
        "There are 569 residential units in TAZ 213080\n",
        "There are 1217 households in TAZ 213090\n",
        "There are 1422 residential units in TAZ 213090"
       ]
      },
      {
       "output_type": "stream",
       "stream": "stdout",
       "text": [
        "\n",
        "There are 1153 households in TAZ 213100\n",
        "There are 1201 residential units in TAZ 213100\n",
        "There are 104 households in TAZ 213110\n",
        "There are 4 residential units in TAZ 213110\n",
        "Warning:  number of households exceeds number of resunits in TAZ 213110\n",
        "There are 21 households in TAZ 213120\n",
        "There are 18 residential units in TAZ 213120\n",
        "Warning:  number of households exceeds number of resunits in TAZ 213120"
       ]
      },
      {
       "output_type": "stream",
       "stream": "stdout",
       "text": [
        "\n",
        "There are 1198 households in TAZ 213140\n",
        "There are 1221 residential units in TAZ 213140\n",
        "There are 632 households in TAZ 213150\n",
        "There are 691 residential units in TAZ 213150\n",
        "There are 653 households in TAZ 213160\n",
        "There are 706 residential units in TAZ 213160\n",
        "There are 617 households in TAZ 213170"
       ]
      },
      {
       "output_type": "stream",
       "stream": "stdout",
       "text": [
        "\n",
        "There are 754 residential units in TAZ 213170\n",
        "There are 1597 households in TAZ 213180\n",
        "There are 1780 residential units in TAZ 213180\n",
        "There are 532 households in TAZ 213190\n",
        "There are 592 residential units in TAZ 213190\n",
        "There are 334 households in TAZ 213200\n",
        "There are 446 residential units in TAZ 213200"
       ]
      },
      {
       "output_type": "stream",
       "stream": "stdout",
       "text": [
        "\n",
        "There are 892 households in TAZ 213210\n",
        "There are 880 residential units in TAZ 213210\n",
        "Warning:  number of households exceeds number of resunits in TAZ 213210\n",
        "There are 717 households in TAZ 213230\n",
        "There are 724 residential units in TAZ 213230\n",
        "There are 1367 households in TAZ 213240\n",
        "There are 1555 residential units in TAZ 213240"
       ]
      },
      {
       "output_type": "stream",
       "stream": "stdout",
       "text": [
        "\n",
        "There are 552 households in TAZ 213250\n",
        "There are 628 residential units in TAZ 213250\n",
        "There are 613 households in TAZ 213260\n",
        "There are 754 residential units in TAZ 213260\n",
        "There are 218 households in TAZ 213270\n",
        "There are 210 residential units in TAZ 213270"
       ]
      },
      {
       "output_type": "stream",
       "stream": "stdout",
       "text": [
        "\n",
        "Warning:  number of households exceeds number of resunits in TAZ 213270\n",
        "There are 2 households in TAZ 213280\n",
        "There are 0 residential units in TAZ 213280\n",
        "Warning:  number of households exceeds number of resunits in TAZ 213280\n",
        "There are 274 households in TAZ 213290\n",
        "There are 331 residential units in TAZ 213290\n",
        "There are 23 households in TAZ 213300\n",
        "There are 1 residential units in TAZ 213300\n",
        "Warning:  number of households exceeds number of resunits in TAZ 213300"
       ]
      },
      {
       "output_type": "stream",
       "stream": "stdout",
       "text": [
        "\n",
        "There are 1028 households in TAZ 214010\n",
        "There are 1006 residential units in TAZ 214010\n",
        "Warning:  number of households exceeds number of resunits in TAZ 214010\n",
        "There are 580 households in TAZ 214020\n",
        "There are 568 residential units in TAZ 214020\n",
        "Warning:  number of households exceeds number of resunits in TAZ 214020\n",
        "There are 722 households in TAZ 214030\n",
        "There are 948 residential units in TAZ 214030\n",
        "There are 76 households in TAZ 214040"
       ]
      },
      {
       "output_type": "stream",
       "stream": "stdout",
       "text": [
        "\n",
        "There are 83 residential units in TAZ 214040\n",
        "There are 714 households in TAZ 214050\n",
        "There are 794 residential units in TAZ 214050\n",
        "There are 227 households in TAZ 214080\n",
        "There are 226 residential units in TAZ 214080\n",
        "Warning:  number of households exceeds number of resunits in TAZ 214080\n",
        "There are 608 households in TAZ 214090\n",
        "There are 618 residential units in TAZ 214090"
       ]
      },
      {
       "output_type": "stream",
       "stream": "stdout",
       "text": [
        "\n",
        "There are 201 households in TAZ 214100\n",
        "There are 195 residential units in TAZ 214100\n",
        "Warning:  number of households exceeds number of resunits in TAZ 214100\n",
        "There are 1004 households in TAZ 214110\n",
        "There are 1018 residential units in TAZ 214110\n",
        "There are 178 households in TAZ 214120\n",
        "There are 365 residential units in TAZ 214120\n",
        "There are 454 households in TAZ 214130"
       ]
      },
      {
       "output_type": "stream",
       "stream": "stdout",
       "text": [
        "\n",
        "There are 474 residential units in TAZ 214130\n",
        "There are 395 households in TAZ 214140\n",
        "There are 395 residential units in TAZ 214140\n",
        "There are 349 households in TAZ 214150\n",
        "There are 375 residential units in TAZ 214150\n",
        "There are 508 households in TAZ 214160\n",
        "There are 532 residential units in TAZ 214160"
       ]
      },
      {
       "output_type": "stream",
       "stream": "stdout",
       "text": [
        "\n",
        "There are 702 households in TAZ 214170\n",
        "There are 770 residential units in TAZ 214170\n",
        "There are 1128 households in TAZ 214180\n",
        "There are 1294 residential units in TAZ 214180\n",
        "There are 1311 households in TAZ 214190\n",
        "There are 1334 residential units in TAZ 214190\n",
        "There are 695 households in TAZ 214200"
       ]
      },
      {
       "output_type": "stream",
       "stream": "stdout",
       "text": [
        "\n",
        "There are 717 residential units in TAZ 214200\n",
        "There are 456 households in TAZ 214210\n",
        "There are 459 residential units in TAZ 214210\n",
        "There are 809 households in TAZ 214220\n",
        "There are 844 residential units in TAZ 214220\n",
        "There are 1402 households in TAZ 214230\n",
        "There are 1559 residential units in TAZ 214230"
       ]
      },
      {
       "output_type": "stream",
       "stream": "stdout",
       "text": [
        "\n",
        "There are 702 households in TAZ 214240\n",
        "There are 759 residential units in TAZ 214240\n",
        "There are 792 households in TAZ 214250\n",
        "There are 807 residential units in TAZ 214250\n",
        "There are 766 households in TAZ 214260\n",
        "There are 784 residential units in TAZ 214260\n",
        "There are 974 households in TAZ 214270"
       ]
      },
      {
       "output_type": "stream",
       "stream": "stdout",
       "text": [
        "\n",
        "There are 974 residential units in TAZ 214270\n",
        "There are 856 households in TAZ 214280\n",
        "There are 986 residential units in TAZ 214280\n",
        "There are 540 households in TAZ 214290\n",
        "There are 638 residential units in TAZ 214290\n",
        "There are 427 households in TAZ 214300\n",
        "There are 534 residential units in TAZ 214300"
       ]
      },
      {
       "output_type": "stream",
       "stream": "stdout",
       "text": [
        "\n",
        "There are 236 households in TAZ 214310\n",
        "There are 383 residential units in TAZ 214310\n",
        "There are 12 households in TAZ 214320\n",
        "There are 11 residential units in TAZ 214320\n",
        "Warning:  number of households exceeds number of resunits in TAZ 214320\n",
        "There are 2 households in TAZ 301060\n",
        "There are 0 residential units in TAZ 301060\n",
        "Warning:  number of households exceeds number of resunits in TAZ 301060"
       ]
      },
      {
       "output_type": "stream",
       "stream": "stdout",
       "text": [
        "\n",
        "There are 22 households in TAZ 301070\n",
        "There are 24 residential units in TAZ 301070\n",
        "There are 472 households in TAZ 301080\n",
        "There are 316 residential units in TAZ 301080\n",
        "Warning:  number of households exceeds number of resunits in TAZ 301080\n",
        "There are 137 households in TAZ 301090\n",
        "There are 100 residential units in TAZ 301090\n",
        "Warning:  number of households exceeds number of resunits in TAZ 301090\n",
        "There are 409 households in TAZ 301100"
       ]
      },
      {
       "output_type": "stream",
       "stream": "stdout",
       "text": [
        "\n",
        "There are 30 residential units in TAZ 301100\n",
        "Warning:  number of households exceeds number of resunits in TAZ 301100\n",
        "There are 134 households in TAZ 301110\n",
        "There are 12 residential units in TAZ 301110\n",
        "Warning:  number of households exceeds number of resunits in TAZ 301110\n",
        "There are 136 households in TAZ 301120\n",
        "There are 32 residential units in TAZ 301120\n",
        "Warning:  number of households exceeds number of resunits in TAZ 301120\n",
        "There are 83 households in TAZ 301130\n",
        "There are 20 residential units in TAZ 301130"
       ]
      },
      {
       "output_type": "stream",
       "stream": "stdout",
       "text": [
        "\n",
        "Warning:  number of households exceeds number of resunits in TAZ 301130\n",
        "There are 152 households in TAZ 301240\n",
        "There are 190 residential units in TAZ 301240\n",
        "There are 334 households in TAZ 301250\n",
        "There are 347 residential units in TAZ 301250\n",
        "There are 22 households in TAZ 301260\n",
        "There are 24 residential units in TAZ 301260\n",
        "There are 95 households in TAZ 301270"
       ]
      },
      {
       "output_type": "stream",
       "stream": "stdout",
       "text": [
        "\n",
        "There are 0 residential units in TAZ 301270\n",
        "Warning:  number of households exceeds number of resunits in TAZ 301270\n",
        "There are 11 households in TAZ 301280\n",
        "There are 13 residential units in TAZ 301280\n",
        "There are 21 households in TAZ 301290\n",
        "There are 13 residential units in TAZ 301290\n",
        "Warning:  number of households exceeds number of resunits in TAZ 301290\n",
        "There are 27 households in TAZ 301300\n",
        "There are 20 residential units in TAZ 301300"
       ]
      },
      {
       "output_type": "stream",
       "stream": "stdout",
       "text": [
        "\n",
        "Warning:  number of households exceeds number of resunits in TAZ 301300\n",
        "There are 226 households in TAZ 301310\n",
        "There are 423 residential units in TAZ 301310\n",
        "There are 538 households in TAZ 301320\n",
        "There are 642 residential units in TAZ 301320\n",
        "There are 129 households in TAZ 301330\n",
        "There are 7 residential units in TAZ 301330\n",
        "Warning:  number of households exceeds number of resunits in TAZ 301330"
       ]
      },
      {
       "output_type": "stream",
       "stream": "stdout",
       "text": [
        "\n",
        "There are 178 households in TAZ 301340\n",
        "There are 48 residential units in TAZ 301340\n",
        "Warning:  number of households exceeds number of resunits in TAZ 301340\n",
        "There are 3 households in TAZ 301350\n",
        "There are 0 residential units in TAZ 301350\n",
        "Warning:  number of households exceeds number of resunits in TAZ 301350\n",
        "There are 1 households in TAZ 301360\n",
        "There are 0 residential units in TAZ 301360\n",
        "Warning:  number of households exceeds number of resunits in TAZ 301360\n",
        "There are 228 households in TAZ 301370"
       ]
      },
      {
       "output_type": "stream",
       "stream": "stdout",
       "text": [
        "\n",
        "There are 204 residential units in TAZ 301370\n",
        "Warning:  number of households exceeds number of resunits in TAZ 301370\n",
        "There are 660 households in TAZ 301450\n",
        "There are 683 residential units in TAZ 301450\n",
        "There are 1218 households in TAZ 301460\n",
        "There are 1164 residential units in TAZ 301460\n",
        "Warning:  number of households exceeds number of resunits in TAZ 301460\n",
        "There are 1 households in TAZ 301470\n",
        "There are 0 residential units in TAZ 301470"
       ]
      },
      {
       "output_type": "stream",
       "stream": "stdout",
       "text": [
        "\n",
        "Warning:  number of households exceeds number of resunits in TAZ 301470\n",
        "There are 10 households in TAZ 301480\n",
        "There are 0 residential units in TAZ 301480\n",
        "Warning:  number of households exceeds number of resunits in TAZ 301480\n",
        "There are 1253 households in TAZ 301490\n",
        "There are 1549 residential units in TAZ 301490\n",
        "There are 295 households in TAZ 301500\n",
        "There are 296 residential units in TAZ 301500\n",
        "There are 1 households in TAZ 301510"
       ]
      },
      {
       "output_type": "stream",
       "stream": "stdout",
       "text": [
        "\n",
        "There are 0 residential units in TAZ 301510\n",
        "Warning:  number of households exceeds number of resunits in TAZ 301510\n",
        "There are 7 households in TAZ 301520\n",
        "There are 9 residential units in TAZ 301520\n",
        "There are 83 households in TAZ 301550\n",
        "There are 19 residential units in TAZ 301550\n",
        "Warning:  number of households exceeds number of resunits in TAZ 301550\n",
        "There are 132 households in TAZ 302010\n",
        "There are 275 residential units in TAZ 302010"
       ]
      },
      {
       "output_type": "stream",
       "stream": "stdout",
       "text": [
        "\n",
        "There are 43 households in TAZ 302020\n",
        "There are 83 residential units in TAZ 302020\n",
        "There are 78 households in TAZ 302030\n",
        "There are 82 residential units in TAZ 302030\n",
        "There are 62 households in TAZ 302040\n",
        "There are 41 residential units in TAZ 302040\n",
        "Warning:  number of households exceeds number of resunits in TAZ 302040"
       ]
      },
      {
       "output_type": "stream",
       "stream": "stdout",
       "text": [
        "\n",
        "There are 157 households in TAZ 302050\n",
        "There are 223 residential units in TAZ 302050\n",
        "There are 200 households in TAZ 302060\n",
        "There are 254 residential units in TAZ 302060\n",
        "There are 109 households in TAZ 302070\n",
        "There are 95 residential units in TAZ 302070\n",
        "Warning:  number of households exceeds number of resunits in TAZ 302070\n",
        "There are 137 households in TAZ 302080"
       ]
      },
      {
       "output_type": "stream",
       "stream": "stdout",
       "text": [
        "\n",
        "There are 8 residential units in TAZ 302080\n",
        "Warning:  number of households exceeds number of resunits in TAZ 302080\n",
        "There are 95 households in TAZ 302090\n",
        "There are 28 residential units in TAZ 302090\n",
        "Warning:  number of households exceeds number of resunits in TAZ 302090\n",
        "There are 115 households in TAZ 302110\n",
        "There are 5 residential units in TAZ 302110\n",
        "Warning:  number of households exceeds number of resunits in TAZ 302110\n",
        "There are 118 households in TAZ 302120\n",
        "There are 271 residential units in TAZ 302120"
       ]
      },
      {
       "output_type": "stream",
       "stream": "stdout",
       "text": [
        "\n",
        "There are 369 households in TAZ 302130\n",
        "There are 393 residential units in TAZ 302130\n",
        "There are 36 households in TAZ 302140\n",
        "There are 82 residential units in TAZ 302140\n",
        "There are 96 households in TAZ 302150\n",
        "There are 4 residential units in TAZ 302150\n",
        "Warning:  number of households exceeds number of resunits in TAZ 302150"
       ]
      },
      {
       "output_type": "stream",
       "stream": "stdout",
       "text": [
        "\n",
        "There are 46 households in TAZ 302160\n",
        "There are 46 residential units in TAZ 302160\n",
        "There are 86 households in TAZ 302170\n",
        "There are 29 residential units in TAZ 302170\n",
        "Warning:  number of households exceeds number of resunits in TAZ 302170\n",
        "There are 159 households in TAZ 302180\n",
        "There are 502 residential units in TAZ 302180\n",
        "There are 381 households in TAZ 302190"
       ]
      },
      {
       "output_type": "stream",
       "stream": "stdout",
       "text": [
        "\n",
        "There are 517 residential units in TAZ 302190\n",
        "There are 679 households in TAZ 302200\n",
        "There are 727 residential units in TAZ 302200\n",
        "There are 378 households in TAZ 302210\n",
        "There are 651 residential units in TAZ 302210\n",
        "There are 141 households in TAZ 302220\n",
        "There are 184 residential units in TAZ 302220"
       ]
      },
      {
       "output_type": "stream",
       "stream": "stdout",
       "text": [
        "\n",
        "There are 7 households in TAZ 302230\n",
        "There are 7 residential units in TAZ 302230\n",
        "There are 8 households in TAZ 302240\n",
        "There are 18 residential units in TAZ 302240\n",
        "There are 391 households in TAZ 302250\n",
        "There are 528 residential units in TAZ 302250\n",
        "There are 1108 households in TAZ 302260"
       ]
      },
      {
       "output_type": "stream",
       "stream": "stdout",
       "text": [
        "\n",
        "There are 1075 residential units in TAZ 302260\n",
        "Warning:  number of households exceeds number of resunits in TAZ 302260\n",
        "There are 764 households in TAZ 302270\n",
        "There are 741 residential units in TAZ 302270\n",
        "Warning:  number of households exceeds number of resunits in TAZ 302270\n",
        "There are 318 households in TAZ 302280\n",
        "There are 351 residential units in TAZ 302280\n",
        "There are 927 households in TAZ 302290\n",
        "There are 996 residential units in TAZ 302290"
       ]
      },
      {
       "output_type": "stream",
       "stream": "stdout",
       "text": [
        "\n",
        "There are 791 households in TAZ 302300\n",
        "There are 869 residential units in TAZ 302300\n",
        "There are 1126 households in TAZ 302310\n",
        "There are 1157 residential units in TAZ 302310\n",
        "There are 879 households in TAZ 302320\n",
        "There are 865 residential units in TAZ 302320"
       ]
      },
      {
       "output_type": "stream",
       "stream": "stdout",
       "text": [
        "\n",
        "Warning:  number of households exceeds number of resunits in TAZ 302320\n",
        "There are 490 households in TAZ 302330\n",
        "There are 1197 residential units in TAZ 302330\n",
        "There are 94 households in TAZ 302340\n",
        "There are 422 residential units in TAZ 302340\n",
        "There are 78 households in TAZ 303010\n",
        "There are 69 residential units in TAZ 303010"
       ]
      },
      {
       "output_type": "stream",
       "stream": "stdout",
       "text": [
        "\n",
        "Warning:  number of households exceeds number of resunits in TAZ 303010\n",
        "There are 137 households in TAZ 303020\n",
        "There are 172 residential units in TAZ 303020\n",
        "There are 209 households in TAZ 303030\n",
        "There are 220 residential units in TAZ 303030\n",
        "There are 267 households in TAZ 303040\n",
        "There are 407 residential units in TAZ 303040\n",
        "There are 558 households in TAZ 303050"
       ]
      },
      {
       "output_type": "stream",
       "stream": "stdout",
       "text": [
        "\n",
        "There are 533 residential units in TAZ 303050\n",
        "Warning:  number of households exceeds number of resunits in TAZ 303050\n",
        "There are 615 households in TAZ 303060\n",
        "There are 590 residential units in TAZ 303060\n",
        "Warning:  number of households exceeds number of resunits in TAZ 303060\n",
        "There are 376 households in TAZ 303070\n",
        "There are 356 residential units in TAZ 303070\n",
        "Warning:  number of households exceeds number of resunits in TAZ 303070\n",
        "There are 193 households in TAZ 303080"
       ]
      },
      {
       "output_type": "stream",
       "stream": "stdout",
       "text": [
        "\n",
        "There are 849 residential units in TAZ 303080\n",
        "There are 365 households in TAZ 303090\n",
        "There are 270 residential units in TAZ 303090\n",
        "Warning:  number of households exceeds number of resunits in TAZ 303090\n",
        "There are 617 households in TAZ 303100\n",
        "There are 779 residential units in TAZ 303100\n",
        "There are 145 households in TAZ 303110\n",
        "There are 444 residential units in TAZ 303110"
       ]
      },
      {
       "output_type": "stream",
       "stream": "stdout",
       "text": [
        "\n",
        "There are 202 households in TAZ 303120\n",
        "There are 330 residential units in TAZ 303120\n",
        "There are 1076 households in TAZ 303130\n",
        "There are 1120 residential units in TAZ 303130\n",
        "There are 811 households in TAZ 303140\n",
        "There are 734 residential units in TAZ 303140\n",
        "Warning:  number of households exceeds number of resunits in TAZ 303140"
       ]
      },
      {
       "output_type": "stream",
       "stream": "stdout",
       "text": [
        "\n",
        "There are 705 households in TAZ 303150\n",
        "There are 685 residential units in TAZ 303150\n",
        "Warning:  number of households exceeds number of resunits in TAZ 303150\n",
        "There are 111 households in TAZ 303160\n",
        "There are 100 residential units in TAZ 303160\n",
        "Warning:  number of households exceeds number of resunits in TAZ 303160\n",
        "There are 521 households in TAZ 303170\n",
        "There are 575 residential units in TAZ 303170\n",
        "There are 435 households in TAZ 303180"
       ]
      },
      {
       "output_type": "stream",
       "stream": "stdout",
       "text": [
        "\n",
        "There are 461 residential units in TAZ 303180\n",
        "There are 485 households in TAZ 303190\n",
        "There are 492 residential units in TAZ 303190\n",
        "There are 733 households in TAZ 303200\n",
        "There are 640 residential units in TAZ 303200\n",
        "Warning:  number of households exceeds number of resunits in TAZ 303200\n",
        "There are 475 households in TAZ 303210\n",
        "There are 490 residential units in TAZ 303210"
       ]
      },
      {
       "output_type": "stream",
       "stream": "stdout",
       "text": [
        "\n",
        "There are 157 households in TAZ 303220\n",
        "There are 318 residential units in TAZ 303220\n",
        "There are 52 households in TAZ 303230\n",
        "There are 1 residential units in TAZ 303230\n",
        "Warning:  number of households exceeds number of resunits in TAZ 303230\n",
        "There are 124 households in TAZ 304010\n",
        "There are 345 residential units in TAZ 304010\n",
        "There are 432 households in TAZ 304020"
       ]
      },
      {
       "output_type": "stream",
       "stream": "stdout",
       "text": [
        "\n",
        "There are 936 residential units in TAZ 304020\n",
        "There are 182 households in TAZ 304030\n",
        "There are 283 residential units in TAZ 304030\n",
        "There are 116 households in TAZ 304040\n",
        "There are 133 residential units in TAZ 304040\n",
        "There are 86 households in TAZ 304050\n",
        "There are 112 residential units in TAZ 304050"
       ]
      },
      {
       "output_type": "stream",
       "stream": "stdout",
       "text": [
        "\n",
        "There are 144 households in TAZ 304060\n",
        "There are 130 residential units in TAZ 304060\n",
        "Warning:  number of households exceeds number of resunits in TAZ 304060\n",
        "There are 159 households in TAZ 304070\n",
        "There are 0 residential units in TAZ 304070\n",
        "Warning:  number of households exceeds number of resunits in TAZ 304070\n",
        "There are 57 households in TAZ 304090\n",
        "There are 13 residential units in TAZ 304090\n",
        "Warning:  number of households exceeds number of resunits in TAZ 304090"
       ]
      },
      {
       "output_type": "stream",
       "stream": "stdout",
       "text": [
        "\n",
        "There are 91 households in TAZ 304100\n",
        "There are 5 residential units in TAZ 304100\n",
        "Warning:  number of households exceeds number of resunits in TAZ 304100\n",
        "There are 38 households in TAZ 304110\n",
        "There are 9 residential units in TAZ 304110\n",
        "Warning:  number of households exceeds number of resunits in TAZ 304110\n",
        "There are 112 households in TAZ 304120\n",
        "There are 181 residential units in TAZ 304120\n",
        "There are 140 households in TAZ 304130"
       ]
      },
      {
       "output_type": "stream",
       "stream": "stdout",
       "text": [
        "\n",
        "There are 31 residential units in TAZ 304130\n",
        "Warning:  number of households exceeds number of resunits in TAZ 304130\n",
        "There are 7 households in TAZ 304140\n",
        "There are 0 residential units in TAZ 304140\n",
        "Warning:  number of households exceeds number of resunits in TAZ 304140\n",
        "There are 32 households in TAZ 304150\n",
        "There are 24 residential units in TAZ 304150\n",
        "Warning:  number of households exceeds number of resunits in TAZ 304150\n",
        "There are 158 households in TAZ 304160\n",
        "There are 41 residential units in TAZ 304160"
       ]
      },
      {
       "output_type": "stream",
       "stream": "stdout",
       "text": [
        "\n",
        "Warning:  number of households exceeds number of resunits in TAZ 304160\n",
        "There are 447 households in TAZ 304170\n",
        "There are 524 residential units in TAZ 304170\n",
        "There are 23 households in TAZ 304180\n",
        "There are 43 residential units in TAZ 304180\n",
        "There are 361 households in TAZ 304190\n",
        "There are 75 residential units in TAZ 304190\n",
        "Warning:  number of households exceeds number of resunits in TAZ 304190"
       ]
      },
      {
       "output_type": "stream",
       "stream": "stdout",
       "text": [
        "\n",
        "There are 151 households in TAZ 304200\n",
        "There are 3 residential units in TAZ 304200\n",
        "Warning:  number of households exceeds number of resunits in TAZ 304200\n",
        "There are 1 households in TAZ 304210\n",
        "There are 1 residential units in TAZ 304210\n",
        "There are 126 households in TAZ 304220\n",
        "There are 58 residential units in TAZ 304220\n",
        "Warning:  number of households exceeds number of resunits in TAZ 304220\n",
        "There are 61 households in TAZ 304230"
       ]
      },
      {
       "output_type": "stream",
       "stream": "stdout",
       "text": [
        "\n",
        "There are 94 residential units in TAZ 304230\n",
        "There are 47 households in TAZ 304240\n",
        "There are 34 residential units in TAZ 304240\n",
        "Warning:  number of households exceeds number of resunits in TAZ 304240\n",
        "There are 45 households in TAZ 304250\n",
        "There are 47 residential units in TAZ 304250\n",
        "There are 246 households in TAZ 304260\n",
        "There are 38 residential units in TAZ 304260"
       ]
      },
      {
       "output_type": "stream",
       "stream": "stdout",
       "text": [
        "\n",
        "Warning:  number of households exceeds number of resunits in TAZ 304260\n",
        "There are 232 households in TAZ 304270\n",
        "There are 19 residential units in TAZ 304270\n",
        "Warning:  number of households exceeds number of resunits in TAZ 304270\n",
        "There are 11 households in TAZ 304280\n",
        "There are 17 residential units in TAZ 304280\n",
        "There are 2 households in TAZ 304290\n",
        "There are 9 residential units in TAZ 304290\n",
        "There are 20 households in TAZ 304300"
       ]
      },
      {
       "output_type": "stream",
       "stream": "stdout",
       "text": [
        "\n",
        "There are 1 residential units in TAZ 304300\n",
        "Warning:  number of households exceeds number of resunits in TAZ 304300\n",
        "There are 126 households in TAZ 304310\n",
        "There are 320 residential units in TAZ 304310\n",
        "There are 101 households in TAZ 304320\n",
        "There are 28 residential units in TAZ 304320\n",
        "Warning:  number of households exceeds number of resunits in TAZ 304320\n",
        "There are 26 households in TAZ 304330\n",
        "There are 46 residential units in TAZ 304330"
       ]
      },
      {
       "output_type": "stream",
       "stream": "stdout",
       "text": [
        "\n",
        "There are 5 households in TAZ 304340\n",
        "There are 6 residential units in TAZ 304340\n",
        "There are 2 households in TAZ 304350\n",
        "There are 0 residential units in TAZ 304350\n",
        "Warning:  number of households exceeds number of resunits in TAZ 304350\n",
        "There are 143 households in TAZ 304360\n",
        "There are 132 residential units in TAZ 304360\n",
        "Warning:  number of households exceeds number of resunits in TAZ 304360"
       ]
      },
      {
       "output_type": "stream",
       "stream": "stdout",
       "text": [
        "\n",
        "There are 525 households in TAZ 304370\n",
        "There are 35 residential units in TAZ 304370\n",
        "Warning:  number of households exceeds number of resunits in TAZ 304370\n",
        "There are 3 households in TAZ 304390\n",
        "There are 8 residential units in TAZ 304390\n",
        "There are 538 households in TAZ 304400\n",
        "There are 491 residential units in TAZ 304400\n",
        "Warning:  number of households exceeds number of resunits in TAZ 304400\n",
        "There are 675 households in TAZ 304410"
       ]
      },
      {
       "output_type": "stream",
       "stream": "stdout",
       "text": [
        "\n",
        "There are 1354 residential units in TAZ 304410\n",
        "There are 571 households in TAZ 304420\n",
        "There are 445 residential units in TAZ 304420\n",
        "Warning:  number of households exceeds number of resunits in TAZ 304420\n",
        "There are 1041 households in TAZ 304430\n",
        "There are 749 residential units in TAZ 304430\n",
        "Warning:  number of households exceeds number of resunits in TAZ 304430\n",
        "There are 323 households in TAZ 304440"
       ]
      },
      {
       "output_type": "stream",
       "stream": "stdout",
       "text": [
        "\n",
        "There are 199 residential units in TAZ 304440\n",
        "Warning:  number of households exceeds number of resunits in TAZ 304440\n",
        "There are 164 households in TAZ 304450\n",
        "There are 55 residential units in TAZ 304450\n",
        "Warning:  number of households exceeds number of resunits in TAZ 304450\n",
        "There are 1341 households in TAZ 304460\n",
        "There are 1356 residential units in TAZ 304460\n",
        "There are 192 households in TAZ 304470\n",
        "There are 359 residential units in TAZ 304470"
       ]
      },
      {
       "output_type": "stream",
       "stream": "stdout",
       "text": [
        "\n",
        "There are 1872 households in TAZ 304480\n",
        "There are 1129 residential units in TAZ 304480\n",
        "Warning:  number of households exceeds number of resunits in TAZ 304480\n",
        "There are 153 households in TAZ 304490\n",
        "There are 58 residential units in TAZ 304490\n",
        "Warning:  number of households exceeds number of resunits in TAZ 304490\n",
        "There are 90 households in TAZ 304500\n",
        "There are 90 residential units in TAZ 304500\n",
        "There are 66 households in TAZ 304510"
       ]
      },
      {
       "output_type": "stream",
       "stream": "stdout",
       "text": [
        "\n",
        "There are 60 residential units in TAZ 304510\n",
        "Warning:  number of households exceeds number of resunits in TAZ 304510\n",
        "There are 100 households in TAZ 304520\n",
        "There are 26 residential units in TAZ 304520\n",
        "Warning:  number of households exceeds number of resunits in TAZ 304520\n",
        "There are 24 households in TAZ 304530\n",
        "There are 6 residential units in TAZ 304530\n",
        "Warning:  number of households exceeds number of resunits in TAZ 304530\n",
        "There are 896 households in TAZ 304540\n",
        "There are 328 residential units in TAZ 304540"
       ]
      },
      {
       "output_type": "stream",
       "stream": "stdout",
       "text": [
        "\n",
        "Warning:  number of households exceeds number of resunits in TAZ 304540\n",
        "There are 860 households in TAZ 304550\n",
        "There are 438 residential units in TAZ 304550\n",
        "Warning:  number of households exceeds number of resunits in TAZ 304550\n",
        "There are 393 households in TAZ 304560\n",
        "There are 1334 residential units in TAZ 304560\n",
        "There are 243 households in TAZ 304570\n",
        "There are 501 residential units in TAZ 304570\n",
        "There are 333 households in TAZ 304580"
       ]
      },
      {
       "output_type": "stream",
       "stream": "stdout",
       "text": [
        "\n",
        "There are 2 residential units in TAZ 304580\n",
        "Warning:  number of households exceeds number of resunits in TAZ 304580\n",
        "There are 3 households in TAZ 304590\n",
        "There are 11 residential units in TAZ 304590\n",
        "There are 34 households in TAZ 304600\n",
        "There are 0 residential units in TAZ 304600\n",
        "Warning:  number of households exceeds number of resunits in TAZ 304600\n",
        "There are 264 households in TAZ 304610\n",
        "There are 0 residential units in TAZ 304610"
       ]
      },
      {
       "output_type": "stream",
       "stream": "stdout",
       "text": [
        "\n",
        "Warning:  number of households exceeds number of resunits in TAZ 304610\n",
        "There are 564 households in TAZ 305010\n",
        "There are 1238 residential units in TAZ 305010\n",
        "There are 100 households in TAZ 305020\n",
        "There are 301 residential units in TAZ 305020\n",
        "There are 451 households in TAZ 305030\n",
        "There are 1244 residential units in TAZ 305030\n",
        "There are 654 households in TAZ 305040"
       ]
      },
      {
       "output_type": "stream",
       "stream": "stdout",
       "text": [
        "\n",
        "There are 1195 residential units in TAZ 305040\n",
        "There are 77 households in TAZ 305050\n",
        "There are 135 residential units in TAZ 305050\n",
        "There are 1220 households in TAZ 305060\n",
        "There are 862 residential units in TAZ 305060\n",
        "Warning:  number of households exceeds number of resunits in TAZ 305060\n",
        "There are 133 households in TAZ 305070\n",
        "There are 148 residential units in TAZ 305070"
       ]
      },
      {
       "output_type": "stream",
       "stream": "stdout",
       "text": [
        "\n",
        "There are 9 households in TAZ 305080\n",
        "There are 13 residential units in TAZ 305080\n",
        "There are 45 households in TAZ 305090\n",
        "There are 36 residential units in TAZ 305090\n",
        "Warning:  number of households exceeds number of resunits in TAZ 305090\n",
        "There are 108 households in TAZ 305100\n",
        "There are 139 residential units in TAZ 305100\n",
        "There are 3 households in TAZ 305110"
       ]
      },
      {
       "output_type": "stream",
       "stream": "stdout",
       "text": [
        "\n",
        "There are 0 residential units in TAZ 305110\n",
        "Warning:  number of households exceeds number of resunits in TAZ 305110\n",
        "There are 132 households in TAZ 305130\n",
        "There are 65 residential units in TAZ 305130\n",
        "Warning:  number of households exceeds number of resunits in TAZ 305130\n",
        "There are 8 households in TAZ 306010\n",
        "There are 4 residential units in TAZ 306010\n",
        "Warning:  number of households exceeds number of resunits in TAZ 306010\n",
        "There are 1 households in TAZ 306020\n",
        "There are 0 residential units in TAZ 306020"
       ]
      },
      {
       "output_type": "stream",
       "stream": "stdout",
       "text": [
        "\n",
        "Warning:  number of households exceeds number of resunits in TAZ 306020\n",
        "There are 2 households in TAZ 306030\n",
        "There are 0 residential units in TAZ 306030\n",
        "Warning:  number of households exceeds number of resunits in TAZ 306030\n",
        "There are 1134 households in TAZ 306040\n",
        "There are 1270 residential units in TAZ 306040\n",
        "There are 615 households in TAZ 306050\n",
        "There are 783 residential units in TAZ 306050\n",
        "There are 1113 households in TAZ 306060"
       ]
      },
      {
       "output_type": "stream",
       "stream": "stdout",
       "text": [
        "\n",
        "There are 1387 residential units in TAZ 306060\n",
        "There are 1202 households in TAZ 306070\n",
        "There are 1075 residential units in TAZ 306070\n",
        "Warning:  number of households exceeds number of resunits in TAZ 306070\n",
        "There are 1346 households in TAZ 306080\n",
        "There are 1440 residential units in TAZ 306080\n",
        "There are 1619 households in TAZ 306090"
       ]
      },
      {
       "output_type": "stream",
       "stream": "stdout",
       "text": [
        "\n",
        "There are 1877 residential units in TAZ 306090\n",
        "There are 109 households in TAZ 306100\n",
        "There are 190 residential units in TAZ 306100\n",
        "There are 18 households in TAZ 306110\n",
        "There are 6 residential units in TAZ 306110\n",
        "Warning:  number of households exceeds number of resunits in TAZ 306110\n",
        "There are 53 households in TAZ 306120\n",
        "There are 68 residential units in TAZ 306120"
       ]
      },
      {
       "output_type": "stream",
       "stream": "stdout",
       "text": [
        "\n",
        "There are 308 households in TAZ 306130\n",
        "There are 576 residential units in TAZ 306130\n",
        "There are 1219 households in TAZ 306140\n",
        "There are 1179 residential units in TAZ 306140\n",
        "Warning:  number of households exceeds number of resunits in TAZ 306140\n",
        "There are 1034 households in TAZ 306150\n",
        "There are 1005 residential units in TAZ 306150\n",
        "Warning:  number of households exceeds number of resunits in TAZ 306150"
       ]
      },
      {
       "output_type": "stream",
       "stream": "stdout",
       "text": [
        "\n",
        "There are 592 households in TAZ 306160\n",
        "There are 635 residential units in TAZ 306160\n",
        "There are 1265 households in TAZ 306170\n",
        "There are 1318 residential units in TAZ 306170\n",
        "There are 953 households in TAZ 306180\n",
        "There are 930 residential units in TAZ 306180\n",
        "Warning:  number of households exceeds number of resunits in TAZ 306180"
       ]
      },
      {
       "output_type": "stream",
       "stream": "stdout",
       "text": [
        "\n",
        "There are 1207 households in TAZ 306190\n",
        "There are 1187 residential units in TAZ 306190\n",
        "Warning:  number of households exceeds number of resunits in TAZ 306190\n",
        "There are 1841 households in TAZ 306200\n",
        "There are 2385 residential units in TAZ 306200\n",
        "There are 304 households in TAZ 306210\n",
        "There are 335 residential units in TAZ 306210\n",
        "There are 153 households in TAZ 306220"
       ]
      },
      {
       "output_type": "stream",
       "stream": "stdout",
       "text": [
        "\n",
        "There are 184 residential units in TAZ 306220\n",
        "There are 1095 households in TAZ 306230\n",
        "There are 1088 residential units in TAZ 306230\n",
        "Warning:  number of households exceeds number of resunits in TAZ 306230\n",
        "There are 1364 households in TAZ 306240\n",
        "There are 1375 residential units in TAZ 306240\n",
        "There are 310 households in TAZ 306250"
       ]
      },
      {
       "output_type": "stream",
       "stream": "stdout",
       "text": [
        "\n",
        "There are 354 residential units in TAZ 306250\n",
        "There are 423 households in TAZ 306260\n",
        "There are 682 residential units in TAZ 306260\n",
        "There are 1381 households in TAZ 306270\n",
        "There are 1509 residential units in TAZ 306270\n",
        "There are 356 households in TAZ 306280"
       ]
      },
      {
       "output_type": "stream",
       "stream": "stdout",
       "text": [
        "\n",
        "There are 418 residential units in TAZ 306280\n",
        "There are 947 households in TAZ 306290\n",
        "There are 963 residential units in TAZ 306290\n",
        "There are 469 households in TAZ 306300\n",
        "There are 473 residential units in TAZ 306300\n",
        "There are 385 households in TAZ 307010\n",
        "There are 495 residential units in TAZ 307010"
       ]
      },
      {
       "output_type": "stream",
       "stream": "stdout",
       "text": [
        "\n",
        "There are 365 households in TAZ 307020\n",
        "There are 657 residential units in TAZ 307020\n",
        "There are 23 households in TAZ 307030\n",
        "There are 1 residential units in TAZ 307030\n",
        "Warning:  number of households exceeds number of resunits in TAZ 307030\n",
        "There are 587 households in TAZ 307040\n",
        "There are 608 residential units in TAZ 307040\n",
        "There are 821 households in TAZ 307050"
       ]
      },
      {
       "output_type": "stream",
       "stream": "stdout",
       "text": [
        "\n",
        "There are 992 residential units in TAZ 307050\n",
        "There are 714 households in TAZ 307060\n",
        "There are 678 residential units in TAZ 307060\n",
        "Warning:  number of households exceeds number of resunits in TAZ 307060\n",
        "There are 14 households in TAZ 307070\n",
        "There are 0 residential units in TAZ 307070\n",
        "Warning:  number of households exceeds number of resunits in TAZ 307070\n",
        "There are 193 households in TAZ 307080\n",
        "There are 198 residential units in TAZ 307080"
       ]
      },
      {
       "output_type": "stream",
       "stream": "stdout",
       "text": [
        "\n",
        "There are 609 households in TAZ 307090\n",
        "There are 641 residential units in TAZ 307090\n",
        "There are 642 households in TAZ 307100\n",
        "There are 864 residential units in TAZ 307100\n",
        "There are 312 households in TAZ 307110\n",
        "There are 321 residential units in TAZ 307110\n",
        "There are 921 households in TAZ 307120"
       ]
      },
      {
       "output_type": "stream",
       "stream": "stdout",
       "text": [
        "\n",
        "There are 951 residential units in TAZ 307120\n",
        "There are 1158 households in TAZ 307130\n",
        "There are 1192 residential units in TAZ 307130\n",
        "There are 674 households in TAZ 307140\n",
        "There are 765 residential units in TAZ 307140\n",
        "There are 600 households in TAZ 307150"
       ]
      },
      {
       "output_type": "stream",
       "stream": "stdout",
       "text": [
        "\n",
        "There are 586 residential units in TAZ 307150\n",
        "Warning:  number of households exceeds number of resunits in TAZ 307150\n",
        "There are 276 households in TAZ 307160\n",
        "There are 412 residential units in TAZ 307160\n",
        "There are 606 households in TAZ 307170\n",
        "There are 579 residential units in TAZ 307170\n",
        "Warning:  number of households exceeds number of resunits in TAZ 307170\n",
        "There are 614 households in TAZ 307180\n",
        "There are 617 residential units in TAZ 307180"
       ]
      },
      {
       "output_type": "stream",
       "stream": "stdout",
       "text": [
        "\n",
        "There are 346 households in TAZ 307190\n",
        "There are 364 residential units in TAZ 307190\n",
        "There are 659 households in TAZ 307200\n",
        "There are 696 residential units in TAZ 307200\n",
        "There are 505 households in TAZ 307210\n",
        "There are 514 residential units in TAZ 307210\n",
        "There are 935 households in TAZ 307220"
       ]
      },
      {
       "output_type": "stream",
       "stream": "stdout",
       "text": [
        "\n",
        "There are 995 residential units in TAZ 307220\n",
        "There are 590 households in TAZ 307230\n",
        "There are 515 residential units in TAZ 307230\n",
        "Warning:  number of households exceeds number of resunits in TAZ 307230\n",
        "There are 872 households in TAZ 307240\n",
        "There are 872 residential units in TAZ 307240\n",
        "There are 826 households in TAZ 307250\n",
        "There are 348 residential units in TAZ 307250"
       ]
      },
      {
       "output_type": "stream",
       "stream": "stdout",
       "text": [
        "\n",
        "Warning:  number of households exceeds number of resunits in TAZ 307250\n",
        "There are 1122 households in TAZ 307260\n",
        "There are 802 residential units in TAZ 307260\n",
        "Warning:  number of households exceeds number of resunits in TAZ 307260\n",
        "There are 915 households in TAZ 307270\n",
        "There are 808 residential units in TAZ 307270\n",
        "Warning:  number of households exceeds number of resunits in TAZ 307270\n",
        "There are 616 households in TAZ 307280\n",
        "There are 515 residential units in TAZ 307280"
       ]
      },
      {
       "output_type": "stream",
       "stream": "stdout",
       "text": [
        "\n",
        "Warning:  number of households exceeds number of resunits in TAZ 307280\n",
        "There are 595 households in TAZ 307290\n",
        "There are 540 residential units in TAZ 307290\n",
        "Warning:  number of households exceeds number of resunits in TAZ 307290\n",
        "There are 1260 households in TAZ 307300\n",
        "There are 1263 residential units in TAZ 307300\n",
        "There are 670 households in TAZ 307310\n",
        "There are 698 residential units in TAZ 307310"
       ]
      },
      {
       "output_type": "stream",
       "stream": "stdout",
       "text": [
        "\n",
        "There are 1270 households in TAZ 307320\n",
        "There are 1337 residential units in TAZ 307320\n",
        "There are 987 households in TAZ 307330\n",
        "There are 1058 residential units in TAZ 307330\n",
        "There are 1 households in TAZ 307340\n",
        "There are 0 residential units in TAZ 307340"
       ]
      },
      {
       "output_type": "stream",
       "stream": "stdout",
       "text": [
        "\n",
        "Warning:  number of households exceeds number of resunits in TAZ 307340\n",
        "There are 1 households in TAZ 308010\n",
        "There are 0 residential units in TAZ 308010\n",
        "Warning:  number of households exceeds number of resunits in TAZ 308010\n",
        "There are 964 households in TAZ 308020\n",
        "There are 1033 residential units in TAZ 308020\n",
        "There are 754 households in TAZ 308030\n",
        "There are 795 residential units in TAZ 308030\n",
        "There are 1280 households in TAZ 308040"
       ]
      },
      {
       "output_type": "stream",
       "stream": "stdout",
       "text": [
        "\n",
        "There are 867 residential units in TAZ 308040\n",
        "Warning:  number of households exceeds number of resunits in TAZ 308040\n",
        "There are 141 households in TAZ 308050\n",
        "There are 116 residential units in TAZ 308050\n",
        "Warning:  number of households exceeds number of resunits in TAZ 308050\n",
        "There are 1043 households in TAZ 308060\n",
        "There are 952 residential units in TAZ 308060\n",
        "Warning:  number of households exceeds number of resunits in TAZ 308060\n",
        "There are 202 households in TAZ 308070"
       ]
      },
      {
       "output_type": "stream",
       "stream": "stdout",
       "text": [
        "\n",
        "There are 187 residential units in TAZ 308070\n",
        "Warning:  number of households exceeds number of resunits in TAZ 308070\n",
        "There are 1106 households in TAZ 308080\n",
        "There are 1192 residential units in TAZ 308080\n",
        "There are 528 households in TAZ 308090\n",
        "There are 519 residential units in TAZ 308090\n",
        "Warning:  number of households exceeds number of resunits in TAZ 308090\n",
        "There are 635 households in TAZ 308100"
       ]
      },
      {
       "output_type": "stream",
       "stream": "stdout",
       "text": [
        "\n",
        "There are 550 residential units in TAZ 308100\n",
        "Warning:  number of households exceeds number of resunits in TAZ 308100\n",
        "There are 73 households in TAZ 308110\n",
        "There are 26 residential units in TAZ 308110\n",
        "Warning:  number of households exceeds number of resunits in TAZ 308110\n",
        "There are 251 households in TAZ 308120\n",
        "There are 258 residential units in TAZ 308120\n",
        "There are 664 households in TAZ 308130\n",
        "There are 668 residential units in TAZ 308130"
       ]
      },
      {
       "output_type": "stream",
       "stream": "stdout",
       "text": [
        "\n",
        "There are 421 households in TAZ 308140\n",
        "There are 413 residential units in TAZ 308140\n",
        "Warning:  number of households exceeds number of resunits in TAZ 308140\n",
        "There are 197 households in TAZ 308150\n",
        "There are 155 residential units in TAZ 308150\n",
        "Warning:  number of households exceeds number of resunits in TAZ 308150\n",
        "There are 863 households in TAZ 308160\n",
        "There are 963 residential units in TAZ 308160\n",
        "There are 822 households in TAZ 308170"
       ]
      },
      {
       "output_type": "stream",
       "stream": "stdout",
       "text": [
        "\n",
        "There are 838 residential units in TAZ 308170\n",
        "There are 660 households in TAZ 308180\n",
        "There are 681 residential units in TAZ 308180\n",
        "There are 534 households in TAZ 308190\n",
        "There are 560 residential units in TAZ 308190\n",
        "There are 1042 households in TAZ 308200\n",
        "There are 1087 residential units in TAZ 308200"
       ]
      },
      {
       "output_type": "stream",
       "stream": "stdout",
       "text": [
        "\n",
        "There are 643 households in TAZ 308210\n",
        "There are 671 residential units in TAZ 308210\n",
        "There are 699 households in TAZ 308220\n",
        "There are 737 residential units in TAZ 308220\n",
        "There are 1105 households in TAZ 308230\n",
        "There are 1143 residential units in TAZ 308230\n",
        "There are 537 households in TAZ 308240"
       ]
      },
      {
       "output_type": "stream",
       "stream": "stdout",
       "text": [
        "\n",
        "There are 529 residential units in TAZ 308240\n",
        "Warning:  number of households exceeds number of resunits in TAZ 308240\n",
        "There are 282 households in TAZ 308250\n",
        "There are 294 residential units in TAZ 308250\n",
        "There are 2 households in TAZ 309010\n",
        "There are 0 residential units in TAZ 309010\n",
        "Warning:  number of households exceeds number of resunits in TAZ 309010\n",
        "There are 340 households in TAZ 309020\n",
        "There are 457 residential units in TAZ 309020"
       ]
      },
      {
       "output_type": "stream",
       "stream": "stdout",
       "text": [
        "\n",
        "There are 1061 households in TAZ 309030\n",
        "There are 1327 residential units in TAZ 309030\n",
        "There are 757 households in TAZ 309040\n",
        "There are 765 residential units in TAZ 309040\n",
        "There are 448 households in TAZ 309050\n",
        "There are 350 residential units in TAZ 309050"
       ]
      },
      {
       "output_type": "stream",
       "stream": "stdout",
       "text": [
        "\n",
        "Warning:  number of households exceeds number of resunits in TAZ 309050\n",
        "There are 682 households in TAZ 309060\n",
        "There are 335 residential units in TAZ 309060\n",
        "Warning:  number of households exceeds number of resunits in TAZ 309060\n",
        "There are 1 households in TAZ 309070\n",
        "There are 1 residential units in TAZ 309070\n",
        "There are 521 households in TAZ 309080\n",
        "There are 530 residential units in TAZ 309080\n",
        "There are 385 households in TAZ 309090"
       ]
      },
      {
       "output_type": "stream",
       "stream": "stdout",
       "text": [
        "\n",
        "There are 271 residential units in TAZ 309090\n",
        "Warning:  number of households exceeds number of resunits in TAZ 309090\n",
        "There are 1301 households in TAZ 309100\n",
        "There are 1573 residential units in TAZ 309100\n",
        "There are 331 households in TAZ 309110\n",
        "There are 349 residential units in TAZ 309110\n",
        "There are 523 households in TAZ 309120\n",
        "There are 545 residential units in TAZ 309120"
       ]
      },
      {
       "output_type": "stream",
       "stream": "stdout",
       "text": [
        "\n",
        "There are 107 households in TAZ 309130\n",
        "There are 176 residential units in TAZ 309130\n",
        "There are 547 households in TAZ 309140\n",
        "There are 642 residential units in TAZ 309140\n",
        "There are 798 households in TAZ 309150\n",
        "There are 720 residential units in TAZ 309150\n",
        "Warning:  number of households exceeds number of resunits in TAZ 309150"
       ]
      },
      {
       "output_type": "stream",
       "stream": "stdout",
       "text": [
        "\n",
        "There are 731 households in TAZ 309160\n",
        "There are 748 residential units in TAZ 309160\n",
        "There are 705 households in TAZ 309170\n",
        "There are 725 residential units in TAZ 309170\n",
        "There are 806 households in TAZ 309180\n",
        "There are 834 residential units in TAZ 309180\n",
        "There are 560 households in TAZ 309190"
       ]
      },
      {
       "output_type": "stream",
       "stream": "stdout",
       "text": [
        "\n",
        "There are 574 residential units in TAZ 309190\n",
        "There are 963 households in TAZ 309200\n",
        "There are 977 residential units in TAZ 309200\n",
        "There are 760 households in TAZ 309210\n",
        "There are 458 residential units in TAZ 309210\n",
        "Warning:  number of households exceeds number of resunits in TAZ 309210\n",
        "There are 745 households in TAZ 309220"
       ]
      },
      {
       "output_type": "stream",
       "stream": "stdout",
       "text": [
        "\n",
        "There are 691 residential units in TAZ 309220\n",
        "Warning:  number of households exceeds number of resunits in TAZ 309220\n",
        "There are 637 households in TAZ 309230\n",
        "There are 595 residential units in TAZ 309230\n",
        "Warning:  number of households exceeds number of resunits in TAZ 309230\n",
        "There are 2 households in TAZ 309240\n",
        "There are 275 residential units in TAZ 309240\n",
        "There are 418 households in TAZ 309260\n",
        "There are 491 residential units in TAZ 309260"
       ]
      },
      {
       "output_type": "stream",
       "stream": "stdout",
       "text": [
        "\n",
        "There are 1409 households in TAZ 309270\n",
        "There are 1733 residential units in TAZ 309270\n",
        "There are 860 households in TAZ 309280\n",
        "There are 1122 residential units in TAZ 309280\n",
        "There are 59 households in TAZ 309290\n",
        "There are 32 residential units in TAZ 309290\n",
        "Warning:  number of households exceeds number of resunits in TAZ 309290"
       ]
      },
      {
       "output_type": "stream",
       "stream": "stdout",
       "text": [
        "\n",
        "There are 330 households in TAZ 309300\n",
        "There are 267 residential units in TAZ 309300\n",
        "Warning:  number of households exceeds number of resunits in TAZ 309300\n",
        "There are 10 households in TAZ 309310\n",
        "There are 7 residential units in TAZ 309310\n",
        "Warning:  number of households exceeds number of resunits in TAZ 309310\n",
        "There are 19 households in TAZ 309320\n",
        "There are 10 residential units in TAZ 309320\n",
        "Warning:  number of households exceeds number of resunits in TAZ 309320\n",
        "There are 1424 households in TAZ 310010"
       ]
      },
      {
       "output_type": "stream",
       "stream": "stdout",
       "text": [
        "\n",
        "There are 1555 residential units in TAZ 310010\n",
        "There are 878 households in TAZ 310020\n",
        "There are 1014 residential units in TAZ 310020\n",
        "There are 640 households in TAZ 310030\n",
        "There are 773 residential units in TAZ 310030\n",
        "There are 734 households in TAZ 310040\n",
        "There are 684 residential units in TAZ 310040"
       ]
      },
      {
       "output_type": "stream",
       "stream": "stdout",
       "text": [
        "\n",
        "Warning:  number of households exceeds number of resunits in TAZ 310040\n",
        "There are 472 households in TAZ 310050\n",
        "There are 599 residential units in TAZ 310050\n",
        "There are 1081 households in TAZ 310060\n",
        "There are 1148 residential units in TAZ 310060\n",
        "There are 696 households in TAZ 310070\n",
        "There are 748 residential units in TAZ 310070"
       ]
      },
      {
       "output_type": "stream",
       "stream": "stdout",
       "text": [
        "\n",
        "There are 3 households in TAZ 310090\n",
        "There are 3 residential units in TAZ 310090\n",
        "There are 18 households in TAZ 310100\n",
        "There are 15 residential units in TAZ 310100\n",
        "Warning:  number of households exceeds number of resunits in TAZ 310100\n",
        "There are 66 households in TAZ 310110\n",
        "There are 67 residential units in TAZ 310110\n",
        "There are 4 households in TAZ 310120"
       ]
      },
      {
       "output_type": "stream",
       "stream": "stdout",
       "text": [
        "\n",
        "There are 4 residential units in TAZ 310120\n",
        "There are 31 households in TAZ 310130\n",
        "There are 36 residential units in TAZ 310130\n",
        "There are 24 households in TAZ 310140\n",
        "There are 24 residential units in TAZ 310140\n",
        "There are 20 households in TAZ 310150\n",
        "There are 13 residential units in TAZ 310150"
       ]
      },
      {
       "output_type": "stream",
       "stream": "stdout",
       "text": [
        "\n",
        "Warning:  number of households exceeds number of resunits in TAZ 310150\n",
        "There are 15 households in TAZ 310160\n",
        "There are 16 residential units in TAZ 310160\n",
        "There are 59 households in TAZ 310170\n",
        "There are 39 residential units in TAZ 310170\n",
        "Warning:  number of households exceeds number of resunits in TAZ 310170\n",
        "There are 29 households in TAZ 310180\n",
        "There are 2 residential units in TAZ 310180\n",
        "Warning:  number of households exceeds number of resunits in TAZ 310180"
       ]
      },
      {
       "output_type": "stream",
       "stream": "stdout",
       "text": [
        "\n",
        "There are 18 households in TAZ 310190\n",
        "There are 18 residential units in TAZ 310190\n",
        "There are 11 households in TAZ 310200\n",
        "There are 8 residential units in TAZ 310200\n",
        "Warning:  number of households exceeds number of resunits in TAZ 310200\n",
        "There are 445 households in TAZ 310210\n",
        "There are 321 residential units in TAZ 310210\n",
        "Warning:  number of households exceeds number of resunits in TAZ 310210\n",
        "There are 909 households in TAZ 310220"
       ]
      },
      {
       "output_type": "stream",
       "stream": "stdout",
       "text": [
        "\n",
        "There are 923 residential units in TAZ 310220\n",
        "There are 145 households in TAZ 310230\n",
        "There are 9 residential units in TAZ 310230\n",
        "Warning:  number of households exceeds number of resunits in TAZ 310230\n",
        "There are 243 households in TAZ 310240\n",
        "There are 266 residential units in TAZ 310240\n",
        "There are 400 households in TAZ 310250\n",
        "There are 335 residential units in TAZ 310250"
       ]
      },
      {
       "output_type": "stream",
       "stream": "stdout",
       "text": [
        "\n",
        "Warning:  number of households exceeds number of resunits in TAZ 310250\n",
        "There are 593 households in TAZ 310260\n",
        "There are 632 residential units in TAZ 310260\n",
        "There are 1680 households in TAZ 310270\n",
        "There are 1863 residential units in TAZ 310270\n",
        "There are 939 households in TAZ 310280\n",
        "There are 898 residential units in TAZ 310280"
       ]
      },
      {
       "output_type": "stream",
       "stream": "stdout",
       "text": [
        "\n",
        "Warning:  number of households exceeds number of resunits in TAZ 310280\n",
        "There are 444 households in TAZ 310290\n",
        "There are 460 residential units in TAZ 310290\n",
        "There are 246 households in TAZ 310300\n",
        "There are 211 residential units in TAZ 310300\n",
        "Warning:  number of households exceeds number of resunits in TAZ 310300\n",
        "There are 341 households in TAZ 310310\n",
        "There are 180 residential units in TAZ 310310\n",
        "Warning:  number of households exceeds number of resunits in TAZ 310310"
       ]
      },
      {
       "output_type": "stream",
       "stream": "stdout",
       "text": [
        "\n",
        "There are 346 households in TAZ 310320\n",
        "There are 0 residential units in TAZ 310320\n",
        "Warning:  number of households exceeds number of resunits in TAZ 310320\n",
        "There are 7 households in TAZ 310330\n",
        "There are 0 residential units in TAZ 310330\n",
        "Warning:  number of households exceeds number of resunits in TAZ 310330\n",
        "There are 922 households in TAZ 310340\n",
        "There are 1107 residential units in TAZ 310340\n",
        "There are 189 households in TAZ 310350"
       ]
      },
      {
       "output_type": "stream",
       "stream": "stdout",
       "text": [
        "\n",
        "There are 16 residential units in TAZ 310350\n",
        "Warning:  number of households exceeds number of resunits in TAZ 310350\n",
        "There are 486 households in TAZ 310360\n",
        "There are 509 residential units in TAZ 310360\n",
        "There are 26 households in TAZ 310370\n",
        "There are 12 residential units in TAZ 310370\n",
        "Warning:  number of households exceeds number of resunits in TAZ 310370\n",
        "There are 787 households in TAZ 310380\n",
        "There are 723 residential units in TAZ 310380"
       ]
      },
      {
       "output_type": "stream",
       "stream": "stdout",
       "text": [
        "\n",
        "Warning:  number of households exceeds number of resunits in TAZ 310380\n",
        "There are 28 households in TAZ 311010\n",
        "There are 22 residential units in TAZ 311010\n",
        "Warning:  number of households exceeds number of resunits in TAZ 311010\n",
        "There are 18 households in TAZ 311020\n",
        "There are 7 residential units in TAZ 311020\n",
        "Warning:  number of households exceeds number of resunits in TAZ 311020\n",
        "There are 289 households in TAZ 311040\n",
        "There are 279 residential units in TAZ 311040\n",
        "Warning:  number of households exceeds number of resunits in TAZ 311040"
       ]
      },
      {
       "output_type": "stream",
       "stream": "stdout",
       "text": [
        "\n",
        "There are 604 households in TAZ 311050\n",
        "There are 540 residential units in TAZ 311050\n",
        "Warning:  number of households exceeds number of resunits in TAZ 311050\n",
        "There are 9 households in TAZ 311060\n",
        "There are 7 residential units in TAZ 311060\n",
        "Warning:  number of households exceeds number of resunits in TAZ 311060\n",
        "There are 25 households in TAZ 311070\n",
        "There are 25 residential units in TAZ 311070\n",
        "There are 128 households in TAZ 311080"
       ]
      },
      {
       "output_type": "stream",
       "stream": "stdout",
       "text": [
        "\n",
        "There are 132 residential units in TAZ 311080\n",
        "There are 373 households in TAZ 311090\n",
        "There are 436 residential units in TAZ 311090\n",
        "There are 9 households in TAZ 311100\n",
        "There are 42 residential units in TAZ 311100\n",
        "There are 1199 households in TAZ 311110\n",
        "There are 1298 residential units in TAZ 311110"
       ]
      },
      {
       "output_type": "stream",
       "stream": "stdout",
       "text": [
        "\n",
        "There are 519 households in TAZ 311120\n",
        "There are 510 residential units in TAZ 311120\n",
        "Warning:  number of households exceeds number of resunits in TAZ 311120\n",
        "There are 1185 households in TAZ 311130\n",
        "There are 1293 residential units in TAZ 311130\n",
        "There are 937 households in TAZ 311140\n",
        "There are 1057 residential units in TAZ 311140\n",
        "There are 229 households in TAZ 311150"
       ]
      },
      {
       "output_type": "stream",
       "stream": "stdout",
       "text": [
        "\n",
        "There are 244 residential units in TAZ 311150\n",
        "There are 327 households in TAZ 311160\n",
        "There are 456 residential units in TAZ 311160\n",
        "There are 296 households in TAZ 311170\n",
        "There are 317 residential units in TAZ 311170\n",
        "There are 433 households in TAZ 311180\n",
        "There are 456 residential units in TAZ 311180"
       ]
      },
      {
       "output_type": "stream",
       "stream": "stdout",
       "text": [
        "\n",
        "There are 52 households in TAZ 311190\n",
        "There are 19 residential units in TAZ 311190\n",
        "Warning:  number of households exceeds number of resunits in TAZ 311190\n",
        "There are 2 households in TAZ 311200\n",
        "There are 2 residential units in TAZ 311200\n",
        "There are 135 households in TAZ 311210\n",
        "There are 122 residential units in TAZ 311210\n",
        "Warning:  number of households exceeds number of resunits in TAZ 311210"
       ]
      },
      {
       "output_type": "stream",
       "stream": "stdout",
       "text": [
        "\n",
        "There are 1423 households in TAZ 311220\n",
        "There are 1548 residential units in TAZ 311220\n",
        "There are 445 households in TAZ 311230\n",
        "There are 476 residential units in TAZ 311230\n",
        "There are 189 households in TAZ 311250\n",
        "There are 203 residential units in TAZ 311250\n",
        "There are 117 households in TAZ 311260"
       ]
      },
      {
       "output_type": "stream",
       "stream": "stdout",
       "text": [
        "\n",
        "There are 112 residential units in TAZ 311260\n",
        "Warning:  number of households exceeds number of resunits in TAZ 311260\n",
        "There are 114 households in TAZ 311270\n",
        "There are 121 residential units in TAZ 311270\n",
        "There are 5 households in TAZ 311280\n",
        "There are 0 residential units in TAZ 311280\n",
        "Warning:  number of households exceeds number of resunits in TAZ 311280\n",
        "There are 6 households in TAZ 311290\n",
        "There are 2 residential units in TAZ 311290"
       ]
      },
      {
       "output_type": "stream",
       "stream": "stdout",
       "text": [
        "\n",
        "Warning:  number of households exceeds number of resunits in TAZ 311290\n",
        "There are 8 households in TAZ 311300\n",
        "There are 3 residential units in TAZ 311300\n",
        "Warning:  number of households exceeds number of resunits in TAZ 311300\n",
        "There are 4 households in TAZ 311320\n",
        "There are 1 residential units in TAZ 311320\n",
        "Warning:  number of households exceeds number of resunits in TAZ 311320\n",
        "There are 412 households in TAZ 312010\n",
        "There are 0 residential units in TAZ 312010\n",
        "Warning:  number of households exceeds number of resunits in TAZ 312010"
       ]
      },
      {
       "output_type": "stream",
       "stream": "stdout",
       "text": [
        "\n",
        "There are 17 households in TAZ 312040\n",
        "There are 22 residential units in TAZ 312040\n",
        "There are 5 households in TAZ 312050\n",
        "There are 19 residential units in TAZ 312050\n",
        "There are 45 households in TAZ 312070\n",
        "There are 48 residential units in TAZ 312070\n",
        "There are 4 households in TAZ 312080"
       ]
      },
      {
       "output_type": "stream",
       "stream": "stdout",
       "text": [
        "\n",
        "There are 0 residential units in TAZ 312080\n",
        "Warning:  number of households exceeds number of resunits in TAZ 312080\n",
        "There are 149 households in TAZ 312090\n",
        "There are 0 residential units in TAZ 312090\n",
        "Warning:  number of households exceeds number of resunits in TAZ 312090\n",
        "There are 2 households in TAZ 312110\n",
        "There are 0 residential units in TAZ 312110\n",
        "Warning:  number of households exceeds number of resunits in TAZ 312110\n",
        "There are 3 households in TAZ 312140\n",
        "There are 6 residential units in TAZ 312140"
       ]
      },
      {
       "output_type": "stream",
       "stream": "stdout",
       "text": [
        "\n",
        "There are 9 households in TAZ 312150\n",
        "There are 4 residential units in TAZ 312150\n",
        "Warning:  number of households exceeds number of resunits in TAZ 312150\n",
        "There are 226 households in TAZ 312160\n",
        "There are 239 residential units in TAZ 312160\n",
        "There are 571 households in TAZ 312170\n",
        "There are 589 residential units in TAZ 312170\n",
        "There are 948 households in TAZ 312180"
       ]
      },
      {
       "output_type": "stream",
       "stream": "stdout",
       "text": [
        "\n",
        "There are 995 residential units in TAZ 312180\n",
        "There are 884 households in TAZ 312190\n",
        "There are 883 residential units in TAZ 312190\n",
        "Warning:  number of households exceeds number of resunits in TAZ 312190\n",
        "There are 1032 households in TAZ 312200\n",
        "There are 1008 residential units in TAZ 312200\n",
        "Warning:  number of households exceeds number of resunits in TAZ 312200\n",
        "There are 34 households in TAZ 312250"
       ]
      },
      {
       "output_type": "stream",
       "stream": "stdout",
       "text": [
        "\n",
        "There are 40 residential units in TAZ 312250\n",
        "There are 1130 households in TAZ 312260\n",
        "There are 1116 residential units in TAZ 312260\n",
        "Warning:  number of households exceeds number of resunits in TAZ 312260\n",
        "There are 984 households in TAZ 312270\n",
        "There are 906 residential units in TAZ 312270\n",
        "Warning:  number of households exceeds number of resunits in TAZ 312270\n",
        "There are 1117 households in TAZ 312280"
       ]
      },
      {
       "output_type": "stream",
       "stream": "stdout",
       "text": [
        "\n",
        "There are 1446 residential units in TAZ 312280\n",
        "There are 1689 households in TAZ 312290\n",
        "There are 1527 residential units in TAZ 312290\n",
        "Warning:  number of households exceeds number of resunits in TAZ 312290\n",
        "There are 371 households in TAZ 312310\n",
        "There are 96 residential units in TAZ 312310\n",
        "Warning:  number of households exceeds number of resunits in TAZ 312310\n",
        "There are 138 households in TAZ 312320"
       ]
      },
      {
       "output_type": "stream",
       "stream": "stdout",
       "text": [
        "\n",
        "There are 0 residential units in TAZ 312320\n",
        "Warning:  number of households exceeds number of resunits in TAZ 312320\n",
        "There are 933 households in TAZ 312330\n",
        "There are 796 residential units in TAZ 312330\n",
        "Warning:  number of households exceeds number of resunits in TAZ 312330\n",
        "There are 850 households in TAZ 312340\n",
        "There are 744 residential units in TAZ 312340\n",
        "Warning:  number of households exceeds number of resunits in TAZ 312340\n",
        "There are 463 households in TAZ 312350\n",
        "There are 467 residential units in TAZ 312350"
       ]
      },
      {
       "output_type": "stream",
       "stream": "stdout",
       "text": [
        "\n",
        "There are 677 households in TAZ 312360\n",
        "There are 460 residential units in TAZ 312360\n",
        "Warning:  number of households exceeds number of resunits in TAZ 312360\n",
        "There are 2321 households in TAZ 313120\n",
        "There are 712 residential units in TAZ 313120\n",
        "Warning:  number of households exceeds number of resunits in TAZ 313120\n",
        "There are 14 households in TAZ 313190\n",
        "There are 2 residential units in TAZ 313190"
       ]
      },
      {
       "output_type": "stream",
       "stream": "stdout",
       "text": [
        "\n",
        "Warning:  number of households exceeds number of resunits in TAZ 313190\n",
        "There are 29 households in TAZ 313200\n",
        "There are 6 residential units in TAZ 313200\n",
        "Warning:  number of households exceeds number of resunits in TAZ 313200\n",
        "There are 411 households in TAZ 313230\n",
        "There are 5 residential units in TAZ 313230\n",
        "Warning:  number of households exceeds number of resunits in TAZ 313230\n",
        "There are 323 households in TAZ 313240\n",
        "There are 0 residential units in TAZ 313240\n",
        "Warning:  number of households exceeds number of resunits in TAZ 313240"
       ]
      },
      {
       "output_type": "stream",
       "stream": "stdout",
       "text": [
        "\n",
        "There are 274 households in TAZ 313250\n",
        "There are 27 residential units in TAZ 313250\n",
        "Warning:  number of households exceeds number of resunits in TAZ 313250\n",
        "There are 86 households in TAZ 313260\n",
        "There are 0 residential units in TAZ 313260\n",
        "Warning:  number of households exceeds number of resunits in TAZ 313260\n",
        "There are 32 households in TAZ 313270\n",
        "There are 14 residential units in TAZ 313270\n",
        "Warning:  number of households exceeds number of resunits in TAZ 313270\n",
        "There are 41 households in TAZ 313280"
       ]
      },
      {
       "output_type": "stream",
       "stream": "stdout",
       "text": [
        "\n",
        "There are 16 residential units in TAZ 313280\n",
        "Warning:  number of households exceeds number of resunits in TAZ 313280\n",
        "There are 16 households in TAZ 313300\n",
        "There are 10 residential units in TAZ 313300\n",
        "Warning:  number of households exceeds number of resunits in TAZ 313300\n",
        "There are 7 households in TAZ 313320\n",
        "There are 5 residential units in TAZ 313320\n",
        "Warning:  number of households exceeds number of resunits in TAZ 313320\n",
        "There are 288 households in TAZ 313330\n",
        "There are 50 residential units in TAZ 313330"
       ]
      },
      {
       "output_type": "stream",
       "stream": "stdout",
       "text": [
        "\n",
        "Warning:  number of households exceeds number of resunits in TAZ 313330\n",
        "There are 2 households in TAZ 313340\n",
        "There are 3 residential units in TAZ 313340\n",
        "There are 3 households in TAZ 313360\n",
        "There are 3 residential units in TAZ 313360\n",
        "There are 4 households in TAZ 313380\n",
        "There are 2 residential units in TAZ 313380\n",
        "Warning:  number of households exceeds number of resunits in TAZ 313380"
       ]
      },
      {
       "output_type": "stream",
       "stream": "stdout",
       "text": [
        "\n",
        "There are 935 households in TAZ 313410\n",
        "There are 811 residential units in TAZ 313410\n",
        "Warning:  number of households exceeds number of resunits in TAZ 313410\n",
        "There are 1058 households in TAZ 313420\n",
        "There are 742 residential units in TAZ 313420\n",
        "Warning:  number of households exceeds number of resunits in TAZ 313420\n",
        "There are 2 households in TAZ 313460\n",
        "There are 4 residential units in TAZ 313460\n",
        "There are 502 households in TAZ 401010"
       ]
      },
      {
       "output_type": "stream",
       "stream": "stdout",
       "text": [
        "\n",
        "There are 517 residential units in TAZ 401010\n",
        "There are 27 households in TAZ 401020\n",
        "There are 25 residential units in TAZ 401020\n",
        "Warning:  number of households exceeds number of resunits in TAZ 401020\n",
        "There are 752 households in TAZ 401030\n",
        "There are 798 residential units in TAZ 401030\n",
        "There are 331 households in TAZ 401050\n",
        "There are 340 residential units in TAZ 401050"
       ]
      },
      {
       "output_type": "stream",
       "stream": "stdout",
       "text": [
        "\n",
        "There are 669 households in TAZ 401060\n",
        "There are 778 residential units in TAZ 401060\n",
        "There are 740 households in TAZ 401070\n",
        "There are 697 residential units in TAZ 401070\n",
        "Warning:  number of households exceeds number of resunits in TAZ 401070\n",
        "There are 68 households in TAZ 401080\n",
        "There are 65 residential units in TAZ 401080\n",
        "Warning:  number of households exceeds number of resunits in TAZ 401080"
       ]
      },
      {
       "output_type": "stream",
       "stream": "stdout",
       "text": [
        "\n",
        "There are 297 households in TAZ 401090\n",
        "There are 320 residential units in TAZ 401090\n",
        "There are 513 households in TAZ 401100\n",
        "There are 531 residential units in TAZ 401100\n",
        "There are 721 households in TAZ 401110\n",
        "There are 751 residential units in TAZ 401110\n",
        "There are 412 households in TAZ 401120"
       ]
      },
      {
       "output_type": "stream",
       "stream": "stdout",
       "text": [
        "\n",
        "There are 429 residential units in TAZ 401120\n",
        "There are 634 households in TAZ 401130\n",
        "There are 689 residential units in TAZ 401130\n",
        "There are 433 households in TAZ 401140\n",
        "There are 470 residential units in TAZ 401140\n",
        "There are 958 households in TAZ 401150\n",
        "There are 889 residential units in TAZ 401150"
       ]
      },
      {
       "output_type": "stream",
       "stream": "stdout",
       "text": [
        "\n",
        "Warning:  number of households exceeds number of resunits in TAZ 401150\n",
        "There are 699 households in TAZ 401160\n",
        "There are 819 residential units in TAZ 401160\n",
        "There are 740 households in TAZ 401170\n",
        "There are 760 residential units in TAZ 401170\n",
        "There are 1360 households in TAZ 401180\n",
        "There are 1440 residential units in TAZ 401180"
       ]
      },
      {
       "output_type": "stream",
       "stream": "stdout",
       "text": [
        "\n",
        "There are 368 households in TAZ 401190\n",
        "There are 377 residential units in TAZ 401190\n",
        "There are 639 households in TAZ 401200\n",
        "There are 614 residential units in TAZ 401200\n",
        "Warning:  number of households exceeds number of resunits in TAZ 401200\n",
        "There are 1215 households in TAZ 401210\n",
        "There are 1415 residential units in TAZ 401210"
       ]
      },
      {
       "output_type": "stream",
       "stream": "stdout",
       "text": [
        "\n",
        "There are 1449 households in TAZ 401220\n",
        "There are 1700 residential units in TAZ 401220\n",
        "There are 1557 households in TAZ 401230\n",
        "There are 1699 residential units in TAZ 401230\n",
        "There are 1317 households in TAZ 401240\n",
        "There are 1517 residential units in TAZ 401240"
       ]
      },
      {
       "output_type": "stream",
       "stream": "stdout",
       "text": [
        "\n",
        "There are 553 households in TAZ 401250\n",
        "There are 599 residential units in TAZ 401250\n",
        "There are 648 households in TAZ 401260\n",
        "There are 685 residential units in TAZ 401260\n",
        "There are 1118 households in TAZ 401280\n",
        "There are 1393 residential units in TAZ 401280"
       ]
      },
      {
       "output_type": "stream",
       "stream": "stdout",
       "text": [
        "\n",
        "There are 108 households in TAZ 401290\n",
        "There are 0 residential units in TAZ 401290\n",
        "Warning:  number of households exceeds number of resunits in TAZ 401290\n",
        "There are 349 households in TAZ 401300\n",
        "There are 342 residential units in TAZ 401300\n",
        "Warning:  number of households exceeds number of resunits in TAZ 401300\n",
        "There are 390 households in TAZ 401310\n",
        "There are 443 residential units in TAZ 401310\n",
        "There are 920 households in TAZ 401320"
       ]
      },
      {
       "output_type": "stream",
       "stream": "stdout",
       "text": [
        "\n",
        "There are 1258 residential units in TAZ 401320\n",
        "There are 543 households in TAZ 401330\n",
        "There are 550 residential units in TAZ 401330\n",
        "There are 419 households in TAZ 401340\n",
        "There are 431 residential units in TAZ 401340\n",
        "There are 563 households in TAZ 401360"
       ]
      },
      {
       "output_type": "stream",
       "stream": "stdout",
       "text": [
        "\n",
        "There are 622 residential units in TAZ 401360\n",
        "There are 173 households in TAZ 401380\n",
        "There are 312 residential units in TAZ 401380\n",
        "There are 1729 households in TAZ 401390\n",
        "There are 1502 residential units in TAZ 401390\n",
        "Warning:  number of households exceeds number of resunits in TAZ 401390\n",
        "There are 4 households in TAZ 401400"
       ]
      },
      {
       "output_type": "stream",
       "stream": "stdout",
       "text": [
        "\n",
        "There are 0 residential units in TAZ 401400\n",
        "Warning:  number of households exceeds number of resunits in TAZ 401400\n",
        "There are 2 households in TAZ 402010\n",
        "There are 0 residential units in TAZ 402010\n",
        "Warning:  number of households exceeds number of resunits in TAZ 402010\n",
        "There are 519 households in TAZ 402020\n",
        "There are 644 residential units in TAZ 402020\n",
        "There are 31 households in TAZ 402030\n",
        "There are 22 residential units in TAZ 402030"
       ]
      },
      {
       "output_type": "stream",
       "stream": "stdout",
       "text": [
        "\n",
        "Warning:  number of households exceeds number of resunits in TAZ 402030\n",
        "There are 21 households in TAZ 402040\n",
        "There are 20 residential units in TAZ 402040\n",
        "Warning:  number of households exceeds number of resunits in TAZ 402040\n",
        "There are 295 households in TAZ 402050\n",
        "There are 323 residential units in TAZ 402050\n",
        "There are 14 households in TAZ 402060\n",
        "There are 11 residential units in TAZ 402060\n",
        "Warning:  number of households exceeds number of resunits in TAZ 402060"
       ]
      },
      {
       "output_type": "stream",
       "stream": "stdout",
       "text": [
        "\n",
        "There are 770 households in TAZ 402070\n",
        "There are 852 residential units in TAZ 402070\n",
        "There are 243 households in TAZ 402090\n",
        "There are 180 residential units in TAZ 402090\n",
        "Warning:  number of households exceeds number of resunits in TAZ 402090\n",
        "There are 439 households in TAZ 402100\n",
        "There are 455 residential units in TAZ 402100\n",
        "There are 186 households in TAZ 402110"
       ]
      },
      {
       "output_type": "stream",
       "stream": "stdout",
       "text": [
        "\n",
        "There are 9 residential units in TAZ 402110\n",
        "Warning:  number of households exceeds number of resunits in TAZ 402110\n",
        "There are 90 households in TAZ 402120\n",
        "There are 0 residential units in TAZ 402120\n",
        "Warning:  number of households exceeds number of resunits in TAZ 402120\n",
        "There are 1 households in TAZ 402130\n",
        "There are 0 residential units in TAZ 402130\n",
        "Warning:  number of households exceeds number of resunits in TAZ 402130\n",
        "There are 307 households in TAZ 402140\n",
        "There are 313 residential units in TAZ 402140"
       ]
      },
      {
       "output_type": "stream",
       "stream": "stdout",
       "text": [
        "\n",
        "There are 139 households in TAZ 402150\n",
        "There are 495 residential units in TAZ 402150\n",
        "There are 4 households in TAZ 402170\n",
        "There are 44 residential units in TAZ 402170\n",
        "There are 18 households in TAZ 402180\n",
        "There are 24 residential units in TAZ 402180\n",
        "There are 400 households in TAZ 402190"
       ]
      },
      {
       "output_type": "stream",
       "stream": "stdout",
       "text": [
        "\n",
        "There are 518 residential units in TAZ 402190\n",
        "There are 548 households in TAZ 402200\n",
        "There are 547 residential units in TAZ 402200\n",
        "Warning:  number of households exceeds number of resunits in TAZ 402200\n",
        "There are 60 households in TAZ 402210\n",
        "There are 62 residential units in TAZ 402210\n",
        "There are 248 households in TAZ 402220\n",
        "There are 264 residential units in TAZ 402220"
       ]
      },
      {
       "output_type": "stream",
       "stream": "stdout",
       "text": [
        "\n",
        "There are 502 households in TAZ 402230\n",
        "There are 518 residential units in TAZ 402230\n",
        "There are 714 households in TAZ 402240\n",
        "There are 764 residential units in TAZ 402240\n",
        "There are 1147 households in TAZ 402250\n",
        "There are 1226 residential units in TAZ 402250\n",
        "There are 249 households in TAZ 402260"
       ]
      },
      {
       "output_type": "stream",
       "stream": "stdout",
       "text": [
        "\n",
        "There are 326 residential units in TAZ 402260\n",
        "There are 251 households in TAZ 402270\n",
        "There are 130 residential units in TAZ 402270\n",
        "Warning:  number of households exceeds number of resunits in TAZ 402270\n",
        "There are 244 households in TAZ 402280\n",
        "There are 0 residential units in TAZ 402280\n",
        "Warning:  number of households exceeds number of resunits in TAZ 402280\n",
        "There are 423 households in TAZ 402290\n",
        "There are 423 residential units in TAZ 402290"
       ]
      },
      {
       "output_type": "stream",
       "stream": "stdout",
       "text": [
        "\n",
        "There are 160 households in TAZ 402300\n",
        "There are 371 residential units in TAZ 402300\n",
        "There are 343 households in TAZ 402310\n",
        "There are 425 residential units in TAZ 402310\n",
        "There are 363 households in TAZ 402320\n",
        "There are 382 residential units in TAZ 402320\n",
        "There are 239 households in TAZ 402330"
       ]
      },
      {
       "output_type": "stream",
       "stream": "stdout",
       "text": [
        "\n",
        "There are 232 residential units in TAZ 402330\n",
        "Warning:  number of households exceeds number of resunits in TAZ 402330\n",
        "There are 1214 households in TAZ 402340\n",
        "There are 1369 residential units in TAZ 402340\n",
        "There are 747 households in TAZ 402350\n",
        "There are 773 residential units in TAZ 402350\n",
        "There are 643 households in TAZ 402360"
       ]
      },
      {
       "output_type": "stream",
       "stream": "stdout",
       "text": [
        "\n",
        "There are 704 residential units in TAZ 402360\n",
        "There are 2 households in TAZ 402370\n",
        "There are 0 residential units in TAZ 402370\n",
        "Warning:  number of households exceeds number of resunits in TAZ 402370\n",
        "There are 717 households in TAZ 402380\n",
        "There are 807 residential units in TAZ 402380\n",
        "There are 124 households in TAZ 402390"
       ]
      },
      {
       "output_type": "stream",
       "stream": "stdout",
       "text": [
        "\n",
        "There are 126 residential units in TAZ 402390\n",
        "There are 720 households in TAZ 402400\n",
        "There are 930 residential units in TAZ 402400\n",
        "There are 440 households in TAZ 402410\n",
        "There are 523 residential units in TAZ 402410\n",
        "There are 175 households in TAZ 402420\n",
        "There are 270 residential units in TAZ 402420"
       ]
      },
      {
       "output_type": "stream",
       "stream": "stdout",
       "text": [
        "\n",
        "There are 132 households in TAZ 402430\n",
        "There are 368 residential units in TAZ 402430\n",
        "There are 120 households in TAZ 402440\n",
        "There are 73 residential units in TAZ 402440\n",
        "Warning:  number of households exceeds number of resunits in TAZ 402440\n",
        "There are 388 households in TAZ 402450\n",
        "There are 482 residential units in TAZ 402450\n",
        "There are 239 households in TAZ 402460"
       ]
      },
      {
       "output_type": "stream",
       "stream": "stdout",
       "text": [
        "\n",
        "There are 838 residential units in TAZ 402460\n",
        "There are 145 households in TAZ 402470\n",
        "There are 74 residential units in TAZ 402470\n",
        "Warning:  number of households exceeds number of resunits in TAZ 402470\n",
        "There are 719 households in TAZ 402480\n",
        "There are 776 residential units in TAZ 402480\n",
        "There are 6 households in TAZ 402490\n",
        "There are 0 residential units in TAZ 402490"
       ]
      },
      {
       "output_type": "stream",
       "stream": "stdout",
       "text": [
        "\n",
        "Warning:  number of households exceeds number of resunits in TAZ 402490\n",
        "There are 733 households in TAZ 402500\n",
        "There are 786 residential units in TAZ 402500\n",
        "There are 484 households in TAZ 402510\n",
        "There are 1186 residential units in TAZ 402510\n",
        "There are 395 households in TAZ 402520\n",
        "There are 743 residential units in TAZ 402520\n",
        "There are 186 households in TAZ 402530"
       ]
      },
      {
       "output_type": "stream",
       "stream": "stdout",
       "text": [
        "\n",
        "There are 227 residential units in TAZ 402530\n",
        "There are 896 households in TAZ 402540\n",
        "There are 1227 residential units in TAZ 402540\n",
        "There are 1024 households in TAZ 402550\n",
        "There are 1228 residential units in TAZ 402550\n",
        "There are 4 households in TAZ 403020\n",
        "There are 0 residential units in TAZ 403020"
       ]
      },
      {
       "output_type": "stream",
       "stream": "stdout",
       "text": [
        "\n",
        "Warning:  number of households exceeds number of resunits in TAZ 403020\n",
        "There are 16 households in TAZ 403050\n",
        "There are 0 residential units in TAZ 403050\n",
        "Warning:  number of households exceeds number of resunits in TAZ 403050\n",
        "There are 2 households in TAZ 403060\n",
        "There are 0 residential units in TAZ 403060\n",
        "Warning:  number of households exceeds number of resunits in TAZ 403060\n",
        "There are 254 households in TAZ 403080\n",
        "There are 271 residential units in TAZ 403080\n",
        "There are 23 households in TAZ 403090"
       ]
      },
      {
       "output_type": "stream",
       "stream": "stdout",
       "text": [
        "\n",
        "There are 0 residential units in TAZ 403090\n",
        "Warning:  number of households exceeds number of resunits in TAZ 403090\n",
        "There are 2 households in TAZ 403100\n",
        "There are 0 residential units in TAZ 403100\n",
        "Warning:  number of households exceeds number of resunits in TAZ 403100\n",
        "There are 8 households in TAZ 403110\n",
        "There are 2 residential units in TAZ 403110\n",
        "Warning:  number of households exceeds number of resunits in TAZ 403110\n",
        "There are 606 households in TAZ 403120\n",
        "There are 644 residential units in TAZ 403120"
       ]
      },
      {
       "output_type": "stream",
       "stream": "stdout",
       "text": [
        "\n",
        "There are 828 households in TAZ 403130\n",
        "There are 846 residential units in TAZ 403130\n",
        "There are 815 households in TAZ 403140\n",
        "There are 1000 residential units in TAZ 403140\n",
        "There are 293 households in TAZ 403150\n",
        "There are 308 residential units in TAZ 403150\n",
        "There are 1335 households in TAZ 403160"
       ]
      },
      {
       "output_type": "stream",
       "stream": "stdout",
       "text": [
        "\n",
        "There are 1389 residential units in TAZ 403160\n",
        "There are 888 households in TAZ 403170\n",
        "There are 919 residential units in TAZ 403170\n",
        "There are 919 households in TAZ 403180\n",
        "There are 948 residential units in TAZ 403180\n",
        "There are 454 households in TAZ 403190"
       ]
      },
      {
       "output_type": "stream",
       "stream": "stdout",
       "text": [
        "\n",
        "There are 434 residential units in TAZ 403190\n",
        "Warning:  number of households exceeds number of resunits in TAZ 403190\n",
        "There are 693 households in TAZ 403200\n",
        "There are 644 residential units in TAZ 403200\n",
        "Warning:  number of households exceeds number of resunits in TAZ 403200\n",
        "There are 747 households in TAZ 403210\n",
        "There are 786 residential units in TAZ 403210\n",
        "There are 680 households in TAZ 403220"
       ]
      },
      {
       "output_type": "stream",
       "stream": "stdout",
       "text": [
        "\n",
        "There are 660 residential units in TAZ 403220\n",
        "Warning:  number of households exceeds number of resunits in TAZ 403220\n",
        "There are 531 households in TAZ 403230\n",
        "There are 579 residential units in TAZ 403230\n",
        "There are 745 households in TAZ 403240\n",
        "There are 779 residential units in TAZ 403240\n",
        "There are 307 households in TAZ 403250\n",
        "There are 292 residential units in TAZ 403250"
       ]
      },
      {
       "output_type": "stream",
       "stream": "stdout",
       "text": [
        "\n",
        "Warning:  number of households exceeds number of resunits in TAZ 403250\n",
        "There are 296 households in TAZ 403260\n",
        "There are 270 residential units in TAZ 403260\n",
        "Warning:  number of households exceeds number of resunits in TAZ 403260\n",
        "There are 501 households in TAZ 404030\n",
        "There are 0 residential units in TAZ 404030\n",
        "Warning:  number of households exceeds number of resunits in TAZ 404030\n",
        "There are 20 households in TAZ 404050\n",
        "There are 1 residential units in TAZ 404050\n",
        "Warning:  number of households exceeds number of resunits in TAZ 404050"
       ]
      },
      {
       "output_type": "stream",
       "stream": "stdout",
       "text": [
        "\n",
        "There are 941 households in TAZ 404080\n",
        "There are 916 residential units in TAZ 404080\n",
        "Warning:  number of households exceeds number of resunits in TAZ 404080\n",
        "There are 945 households in TAZ 404090\n",
        "There are 979 residential units in TAZ 404090\n",
        "There are 1419 households in TAZ 404100\n",
        "There are 1504 residential units in TAZ 404100\n",
        "There are 954 households in TAZ 404110"
       ]
      },
      {
       "output_type": "stream",
       "stream": "stdout",
       "text": [
        "\n",
        "There are 1315 residential units in TAZ 404110\n",
        "There are 305 households in TAZ 404120\n",
        "There are 444 residential units in TAZ 404120\n",
        "There are 55 households in TAZ 404140\n",
        "There are 0 residential units in TAZ 404140\n",
        "Warning:  number of households exceeds number of resunits in TAZ 404140\n",
        "There are 328 households in TAZ 404150\n",
        "There are 738 residential units in TAZ 404150"
       ]
      },
      {
       "output_type": "stream",
       "stream": "stdout",
       "text": [
        "\n",
        "There are 549 households in TAZ 404160\n",
        "There are 1542 residential units in TAZ 404160\n",
        "There are 1120 households in TAZ 404170\n",
        "There are 1341 residential units in TAZ 404170\n",
        "There are 853 households in TAZ 404180\n",
        "There are 984 residential units in TAZ 404180\n",
        "There are 670 households in TAZ 404190"
       ]
      },
      {
       "output_type": "stream",
       "stream": "stdout",
       "text": [
        "\n",
        "There are 836 residential units in TAZ 404190\n",
        "There are 701 households in TAZ 404200\n",
        "There are 617 residential units in TAZ 404200\n",
        "Warning:  number of households exceeds number of resunits in TAZ 404200\n",
        "There are 706 households in TAZ 404210\n",
        "There are 849 residential units in TAZ 404210\n",
        "There are 28 households in TAZ 404220\n",
        "There are 0 residential units in TAZ 404220"
       ]
      },
      {
       "output_type": "stream",
       "stream": "stdout",
       "text": [
        "\n",
        "Warning:  number of households exceeds number of resunits in TAZ 404220\n",
        "There are 18 households in TAZ 404240\n",
        "There are 0 residential units in TAZ 404240\n",
        "Warning:  number of households exceeds number of resunits in TAZ 404240\n",
        "There are 761 households in TAZ 404250\n",
        "There are 935 residential units in TAZ 404250\n",
        "There are 1165 households in TAZ 404260\n",
        "There are 1227 residential units in TAZ 404260\n",
        "There are 903 households in TAZ 404270"
       ]
      },
      {
       "output_type": "stream",
       "stream": "stdout",
       "text": [
        "\n",
        "There are 875 residential units in TAZ 404270\n",
        "Warning:  number of households exceeds number of resunits in TAZ 404270\n",
        "There are 1257 households in TAZ 404280\n",
        "There are 1335 residential units in TAZ 404280\n",
        "There are 1736 households in TAZ 404290\n",
        "There are 1805 residential units in TAZ 404290\n",
        "There are 64 households in TAZ 404320"
       ]
      },
      {
       "output_type": "stream",
       "stream": "stdout",
       "text": [
        "\n",
        "There are 0 residential units in TAZ 404320\n",
        "Warning:  number of households exceeds number of resunits in TAZ 404320\n",
        "There are 380 households in TAZ 404360\n",
        "There are 242 residential units in TAZ 404360\n",
        "Warning:  number of households exceeds number of resunits in TAZ 404360\n",
        "There are 37 households in TAZ 404370\n",
        "There are 351 residential units in TAZ 404370\n",
        "There are 2 households in TAZ 404400\n",
        "There are 0 residential units in TAZ 404400"
       ]
      },
      {
       "output_type": "stream",
       "stream": "stdout",
       "text": [
        "\n",
        "Warning:  number of households exceeds number of resunits in TAZ 404400\n",
        "There are 2 households in TAZ 404410\n",
        "There are 0 residential units in TAZ 404410\n",
        "Warning:  number of households exceeds number of resunits in TAZ 404410\n",
        "There are 14 households in TAZ 404420\n",
        "There are 0 residential units in TAZ 404420\n",
        "Warning:  number of households exceeds number of resunits in TAZ 404420\n",
        "There are 96 households in TAZ 404430\n",
        "There are 120 residential units in TAZ 404430\n",
        "There are 128 households in TAZ 404440"
       ]
      },
      {
       "output_type": "stream",
       "stream": "stdout",
       "text": [
        "\n",
        "There are 763 residential units in TAZ 404440\n",
        "There are 1693 households in TAZ 404450\n",
        "There are 1794 residential units in TAZ 404450\n",
        "There are 156 households in TAZ 404460\n",
        "There are 522 residential units in TAZ 404460\n",
        "There are 64 households in TAZ 404470\n",
        "There are 350 residential units in TAZ 404470"
       ]
      },
      {
       "output_type": "stream",
       "stream": "stdout",
       "text": [
        "\n",
        "There are 14 households in TAZ 404480\n",
        "There are 328 residential units in TAZ 404480\n",
        "There are 436 households in TAZ 405010\n",
        "There are 435 residential units in TAZ 405010\n",
        "Warning:  number of households exceeds number of resunits in TAZ 405010\n",
        "There are 371 households in TAZ 405020\n",
        "There are 87 residential units in TAZ 405020\n",
        "Warning:  number of households exceeds number of resunits in TAZ 405020"
       ]
      },
      {
       "output_type": "stream",
       "stream": "stdout",
       "text": [
        "\n",
        "There are 891 households in TAZ 405030\n",
        "There are 907 residential units in TAZ 405030\n",
        "There are 41 households in TAZ 405050\n",
        "There are 2 residential units in TAZ 405050\n",
        "Warning:  number of households exceeds number of resunits in TAZ 405050\n",
        "There are 128 households in TAZ 405060\n",
        "There are 0 residential units in TAZ 405060\n",
        "Warning:  number of households exceeds number of resunits in TAZ 405060\n",
        "There are 414 households in TAZ 405070"
       ]
      },
      {
       "output_type": "stream",
       "stream": "stdout",
       "text": [
        "\n",
        "There are 486 residential units in TAZ 405070\n",
        "There are 943 households in TAZ 405080\n",
        "There are 1369 residential units in TAZ 405080\n",
        "There are 324 households in TAZ 405090\n",
        "There are 341 residential units in TAZ 405090\n",
        "There are 534 households in TAZ 405100\n",
        "There are 524 residential units in TAZ 405100"
       ]
      },
      {
       "output_type": "stream",
       "stream": "stdout",
       "text": [
        "\n",
        "Warning:  number of households exceeds number of resunits in TAZ 405100\n",
        "There are 104 households in TAZ 405140\n",
        "There are 0 residential units in TAZ 405140\n",
        "Warning:  number of households exceeds number of resunits in TAZ 405140\n",
        "There are 526 households in TAZ 405150\n",
        "There are 514 residential units in TAZ 405150\n",
        "Warning:  number of households exceeds number of resunits in TAZ 405150\n",
        "There are 4 households in TAZ 405160\n",
        "There are 3 residential units in TAZ 405160\n",
        "Warning:  number of households exceeds number of resunits in TAZ 405160"
       ]
      },
      {
       "output_type": "stream",
       "stream": "stdout",
       "text": [
        "\n",
        "There are 1236 households in TAZ 405170\n",
        "There are 1221 residential units in TAZ 405170\n",
        "Warning:  number of households exceeds number of resunits in TAZ 405170\n",
        "There are 1185 households in TAZ 405180\n",
        "There are 1222 residential units in TAZ 405180\n",
        "There are 1093 households in TAZ 405190\n",
        "There are 1004 residential units in TAZ 405190\n",
        "Warning:  number of households exceeds number of resunits in TAZ 405190"
       ]
      },
      {
       "output_type": "stream",
       "stream": "stdout",
       "text": [
        "\n",
        "There are 1526 households in TAZ 405200\n",
        "There are 1852 residential units in TAZ 405200\n",
        "There are 945 households in TAZ 405210\n",
        "There are 943 residential units in TAZ 405210\n",
        "Warning:  number of households exceeds number of resunits in TAZ 405210\n",
        "There are 799 households in TAZ 405220\n",
        "There are 853 residential units in TAZ 405220\n",
        "There are 119 households in TAZ 405230"
       ]
      },
      {
       "output_type": "stream",
       "stream": "stdout",
       "text": [
        "\n",
        "There are 115 residential units in TAZ 405230\n",
        "Warning:  number of households exceeds number of resunits in TAZ 405230\n",
        "There are 23 households in TAZ 405250\n",
        "There are 13 residential units in TAZ 405250\n",
        "Warning:  number of households exceeds number of resunits in TAZ 405250\n",
        "There are 290 households in TAZ 405260\n",
        "There are 263 residential units in TAZ 405260\n",
        "Warning:  number of households exceeds number of resunits in TAZ 405260\n",
        "There are 1353 households in TAZ 405270\n",
        "There are 1578 residential units in TAZ 405270"
       ]
      },
      {
       "output_type": "stream",
       "stream": "stdout",
       "text": [
        "\n",
        "There are 893 households in TAZ 405280\n",
        "There are 930 residential units in TAZ 405280\n",
        "There are 136 households in TAZ 405290\n",
        "There are 128 residential units in TAZ 405290\n",
        "Warning:  number of households exceeds number of resunits in TAZ 405290\n",
        "There are 283 households in TAZ 405300\n",
        "There are 286 residential units in TAZ 405300\n",
        "There are 687 households in TAZ 405310"
       ]
      },
      {
       "output_type": "stream",
       "stream": "stdout",
       "text": [
        "\n",
        "There are 719 residential units in TAZ 405310\n",
        "There are 999 households in TAZ 405320\n",
        "There are 1029 residential units in TAZ 405320\n",
        "There are 824 households in TAZ 405330\n",
        "There are 810 residential units in TAZ 405330\n",
        "Warning:  number of households exceeds number of resunits in TAZ 405330\n",
        "There are 1404 households in TAZ 405340"
       ]
      },
      {
       "output_type": "stream",
       "stream": "stdout",
       "text": [
        "\n",
        "There are 1491 residential units in TAZ 405340\n",
        "There are 1164 households in TAZ 405350\n",
        "There are 1226 residential units in TAZ 405350\n",
        "There are 831 households in TAZ 405360\n",
        "There are 856 residential units in TAZ 405360\n",
        "There are 546 households in TAZ 405370"
       ]
      },
      {
       "output_type": "stream",
       "stream": "stdout",
       "text": [
        "\n",
        "There are 557 residential units in TAZ 405370\n",
        "There are 84 households in TAZ 405380\n",
        "There are 78 residential units in TAZ 405380\n",
        "Warning:  number of households exceeds number of resunits in TAZ 405380\n",
        "There are 61 households in TAZ 405390\n",
        "There are 0 residential units in TAZ 405390\n",
        "Warning:  number of households exceeds number of resunits in TAZ 405390\n",
        "There are 238 households in TAZ 405400\n",
        "There are 0 residential units in TAZ 405400"
       ]
      },
      {
       "output_type": "stream",
       "stream": "stdout",
       "text": [
        "\n",
        "Warning:  number of households exceeds number of resunits in TAZ 405400\n",
        "There are 694 households in TAZ 405410\n",
        "There are 0 residential units in TAZ 405410\n",
        "Warning:  number of households exceeds number of resunits in TAZ 405410\n",
        "There are 651 households in TAZ 405420\n",
        "There are 682 residential units in TAZ 405420\n",
        "There are 757 households in TAZ 405430\n",
        "There are 761 residential units in TAZ 405430\n",
        "There are 1043 households in TAZ 405440"
       ]
      },
      {
       "output_type": "stream",
       "stream": "stdout",
       "text": [
        "\n",
        "There are 992 residential units in TAZ 405440\n",
        "Warning:  number of households exceeds number of resunits in TAZ 405440\n",
        "There are 775 households in TAZ 405450\n",
        "There are 877 residential units in TAZ 405450\n",
        "There are 921 households in TAZ 406010\n",
        "There are 1060 residential units in TAZ 406010\n",
        "There are 1385 households in TAZ 406020"
       ]
      },
      {
       "output_type": "stream",
       "stream": "stdout",
       "text": [
        "\n",
        "There are 1415 residential units in TAZ 406020\n",
        "There are 687 households in TAZ 406030\n",
        "There are 927 residential units in TAZ 406030\n",
        "There are 1410 households in TAZ 406040\n",
        "There are 1602 residential units in TAZ 406040\n",
        "There are 843 households in TAZ 406050"
       ]
      },
      {
       "output_type": "stream",
       "stream": "stdout",
       "text": [
        "\n",
        "There are 901 residential units in TAZ 406050\n",
        "There are 871 households in TAZ 406060\n",
        "There are 889 residential units in TAZ 406060\n",
        "There are 1390 households in TAZ 406070\n",
        "There are 1330 residential units in TAZ 406070\n",
        "Warning:  number of households exceeds number of resunits in TAZ 406070\n",
        "There are 1158 households in TAZ 406080"
       ]
      },
      {
       "output_type": "stream",
       "stream": "stdout",
       "text": [
        "\n",
        "There are 1093 residential units in TAZ 406080\n",
        "Warning:  number of households exceeds number of resunits in TAZ 406080\n",
        "There are 2333 households in TAZ 406090\n",
        "There are 2453 residential units in TAZ 406090\n",
        "There are 2853 households in TAZ 406100\n",
        "There are 2721 residential units in TAZ 406100\n",
        "Warning:  number of households exceeds number of resunits in TAZ 406100\n",
        "There are 1634 households in TAZ 406110"
       ]
      },
      {
       "output_type": "stream",
       "stream": "stdout",
       "text": [
        "\n",
        "There are 2158 residential units in TAZ 406110\n",
        "There are 2156 households in TAZ 406120\n",
        "There are 1900 residential units in TAZ 406120\n",
        "Warning:  number of households exceeds number of resunits in TAZ 406120\n",
        "There are 643 households in TAZ 406130\n",
        "There are 668 residential units in TAZ 406130\n",
        "There are 635 households in TAZ 406140"
       ]
      },
      {
       "output_type": "stream",
       "stream": "stdout",
       "text": [
        "\n",
        "There are 850 residential units in TAZ 406140\n",
        "There are 1193 households in TAZ 406150\n",
        "There are 1166 residential units in TAZ 406150\n",
        "Warning:  number of households exceeds number of resunits in TAZ 406150\n",
        "There are 759 households in TAZ 406160\n",
        "There are 719 residential units in TAZ 406160\n",
        "Warning:  number of households exceeds number of resunits in TAZ 406160\n",
        "There are 48 households in TAZ 406170\n",
        "There are 22 residential units in TAZ 406170"
       ]
      },
      {
       "output_type": "stream",
       "stream": "stdout",
       "text": [
        "\n",
        "Warning:  number of households exceeds number of resunits in TAZ 406170\n",
        "There are 507 households in TAZ 406190\n",
        "There are 546 residential units in TAZ 406190\n",
        "There are 790 households in TAZ 406200\n",
        "There are 823 residential units in TAZ 406200\n",
        "There are 305 households in TAZ 406210\n",
        "There are 313 residential units in TAZ 406210\n",
        "There are 790 households in TAZ 406220"
       ]
      },
      {
       "output_type": "stream",
       "stream": "stdout",
       "text": [
        "\n",
        "There are 780 residential units in TAZ 406220\n",
        "Warning:  number of households exceeds number of resunits in TAZ 406220\n",
        "There are 306 households in TAZ 406230\n",
        "There are 301 residential units in TAZ 406230\n",
        "Warning:  number of households exceeds number of resunits in TAZ 406230\n",
        "There are 300 households in TAZ 406240\n",
        "There are 313 residential units in TAZ 406240\n",
        "There are 18 households in TAZ 406250\n",
        "There are 167 residential units in TAZ 406250"
       ]
      },
      {
       "output_type": "stream",
       "stream": "stdout",
       "text": [
        "\n",
        "There are 865 households in TAZ 406260\n",
        "There are 975 residential units in TAZ 406260\n",
        "There are 1863 households in TAZ 406270\n",
        "There are 1848 residential units in TAZ 406270\n",
        "Warning:  number of households exceeds number of resunits in TAZ 406270\n",
        "There are 3072 households in TAZ 406280\n",
        "There are 3170 residential units in TAZ 406280"
       ]
      },
      {
       "output_type": "stream",
       "stream": "stdout",
       "text": [
        "\n",
        "There are 6 households in TAZ 406290\n",
        "There are 0 residential units in TAZ 406290\n",
        "Warning:  number of households exceeds number of resunits in TAZ 406290\n",
        "There are 2 households in TAZ 406300\n",
        "There are 0 residential units in TAZ 406300\n",
        "Warning:  number of households exceeds number of resunits in TAZ 406300\n",
        "There are 1470 households in TAZ 406310\n",
        "There are 2584 residential units in TAZ 406310"
       ]
      },
      {
       "output_type": "stream",
       "stream": "stdout",
       "text": [
        "\n",
        "There are 1134 households in TAZ 407010\n",
        "There are 1183 residential units in TAZ 407010\n",
        "There are 721 households in TAZ 407020\n",
        "There are 771 residential units in TAZ 407020\n",
        "There are 2435 households in TAZ 407030\n",
        "There are 2573 residential units in TAZ 407030"
       ]
      },
      {
       "output_type": "stream",
       "stream": "stdout",
       "text": [
        "\n",
        "There are 480 households in TAZ 407040\n",
        "There are 482 residential units in TAZ 407040\n",
        "There are 834 households in TAZ 407050\n",
        "There are 842 residential units in TAZ 407050\n",
        "There are 840 households in TAZ 407060\n",
        "There are 815 residential units in TAZ 407060"
       ]
      },
      {
       "output_type": "stream",
       "stream": "stdout",
       "text": [
        "\n",
        "Warning:  number of households exceeds number of resunits in TAZ 407060\n",
        "There are 1136 households in TAZ 407070\n",
        "There are 1000 residential units in TAZ 407070\n",
        "Warning:  number of households exceeds number of resunits in TAZ 407070\n",
        "There are 1703 households in TAZ 407080\n",
        "There are 1489 residential units in TAZ 407080\n",
        "Warning:  number of households exceeds number of resunits in TAZ 407080\n",
        "There are 546 households in TAZ 407090\n",
        "There are 583 residential units in TAZ 407090"
       ]
      },
      {
       "output_type": "stream",
       "stream": "stdout",
       "text": [
        "\n",
        "There are 457 households in TAZ 407100\n",
        "There are 471 residential units in TAZ 407100\n",
        "There are 879 households in TAZ 407110\n",
        "There are 859 residential units in TAZ 407110\n",
        "Warning:  number of households exceeds number of resunits in TAZ 407110\n",
        "There are 576 households in TAZ 407120\n",
        "There are 556 residential units in TAZ 407120\n",
        "Warning:  number of households exceeds number of resunits in TAZ 407120"
       ]
      },
      {
       "output_type": "stream",
       "stream": "stdout",
       "text": [
        "\n",
        "There are 347 households in TAZ 407130\n",
        "There are 833 residential units in TAZ 407130\n",
        "There are 364 households in TAZ 407150\n",
        "There are 954 residential units in TAZ 407150\n",
        "There are 673 households in TAZ 407160\n",
        "There are 696 residential units in TAZ 407160\n",
        "There are 890 households in TAZ 407170"
       ]
      },
      {
       "output_type": "stream",
       "stream": "stdout",
       "text": [
        "\n",
        "There are 807 residential units in TAZ 407170\n",
        "Warning:  number of households exceeds number of resunits in TAZ 407170\n",
        "There are 529 households in TAZ 407180\n",
        "There are 527 residential units in TAZ 407180\n",
        "Warning:  number of households exceeds number of resunits in TAZ 407180\n",
        "There are 467 households in TAZ 407190\n",
        "There are 482 residential units in TAZ 407190\n",
        "There are 318 households in TAZ 407200\n",
        "There are 324 residential units in TAZ 407200"
       ]
      },
      {
       "output_type": "stream",
       "stream": "stdout",
       "text": [
        "\n",
        "There are 309 households in TAZ 407210\n",
        "There are 325 residential units in TAZ 407210\n",
        "There are 991 households in TAZ 407220\n",
        "There are 948 residential units in TAZ 407220\n",
        "Warning:  number of households exceeds number of resunits in TAZ 407220\n",
        "There are 420 households in TAZ 407230\n",
        "There are 552 residential units in TAZ 407230\n",
        "There are 848 households in TAZ 407240"
       ]
      },
      {
       "output_type": "stream",
       "stream": "stdout",
       "text": [
        "\n",
        "There are 1020 residential units in TAZ 407240\n",
        "There are 337 households in TAZ 407250\n",
        "There are 339 residential units in TAZ 407250\n",
        "There are 1835 households in TAZ 407260\n",
        "There are 1897 residential units in TAZ 407260\n",
        "There are 2817 households in TAZ 407270"
       ]
      },
      {
       "output_type": "stream",
       "stream": "stdout",
       "text": [
        "\n",
        "There are 3137 residential units in TAZ 407270\n",
        "There are 1719 households in TAZ 407280\n",
        "There are 1554 residential units in TAZ 407280\n",
        "Warning:  number of households exceeds number of resunits in TAZ 407280\n",
        "There are 894 households in TAZ 407290\n",
        "There are 909 residential units in TAZ 407290\n",
        "There are 12 households in TAZ 407300"
       ]
      },
      {
       "output_type": "stream",
       "stream": "stdout",
       "text": [
        "\n",
        "There are 0 residential units in TAZ 407300\n",
        "Warning:  number of households exceeds number of resunits in TAZ 407300\n",
        "There are 1410 households in TAZ 407310\n",
        "There are 1279 residential units in TAZ 407310\n",
        "Warning:  number of households exceeds number of resunits in TAZ 407310\n",
        "There are 317 households in TAZ 407320\n",
        "There are 332 residential units in TAZ 407320\n",
        "There are 128 households in TAZ 407330\n",
        "There are 129 residential units in TAZ 407330"
       ]
      },
      {
       "output_type": "stream",
       "stream": "stdout",
       "text": [
        "\n",
        "There are 772 households in TAZ 407340\n",
        "There are 767 residential units in TAZ 407340\n",
        "Warning:  number of households exceeds number of resunits in TAZ 407340\n",
        "There are 703 households in TAZ 407350\n",
        "There are 999 residential units in TAZ 407350\n",
        "There are 396 households in TAZ 407360\n",
        "There are 621 residential units in TAZ 407360\n",
        "There are 1051 households in TAZ 407370"
       ]
      },
      {
       "output_type": "stream",
       "stream": "stdout",
       "text": [
        "\n",
        "There are 1010 residential units in TAZ 407370\n",
        "Warning:  number of households exceeds number of resunits in TAZ 407370\n",
        "There are 3794 households in TAZ 407380\n",
        "There are 3723 residential units in TAZ 407380\n",
        "Warning:  number of households exceeds number of resunits in TAZ 407380\n",
        "There are 2 households in TAZ 407390\n",
        "There are 0 residential units in TAZ 407390\n",
        "Warning:  number of households exceeds number of resunits in TAZ 407390\n",
        "There are 1268 households in TAZ 407400"
       ]
      },
      {
       "output_type": "stream",
       "stream": "stdout",
       "text": [
        "\n",
        "There are 1289 residential units in TAZ 407400\n",
        "There are 910 households in TAZ 408010\n",
        "There are 927 residential units in TAZ 408010\n",
        "There are 1143 households in TAZ 408020\n",
        "There are 1275 residential units in TAZ 408020\n",
        "There are 835 households in TAZ 408030"
       ]
      },
      {
       "output_type": "stream",
       "stream": "stdout",
       "text": [
        "\n",
        "There are 833 residential units in TAZ 408030\n",
        "Warning:  number of households exceeds number of resunits in TAZ 408030\n",
        "There are 1150 households in TAZ 408040\n",
        "There are 1206 residential units in TAZ 408040\n",
        "There are 14 households in TAZ 408050\n",
        "There are 6 residential units in TAZ 408050\n",
        "Warning:  number of households exceeds number of resunits in TAZ 408050\n",
        "There are 89 households in TAZ 408060"
       ]
      },
      {
       "output_type": "stream",
       "stream": "stdout",
       "text": [
        "\n",
        "There are 79 residential units in TAZ 408060\n",
        "Warning:  number of households exceeds number of resunits in TAZ 408060\n",
        "There are 555 households in TAZ 408070\n",
        "There are 502 residential units in TAZ 408070\n",
        "Warning:  number of households exceeds number of resunits in TAZ 408070\n",
        "There are 722 households in TAZ 408080\n",
        "There are 834 residential units in TAZ 408080\n",
        "There are 1090 households in TAZ 408090"
       ]
      },
      {
       "output_type": "stream",
       "stream": "stdout",
       "text": [
        "\n",
        "There are 1124 residential units in TAZ 408090\n",
        "There are 952 households in TAZ 408100\n",
        "There are 964 residential units in TAZ 408100\n",
        "There are 690 households in TAZ 408110\n",
        "There are 722 residential units in TAZ 408110\n",
        "There are 930 households in TAZ 408120"
       ]
      },
      {
       "output_type": "stream",
       "stream": "stdout",
       "text": [
        "\n",
        "There are 939 residential units in TAZ 408120\n",
        "There are 1195 households in TAZ 408130\n",
        "There are 1238 residential units in TAZ 408130\n",
        "There are 518 households in TAZ 408140\n",
        "There are 576 residential units in TAZ 408140\n",
        "There are 54 households in TAZ 408150"
       ]
      },
      {
       "output_type": "stream",
       "stream": "stdout",
       "text": [
        "\n",
        "There are 78 residential units in TAZ 408150\n",
        "There are 8 households in TAZ 408160\n",
        "There are 1 residential units in TAZ 408160\n",
        "Warning:  number of households exceeds number of resunits in TAZ 408160\n",
        "There are 287 households in TAZ 408170\n",
        "There are 283 residential units in TAZ 408170\n",
        "Warning:  number of households exceeds number of resunits in TAZ 408170\n",
        "There are 718 households in TAZ 408180\n",
        "There are 748 residential units in TAZ 408180"
       ]
      },
      {
       "output_type": "stream",
       "stream": "stdout",
       "text": [
        "\n",
        "There are 600 households in TAZ 408190\n",
        "There are 613 residential units in TAZ 408190\n",
        "There are 898 households in TAZ 408200\n",
        "There are 958 residential units in TAZ 408200\n",
        "There are 1209 households in TAZ 408210\n",
        "There are 1269 residential units in TAZ 408210\n",
        "There are 828 households in TAZ 408220"
       ]
      },
      {
       "output_type": "stream",
       "stream": "stdout",
       "text": [
        "\n",
        "There are 832 residential units in TAZ 408220\n",
        "There are 411 households in TAZ 408230\n",
        "There are 394 residential units in TAZ 408230\n",
        "Warning:  number of households exceeds number of resunits in TAZ 408230\n",
        "There are 1367 households in TAZ 408240\n",
        "There are 1630 residential units in TAZ 408240\n",
        "There are 1032 households in TAZ 408250"
       ]
      },
      {
       "output_type": "stream",
       "stream": "stdout",
       "text": [
        "\n",
        "There are 1096 residential units in TAZ 408250\n",
        "There are 435 households in TAZ 408260\n",
        "There are 404 residential units in TAZ 408260\n",
        "Warning:  number of households exceeds number of resunits in TAZ 408260\n",
        "There are 224 households in TAZ 408270\n",
        "There are 221 residential units in TAZ 408270\n",
        "Warning:  number of households exceeds number of resunits in TAZ 408270\n",
        "There are 19 households in TAZ 408280"
       ]
      },
      {
       "output_type": "stream",
       "stream": "stdout",
       "text": [
        "\n",
        "There are 18 residential units in TAZ 408280\n",
        "Warning:  number of households exceeds number of resunits in TAZ 408280\n",
        "There are 2418 households in TAZ 408290\n",
        "There are 2576 residential units in TAZ 408290\n",
        "There are 227 households in TAZ 408310\n",
        "There are 201 residential units in TAZ 408310\n",
        "Warning:  number of households exceeds number of resunits in TAZ 408310\n",
        "There are 456 households in TAZ 408320\n",
        "There are 491 residential units in TAZ 408320"
       ]
      },
      {
       "output_type": "stream",
       "stream": "stdout",
       "text": [
        "\n",
        "There are 1479 households in TAZ 408330\n",
        "There are 1718 residential units in TAZ 408330\n",
        "There are 273 households in TAZ 408340\n",
        "There are 276 residential units in TAZ 408340\n",
        "There are 1384 households in TAZ 408350\n",
        "There are 1613 residential units in TAZ 408350\n",
        "There are 2891 households in TAZ 408370"
       ]
      },
      {
       "output_type": "stream",
       "stream": "stdout",
       "text": [
        "\n",
        "There are 2814 residential units in TAZ 408370\n",
        "Warning:  number of households exceeds number of resunits in TAZ 408370\n",
        "There are 413 households in TAZ 408380\n",
        "There are 424 residential units in TAZ 408380\n",
        "There are 482 households in TAZ 408390\n",
        "There are 564 residential units in TAZ 408390\n",
        "There are 911 households in TAZ 409010"
       ]
      },
      {
       "output_type": "stream",
       "stream": "stdout",
       "text": [
        "\n",
        "There are 984 residential units in TAZ 409010\n",
        "There are 790 households in TAZ 409020\n",
        "There are 830 residential units in TAZ 409020\n",
        "There are 355 households in TAZ 409030\n",
        "There are 366 residential units in TAZ 409030\n",
        "There are 561 households in TAZ 409040\n",
        "There are 680 residential units in TAZ 409040"
       ]
      },
      {
       "output_type": "stream",
       "stream": "stdout",
       "text": [
        "\n",
        "There are 45 households in TAZ 409050\n",
        "There are 309 residential units in TAZ 409050\n",
        "There are 205 households in TAZ 409060\n",
        "There are 216 residential units in TAZ 409060\n",
        "There are 239 households in TAZ 409070\n",
        "There are 246 residential units in TAZ 409070\n",
        "There are 996 households in TAZ 409090"
       ]
      },
      {
       "output_type": "stream",
       "stream": "stdout",
       "text": [
        "\n",
        "There are 1078 residential units in TAZ 409090\n",
        "There are 1156 households in TAZ 409100\n",
        "There are 1166 residential units in TAZ 409100\n",
        "There are 541 households in TAZ 409110\n",
        "There are 575 residential units in TAZ 409110\n",
        "There are 73 households in TAZ 409120"
       ]
      },
      {
       "output_type": "stream",
       "stream": "stdout",
       "text": [
        "\n",
        "There are 0 residential units in TAZ 409120\n",
        "Warning:  number of households exceeds number of resunits in TAZ 409120\n",
        "There are 70 households in TAZ 409130\n",
        "There are 165 residential units in TAZ 409130\n",
        "There are 561 households in TAZ 409140\n",
        "There are 502 residential units in TAZ 409140\n",
        "Warning:  number of households exceeds number of resunits in TAZ 409140\n",
        "There are 647 households in TAZ 409150\n",
        "There are 666 residential units in TAZ 409150"
       ]
      },
      {
       "output_type": "stream",
       "stream": "stdout",
       "text": [
        "\n",
        "There are 1053 households in TAZ 409160\n",
        "There are 1116 residential units in TAZ 409160\n",
        "There are 721 households in TAZ 409170\n",
        "There are 725 residential units in TAZ 409170\n",
        "There are 434 households in TAZ 409180\n",
        "There are 437 residential units in TAZ 409180\n",
        "There are 1573 households in TAZ 409190"
       ]
      },
      {
       "output_type": "stream",
       "stream": "stdout",
       "text": [
        "\n",
        "There are 1638 residential units in TAZ 409190\n",
        "There are 606 households in TAZ 409200\n",
        "There are 643 residential units in TAZ 409200\n",
        "There are 368 households in TAZ 409210\n",
        "There are 381 residential units in TAZ 409210\n",
        "There are 442 households in TAZ 409220"
       ]
      },
      {
       "output_type": "stream",
       "stream": "stdout",
       "text": [
        "\n",
        "There are 483 residential units in TAZ 409220\n",
        "There are 697 households in TAZ 409230\n",
        "There are 724 residential units in TAZ 409230\n",
        "There are 382 households in TAZ 409240\n",
        "There are 394 residential units in TAZ 409240\n",
        "There are 269 households in TAZ 409250\n",
        "There are 260 residential units in TAZ 409250"
       ]
      },
      {
       "output_type": "stream",
       "stream": "stdout",
       "text": [
        "\n",
        "Warning:  number of households exceeds number of resunits in TAZ 409250\n",
        "There are 744 households in TAZ 409260\n",
        "There are 880 residential units in TAZ 409260\n",
        "There are 828 households in TAZ 409270\n",
        "There are 1017 residential units in TAZ 409270\n",
        "There are 531 households in TAZ 409280\n",
        "There are 487 residential units in TAZ 409280"
       ]
      },
      {
       "output_type": "stream",
       "stream": "stdout",
       "text": [
        "\n",
        "Warning:  number of households exceeds number of resunits in TAZ 409280\n",
        "There are 756 households in TAZ 409290\n",
        "There are 814 residential units in TAZ 409290\n",
        "There are 1254 households in TAZ 409300\n",
        "There are 1354 residential units in TAZ 409300\n",
        "There are 952 households in TAZ 409310\n",
        "There are 964 residential units in TAZ 409310"
       ]
      },
      {
       "output_type": "stream",
       "stream": "stdout",
       "text": [
        "\n",
        "There are 1049 households in TAZ 409320\n",
        "There are 1042 residential units in TAZ 409320\n",
        "Warning:  number of households exceeds number of resunits in TAZ 409320\n",
        "There are 488 households in TAZ 409330\n",
        "There are 452 residential units in TAZ 409330\n",
        "Warning:  number of households exceeds number of resunits in TAZ 409330\n",
        "There are 511 households in TAZ 409340\n",
        "There are 535 residential units in TAZ 409340"
       ]
      },
      {
       "output_type": "stream",
       "stream": "stdout",
       "text": [
        "\n",
        "There are 76 households in TAZ 409350\n",
        "There are 70 residential units in TAZ 409350\n",
        "Warning:  number of households exceeds number of resunits in TAZ 409350\n",
        "There are 119 households in TAZ 409360\n",
        "There are 121 residential units in TAZ 409360\n",
        "There are 117 households in TAZ 409370\n",
        "There are 111 residential units in TAZ 409370\n",
        "Warning:  number of households exceeds number of resunits in TAZ 409370"
       ]
      },
      {
       "output_type": "stream",
       "stream": "stdout",
       "text": [
        "\n",
        "There are 537 households in TAZ 409380\n",
        "There are 531 residential units in TAZ 409380\n",
        "Warning:  number of households exceeds number of resunits in TAZ 409380\n",
        "There are 581 households in TAZ 409390\n",
        "There are 533 residential units in TAZ 409390\n",
        "Warning:  number of households exceeds number of resunits in TAZ 409390\n",
        "There are 214 households in TAZ 409400\n",
        "There are 369 residential units in TAZ 409400\n",
        "There are 604 households in TAZ 409410"
       ]
      },
      {
       "output_type": "stream",
       "stream": "stdout",
       "text": [
        "\n",
        "There are 587 residential units in TAZ 409410\n",
        "Warning:  number of households exceeds number of resunits in TAZ 409410\n",
        "There are 987 households in TAZ 409420\n",
        "There are 1050 residential units in TAZ 409420\n",
        "There are 340 households in TAZ 409430\n",
        "There are 357 residential units in TAZ 409430\n",
        "There are 693 households in TAZ 410010\n",
        "There are 691 residential units in TAZ 410010"
       ]
      },
      {
       "output_type": "stream",
       "stream": "stdout",
       "text": [
        "\n",
        "Warning:  number of households exceeds number of resunits in TAZ 410010\n",
        "There are 1114 households in TAZ 410020\n",
        "There are 1031 residential units in TAZ 410020\n",
        "Warning:  number of households exceeds number of resunits in TAZ 410020\n",
        "There are 681 households in TAZ 410030\n",
        "There are 648 residential units in TAZ 410030\n",
        "Warning:  number of households exceeds number of resunits in TAZ 410030\n",
        "There are 286 households in TAZ 410040\n",
        "There are 299 residential units in TAZ 410040"
       ]
      },
      {
       "output_type": "stream",
       "stream": "stdout",
       "text": [
        "\n",
        "There are 375 households in TAZ 410050\n",
        "There are 400 residential units in TAZ 410050\n",
        "There are 697 households in TAZ 410060\n",
        "There are 718 residential units in TAZ 410060\n",
        "There are 938 households in TAZ 410070\n",
        "There are 962 residential units in TAZ 410070\n",
        "There are 915 households in TAZ 410080"
       ]
      },
      {
       "output_type": "stream",
       "stream": "stdout",
       "text": [
        "\n",
        "There are 936 residential units in TAZ 410080\n",
        "There are 725 households in TAZ 410090\n",
        "There are 992 residential units in TAZ 410090\n",
        "There are 117 households in TAZ 410100\n",
        "There are 0 residential units in TAZ 410100\n",
        "Warning:  number of households exceeds number of resunits in TAZ 410100\n",
        "There are 204 households in TAZ 410110\n",
        "There are 141 residential units in TAZ 410110"
       ]
      },
      {
       "output_type": "stream",
       "stream": "stdout",
       "text": [
        "\n",
        "Warning:  number of households exceeds number of resunits in TAZ 410110\n",
        "There are 451 households in TAZ 410120\n",
        "There are 554 residential units in TAZ 410120\n",
        "There are 2095 households in TAZ 410130\n",
        "There are 2480 residential units in TAZ 410130\n",
        "There are 1107 households in TAZ 410140\n",
        "There are 1137 residential units in TAZ 410140\n",
        "There are 21 households in TAZ 410150"
       ]
      },
      {
       "output_type": "stream",
       "stream": "stdout",
       "text": [
        "\n",
        "There are 18 residential units in TAZ 410150\n",
        "Warning:  number of households exceeds number of resunits in TAZ 410150\n",
        "There are 820 households in TAZ 410160\n",
        "There are 847 residential units in TAZ 410160\n",
        "There are 492 households in TAZ 410170\n",
        "There are 485 residential units in TAZ 410170\n",
        "Warning:  number of households exceeds number of resunits in TAZ 410170\n",
        "There are 640 households in TAZ 410180"
       ]
      },
      {
       "output_type": "stream",
       "stream": "stdout",
       "text": [
        "\n",
        "There are 662 residential units in TAZ 410180\n",
        "There are 322 households in TAZ 410190\n",
        "There are 339 residential units in TAZ 410190\n",
        "There are 185 households in TAZ 410200\n",
        "There are 182 residential units in TAZ 410200\n",
        "Warning:  number of households exceeds number of resunits in TAZ 410200\n",
        "There are 899 households in TAZ 410210\n",
        "There are 940 residential units in TAZ 410210"
       ]
      },
      {
       "output_type": "stream",
       "stream": "stdout",
       "text": [
        "\n",
        "There are 834 households in TAZ 410220\n",
        "There are 798 residential units in TAZ 410220\n",
        "Warning:  number of households exceeds number of resunits in TAZ 410220\n",
        "There are 1453 households in TAZ 410230\n",
        "There are 1647 residential units in TAZ 410230\n",
        "There are 558 households in TAZ 410240\n",
        "There are 352 residential units in TAZ 410240"
       ]
      },
      {
       "output_type": "stream",
       "stream": "stdout",
       "text": [
        "\n",
        "Warning:  number of households exceeds number of resunits in TAZ 410240\n",
        "There are 587 households in TAZ 410250\n",
        "There are 635 residential units in TAZ 410250\n",
        "There are 420 households in TAZ 410260\n",
        "There are 378 residential units in TAZ 410260\n",
        "Warning:  number of households exceeds number of resunits in TAZ 410260\n",
        "There are 2086 households in TAZ 410270\n",
        "There are 1844 residential units in TAZ 410270\n",
        "Warning:  number of households exceeds number of resunits in TAZ 410270"
       ]
      },
      {
       "output_type": "stream",
       "stream": "stdout",
       "text": [
        "\n",
        "There are 694 households in TAZ 410280\n",
        "There are 1116 residential units in TAZ 410280\n",
        "There are 1564 households in TAZ 410290\n",
        "There are 1369 residential units in TAZ 410290\n",
        "Warning:  number of households exceeds number of resunits in TAZ 410290\n",
        "There are 3 households in TAZ 410300\n",
        "There are 0 residential units in TAZ 410300\n",
        "Warning:  number of households exceeds number of resunits in TAZ 410300\n",
        "There are 2220 households in TAZ 410310"
       ]
      },
      {
       "output_type": "stream",
       "stream": "stdout",
       "text": [
        "\n",
        "There are 2393 residential units in TAZ 410310\n",
        "There are 180 households in TAZ 411010\n",
        "There are 183 residential units in TAZ 411010\n",
        "There are 767 households in TAZ 411020\n",
        "There are 682 residential units in TAZ 411020\n",
        "Warning:  number of households exceeds number of resunits in TAZ 411020\n",
        "There are 666 households in TAZ 411030"
       ]
      },
      {
       "output_type": "stream",
       "stream": "stdout",
       "text": [
        "\n",
        "There are 906 residential units in TAZ 411030\n",
        "There are 340 households in TAZ 411040\n",
        "There are 317 residential units in TAZ 411040\n",
        "Warning:  number of households exceeds number of resunits in TAZ 411040\n",
        "There are 219 households in TAZ 411050\n",
        "There are 202 residential units in TAZ 411050\n",
        "Warning:  number of households exceeds number of resunits in TAZ 411050\n",
        "There are 1032 households in TAZ 411060"
       ]
      },
      {
       "output_type": "stream",
       "stream": "stdout",
       "text": [
        "\n",
        "There are 1001 residential units in TAZ 411060\n",
        "Warning:  number of households exceeds number of resunits in TAZ 411060\n",
        "There are 989 households in TAZ 411070\n",
        "There are 938 residential units in TAZ 411070\n",
        "Warning:  number of households exceeds number of resunits in TAZ 411070\n",
        "There are 765 households in TAZ 411080\n",
        "There are 668 residential units in TAZ 411080\n",
        "Warning:  number of households exceeds number of resunits in TAZ 411080\n",
        "There are 506 households in TAZ 411090"
       ]
      },
      {
       "output_type": "stream",
       "stream": "stdout",
       "text": [
        "\n",
        "There are 466 residential units in TAZ 411090\n",
        "Warning:  number of households exceeds number of resunits in TAZ 411090\n",
        "There are 1454 households in TAZ 411100\n",
        "There are 1390 residential units in TAZ 411100\n",
        "Warning:  number of households exceeds number of resunits in TAZ 411100\n",
        "There are 534 households in TAZ 411110\n",
        "There are 603 residential units in TAZ 411110\n",
        "There are 1058 households in TAZ 411120"
       ]
      },
      {
       "output_type": "stream",
       "stream": "stdout",
       "text": [
        "\n",
        "There are 1656 residential units in TAZ 411120\n",
        "There are 383 households in TAZ 411150\n",
        "There are 382 residential units in TAZ 411150\n",
        "Warning:  number of households exceeds number of resunits in TAZ 411150\n",
        "There are 252 households in TAZ 411160\n",
        "There are 253 residential units in TAZ 411160\n",
        "There are 568 households in TAZ 411170\n",
        "There are 763 residential units in TAZ 411170"
       ]
      },
      {
       "output_type": "stream",
       "stream": "stdout",
       "text": [
        "\n",
        "There are 2 households in TAZ 411180\n",
        "There are 0 residential units in TAZ 411180\n",
        "Warning:  number of households exceeds number of resunits in TAZ 411180\n",
        "There are 333 households in TAZ 411190\n",
        "There are 161 residential units in TAZ 411190\n",
        "Warning:  number of households exceeds number of resunits in TAZ 411190\n",
        "There are 717 households in TAZ 412010\n",
        "There are 1273 residential units in TAZ 412010\n",
        "There are 14 households in TAZ 412021"
       ]
      },
      {
       "output_type": "stream",
       "stream": "stdout",
       "text": [
        "\n",
        "There are 98 residential units in TAZ 412021\n",
        "There are 43 households in TAZ 412022\n",
        "There are 0 residential units in TAZ 412022\n",
        "Warning:  number of households exceeds number of resunits in TAZ 412022\n",
        "There are 18 households in TAZ 412031\n",
        "There are 27 residential units in TAZ 412031\n",
        "There are 18 households in TAZ 412032\n",
        "There are 271 residential units in TAZ 412032"
       ]
      },
      {
       "output_type": "stream",
       "stream": "stdout",
       "text": [
        "\n",
        "There are 18 households in TAZ 412033\n",
        "There are 2 residential units in TAZ 412033\n",
        "Warning:  number of households exceeds number of resunits in TAZ 412033\n",
        "There are 18 households in TAZ 412034\n",
        "There are 226 residential units in TAZ 412034\n",
        "There are 18 households in TAZ 412035\n",
        "There are 18 residential units in TAZ 412035\n",
        "There are 17 households in TAZ 412036"
       ]
      },
      {
       "output_type": "stream",
       "stream": "stdout",
       "text": [
        "\n",
        "There are 0 residential units in TAZ 412036\n",
        "Warning:  number of households exceeds number of resunits in TAZ 412036\n",
        "There are 18 households in TAZ 412037\n",
        "There are 0 residential units in TAZ 412037\n",
        "Warning:  number of households exceeds number of resunits in TAZ 412037\n",
        "There are 17 households in TAZ 412038\n",
        "There are 0 residential units in TAZ 412038\n",
        "Warning:  number of households exceeds number of resunits in TAZ 412038\n",
        "There are 18 households in TAZ 412039\n",
        "There are 1 residential units in TAZ 412039"
       ]
      },
      {
       "output_type": "stream",
       "stream": "stdout",
       "text": [
        "\n",
        "Warning:  number of households exceeds number of resunits in TAZ 412039\n",
        "There are 22 households in TAZ 412041\n",
        "There are 0 residential units in TAZ 412041\n",
        "Warning:  number of households exceeds number of resunits in TAZ 412041\n",
        "There are 13 households in TAZ 412042\n",
        "There are 0 residential units in TAZ 412042\n",
        "Warning:  number of households exceeds number of resunits in TAZ 412042\n",
        "There are 21 households in TAZ 412043\n",
        "There are 41 residential units in TAZ 412043\n",
        "There are 22 households in TAZ 412044"
       ]
      },
      {
       "output_type": "stream",
       "stream": "stdout",
       "text": [
        "\n",
        "There are 6 residential units in TAZ 412044\n",
        "Warning:  number of households exceeds number of resunits in TAZ 412044\n",
        "There are 21 households in TAZ 412045\n",
        "There are 9 residential units in TAZ 412045\n",
        "Warning:  number of households exceeds number of resunits in TAZ 412045\n",
        "There are 21 households in TAZ 412046\n",
        "There are 0 residential units in TAZ 412046\n",
        "Warning:  number of households exceeds number of resunits in TAZ 412046\n",
        "There are 22 households in TAZ 412047\n",
        "There are 80 residential units in TAZ 412047"
       ]
      },
      {
       "output_type": "stream",
       "stream": "stdout",
       "text": [
        "\n",
        "There are 23 households in TAZ 412048\n",
        "There are 0 residential units in TAZ 412048\n",
        "Warning:  number of households exceeds number of resunits in TAZ 412048\n",
        "There are 29 households in TAZ 412049\n",
        "There are 0 residential units in TAZ 412049\n",
        "Warning:  number of households exceeds number of resunits in TAZ 412049\n",
        "There are 3 households in TAZ 412051\n",
        "There are 0 residential units in TAZ 412051\n",
        "Warning:  number of households exceeds number of resunits in TAZ 412051"
       ]
      },
      {
       "output_type": "stream",
       "stream": "stdout",
       "text": [
        "\n",
        "There are 3 households in TAZ 412052\n",
        "There are 0 residential units in TAZ 412052\n",
        "Warning:  number of households exceeds number of resunits in TAZ 412052\n",
        "There are 2 households in TAZ 412053\n",
        "There are 0 residential units in TAZ 412053\n",
        "Warning:  number of households exceeds number of resunits in TAZ 412053\n",
        "There are 3 households in TAZ 412054\n",
        "There are 0 residential units in TAZ 412054\n",
        "Warning:  number of households exceeds number of resunits in TAZ 412054\n",
        "There are 3 households in TAZ 412055\n",
        "There are 0 residential units in TAZ 412055"
       ]
      },
      {
       "output_type": "stream",
       "stream": "stdout",
       "text": [
        "\n",
        "Warning:  number of households exceeds number of resunits in TAZ 412055\n",
        "There are 3 households in TAZ 412056\n",
        "There are 0 residential units in TAZ 412056\n",
        "Warning:  number of households exceeds number of resunits in TAZ 412056\n",
        "There are 88 households in TAZ 412061\n",
        "There are 317 residential units in TAZ 412061\n",
        "There are 89 households in TAZ 412062\n",
        "There are 0 residential units in TAZ 412062\n",
        "Warning:  number of households exceeds number of resunits in TAZ 412062"
       ]
      },
      {
       "output_type": "stream",
       "stream": "stdout",
       "text": [
        "\n",
        "There are 89 households in TAZ 412063\n",
        "There are 0 residential units in TAZ 412063\n",
        "Warning:  number of households exceeds number of resunits in TAZ 412063\n",
        "There are 87 households in TAZ 412064\n",
        "There are 181 residential units in TAZ 412064\n",
        "There are 88 households in TAZ 412065\n",
        "There are 218 residential units in TAZ 412065\n",
        "There are 88 households in TAZ 412066"
       ]
      },
      {
       "output_type": "stream",
       "stream": "stdout",
       "text": [
        "\n",
        "There are 0 residential units in TAZ 412066\n",
        "Warning:  number of households exceeds number of resunits in TAZ 412066\n",
        "There are 45 households in TAZ 412071\n",
        "There are 5 residential units in TAZ 412071\n",
        "Warning:  number of households exceeds number of resunits in TAZ 412071\n",
        "There are 41 households in TAZ 412072\n",
        "There are 100 residential units in TAZ 412072\n",
        "There are 41 households in TAZ 412073\n",
        "There are 199 residential units in TAZ 412073"
       ]
      },
      {
       "output_type": "stream",
       "stream": "stdout",
       "text": [
        "\n",
        "There are 43 households in TAZ 412074\n",
        "There are 5 residential units in TAZ 412074\n",
        "Warning:  number of households exceeds number of resunits in TAZ 412074\n",
        "There are 41 households in TAZ 412075\n",
        "There are 242 residential units in TAZ 412075\n",
        "There are 42 households in TAZ 412076\n",
        "There are 0 residential units in TAZ 412076\n",
        "Warning:  number of households exceeds number of resunits in TAZ 412076"
       ]
      },
      {
       "output_type": "stream",
       "stream": "stdout",
       "text": [
        "\n",
        "There are 48 households in TAZ 412081\n",
        "There are 19 residential units in TAZ 412081\n",
        "Warning:  number of households exceeds number of resunits in TAZ 412081\n",
        "There are 25 households in TAZ 412082\n",
        "There are 0 residential units in TAZ 412082\n",
        "Warning:  number of households exceeds number of resunits in TAZ 412082\n",
        "There are 31 households in TAZ 412083\n",
        "There are 0 residential units in TAZ 412083\n",
        "Warning:  number of households exceeds number of resunits in TAZ 412083\n",
        "There are 25 households in TAZ 412084"
       ]
      },
      {
       "output_type": "stream",
       "stream": "stdout",
       "text": [
        "\n",
        "There are 47 residential units in TAZ 412084\n",
        "There are 25 households in TAZ 412085\n",
        "There are 4 residential units in TAZ 412085\n",
        "Warning:  number of households exceeds number of resunits in TAZ 412085\n",
        "There are 321 households in TAZ 412090\n",
        "There are 302 residential units in TAZ 412090\n",
        "Warning:  number of households exceeds number of resunits in TAZ 412090\n",
        "There are 349 households in TAZ 412100\n",
        "There are 721 residential units in TAZ 412100"
       ]
      },
      {
       "output_type": "stream",
       "stream": "stdout",
       "text": [
        "\n",
        "There are 652 households in TAZ 412110\n",
        "There are 573 residential units in TAZ 412110\n",
        "Warning:  number of households exceeds number of resunits in TAZ 412110\n",
        "There are 58 households in TAZ 412121\n",
        "There are 0 residential units in TAZ 412121\n",
        "Warning:  number of households exceeds number of resunits in TAZ 412121\n",
        "There are 29 households in TAZ 412122\n",
        "There are 184 residential units in TAZ 412122\n",
        "There are 28 households in TAZ 412123"
       ]
      },
      {
       "output_type": "stream",
       "stream": "stdout",
       "text": [
        "\n",
        "There are 35 residential units in TAZ 412123\n",
        "There are 29 households in TAZ 412124\n",
        "There are 8 residential units in TAZ 412124\n",
        "Warning:  number of households exceeds number of resunits in TAZ 412124\n",
        "There are 28 households in TAZ 412125\n",
        "There are 62 residential units in TAZ 412125\n",
        "There are 54 households in TAZ 412151\n",
        "There are 187 residential units in TAZ 412151"
       ]
      },
      {
       "output_type": "stream",
       "stream": "stdout",
       "text": [
        "\n",
        "There are 55 households in TAZ 412152\n",
        "There are 0 residential units in TAZ 412152\n",
        "Warning:  number of households exceeds number of resunits in TAZ 412152\n",
        "There are 56 households in TAZ 412153\n",
        "There are 0 residential units in TAZ 412153\n",
        "Warning:  number of households exceeds number of resunits in TAZ 412153\n",
        "There are 52 households in TAZ 412154\n",
        "There are 158 residential units in TAZ 412154\n",
        "There are 52 households in TAZ 412155"
       ]
      },
      {
       "output_type": "stream",
       "stream": "stdout",
       "text": [
        "\n",
        "There are 23 residential units in TAZ 412155\n",
        "Warning:  number of households exceeds number of resunits in TAZ 412155\n",
        "There are 52 households in TAZ 412156\n",
        "There are 0 residential units in TAZ 412156\n",
        "Warning:  number of households exceeds number of resunits in TAZ 412156\n",
        "There are 6 households in TAZ 412161\n",
        "There are 0 residential units in TAZ 412161\n",
        "Warning:  number of households exceeds number of resunits in TAZ 412161\n",
        "There are 3 households in TAZ 412162\n",
        "There are 0 residential units in TAZ 412162"
       ]
      },
      {
       "output_type": "stream",
       "stream": "stdout",
       "text": [
        "\n",
        "Warning:  number of households exceeds number of resunits in TAZ 412162\n",
        "There are 8 households in TAZ 412163\n",
        "There are 0 residential units in TAZ 412163\n",
        "Warning:  number of households exceeds number of resunits in TAZ 412163\n",
        "There are 8 households in TAZ 412164\n",
        "There are 0 residential units in TAZ 412164\n",
        "Warning:  number of households exceeds number of resunits in TAZ 412164\n",
        "There are 3 households in TAZ 412165\n",
        "There are 0 residential units in TAZ 412165\n",
        "Warning:  number of households exceeds number of resunits in TAZ 412165"
       ]
      },
      {
       "output_type": "stream",
       "stream": "stdout",
       "text": [
        "\n",
        "There are 9 households in TAZ 412166\n",
        "There are 0 residential units in TAZ 412166\n",
        "Warning:  number of households exceeds number of resunits in TAZ 412166\n",
        "There are 9 households in TAZ 412167\n",
        "There are 416 residential units in TAZ 412167\n",
        "There are 9 households in TAZ 412168\n",
        "There are 0 residential units in TAZ 412168\n",
        "Warning:  number of households exceeds number of resunits in TAZ 412168\n",
        "There are 7 households in TAZ 412169"
       ]
      },
      {
       "output_type": "stream",
       "stream": "stdout",
       "text": [
        "\n",
        "There are 0 residential units in TAZ 412169\n",
        "Warning:  number of households exceeds number of resunits in TAZ 412169\n",
        "There are 64 households in TAZ 412171\n",
        "There are 0 residential units in TAZ 412171\n",
        "Warning:  number of households exceeds number of resunits in TAZ 412171\n",
        "There are 65 households in TAZ 412172\n",
        "There are 35 residential units in TAZ 412172\n",
        "Warning:  number of households exceeds number of resunits in TAZ 412172\n",
        "There are 65 households in TAZ 412173\n",
        "There are 234 residential units in TAZ 412173"
       ]
      },
      {
       "output_type": "stream",
       "stream": "stdout",
       "text": [
        "\n",
        "There are 63 households in TAZ 412174\n",
        "There are 0 residential units in TAZ 412174\n",
        "Warning:  number of households exceeds number of resunits in TAZ 412174\n",
        "There are 65 households in TAZ 412175\n",
        "There are 0 residential units in TAZ 412175\n",
        "Warning:  number of households exceeds number of resunits in TAZ 412175\n",
        "There are 64 households in TAZ 412176\n",
        "There are 91 residential units in TAZ 412176\n",
        "There are 255 households in TAZ 412180"
       ]
      },
      {
       "output_type": "stream",
       "stream": "stdout",
       "text": [
        "\n",
        "There are 531 residential units in TAZ 412180\n",
        "There are 985 households in TAZ 412190\n",
        "There are 1148 residential units in TAZ 412190\n",
        "There are 39 households in TAZ 412201\n",
        "There are 0 residential units in TAZ 412201\n",
        "Warning:  number of households exceeds number of resunits in TAZ 412201\n",
        "There are 39 households in TAZ 412202\n",
        "There are 0 residential units in TAZ 412202"
       ]
      },
      {
       "output_type": "stream",
       "stream": "stdout",
       "text": [
        "\n",
        "Warning:  number of households exceeds number of resunits in TAZ 412202\n",
        "There are 40 households in TAZ 412203\n",
        "There are 0 residential units in TAZ 412203\n",
        "Warning:  number of households exceeds number of resunits in TAZ 412203\n",
        "There are 40 households in TAZ 412204\n",
        "There are 432 residential units in TAZ 412204\n",
        "There are 37 households in TAZ 412205\n",
        "There are 0 residential units in TAZ 412205\n",
        "Warning:  number of households exceeds number of resunits in TAZ 412205"
       ]
      },
      {
       "output_type": "stream",
       "stream": "stdout",
       "text": [
        "\n",
        "There are 37 households in TAZ 412206\n",
        "There are 0 residential units in TAZ 412206\n",
        "Warning:  number of households exceeds number of resunits in TAZ 412206\n",
        "There are 43 households in TAZ 412207\n",
        "There are 0 residential units in TAZ 412207\n",
        "Warning:  number of households exceeds number of resunits in TAZ 412207\n",
        "There are 40 households in TAZ 412208\n",
        "There are 0 residential units in TAZ 412208\n",
        "Warning:  number of households exceeds number of resunits in TAZ 412208\n",
        "There are 39 households in TAZ 412209"
       ]
      },
      {
       "output_type": "stream",
       "stream": "stdout",
       "text": [
        "\n",
        "There are 186 residential units in TAZ 412209\n",
        "There are 5 households in TAZ 412211\n",
        "There are 0 residential units in TAZ 412211\n",
        "Warning:  number of households exceeds number of resunits in TAZ 412211\n",
        "There are 5 households in TAZ 412212\n",
        "There are 0 residential units in TAZ 412212\n",
        "Warning:  number of households exceeds number of resunits in TAZ 412212\n",
        "There are 5 households in TAZ 412213\n",
        "There are 0 residential units in TAZ 412213"
       ]
      },
      {
       "output_type": "stream",
       "stream": "stdout",
       "text": [
        "\n",
        "Warning:  number of households exceeds number of resunits in TAZ 412213\n",
        "There are 5 households in TAZ 412214\n",
        "There are 0 residential units in TAZ 412214\n",
        "Warning:  number of households exceeds number of resunits in TAZ 412214\n",
        "There are 5 households in TAZ 412215\n",
        "There are 0 residential units in TAZ 412215\n",
        "Warning:  number of households exceeds number of resunits in TAZ 412215\n",
        "There are 5 households in TAZ 412221\n",
        "There are 0 residential units in TAZ 412221\n",
        "Warning:  number of households exceeds number of resunits in TAZ 412221"
       ]
      },
      {
       "output_type": "stream",
       "stream": "stdout",
       "text": [
        "\n",
        "There are 5 households in TAZ 412222\n",
        "There are 0 residential units in TAZ 412222\n",
        "Warning:  number of households exceeds number of resunits in TAZ 412222\n",
        "There are 5 households in TAZ 412223\n",
        "There are 0 residential units in TAZ 412223\n",
        "Warning:  number of households exceeds number of resunits in TAZ 412223\n",
        "There are 6 households in TAZ 412224\n",
        "There are 0 residential units in TAZ 412224\n",
        "Warning:  number of households exceeds number of resunits in TAZ 412224\n",
        "There are 62 households in TAZ 412231"
       ]
      },
      {
       "output_type": "stream",
       "stream": "stdout",
       "text": [
        "\n",
        "There are 120 residential units in TAZ 412231\n",
        "There are 63 households in TAZ 412232\n",
        "There are 197 residential units in TAZ 412232\n",
        "There are 63 households in TAZ 412233\n",
        "There are 0 residential units in TAZ 412233\n",
        "Warning:  number of households exceeds number of resunits in TAZ 412233\n",
        "There are 63 households in TAZ 412234\n",
        "There are 497 residential units in TAZ 412234"
       ]
      },
      {
       "output_type": "stream",
       "stream": "stdout",
       "text": [
        "\n",
        "There are 62 households in TAZ 412235\n",
        "There are 0 residential units in TAZ 412235\n",
        "Warning:  number of households exceeds number of resunits in TAZ 412235\n",
        "There are 63 households in TAZ 412236\n",
        "There are 0 residential units in TAZ 412236\n",
        "Warning:  number of households exceeds number of resunits in TAZ 412236\n",
        "There are 80 households in TAZ 412241\n",
        "There are 0 residential units in TAZ 412241\n",
        "Warning:  number of households exceeds number of resunits in TAZ 412241"
       ]
      },
      {
       "output_type": "stream",
       "stream": "stdout",
       "text": [
        "\n",
        "There are 79 households in TAZ 412242\n",
        "There are 0 residential units in TAZ 412242\n",
        "Warning:  number of households exceeds number of resunits in TAZ 412242\n",
        "There are 81 households in TAZ 412243\n",
        "There are 0 residential units in TAZ 412243\n",
        "Warning:  number of households exceeds number of resunits in TAZ 412243\n",
        "There are 80 households in TAZ 412244\n",
        "There are 102 residential units in TAZ 412244\n",
        "There are 80 households in TAZ 412245"
       ]
      },
      {
       "output_type": "stream",
       "stream": "stdout",
       "text": [
        "\n",
        "There are 550 residential units in TAZ 412245\n",
        "There are 79 households in TAZ 412246\n",
        "There are 0 residential units in TAZ 412246\n",
        "Warning:  number of households exceeds number of resunits in TAZ 412246\n",
        "There are 35 households in TAZ 412251\n",
        "There are 57 residential units in TAZ 412251\n",
        "There are 34 households in TAZ 412252\n",
        "There are 170 residential units in TAZ 412252"
       ]
      },
      {
       "output_type": "stream",
       "stream": "stdout",
       "text": [
        "\n",
        "There are 35 households in TAZ 412253\n",
        "There are 43 residential units in TAZ 412253\n",
        "There are 39 households in TAZ 412254\n",
        "There are 2 residential units in TAZ 412254\n",
        "Warning:  number of households exceeds number of resunits in TAZ 412254\n",
        "There are 51 households in TAZ 412255\n",
        "There are 0 residential units in TAZ 412255\n",
        "Warning:  number of households exceeds number of resunits in TAZ 412255"
       ]
      },
      {
       "output_type": "stream",
       "stream": "stdout",
       "text": [
        "\n",
        "There are 35 households in TAZ 412256\n",
        "There are 0 residential units in TAZ 412256\n",
        "Warning:  number of households exceeds number of resunits in TAZ 412256\n",
        "There are 29 households in TAZ 412257\n",
        "There are 0 residential units in TAZ 412257\n",
        "Warning:  number of households exceeds number of resunits in TAZ 412257\n",
        "There are 63 households in TAZ 412261\n",
        "There are 0 residential units in TAZ 412261\n",
        "Warning:  number of households exceeds number of resunits in TAZ 412261\n",
        "There are 67 households in TAZ 412262"
       ]
      },
      {
       "output_type": "stream",
       "stream": "stdout",
       "text": [
        "\n",
        "There are 76 residential units in TAZ 412262\n",
        "There are 65 households in TAZ 412263\n",
        "There are 52 residential units in TAZ 412263\n",
        "Warning:  number of households exceeds number of resunits in TAZ 412263\n",
        "There are 65 households in TAZ 412264\n",
        "There are 67 residential units in TAZ 412264\n",
        "There are 68 households in TAZ 412265\n",
        "There are 84 residential units in TAZ 412265"
       ]
      },
      {
       "output_type": "stream",
       "stream": "stdout",
       "text": [
        "\n",
        "There are 70 households in TAZ 412266\n",
        "There are 140 residential units in TAZ 412266\n",
        "There are 16 households in TAZ 412270\n",
        "There are 0 residential units in TAZ 412270\n",
        "Warning:  number of households exceeds number of resunits in TAZ 412270\n",
        "There are 129 households in TAZ 412280\n",
        "There are 106 residential units in TAZ 412280\n",
        "Warning:  number of households exceeds number of resunits in TAZ 412280"
       ]
      },
      {
       "output_type": "stream",
       "stream": "stdout",
       "text": [
        "\n",
        "There are 3 households in TAZ 412290\n",
        "There are 0 residential units in TAZ 412290\n",
        "Warning:  number of households exceeds number of resunits in TAZ 412290\n",
        "There are 10 households in TAZ 412301\n",
        "There are 41 residential units in TAZ 412301\n",
        "There are 8 households in TAZ 412303\n",
        "There are 0 residential units in TAZ 412303\n",
        "Warning:  number of households exceeds number of resunits in TAZ 412303\n",
        "There are 16 households in TAZ 412304"
       ]
      },
      {
       "output_type": "stream",
       "stream": "stdout",
       "text": [
        "\n",
        "There are 0 residential units in TAZ 412304\n",
        "Warning:  number of households exceeds number of resunits in TAZ 412304\n",
        "There are 14 households in TAZ 412321\n",
        "There are 0 residential units in TAZ 412321\n",
        "Warning:  number of households exceeds number of resunits in TAZ 412321\n",
        "There are 14 households in TAZ 412322\n",
        "There are 0 residential units in TAZ 412322\n",
        "Warning:  number of households exceeds number of resunits in TAZ 412322\n",
        "There are 17 households in TAZ 412323\n",
        "There are 16 residential units in TAZ 412323"
       ]
      },
      {
       "output_type": "stream",
       "stream": "stdout",
       "text": [
        "\n",
        "Warning:  number of households exceeds number of resunits in TAZ 412323\n",
        "There are 31 households in TAZ 412324\n",
        "There are 5 residential units in TAZ 412324\n",
        "Warning:  number of households exceeds number of resunits in TAZ 412324\n",
        "There are 509 households in TAZ 412330\n",
        "There are 836 residential units in TAZ 412330\n",
        "There are 87 households in TAZ 412340\n",
        "There are 157 residential units in TAZ 412340\n",
        "There are 263 households in TAZ 412350"
       ]
      },
      {
       "output_type": "stream",
       "stream": "stdout",
       "text": [
        "\n",
        "There are 331 residential units in TAZ 412350\n",
        "There are 294 households in TAZ 412360\n",
        "There are 196 residential units in TAZ 412360\n",
        "Warning:  number of households exceeds number of resunits in TAZ 412360\n",
        "There are 1939 households in TAZ 412370\n",
        "There are 1794 residential units in TAZ 412370\n",
        "Warning:  number of households exceeds number of resunits in TAZ 412370\n",
        "There are 1088 households in TAZ 412380"
       ]
      },
      {
       "output_type": "stream",
       "stream": "stdout",
       "text": [
        "\n",
        "There are 1026 residential units in TAZ 412380\n",
        "Warning:  number of households exceeds number of resunits in TAZ 412380\n",
        "There are 384 households in TAZ 412390\n",
        "There are 742 residential units in TAZ 412390\n",
        "There are 62 households in TAZ 412421\n",
        "There are 9 residential units in TAZ 412421\n",
        "Warning:  number of households exceeds number of resunits in TAZ 412421\n",
        "There are 87 households in TAZ 412422\n",
        "There are 163 residential units in TAZ 412422"
       ]
      },
      {
       "output_type": "stream",
       "stream": "stdout",
       "text": [
        "\n",
        "There are 65 households in TAZ 412423\n",
        "There are 0 residential units in TAZ 412423\n",
        "Warning:  number of households exceeds number of resunits in TAZ 412423\n",
        "There are 64 households in TAZ 412424\n",
        "There are 0 residential units in TAZ 412424\n",
        "Warning:  number of households exceeds number of resunits in TAZ 412424\n",
        "There are 97 households in TAZ 412425\n",
        "There are 225 residential units in TAZ 412425\n",
        "There are 4 households in TAZ 413020"
       ]
      },
      {
       "output_type": "stream",
       "stream": "stdout",
       "text": [
        "\n",
        "There are 0 residential units in TAZ 413020\n",
        "Warning:  number of households exceeds number of resunits in TAZ 413020\n",
        "There are 1 households in TAZ 413170\n",
        "There are 0 residential units in TAZ 413170\n",
        "Warning:  number of households exceeds number of resunits in TAZ 413170\n",
        "There are 176 households in TAZ 413180\n",
        "There are 2 residential units in TAZ 413180\n",
        "Warning:  number of households exceeds number of resunits in TAZ 413180\n",
        "There are 59 households in TAZ 413190\n",
        "There are 0 residential units in TAZ 413190"
       ]
      },
      {
       "output_type": "stream",
       "stream": "stdout",
       "text": [
        "\n",
        "Warning:  number of households exceeds number of resunits in TAZ 413190\n",
        "There are 354 households in TAZ 413200\n",
        "There are 544 residential units in TAZ 413200\n",
        "There are 818 households in TAZ 501010\n",
        "There are 888 residential units in TAZ 501010\n",
        "There are 2268 households in TAZ 501020\n",
        "There are 2220 residential units in TAZ 501020\n",
        "Warning:  number of households exceeds number of resunits in TAZ 501020"
       ]
      },
      {
       "output_type": "stream",
       "stream": "stdout",
       "text": [
        "\n",
        "There are 110 households in TAZ 501030\n",
        "There are 103 residential units in TAZ 501030\n",
        "Warning:  number of households exceeds number of resunits in TAZ 501030\n",
        "There are 968 households in TAZ 501040\n",
        "There are 981 residential units in TAZ 501040\n",
        "There are 1775 households in TAZ 501050\n",
        "There are 1977 residential units in TAZ 501050\n",
        "There are 1426 households in TAZ 501060"
       ]
      },
      {
       "output_type": "stream",
       "stream": "stdout",
       "text": [
        "\n",
        "There are 1687 residential units in TAZ 501060\n",
        "There are 419 households in TAZ 501070\n",
        "There are 442 residential units in TAZ 501070\n",
        "There are 1245 households in TAZ 501080\n",
        "There are 1518 residential units in TAZ 501080\n",
        "There are 1185 households in TAZ 501090\n",
        "There are 1310 residential units in TAZ 501090"
       ]
      },
      {
       "output_type": "stream",
       "stream": "stdout",
       "text": [
        "\n",
        "There are 754 households in TAZ 501100\n",
        "There are 787 residential units in TAZ 501100\n",
        "There are 1008 households in TAZ 501110\n",
        "There are 1418 residential units in TAZ 501110\n",
        "There are 701 households in TAZ 501120\n",
        "There are 630 residential units in TAZ 501120"
       ]
      },
      {
       "output_type": "stream",
       "stream": "stdout",
       "text": [
        "\n",
        "Warning:  number of households exceeds number of resunits in TAZ 501120\n",
        "There are 2469 households in TAZ 501130\n",
        "There are 3020 residential units in TAZ 501130\n",
        "There are 211 households in TAZ 501140\n",
        "There are 365 residential units in TAZ 501140\n",
        "There are 343 households in TAZ 502010\n",
        "There are 365 residential units in TAZ 502010"
       ]
      },
      {
       "output_type": "stream",
       "stream": "stdout",
       "text": [
        "\n",
        "There are 303 households in TAZ 502020\n",
        "There are 270 residential units in TAZ 502020\n",
        "Warning:  number of households exceeds number of resunits in TAZ 502020\n",
        "There are 1108 households in TAZ 502030\n",
        "There are 1125 residential units in TAZ 502030\n",
        "There are 2016 households in TAZ 502040\n",
        "There are 954 residential units in TAZ 502040\n",
        "Warning:  number of households exceeds number of resunits in TAZ 502040"
       ]
      },
      {
       "output_type": "stream",
       "stream": "stdout",
       "text": [
        "\n",
        "There are 279 households in TAZ 502050\n",
        "There are 336 residential units in TAZ 502050\n",
        "There are 1079 households in TAZ 502060\n",
        "There are 1073 residential units in TAZ 502060\n",
        "Warning:  number of households exceeds number of resunits in TAZ 502060\n",
        "There are 829 households in TAZ 502070\n",
        "There are 809 residential units in TAZ 502070\n",
        "Warning:  number of households exceeds number of resunits in TAZ 502070"
       ]
      },
      {
       "output_type": "stream",
       "stream": "stdout",
       "text": [
        "\n",
        "There are 476 households in TAZ 502080\n",
        "There are 481 residential units in TAZ 502080\n",
        "There are 580 households in TAZ 502090\n",
        "There are 605 residential units in TAZ 502090\n",
        "There are 537 households in TAZ 502100\n",
        "There are 647 residential units in TAZ 502100\n",
        "There are 745 households in TAZ 502110"
       ]
      },
      {
       "output_type": "stream",
       "stream": "stdout",
       "text": [
        "\n",
        "There are 771 residential units in TAZ 502110\n",
        "There are 619 households in TAZ 502120\n",
        "There are 630 residential units in TAZ 502120\n",
        "There are 467 households in TAZ 502130\n",
        "There are 319 residential units in TAZ 502130\n",
        "Warning:  number of households exceeds number of resunits in TAZ 502130\n",
        "There are 845 households in TAZ 502150\n",
        "There are 1279 residential units in TAZ 502150"
       ]
      },
      {
       "output_type": "stream",
       "stream": "stdout",
       "text": [
        "\n",
        "There are 646 households in TAZ 502160\n",
        "There are 682 residential units in TAZ 502160\n",
        "There are 882 households in TAZ 502170\n",
        "There are 912 residential units in TAZ 502170\n",
        "There are 434 households in TAZ 502180\n",
        "There are 452 residential units in TAZ 502180\n",
        "There are 1487 households in TAZ 502190"
       ]
      },
      {
       "output_type": "stream",
       "stream": "stdout",
       "text": [
        "\n",
        "There are 1579 residential units in TAZ 502190\n",
        "There are 1236 households in TAZ 502200\n",
        "There are 1274 residential units in TAZ 502200\n",
        "There are 312 households in TAZ 502210\n",
        "There are 320 residential units in TAZ 502210\n",
        "There are 30 households in TAZ 502220\n",
        "There are 27 residential units in TAZ 502220"
       ]
      },
      {
       "output_type": "stream",
       "stream": "stdout",
       "text": [
        "\n",
        "Warning:  number of households exceeds number of resunits in TAZ 502220\n",
        "There are 853 households in TAZ 503010\n",
        "There are 371 residential units in TAZ 503010\n",
        "Warning:  number of households exceeds number of resunits in TAZ 503010\n",
        "There are 515 households in TAZ 503020\n",
        "There are 166 residential units in TAZ 503020\n",
        "Warning:  number of households exceeds number of resunits in TAZ 503020\n",
        "There are 620 households in TAZ 503030\n",
        "There are 650 residential units in TAZ 503030\n",
        "There are 413 households in TAZ 503040"
       ]
      },
      {
       "output_type": "stream",
       "stream": "stdout",
       "text": [
        "\n",
        "There are 608 residential units in TAZ 503040\n",
        "There are 1417 households in TAZ 503050\n",
        "There are 1506 residential units in TAZ 503050\n",
        "There are 423 households in TAZ 503060\n",
        "There are 413 residential units in TAZ 503060\n",
        "Warning:  number of households exceeds number of resunits in TAZ 503060\n",
        "There are 572 households in TAZ 503070"
       ]
      },
      {
       "output_type": "stream",
       "stream": "stdout",
       "text": [
        "\n",
        "There are 569 residential units in TAZ 503070\n",
        "Warning:  number of households exceeds number of resunits in TAZ 503070\n",
        "There are 23 households in TAZ 503080\n",
        "There are 7 residential units in TAZ 503080\n",
        "Warning:  number of households exceeds number of resunits in TAZ 503080\n",
        "There are 391 households in TAZ 503090\n",
        "There are 443 residential units in TAZ 503090\n",
        "There are 414 households in TAZ 503100\n",
        "There are 454 residential units in TAZ 503100"
       ]
      },
      {
       "output_type": "stream",
       "stream": "stdout",
       "text": [
        "\n",
        "There are 620 households in TAZ 503110\n",
        "There are 712 residential units in TAZ 503110\n",
        "There are 1 households in TAZ 503120\n",
        "There are 0 residential units in TAZ 503120\n",
        "Warning:  number of households exceeds number of resunits in TAZ 503120\n",
        "There are 940 households in TAZ 503130\n",
        "There are 828 residential units in TAZ 503130\n",
        "Warning:  number of households exceeds number of resunits in TAZ 503130"
       ]
      },
      {
       "output_type": "stream",
       "stream": "stdout",
       "text": [
        "\n",
        "There are 130 households in TAZ 503140\n",
        "There are 135 residential units in TAZ 503140\n",
        "There are 500 households in TAZ 503150\n",
        "There are 511 residential units in TAZ 503150\n",
        "There are 3 households in TAZ 503160\n",
        "There are 0 residential units in TAZ 503160\n",
        "Warning:  number of households exceeds number of resunits in TAZ 503160\n",
        "There are 486 households in TAZ 503180"
       ]
      },
      {
       "output_type": "stream",
       "stream": "stdout",
       "text": [
        "\n",
        "There are 508 residential units in TAZ 503180\n",
        "There are 1283 households in TAZ 503190\n",
        "There are 1449 residential units in TAZ 503190\n",
        "There are 374 households in TAZ 503200\n",
        "There are 485 residential units in TAZ 503200\n",
        "There are 646 households in TAZ 503210\n",
        "There are 657 residential units in TAZ 503210"
       ]
      },
      {
       "output_type": "stream",
       "stream": "stdout",
       "text": [
        "\n",
        "There are 1035 households in TAZ 503220\n",
        "There are 1089 residential units in TAZ 503220\n",
        "There are 849 households in TAZ 503230\n",
        "There are 844 residential units in TAZ 503230\n",
        "Warning:  number of households exceeds number of resunits in TAZ 503230\n",
        "There are 1191 households in TAZ 503240\n",
        "There are 1178 residential units in TAZ 503240\n",
        "Warning:  number of households exceeds number of resunits in TAZ 503240"
       ]
      },
      {
       "output_type": "stream",
       "stream": "stdout",
       "text": [
        "\n",
        "There are 116 households in TAZ 503260\n",
        "There are 0 residential units in TAZ 503260\n",
        "Warning:  number of households exceeds number of resunits in TAZ 503260\n",
        "There are 320 households in TAZ 503280\n",
        "There are 80 residential units in TAZ 503280\n",
        "Warning:  number of households exceeds number of resunits in TAZ 503280\n",
        "There are 1425 households in TAZ 503290\n",
        "There are 1416 residential units in TAZ 503290\n",
        "Warning:  number of households exceeds number of resunits in TAZ 503290\n",
        "There are 8 households in TAZ 503300"
       ]
      },
      {
       "output_type": "stream",
       "stream": "stdout",
       "text": [
        "\n",
        "There are 0 residential units in TAZ 503300\n",
        "Warning:  number of households exceeds number of resunits in TAZ 503300\n",
        "There are 1224 households in TAZ 503310\n",
        "There are 1241 residential units in TAZ 503310\n",
        "There are 14 households in TAZ 503320\n",
        "There are 0 residential units in TAZ 503320\n",
        "Warning:  number of households exceeds number of resunits in TAZ 503320\n",
        "There are 70 households in TAZ 504010\n",
        "There are 55 residential units in TAZ 504010"
       ]
      },
      {
       "output_type": "stream",
       "stream": "stdout",
       "text": [
        "\n",
        "Warning:  number of households exceeds number of resunits in TAZ 504010\n",
        "There are 96 households in TAZ 504020\n",
        "There are 0 residential units in TAZ 504020\n",
        "Warning:  number of households exceeds number of resunits in TAZ 504020\n",
        "There are 27 households in TAZ 504030\n",
        "There are 2 residential units in TAZ 504030\n",
        "Warning:  number of households exceeds number of resunits in TAZ 504030\n",
        "There are 292 households in TAZ 504050\n",
        "There are 3 residential units in TAZ 504050\n",
        "Warning:  number of households exceeds number of resunits in TAZ 504050"
       ]
      },
      {
       "output_type": "stream",
       "stream": "stdout",
       "text": [
        "\n",
        "There are 346 households in TAZ 504060\n",
        "There are 40 residential units in TAZ 504060\n",
        "Warning:  number of households exceeds number of resunits in TAZ 504060\n",
        "There are 117 households in TAZ 504090\n",
        "There are 0 residential units in TAZ 504090\n",
        "Warning:  number of households exceeds number of resunits in TAZ 504090\n",
        "There are 306 households in TAZ 504100\n",
        "There are 0 residential units in TAZ 504100\n",
        "Warning:  number of households exceeds number of resunits in TAZ 504100\n",
        "There are 1090 households in TAZ 504120"
       ]
      },
      {
       "output_type": "stream",
       "stream": "stdout",
       "text": [
        "\n",
        "There are 370 residential units in TAZ 504120\n",
        "Warning:  number of households exceeds number of resunits in TAZ 504120\n",
        "There are 61 households in TAZ 504140\n",
        "There are 1 residential units in TAZ 504140\n",
        "Warning:  number of households exceeds number of resunits in TAZ 504140\n",
        "There are 8 households in TAZ 504150\n",
        "There are 3 residential units in TAZ 504150\n",
        "Warning:  number of households exceeds number of resunits in TAZ 504150\n",
        "There are 38 households in TAZ 504160\n",
        "There are 79 residential units in TAZ 504160"
       ]
      },
      {
       "output_type": "stream",
       "stream": "stdout",
       "text": [
        "\n",
        "There are 636 households in TAZ 504170\n",
        "There are 454 residential units in TAZ 504170\n",
        "Warning:  number of households exceeds number of resunits in TAZ 504170\n",
        "There are 993 households in TAZ 504180\n",
        "There are 981 residential units in TAZ 504180\n",
        "Warning:  number of households exceeds number of resunits in TAZ 504180\n",
        "There are 398 households in TAZ 504190\n",
        "There are 305 residential units in TAZ 504190\n",
        "Warning:  number of households exceeds number of resunits in TAZ 504190"
       ]
      },
      {
       "output_type": "stream",
       "stream": "stdout",
       "text": [
        "\n",
        "There are 1065 households in TAZ 504200\n",
        "There are 561 residential units in TAZ 504200\n",
        "Warning:  number of households exceeds number of resunits in TAZ 504200\n",
        "There are 462 households in TAZ 504210\n",
        "There are 324 residential units in TAZ 504210\n",
        "Warning:  number of households exceeds number of resunits in TAZ 504210\n",
        "There are 113 households in TAZ 504220\n",
        "There are 93 residential units in TAZ 504220\n",
        "Warning:  number of households exceeds number of resunits in TAZ 504220\n",
        "There are 21 households in TAZ 504230"
       ]
      },
      {
       "output_type": "stream",
       "stream": "stdout",
       "text": [
        "\n",
        "There are 13 residential units in TAZ 504230\n",
        "Warning:  number of households exceeds number of resunits in TAZ 504230\n",
        "There are 47 households in TAZ 504260\n",
        "There are 216 residential units in TAZ 504260\n",
        "There are 132 households in TAZ 504270\n",
        "There are 281 residential units in TAZ 504270\n",
        "There are 180 households in TAZ 504280\n",
        "There are 255 residential units in TAZ 504280"
       ]
      },
      {
       "output_type": "stream",
       "stream": "stdout",
       "text": [
        "\n",
        "There are 58 households in TAZ 504290\n",
        "There are 3 residential units in TAZ 504290\n",
        "Warning:  number of households exceeds number of resunits in TAZ 504290\n",
        "There are 146 households in TAZ 504300\n",
        "There are 3 residential units in TAZ 504300\n",
        "Warning:  number of households exceeds number of resunits in TAZ 504300\n",
        "There are 64 households in TAZ 504310\n",
        "There are 8 residential units in TAZ 504310\n",
        "Warning:  number of households exceeds number of resunits in TAZ 504310"
       ]
      },
      {
       "output_type": "stream",
       "stream": "stdout",
       "text": [
        "\n",
        "There are 9 households in TAZ 504320\n",
        "There are 0 residential units in TAZ 504320\n",
        "Warning:  number of households exceeds number of resunits in TAZ 504320\n",
        "There are 31 households in TAZ 504340\n",
        "There are 4 residential units in TAZ 504340\n",
        "Warning:  number of households exceeds number of resunits in TAZ 504340\n",
        "There are 118 households in TAZ 504360\n",
        "There are 18 residential units in TAZ 504360\n",
        "Warning:  number of households exceeds number of resunits in TAZ 504360\n",
        "There are 291 households in TAZ 504370"
       ]
      },
      {
       "output_type": "stream",
       "stream": "stdout",
       "text": [
        "\n",
        "There are 46 residential units in TAZ 504370\n",
        "Warning:  number of households exceeds number of resunits in TAZ 504370\n",
        "There are 359 households in TAZ 504380\n",
        "There are 1 residential units in TAZ 504380\n",
        "Warning:  number of households exceeds number of resunits in TAZ 504380\n",
        "There are 330 households in TAZ 504410\n",
        "There are 1 residential units in TAZ 504410\n",
        "Warning:  number of households exceeds number of resunits in TAZ 504410\n",
        "There are 361 households in TAZ 504420\n",
        "There are 1 residential units in TAZ 504420"
       ]
      },
      {
       "output_type": "stream",
       "stream": "stdout",
       "text": [
        "\n",
        "Warning:  number of households exceeds number of resunits in TAZ 504420\n",
        "There are 410 households in TAZ 504430\n",
        "There are 1 residential units in TAZ 504430\n",
        "Warning:  number of households exceeds number of resunits in TAZ 504430\n",
        "There are 631 households in TAZ 504440\n",
        "There are 583 residential units in TAZ 504440\n",
        "Warning:  number of households exceeds number of resunits in TAZ 504440\n",
        "There are 243 households in TAZ 504450\n",
        "There are 416 residential units in TAZ 504450\n",
        "There are 144 households in TAZ 504460"
       ]
      },
      {
       "output_type": "stream",
       "stream": "stdout",
       "text": [
        "\n",
        "There are 94 residential units in TAZ 504460\n",
        "Warning:  number of households exceeds number of resunits in TAZ 504460\n",
        "There are 5 households in TAZ 504480\n",
        "There are 2 residential units in TAZ 504480\n",
        "Warning:  number of households exceeds number of resunits in TAZ 504480\n",
        "There are 263 households in TAZ 504520\n",
        "There are 1 residential units in TAZ 504520\n",
        "Warning:  number of households exceeds number of resunits in TAZ 504520\n",
        "There are 635 households in TAZ 504530\n",
        "There are 5 residential units in TAZ 504530"
       ]
      },
      {
       "output_type": "stream",
       "stream": "stdout",
       "text": [
        "\n",
        "Warning:  number of households exceeds number of resunits in TAZ 504530\n",
        "There are 1003 households in TAZ 504550\n",
        "There are 4 residential units in TAZ 504550\n",
        "Warning:  number of households exceeds number of resunits in TAZ 504550\n",
        "There are 146 households in TAZ 504560\n",
        "There are 13 residential units in TAZ 504560\n",
        "Warning:  number of households exceeds number of resunits in TAZ 504560\n",
        "There are 276 households in TAZ 504570\n",
        "There are 0 residential units in TAZ 504570\n",
        "Warning:  number of households exceeds number of resunits in TAZ 504570"
       ]
      },
      {
       "output_type": "stream",
       "stream": "stdout",
       "text": [
        "\n",
        "There are 2 households in TAZ 504580\n",
        "There are 1 residential units in TAZ 504580\n",
        "Warning:  number of households exceeds number of resunits in TAZ 504580\n",
        "There are 44 households in TAZ 504620\n",
        "There are 687 residential units in TAZ 504620\n",
        "There are 21 households in TAZ 504630\n",
        "There are 0 residential units in TAZ 504630\n",
        "Warning:  number of households exceeds number of resunits in TAZ 504630\n",
        "There are 26 households in TAZ 504640"
       ]
      },
      {
       "output_type": "stream",
       "stream": "stdout",
       "text": [
        "\n",
        "There are 61 residential units in TAZ 504640\n",
        "There are 285 households in TAZ 504690\n",
        "There are 625 residential units in TAZ 504690\n",
        "There are 13 households in TAZ 504700\n",
        "There are 10 residential units in TAZ 504700\n",
        "Warning:  number of households exceeds number of resunits in TAZ 504700\n",
        "There are 171 households in TAZ 504710\n",
        "There are 390 residential units in TAZ 504710"
       ]
      },
      {
       "output_type": "stream",
       "stream": "stdout",
       "text": [
        "\n",
        "There are 48 households in TAZ 504720\n",
        "There are 218 residential units in TAZ 504720\n",
        "There are 101 households in TAZ 504730\n",
        "There are 72 residential units in TAZ 504730\n",
        "Warning:  number of households exceeds number of resunits in TAZ 504730\n",
        "There are 160 households in TAZ 504740\n",
        "There are 445 residential units in TAZ 504740\n",
        "There are 40 households in TAZ 504750"
       ]
      },
      {
       "output_type": "stream",
       "stream": "stdout",
       "text": [
        "\n",
        "There are 69 residential units in TAZ 504750\n",
        "There are 72 households in TAZ 504760\n",
        "There are 19 residential units in TAZ 504760\n",
        "Warning:  number of households exceeds number of resunits in TAZ 504760\n",
        "There are 58 households in TAZ 504770\n",
        "There are 15 residential units in TAZ 504770\n",
        "Warning:  number of households exceeds number of resunits in TAZ 504770\n",
        "There are 160 households in TAZ 504790\n",
        "There are 21 residential units in TAZ 504790"
       ]
      },
      {
       "output_type": "stream",
       "stream": "stdout",
       "text": [
        "\n",
        "Warning:  number of households exceeds number of resunits in TAZ 504790\n",
        "There are 83 households in TAZ 504800\n",
        "There are 176 residential units in TAZ 504800\n",
        "There are 1036 households in TAZ 505010\n",
        "There are 1224 residential units in TAZ 505010\n",
        "There are 1391 households in TAZ 505020\n",
        "There are 1345 residential units in TAZ 505020\n",
        "Warning:  number of households exceeds number of resunits in TAZ 505020"
       ]
      },
      {
       "output_type": "stream",
       "stream": "stdout",
       "text": [
        "\n",
        "There are 1497 households in TAZ 505030\n",
        "There are 2015 residential units in TAZ 505030\n",
        "There are 318 households in TAZ 505040\n",
        "There are 525 residential units in TAZ 505040\n",
        "There are 676 households in TAZ 505050\n",
        "There are 872 residential units in TAZ 505050\n",
        "There are 548 households in TAZ 505060"
       ]
      },
      {
       "output_type": "stream",
       "stream": "stdout",
       "text": [
        "\n",
        "There are 809 residential units in TAZ 505060\n",
        "There are 540 households in TAZ 505070\n",
        "There are 564 residential units in TAZ 505070\n",
        "There are 730 households in TAZ 505080\n",
        "There are 763 residential units in TAZ 505080\n",
        "There are 628 households in TAZ 505090"
       ]
      },
      {
       "output_type": "stream",
       "stream": "stdout",
       "text": [
        "\n",
        "There are 623 residential units in TAZ 505090\n",
        "Warning:  number of households exceeds number of resunits in TAZ 505090\n",
        "There are 706 households in TAZ 505100\n",
        "There are 738 residential units in TAZ 505100\n",
        "There are 993 households in TAZ 505110\n",
        "There are 1052 residential units in TAZ 505110\n",
        "There are 692 households in TAZ 505120\n",
        "There are 826 residential units in TAZ 505120"
       ]
      },
      {
       "output_type": "stream",
       "stream": "stdout",
       "text": [
        "\n",
        "There are 1442 households in TAZ 505130\n",
        "There are 1619 residential units in TAZ 505130\n",
        "There are 862 households in TAZ 505140\n",
        "There are 865 residential units in TAZ 505140\n",
        "There are 242 households in TAZ 505150\n",
        "There are 1034 residential units in TAZ 505150\n",
        "There are 58 households in TAZ 505160"
       ]
      },
      {
       "output_type": "stream",
       "stream": "stdout",
       "text": [
        "\n",
        "There are 243 residential units in TAZ 505160\n",
        "There are 189 households in TAZ 505210\n",
        "There are 351 residential units in TAZ 505210\n",
        "There are 442 households in TAZ 505220\n",
        "There are 562 residential units in TAZ 505220\n",
        "There are 220 households in TAZ 505230\n",
        "There are 666 residential units in TAZ 505230"
       ]
      },
      {
       "output_type": "stream",
       "stream": "stdout",
       "text": [
        "\n",
        "There are 954 households in TAZ 505240\n",
        "There are 1214 residential units in TAZ 505240\n",
        "There are 1025 households in TAZ 505250\n",
        "There are 1010 residential units in TAZ 505250\n",
        "Warning:  number of households exceeds number of resunits in TAZ 505250\n",
        "There are 1261 households in TAZ 505260\n",
        "There are 1213 residential units in TAZ 505260\n",
        "Warning:  number of households exceeds number of resunits in TAZ 505260"
       ]
      },
      {
       "output_type": "stream",
       "stream": "stdout",
       "text": [
        "\n",
        "There are 1634 households in TAZ 505270\n",
        "There are 1666 residential units in TAZ 505270\n",
        "There are 1280 households in TAZ 505280\n",
        "There are 1314 residential units in TAZ 505280\n",
        "There are 498 households in TAZ 505290\n",
        "There are 514 residential units in TAZ 505290\n",
        "There are 963 households in TAZ 505300"
       ]
      },
      {
       "output_type": "stream",
       "stream": "stdout",
       "text": [
        "\n",
        "There are 878 residential units in TAZ 505300\n",
        "Warning:  number of households exceeds number of resunits in TAZ 505300\n",
        "There are 794 households in TAZ 506020\n",
        "There are 807 residential units in TAZ 506020\n",
        "There are 140 households in TAZ 506030\n",
        "There are 0 residential units in TAZ 506030\n",
        "Warning:  number of households exceeds number of resunits in TAZ 506030\n",
        "There are 1256 households in TAZ 506040\n",
        "There are 1269 residential units in TAZ 506040"
       ]
      },
      {
       "output_type": "stream",
       "stream": "stdout",
       "text": [
        "\n",
        "There are 1097 households in TAZ 506050\n",
        "There are 1113 residential units in TAZ 506050\n",
        "There are 781 households in TAZ 506060\n",
        "There are 789 residential units in TAZ 506060\n",
        "There are 1444 households in TAZ 506070\n",
        "There are 1478 residential units in TAZ 506070"
       ]
      },
      {
       "output_type": "stream",
       "stream": "stdout",
       "text": [
        "\n",
        "There are 299 households in TAZ 506080\n",
        "There are 305 residential units in TAZ 506080\n",
        "There are 605 households in TAZ 506090\n",
        "There are 620 residential units in TAZ 506090\n",
        "There are 1156 households in TAZ 506100\n",
        "There are 1173 residential units in TAZ 506100"
       ]
      },
      {
       "output_type": "stream",
       "stream": "stdout",
       "text": [
        "\n",
        "There are 526 households in TAZ 506110\n",
        "There are 536 residential units in TAZ 506110\n",
        "There are 116 households in TAZ 506120\n",
        "There are 283 residential units in TAZ 506120\n",
        "There are 156 households in TAZ 506140\n",
        "There are 130 residential units in TAZ 506140"
       ]
      },
      {
       "output_type": "stream",
       "stream": "stdout",
       "text": [
        "\n",
        "Warning:  number of households exceeds number of resunits in TAZ 506140\n",
        "There are 713 households in TAZ 506150\n",
        "There are 727 residential units in TAZ 506150\n",
        "There are 969 households in TAZ 506160\n",
        "There are 992 residential units in TAZ 506160\n",
        "There are 786 households in TAZ 506170\n",
        "There are 778 residential units in TAZ 506170\n",
        "Warning:  number of households exceeds number of resunits in TAZ 506170"
       ]
      },
      {
       "output_type": "stream",
       "stream": "stdout",
       "text": [
        "\n",
        "There are 1076 households in TAZ 506180\n",
        "There are 1015 residential units in TAZ 506180\n",
        "Warning:  number of households exceeds number of resunits in TAZ 506180\n",
        "There are 670 households in TAZ 506190\n",
        "There are 850 residential units in TAZ 506190\n",
        "There are 2213 households in TAZ 506200\n",
        "There are 2435 residential units in TAZ 506200\n",
        "There are 65 households in TAZ 506220"
       ]
      },
      {
       "output_type": "stream",
       "stream": "stdout",
       "text": [
        "\n",
        "There are 93 residential units in TAZ 506220\n",
        "There are 901 households in TAZ 506230\n",
        "There are 960 residential units in TAZ 506230\n",
        "There are 1728 households in TAZ 506240\n",
        "There are 1765 residential units in TAZ 506240\n",
        "There are 797 households in TAZ 506250"
       ]
      },
      {
       "output_type": "stream",
       "stream": "stdout",
       "text": [
        "\n",
        "There are 802 residential units in TAZ 506250\n",
        "There are 721 households in TAZ 506260\n",
        "There are 777 residential units in TAZ 506260\n",
        "There are 1061 households in TAZ 506270\n",
        "There are 1344 residential units in TAZ 506270\n",
        "There are 880 households in TAZ 507010"
       ]
      },
      {
       "output_type": "stream",
       "stream": "stdout",
       "text": [
        "\n",
        "There are 947 residential units in TAZ 507010\n",
        "There are 510 households in TAZ 507020\n",
        "There are 532 residential units in TAZ 507020\n",
        "There are 455 households in TAZ 507030\n",
        "There are 464 residential units in TAZ 507030\n",
        "There are 903 households in TAZ 507040\n",
        "There are 918 residential units in TAZ 507040"
       ]
      },
      {
       "output_type": "stream",
       "stream": "stdout",
       "text": [
        "\n",
        "There are 239 households in TAZ 507050\n",
        "There are 267 residential units in TAZ 507050\n",
        "There are 826 households in TAZ 507060\n",
        "There are 911 residential units in TAZ 507060\n",
        "There are 840 households in TAZ 507070\n",
        "There are 851 residential units in TAZ 507070\n",
        "There are 921 households in TAZ 507080"
       ]
      },
      {
       "output_type": "stream",
       "stream": "stdout",
       "text": [
        "\n",
        "There are 955 residential units in TAZ 507080\n",
        "There are 370 households in TAZ 507100\n",
        "There are 393 residential units in TAZ 507100\n",
        "There are 428 households in TAZ 507110\n",
        "There are 452 residential units in TAZ 507110\n",
        "There are 874 households in TAZ 507120\n",
        "There are 892 residential units in TAZ 507120"
       ]
      },
      {
       "output_type": "stream",
       "stream": "stdout",
       "text": [
        "\n",
        "There are 209 households in TAZ 507130\n",
        "There are 332 residential units in TAZ 507130\n",
        "There are 4 households in TAZ 507140\n",
        "There are 242 residential units in TAZ 507140\n",
        "There are 963 households in TAZ 507150\n",
        "There are 974 residential units in TAZ 507150\n",
        "There are 434 households in TAZ 507160"
       ]
      },
      {
       "output_type": "stream",
       "stream": "stdout",
       "text": [
        "\n",
        "There are 456 residential units in TAZ 507160\n",
        "There are 687 households in TAZ 507170\n",
        "There are 748 residential units in TAZ 507170\n",
        "There are 482 households in TAZ 507180\n",
        "There are 409 residential units in TAZ 507180\n",
        "Warning:  number of households exceeds number of resunits in TAZ 507180\n",
        "There are 1034 households in TAZ 507190"
       ]
      },
      {
       "output_type": "stream",
       "stream": "stdout",
       "text": [
        "\n",
        "There are 1082 residential units in TAZ 507190\n",
        "There are 1094 households in TAZ 507200\n",
        "There are 1209 residential units in TAZ 507200\n",
        "There are 649 households in TAZ 507210\n",
        "There are 774 residential units in TAZ 507210\n",
        "There are 1608 households in TAZ 507220\n",
        "There are 1660 residential units in TAZ 507220"
       ]
      },
      {
       "output_type": "stream",
       "stream": "stdout",
       "text": [
        "\n",
        "There are 687 households in TAZ 507230\n",
        "There are 723 residential units in TAZ 507230\n",
        "There are 215 households in TAZ 507240\n",
        "There are 182 residential units in TAZ 507240\n",
        "Warning:  number of households exceeds number of resunits in TAZ 507240\n",
        "There are 33 households in TAZ 507250\n",
        "There are 0 residential units in TAZ 507250\n",
        "Warning:  number of households exceeds number of resunits in TAZ 507250"
       ]
      },
      {
       "output_type": "stream",
       "stream": "stdout",
       "text": [
        "\n",
        "There are 760 households in TAZ 507260\n",
        "There are 790 residential units in TAZ 507260\n",
        "There are 997 households in TAZ 507270\n",
        "There are 877 residential units in TAZ 507270\n",
        "Warning:  number of households exceeds number of resunits in TAZ 507270\n",
        "There are 506 households in TAZ 507280\n",
        "There are 527 residential units in TAZ 507280\n",
        "There are 182 households in TAZ 508010"
       ]
      },
      {
       "output_type": "stream",
       "stream": "stdout",
       "text": [
        "\n",
        "There are 177 residential units in TAZ 508010\n",
        "Warning:  number of households exceeds number of resunits in TAZ 508010\n",
        "There are 409 households in TAZ 508020\n",
        "There are 395 residential units in TAZ 508020\n",
        "Warning:  number of households exceeds number of resunits in TAZ 508020\n",
        "There are 431 households in TAZ 508030\n",
        "There are 411 residential units in TAZ 508030\n",
        "Warning:  number of households exceeds number of resunits in TAZ 508030\n",
        "There are 94 households in TAZ 508040\n",
        "There are 85 residential units in TAZ 508040"
       ]
      },
      {
       "output_type": "stream",
       "stream": "stdout",
       "text": [
        "\n",
        "Warning:  number of households exceeds number of resunits in TAZ 508040\n",
        "There are 202 households in TAZ 508050\n",
        "There are 428 residential units in TAZ 508050\n",
        "There are 73 households in TAZ 508060\n",
        "There are 62 residential units in TAZ 508060\n",
        "Warning:  number of households exceeds number of resunits in TAZ 508060\n",
        "There are 793 households in TAZ 508070\n",
        "There are 635 residential units in TAZ 508070\n",
        "Warning:  number of households exceeds number of resunits in TAZ 508070"
       ]
      },
      {
       "output_type": "stream",
       "stream": "stdout",
       "text": [
        "\n",
        "There are 1207 households in TAZ 508080\n",
        "There are 1223 residential units in TAZ 508080\n",
        "There are 349 households in TAZ 508090\n",
        "There are 302 residential units in TAZ 508090\n",
        "Warning:  number of households exceeds number of resunits in TAZ 508090\n",
        "There are 1296 households in TAZ 508100\n",
        "There are 1401 residential units in TAZ 508100\n",
        "There are 1183 households in TAZ 508110"
       ]
      },
      {
       "output_type": "stream",
       "stream": "stdout",
       "text": [
        "\n",
        "There are 1084 residential units in TAZ 508110\n",
        "Warning:  number of households exceeds number of resunits in TAZ 508110\n",
        "There are 746 households in TAZ 508120\n",
        "There are 1034 residential units in TAZ 508120\n",
        "There are 340 households in TAZ 508130\n",
        "There are 216 residential units in TAZ 508130\n",
        "Warning:  number of households exceeds number of resunits in TAZ 508130\n",
        "There are 381 households in TAZ 508140\n",
        "There are 329 residential units in TAZ 508140"
       ]
      },
      {
       "output_type": "stream",
       "stream": "stdout",
       "text": [
        "\n",
        "Warning:  number of households exceeds number of resunits in TAZ 508140\n",
        "There are 37 households in TAZ 508150\n",
        "There are 0 residential units in TAZ 508150\n",
        "Warning:  number of households exceeds number of resunits in TAZ 508150\n",
        "There are 489 households in TAZ 508160\n",
        "There are 647 residential units in TAZ 508160\n",
        "There are 738 households in TAZ 508170\n",
        "There are 850 residential units in TAZ 508170\n",
        "There are 620 households in TAZ 508180"
       ]
      },
      {
       "output_type": "stream",
       "stream": "stdout",
       "text": [
        "\n",
        "There are 611 residential units in TAZ 508180\n",
        "Warning:  number of households exceeds number of resunits in TAZ 508180\n",
        "There are 584 households in TAZ 508190\n",
        "There are 524 residential units in TAZ 508190\n",
        "Warning:  number of households exceeds number of resunits in TAZ 508190\n",
        "There are 785 households in TAZ 508200\n",
        "There are 798 residential units in TAZ 508200\n",
        "There are 138 households in TAZ 508210"
       ]
      },
      {
       "output_type": "stream",
       "stream": "stdout",
       "text": [
        "\n",
        "There are 72 residential units in TAZ 508210\n",
        "Warning:  number of households exceeds number of resunits in TAZ 508210\n",
        "There are 40 households in TAZ 508220\n",
        "There are 0 residential units in TAZ 508220\n",
        "Warning:  number of households exceeds number of resunits in TAZ 508220\n",
        "There are 364 households in TAZ 508230\n",
        "There are 151 residential units in TAZ 508230\n",
        "Warning:  number of households exceeds number of resunits in TAZ 508230\n",
        "There are 777 households in TAZ 508240\n",
        "There are 884 residential units in TAZ 508240"
       ]
      },
      {
       "output_type": "stream",
       "stream": "stdout",
       "text": [
        "\n",
        "There are 553 households in TAZ 508250\n",
        "There are 631 residential units in TAZ 508250\n",
        "There are 210 households in TAZ 508260\n",
        "There are 201 residential units in TAZ 508260\n",
        "Warning:  number of households exceeds number of resunits in TAZ 508260\n",
        "There are 37 households in TAZ 508270\n",
        "There are 27 residential units in TAZ 508270\n",
        "Warning:  number of households exceeds number of resunits in TAZ 508270"
       ]
      },
      {
       "output_type": "stream",
       "stream": "stdout",
       "text": [
        "\n",
        "There are 401 households in TAZ 508280\n",
        "There are 380 residential units in TAZ 508280\n",
        "Warning:  number of households exceeds number of resunits in TAZ 508280\n",
        "There are 825 households in TAZ 508290\n",
        "There are 844 residential units in TAZ 508290\n",
        "There are 572 households in TAZ 508300\n",
        "There are 564 residential units in TAZ 508300\n",
        "Warning:  number of households exceeds number of resunits in TAZ 508300\n",
        "There are 603 households in TAZ 508310"
       ]
      },
      {
       "output_type": "stream",
       "stream": "stdout",
       "text": [
        "\n",
        "There are 622 residential units in TAZ 508310\n",
        "There are 973 households in TAZ 508320\n",
        "There are 997 residential units in TAZ 508320\n",
        "There are 298 households in TAZ 508330\n",
        "There are 302 residential units in TAZ 508330\n",
        "There are 10 households in TAZ 508340\n",
        "There are 4 residential units in TAZ 508340"
       ]
      },
      {
       "output_type": "stream",
       "stream": "stdout",
       "text": [
        "\n",
        "Warning:  number of households exceeds number of resunits in TAZ 508340\n",
        "There are 717 households in TAZ 508350\n",
        "There are 697 residential units in TAZ 508350\n",
        "Warning:  number of households exceeds number of resunits in TAZ 508350\n",
        "There are 727 households in TAZ 509010\n",
        "There are 725 residential units in TAZ 509010\n",
        "Warning:  number of households exceeds number of resunits in TAZ 509010\n",
        "There are 379 households in TAZ 509020\n",
        "There are 376 residential units in TAZ 509020\n",
        "Warning:  number of households exceeds number of resunits in TAZ 509020"
       ]
      },
      {
       "output_type": "stream",
       "stream": "stdout",
       "text": [
        "\n",
        "There are 719 households in TAZ 509030\n",
        "There are 743 residential units in TAZ 509030\n",
        "There are 1695 households in TAZ 509040\n",
        "There are 1671 residential units in TAZ 509040\n",
        "Warning:  number of households exceeds number of resunits in TAZ 509040\n",
        "There are 37 households in TAZ 509050\n",
        "There are 351 residential units in TAZ 509050\n",
        "There are 401 households in TAZ 509060"
       ]
      },
      {
       "output_type": "stream",
       "stream": "stdout",
       "text": [
        "\n",
        "There are 238 residential units in TAZ 509060\n",
        "Warning:  number of households exceeds number of resunits in TAZ 509060\n",
        "There are 436 households in TAZ 509070\n",
        "There are 456 residential units in TAZ 509070\n",
        "There are 965 households in TAZ 509080\n",
        "There are 1038 residential units in TAZ 509080\n",
        "There are 696 households in TAZ 509090\n",
        "There are 718 residential units in TAZ 509090"
       ]
      },
      {
       "output_type": "stream",
       "stream": "stdout",
       "text": [
        "\n",
        "There are 482 households in TAZ 509100\n",
        "There are 681 residential units in TAZ 509100\n",
        "There are 374 households in TAZ 509110\n",
        "There are 399 residential units in TAZ 509110\n",
        "There are 689 households in TAZ 509120\n",
        "There are 639 residential units in TAZ 509120"
       ]
      },
      {
       "output_type": "stream",
       "stream": "stdout",
       "text": [
        "\n",
        "Warning:  number of households exceeds number of resunits in TAZ 509120\n",
        "There are 1224 households in TAZ 509130\n",
        "There are 1348 residential units in TAZ 509130\n",
        "There are 985 households in TAZ 509140\n",
        "There are 1044 residential units in TAZ 509140\n",
        "There are 267 households in TAZ 509150\n",
        "There are 270 residential units in TAZ 509150"
       ]
      },
      {
       "output_type": "stream",
       "stream": "stdout",
       "text": [
        "\n",
        "There are 2 households in TAZ 509160\n",
        "There are 0 residential units in TAZ 509160\n",
        "Warning:  number of households exceeds number of resunits in TAZ 509160\n",
        "There are 66 households in TAZ 509170\n",
        "There are 104 residential units in TAZ 509170\n",
        "There are 412 households in TAZ 509180\n",
        "There are 543 residential units in TAZ 509180\n",
        "There are 774 households in TAZ 509190"
       ]
      },
      {
       "output_type": "stream",
       "stream": "stdout",
       "text": [
        "\n",
        "There are 809 residential units in TAZ 509190\n",
        "There are 231 households in TAZ 509200\n",
        "There are 237 residential units in TAZ 509200\n",
        "There are 129 households in TAZ 509210\n",
        "There are 148 residential units in TAZ 509210\n",
        "There are 363 households in TAZ 509220"
       ]
      },
      {
       "output_type": "stream",
       "stream": "stdout",
       "text": [
        "\n",
        "There are 362 residential units in TAZ 509220\n",
        "Warning:  number of households exceeds number of resunits in TAZ 509220\n",
        "There are 1107 households in TAZ 509230\n",
        "There are 1091 residential units in TAZ 509230\n",
        "Warning:  number of households exceeds number of resunits in TAZ 509230\n",
        "There are 607 households in TAZ 509240\n",
        "There are 527 residential units in TAZ 509240\n",
        "Warning:  number of households exceeds number of resunits in TAZ 509240\n",
        "There are 745 households in TAZ 509250"
       ]
      },
      {
       "output_type": "stream",
       "stream": "stdout",
       "text": [
        "\n",
        "There are 762 residential units in TAZ 509250\n",
        "There are 487 households in TAZ 509260\n",
        "There are 495 residential units in TAZ 509260\n",
        "There are 321 households in TAZ 509270\n",
        "There are 327 residential units in TAZ 509270\n",
        "There are 1245 households in TAZ 509280\n",
        "There are 1305 residential units in TAZ 509280"
       ]
      },
      {
       "output_type": "stream",
       "stream": "stdout",
       "text": [
        "\n",
        "There are 92 households in TAZ 509300\n",
        "There are 0 residential units in TAZ 509300\n",
        "Warning:  number of households exceeds number of resunits in TAZ 509300\n",
        "There are 254 households in TAZ 509310\n",
        "There are 388 residential units in TAZ 509310\n",
        "There are 1013 households in TAZ 509320\n",
        "There are 1069 residential units in TAZ 509320\n",
        "There are 14 households in TAZ 509330"
       ]
      },
      {
       "output_type": "stream",
       "stream": "stdout",
       "text": [
        "\n",
        "There are 3 residential units in TAZ 509330\n",
        "Warning:  number of households exceeds number of resunits in TAZ 509330\n",
        "There are 297 households in TAZ 509340\n",
        "There are 237 residential units in TAZ 509340\n",
        "Warning:  number of households exceeds number of resunits in TAZ 509340\n",
        "There are 427 households in TAZ 509350\n",
        "There are 571 residential units in TAZ 509350\n",
        "There are 194 households in TAZ 510010\n",
        "There are 192 residential units in TAZ 510010"
       ]
      },
      {
       "output_type": "stream",
       "stream": "stdout",
       "text": [
        "\n",
        "Warning:  number of households exceeds number of resunits in TAZ 510010\n",
        "There are 356 households in TAZ 510020\n",
        "There are 375 residential units in TAZ 510020\n",
        "There are 569 households in TAZ 510030\n",
        "There are 566 residential units in TAZ 510030\n",
        "Warning:  number of households exceeds number of resunits in TAZ 510030\n",
        "There are 196 households in TAZ 510040\n",
        "There are 179 residential units in TAZ 510040\n",
        "Warning:  number of households exceeds number of resunits in TAZ 510040"
       ]
      },
      {
       "output_type": "stream",
       "stream": "stdout",
       "text": [
        "\n",
        "There are 420 households in TAZ 510050\n",
        "There are 446 residential units in TAZ 510050\n",
        "There are 445 households in TAZ 510060\n",
        "There are 438 residential units in TAZ 510060\n",
        "Warning:  number of households exceeds number of resunits in TAZ 510060\n",
        "There are 588 households in TAZ 510070\n",
        "There are 627 residential units in TAZ 510070\n",
        "There are 328 households in TAZ 510080"
       ]
      },
      {
       "output_type": "stream",
       "stream": "stdout",
       "text": [
        "\n",
        "There are 344 residential units in TAZ 510080\n",
        "There are 530 households in TAZ 510090\n",
        "There are 556 residential units in TAZ 510090\n",
        "There are 187 households in TAZ 510100\n",
        "There are 180 residential units in TAZ 510100\n",
        "Warning:  number of households exceeds number of resunits in TAZ 510100\n",
        "There are 452 households in TAZ 510110\n",
        "There are 517 residential units in TAZ 510110"
       ]
      },
      {
       "output_type": "stream",
       "stream": "stdout",
       "text": [
        "\n",
        "There are 984 households in TAZ 510120\n",
        "There are 1216 residential units in TAZ 510120\n",
        "There are 739 households in TAZ 510130\n",
        "There are 791 residential units in TAZ 510130\n",
        "There are 1263 households in TAZ 510140\n",
        "There are 1299 residential units in TAZ 510140\n",
        "There are 446 households in TAZ 510150"
       ]
      },
      {
       "output_type": "stream",
       "stream": "stdout",
       "text": [
        "\n",
        "There are 471 residential units in TAZ 510150\n",
        "There are 794 households in TAZ 510160\n",
        "There are 802 residential units in TAZ 510160\n",
        "There are 708 households in TAZ 510170\n",
        "There are 692 residential units in TAZ 510170\n",
        "Warning:  number of households exceeds number of resunits in TAZ 510170\n",
        "There are 1183 households in TAZ 510180"
       ]
      },
      {
       "output_type": "stream",
       "stream": "stdout",
       "text": [
        "\n",
        "There are 1224 residential units in TAZ 510180\n",
        "There are 843 households in TAZ 510190\n",
        "There are 820 residential units in TAZ 510190\n",
        "Warning:  number of households exceeds number of resunits in TAZ 510190\n",
        "There are 3 households in TAZ 510200\n",
        "There are 202 residential units in TAZ 510200\n",
        "There are 587 households in TAZ 510210\n",
        "There are 604 residential units in TAZ 510210"
       ]
      },
      {
       "output_type": "stream",
       "stream": "stdout",
       "text": [
        "\n",
        "There are 650 households in TAZ 510220\n",
        "There are 644 residential units in TAZ 510220\n",
        "Warning:  number of households exceeds number of resunits in TAZ 510220\n",
        "There are 1184 households in TAZ 510230\n",
        "There are 1287 residential units in TAZ 510230\n",
        "There are 1192 households in TAZ 510240\n",
        "There are 1311 residential units in TAZ 510240\n",
        "There are 1048 households in TAZ 510250"
       ]
      },
      {
       "output_type": "stream",
       "stream": "stdout",
       "text": [
        "\n",
        "There are 983 residential units in TAZ 510250\n",
        "Warning:  number of households exceeds number of resunits in TAZ 510250\n",
        "There are 612 households in TAZ 510260\n",
        "There are 618 residential units in TAZ 510260\n",
        "There are 176 households in TAZ 510270\n",
        "There are 204 residential units in TAZ 510270\n",
        "There are 923 households in TAZ 510280\n",
        "There are 847 residential units in TAZ 510280"
       ]
      },
      {
       "output_type": "stream",
       "stream": "stdout",
       "text": [
        "\n",
        "Warning:  number of households exceeds number of resunits in TAZ 510280\n",
        "There are 1366 households in TAZ 510290\n",
        "There are 1351 residential units in TAZ 510290\n",
        "Warning:  number of households exceeds number of resunits in TAZ 510290\n",
        "There are 562 households in TAZ 510300\n",
        "There are 544 residential units in TAZ 510300\n",
        "Warning:  number of households exceeds number of resunits in TAZ 510300\n",
        "There are 677 households in TAZ 510310\n",
        "There are 673 residential units in TAZ 510310"
       ]
      },
      {
       "output_type": "stream",
       "stream": "stdout",
       "text": [
        "\n",
        "Warning:  number of households exceeds number of resunits in TAZ 510310\n",
        "There are 800 households in TAZ 510320\n",
        "There are 834 residential units in TAZ 510320\n",
        "There are 159 households in TAZ 510330\n",
        "There are 164 residential units in TAZ 510330\n",
        "There are 175 households in TAZ 510340\n",
        "There are 178 residential units in TAZ 510340\n",
        "There are 216 households in TAZ 511010"
       ]
      },
      {
       "output_type": "stream",
       "stream": "stdout",
       "text": [
        "\n",
        "There are 228 residential units in TAZ 511010\n",
        "There are 127 households in TAZ 511020\n",
        "There are 131 residential units in TAZ 511020\n",
        "There are 62 households in TAZ 511030\n",
        "There are 271 residential units in TAZ 511030\n",
        "There are 58 households in TAZ 511040\n",
        "There are 1 residential units in TAZ 511040"
       ]
      },
      {
       "output_type": "stream",
       "stream": "stdout",
       "text": [
        "\n",
        "Warning:  number of households exceeds number of resunits in TAZ 511040\n",
        "There are 11 households in TAZ 511060\n",
        "There are 0 residential units in TAZ 511060\n",
        "Warning:  number of households exceeds number of resunits in TAZ 511060\n",
        "There are 357 households in TAZ 511090\n",
        "There are 314 residential units in TAZ 511090\n",
        "Warning:  number of households exceeds number of resunits in TAZ 511090\n",
        "There are 364 households in TAZ 511100\n",
        "There are 365 residential units in TAZ 511100\n",
        "There are 318 households in TAZ 511110"
       ]
      },
      {
       "output_type": "stream",
       "stream": "stdout",
       "text": [
        "\n",
        "There are 321 residential units in TAZ 511110\n",
        "There are 510 households in TAZ 511120\n",
        "There are 446 residential units in TAZ 511120\n",
        "Warning:  number of households exceeds number of resunits in TAZ 511120\n",
        "There are 442 households in TAZ 511130\n",
        "There are 458 residential units in TAZ 511130\n",
        "There are 8 households in TAZ 511140\n",
        "There are 0 residential units in TAZ 511140"
       ]
      },
      {
       "output_type": "stream",
       "stream": "stdout",
       "text": [
        "\n",
        "Warning:  number of households exceeds number of resunits in TAZ 511140\n",
        "There are 301 households in TAZ 511190\n",
        "There are 291 residential units in TAZ 511190\n",
        "Warning:  number of households exceeds number of resunits in TAZ 511190\n",
        "There are 1046 households in TAZ 511200\n",
        "There are 994 residential units in TAZ 511200\n",
        "Warning:  number of households exceeds number of resunits in TAZ 511200\n",
        "There are 397 households in TAZ 511210\n",
        "There are 356 residential units in TAZ 511210\n",
        "Warning:  number of households exceeds number of resunits in TAZ 511210"
       ]
      },
      {
       "output_type": "stream",
       "stream": "stdout",
       "text": [
        "\n",
        "There are 915 households in TAZ 511250\n",
        "There are 816 residential units in TAZ 511250\n",
        "Warning:  number of households exceeds number of resunits in TAZ 511250\n",
        "There are 697 households in TAZ 511260\n",
        "There are 696 residential units in TAZ 511260\n",
        "Warning:  number of households exceeds number of resunits in TAZ 511260\n",
        "There are 849 households in TAZ 511270\n",
        "There are 754 residential units in TAZ 511270\n",
        "Warning:  number of households exceeds number of resunits in TAZ 511270"
       ]
      },
      {
       "output_type": "stream",
       "stream": "stdout",
       "text": [
        "\n",
        "There are 342 households in TAZ 511280\n",
        "There are 314 residential units in TAZ 511280\n",
        "Warning:  number of households exceeds number of resunits in TAZ 511280\n",
        "There are 537 households in TAZ 511290\n",
        "There are 537 residential units in TAZ 511290\n",
        "There are 474 households in TAZ 511300\n",
        "There are 477 residential units in TAZ 511300\n",
        "There are 1172 households in TAZ 511310"
       ]
      },
      {
       "output_type": "stream",
       "stream": "stdout",
       "text": [
        "\n",
        "There are 1032 residential units in TAZ 511310\n",
        "Warning:  number of households exceeds number of resunits in TAZ 511310\n",
        "There are 7 households in TAZ 511330\n",
        "There are 1 residential units in TAZ 511330\n",
        "Warning:  number of households exceeds number of resunits in TAZ 511330\n",
        "There are 797 households in TAZ 511380\n",
        "There are 738 residential units in TAZ 511380\n",
        "Warning:  number of households exceeds number of resunits in TAZ 511380\n",
        "There are 536 households in TAZ 511390\n",
        "There are 529 residential units in TAZ 511390"
       ]
      },
      {
       "output_type": "stream",
       "stream": "stdout",
       "text": [
        "\n",
        "Warning:  number of households exceeds number of resunits in TAZ 511390\n",
        "There are 459 households in TAZ 511400\n",
        "There are 433 residential units in TAZ 511400\n",
        "Warning:  number of households exceeds number of resunits in TAZ 511400\n",
        "There are 37 households in TAZ 512020\n",
        "There are 0 residential units in TAZ 512020\n",
        "Warning:  number of households exceeds number of resunits in TAZ 512020\n",
        "There are 618 households in TAZ 512030\n",
        "There are 388 residential units in TAZ 512030\n",
        "Warning:  number of households exceeds number of resunits in TAZ 512030"
       ]
      },
      {
       "output_type": "stream",
       "stream": "stdout",
       "text": [
        "\n",
        "There are 215 households in TAZ 512040\n",
        "There are 210 residential units in TAZ 512040\n",
        "Warning:  number of households exceeds number of resunits in TAZ 512040\n",
        "There are 339 households in TAZ 512050\n",
        "There are 360 residential units in TAZ 512050\n",
        "There are 386 households in TAZ 512060\n",
        "There are 506 residential units in TAZ 512060\n",
        "There are 23 households in TAZ 512070"
       ]
      },
      {
       "output_type": "stream",
       "stream": "stdout",
       "text": [
        "\n",
        "There are 96 residential units in TAZ 512070\n",
        "There are 308 households in TAZ 512080\n",
        "There are 650 residential units in TAZ 512080\n",
        "There are 16 households in TAZ 512090\n",
        "There are 43 residential units in TAZ 512090\n",
        "There are 250 households in TAZ 512120\n",
        "There are 263 residential units in TAZ 512120"
       ]
      },
      {
       "output_type": "stream",
       "stream": "stdout",
       "text": [
        "\n",
        "There are 475 households in TAZ 512130\n",
        "There are 510 residential units in TAZ 512130\n",
        "There are 1477 households in TAZ 512140\n",
        "There are 1339 residential units in TAZ 512140\n",
        "Warning:  number of households exceeds number of resunits in TAZ 512140\n",
        "There are 211 households in TAZ 512150\n",
        "There are 168 residential units in TAZ 512150"
       ]
      },
      {
       "output_type": "stream",
       "stream": "stdout",
       "text": [
        "\n",
        "Warning:  number of households exceeds number of resunits in TAZ 512150\n",
        "There are 293 households in TAZ 512160\n",
        "There are 540 residential units in TAZ 512160\n",
        "There are 291 households in TAZ 512170\n",
        "There are 292 residential units in TAZ 512170\n",
        "There are 83 households in TAZ 512180\n",
        "There are 0 residential units in TAZ 512180\n",
        "Warning:  number of households exceeds number of resunits in TAZ 512180"
       ]
      },
      {
       "output_type": "stream",
       "stream": "stdout",
       "text": [
        "\n",
        "There are 2 households in TAZ 512190\n",
        "There are 0 residential units in TAZ 512190\n",
        "Warning:  number of households exceeds number of resunits in TAZ 512190\n",
        "There are 4 households in TAZ 512210\n",
        "There are 0 residential units in TAZ 512210\n",
        "Warning:  number of households exceeds number of resunits in TAZ 512210\n",
        "There are 29 households in TAZ 512220\n",
        "There are 0 residential units in TAZ 512220\n",
        "Warning:  number of households exceeds number of resunits in TAZ 512220\n",
        "There are 244 households in TAZ 513010"
       ]
      },
      {
       "output_type": "stream",
       "stream": "stdout",
       "text": [
        "\n",
        "There are 190 residential units in TAZ 513010\n",
        "Warning:  number of households exceeds number of resunits in TAZ 513010\n",
        "There are 579 households in TAZ 513020\n",
        "There are 673 residential units in TAZ 513020\n",
        "There are 127 households in TAZ 513030\n",
        "There are 71 residential units in TAZ 513030\n",
        "Warning:  number of households exceeds number of resunits in TAZ 513030\n",
        "There are 363 households in TAZ 513040\n",
        "There are 264 residential units in TAZ 513040"
       ]
      },
      {
       "output_type": "stream",
       "stream": "stdout",
       "text": [
        "\n",
        "Warning:  number of households exceeds number of resunits in TAZ 513040\n",
        "There are 690 households in TAZ 513050\n",
        "There are 724 residential units in TAZ 513050\n",
        "There are 1078 households in TAZ 513060\n",
        "There are 1113 residential units in TAZ 513060\n",
        "There are 74 households in TAZ 513080\n",
        "There are 95 residential units in TAZ 513080\n",
        "There are 149 households in TAZ 513090"
       ]
      },
      {
       "output_type": "stream",
       "stream": "stdout",
       "text": [
        "\n",
        "There are 425 residential units in TAZ 513090\n",
        "There are 2 households in TAZ 513100\n",
        "There are 0 residential units in TAZ 513100\n",
        "Warning:  number of households exceeds number of resunits in TAZ 513100\n",
        "There are 691 households in TAZ 513110\n",
        "There are 1096 residential units in TAZ 513110\n",
        "There are 362 households in TAZ 513120\n",
        "There are 312 residential units in TAZ 513120"
       ]
      },
      {
       "output_type": "stream",
       "stream": "stdout",
       "text": [
        "\n",
        "Warning:  number of households exceeds number of resunits in TAZ 513120\n",
        "There are 1 households in TAZ 513140\n",
        "There are 0 residential units in TAZ 513140\n",
        "Warning:  number of households exceeds number of resunits in TAZ 513140\n",
        "There are 7 households in TAZ 513160\n",
        "There are 0 residential units in TAZ 513160\n",
        "Warning:  number of households exceeds number of resunits in TAZ 513160\n",
        "There are 407 households in TAZ 513170\n",
        "There are 638 residential units in TAZ 513170\n",
        "There are 642 households in TAZ 513180"
       ]
      },
      {
       "output_type": "stream",
       "stream": "stdout",
       "text": [
        "\n",
        "There are 928 residential units in TAZ 513180\n",
        "There are 51 households in TAZ 513190\n",
        "There are 0 residential units in TAZ 513190\n",
        "Warning:  number of households exceeds number of resunits in TAZ 513190\n",
        "There are 78 households in TAZ 513200\n",
        "There are 1 residential units in TAZ 513200\n",
        "Warning:  number of households exceeds number of resunits in TAZ 513200\n",
        "There are 2 households in TAZ 513210\n",
        "There are 598 residential units in TAZ 513210"
       ]
      },
      {
       "output_type": "stream",
       "stream": "stdout",
       "text": [
        "\n",
        "There are 94 households in TAZ 513250\n",
        "There are 0 residential units in TAZ 513250\n",
        "Warning:  number of households exceeds number of resunits in TAZ 513250\n",
        "There are 510 households in TAZ 513260\n",
        "There are 841 residential units in TAZ 513260\n",
        "There are 427 households in TAZ 514010\n",
        "There are 448 residential units in TAZ 514010"
       ]
      },
      {
       "output_type": "stream",
       "stream": "stdout",
       "text": [
        "\n",
        "There are 2668 households in TAZ 514020\n",
        "There are 2653 residential units in TAZ 514020\n",
        "Warning:  number of households exceeds number of resunits in TAZ 514020\n",
        "There are 403 households in TAZ 514030\n",
        "There are 330 residential units in TAZ 514030\n",
        "Warning:  number of households exceeds number of resunits in TAZ 514030\n",
        "There are 669 households in TAZ 514040\n",
        "There are 629 residential units in TAZ 514040"
       ]
      },
      {
       "output_type": "stream",
       "stream": "stdout",
       "text": [
        "\n",
        "Warning:  number of households exceeds number of resunits in TAZ 514040\n",
        "There are 143 households in TAZ 514050\n",
        "There are 258 residential units in TAZ 514050\n",
        "There are 1001 households in TAZ 514060\n",
        "There are 1018 residential units in TAZ 514060\n",
        "There are 2101 households in TAZ 514070\n",
        "There are 1743 residential units in TAZ 514070"
       ]
      },
      {
       "output_type": "stream",
       "stream": "stdout",
       "text": [
        "\n",
        "Warning:  number of households exceeds number of resunits in TAZ 514070\n",
        "There are 1213 households in TAZ 514080\n",
        "There are 1005 residential units in TAZ 514080\n",
        "Warning:  number of households exceeds number of resunits in TAZ 514080\n",
        "There are 212 households in TAZ 514090\n",
        "There are 267 residential units in TAZ 514090\n",
        "There are 479 households in TAZ 514100\n",
        "There are 725 residential units in TAZ 514100"
       ]
      },
      {
       "output_type": "stream",
       "stream": "stdout",
       "text": [
        "\n",
        "There are 395 households in TAZ 514110\n",
        "There are 612 residential units in TAZ 514110\n",
        "There are 200 households in TAZ 514120\n",
        "There are 638 residential units in TAZ 514120\n",
        "There are 426 households in TAZ 514130\n",
        "There are 492 residential units in TAZ 514130\n",
        "There are 461 households in TAZ 514140"
       ]
      },
      {
       "output_type": "stream",
       "stream": "stdout",
       "text": [
        "\n",
        "There are 1547 residential units in TAZ 514140\n",
        "There are 253 households in TAZ 514150\n",
        "There are 278 residential units in TAZ 514150\n",
        "There are 275 households in TAZ 514160\n",
        "There are 291 residential units in TAZ 514160\n",
        "There are 344 households in TAZ 514170\n",
        "There are 356 residential units in TAZ 514170"
       ]
      },
      {
       "output_type": "stream",
       "stream": "stdout",
       "text": [
        "\n",
        "There are 537 households in TAZ 514180\n",
        "There are 564 residential units in TAZ 514180\n",
        "There are 94 households in TAZ 514190\n",
        "There are 77 residential units in TAZ 514190\n",
        "Warning:  number of households exceeds number of resunits in TAZ 514190\n",
        "There are 564 households in TAZ 514200\n",
        "There are 1000 residential units in TAZ 514200\n",
        "There are 228 households in TAZ 514210"
       ]
      },
      {
       "output_type": "stream",
       "stream": "stdout",
       "text": [
        "\n",
        "There are 429 residential units in TAZ 514210\n",
        "There are 237 households in TAZ 514220\n",
        "There are 513 residential units in TAZ 514220\n",
        "There are 311 households in TAZ 514230\n",
        "There are 838 residential units in TAZ 514230\n",
        "There are 42 households in TAZ 514240\n",
        "There are 122 residential units in TAZ 514240"
       ]
      },
      {
       "output_type": "stream",
       "stream": "stdout",
       "text": [
        "\n",
        "There are 103 households in TAZ 514250\n",
        "There are 117 residential units in TAZ 514250\n",
        "There are 980 households in TAZ 514260\n",
        "There are 1517 residential units in TAZ 514260\n",
        "There are 362 households in TAZ 514270\n",
        "There are 310 residential units in TAZ 514270\n",
        "Warning:  number of households exceeds number of resunits in TAZ 514270"
       ]
      },
      {
       "output_type": "stream",
       "stream": "stdout",
       "text": [
        "\n",
        "There are 182 households in TAZ 514280\n",
        "There are 222 residential units in TAZ 514280\n",
        "There are 24 households in TAZ 514290\n",
        "There are 6 residential units in TAZ 514290\n",
        "Warning:  number of households exceeds number of resunits in TAZ 514290\n",
        "There are 226 households in TAZ 514300\n",
        "There are 29 residential units in TAZ 514300\n",
        "Warning:  number of households exceeds number of resunits in TAZ 514300\n",
        "There are 127 households in TAZ 514310"
       ]
      },
      {
       "output_type": "stream",
       "stream": "stdout",
       "text": [
        "\n",
        "There are 119 residential units in TAZ 514310\n",
        "Warning:  number of households exceeds number of resunits in TAZ 514310\n",
        "There are 102 households in TAZ 514320\n",
        "There are 275 residential units in TAZ 514320\n",
        "There are 348 households in TAZ 514330\n",
        "There are 637 residential units in TAZ 514330\n",
        "There are 35 households in TAZ 514340\n",
        "There are 46 residential units in TAZ 514340"
       ]
      },
      {
       "output_type": "stream",
       "stream": "stdout",
       "text": [
        "\n",
        "There are 744 households in TAZ 514350\n",
        "There are 917 residential units in TAZ 514350\n",
        "There are 300 households in TAZ 515010\n",
        "There are 313 residential units in TAZ 515010\n",
        "There are 1192 households in TAZ 515020\n",
        "There are 1244 residential units in TAZ 515020\n",
        "There are 476 households in TAZ 515030"
       ]
      },
      {
       "output_type": "stream",
       "stream": "stdout",
       "text": [
        "\n",
        "There are 495 residential units in TAZ 515030\n",
        "There are 1800 households in TAZ 515040\n",
        "There are 1807 residential units in TAZ 515040\n",
        "There are 631 households in TAZ 515060\n",
        "There are 637 residential units in TAZ 515060\n",
        "There are 419 households in TAZ 515070\n",
        "There are 570 residential units in TAZ 515070"
       ]
      },
      {
       "output_type": "stream",
       "stream": "stdout",
       "text": [
        "\n",
        "There are 781 households in TAZ 515080\n",
        "There are 780 residential units in TAZ 515080\n",
        "Warning:  number of households exceeds number of resunits in TAZ 515080\n",
        "There are 465 households in TAZ 515090\n",
        "There are 453 residential units in TAZ 515090\n",
        "Warning:  number of households exceeds number of resunits in TAZ 515090\n",
        "There are 439 households in TAZ 515100\n",
        "There are 422 residential units in TAZ 515100\n",
        "Warning:  number of households exceeds number of resunits in TAZ 515100"
       ]
      },
      {
       "output_type": "stream",
       "stream": "stdout",
       "text": [
        "\n",
        "There are 250 households in TAZ 515110\n",
        "There are 16 residential units in TAZ 515110\n",
        "Warning:  number of households exceeds number of resunits in TAZ 515110\n",
        "There are 2 households in TAZ 515120\n",
        "There are 5 residential units in TAZ 515120\n",
        "There are 2265 households in TAZ 515130\n",
        "There are 2908 residential units in TAZ 515130\n",
        "There are 1017 households in TAZ 515140"
       ]
      },
      {
       "output_type": "stream",
       "stream": "stdout",
       "text": [
        "\n",
        "There are 1167 residential units in TAZ 515140\n",
        "There are 1721 households in TAZ 515150\n",
        "There are 1898 residential units in TAZ 515150\n",
        "There are 1151 households in TAZ 515160\n",
        "There are 1106 residential units in TAZ 515160\n",
        "Warning:  number of households exceeds number of resunits in TAZ 515160\n",
        "There are 317 households in TAZ 515170"
       ]
      },
      {
       "output_type": "stream",
       "stream": "stdout",
       "text": [
        "\n",
        "There are 311 residential units in TAZ 515170\n",
        "Warning:  number of households exceeds number of resunits in TAZ 515170\n",
        "There are 317 households in TAZ 601010\n",
        "There are 320 residential units in TAZ 601010\n",
        "There are 1263 households in TAZ 601020\n",
        "There are 991 residential units in TAZ 601020\n",
        "Warning:  number of households exceeds number of resunits in TAZ 601020\n",
        "There are 347 households in TAZ 601030"
       ]
      },
      {
       "output_type": "stream",
       "stream": "stdout",
       "text": [
        "\n",
        "There are 68 residential units in TAZ 601030\n",
        "Warning:  number of households exceeds number of resunits in TAZ 601030\n",
        "There are 6 households in TAZ 601040\n",
        "There are 9 residential units in TAZ 601040\n",
        "There are 124 households in TAZ 601050\n",
        "There are 123 residential units in TAZ 601050\n",
        "Warning:  number of households exceeds number of resunits in TAZ 601050\n",
        "There are 6 households in TAZ 601060\n",
        "There are 13 residential units in TAZ 601060"
       ]
      },
      {
       "output_type": "stream",
       "stream": "stdout",
       "text": [
        "\n",
        "There are 64 households in TAZ 601070\n",
        "There are 37 residential units in TAZ 601070\n",
        "Warning:  number of households exceeds number of resunits in TAZ 601070\n",
        "There are 14 households in TAZ 601080\n",
        "There are 4 residential units in TAZ 601080\n",
        "Warning:  number of households exceeds number of resunits in TAZ 601080\n",
        "There are 1326 households in TAZ 601090\n",
        "There are 1525 residential units in TAZ 601090\n",
        "There are 167 households in TAZ 601100"
       ]
      },
      {
       "output_type": "stream",
       "stream": "stdout",
       "text": [
        "\n",
        "There are 195 residential units in TAZ 601100\n",
        "There are 490 households in TAZ 601110\n",
        "There are 544 residential units in TAZ 601110\n",
        "There are 5 households in TAZ 601120\n",
        "There are 3 residential units in TAZ 601120\n",
        "Warning:  number of households exceeds number of resunits in TAZ 601120\n",
        "There are 36 households in TAZ 601130\n",
        "There are 74 residential units in TAZ 601130"
       ]
      },
      {
       "output_type": "stream",
       "stream": "stdout",
       "text": [
        "\n",
        "There are 311 households in TAZ 601140\n",
        "There are 461 residential units in TAZ 601140\n",
        "There are 166 households in TAZ 601150\n",
        "There are 361 residential units in TAZ 601150\n",
        "There are 79 households in TAZ 601160\n",
        "There are 113 residential units in TAZ 601160\n",
        "There are 67 households in TAZ 601170"
       ]
      },
      {
       "output_type": "stream",
       "stream": "stdout",
       "text": [
        "\n",
        "There are 125 residential units in TAZ 601170\n",
        "There are 360 households in TAZ 601180\n",
        "There are 654 residential units in TAZ 601180\n",
        "There are 95 households in TAZ 602010\n",
        "There are 109 residential units in TAZ 602010\n",
        "There are 235 households in TAZ 602030\n",
        "There are 344 residential units in TAZ 602030"
       ]
      },
      {
       "output_type": "stream",
       "stream": "stdout",
       "text": [
        "\n",
        "There are 1374 households in TAZ 602050\n",
        "There are 1331 residential units in TAZ 602050\n",
        "Warning:  number of households exceeds number of resunits in TAZ 602050\n",
        "There are 698 households in TAZ 602060\n",
        "There are 1077 residential units in TAZ 602060\n",
        "There are 1789 households in TAZ 602070\n",
        "There are 1804 residential units in TAZ 602070"
       ]
      },
      {
       "output_type": "stream",
       "stream": "stdout",
       "text": [
        "\n",
        "There are 2 households in TAZ 602090\n",
        "There are 2 residential units in TAZ 602090\n",
        "There are 1077 households in TAZ 602100\n",
        "There are 737 residential units in TAZ 602100\n",
        "Warning:  number of households exceeds number of resunits in TAZ 602100\n",
        "There are 243 households in TAZ 602110\n",
        "There are 706 residential units in TAZ 602110\n",
        "There are 18 households in TAZ 602120"
       ]
      },
      {
       "output_type": "stream",
       "stream": "stdout",
       "text": [
        "\n",
        "There are 23 residential units in TAZ 602120\n",
        "There are 474 households in TAZ 602130\n",
        "There are 528 residential units in TAZ 602130\n",
        "There are 1054 households in TAZ 602140\n",
        "There are 1184 residential units in TAZ 602140\n",
        "There are 648 households in TAZ 602150\n",
        "There are 706 residential units in TAZ 602150"
       ]
      },
      {
       "output_type": "stream",
       "stream": "stdout",
       "text": [
        "\n",
        "There are 896 households in TAZ 602160\n",
        "There are 1225 residential units in TAZ 602160\n",
        "There are 379 households in TAZ 602170\n",
        "There are 517 residential units in TAZ 602170\n",
        "There are 2756 households in TAZ 602180\n",
        "There are 3011 residential units in TAZ 602180\n",
        "There are 533 households in TAZ 602190"
       ]
      },
      {
       "output_type": "stream",
       "stream": "stdout",
       "text": [
        "\n",
        "There are 781 residential units in TAZ 602190\n",
        "There are 1849 households in TAZ 602200\n",
        "There are 2142 residential units in TAZ 602200\n",
        "There are 1622 households in TAZ 602210\n",
        "There are 1711 residential units in TAZ 602210\n",
        "There are 1445 households in TAZ 602220"
       ]
      },
      {
       "output_type": "stream",
       "stream": "stdout",
       "text": [
        "\n",
        "There are 1818 residential units in TAZ 602220\n",
        "There are 275 households in TAZ 602230\n",
        "There are 572 residential units in TAZ 602230\n",
        "There are 154 households in TAZ 602240\n",
        "There are 241 residential units in TAZ 602240\n",
        "There are 4 households in TAZ 602250\n",
        "There are 8 residential units in TAZ 602250"
       ]
      },
      {
       "output_type": "stream",
       "stream": "stdout",
       "text": [
        "\n",
        "There are 15 households in TAZ 602260\n",
        "There are 16 residential units in TAZ 602260\n",
        "There are 12 households in TAZ 602270\n",
        "There are 59 residential units in TAZ 602270\n",
        "There are 61 households in TAZ 602290\n",
        "There are 86 residential units in TAZ 602290\n",
        "There are 3 households in TAZ 602300"
       ]
      },
      {
       "output_type": "stream",
       "stream": "stdout",
       "text": [
        "\n",
        "There are 10 residential units in TAZ 602300\n",
        "There are 78 households in TAZ 602310\n",
        "There are 32 residential units in TAZ 602310\n",
        "Warning:  number of households exceeds number of resunits in TAZ 602310\n",
        "There are 157 households in TAZ 602320\n",
        "There are 134 residential units in TAZ 602320\n",
        "Warning:  number of households exceeds number of resunits in TAZ 602320\n",
        "There are 44 households in TAZ 602330\n",
        "There are 29 residential units in TAZ 602330"
       ]
      },
      {
       "output_type": "stream",
       "stream": "stdout",
       "text": [
        "\n",
        "Warning:  number of households exceeds number of resunits in TAZ 602330\n",
        "There are 1181 households in TAZ 603010\n",
        "There are 1241 residential units in TAZ 603010\n",
        "There are 3 households in TAZ 603020\n",
        "There are 1 residential units in TAZ 603020\n",
        "Warning:  number of households exceeds number of resunits in TAZ 603020\n",
        "There are 1283 households in TAZ 603030\n",
        "There are 1715 residential units in TAZ 603030\n",
        "There are 1211 households in TAZ 603040"
       ]
      },
      {
       "output_type": "stream",
       "stream": "stdout",
       "text": [
        "\n",
        "There are 1592 residential units in TAZ 603040\n",
        "There are 979 households in TAZ 603050\n",
        "There are 1083 residential units in TAZ 603050\n",
        "There are 1538 households in TAZ 603060\n",
        "There are 1449 residential units in TAZ 603060\n",
        "Warning:  number of households exceeds number of resunits in TAZ 603060\n",
        "There are 835 households in TAZ 603070"
       ]
      },
      {
       "output_type": "stream",
       "stream": "stdout",
       "text": [
        "\n",
        "There are 983 residential units in TAZ 603070\n",
        "There are 960 households in TAZ 603080\n",
        "There are 1274 residential units in TAZ 603080\n",
        "There are 3423 households in TAZ 603090\n",
        "There are 3314 residential units in TAZ 603090\n",
        "Warning:  number of households exceeds number of resunits in TAZ 603090\n",
        "There are 56 households in TAZ 603100"
       ]
      },
      {
       "output_type": "stream",
       "stream": "stdout",
       "text": [
        "\n",
        "There are 773 residential units in TAZ 603100\n",
        "There are 155 households in TAZ 603110\n",
        "There are 483 residential units in TAZ 603110\n",
        "There are 7 households in TAZ 604020\n",
        "There are 0 residential units in TAZ 604020\n",
        "Warning:  number of households exceeds number of resunits in TAZ 604020\n",
        "There are 276 households in TAZ 604030\n",
        "There are 400 residential units in TAZ 604030"
       ]
      },
      {
       "output_type": "stream",
       "stream": "stdout",
       "text": [
        "\n",
        "There are 1 households in TAZ 604040\n",
        "There are 0 residential units in TAZ 604040\n",
        "Warning:  number of households exceeds number of resunits in TAZ 604040\n",
        "There are 960 households in TAZ 604050\n",
        "There are 995 residential units in TAZ 604050\n",
        "There are 1937 households in TAZ 604060\n",
        "There are 2068 residential units in TAZ 604060\n",
        "There are 1421 households in TAZ 604070"
       ]
      },
      {
       "output_type": "stream",
       "stream": "stdout",
       "text": [
        "\n",
        "There are 680 residential units in TAZ 604070\n",
        "Warning:  number of households exceeds number of resunits in TAZ 604070\n",
        "There are 445 households in TAZ 604080\n",
        "There are 1089 residential units in TAZ 604080\n",
        "There are 230 households in TAZ 604090\n",
        "There are 738 residential units in TAZ 604090\n",
        "There are 1110 households in TAZ 604100\n",
        "There are 1217 residential units in TAZ 604100"
       ]
      },
      {
       "output_type": "stream",
       "stream": "stdout",
       "text": [
        "\n",
        "There are 567 households in TAZ 604110\n",
        "There are 651 residential units in TAZ 604110\n",
        "There are 30 households in TAZ 604120\n",
        "There are 60 residential units in TAZ 604120\n",
        "There are 176 households in TAZ 604130\n",
        "There are 269 residential units in TAZ 604130\n",
        "There are 706 households in TAZ 604140"
       ]
      },
      {
       "output_type": "stream",
       "stream": "stdout",
       "text": [
        "\n",
        "There are 811 residential units in TAZ 604140\n",
        "There are 1011 households in TAZ 604150\n",
        "There are 1431 residential units in TAZ 604150\n",
        "There are 1285 households in TAZ 604160\n",
        "There are 1297 residential units in TAZ 604160\n",
        "There are 1192 households in TAZ 604170"
       ]
      },
      {
       "output_type": "stream",
       "stream": "stdout",
       "text": [
        "\n",
        "There are 925 residential units in TAZ 604170\n",
        "Warning:  number of households exceeds number of resunits in TAZ 604170\n",
        "There are 552 households in TAZ 604180\n",
        "There are 356 residential units in TAZ 604180\n",
        "Warning:  number of households exceeds number of resunits in TAZ 604180\n",
        "There are 18 households in TAZ 604190\n",
        "There are 12 residential units in TAZ 604190\n",
        "Warning:  number of households exceeds number of resunits in TAZ 604190\n",
        "There are 15 households in TAZ 605020"
       ]
      },
      {
       "output_type": "stream",
       "stream": "stdout",
       "text": [
        "\n",
        "There are 24 residential units in TAZ 605020\n",
        "There are 156 households in TAZ 605030\n",
        "There are 0 residential units in TAZ 605030\n",
        "Warning:  number of households exceeds number of resunits in TAZ 605030\n",
        "There are 1 households in TAZ 605050\n",
        "There are 0 residential units in TAZ 605050\n",
        "Warning:  number of households exceeds number of resunits in TAZ 605050\n",
        "There are 12 households in TAZ 605060\n",
        "There are 0 residential units in TAZ 605060"
       ]
      },
      {
       "output_type": "stream",
       "stream": "stdout",
       "text": [
        "\n",
        "Warning:  number of households exceeds number of resunits in TAZ 605060\n",
        "There are 7 households in TAZ 605070\n",
        "There are 0 residential units in TAZ 605070\n",
        "Warning:  number of households exceeds number of resunits in TAZ 605070\n",
        "There are 927 households in TAZ 605080\n",
        "There are 922 residential units in TAZ 605080\n",
        "Warning:  number of households exceeds number of resunits in TAZ 605080\n",
        "There are 35 households in TAZ 605090\n",
        "There are 2 residential units in TAZ 605090\n",
        "Warning:  number of households exceeds number of resunits in TAZ 605090"
       ]
      },
      {
       "output_type": "stream",
       "stream": "stdout",
       "text": [
        "\n",
        "There are 351 households in TAZ 605100\n",
        "There are 288 residential units in TAZ 605100\n",
        "Warning:  number of households exceeds number of resunits in TAZ 605100\n",
        "There are 572 households in TAZ 605110\n",
        "There are 1028 residential units in TAZ 605110\n",
        "There are 457 households in TAZ 605120\n",
        "There are 380 residential units in TAZ 605120\n",
        "Warning:  number of households exceeds number of resunits in TAZ 605120\n",
        "There are 46 households in TAZ 605130"
       ]
      },
      {
       "output_type": "stream",
       "stream": "stdout",
       "text": [
        "\n",
        "There are 2 residential units in TAZ 605130\n",
        "Warning:  number of households exceeds number of resunits in TAZ 605130\n",
        "There are 1179 households in TAZ 605140\n",
        "There are 1223 residential units in TAZ 605140\n",
        "There are 1195 households in TAZ 605150\n",
        "There are 1755 residential units in TAZ 605150\n",
        "There are 266 households in TAZ 605160\n",
        "There are 365 residential units in TAZ 605160"
       ]
      },
      {
       "output_type": "stream",
       "stream": "stdout",
       "text": [
        "\n",
        "There are 578 households in TAZ 605170\n",
        "There are 820 residential units in TAZ 605170\n",
        "There are 299 households in TAZ 605190\n",
        "There are 0 residential units in TAZ 605190\n",
        "Warning:  number of households exceeds number of resunits in TAZ 605190\n",
        "There are 45 households in TAZ 605220\n",
        "There are 221 residential units in TAZ 605220\n",
        "There are 976 households in TAZ 605240"
       ]
      },
      {
       "output_type": "stream",
       "stream": "stdout",
       "text": [
        "\n",
        "There are 724 residential units in TAZ 605240\n",
        "Warning:  number of households exceeds number of resunits in TAZ 605240\n",
        "There are 392 households in TAZ 605250\n",
        "There are 252 residential units in TAZ 605250\n",
        "Warning:  number of households exceeds number of resunits in TAZ 605250\n",
        "There are 303 households in TAZ 605260\n",
        "There are 123 residential units in TAZ 605260\n",
        "Warning:  number of households exceeds number of resunits in TAZ 605260\n",
        "There are 1680 households in TAZ 605270\n",
        "There are 1433 residential units in TAZ 605270"
       ]
      },
      {
       "output_type": "stream",
       "stream": "stdout",
       "text": [
        "\n",
        "Warning:  number of households exceeds number of resunits in TAZ 605270\n",
        "There are 811 households in TAZ 605280\n",
        "There are 563 residential units in TAZ 605280\n",
        "Warning:  number of households exceeds number of resunits in TAZ 605280\n",
        "There are 1652 households in TAZ 605290\n",
        "There are 1668 residential units in TAZ 605290\n",
        "There are 317 households in TAZ 605300\n",
        "There are 27 residential units in TAZ 605300"
       ]
      },
      {
       "output_type": "stream",
       "stream": "stdout",
       "text": [
        "\n",
        "Warning:  number of households exceeds number of resunits in TAZ 605300\n",
        "There are 88 households in TAZ 605310\n",
        "There are 1 residential units in TAZ 605310\n",
        "Warning:  number of households exceeds number of resunits in TAZ 605310\n",
        "There are 328 households in TAZ 605330\n",
        "There are 683 residential units in TAZ 605330\n",
        "There are 653 households in TAZ 605340\n",
        "There are 1192 residential units in TAZ 605340\n",
        "There are 343 households in TAZ 605350"
       ]
      },
      {
       "output_type": "stream",
       "stream": "stdout",
       "text": [
        "\n",
        "There are 351 residential units in TAZ 605350\n",
        "There are 354 households in TAZ 605360\n",
        "There are 126 residential units in TAZ 605360\n",
        "Warning:  number of households exceeds number of resunits in TAZ 605360\n",
        "There are 22 households in TAZ 605370\n",
        "There are 22 residential units in TAZ 605370\n",
        "There are 382 households in TAZ 605380\n",
        "There are 368 residential units in TAZ 605380"
       ]
      },
      {
       "output_type": "stream",
       "stream": "stdout",
       "text": [
        "\n",
        "Warning:  number of households exceeds number of resunits in TAZ 605380\n",
        "There are 299 households in TAZ 605390\n",
        "There are 176 residential units in TAZ 605390\n",
        "Warning:  number of households exceeds number of resunits in TAZ 605390\n",
        "There are 120 households in TAZ 605400\n",
        "There are 65 residential units in TAZ 605400\n",
        "Warning:  number of households exceeds number of resunits in TAZ 605400\n",
        "There are 112 households in TAZ 605450\n",
        "There are 43 residential units in TAZ 605450\n",
        "Warning:  number of households exceeds number of resunits in TAZ 605450"
       ]
      },
      {
       "output_type": "stream",
       "stream": "stdout",
       "text": [
        "\n",
        "There are 213 households in TAZ 605460\n",
        "There are 6 residential units in TAZ 605460\n",
        "Warning:  number of households exceeds number of resunits in TAZ 605460\n",
        "There are 464 households in TAZ 605470\n",
        "There are 44 residential units in TAZ 605470\n",
        "Warning:  number of households exceeds number of resunits in TAZ 605470\n",
        "There are 218 households in TAZ 605480\n",
        "There are 831 residential units in TAZ 605480\n",
        "There are 290 households in TAZ 605490"
       ]
      },
      {
       "output_type": "stream",
       "stream": "stdout",
       "text": [
        "\n",
        "There are 815 residential units in TAZ 605490\n",
        "There are 37 households in TAZ 605500\n",
        "There are 58 residential units in TAZ 605500\n",
        "There are 252 households in TAZ 605510\n",
        "There are 207 residential units in TAZ 605510\n",
        "Warning:  number of households exceeds number of resunits in TAZ 605510\n",
        "There are 267 households in TAZ 605520\n",
        "There are 747 residential units in TAZ 605520"
       ]
      },
      {
       "output_type": "stream",
       "stream": "stdout",
       "text": [
        "\n",
        "There are 321 households in TAZ 605530\n",
        "There are 290 residential units in TAZ 605530\n",
        "Warning:  number of households exceeds number of resunits in TAZ 605530\n",
        "There are 59 households in TAZ 605540\n",
        "There are 79 residential units in TAZ 605540\n",
        "There are 14 households in TAZ 605550\n",
        "There are 16 residential units in TAZ 605550\n",
        "There are 88 households in TAZ 606010"
       ]
      },
      {
       "output_type": "stream",
       "stream": "stdout",
       "text": [
        "\n",
        "There are 34 residential units in TAZ 606010\n",
        "Warning:  number of households exceeds number of resunits in TAZ 606010\n",
        "There are 239 households in TAZ 606020\n",
        "There are 308 residential units in TAZ 606020\n",
        "There are 168 households in TAZ 606030\n",
        "There are 8 residential units in TAZ 606030\n",
        "Warning:  number of households exceeds number of resunits in TAZ 606030\n",
        "There are 243 households in TAZ 606040\n",
        "There are 123 residential units in TAZ 606040"
       ]
      },
      {
       "output_type": "stream",
       "stream": "stdout",
       "text": [
        "\n",
        "Warning:  number of households exceeds number of resunits in TAZ 606040\n",
        "There are 404 households in TAZ 606050\n",
        "There are 575 residential units in TAZ 606050\n",
        "There are 230 households in TAZ 606060\n",
        "There are 419 residential units in TAZ 606060\n",
        "There are 548 households in TAZ 606070\n",
        "There are 647 residential units in TAZ 606070\n",
        "There are 664 households in TAZ 606080"
       ]
      },
      {
       "output_type": "stream",
       "stream": "stdout",
       "text": [
        "\n",
        "There are 435 residential units in TAZ 606080\n",
        "Warning:  number of households exceeds number of resunits in TAZ 606080\n",
        "There are 42 households in TAZ 606090\n",
        "There are 25 residential units in TAZ 606090\n",
        "Warning:  number of households exceeds number of resunits in TAZ 606090\n",
        "There are 634 households in TAZ 606100\n",
        "There are 413 residential units in TAZ 606100\n",
        "Warning:  number of households exceeds number of resunits in TAZ 606100\n",
        "There are 685 households in TAZ 606110\n",
        "There are 591 residential units in TAZ 606110"
       ]
      },
      {
       "output_type": "stream",
       "stream": "stdout",
       "text": [
        "\n",
        "Warning:  number of households exceeds number of resunits in TAZ 606110\n",
        "There are 332 households in TAZ 606120\n",
        "There are 686 residential units in TAZ 606120\n",
        "There are 415 households in TAZ 606130\n",
        "There are 427 residential units in TAZ 606130\n",
        "There are 908 households in TAZ 606140\n",
        "There are 936 residential units in TAZ 606140\n",
        "There are 48 households in TAZ 606150"
       ]
      },
      {
       "output_type": "stream",
       "stream": "stdout",
       "text": [
        "\n",
        "There are 114 residential units in TAZ 606150\n",
        "There are 829 households in TAZ 606160\n",
        "There are 842 residential units in TAZ 606160\n",
        "There are 946 households in TAZ 606170\n",
        "There are 854 residential units in TAZ 606170\n",
        "Warning:  number of households exceeds number of resunits in TAZ 606170\n",
        "There are 954 households in TAZ 606180\n",
        "There are 972 residential units in TAZ 606180"
       ]
      },
      {
       "output_type": "stream",
       "stream": "stdout",
       "text": [
        "\n",
        "There are 532 households in TAZ 606190\n",
        "There are 463 residential units in TAZ 606190\n",
        "Warning:  number of households exceeds number of resunits in TAZ 606190\n",
        "There are 34 households in TAZ 606200\n",
        "There are 5 residential units in TAZ 606200\n",
        "Warning:  number of households exceeds number of resunits in TAZ 606200\n",
        "There are 29 households in TAZ 606210\n",
        "There are 1 residential units in TAZ 606210\n",
        "Warning:  number of households exceeds number of resunits in TAZ 606210"
       ]
      },
      {
       "output_type": "stream",
       "stream": "stdout",
       "text": [
        "\n",
        "There are 208 households in TAZ 606220\n",
        "There are 205 residential units in TAZ 606220\n",
        "Warning:  number of households exceeds number of resunits in TAZ 606220\n",
        "There are 231 households in TAZ 606230\n",
        "There are 184 residential units in TAZ 606230\n",
        "Warning:  number of households exceeds number of resunits in TAZ 606230\n",
        "There are 1006 households in TAZ 606240\n",
        "There are 975 residential units in TAZ 606240\n",
        "Warning:  number of households exceeds number of resunits in TAZ 606240\n",
        "There are 89 households in TAZ 606250"
       ]
      },
      {
       "output_type": "stream",
       "stream": "stdout",
       "text": [
        "\n",
        "There are 187 residential units in TAZ 606250\n",
        "There are 569 households in TAZ 606260\n",
        "There are 917 residential units in TAZ 606260\n",
        "There are 240 households in TAZ 606270\n",
        "There are 476 residential units in TAZ 606270\n",
        "There are 51 households in TAZ 606280\n",
        "There are 99 residential units in TAZ 606280"
       ]
      },
      {
       "output_type": "stream",
       "stream": "stdout",
       "text": [
        "\n",
        "There are 265 households in TAZ 606290\n",
        "There are 248 residential units in TAZ 606290\n",
        "Warning:  number of households exceeds number of resunits in TAZ 606290\n",
        "There are 58 households in TAZ 606300\n",
        "There are 82 residential units in TAZ 606300\n",
        "There are 128 households in TAZ 606310\n",
        "There are 132 residential units in TAZ 606310\n",
        "There are 1449 households in TAZ 606320"
       ]
      },
      {
       "output_type": "stream",
       "stream": "stdout",
       "text": [
        "\n",
        "There are 1299 residential units in TAZ 606320\n",
        "Warning:  number of households exceeds number of resunits in TAZ 606320\n",
        "There are 37 households in TAZ 606330\n",
        "There are 49 residential units in TAZ 606330\n",
        "There are 1096 households in TAZ 606340\n",
        "There are 856 residential units in TAZ 606340\n",
        "Warning:  number of households exceeds number of resunits in TAZ 606340\n",
        "There are 928 households in TAZ 606350"
       ]
      },
      {
       "output_type": "stream",
       "stream": "stdout",
       "text": [
        "\n",
        "There are 780 residential units in TAZ 606350\n",
        "Warning:  number of households exceeds number of resunits in TAZ 606350\n",
        "There are 83 households in TAZ 606360\n",
        "There are 158 residential units in TAZ 606360\n",
        "There are 304 households in TAZ 606370\n",
        "There are 814 residential units in TAZ 606370\n",
        "There are 453 households in TAZ 606380\n",
        "There are 520 residential units in TAZ 606380"
       ]
      },
      {
       "output_type": "stream",
       "stream": "stdout",
       "text": [
        "\n",
        "There are 177 households in TAZ 606390\n",
        "There are 440 residential units in TAZ 606390\n",
        "There are 49 households in TAZ 606400\n",
        "There are 114 residential units in TAZ 606400\n",
        "There are 39 households in TAZ 606410\n",
        "There are 40 residential units in TAZ 606410\n",
        "There are 597 households in TAZ 606420"
       ]
      },
      {
       "output_type": "stream",
       "stream": "stdout",
       "text": [
        "\n",
        "There are 728 residential units in TAZ 606420\n",
        "There are 114 households in TAZ 606430\n",
        "There are 181 residential units in TAZ 606430\n",
        "There are 295 households in TAZ 606440\n",
        "There are 368 residential units in TAZ 606440\n",
        "There are 529 households in TAZ 607010\n",
        "There are 284 residential units in TAZ 607010"
       ]
      },
      {
       "output_type": "stream",
       "stream": "stdout",
       "text": [
        "\n",
        "Warning:  number of households exceeds number of resunits in TAZ 607010\n",
        "There are 540 households in TAZ 607020\n",
        "There are 1026 residential units in TAZ 607020\n",
        "There are 598 households in TAZ 607030\n",
        "There are 538 residential units in TAZ 607030\n",
        "Warning:  number of households exceeds number of resunits in TAZ 607030\n",
        "There are 552 households in TAZ 607040\n",
        "There are 775 residential units in TAZ 607040\n",
        "There are 34 households in TAZ 607050"
       ]
      },
      {
       "output_type": "stream",
       "stream": "stdout",
       "text": [
        "\n",
        "There are 1 residential units in TAZ 607050\n",
        "Warning:  number of households exceeds number of resunits in TAZ 607050\n",
        "There are 8 households in TAZ 607060\n",
        "There are 3 residential units in TAZ 607060\n",
        "Warning:  number of households exceeds number of resunits in TAZ 607060\n",
        "There are 54 households in TAZ 607070\n",
        "There are 35 residential units in TAZ 607070\n",
        "Warning:  number of households exceeds number of resunits in TAZ 607070\n",
        "There are 552 households in TAZ 607080\n",
        "There are 727 residential units in TAZ 607080"
       ]
      },
      {
       "output_type": "stream",
       "stream": "stdout",
       "text": [
        "\n",
        "There are 338 households in TAZ 607090\n",
        "There are 589 residential units in TAZ 607090\n",
        "There are 518 households in TAZ 607100\n",
        "There are 1050 residential units in TAZ 607100\n",
        "There are 172 households in TAZ 607110\n",
        "There are 478 residential units in TAZ 607110"
       ]
      },
      {
       "output_type": "stream",
       "stream": "stdout",
       "text": [
        "\n",
        "There are 108 households in TAZ 607120\n",
        "There are 1 residential units in TAZ 607120\n",
        "Warning:  number of households exceeds number of resunits in TAZ 607120\n",
        "There are 160 households in TAZ 607130\n",
        "There are 69 residential units in TAZ 607130\n",
        "Warning:  number of households exceeds number of resunits in TAZ 607130\n",
        "There are 141 households in TAZ 607150\n",
        "There are 242 residential units in TAZ 607150\n",
        "There are 327 households in TAZ 607160"
       ]
      },
      {
       "output_type": "stream",
       "stream": "stdout",
       "text": [
        "\n",
        "There are 259 residential units in TAZ 607160\n",
        "Warning:  number of households exceeds number of resunits in TAZ 607160\n",
        "There are 55 households in TAZ 607170\n",
        "There are 13 residential units in TAZ 607170\n",
        "Warning:  number of households exceeds number of resunits in TAZ 607170\n",
        "There are 213 households in TAZ 607180\n",
        "There are 1 residential units in TAZ 607180\n",
        "Warning:  number of households exceeds number of resunits in TAZ 607180\n",
        "There are 175 households in TAZ 607190\n",
        "There are 57 residential units in TAZ 607190"
       ]
      },
      {
       "output_type": "stream",
       "stream": "stdout",
       "text": [
        "\n",
        "Warning:  number of households exceeds number of resunits in TAZ 607190\n",
        "There are 264 households in TAZ 607200\n",
        "There are 178 residential units in TAZ 607200\n",
        "Warning:  number of households exceeds number of resunits in TAZ 607200\n",
        "There are 554 households in TAZ 607210\n",
        "There are 760 residential units in TAZ 607210\n",
        "There are 137 households in TAZ 607220\n",
        "There are 9 residential units in TAZ 607220\n",
        "Warning:  number of households exceeds number of resunits in TAZ 607220"
       ]
      },
      {
       "output_type": "stream",
       "stream": "stdout",
       "text": [
        "\n",
        "There are 415 households in TAZ 607230\n",
        "There are 418 residential units in TAZ 607230\n",
        "There are 82 households in TAZ 607240\n",
        "There are 53 residential units in TAZ 607240\n",
        "Warning:  number of households exceeds number of resunits in TAZ 607240\n",
        "There are 378 households in TAZ 607250\n",
        "There are 516 residential units in TAZ 607250\n",
        "There are 702 households in TAZ 607260"
       ]
      },
      {
       "output_type": "stream",
       "stream": "stdout",
       "text": [
        "\n",
        "There are 681 residential units in TAZ 607260\n",
        "Warning:  number of households exceeds number of resunits in TAZ 607260\n",
        "There are 177 households in TAZ 607270\n",
        "There are 30 residential units in TAZ 607270\n",
        "Warning:  number of households exceeds number of resunits in TAZ 607270\n",
        "There are 40 households in TAZ 607280\n",
        "There are 69 residential units in TAZ 607280\n",
        "There are 152 households in TAZ 607290\n",
        "There are 331 residential units in TAZ 607290"
       ]
      },
      {
       "output_type": "stream",
       "stream": "stdout",
       "text": [
        "\n",
        "There are 85 households in TAZ 607300\n",
        "There are 76 residential units in TAZ 607300\n",
        "Warning:  number of households exceeds number of resunits in TAZ 607300\n",
        "There are 130 households in TAZ 607310\n",
        "There are 209 residential units in TAZ 607310\n",
        "There are 164 households in TAZ 607320\n",
        "There are 378 residential units in TAZ 607320\n",
        "There are 106 households in TAZ 607330"
       ]
      },
      {
       "output_type": "stream",
       "stream": "stdout",
       "text": [
        "\n",
        "There are 22 residential units in TAZ 607330\n",
        "Warning:  number of households exceeds number of resunits in TAZ 607330\n",
        "There are 44 households in TAZ 607340\n",
        "There are 10 residential units in TAZ 607340\n",
        "Warning:  number of households exceeds number of resunits in TAZ 607340\n",
        "There are 48 households in TAZ 607350\n",
        "There are 53 residential units in TAZ 607350\n",
        "There are 195 households in TAZ 607360\n",
        "There are 32 residential units in TAZ 607360"
       ]
      },
      {
       "output_type": "stream",
       "stream": "stdout",
       "text": [
        "\n",
        "Warning:  number of households exceeds number of resunits in TAZ 607360\n",
        "There are 64 households in TAZ 607370\n",
        "There are 7 residential units in TAZ 607370\n",
        "Warning:  number of households exceeds number of resunits in TAZ 607370\n",
        "There are 262 households in TAZ 607380\n",
        "There are 56 residential units in TAZ 607380\n",
        "Warning:  number of households exceeds number of resunits in TAZ 607380\n",
        "There are 144 households in TAZ 607390\n",
        "There are 51 residential units in TAZ 607390\n",
        "Warning:  number of households exceeds number of resunits in TAZ 607390"
       ]
      },
      {
       "output_type": "stream",
       "stream": "stdout",
       "text": [
        "\n",
        "There are 161 households in TAZ 607400\n",
        "There are 156 residential units in TAZ 607400\n",
        "Warning:  number of households exceeds number of resunits in TAZ 607400\n",
        "There are 531 households in TAZ 607410\n",
        "There are 441 residential units in TAZ 607410\n",
        "Warning:  number of households exceeds number of resunits in TAZ 607410\n",
        "There are 377 households in TAZ 607420\n",
        "There are 414 residential units in TAZ 607420\n",
        "There are 241 households in TAZ 607430"
       ]
      },
      {
       "output_type": "stream",
       "stream": "stdout",
       "text": [
        "\n",
        "There are 166 residential units in TAZ 607430\n",
        "Warning:  number of households exceeds number of resunits in TAZ 607430\n",
        "There are 869 households in TAZ 607440\n",
        "There are 1137 residential units in TAZ 607440\n",
        "There are 229 households in TAZ 607450\n",
        "There are 78 residential units in TAZ 607450\n",
        "Warning:  number of households exceeds number of resunits in TAZ 607450\n",
        "There are 800 households in TAZ 607460\n",
        "There are 810 residential units in TAZ 607460"
       ]
      },
      {
       "output_type": "stream",
       "stream": "stdout",
       "text": [
        "\n",
        "There are 37 households in TAZ 607470\n",
        "There are 81 residential units in TAZ 607470\n",
        "There are 268 households in TAZ 607480\n",
        "There are 180 residential units in TAZ 607480\n",
        "Warning:  number of households exceeds number of resunits in TAZ 607480\n",
        "There are 897 households in TAZ 607490\n",
        "There are 1525 residential units in TAZ 607490\n",
        "There are 530 households in TAZ 607500"
       ]
      },
      {
       "output_type": "stream",
       "stream": "stdout",
       "text": [
        "\n",
        "There are 677 residential units in TAZ 607500\n",
        "There are 204 households in TAZ 607510\n",
        "There are 433 residential units in TAZ 607510\n",
        "There are 520 households in TAZ 607520\n",
        "There are 723 residential units in TAZ 607520\n",
        "There are 251 households in TAZ 607530\n",
        "There are 114 residential units in TAZ 607530"
       ]
      },
      {
       "output_type": "stream",
       "stream": "stdout",
       "text": [
        "\n",
        "Warning:  number of households exceeds number of resunits in TAZ 607530\n",
        "There are 316 households in TAZ 607540\n",
        "There are 501 residential units in TAZ 607540\n",
        "There are 363 households in TAZ 607550\n",
        "There are 714 residential units in TAZ 607550\n",
        "There are 123 households in TAZ 607560\n",
        "There are 310 residential units in TAZ 607560\n",
        "There are 185 households in TAZ 607570"
       ]
      },
      {
       "output_type": "stream",
       "stream": "stdout",
       "text": [
        "\n",
        "There are 143 residential units in TAZ 607570\n",
        "Warning:  number of households exceeds number of resunits in TAZ 607570\n",
        "There are 25 households in TAZ 607580\n",
        "There are 12 residential units in TAZ 607580\n",
        "Warning:  number of households exceeds number of resunits in TAZ 607580\n",
        "There are 24 households in TAZ 607590\n",
        "There are 25 residential units in TAZ 607590\n",
        "There are 82 households in TAZ 607600\n",
        "There are 32 residential units in TAZ 607600"
       ]
      },
      {
       "output_type": "stream",
       "stream": "stdout",
       "text": [
        "\n",
        "Warning:  number of households exceeds number of resunits in TAZ 607600\n",
        "There are 4 households in TAZ 607620\n",
        "There are 233 residential units in TAZ 607620\n",
        "There are 140 households in TAZ 607640\n",
        "There are 114 residential units in TAZ 607640\n",
        "Warning:  number of households exceeds number of resunits in TAZ 607640\n",
        "There are 140 households in TAZ 607650\n",
        "There are 101 residential units in TAZ 607650\n",
        "Warning:  number of households exceeds number of resunits in TAZ 607650"
       ]
      },
      {
       "output_type": "stream",
       "stream": "stdout",
       "text": [
        "\n",
        "There are 113 households in TAZ 607660\n",
        "There are 105 residential units in TAZ 607660\n",
        "Warning:  number of households exceeds number of resunits in TAZ 607660\n",
        "There are 546 households in TAZ 607670\n",
        "There are 465 residential units in TAZ 607670\n",
        "Warning:  number of households exceeds number of resunits in TAZ 607670\n",
        "There are 471 households in TAZ 607680\n",
        "There are 370 residential units in TAZ 607680\n",
        "Warning:  number of households exceeds number of resunits in TAZ 607680"
       ]
      },
      {
       "output_type": "stream",
       "stream": "stdout",
       "text": [
        "\n",
        "There are 224 households in TAZ 607690\n",
        "There are 60 residential units in TAZ 607690\n",
        "Warning:  number of households exceeds number of resunits in TAZ 607690\n",
        "There are 127 households in TAZ 607700\n",
        "There are 220 residential units in TAZ 607700\n",
        "There are 126 households in TAZ 607710\n",
        "There are 231 residential units in TAZ 607710\n",
        "There are 52 households in TAZ 607720"
       ]
      },
      {
       "output_type": "stream",
       "stream": "stdout",
       "text": [
        "\n",
        "There are 133 residential units in TAZ 607720\n",
        "There are 19 households in TAZ 607730\n",
        "There are 21 residential units in TAZ 607730\n",
        "There are 478 households in TAZ 607740\n",
        "There are 827 residential units in TAZ 607740\n",
        "There are 40 households in TAZ 607750\n",
        "There are 44 residential units in TAZ 607750"
       ]
      },
      {
       "output_type": "stream",
       "stream": "stdout",
       "text": [
        "\n",
        "There are 154 households in TAZ 607760\n",
        "There are 85 residential units in TAZ 607760\n",
        "Warning:  number of households exceeds number of resunits in TAZ 607760\n",
        "There are 38 households in TAZ 607770\n",
        "There are 15 residential units in TAZ 607770\n",
        "Warning:  number of households exceeds number of resunits in TAZ 607770\n",
        "There are 23 households in TAZ 607780\n",
        "There are 25 residential units in TAZ 607780\n",
        "There are 14 households in TAZ 607790"
       ]
      },
      {
       "output_type": "stream",
       "stream": "stdout",
       "text": [
        "\n",
        "There are 20 residential units in TAZ 607790\n",
        "There are 13 households in TAZ 607800\n",
        "There are 19 residential units in TAZ 607800\n",
        "There are 36 households in TAZ 607810\n",
        "There are 31 residential units in TAZ 607810\n",
        "Warning:  number of households exceeds number of resunits in TAZ 607810\n",
        "There are 6 households in TAZ 607820\n",
        "There are 232 residential units in TAZ 607820"
       ]
      },
      {
       "output_type": "stream",
       "stream": "stdout",
       "text": [
        "\n",
        "There are 2 households in TAZ 607840\n",
        "There are 86 residential units in TAZ 607840\n",
        "There are 286 households in TAZ 607850\n",
        "There are 269 residential units in TAZ 607850\n",
        "Warning:  number of households exceeds number of resunits in TAZ 607850\n",
        "There are 16 households in TAZ 607860\n",
        "There are 329 residential units in TAZ 607860\n",
        "There are 55 households in TAZ 607870"
       ]
      },
      {
       "output_type": "stream",
       "stream": "stdout",
       "text": [
        "\n",
        "There are 64 residential units in TAZ 607870\n",
        "There are 18 households in TAZ 607880\n",
        "There are 28 residential units in TAZ 607880\n",
        "There are 237 households in TAZ 607890\n",
        "There are 409 residential units in TAZ 607890\n",
        "There are 238 households in TAZ 607900\n",
        "There are 261 residential units in TAZ 607900"
       ]
      },
      {
       "output_type": "stream",
       "stream": "stdout",
       "text": [
        "\n",
        "There are 106 households in TAZ 607910\n",
        "There are 189 residential units in TAZ 607910\n",
        "There are 124 households in TAZ 607920\n",
        "There are 189 residential units in TAZ 607920\n",
        "There are 216 households in TAZ 607930\n",
        "There are 256 residential units in TAZ 607930\n",
        "There are 1527 households in TAZ 701010"
       ]
      },
      {
       "output_type": "stream",
       "stream": "stdout",
       "text": [
        "\n",
        "There are 2295 residential units in TAZ 701010\n",
        "There are 438 households in TAZ 701020\n",
        "There are 626 residential units in TAZ 701020\n",
        "There are 19 households in TAZ 701030\n",
        "There are 204 residential units in TAZ 701030\n",
        "There are 14 households in TAZ 701040\n",
        "There are 74 residential units in TAZ 701040"
       ]
      },
      {
       "output_type": "stream",
       "stream": "stdout",
       "text": [
        "\n",
        "There are 374 households in TAZ 701050\n",
        "There are 409 residential units in TAZ 701050\n",
        "There are 414 households in TAZ 702010\n",
        "There are 541 residential units in TAZ 702010\n",
        "There are 372 households in TAZ 702020\n",
        "There are 387 residential units in TAZ 702020\n",
        "There are 687 households in TAZ 702030"
       ]
      },
      {
       "output_type": "stream",
       "stream": "stdout",
       "text": [
        "\n",
        "There are 805 residential units in TAZ 702030\n",
        "There are 885 households in TAZ 702040\n",
        "There are 1155 residential units in TAZ 702040\n",
        "There are 296 households in TAZ 702050\n",
        "There are 360 residential units in TAZ 702050\n",
        "There are 442 households in TAZ 702060\n",
        "There are 553 residential units in TAZ 702060"
       ]
      },
      {
       "output_type": "stream",
       "stream": "stdout",
       "text": [
        "\n",
        "There are 326 households in TAZ 702070\n",
        "There are 515 residential units in TAZ 702070\n",
        "There are 498 households in TAZ 702080\n",
        "There are 715 residential units in TAZ 702080\n",
        "There are 324 households in TAZ 702090\n",
        "There are 328 residential units in TAZ 702090\n",
        "There are 221 households in TAZ 702100"
       ]
      },
      {
       "output_type": "stream",
       "stream": "stdout",
       "text": [
        "\n",
        "There are 180 residential units in TAZ 702100\n",
        "Warning:  number of households exceeds number of resunits in TAZ 702100\n",
        "There are 41 households in TAZ 703010\n",
        "There are 20 residential units in TAZ 703010\n",
        "Warning:  number of households exceeds number of resunits in TAZ 703010\n",
        "There are 327 households in TAZ 703020\n",
        "There are 351 residential units in TAZ 703020\n",
        "There are 314 households in TAZ 703040"
       ]
      },
      {
       "output_type": "stream",
       "stream": "stdout",
       "text": [
        "\n",
        "There are 340 residential units in TAZ 703040\n",
        "There are 64 households in TAZ 703050\n",
        "There are 756 residential units in TAZ 703050\n",
        "There are 60 households in TAZ 703060\n",
        "There are 0 residential units in TAZ 703060\n",
        "Warning:  number of households exceeds number of resunits in TAZ 703060\n",
        "There are 56 households in TAZ 703080\n",
        "There are 1506 residential units in TAZ 703080"
       ]
      },
      {
       "output_type": "stream",
       "stream": "stdout",
       "text": [
        "\n",
        "There are 8 households in TAZ 703090\n",
        "There are 5 residential units in TAZ 703090\n",
        "Warning:  number of households exceeds number of resunits in TAZ 703090\n",
        "There are 77 households in TAZ 703100\n",
        "There are 536 residential units in TAZ 703100\n",
        "There are 35 households in TAZ 703110\n",
        "There are 0 residential units in TAZ 703110\n",
        "Warning:  number of households exceeds number of resunits in TAZ 703110"
       ]
      },
      {
       "output_type": "stream",
       "stream": "stdout",
       "text": [
        "\n",
        "There are 5 households in TAZ 703120\n",
        "There are 0 residential units in TAZ 703120\n",
        "Warning:  number of households exceeds number of resunits in TAZ 703120\n",
        "There are 9 households in TAZ 703130\n",
        "There are 0 residential units in TAZ 703130\n",
        "Warning:  number of households exceeds number of resunits in TAZ 703130\n",
        "There are 10 households in TAZ 703150\n",
        "There are 0 residential units in TAZ 703150\n",
        "Warning:  number of households exceeds number of resunits in TAZ 703150\n",
        "There are 69 households in TAZ 703160\n",
        "There are 1 residential units in TAZ 703160"
       ]
      },
      {
       "output_type": "stream",
       "stream": "stdout",
       "text": [
        "\n",
        "Warning:  number of households exceeds number of resunits in TAZ 703160\n",
        "There are 214 households in TAZ 703170\n",
        "There are 288 residential units in TAZ 703170\n",
        "There are 672 households in TAZ 704010\n",
        "There are 704 residential units in TAZ 704010\n",
        "There are 389 households in TAZ 704030\n",
        "There are 415 residential units in TAZ 704030\n",
        "There are 277 households in TAZ 704050"
       ]
      },
      {
       "output_type": "stream",
       "stream": "stdout",
       "text": [
        "\n",
        "There are 224 residential units in TAZ 704050\n",
        "Warning:  number of households exceeds number of resunits in TAZ 704050\n",
        "There are 764 households in TAZ 704060\n",
        "There are 719 residential units in TAZ 704060\n",
        "Warning:  number of households exceeds number of resunits in TAZ 704060\n",
        "There are 519 households in TAZ 704070\n",
        "There are 499 residential units in TAZ 704070\n",
        "Warning:  number of households exceeds number of resunits in TAZ 704070\n",
        "There are 539 households in TAZ 704080"
       ]
      },
      {
       "output_type": "stream",
       "stream": "stdout",
       "text": [
        "\n",
        "There are 508 residential units in TAZ 704080\n",
        "Warning:  number of households exceeds number of resunits in TAZ 704080\n",
        "There are 413 households in TAZ 704090\n",
        "There are 415 residential units in TAZ 704090\n",
        "There are 756 households in TAZ 704100\n",
        "There are 784 residential units in TAZ 704100\n",
        "There are 601 households in TAZ 704110\n",
        "There are 626 residential units in TAZ 704110"
       ]
      },
      {
       "output_type": "stream",
       "stream": "stdout",
       "text": [
        "\n",
        "There are 106 households in TAZ 704120\n",
        "There are 73 residential units in TAZ 704120\n",
        "Warning:  number of households exceeds number of resunits in TAZ 704120\n",
        "There are 42 households in TAZ 704130\n",
        "There are 12 residential units in TAZ 704130\n",
        "Warning:  number of households exceeds number of resunits in TAZ 704130\n",
        "There are 507 households in TAZ 704140\n",
        "There are 545 residential units in TAZ 704140\n",
        "There are 255 households in TAZ 704150"
       ]
      },
      {
       "output_type": "stream",
       "stream": "stdout",
       "text": [
        "\n",
        "There are 255 residential units in TAZ 704150\n",
        "There are 514 households in TAZ 704160\n",
        "There are 529 residential units in TAZ 704160\n",
        "There are 798 households in TAZ 704170\n",
        "There are 820 residential units in TAZ 704170\n",
        "There are 24 households in TAZ 704180\n",
        "There are 26 residential units in TAZ 704180"
       ]
      },
      {
       "output_type": "stream",
       "stream": "stdout",
       "text": [
        "\n",
        "There are 620 households in TAZ 704190\n",
        "There are 809 residential units in TAZ 704190\n",
        "There are 409 households in TAZ 704200\n",
        "There are 515 residential units in TAZ 704200\n",
        "There are 22 households in TAZ 704210\n",
        "There are 0 residential units in TAZ 704210\n",
        "Warning:  number of households exceeds number of resunits in TAZ 704210"
       ]
      },
      {
       "output_type": "stream",
       "stream": "stdout",
       "text": [
        "\n",
        "There are 368 households in TAZ 704220\n",
        "There are 405 residential units in TAZ 704220\n",
        "There are 548 households in TAZ 704230\n",
        "There are 551 residential units in TAZ 704230\n",
        "There are 3 households in TAZ 705010\n",
        "There are 36 residential units in TAZ 705010\n",
        "There are 58 households in TAZ 705020"
       ]
      },
      {
       "output_type": "stream",
       "stream": "stdout",
       "text": [
        "\n",
        "There are 247 residential units in TAZ 705020\n",
        "There are 2 households in TAZ 705030\n",
        "There are 83 residential units in TAZ 705030\n",
        "There are 67 households in TAZ 705050\n",
        "There are 71 residential units in TAZ 705050\n",
        "There are 109 households in TAZ 705060\n",
        "There are 122 residential units in TAZ 705060"
       ]
      },
      {
       "output_type": "stream",
       "stream": "stdout",
       "text": [
        "\n",
        "There are 955 households in TAZ 705070\n",
        "There are 1451 residential units in TAZ 705070\n",
        "There are 701 households in TAZ 705080\n",
        "There are 1037 residential units in TAZ 705080\n",
        "There are 464 households in TAZ 705090\n",
        "There are 760 residential units in TAZ 705090\n",
        "There are 73 households in TAZ 705100"
       ]
      },
      {
       "output_type": "stream",
       "stream": "stdout",
       "text": [
        "\n",
        "There are 7 residential units in TAZ 705100\n",
        "Warning:  number of households exceeds number of resunits in TAZ 705100\n",
        "There are 126 households in TAZ 705110\n",
        "There are 535 residential units in TAZ 705110\n",
        "There are 775 households in TAZ 705120\n",
        "There are 780 residential units in TAZ 705120\n",
        "There are 432 households in TAZ 705130\n",
        "There are 453 residential units in TAZ 705130"
       ]
      },
      {
       "output_type": "stream",
       "stream": "stdout",
       "text": [
        "\n",
        "There are 932 households in TAZ 705140\n",
        "There are 913 residential units in TAZ 705140\n",
        "Warning:  number of households exceeds number of resunits in TAZ 705140\n",
        "There are 683 households in TAZ 705150\n",
        "There are 764 residential units in TAZ 705150\n",
        "There are 948 households in TAZ 705160\n",
        "There are 1106 residential units in TAZ 705160"
       ]
      },
      {
       "output_type": "stream",
       "stream": "stdout",
       "text": [
        "\n",
        "There are 300 households in TAZ 705170\n",
        "There are 480 residential units in TAZ 705170\n",
        "There are 810 households in TAZ 705180\n",
        "There are 703 residential units in TAZ 705180\n",
        "Warning:  number of households exceeds number of resunits in TAZ 705180\n",
        "There are 284 households in TAZ 706010\n",
        "There are 621 residential units in TAZ 706010"
       ]
      },
      {
       "output_type": "stream",
       "stream": "stdout",
       "text": [
        "\n",
        "There are 41 households in TAZ 706020\n",
        "There are 15 residential units in TAZ 706020\n",
        "Warning:  number of households exceeds number of resunits in TAZ 706020\n",
        "There are 349 households in TAZ 706030\n",
        "There are 421 residential units in TAZ 706030\n",
        "There are 1 households in TAZ 706060\n",
        "There are 0 residential units in TAZ 706060\n",
        "Warning:  number of households exceeds number of resunits in TAZ 706060"
       ]
      },
      {
       "output_type": "stream",
       "stream": "stdout",
       "text": [
        "\n",
        "There are 5 households in TAZ 706080\n",
        "There are 0 residential units in TAZ 706080\n",
        "Warning:  number of households exceeds number of resunits in TAZ 706080\n",
        "There are 10 households in TAZ 706090\n",
        "There are 4 residential units in TAZ 706090\n",
        "Warning:  number of households exceeds number of resunits in TAZ 706090\n",
        "There are 117 households in TAZ 706110\n",
        "There are 7 residential units in TAZ 706110\n",
        "Warning:  number of households exceeds number of resunits in TAZ 706110\n",
        "There are 81 households in TAZ 706120"
       ]
      },
      {
       "output_type": "stream",
       "stream": "stdout",
       "text": [
        "\n",
        "There are 0 residential units in TAZ 706120\n",
        "Warning:  number of households exceeds number of resunits in TAZ 706120\n",
        "There are 185 households in TAZ 706140\n",
        "There are 0 residential units in TAZ 706140\n",
        "Warning:  number of households exceeds number of resunits in TAZ 706140\n",
        "There are 61 households in TAZ 706160\n",
        "There are 2 residential units in TAZ 706160\n",
        "Warning:  number of households exceeds number of resunits in TAZ 706160\n",
        "There are 267 households in TAZ 706170\n",
        "There are 6 residential units in TAZ 706170"
       ]
      },
      {
       "output_type": "stream",
       "stream": "stdout",
       "text": [
        "\n",
        "Warning:  number of households exceeds number of resunits in TAZ 706170\n",
        "There are 23 households in TAZ 706200\n",
        "There are 1 residential units in TAZ 706200\n",
        "Warning:  number of households exceeds number of resunits in TAZ 706200\n",
        "There are 25 households in TAZ 706210\n",
        "There are 1 residential units in TAZ 706210\n",
        "Warning:  number of households exceeds number of resunits in TAZ 706210\n",
        "There are 8 households in TAZ 706230\n",
        "There are 1 residential units in TAZ 706230\n",
        "Warning:  number of households exceeds number of resunits in TAZ 706230"
       ]
      },
      {
       "output_type": "stream",
       "stream": "stdout",
       "text": [
        "\n",
        "There are 29 households in TAZ 706240\n",
        "There are 5 residential units in TAZ 706240\n",
        "Warning:  number of households exceeds number of resunits in TAZ 706240\n",
        "There are 7 households in TAZ 706250\n",
        "There are 1 residential units in TAZ 706250\n",
        "Warning:  number of households exceeds number of resunits in TAZ 706250\n",
        "There are 89 households in TAZ 802011\n",
        "There are 227 residential units in TAZ 802011\n",
        "There are 176 households in TAZ 802012"
       ]
      },
      {
       "output_type": "stream",
       "stream": "stdout",
       "text": [
        "\n",
        "There are 186 residential units in TAZ 802012\n",
        "There are 113 households in TAZ 802013\n",
        "There are 167 residential units in TAZ 802013\n",
        "There are 154 households in TAZ 802021\n",
        "There are 185 residential units in TAZ 802021\n",
        "There are 817 households in TAZ 802022\n",
        "There are 968 residential units in TAZ 802022"
       ]
      },
      {
       "output_type": "stream",
       "stream": "stdout",
       "text": [
        "\n",
        "There are 354 households in TAZ 802023\n",
        "There are 232 residential units in TAZ 802023\n",
        "Warning:  number of households exceeds number of resunits in TAZ 802023\n",
        "There are 58 households in TAZ 802031\n",
        "There are 79 residential units in TAZ 802031\n",
        "There are 140 households in TAZ 802032\n",
        "There are 185 residential units in TAZ 802032\n",
        "There are 43 households in TAZ 802033"
       ]
      },
      {
       "output_type": "stream",
       "stream": "stdout",
       "text": [
        "\n",
        "There are 84 residential units in TAZ 802033\n",
        "There are 18 households in TAZ 802034\n",
        "There are 31 residential units in TAZ 802034\n",
        "There are 58 households in TAZ 802035\n",
        "There are 67 residential units in TAZ 802035\n",
        "There are 1500 households in TAZ 802036\n",
        "There are 1858 residential units in TAZ 802036"
       ]
      },
      {
       "output_type": "stream",
       "stream": "stdout",
       "text": [
        "\n",
        "There are 645 households in TAZ 802040\n",
        "There are 551 residential units in TAZ 802040\n",
        "Warning:  number of households exceeds number of resunits in TAZ 802040\n",
        "There are 448 households in TAZ 802050\n",
        "There are 479 residential units in TAZ 802050\n",
        "There are 45 households in TAZ 802060\n",
        "There are 8 residential units in TAZ 802060"
       ]
      },
      {
       "output_type": "stream",
       "stream": "stdout",
       "text": [
        "\n",
        "Warning:  number of households exceeds number of resunits in TAZ 802060\n",
        "There are 39 households in TAZ 802070\n",
        "There are 0 residential units in TAZ 802070\n",
        "Warning:  number of households exceeds number of resunits in TAZ 802070\n",
        "There are 135 households in TAZ 802080\n",
        "There are 47 residential units in TAZ 802080\n",
        "Warning:  number of households exceeds number of resunits in TAZ 802080\n",
        "There are 164 households in TAZ 802090\n",
        "There are 60 residential units in TAZ 802090\n",
        "Warning:  number of households exceeds number of resunits in TAZ 802090"
       ]
      },
      {
       "output_type": "stream",
       "stream": "stdout",
       "text": [
        "\n",
        "There are 109 households in TAZ 802100\n",
        "There are 94 residential units in TAZ 802100\n",
        "Warning:  number of households exceeds number of resunits in TAZ 802100\n",
        "There are 42 households in TAZ 802110\n",
        "There are 23 residential units in TAZ 802110\n",
        "Warning:  number of households exceeds number of resunits in TAZ 802110\n",
        "There are 232 households in TAZ 802120\n",
        "There are 92 residential units in TAZ 802120\n",
        "Warning:  number of households exceeds number of resunits in TAZ 802120\n",
        "There are 278 households in TAZ 802130"
       ]
      },
      {
       "output_type": "stream",
       "stream": "stdout",
       "text": [
        "\n",
        "There are 578 residential units in TAZ 802130\n",
        "There are 282 households in TAZ 802140\n",
        "There are 427 residential units in TAZ 802140\n",
        "There are 256 households in TAZ 802150\n",
        "There are 219 residential units in TAZ 802150\n",
        "Warning:  number of households exceeds number of resunits in TAZ 802150\n",
        "There are 434 households in TAZ 802160\n",
        "There are 296 residential units in TAZ 802160"
       ]
      },
      {
       "output_type": "stream",
       "stream": "stdout",
       "text": [
        "\n",
        "Warning:  number of households exceeds number of resunits in TAZ 802160\n",
        "There are 123 households in TAZ 802170\n",
        "There are 154 residential units in TAZ 802170\n",
        "There are 39 households in TAZ 802191\n",
        "There are 153 residential units in TAZ 802191\n",
        "There are 237 households in TAZ 802192\n",
        "There are 679 residential units in TAZ 802192\n",
        "There are 1087 households in TAZ 802193"
       ]
      },
      {
       "output_type": "stream",
       "stream": "stdout",
       "text": [
        "\n",
        "There are 1320 residential units in TAZ 802193\n",
        "There are 88 households in TAZ 802200\n",
        "There are 59 residential units in TAZ 802200\n",
        "Warning:  number of households exceeds number of resunits in TAZ 802200\n",
        "There are 813 households in TAZ 802210\n",
        "There are 782 residential units in TAZ 802210\n",
        "Warning:  number of households exceeds number of resunits in TAZ 802210\n",
        "There are 254 households in TAZ 802220\n",
        "There are 317 residential units in TAZ 802220"
       ]
      },
      {
       "output_type": "stream",
       "stream": "stdout",
       "text": [
        "\n",
        "There are 203 households in TAZ 802250\n",
        "There are 154 residential units in TAZ 802250\n",
        "Warning:  number of households exceeds number of resunits in TAZ 802250\n",
        "There are 79 households in TAZ 802260\n",
        "There are 40 residential units in TAZ 802260\n",
        "Warning:  number of households exceeds number of resunits in TAZ 802260\n",
        "There are 211 households in TAZ 802270\n",
        "There are 24 residential units in TAZ 802270\n",
        "Warning:  number of households exceeds number of resunits in TAZ 802270"
       ]
      },
      {
       "output_type": "stream",
       "stream": "stdout",
       "text": [
        "\n",
        "There are 63 households in TAZ 802290\n",
        "There are 19 residential units in TAZ 802290\n",
        "Warning:  number of households exceeds number of resunits in TAZ 802290\n",
        "There are 67 households in TAZ 802300\n",
        "There are 1 residential units in TAZ 802300\n",
        "Warning:  number of households exceeds number of resunits in TAZ 802300\n",
        "There are 161 households in TAZ 802310\n",
        "There are 151 residential units in TAZ 802310\n",
        "Warning:  number of households exceeds number of resunits in TAZ 802310\n",
        "There are 49 households in TAZ 802321"
       ]
      },
      {
       "output_type": "stream",
       "stream": "stdout",
       "text": [
        "\n",
        "There are 194 residential units in TAZ 802321\n",
        "There are 182 households in TAZ 802322\n",
        "There are 42 residential units in TAZ 802322\n",
        "Warning:  number of households exceeds number of resunits in TAZ 802322\n",
        "There are 38 households in TAZ 802323\n",
        "There are 7 residential units in TAZ 802323\n",
        "Warning:  number of households exceeds number of resunits in TAZ 802323\n",
        "There are 409 households in TAZ 802330\n",
        "There are 1179 residential units in TAZ 802330"
       ]
      },
      {
       "output_type": "stream",
       "stream": "stdout",
       "text": [
        "\n",
        "There are 434 households in TAZ 802340\n",
        "There are 132 residential units in TAZ 802340\n",
        "Warning:  number of households exceeds number of resunits in TAZ 802340\n",
        "There are 164 households in TAZ 802350\n",
        "There are 2 residential units in TAZ 802350\n",
        "Warning:  number of households exceeds number of resunits in TAZ 802350\n",
        "There are 37 households in TAZ 802360\n",
        "There are 0 residential units in TAZ 802360\n",
        "Warning:  number of households exceeds number of resunits in TAZ 802360"
       ]
      },
      {
       "output_type": "stream",
       "stream": "stdout",
       "text": [
        "\n",
        "There are 192 households in TAZ 802370\n",
        "There are 1188 residential units in TAZ 802370\n",
        "There are 146 households in TAZ 802380\n",
        "There are 1 residential units in TAZ 802380\n",
        "Warning:  number of households exceeds number of resunits in TAZ 802380\n",
        "There are 136 households in TAZ 802390\n",
        "There are 51 residential units in TAZ 802390\n",
        "Warning:  number of households exceeds number of resunits in TAZ 802390\n",
        "There are 223 households in TAZ 802400"
       ]
      },
      {
       "output_type": "stream",
       "stream": "stdout",
       "text": [
        "\n",
        "There are 89 residential units in TAZ 802400\n",
        "Warning:  number of households exceeds number of resunits in TAZ 802400\n",
        "There are 188 households in TAZ 802410\n",
        "There are 755 residential units in TAZ 802410\n",
        "There are 90 households in TAZ 802420\n",
        "There are 33 residential units in TAZ 802420\n",
        "Warning:  number of households exceeds number of resunits in TAZ 802420\n",
        "There are 206 households in TAZ 802430\n",
        "There are 88 residential units in TAZ 802430"
       ]
      },
      {
       "output_type": "stream",
       "stream": "stdout",
       "text": [
        "\n",
        "Warning:  number of households exceeds number of resunits in TAZ 802430\n",
        "There are 1381 households in TAZ 802441\n",
        "There are 1257 residential units in TAZ 802441\n",
        "Warning:  number of households exceeds number of resunits in TAZ 802441\n",
        "There are 39 households in TAZ 802442\n",
        "There are 67 residential units in TAZ 802442\n",
        "There are 1423 households in TAZ 802451\n",
        "There are 2114 residential units in TAZ 802451"
       ]
      },
      {
       "output_type": "stream",
       "stream": "stdout",
       "text": [
        "\n",
        "There are 695 households in TAZ 802452\n",
        "There are 697 residential units in TAZ 802452\n",
        "There are 1119 households in TAZ 802453\n",
        "There are 1435 residential units in TAZ 802453\n",
        "There are 312 households in TAZ 802460\n",
        "There are 148 residential units in TAZ 802460"
       ]
      },
      {
       "output_type": "stream",
       "stream": "stdout",
       "text": [
        "\n",
        "Warning:  number of households exceeds number of resunits in TAZ 802460\n",
        "There are 273 households in TAZ 802470\n",
        "There are 847 residential units in TAZ 802470\n",
        "There are 373 households in TAZ 802480\n",
        "There are 356 residential units in TAZ 802480\n",
        "Warning:  number of households exceeds number of resunits in TAZ 802480\n",
        "There are 368 households in TAZ 802490\n",
        "There are 490 residential units in TAZ 802490\n",
        "There are 274 households in TAZ 802501"
       ]
      },
      {
       "output_type": "stream",
       "stream": "stdout",
       "text": [
        "\n",
        "There are 753 residential units in TAZ 802501\n",
        "There are 615 households in TAZ 802502\n",
        "There are 1759 residential units in TAZ 802502\n",
        "There are 903 households in TAZ 802510\n",
        "There are 678 residential units in TAZ 802510\n",
        "Warning:  number of households exceeds number of resunits in TAZ 802510\n",
        "There are 1914 households in TAZ 802520\n",
        "There are 2252 residential units in TAZ 802520"
       ]
      },
      {
       "output_type": "stream",
       "stream": "stdout",
       "text": [
        "\n",
        "There are 831 households in TAZ 802530\n",
        "There are 459 residential units in TAZ 802530\n",
        "Warning:  number of households exceeds number of resunits in TAZ 802530\n",
        "There are 710 households in TAZ 802540\n",
        "There are 804 residential units in TAZ 802540\n",
        "There are 638 households in TAZ 802550\n",
        "There are 918 residential units in TAZ 802550"
       ]
      },
      {
       "output_type": "stream",
       "stream": "stdout",
       "text": [
        "\n",
        "There are 49 households in TAZ 803040\n",
        "There are 83 residential units in TAZ 803040\n",
        "There are 786 households in TAZ 803050\n",
        "There are 1017 residential units in TAZ 803050\n",
        "There are 652 households in TAZ 803060\n",
        "There are 621 residential units in TAZ 803060"
       ]
      },
      {
       "output_type": "stream",
       "stream": "stdout",
       "text": [
        "\n",
        "Warning:  number of households exceeds number of resunits in TAZ 803060\n",
        "There are 1205 households in TAZ 803070\n",
        "There are 1086 residential units in TAZ 803070\n",
        "Warning:  number of households exceeds number of resunits in TAZ 803070\n",
        "There are 1490 households in TAZ 803080\n",
        "There are 1541 residential units in TAZ 803080\n",
        "There are 582 households in TAZ 803090\n",
        "There are 590 residential units in TAZ 803090"
       ]
      },
      {
       "output_type": "stream",
       "stream": "stdout",
       "text": [
        "\n",
        "There are 1099 households in TAZ 803100\n",
        "There are 1326 residential units in TAZ 803100\n",
        "There are 247 households in TAZ 803110\n",
        "There are 428 residential units in TAZ 803110\n",
        "There are 464 households in TAZ 803120\n",
        "There are 271 residential units in TAZ 803120\n",
        "Warning:  number of households exceeds number of resunits in TAZ 803120"
       ]
      },
      {
       "output_type": "stream",
       "stream": "stdout",
       "text": [
        "\n"
       ]
      }
     ],
     "prompt_number": 9
    },
    {
     "cell_type": "code",
     "collapsed": false,
     "input": [
      "import os\n",
      "from synthicity.utils import misc\n",
      "from drcog.models import dataset\n",
      "dset = dataset.DRCOGDataset(os.path.join(misc.data_dir(),'drcog.h5'))\n",
      "p = dset.parcels.set_index('parcel_id')\n",
      "z = dset.zones\n",
      "p['taz'] = z.external_zone_id[p.zone_id].values\n",
      "b = dset.buildings\n",
      "b['arbitrary'] = 20 + 5*b.residential_units\n",
      "h = dset.households\n",
      "hb = pd.merge(h,b,left_on='building_id',right_index=True)\n",
      "hbp = pd.merge(hb,p,left_on='parcel_id',right_index=True)\n",
      "bp = pd.merge(b,p,left_on='parcel_id',right_index=True)\n",
      "taz_hh_counts = hbp.groupby('taz').size()"
     ],
     "language": "python",
     "metadata": {},
     "outputs": [
      {
       "output_type": "stream",
       "stream": "stdout",
       "text": [
        "Fetching parcels\n",
        "Fetching modify_table"
       ]
      },
      {
       "output_type": "stream",
       "stream": "stdout",
       "text": [
        "\n",
        "Fetching zones"
       ]
      },
      {
       "output_type": "stream",
       "stream": "stdout",
       "text": [
        "\n",
        "Fetching modify_table\n",
        "Fetching buildings\n",
        "Fetching establishments"
       ]
      },
      {
       "output_type": "stream",
       "stream": "stdout",
       "text": [
        "\n",
        "Fetching modify_table\n",
        "Fetching modify_table"
       ]
      },
      {
       "output_type": "stream",
       "stream": "stdout",
       "text": [
        "\n",
        "Fetching households\n",
        "Fetching modify_table\n"
       ]
      }
     ],
     "prompt_number": 10
    },
    {
     "cell_type": "code",
     "collapsed": false,
     "input": [
      "households_urbansim[households_urbansim.building_id.isnull()]"
     ],
     "language": "python",
     "metadata": {},
     "outputs": [
      {
       "html": [
        "<pre>\n",
        "&lt;class 'pandas.core.frame.DataFrame'&gt;\n",
        "Int64Index: 80152 entries, 459108 to 1156291\n",
        "Data columns (total 10 columns):\n",
        "age_of_head    80152  non-null values\n",
        "cars           80152  non-null values\n",
        "children       80152  non-null values\n",
        "income         80152  non-null values\n",
        "persons        80152  non-null values\n",
        "tenure         80152  non-null values\n",
        "workers        80152  non-null values\n",
        "serialno       80152  non-null values\n",
        "taz            80152  non-null values\n",
        "building_id    0  non-null values\n",
        "dtypes: float64(2), int32(3), int64(5)\n",
        "</pre>"
       ],
       "metadata": {},
       "output_type": "pyout",
       "prompt_number": 11,
       "text": [
        "<class 'pandas.core.frame.DataFrame'>\n",
        "Int64Index: 80152 entries, 459108 to 1156291\n",
        "Data columns (total 10 columns):\n",
        "age_of_head    80152  non-null values\n",
        "cars           80152  non-null values\n",
        "children       80152  non-null values\n",
        "income         80152  non-null values\n",
        "persons        80152  non-null values\n",
        "tenure         80152  non-null values\n",
        "workers        80152  non-null values\n",
        "serialno       80152  non-null values\n",
        "taz            80152  non-null values\n",
        "building_id    0  non-null values\n",
        "dtypes: float64(2), int32(3), int64(5)"
       ]
      }
     ],
     "prompt_number": 11
    },
    {
     "cell_type": "code",
     "collapsed": false,
     "input": [
      "empty_units = b[(b.arbitrary>0)].arbitrary\n",
      "empty_units = empty_units[empty_units>0].order(ascending=False)\n",
      "alternatives = bp[['building_type_id','parcel_id','unit_price_residential','taz']]\n",
      "alternatives = alternatives.ix[np.repeat(empty_units.index,empty_units.values.astype('int'))]"
     ],
     "language": "python",
     "metadata": {},
     "outputs": [],
     "prompt_number": 12
    },
    {
     "cell_type": "code",
     "collapsed": false,
     "input": [
      "for taz in np.unique(households_urbansim.taz):\n",
      "    chooser_ids = households_urbansim.index.values[(households_urbansim.taz==taz)*(households_urbansim.building_id.isnull())]\n",
      "    print 'There are %s households in TAZ %s' % (len(chooser_ids), taz)\n",
      "    if len(chooser_ids) > 0:\n",
      "        alts = alternatives[alternatives.taz==taz]\n",
      "        alternative_ids = alts.index.values\n",
      "        probabilities = np.ones(len(alternative_ids))\n",
      "        num_resunits = len(alts)\n",
      "        print 'There are %s residential units in TAZ %s' % (num_resunits, taz)\n",
      "        choices = unit_choice(chooser_ids,alternative_ids,probabilities)\n",
      "        #households_urbansim.building_id[np.in1d(households_urbansim.index.values,chooser_ids)] = choices.values\n",
      "        households_urbansim.loc[chooser_ids,'building_id'] = choices\n",
      "        if taz == 101020:\n",
      "            print choices\n",
      "        if num_hh > num_resunits:\n",
      "            print 'Warning:  number of households exceeds number of resunits in TAZ %s' % taz"
     ],
     "language": "python",
     "metadata": {},
     "outputs": [
      {
       "output_type": "stream",
       "stream": "stdout",
       "text": [
        "There are 0 households in TAZ 101020\n",
        "There are 0 households in TAZ 101030\n",
        "There are 0 households in TAZ 101040\n",
        "There are 0 households in TAZ 101050\n",
        "There are 0 households in TAZ 101060\n",
        "There are 0 households in TAZ 101070\n",
        "There are 0 households in TAZ 101080\n",
        "There are 0 households in TAZ 101090\n",
        "There are 0 households in TAZ 101100"
       ]
      },
      {
       "output_type": "stream",
       "stream": "stdout",
       "text": [
        "\n",
        "There are 0 households in TAZ 101110\n",
        "There are 64 households in TAZ 101120\n",
        "There are 23575 residential units in TAZ 101120"
       ]
      },
      {
       "output_type": "stream",
       "stream": "stdout",
       "text": [
        "\n",
        "There are 0 households in TAZ 101130\n",
        "There are 0 households in TAZ 102010\n",
        "There are 0 households in TAZ 102020\n",
        "There are 0 households in TAZ 102030\n",
        "There are 0 households in TAZ 102040\n",
        "There are 0 households in TAZ 102050\n",
        "There are 10 households in TAZ 102060"
       ]
      },
      {
       "output_type": "stream",
       "stream": "stdout",
       "text": [
        "\n",
        "There are 2675 residential units in TAZ 102060"
       ]
      },
      {
       "output_type": "stream",
       "stream": "stdout",
       "text": [
        "\n",
        "There are 0 households in TAZ 102070\n",
        "There are 5 households in TAZ 102080\n",
        "There are 4895 residential units in TAZ 102080"
       ]
      },
      {
       "output_type": "stream",
       "stream": "stdout",
       "text": [
        "\n",
        "There are 0 households in TAZ 102090\n",
        "There are 0 households in TAZ 102100\n",
        "There are 0 households in TAZ 102110\n",
        "There are 0 households in TAZ 102120\n",
        "There are 0 households in TAZ 102130\n",
        "There are 0 households in TAZ 102140\n",
        "There are 0 households in TAZ 102150\n",
        "There are 0 households in TAZ 102160"
       ]
      },
      {
       "output_type": "stream",
       "stream": "stdout",
       "text": [
        "\n",
        "There are 0 households in TAZ 102170\n",
        "There are 0 households in TAZ 102180\n",
        "There are 0 households in TAZ 102190\n",
        "There are 4 households in TAZ 102200\n",
        "There are 760 residential units in TAZ 102200"
       ]
      },
      {
       "output_type": "stream",
       "stream": "stdout",
       "text": [
        "\n",
        "There are 0 households in TAZ 102210\n",
        "There are 0 households in TAZ 102220\n",
        "There are 8 households in TAZ 102230\n",
        "There are 1155 residential units in TAZ 102230"
       ]
      },
      {
       "output_type": "stream",
       "stream": "stdout",
       "text": [
        "\n",
        "There are 4 households in TAZ 102240\n",
        "There are 160 residential units in TAZ 102240"
       ]
      },
      {
       "output_type": "stream",
       "stream": "stdout",
       "text": [
        "\n",
        "Warning:  number of households exceeds number of resunits in TAZ 102240\n",
        "There are 1 households in TAZ 102250\n",
        "There are 265 residential units in TAZ 102250"
       ]
      },
      {
       "output_type": "stream",
       "stream": "stdout",
       "text": [
        "\n",
        "Warning:  number of households exceeds number of resunits in TAZ 102250\n",
        "There are 0 households in TAZ 102270\n",
        "There are 0 households in TAZ 102280\n",
        "There are 0 households in TAZ 102290\n",
        "There are 83 households in TAZ 102300\n",
        "There are 15030 residential units in TAZ 102300"
       ]
      },
      {
       "output_type": "stream",
       "stream": "stdout",
       "text": [
        "\n",
        "There are 0 households in TAZ 102310\n",
        "There are 0 households in TAZ 102320\n",
        "There are 8 households in TAZ 102330\n",
        "There are 1640 residential units in TAZ 102330"
       ]
      },
      {
       "output_type": "stream",
       "stream": "stdout",
       "text": [
        "\n",
        "There are 0 households in TAZ 102340\n",
        "There are 0 households in TAZ 102350\n",
        "There are 0 households in TAZ 102360\n",
        "There are 0 households in TAZ 102370\n",
        "There are 4 households in TAZ 102390\n",
        "There are 420 residential units in TAZ 102390"
       ]
      },
      {
       "output_type": "stream",
       "stream": "stdout",
       "text": [
        "\n",
        "Warning:  number of households exceeds number of resunits in TAZ 102390\n",
        "There are 19 households in TAZ 102400\n",
        "There are 3520 residential units in TAZ 102400"
       ]
      },
      {
       "output_type": "stream",
       "stream": "stdout",
       "text": [
        "\n",
        "There are 1 households in TAZ 102410\n",
        "There are 1005 residential units in TAZ 102410"
       ]
      },
      {
       "output_type": "stream",
       "stream": "stdout",
       "text": [
        "\n",
        "There are 0 households in TAZ 102420\n",
        "There are 4 households in TAZ 102440\n",
        "There are 1675 residential units in TAZ 102440"
       ]
      },
      {
       "output_type": "stream",
       "stream": "stdout",
       "text": [
        "\n",
        "There are 125 households in TAZ 102450\n",
        "There are 11630 residential units in TAZ 102450"
       ]
      },
      {
       "output_type": "stream",
       "stream": "stdout",
       "text": [
        "\n",
        "There are 34 households in TAZ 102460\n",
        "There are 2270 residential units in TAZ 102460"
       ]
      },
      {
       "output_type": "stream",
       "stream": "stdout",
       "text": [
        "\n",
        "There are 0 households in TAZ 102470\n",
        "There are 21 households in TAZ 102480\n",
        "There are 9825 residential units in TAZ 102480"
       ]
      },
      {
       "output_type": "stream",
       "stream": "stdout",
       "text": [
        "\n",
        "There are 0 households in TAZ 102490\n",
        "There are 0 households in TAZ 102500\n",
        "There are 0 households in TAZ 102510\n",
        "There are 2 households in TAZ 102520\n",
        "There are 335 residential units in TAZ 102520"
       ]
      },
      {
       "output_type": "stream",
       "stream": "stdout",
       "text": [
        "\n",
        "Warning:  number of households exceeds number of resunits in TAZ 102520\n",
        "There are 35 households in TAZ 102530\n",
        "There are 970 residential units in TAZ 102530"
       ]
      },
      {
       "output_type": "stream",
       "stream": "stdout",
       "text": [
        "\n",
        "There are 0 households in TAZ 102540\n",
        "There are 0 households in TAZ 102550\n",
        "There are 0 households in TAZ 102560\n",
        "There are 69 households in TAZ 102570\n",
        "There are 8415 residential units in TAZ 102570"
       ]
      },
      {
       "output_type": "stream",
       "stream": "stdout",
       "text": [
        "\n",
        "There are 0 households in TAZ 102580\n",
        "There are 0 households in TAZ 102590\n",
        "There are 0 households in TAZ 102600\n",
        "There are 0 households in TAZ 102610\n",
        "There are 0 households in TAZ 102620\n",
        "There are 0 households in TAZ 102630\n",
        "There are 31 households in TAZ 102640"
       ]
      },
      {
       "output_type": "stream",
       "stream": "stdout",
       "text": [
        "\n",
        "There are 40 residential units in TAZ 102640"
       ]
      },
      {
       "output_type": "stream",
       "stream": "stdout",
       "text": [
        "\n",
        "Warning:  number of households exceeds number of resunits in TAZ 102640\n",
        "There are 102 households in TAZ 102650\n",
        "There are 12165 residential units in TAZ 102650"
       ]
      },
      {
       "output_type": "stream",
       "stream": "stdout",
       "text": [
        "\n",
        "There are 0 households in TAZ 102660\n",
        "There are 0 households in TAZ 102670\n",
        "There are 12 households in TAZ 102680\n",
        "There are 860 residential units in TAZ 102680"
       ]
      },
      {
       "output_type": "stream",
       "stream": "stdout",
       "text": [
        "\n",
        "There are 0 households in TAZ 102690\n",
        "There are 0 households in TAZ 102700\n",
        "There are 0 households in TAZ 102710\n",
        "There are 0 households in TAZ 102720\n",
        "There are 0 households in TAZ 102730\n",
        "There are 0 households in TAZ 102740\n",
        "There are 0 households in TAZ 102750\n",
        "There are 1 households in TAZ 102760"
       ]
      },
      {
       "output_type": "stream",
       "stream": "stdout",
       "text": [
        "\n",
        "There are 435 residential units in TAZ 102760"
       ]
      },
      {
       "output_type": "stream",
       "stream": "stdout",
       "text": [
        "\n",
        "Warning:  number of households exceeds number of resunits in TAZ 102760\n",
        "There are 123 households in TAZ 102770\n",
        "There are 5510 residential units in TAZ 102770"
       ]
      },
      {
       "output_type": "stream",
       "stream": "stdout",
       "text": [
        "\n",
        "There are 0 households in TAZ 102780\n",
        "There are 0 households in TAZ 102790\n",
        "There are 17 households in TAZ 102800\n",
        "There are 11865 residential units in TAZ 102800"
       ]
      },
      {
       "output_type": "stream",
       "stream": "stdout",
       "text": [
        "\n",
        "There are 0 households in TAZ 102810\n",
        "There are 0 households in TAZ 102820\n",
        "There are 47 households in TAZ 102830\n",
        "There are 8990 residential units in TAZ 102830"
       ]
      },
      {
       "output_type": "stream",
       "stream": "stdout",
       "text": [
        "\n",
        "There are 0 households in TAZ 102840\n",
        "There are 4 households in TAZ 102850\n",
        "There are 2555 residential units in TAZ 102850"
       ]
      },
      {
       "output_type": "stream",
       "stream": "stdout",
       "text": [
        "\n",
        "There are 0 households in TAZ 102860\n",
        "There are 14 households in TAZ 102890\n",
        "There are 1505 residential units in TAZ 102890"
       ]
      },
      {
       "output_type": "stream",
       "stream": "stdout",
       "text": [
        "\n",
        "There are 0 households in TAZ 103010\n",
        "There are 0 households in TAZ 103020\n",
        "There are 0 households in TAZ 103030\n",
        "There are 0 households in TAZ 103040\n",
        "There are 5 households in TAZ 103050\n",
        "There are 645 residential units in TAZ 103050"
       ]
      },
      {
       "output_type": "stream",
       "stream": "stdout",
       "text": [
        "\n",
        "There are 155 households in TAZ 103060\n",
        "There are 4475 residential units in TAZ 103060"
       ]
      },
      {
       "output_type": "stream",
       "stream": "stdout",
       "text": [
        "\n",
        "There are 0 households in TAZ 103070\n",
        "There are 0 households in TAZ 103080\n",
        "There are 0 households in TAZ 103090\n",
        "There are 0 households in TAZ 103100\n",
        "There are 0 households in TAZ 103110\n",
        "There are 0 households in TAZ 103120\n",
        "There are 0 households in TAZ 103130\n",
        "There are 0 households in TAZ 103140"
       ]
      },
      {
       "output_type": "stream",
       "stream": "stdout",
       "text": [
        "\n",
        "There are 0 households in TAZ 103150\n",
        "There are 41 households in TAZ 103160\n",
        "There are 975 residential units in TAZ 103160"
       ]
      },
      {
       "output_type": "stream",
       "stream": "stdout",
       "text": [
        "\n",
        "There are 0 households in TAZ 103170\n",
        "There are 101 households in TAZ 103180\n",
        "There are 7950 residential units in TAZ 103180"
       ]
      },
      {
       "output_type": "stream",
       "stream": "stdout",
       "text": [
        "\n",
        "There are 0 households in TAZ 103190\n",
        "There are 0 households in TAZ 103200\n",
        "There are 0 households in TAZ 103210\n",
        "There are 56 households in TAZ 103220\n",
        "There are 6700 residential units in TAZ 103220"
       ]
      },
      {
       "output_type": "stream",
       "stream": "stdout",
       "text": [
        "\n",
        "There are 37 households in TAZ 103230\n",
        "There are 11485 residential units in TAZ 103230"
       ]
      },
      {
       "output_type": "stream",
       "stream": "stdout",
       "text": [
        "\n",
        "There are 0 households in TAZ 103240\n",
        "There are 12 households in TAZ 103250\n",
        "There are 5335 residential units in TAZ 103250"
       ]
      },
      {
       "output_type": "stream",
       "stream": "stdout",
       "text": [
        "\n",
        "There are 94 households in TAZ 103260\n",
        "There are 15245 residential units in TAZ 103260"
       ]
      },
      {
       "output_type": "stream",
       "stream": "stdout",
       "text": [
        "\n",
        "There are 0 households in TAZ 103270\n",
        "There are 2 households in TAZ 103280\n",
        "There are 18480 residential units in TAZ 103280"
       ]
      },
      {
       "output_type": "stream",
       "stream": "stdout",
       "text": [
        "\n",
        "There are 5 households in TAZ 103290\n",
        "There are 6950 residential units in TAZ 103290"
       ]
      },
      {
       "output_type": "stream",
       "stream": "stdout",
       "text": [
        "\n",
        "There are 0 households in TAZ 103300\n",
        "There are 0 households in TAZ 103310\n",
        "There are 73 households in TAZ 103320\n",
        "There are 2460 residential units in TAZ 103320"
       ]
      },
      {
       "output_type": "stream",
       "stream": "stdout",
       "text": [
        "\n",
        "There are 3 households in TAZ 103330\n",
        "There are 1335 residential units in TAZ 103330"
       ]
      },
      {
       "output_type": "stream",
       "stream": "stdout",
       "text": [
        "\n",
        "There are 11 households in TAZ 103340\n",
        "There are 40 residential units in TAZ 103340"
       ]
      },
      {
       "output_type": "stream",
       "stream": "stdout",
       "text": [
        "\n",
        "Warning:  number of households exceeds number of resunits in TAZ 103340\n",
        "There are 0 households in TAZ 103350\n",
        "There are 0 households in TAZ 103360\n",
        "There are 0 households in TAZ 103370\n",
        "There are 0 households in TAZ 103380\n",
        "There are 44 households in TAZ 103390"
       ]
      },
      {
       "output_type": "stream",
       "stream": "stdout",
       "text": [
        "\n",
        "There are 385 residential units in TAZ 103390"
       ]
      },
      {
       "output_type": "stream",
       "stream": "stdout",
       "text": [
        "\n",
        "Warning:  number of households exceeds number of resunits in TAZ 103390\n",
        "There are 14 households in TAZ 103400\n",
        "There are 995 residential units in TAZ 103400"
       ]
      },
      {
       "output_type": "stream",
       "stream": "stdout",
       "text": [
        "\n",
        "There are 0 households in TAZ 103410\n",
        "There are 4 households in TAZ 103420\n",
        "There are 130 residential units in TAZ 103420"
       ]
      },
      {
       "output_type": "stream",
       "stream": "stdout",
       "text": [
        "\n",
        "Warning:  number of households exceeds number of resunits in TAZ 103420\n",
        "There are 0 households in TAZ 103430\n",
        "There are 0 households in TAZ 103440\n",
        "There are 0 households in TAZ 103450\n",
        "There are 0 households in TAZ 103460\n",
        "There are 0 households in TAZ 103470\n",
        "There are 0 households in TAZ 103480\n",
        "There are 0 households in TAZ 103490\n",
        "There are 0 households in TAZ 103500"
       ]
      },
      {
       "output_type": "stream",
       "stream": "stdout",
       "text": [
        "\n",
        "There are 0 households in TAZ 103510\n",
        "There are 5 households in TAZ 103520\n",
        "There are 345 residential units in TAZ 103520"
       ]
      },
      {
       "output_type": "stream",
       "stream": "stdout",
       "text": [
        "\n",
        "Warning:  number of households exceeds number of resunits in TAZ 103520\n",
        "There are 28 households in TAZ 103530\n",
        "There are 3900 residential units in TAZ 103530"
       ]
      },
      {
       "output_type": "stream",
       "stream": "stdout",
       "text": [
        "\n",
        "There are 3 households in TAZ 103540\n",
        "There are 945 residential units in TAZ 103540"
       ]
      },
      {
       "output_type": "stream",
       "stream": "stdout",
       "text": [
        "\n",
        "There are 0 households in TAZ 104010\n",
        "There are 0 households in TAZ 104020\n",
        "There are 0 households in TAZ 104030\n",
        "There are 0 households in TAZ 104040\n",
        "There are 0 households in TAZ 104050\n",
        "There are 0 households in TAZ 104060\n",
        "There are 0 households in TAZ 104070\n",
        "There are 48 households in TAZ 104080"
       ]
      },
      {
       "output_type": "stream",
       "stream": "stdout",
       "text": [
        "\n",
        "There are 18020 residential units in TAZ 104080"
       ]
      },
      {
       "output_type": "stream",
       "stream": "stdout",
       "text": [
        "\n",
        "There are 0 households in TAZ 104090\n",
        "There are 0 households in TAZ 104100\n",
        "There are 2 households in TAZ 104110\n",
        "There are 470 residential units in TAZ 104110"
       ]
      },
      {
       "output_type": "stream",
       "stream": "stdout",
       "text": [
        "\n",
        "There are 0 households in TAZ 104120\n",
        "There are 0 households in TAZ 104130\n",
        "There are 0 households in TAZ 104140\n",
        "There are 0 households in TAZ 104150\n",
        "There are 0 households in TAZ 104160\n",
        "There are 18 households in TAZ 104170\n",
        "There are 19485 residential units in TAZ 104170"
       ]
      },
      {
       "output_type": "stream",
       "stream": "stdout",
       "text": [
        "\n",
        "There are 0 households in TAZ 104180\n",
        "There are 0 households in TAZ 104190\n",
        "There are 59 households in TAZ 104200\n",
        "There are 14510 residential units in TAZ 104200"
       ]
      },
      {
       "output_type": "stream",
       "stream": "stdout",
       "text": [
        "\n",
        "There are 0 households in TAZ 104210\n",
        "There are 0 households in TAZ 104220\n",
        "There are 5 households in TAZ 104230\n",
        "There are 3920 residential units in TAZ 104230"
       ]
      },
      {
       "output_type": "stream",
       "stream": "stdout",
       "text": [
        "\n",
        "There are 0 households in TAZ 104240\n",
        "There are 0 households in TAZ 104250\n",
        "There are 17 households in TAZ 104260\n",
        "There are 4450 residential units in TAZ 104260"
       ]
      },
      {
       "output_type": "stream",
       "stream": "stdout",
       "text": [
        "\n",
        "There are 27 households in TAZ 104280\n",
        "There are 11510 residential units in TAZ 104280"
       ]
      },
      {
       "output_type": "stream",
       "stream": "stdout",
       "text": [
        "\n",
        "There are 0 households in TAZ 104290\n",
        "There are 0 households in TAZ 104300\n",
        "There are 6 households in TAZ 104310\n",
        "There are 2745 residential units in TAZ 104310"
       ]
      },
      {
       "output_type": "stream",
       "stream": "stdout",
       "text": [
        "\n",
        "There are 0 households in TAZ 104320\n",
        "There are 0 households in TAZ 104330\n",
        "There are 0 households in TAZ 104340\n",
        "There are 0 households in TAZ 104350\n",
        "There are 1 households in TAZ 104360\n",
        "There are 1655 residential units in TAZ 104360"
       ]
      },
      {
       "output_type": "stream",
       "stream": "stdout",
       "text": [
        "\n",
        "There are 4 households in TAZ 104370\n",
        "There are 920 residential units in TAZ 104370"
       ]
      },
      {
       "output_type": "stream",
       "stream": "stdout",
       "text": [
        "\n",
        "There are 115 households in TAZ 104380\n",
        "There are 2800 residential units in TAZ 104380"
       ]
      },
      {
       "output_type": "stream",
       "stream": "stdout",
       "text": [
        "\n",
        "There are 29 households in TAZ 104390\n",
        "There are 14100 residential units in TAZ 104390"
       ]
      },
      {
       "output_type": "stream",
       "stream": "stdout",
       "text": [
        "\n",
        "There are 0 households in TAZ 104400\n",
        "There are 0 households in TAZ 104410\n",
        "There are 236 households in TAZ 104420\n",
        "There are 13930 residential units in TAZ 104420"
       ]
      },
      {
       "output_type": "stream",
       "stream": "stdout",
       "text": [
        "\n",
        "There are 218 households in TAZ 104430\n",
        "There are 440 residential units in TAZ 104430"
       ]
      },
      {
       "output_type": "stream",
       "stream": "stdout",
       "text": [
        "\n",
        "Warning:  number of households exceeds number of resunits in TAZ 104430\n",
        "There are 0 households in TAZ 104440\n",
        "There are 0 households in TAZ 104450\n",
        "There are 0 households in TAZ 105010\n",
        "There are 0 households in TAZ 105020\n",
        "There are 0 households in TAZ 105030\n",
        "There are 0 households in TAZ 105040\n",
        "There are 0 households in TAZ 105050\n",
        "There are 0 households in TAZ 105060"
       ]
      },
      {
       "output_type": "stream",
       "stream": "stdout",
       "text": [
        "\n",
        "There are 0 households in TAZ 105070\n",
        "There are 0 households in TAZ 105080\n",
        "There are 0 households in TAZ 105090\n",
        "There are 0 households in TAZ 105100\n",
        "There are 87 households in TAZ 105110\n",
        "There are 15365 residential units in TAZ 105110"
       ]
      },
      {
       "output_type": "stream",
       "stream": "stdout",
       "text": [
        "\n",
        "There are 0 households in TAZ 105120\n",
        "There are 36 households in TAZ 105130\n",
        "There are 11435 residential units in TAZ 105130"
       ]
      },
      {
       "output_type": "stream",
       "stream": "stdout",
       "text": [
        "\n",
        "There are 0 households in TAZ 105140\n",
        "There are 2 households in TAZ 105150\n",
        "There are 915 residential units in TAZ 105150"
       ]
      },
      {
       "output_type": "stream",
       "stream": "stdout",
       "text": [
        "\n",
        "There are 0 households in TAZ 105160\n",
        "There are 0 households in TAZ 105170\n",
        "There are 0 households in TAZ 105180\n",
        "There are 24 households in TAZ 105190\n",
        "There are 14745 residential units in TAZ 105190"
       ]
      },
      {
       "output_type": "stream",
       "stream": "stdout",
       "text": [
        "\n",
        "There are 0 households in TAZ 105200\n",
        "There are 57 households in TAZ 105210\n",
        "There are 14420 residential units in TAZ 105210"
       ]
      },
      {
       "output_type": "stream",
       "stream": "stdout",
       "text": [
        "\n",
        "There are 0 households in TAZ 105220\n",
        "There are 0 households in TAZ 105230\n",
        "There are 0 households in TAZ 105240\n",
        "There are 0 households in TAZ 105250\n",
        "There are 0 households in TAZ 105260\n",
        "There are 0 households in TAZ 105270\n",
        "There are 0 households in TAZ 105280"
       ]
      },
      {
       "output_type": "stream",
       "stream": "stdout",
       "text": [
        "\n",
        "There are 0 households in TAZ 105290\n",
        "There are 0 households in TAZ 105300\n",
        "There are 0 households in TAZ 105310\n",
        "There are 0 households in TAZ 105320\n",
        "There are 0 households in TAZ 105330\n",
        "There are 0 households in TAZ 105340\n",
        "There are 0 households in TAZ 105350\n",
        "There are 0 households in TAZ 105360"
       ]
      },
      {
       "output_type": "stream",
       "stream": "stdout",
       "text": [
        "\n",
        "There are 0 households in TAZ 105370\n",
        "There are 0 households in TAZ 105380\n",
        "There are 57 households in TAZ 105390\n",
        "There are 16650 residential units in TAZ 105390"
       ]
      },
      {
       "output_type": "stream",
       "stream": "stdout",
       "text": [
        "\n",
        "There are 63 households in TAZ 105400\n",
        "There are 13720 residential units in TAZ 105400"
       ]
      },
      {
       "output_type": "stream",
       "stream": "stdout",
       "text": [
        "\n",
        "There are 0 households in TAZ 105410\n",
        "There are 21 households in TAZ 105420\n",
        "There are 15360 residential units in TAZ 105420"
       ]
      },
      {
       "output_type": "stream",
       "stream": "stdout",
       "text": [
        "\n",
        "There are 0 households in TAZ 105430\n",
        "There are 0 households in TAZ 105440\n",
        "There are 18 households in TAZ 105450\n",
        "There are 10035 residential units in TAZ 105450"
       ]
      },
      {
       "output_type": "stream",
       "stream": "stdout",
       "text": [
        "\n",
        "There are 6 households in TAZ 105460\n",
        "There are 1005 residential units in TAZ 105460"
       ]
      },
      {
       "output_type": "stream",
       "stream": "stdout",
       "text": [
        "\n",
        "There are 0 households in TAZ 105470\n",
        "There are 3 households in TAZ 105480\n",
        "There are 805 residential units in TAZ 105480"
       ]
      },
      {
       "output_type": "stream",
       "stream": "stdout",
       "text": [
        "\n",
        "There are 4 households in TAZ 105490\n",
        "There are 580 residential units in TAZ 105490"
       ]
      },
      {
       "output_type": "stream",
       "stream": "stdout",
       "text": [
        "\n",
        "There are 0 households in TAZ 105500\n",
        "There are 4 households in TAZ 105520\n",
        "There are 160 residential units in TAZ 105520"
       ]
      },
      {
       "output_type": "stream",
       "stream": "stdout",
       "text": [
        "\n",
        "Warning:  number of households exceeds number of resunits in TAZ 105520\n",
        "There are 0 households in TAZ 105550\n",
        "There are 2 households in TAZ 105560\n",
        "There are 270 residential units in TAZ 105560"
       ]
      },
      {
       "output_type": "stream",
       "stream": "stdout",
       "text": [
        "\n",
        "Warning:  number of households exceeds number of resunits in TAZ 105560\n",
        "There are 8 households in TAZ 105570\n",
        "There are 755 residential units in TAZ 105570"
       ]
      },
      {
       "output_type": "stream",
       "stream": "stdout",
       "text": [
        "\n",
        "There are 10 households in TAZ 105580\n",
        "There are 1530 residential units in TAZ 105580"
       ]
      },
      {
       "output_type": "stream",
       "stream": "stdout",
       "text": [
        "\n",
        "There are 0 households in TAZ 105590\n",
        "There are 5 households in TAZ 105600\n",
        "There are 220 residential units in TAZ 105600"
       ]
      },
      {
       "output_type": "stream",
       "stream": "stdout",
       "text": [
        "\n",
        "Warning:  number of households exceeds number of resunits in TAZ 105600\n",
        "There are 4 households in TAZ 105620\n",
        "There are 80 residential units in TAZ 105620"
       ]
      },
      {
       "output_type": "stream",
       "stream": "stdout",
       "text": [
        "\n",
        "Warning:  number of households exceeds number of resunits in TAZ 105620\n",
        "There are 0 households in TAZ 105630\n",
        "There are 0 households in TAZ 106010\n",
        "There are 0 households in TAZ 106020\n",
        "There are 4 households in TAZ 106030\n",
        "There are 480 residential units in TAZ 106030"
       ]
      },
      {
       "output_type": "stream",
       "stream": "stdout",
       "text": [
        "\n",
        "There are 136 households in TAZ 106040\n",
        "There are 80 residential units in TAZ 106040"
       ]
      },
      {
       "output_type": "stream",
       "stream": "stdout",
       "text": [
        "\n",
        "Warning:  number of households exceeds number of resunits in TAZ 106040\n",
        "There are 3 households in TAZ 106050\n",
        "There are 3640 residential units in TAZ 106050"
       ]
      },
      {
       "output_type": "stream",
       "stream": "stdout",
       "text": [
        "\n",
        "There are 0 households in TAZ 106060\n",
        "There are 0 households in TAZ 106080\n",
        "There are 3 households in TAZ 106090\n",
        "There are 205 residential units in TAZ 106090"
       ]
      },
      {
       "output_type": "stream",
       "stream": "stdout",
       "text": [
        "\n",
        "Warning:  number of households exceeds number of resunits in TAZ 106090\n",
        "There are 0 households in TAZ 106100\n",
        "There are 4 households in TAZ 106200\n",
        "There are 120 residential units in TAZ 106200"
       ]
      },
      {
       "output_type": "stream",
       "stream": "stdout",
       "text": [
        "\n",
        "Warning:  number of households exceeds number of resunits in TAZ 106200\n",
        "There are 45 households in TAZ 106210\n",
        "There are 2705 residential units in TAZ 106210"
       ]
      },
      {
       "output_type": "stream",
       "stream": "stdout",
       "text": [
        "\n",
        "There are 0 households in TAZ 106220\n",
        "There are 0 households in TAZ 106230\n",
        "There are 0 households in TAZ 106240\n",
        "There are 0 households in TAZ 106250\n",
        "There are 0 households in TAZ 106260\n",
        "There are 4 households in TAZ 106270\n",
        "There are 20 residential units in TAZ 106270"
       ]
      },
      {
       "output_type": "stream",
       "stream": "stdout",
       "text": [
        "\n",
        "Warning:  number of households exceeds number of resunits in TAZ 106270\n",
        "There are 0 households in TAZ 106420\n",
        "There are 0 households in TAZ 106430\n",
        "There are 8 households in TAZ 106440\n",
        "There are 240 residential units in TAZ 106440"
       ]
      },
      {
       "output_type": "stream",
       "stream": "stdout",
       "text": [
        "\n",
        "Warning:  number of households exceeds number of resunits in TAZ 106440\n",
        "There are 0 households in TAZ 107010\n",
        "There are 601 households in TAZ 107020\n",
        "There are 2410 residential units in TAZ 107020"
       ]
      },
      {
       "output_type": "stream",
       "stream": "stdout",
       "text": [
        "\n",
        "There are 4 households in TAZ 107030\n",
        "There are 1395 residential units in TAZ 107030"
       ]
      },
      {
       "output_type": "stream",
       "stream": "stdout",
       "text": [
        "\n",
        "There are 177 households in TAZ 107040\n",
        "There are 4820 residential units in TAZ 107040"
       ]
      },
      {
       "output_type": "stream",
       "stream": "stdout",
       "text": [
        "\n",
        "There are 58 households in TAZ 107070\n",
        "There are 19925 residential units in TAZ 107070"
       ]
      },
      {
       "output_type": "stream",
       "stream": "stdout",
       "text": [
        "\n",
        "There are 30 households in TAZ 107080\n",
        "There are 8810 residential units in TAZ 107080"
       ]
      },
      {
       "output_type": "stream",
       "stream": "stdout",
       "text": [
        "\n",
        "There are 86 households in TAZ 107090\n",
        "There are 2825 residential units in TAZ 107090"
       ]
      },
      {
       "output_type": "stream",
       "stream": "stdout",
       "text": [
        "\n",
        "There are 15 households in TAZ 107100\n",
        "There are 4800 residential units in TAZ 107100"
       ]
      },
      {
       "output_type": "stream",
       "stream": "stdout",
       "text": [
        "\n",
        "There are 159 households in TAZ 107110\n",
        "There are 9590 residential units in TAZ 107110"
       ]
      },
      {
       "output_type": "stream",
       "stream": "stdout",
       "text": [
        "\n",
        "There are 255 households in TAZ 107130\n",
        "There are 9130 residential units in TAZ 107130"
       ]
      },
      {
       "output_type": "stream",
       "stream": "stdout",
       "text": [
        "\n",
        "There are 0 households in TAZ 107140\n",
        "There are 0 households in TAZ 107150\n",
        "There are 0 households in TAZ 107160\n",
        "There are 0 households in TAZ 107170\n",
        "There are 4 households in TAZ 107180\n",
        "There are 45 residential units in TAZ 107180"
       ]
      },
      {
       "output_type": "stream",
       "stream": "stdout",
       "text": [
        "\n",
        "Warning:  number of households exceeds number of resunits in TAZ 107180\n",
        "There are 0 households in TAZ 107190\n",
        "There are 7 households in TAZ 107200\n",
        "There are 905 residential units in TAZ 107200"
       ]
      },
      {
       "output_type": "stream",
       "stream": "stdout",
       "text": [
        "\n",
        "There are 26 households in TAZ 107210\n",
        "There are 10275 residential units in TAZ 107210"
       ]
      },
      {
       "output_type": "stream",
       "stream": "stdout",
       "text": [
        "\n",
        "There are 0 households in TAZ 107230\n",
        "There are 0 households in TAZ 107240\n",
        "There are 6 households in TAZ 107250\n",
        "There are 9145 residential units in TAZ 107250"
       ]
      },
      {
       "output_type": "stream",
       "stream": "stdout",
       "text": [
        "\n",
        "There are 8 households in TAZ 107260\n",
        "There are 7545 residential units in TAZ 107260"
       ]
      },
      {
       "output_type": "stream",
       "stream": "stdout",
       "text": [
        "\n",
        "There are 0 households in TAZ 107270\n",
        "There are 5 households in TAZ 107280\n",
        "There are 30 residential units in TAZ 107280"
       ]
      },
      {
       "output_type": "stream",
       "stream": "stdout",
       "text": [
        "\n",
        "Warning:  number of households exceeds number of resunits in TAZ 107280\n",
        "There are 6 households in TAZ 107290\n",
        "There are 280 residential units in TAZ 107290"
       ]
      },
      {
       "output_type": "stream",
       "stream": "stdout",
       "text": [
        "\n",
        "Warning:  number of households exceeds number of resunits in TAZ 107290\n",
        "There are 7 households in TAZ 107300\n",
        "There are 3230 residential units in TAZ 107300"
       ]
      },
      {
       "output_type": "stream",
       "stream": "stdout",
       "text": [
        "\n",
        "There are 0 households in TAZ 107310\n",
        "There are 0 households in TAZ 107320\n",
        "There are 0 households in TAZ 107330\n",
        "There are 0 households in TAZ 107340\n",
        "There are 67 households in TAZ 107350\n",
        "There are 11620 residential units in TAZ 107350"
       ]
      },
      {
       "output_type": "stream",
       "stream": "stdout",
       "text": [
        "\n",
        "There are 0 households in TAZ 107360\n",
        "There are 0 households in TAZ 107370\n",
        "There are 2 households in TAZ 107380\n",
        "There are 23095 residential units in TAZ 107380"
       ]
      },
      {
       "output_type": "stream",
       "stream": "stdout",
       "text": [
        "\n",
        "There are 2 households in TAZ 107390\n",
        "There are 490 residential units in TAZ 107390"
       ]
      },
      {
       "output_type": "stream",
       "stream": "stdout",
       "text": [
        "\n",
        "There are 0 households in TAZ 107400\n",
        "There are 34 households in TAZ 107410\n",
        "There are 8010 residential units in TAZ 107410"
       ]
      },
      {
       "output_type": "stream",
       "stream": "stdout",
       "text": [
        "\n",
        "There are 0 households in TAZ 107420\n",
        "There are 15 households in TAZ 107430\n",
        "There are 5500 residential units in TAZ 107430"
       ]
      },
      {
       "output_type": "stream",
       "stream": "stdout",
       "text": [
        "\n",
        "There are 35 households in TAZ 107440\n",
        "There are 2530 residential units in TAZ 107440"
       ]
      },
      {
       "output_type": "stream",
       "stream": "stdout",
       "text": [
        "\n",
        "There are 0 households in TAZ 107450\n",
        "There are 103 households in TAZ 107460\n",
        "There are 14570 residential units in TAZ 107460"
       ]
      },
      {
       "output_type": "stream",
       "stream": "stdout",
       "text": [
        "\n",
        "There are 0 households in TAZ 107470\n",
        "There are 0 households in TAZ 107480\n",
        "There are 27 households in TAZ 108010\n",
        "There are 19990 residential units in TAZ 108010"
       ]
      },
      {
       "output_type": "stream",
       "stream": "stdout",
       "text": [
        "\n",
        "There are 0 households in TAZ 108020\n",
        "There are 50 households in TAZ 108030\n",
        "There are 4975 residential units in TAZ 108030"
       ]
      },
      {
       "output_type": "stream",
       "stream": "stdout",
       "text": [
        "\n",
        "There are 6 households in TAZ 108040\n",
        "There are 5545 residential units in TAZ 108040"
       ]
      },
      {
       "output_type": "stream",
       "stream": "stdout",
       "text": [
        "\n",
        "There are 4 households in TAZ 108050\n",
        "There are 2430 residential units in TAZ 108050"
       ]
      },
      {
       "output_type": "stream",
       "stream": "stdout",
       "text": [
        "\n",
        "There are 3 households in TAZ 108060\n",
        "There are 4190 residential units in TAZ 108060"
       ]
      },
      {
       "output_type": "stream",
       "stream": "stdout",
       "text": [
        "\n",
        "There are 0 households in TAZ 108070\n",
        "There are 0 households in TAZ 108080\n",
        "There are 0 households in TAZ 108090\n",
        "There are 22 households in TAZ 108100\n",
        "There are 11310 residential units in TAZ 108100"
       ]
      },
      {
       "output_type": "stream",
       "stream": "stdout",
       "text": [
        "\n",
        "There are 0 households in TAZ 108110\n",
        "There are 22 households in TAZ 108120\n",
        "There are 9735 residential units in TAZ 108120"
       ]
      },
      {
       "output_type": "stream",
       "stream": "stdout",
       "text": [
        "\n",
        "There are 26 households in TAZ 108130\n",
        "There are 4005 residential units in TAZ 108130"
       ]
      },
      {
       "output_type": "stream",
       "stream": "stdout",
       "text": [
        "\n",
        "There are 0 households in TAZ 108140\n",
        "There are 0 households in TAZ 108150\n",
        "There are 0 households in TAZ 108160\n",
        "There are 0 households in TAZ 108170\n",
        "There are 78 households in TAZ 108180\n",
        "There are 5465 residential units in TAZ 108180"
       ]
      },
      {
       "output_type": "stream",
       "stream": "stdout",
       "text": [
        "\n",
        "There are 86 households in TAZ 108190\n",
        "There are 1665 residential units in TAZ 108190"
       ]
      },
      {
       "output_type": "stream",
       "stream": "stdout",
       "text": [
        "\n",
        "There are 94 households in TAZ 108200\n",
        "There are 2695 residential units in TAZ 108200"
       ]
      },
      {
       "output_type": "stream",
       "stream": "stdout",
       "text": [
        "\n",
        "There are 175 households in TAZ 108210\n",
        "There are 14165 residential units in TAZ 108210"
       ]
      },
      {
       "output_type": "stream",
       "stream": "stdout",
       "text": [
        "\n",
        "There are 46 households in TAZ 108230\n",
        "There are 245 residential units in TAZ 108230"
       ]
      },
      {
       "output_type": "stream",
       "stream": "stdout",
       "text": [
        "\n",
        "Warning:  number of households exceeds number of resunits in TAZ 108230\n",
        "There are 334 households in TAZ 108240\n",
        "There are 11855 residential units in TAZ 108240"
       ]
      },
      {
       "output_type": "stream",
       "stream": "stdout",
       "text": [
        "\n",
        "There are 0 households in TAZ 108250\n",
        "There are 4 households in TAZ 108260\n",
        "There are 545 residential units in TAZ 108260"
       ]
      },
      {
       "output_type": "stream",
       "stream": "stdout",
       "text": [
        "\n",
        "There are 393 households in TAZ 108290\n",
        "There are 1305 residential units in TAZ 108290"
       ]
      },
      {
       "output_type": "stream",
       "stream": "stdout",
       "text": [
        "\n",
        "There are 0 households in TAZ 108300\n",
        "There are 42 households in TAZ 108310\n",
        "There are 5085 residential units in TAZ 108310"
       ]
      },
      {
       "output_type": "stream",
       "stream": "stdout",
       "text": [
        "\n",
        "There are 0 households in TAZ 108320\n",
        "There are 1 households in TAZ 108330\n",
        "There are 7545 residential units in TAZ 108330"
       ]
      },
      {
       "output_type": "stream",
       "stream": "stdout",
       "text": [
        "\n",
        "There are 6 households in TAZ 108340\n",
        "There are 790 residential units in TAZ 108340"
       ]
      },
      {
       "output_type": "stream",
       "stream": "stdout",
       "text": [
        "\n",
        "There are 0 households in TAZ 108350\n",
        "There are 8 households in TAZ 108360\n",
        "There are 10070 residential units in TAZ 108360"
       ]
      },
      {
       "output_type": "stream",
       "stream": "stdout",
       "text": [
        "\n",
        "There are 0 households in TAZ 108370\n",
        "There are 0 households in TAZ 108380\n",
        "There are 0 households in TAZ 108390\n",
        "There are 0 households in TAZ 108400\n",
        "There are 38 households in TAZ 108410\n",
        "There are 3345 residential units in TAZ 108410"
       ]
      },
      {
       "output_type": "stream",
       "stream": "stdout",
       "text": [
        "\n",
        "There are 0 households in TAZ 108420\n",
        "There are 0 households in TAZ 108430\n",
        "There are 80 households in TAZ 108440\n",
        "There are 10285 residential units in TAZ 108440"
       ]
      },
      {
       "output_type": "stream",
       "stream": "stdout",
       "text": [
        "\n",
        "There are 28 households in TAZ 108450\n",
        "There are 9795 residential units in TAZ 108450"
       ]
      },
      {
       "output_type": "stream",
       "stream": "stdout",
       "text": [
        "\n",
        "There are 14 households in TAZ 108460\n",
        "There are 2745 residential units in TAZ 108460"
       ]
      },
      {
       "output_type": "stream",
       "stream": "stdout",
       "text": [
        "\n",
        "There are 27 households in TAZ 108470\n",
        "There are 1790 residential units in TAZ 108470"
       ]
      },
      {
       "output_type": "stream",
       "stream": "stdout",
       "text": [
        "\n",
        "There are 4 households in TAZ 108480\n",
        "There are 220 residential units in TAZ 108480"
       ]
      },
      {
       "output_type": "stream",
       "stream": "stdout",
       "text": [
        "\n",
        "Warning:  number of households exceeds number of resunits in TAZ 108480\n",
        "There are 39 households in TAZ 108490\n",
        "There are 600 residential units in TAZ 108490"
       ]
      },
      {
       "output_type": "stream",
       "stream": "stdout",
       "text": [
        "\n",
        "There are 5 households in TAZ 108540\n",
        "There are 920 residential units in TAZ 108540"
       ]
      },
      {
       "output_type": "stream",
       "stream": "stdout",
       "text": [
        "\n",
        "There are 10 households in TAZ 108550\n",
        "There are 500 residential units in TAZ 108550"
       ]
      },
      {
       "output_type": "stream",
       "stream": "stdout",
       "text": [
        "\n",
        "There are 0 households in TAZ 108580\n",
        "There are 33 households in TAZ 108590\n",
        "There are 640 residential units in TAZ 108590"
       ]
      },
      {
       "output_type": "stream",
       "stream": "stdout",
       "text": [
        "\n",
        "There are 32 households in TAZ 108610\n",
        "There are 9505 residential units in TAZ 108610"
       ]
      },
      {
       "output_type": "stream",
       "stream": "stdout",
       "text": [
        "\n",
        "There are 0 households in TAZ 108620\n",
        "There are 13 households in TAZ 108630\n",
        "There are 120 residential units in TAZ 108630"
       ]
      },
      {
       "output_type": "stream",
       "stream": "stdout",
       "text": [
        "\n",
        "Warning:  number of households exceeds number of resunits in TAZ 108630\n",
        "There are 10 households in TAZ 108640\n",
        "There are 2105 residential units in TAZ 108640"
       ]
      },
      {
       "output_type": "stream",
       "stream": "stdout",
       "text": [
        "\n",
        "There are 0 households in TAZ 108650\n",
        "There are 0 households in TAZ 108660\n",
        "There are 57 households in TAZ 108670\n",
        "There are 16430 residential units in TAZ 108670"
       ]
      },
      {
       "output_type": "stream",
       "stream": "stdout",
       "text": [
        "\n",
        "There are 0 households in TAZ 108680\n",
        "There are 0 households in TAZ 108690\n",
        "There are 0 households in TAZ 108710\n",
        "There are 0 households in TAZ 108720\n",
        "There are 62 households in TAZ 201010\n",
        "There are 24625 residential units in TAZ 201010"
       ]
      },
      {
       "output_type": "stream",
       "stream": "stdout",
       "text": [
        "\n",
        "There are 28 households in TAZ 201020\n",
        "There are 170 residential units in TAZ 201020"
       ]
      },
      {
       "output_type": "stream",
       "stream": "stdout",
       "text": [
        "\n",
        "Warning:  number of households exceeds number of resunits in TAZ 201020\n",
        "There are 379 households in TAZ 201030\n",
        "There are 3290 residential units in TAZ 201030"
       ]
      },
      {
       "output_type": "stream",
       "stream": "stdout",
       "text": [
        "\n",
        "There are 20 households in TAZ 201040\n",
        "There are 4305 residential units in TAZ 201040"
       ]
      },
      {
       "output_type": "stream",
       "stream": "stdout",
       "text": [
        "\n",
        "There are 0 households in TAZ 201050\n",
        "There are 28 households in TAZ 201060\n",
        "There are 7645 residential units in TAZ 201060"
       ]
      },
      {
       "output_type": "stream",
       "stream": "stdout",
       "text": [
        "\n",
        "There are 50 households in TAZ 201070\n",
        "There are 8230 residential units in TAZ 201070"
       ]
      },
      {
       "output_type": "stream",
       "stream": "stdout",
       "text": [
        "\n",
        "There are 42 households in TAZ 201080\n",
        "There are 5425 residential units in TAZ 201080"
       ]
      },
      {
       "output_type": "stream",
       "stream": "stdout",
       "text": [
        "\n",
        "There are 9 households in TAZ 202010\n",
        "There are 500 residential units in TAZ 202010"
       ]
      },
      {
       "output_type": "stream",
       "stream": "stdout",
       "text": [
        "\n",
        "There are 195 households in TAZ 202040\n",
        "There are 20 residential units in TAZ 202040"
       ]
      },
      {
       "output_type": "stream",
       "stream": "stdout",
       "text": [
        "\n",
        "Warning:  number of households exceeds number of resunits in TAZ 202040\n",
        "There are 5 households in TAZ 202060\n",
        "There are 560 residential units in TAZ 202060"
       ]
      },
      {
       "output_type": "stream",
       "stream": "stdout",
       "text": [
        "\n",
        "There are 11 households in TAZ 202120\n",
        "There are 40470 residential units in TAZ 202120"
       ]
      },
      {
       "output_type": "stream",
       "stream": "stdout",
       "text": [
        "\n",
        "There are 13 households in TAZ 202130\n",
        "There are 24855 residential units in TAZ 202130"
       ]
      },
      {
       "output_type": "stream",
       "stream": "stdout",
       "text": [
        "\n",
        "There are 158 households in TAZ 202140\n",
        "There are 605 residential units in TAZ 202140"
       ]
      },
      {
       "output_type": "stream",
       "stream": "stdout",
       "text": [
        "\n",
        "There are 52 households in TAZ 202150\n",
        "There are 4515 residential units in TAZ 202150"
       ]
      },
      {
       "output_type": "stream",
       "stream": "stdout",
       "text": [
        "\n",
        "There are 5 households in TAZ 202160\n",
        "There are 100 residential units in TAZ 202160"
       ]
      },
      {
       "output_type": "stream",
       "stream": "stdout",
       "text": [
        "\n",
        "Warning:  number of households exceeds number of resunits in TAZ 202160\n",
        "There are 5 households in TAZ 202170\n",
        "There are 320 residential units in TAZ 202170"
       ]
      },
      {
       "output_type": "stream",
       "stream": "stdout",
       "text": [
        "\n",
        "Warning:  number of households exceeds number of resunits in TAZ 202170\n",
        "There are 0 households in TAZ 202190\n",
        "There are 0 households in TAZ 202200\n",
        "There are 0 households in TAZ 202210\n",
        "There are 0 households in TAZ 202220\n",
        "There are 54 households in TAZ 202230\n",
        "There are 27035 residential units in TAZ 202230"
       ]
      },
      {
       "output_type": "stream",
       "stream": "stdout",
       "text": [
        "\n",
        "There are 0 households in TAZ 202240\n",
        "There are 10 households in TAZ 202250\n",
        "There are 2035 residential units in TAZ 202250"
       ]
      },
      {
       "output_type": "stream",
       "stream": "stdout",
       "text": [
        "\n",
        "There are 10 households in TAZ 202260\n",
        "There are 1205 residential units in TAZ 202260"
       ]
      },
      {
       "output_type": "stream",
       "stream": "stdout",
       "text": [
        "\n",
        "There are 4 households in TAZ 202270\n",
        "There are 40 residential units in TAZ 202270"
       ]
      },
      {
       "output_type": "stream",
       "stream": "stdout",
       "text": [
        "\n",
        "Warning:  number of households exceeds number of resunits in TAZ 202270\n",
        "There are 57 households in TAZ 202280\n",
        "There are 5335 residential units in TAZ 202280"
       ]
      },
      {
       "output_type": "stream",
       "stream": "stdout",
       "text": [
        "\n",
        "There are 25 households in TAZ 202290\n",
        "There are 105 residential units in TAZ 202290"
       ]
      },
      {
       "output_type": "stream",
       "stream": "stdout",
       "text": [
        "\n",
        "Warning:  number of households exceeds number of resunits in TAZ 202290\n",
        "There are 23 households in TAZ 202300\n",
        "There are 140 residential units in TAZ 202300"
       ]
      },
      {
       "output_type": "stream",
       "stream": "stdout",
       "text": [
        "\n",
        "Warning:  number of households exceeds number of resunits in TAZ 202300\n",
        "There are 72 households in TAZ 202310\n",
        "There are 13530 residential units in TAZ 202310"
       ]
      },
      {
       "output_type": "stream",
       "stream": "stdout",
       "text": [
        "\n",
        "There are 0 households in TAZ 202320\n",
        "There are 0 households in TAZ 202330\n",
        "There are 7 households in TAZ 202340\n",
        "There are 240 residential units in TAZ 202340"
       ]
      },
      {
       "output_type": "stream",
       "stream": "stdout",
       "text": [
        "\n",
        "Warning:  number of households exceeds number of resunits in TAZ 202340\n",
        "There are 0 households in TAZ 202350\n",
        "There are 0 households in TAZ 202360\n",
        "There are 12 households in TAZ 202370\n",
        "There are 21010 residential units in TAZ 202370"
       ]
      },
      {
       "output_type": "stream",
       "stream": "stdout",
       "text": [
        "\n",
        "There are 79 households in TAZ 202380\n",
        "There are 175 residential units in TAZ 202380"
       ]
      },
      {
       "output_type": "stream",
       "stream": "stdout",
       "text": [
        "\n",
        "Warning:  number of households exceeds number of resunits in TAZ 202380\n",
        "There are 0 households in TAZ 202390\n",
        "There are 594 households in TAZ 202410\n",
        "There are 170 residential units in TAZ 202410"
       ]
      },
      {
       "output_type": "stream",
       "stream": "stdout",
       "text": [
        "\n",
        "Warning:  number of households exceeds number of resunits in TAZ 202410\n",
        "There are 0 households in TAZ 202420\n",
        "There are 66 households in TAZ 202430\n",
        "There are 13175 residential units in TAZ 202430"
       ]
      },
      {
       "output_type": "stream",
       "stream": "stdout",
       "text": [
        "\n",
        "There are 15 households in TAZ 202440\n",
        "There are 420 residential units in TAZ 202440"
       ]
      },
      {
       "output_type": "stream",
       "stream": "stdout",
       "text": [
        "\n",
        "Warning:  number of households exceeds number of resunits in TAZ 202440\n",
        "There are 0 households in TAZ 202450\n",
        "There are 31 households in TAZ 202460\n",
        "There are 33835 residential units in TAZ 202460"
       ]
      },
      {
       "output_type": "stream",
       "stream": "stdout",
       "text": [
        "\n",
        "There are 6 households in TAZ 202470\n",
        "There are 300 residential units in TAZ 202470"
       ]
      },
      {
       "output_type": "stream",
       "stream": "stdout",
       "text": [
        "\n",
        "Warning:  number of households exceeds number of resunits in TAZ 202470\n",
        "There are 301 households in TAZ 202490\n",
        "There are 360 residential units in TAZ 202490"
       ]
      },
      {
       "output_type": "stream",
       "stream": "stdout",
       "text": [
        "\n",
        "Warning:  number of households exceeds number of resunits in TAZ 202490\n",
        "There are 81 households in TAZ 202500\n",
        "There are 1560 residential units in TAZ 202500"
       ]
      },
      {
       "output_type": "stream",
       "stream": "stdout",
       "text": [
        "\n",
        "There are 4 households in TAZ 202510\n",
        "There are 280 residential units in TAZ 202510"
       ]
      },
      {
       "output_type": "stream",
       "stream": "stdout",
       "text": [
        "\n",
        "Warning:  number of households exceeds number of resunits in TAZ 202510\n",
        "There are 0 households in TAZ 202520\n",
        "There are 0 households in TAZ 202530\n",
        "There are 0 households in TAZ 202540\n",
        "There are 0 households in TAZ 202550\n",
        "There are 0 households in TAZ 202560\n",
        "There are 0 households in TAZ 202570\n",
        "There are 0 households in TAZ 202580"
       ]
      },
      {
       "output_type": "stream",
       "stream": "stdout",
       "text": [
        "\n",
        "There are 0 households in TAZ 202590\n",
        "There are 0 households in TAZ 202600\n",
        "There are 0 households in TAZ 202610\n",
        "There are 0 households in TAZ 202620\n",
        "There are 0 households in TAZ 203010\n",
        "There are 0 households in TAZ 203020\n",
        "There are 0 households in TAZ 203030\n",
        "There are 0 households in TAZ 203040"
       ]
      },
      {
       "output_type": "stream",
       "stream": "stdout",
       "text": [
        "\n",
        "There are 0 households in TAZ 203050\n",
        "There are 0 households in TAZ 203060\n",
        "There are 0 households in TAZ 203070\n",
        "There are 0 households in TAZ 203080\n",
        "There are 0 households in TAZ 203090\n",
        "There are 0 households in TAZ 203100\n",
        "There are 0 households in TAZ 203110\n",
        "There are 0 households in TAZ 203120"
       ]
      },
      {
       "output_type": "stream",
       "stream": "stdout",
       "text": [
        "\n",
        "There are 0 households in TAZ 203130\n",
        "There are 0 households in TAZ 203140\n",
        "There are 0 households in TAZ 203150\n",
        "There are 0 households in TAZ 203160\n",
        "There are 7 households in TAZ 203170\n",
        "There are 13045 residential units in TAZ 203170"
       ]
      },
      {
       "output_type": "stream",
       "stream": "stdout",
       "text": [
        "\n",
        "There are 0 households in TAZ 203180\n",
        "There are 160 households in TAZ 204010\n",
        "There are 1010 residential units in TAZ 204010"
       ]
      },
      {
       "output_type": "stream",
       "stream": "stdout",
       "text": [
        "\n",
        "There are 5 households in TAZ 204020\n",
        "There are 965 residential units in TAZ 204020"
       ]
      },
      {
       "output_type": "stream",
       "stream": "stdout",
       "text": [
        "\n",
        "There are 0 households in TAZ 204030\n",
        "There are 0 households in TAZ 204040\n",
        "There are 510 households in TAZ 204050\n",
        "There are 1475 residential units in TAZ 204050"
       ]
      },
      {
       "output_type": "stream",
       "stream": "stdout",
       "text": [
        "\n",
        "There are 0 households in TAZ 204060\n",
        "There are 0 households in TAZ 204070\n",
        "There are 0 households in TAZ 204080\n",
        "There are 0 households in TAZ 204090\n",
        "There are 0 households in TAZ 204100\n",
        "There are 29 households in TAZ 204110\n",
        "There are 14765 residential units in TAZ 204110"
       ]
      },
      {
       "output_type": "stream",
       "stream": "stdout",
       "text": [
        "\n",
        "There are 0 households in TAZ 204120\n",
        "There are 0 households in TAZ 204130\n",
        "There are 0 households in TAZ 204140\n",
        "There are 0 households in TAZ 204150\n",
        "There are 0 households in TAZ 204160\n",
        "There are 0 households in TAZ 204170\n",
        "There are 0 households in TAZ 204180"
       ]
      },
      {
       "output_type": "stream",
       "stream": "stdout",
       "text": [
        "\n",
        "There are 0 households in TAZ 204190\n",
        "There are 0 households in TAZ 204200\n",
        "There are 0 households in TAZ 204210\n",
        "There are 0 households in TAZ 204220\n",
        "There are 0 households in TAZ 204230\n",
        "There are 0 households in TAZ 204240\n",
        "There are 0 households in TAZ 204250\n",
        "There are 0 households in TAZ 205010"
       ]
      },
      {
       "output_type": "stream",
       "stream": "stdout",
       "text": [
        "\n",
        "There are 0 households in TAZ 205020\n",
        "There are 0 households in TAZ 205030\n",
        "There are 0 households in TAZ 205040\n",
        "There are 0 households in TAZ 205050\n",
        "There are 0 households in TAZ 205060\n",
        "There are 0 households in TAZ 205070\n",
        "There are 0 households in TAZ 205080\n",
        "There are 0 households in TAZ 205090"
       ]
      },
      {
       "output_type": "stream",
       "stream": "stdout",
       "text": [
        "\n",
        "There are 32 households in TAZ 205100\n",
        "There are 8355 residential units in TAZ 205100"
       ]
      },
      {
       "output_type": "stream",
       "stream": "stdout",
       "text": [
        "\n",
        "There are 0 households in TAZ 205110\n",
        "There are 6 households in TAZ 205120\n",
        "There are 1060 residential units in TAZ 205120"
       ]
      },
      {
       "output_type": "stream",
       "stream": "stdout",
       "text": [
        "\n",
        "There are 0 households in TAZ 205130\n",
        "There are 0 households in TAZ 205140\n",
        "There are 11 households in TAZ 205150\n",
        "There are 835 residential units in TAZ 205150"
       ]
      },
      {
       "output_type": "stream",
       "stream": "stdout",
       "text": [
        "\n",
        "There are 22 households in TAZ 205160\n",
        "There are 5290 residential units in TAZ 205160"
       ]
      },
      {
       "output_type": "stream",
       "stream": "stdout",
       "text": [
        "\n",
        "There are 0 households in TAZ 205170\n",
        "There are 0 households in TAZ 205180\n",
        "There are 24 households in TAZ 205190\n",
        "There are 9170 residential units in TAZ 205190"
       ]
      },
      {
       "output_type": "stream",
       "stream": "stdout",
       "text": [
        "\n",
        "There are 5 households in TAZ 205200\n",
        "There are 20 residential units in TAZ 205200"
       ]
      },
      {
       "output_type": "stream",
       "stream": "stdout",
       "text": [
        "\n",
        "Warning:  number of households exceeds number of resunits in TAZ 205200\n",
        "There are 1 households in TAZ 205210\n",
        "There are 1780 residential units in TAZ 205210"
       ]
      },
      {
       "output_type": "stream",
       "stream": "stdout",
       "text": [
        "\n",
        "There are 0 households in TAZ 205220\n",
        "There are 56 households in TAZ 205230\n",
        "There are 3870 residential units in TAZ 205230"
       ]
      },
      {
       "output_type": "stream",
       "stream": "stdout",
       "text": [
        "\n",
        "There are 28 households in TAZ 205240\n",
        "There are 1675 residential units in TAZ 205240"
       ]
      },
      {
       "output_type": "stream",
       "stream": "stdout",
       "text": [
        "\n",
        "There are 117 households in TAZ 205250\n",
        "There are 8930 residential units in TAZ 205250"
       ]
      },
      {
       "output_type": "stream",
       "stream": "stdout",
       "text": [
        "\n",
        "There are 0 households in TAZ 205260\n",
        "There are 0 households in TAZ 205270\n",
        "There are 88 households in TAZ 205280\n",
        "There are 11670 residential units in TAZ 205280"
       ]
      },
      {
       "output_type": "stream",
       "stream": "stdout",
       "text": [
        "\n",
        "There are 25 households in TAZ 205290\n",
        "There are 6030 residential units in TAZ 205290"
       ]
      },
      {
       "output_type": "stream",
       "stream": "stdout",
       "text": [
        "\n",
        "There are 124 households in TAZ 205300\n",
        "There are 2075 residential units in TAZ 205300"
       ]
      },
      {
       "output_type": "stream",
       "stream": "stdout",
       "text": [
        "\n",
        "There are 122 households in TAZ 205310\n",
        "There are 180 residential units in TAZ 205310"
       ]
      },
      {
       "output_type": "stream",
       "stream": "stdout",
       "text": [
        "\n",
        "Warning:  number of households exceeds number of resunits in TAZ 205310\n",
        "There are 0 households in TAZ 205330\n",
        "There are 38 households in TAZ 205340\n",
        "There are 60 residential units in TAZ 205340"
       ]
      },
      {
       "output_type": "stream",
       "stream": "stdout",
       "text": [
        "\n",
        "Warning:  number of households exceeds number of resunits in TAZ 205340\n",
        "There are 0 households in TAZ 205360\n",
        "There are 90 households in TAZ 205370\n",
        "There are 4005 residential units in TAZ 205370"
       ]
      },
      {
       "output_type": "stream",
       "stream": "stdout",
       "text": [
        "\n",
        "There are 42 households in TAZ 205380\n",
        "There are 10465 residential units in TAZ 205380"
       ]
      },
      {
       "output_type": "stream",
       "stream": "stdout",
       "text": [
        "\n",
        "There are 0 households in TAZ 205390\n",
        "There are 0 households in TAZ 206010\n",
        "There are 0 households in TAZ 206020\n",
        "There are 26 households in TAZ 206030\n",
        "There are 17930 residential units in TAZ 206030"
       ]
      },
      {
       "output_type": "stream",
       "stream": "stdout",
       "text": [
        "\n",
        "There are 0 households in TAZ 206040\n",
        "There are 125 households in TAZ 206050\n",
        "There are 14905 residential units in TAZ 206050"
       ]
      },
      {
       "output_type": "stream",
       "stream": "stdout",
       "text": [
        "\n",
        "There are 0 households in TAZ 206060\n",
        "There are 16 households in TAZ 206070\n",
        "There are 13205 residential units in TAZ 206070"
       ]
      },
      {
       "output_type": "stream",
       "stream": "stdout",
       "text": [
        "\n",
        "There are 102 households in TAZ 206080\n",
        "There are 2720 residential units in TAZ 206080"
       ]
      },
      {
       "output_type": "stream",
       "stream": "stdout",
       "text": [
        "\n",
        "There are 27 households in TAZ 206090\n",
        "There are 6050 residential units in TAZ 206090"
       ]
      },
      {
       "output_type": "stream",
       "stream": "stdout",
       "text": [
        "\n",
        "There are 59 households in TAZ 206100\n",
        "There are 8965 residential units in TAZ 206100"
       ]
      },
      {
       "output_type": "stream",
       "stream": "stdout",
       "text": [
        "\n",
        "There are 26 households in TAZ 206110\n",
        "There are 12215 residential units in TAZ 206110"
       ]
      },
      {
       "output_type": "stream",
       "stream": "stdout",
       "text": [
        "\n",
        "There are 0 households in TAZ 206120\n",
        "There are 1 households in TAZ 206130\n",
        "There are 3900 residential units in TAZ 206130"
       ]
      },
      {
       "output_type": "stream",
       "stream": "stdout",
       "text": [
        "\n",
        "There are 79 households in TAZ 206140\n",
        "There are 9325 residential units in TAZ 206140"
       ]
      },
      {
       "output_type": "stream",
       "stream": "stdout",
       "text": [
        "\n",
        "There are 0 households in TAZ 206150\n",
        "There are 62 households in TAZ 206160\n",
        "There are 2010 residential units in TAZ 206160"
       ]
      },
      {
       "output_type": "stream",
       "stream": "stdout",
       "text": [
        "\n",
        "There are 0 households in TAZ 206170\n",
        "There are 0 households in TAZ 206180\n",
        "There are 0 households in TAZ 206190\n",
        "There are 0 households in TAZ 206200\n",
        "There are 27 households in TAZ 206210\n",
        "There are 7075 residential units in TAZ 206210"
       ]
      },
      {
       "output_type": "stream",
       "stream": "stdout",
       "text": [
        "\n",
        "There are 0 households in TAZ 206220\n",
        "There are 0 households in TAZ 206230\n",
        "There are 0 households in TAZ 206240\n",
        "There are 43 households in TAZ 206250\n",
        "There are 970 residential units in TAZ 206250"
       ]
      },
      {
       "output_type": "stream",
       "stream": "stdout",
       "text": [
        "\n",
        "There are 0 households in TAZ 206260\n",
        "There are 0 households in TAZ 206270\n",
        "There are 0 households in TAZ 206280\n",
        "There are 69 households in TAZ 206290\n",
        "There are 1470 residential units in TAZ 206290"
       ]
      },
      {
       "output_type": "stream",
       "stream": "stdout",
       "text": [
        "\n",
        "There are 0 households in TAZ 206300\n",
        "There are 147 households in TAZ 207010\n",
        "There are 13695 residential units in TAZ 207010"
       ]
      },
      {
       "output_type": "stream",
       "stream": "stdout",
       "text": [
        "\n",
        "There are 110 households in TAZ 207020\n",
        "There are 14045 residential units in TAZ 207020"
       ]
      },
      {
       "output_type": "stream",
       "stream": "stdout",
       "text": [
        "\n",
        "There are 12 households in TAZ 207030\n",
        "There are 8960 residential units in TAZ 207030"
       ]
      },
      {
       "output_type": "stream",
       "stream": "stdout",
       "text": [
        "\n",
        "There are 44 households in TAZ 207040\n",
        "There are 11635 residential units in TAZ 207040"
       ]
      },
      {
       "output_type": "stream",
       "stream": "stdout",
       "text": [
        "\n",
        "There are 15 households in TAZ 207050\n",
        "There are 10865 residential units in TAZ 207050"
       ]
      },
      {
       "output_type": "stream",
       "stream": "stdout",
       "text": [
        "\n",
        "There are 0 households in TAZ 207060\n",
        "There are 45 households in TAZ 207070\n",
        "There are 12995 residential units in TAZ 207070"
       ]
      },
      {
       "output_type": "stream",
       "stream": "stdout",
       "text": [
        "\n",
        "There are 0 households in TAZ 207080\n",
        "There are 63 households in TAZ 207090\n",
        "There are 7540 residential units in TAZ 207090"
       ]
      },
      {
       "output_type": "stream",
       "stream": "stdout",
       "text": [
        "\n",
        "There are 56 households in TAZ 207100\n",
        "There are 12640 residential units in TAZ 207100"
       ]
      },
      {
       "output_type": "stream",
       "stream": "stdout",
       "text": [
        "\n",
        "There are 7 households in TAZ 207110\n",
        "There are 4790 residential units in TAZ 207110"
       ]
      },
      {
       "output_type": "stream",
       "stream": "stdout",
       "text": [
        "\n",
        "There are 21 households in TAZ 207120\n",
        "There are 8120 residential units in TAZ 207120"
       ]
      },
      {
       "output_type": "stream",
       "stream": "stdout",
       "text": [
        "\n",
        "There are 47 households in TAZ 207130\n",
        "There are 6975 residential units in TAZ 207130"
       ]
      },
      {
       "output_type": "stream",
       "stream": "stdout",
       "text": [
        "\n",
        "There are 0 households in TAZ 207140\n",
        "There are 5 households in TAZ 207150\n",
        "There are 1900 residential units in TAZ 207150"
       ]
      },
      {
       "output_type": "stream",
       "stream": "stdout",
       "text": [
        "\n",
        "There are 0 households in TAZ 207160\n",
        "There are 5 households in TAZ 207170\n",
        "There are 11185 residential units in TAZ 207170"
       ]
      },
      {
       "output_type": "stream",
       "stream": "stdout",
       "text": [
        "\n",
        "There are 0 households in TAZ 207180\n",
        "There are 33 households in TAZ 207190\n",
        "There are 7030 residential units in TAZ 207190"
       ]
      },
      {
       "output_type": "stream",
       "stream": "stdout",
       "text": [
        "\n",
        "There are 0 households in TAZ 207200\n",
        "There are 0 households in TAZ 207210\n",
        "There are 0 households in TAZ 207220\n",
        "There are 132 households in TAZ 207230\n",
        "There are 15555 residential units in TAZ 207230"
       ]
      },
      {
       "output_type": "stream",
       "stream": "stdout",
       "text": [
        "\n",
        "There are 5 households in TAZ 207240\n",
        "There are 350 residential units in TAZ 207240"
       ]
      },
      {
       "output_type": "stream",
       "stream": "stdout",
       "text": [
        "\n",
        "Warning:  number of households exceeds number of resunits in TAZ 207240\n",
        "There are 6 households in TAZ 208010\n",
        "There are 11530 residential units in TAZ 208010"
       ]
      },
      {
       "output_type": "stream",
       "stream": "stdout",
       "text": [
        "\n",
        "There are 0 households in TAZ 208020\n",
        "There are 6 households in TAZ 208030\n",
        "There are 6700 residential units in TAZ 208030"
       ]
      },
      {
       "output_type": "stream",
       "stream": "stdout",
       "text": [
        "\n",
        "There are 0 households in TAZ 208040\n",
        "There are 0 households in TAZ 208050\n",
        "There are 71 households in TAZ 208060\n",
        "There are 17170 residential units in TAZ 208060"
       ]
      },
      {
       "output_type": "stream",
       "stream": "stdout",
       "text": [
        "\n",
        "There are 0 households in TAZ 208070\n",
        "There are 17 households in TAZ 208080\n",
        "There are 8335 residential units in TAZ 208080"
       ]
      },
      {
       "output_type": "stream",
       "stream": "stdout",
       "text": [
        "\n",
        "There are 32 households in TAZ 208090\n",
        "There are 16700 residential units in TAZ 208090"
       ]
      },
      {
       "output_type": "stream",
       "stream": "stdout",
       "text": [
        "\n",
        "There are 46 households in TAZ 208100\n",
        "There are 16375 residential units in TAZ 208100"
       ]
      },
      {
       "output_type": "stream",
       "stream": "stdout",
       "text": [
        "\n",
        "There are 0 households in TAZ 208110\n",
        "There are 0 households in TAZ 208120\n",
        "There are 93 households in TAZ 208130\n",
        "There are 7870 residential units in TAZ 208130"
       ]
      },
      {
       "output_type": "stream",
       "stream": "stdout",
       "text": [
        "\n",
        "There are 0 households in TAZ 208140\n",
        "There are 0 households in TAZ 208150\n",
        "There are 78 households in TAZ 208160\n",
        "There are 6045 residential units in TAZ 208160"
       ]
      },
      {
       "output_type": "stream",
       "stream": "stdout",
       "text": [
        "\n",
        "There are 210 households in TAZ 208170\n",
        "There are 13915 residential units in TAZ 208170"
       ]
      },
      {
       "output_type": "stream",
       "stream": "stdout",
       "text": [
        "\n",
        "There are 0 households in TAZ 208180\n",
        "There are 53 households in TAZ 208190\n",
        "There are 7345 residential units in TAZ 208190"
       ]
      },
      {
       "output_type": "stream",
       "stream": "stdout",
       "text": [
        "\n",
        "There are 32 households in TAZ 208210\n",
        "There are 180 residential units in TAZ 208210"
       ]
      },
      {
       "output_type": "stream",
       "stream": "stdout",
       "text": [
        "\n",
        "Warning:  number of households exceeds number of resunits in TAZ 208210\n",
        "There are 63 households in TAZ 208220\n",
        "There are 515 residential units in TAZ 208220"
       ]
      },
      {
       "output_type": "stream",
       "stream": "stdout",
       "text": [
        "\n",
        "There are 238 households in TAZ 208230\n",
        "There are 12695 residential units in TAZ 208230"
       ]
      },
      {
       "output_type": "stream",
       "stream": "stdout",
       "text": [
        "\n",
        "There are 18 households in TAZ 208240\n",
        "There are 12440 residential units in TAZ 208240"
       ]
      },
      {
       "output_type": "stream",
       "stream": "stdout",
       "text": [
        "\n",
        "There are 62 households in TAZ 208250\n",
        "There are 1010 residential units in TAZ 208250"
       ]
      },
      {
       "output_type": "stream",
       "stream": "stdout",
       "text": [
        "\n",
        "There are 3 households in TAZ 208260\n",
        "There are 1690 residential units in TAZ 208260"
       ]
      },
      {
       "output_type": "stream",
       "stream": "stdout",
       "text": [
        "\n",
        "There are 0 households in TAZ 208270\n",
        "There are 6 households in TAZ 208280\n",
        "There are 3520 residential units in TAZ 208280"
       ]
      },
      {
       "output_type": "stream",
       "stream": "stdout",
       "text": [
        "\n",
        "There are 19 households in TAZ 208290\n",
        "There are 9810 residential units in TAZ 208290"
       ]
      },
      {
       "output_type": "stream",
       "stream": "stdout",
       "text": [
        "\n",
        "There are 18 households in TAZ 208300\n",
        "There are 8870 residential units in TAZ 208300"
       ]
      },
      {
       "output_type": "stream",
       "stream": "stdout",
       "text": [
        "\n",
        "There are 7 households in TAZ 208310\n",
        "There are 6890 residential units in TAZ 208310"
       ]
      },
      {
       "output_type": "stream",
       "stream": "stdout",
       "text": [
        "\n",
        "There are 147 households in TAZ 208320\n",
        "There are 7325 residential units in TAZ 208320"
       ]
      },
      {
       "output_type": "stream",
       "stream": "stdout",
       "text": [
        "\n",
        "There are 56 households in TAZ 208330\n",
        "There are 8270 residential units in TAZ 208330"
       ]
      },
      {
       "output_type": "stream",
       "stream": "stdout",
       "text": [
        "\n",
        "There are 116 households in TAZ 208340\n",
        "There are 11790 residential units in TAZ 208340"
       ]
      },
      {
       "output_type": "stream",
       "stream": "stdout",
       "text": [
        "\n",
        "There are 19 households in TAZ 208350\n",
        "There are 9010 residential units in TAZ 208350"
       ]
      },
      {
       "output_type": "stream",
       "stream": "stdout",
       "text": [
        "\n",
        "There are 63 households in TAZ 208360\n",
        "There are 9695 residential units in TAZ 208360"
       ]
      },
      {
       "output_type": "stream",
       "stream": "stdout",
       "text": [
        "\n",
        "There are 0 households in TAZ 208370\n",
        "There are 0 households in TAZ 208380\n",
        "There are 0 households in TAZ 208390\n",
        "There are 7 households in TAZ 208400\n",
        "There are 705 residential units in TAZ 208400"
       ]
      },
      {
       "output_type": "stream",
       "stream": "stdout",
       "text": [
        "\n",
        "There are 0 households in TAZ 208410\n",
        "There are 20 households in TAZ 208420\n",
        "There are 6785 residential units in TAZ 208420"
       ]
      },
      {
       "output_type": "stream",
       "stream": "stdout",
       "text": [
        "\n",
        "There are 18 households in TAZ 209010\n",
        "There are 6830 residential units in TAZ 209010"
       ]
      },
      {
       "output_type": "stream",
       "stream": "stdout",
       "text": [
        "\n",
        "There are 0 households in TAZ 209020\n",
        "There are 5 households in TAZ 209030\n",
        "There are 5810 residential units in TAZ 209030"
       ]
      },
      {
       "output_type": "stream",
       "stream": "stdout",
       "text": [
        "\n",
        "There are 17 households in TAZ 209040\n",
        "There are 9470 residential units in TAZ 209040"
       ]
      },
      {
       "output_type": "stream",
       "stream": "stdout",
       "text": [
        "\n",
        "There are 0 households in TAZ 209050\n",
        "There are 0 households in TAZ 209060\n",
        "There are 29 households in TAZ 209070\n",
        "There are 9855 residential units in TAZ 209070"
       ]
      },
      {
       "output_type": "stream",
       "stream": "stdout",
       "text": [
        "\n",
        "There are 81 households in TAZ 209080\n",
        "There are 10785 residential units in TAZ 209080"
       ]
      },
      {
       "output_type": "stream",
       "stream": "stdout",
       "text": [
        "\n",
        "There are 57 households in TAZ 209090\n",
        "There are 12105 residential units in TAZ 209090"
       ]
      },
      {
       "output_type": "stream",
       "stream": "stdout",
       "text": [
        "\n",
        "There are 61 households in TAZ 209100\n",
        "There are 7910 residential units in TAZ 209100"
       ]
      },
      {
       "output_type": "stream",
       "stream": "stdout",
       "text": [
        "\n",
        "There are 162 households in TAZ 209110\n",
        "There are 9815 residential units in TAZ 209110"
       ]
      },
      {
       "output_type": "stream",
       "stream": "stdout",
       "text": [
        "\n",
        "There are 46 households in TAZ 209120\n",
        "There are 13000 residential units in TAZ 209120"
       ]
      },
      {
       "output_type": "stream",
       "stream": "stdout",
       "text": [
        "\n",
        "There are 42 households in TAZ 209130\n",
        "There are 15075 residential units in TAZ 209130"
       ]
      },
      {
       "output_type": "stream",
       "stream": "stdout",
       "text": [
        "\n",
        "There are 34 households in TAZ 209140\n",
        "There are 300 residential units in TAZ 209140"
       ]
      },
      {
       "output_type": "stream",
       "stream": "stdout",
       "text": [
        "\n",
        "Warning:  number of households exceeds number of resunits in TAZ 209140\n",
        "There are 0 households in TAZ 209150\n",
        "There are 0 households in TAZ 209160\n",
        "There are 0 households in TAZ 209170\n",
        "There are 0 households in TAZ 209180\n",
        "There are 0 households in TAZ 209190\n",
        "There are 95 households in TAZ 209200\n",
        "There are 7635 residential units in TAZ 209200"
       ]
      },
      {
       "output_type": "stream",
       "stream": "stdout",
       "text": [
        "\n",
        "There are 0 households in TAZ 209210\n",
        "There are 0 households in TAZ 209220\n",
        "There are 27 households in TAZ 209230\n",
        "There are 9860 residential units in TAZ 209230"
       ]
      },
      {
       "output_type": "stream",
       "stream": "stdout",
       "text": [
        "\n",
        "There are 0 households in TAZ 209240\n",
        "There are 46 households in TAZ 209250\n",
        "There are 13025 residential units in TAZ 209250"
       ]
      },
      {
       "output_type": "stream",
       "stream": "stdout",
       "text": [
        "\n",
        "There are 0 households in TAZ 209260\n",
        "There are 0 households in TAZ 209270\n",
        "There are 0 households in TAZ 209280\n",
        "There are 0 households in TAZ 209290\n",
        "There are 0 households in TAZ 209300\n",
        "There are 0 households in TAZ 209310\n",
        "There are 67 households in TAZ 209320"
       ]
      },
      {
       "output_type": "stream",
       "stream": "stdout",
       "text": [
        "\n",
        "There are 1050 residential units in TAZ 209320"
       ]
      },
      {
       "output_type": "stream",
       "stream": "stdout",
       "text": [
        "\n",
        "There are 4 households in TAZ 209330\n",
        "There are 12670 residential units in TAZ 209330"
       ]
      },
      {
       "output_type": "stream",
       "stream": "stdout",
       "text": [
        "\n",
        "There are 0 households in TAZ 209340\n",
        "There are 0 households in TAZ 209350\n",
        "There are 0 households in TAZ 209360\n",
        "There are 0 households in TAZ 209370\n",
        "There are 0 households in TAZ 209380\n",
        "There are 5 households in TAZ 209390\n",
        "There are 6795 residential units in TAZ 209390"
       ]
      },
      {
       "output_type": "stream",
       "stream": "stdout",
       "text": [
        "\n",
        "There are 0 households in TAZ 209400\n",
        "There are 0 households in TAZ 209410\n",
        "There are 4 households in TAZ 209420\n",
        "There are 1875 residential units in TAZ 209420"
       ]
      },
      {
       "output_type": "stream",
       "stream": "stdout",
       "text": [
        "\n",
        "There are 0 households in TAZ 209430\n",
        "There are 0 households in TAZ 209440\n",
        "There are 33 households in TAZ 209450\n",
        "There are 1515 residential units in TAZ 209450"
       ]
      },
      {
       "output_type": "stream",
       "stream": "stdout",
       "text": [
        "\n",
        "There are 6 households in TAZ 210010\n",
        "There are 22470 residential units in TAZ 210010"
       ]
      },
      {
       "output_type": "stream",
       "stream": "stdout",
       "text": [
        "\n",
        "There are 0 households in TAZ 210020\n",
        "There are 1 households in TAZ 210030\n",
        "There are 545 residential units in TAZ 210030"
       ]
      },
      {
       "output_type": "stream",
       "stream": "stdout",
       "text": [
        "\n",
        "There are 0 households in TAZ 210040\n",
        "There are 296 households in TAZ 210050\n",
        "There are 480 residential units in TAZ 210050"
       ]
      },
      {
       "output_type": "stream",
       "stream": "stdout",
       "text": [
        "\n",
        "There are 433 households in TAZ 210060\n",
        "There are 600 residential units in TAZ 210060"
       ]
      },
      {
       "output_type": "stream",
       "stream": "stdout",
       "text": [
        "\n",
        "There are 391 households in TAZ 210070\n",
        "There are 80 residential units in TAZ 210070"
       ]
      },
      {
       "output_type": "stream",
       "stream": "stdout",
       "text": [
        "\n",
        "Warning:  number of households exceeds number of resunits in TAZ 210070\n",
        "There are 158 households in TAZ 210080\n",
        "There are 880 residential units in TAZ 210080"
       ]
      },
      {
       "output_type": "stream",
       "stream": "stdout",
       "text": [
        "\n",
        "There are 8 households in TAZ 210090\n",
        "There are 8930 residential units in TAZ 210090"
       ]
      },
      {
       "output_type": "stream",
       "stream": "stdout",
       "text": [
        "\n",
        "There are 32 households in TAZ 210100\n",
        "There are 20290 residential units in TAZ 210100"
       ]
      },
      {
       "output_type": "stream",
       "stream": "stdout",
       "text": [
        "\n",
        "There are 0 households in TAZ 210110\n",
        "There are 0 households in TAZ 210120\n",
        "There are 0 households in TAZ 210130\n",
        "There are 0 households in TAZ 210140\n",
        "There are 0 households in TAZ 210150\n",
        "There are 0 households in TAZ 210160\n",
        "There are 4 households in TAZ 210170"
       ]
      },
      {
       "output_type": "stream",
       "stream": "stdout",
       "text": [
        "\n",
        "There are 260 residential units in TAZ 210170"
       ]
      },
      {
       "output_type": "stream",
       "stream": "stdout",
       "text": [
        "\n",
        "Warning:  number of households exceeds number of resunits in TAZ 210170\n",
        "There are 5 households in TAZ 210180\n",
        "There are 110 residential units in TAZ 210180"
       ]
      },
      {
       "output_type": "stream",
       "stream": "stdout",
       "text": [
        "\n",
        "Warning:  number of households exceeds number of resunits in TAZ 210180\n",
        "There are 0 households in TAZ 210190\n",
        "There are 5 households in TAZ 210200\n",
        "There are 11915 residential units in TAZ 210200"
       ]
      },
      {
       "output_type": "stream",
       "stream": "stdout",
       "text": [
        "\n",
        "There are 9 households in TAZ 210210\n",
        "There are 12815 residential units in TAZ 210210"
       ]
      },
      {
       "output_type": "stream",
       "stream": "stdout",
       "text": [
        "\n",
        "There are 0 households in TAZ 210220\n",
        "There are 5 households in TAZ 210230\n",
        "There are 26545 residential units in TAZ 210230"
       ]
      },
      {
       "output_type": "stream",
       "stream": "stdout",
       "text": [
        "\n",
        "There are 0 households in TAZ 210240\n",
        "There are 0 households in TAZ 210250\n",
        "There are 6 households in TAZ 210260\n",
        "There are 17565 residential units in TAZ 210260"
       ]
      },
      {
       "output_type": "stream",
       "stream": "stdout",
       "text": [
        "\n",
        "There are 0 households in TAZ 210270\n",
        "There are 149 households in TAZ 210280\n",
        "There are 1470 residential units in TAZ 210280"
       ]
      },
      {
       "output_type": "stream",
       "stream": "stdout",
       "text": [
        "\n",
        "There are 19 households in TAZ 210290\n",
        "There are 430 residential units in TAZ 210290"
       ]
      },
      {
       "output_type": "stream",
       "stream": "stdout",
       "text": [
        "\n",
        "Warning:  number of households exceeds number of resunits in TAZ 210290\n",
        "There are 29 households in TAZ 210300\n",
        "There are 85 residential units in TAZ 210300"
       ]
      },
      {
       "output_type": "stream",
       "stream": "stdout",
       "text": [
        "\n",
        "Warning:  number of households exceeds number of resunits in TAZ 210300\n",
        "There are 8 households in TAZ 210310\n",
        "There are 1040 residential units in TAZ 210310"
       ]
      },
      {
       "output_type": "stream",
       "stream": "stdout",
       "text": [
        "\n",
        "There are 0 households in TAZ 210320\n",
        "There are 86 households in TAZ 210330\n",
        "There are 6860 residential units in TAZ 210330"
       ]
      },
      {
       "output_type": "stream",
       "stream": "stdout",
       "text": [
        "\n",
        "There are 66 households in TAZ 210340\n",
        "There are 4335 residential units in TAZ 210340"
       ]
      },
      {
       "output_type": "stream",
       "stream": "stdout",
       "text": [
        "\n",
        "There are 0 households in TAZ 210350\n",
        "There are 6 households in TAZ 210360\n",
        "There are 315 residential units in TAZ 210360"
       ]
      },
      {
       "output_type": "stream",
       "stream": "stdout",
       "text": [
        "\n",
        "Warning:  number of households exceeds number of resunits in TAZ 210360\n",
        "There are 3 households in TAZ 210370\n",
        "There are 50 residential units in TAZ 210370"
       ]
      },
      {
       "output_type": "stream",
       "stream": "stdout",
       "text": [
        "\n",
        "Warning:  number of households exceeds number of resunits in TAZ 210370\n",
        "There are 43 households in TAZ 211010\n",
        "There are 3830 residential units in TAZ 211010"
       ]
      },
      {
       "output_type": "stream",
       "stream": "stdout",
       "text": [
        "\n",
        "There are 0 households in TAZ 211020\n",
        "There are 0 households in TAZ 211030\n",
        "There are 367 households in TAZ 211040\n",
        "There are 7920 residential units in TAZ 211040"
       ]
      },
      {
       "output_type": "stream",
       "stream": "stdout",
       "text": [
        "\n",
        "There are 29 households in TAZ 211050\n",
        "There are 17770 residential units in TAZ 211050"
       ]
      },
      {
       "output_type": "stream",
       "stream": "stdout",
       "text": [
        "\n",
        "There are 101 households in TAZ 211060\n",
        "There are 17645 residential units in TAZ 211060"
       ]
      },
      {
       "output_type": "stream",
       "stream": "stdout",
       "text": [
        "\n",
        "There are 0 households in TAZ 211070\n",
        "There are 4 households in TAZ 211090\n",
        "There are 130 residential units in TAZ 211090"
       ]
      },
      {
       "output_type": "stream",
       "stream": "stdout",
       "text": [
        "\n",
        "Warning:  number of households exceeds number of resunits in TAZ 211090\n",
        "There are 18 households in TAZ 211100\n",
        "There are 1950 residential units in TAZ 211100"
       ]
      },
      {
       "output_type": "stream",
       "stream": "stdout",
       "text": [
        "\n",
        "There are 0 households in TAZ 211110\n",
        "There are 0 households in TAZ 211120\n",
        "There are 57 households in TAZ 211130\n",
        "There are 5420 residential units in TAZ 211130"
       ]
      },
      {
       "output_type": "stream",
       "stream": "stdout",
       "text": [
        "\n",
        "There are 74 households in TAZ 211140\n",
        "There are 5060 residential units in TAZ 211140"
       ]
      },
      {
       "output_type": "stream",
       "stream": "stdout",
       "text": [
        "\n",
        "There are 0 households in TAZ 211150\n",
        "There are 15 households in TAZ 211160\n",
        "There are 14745 residential units in TAZ 211160"
       ]
      },
      {
       "output_type": "stream",
       "stream": "stdout",
       "text": [
        "\n",
        "There are 47 households in TAZ 211170\n",
        "There are 17210 residential units in TAZ 211170"
       ]
      },
      {
       "output_type": "stream",
       "stream": "stdout",
       "text": [
        "\n",
        "There are 0 households in TAZ 211180\n",
        "There are 25 households in TAZ 211190\n",
        "There are 4275 residential units in TAZ 211190"
       ]
      },
      {
       "output_type": "stream",
       "stream": "stdout",
       "text": [
        "\n",
        "There are 0 households in TAZ 211200\n",
        "There are 1 households in TAZ 211210\n",
        "There are 1175 residential units in TAZ 211210"
       ]
      },
      {
       "output_type": "stream",
       "stream": "stdout",
       "text": [
        "\n",
        "There are 0 households in TAZ 211220\n",
        "There are 49 households in TAZ 211230\n",
        "There are 9825 residential units in TAZ 211230"
       ]
      },
      {
       "output_type": "stream",
       "stream": "stdout",
       "text": [
        "\n",
        "There are 0 households in TAZ 211240\n",
        "There are 0 households in TAZ 211250\n",
        "There are 219 households in TAZ 211260\n",
        "There are 10280 residential units in TAZ 211260"
       ]
      },
      {
       "output_type": "stream",
       "stream": "stdout",
       "text": [
        "\n",
        "There are 0 households in TAZ 211270\n",
        "There are 0 households in TAZ 211280\n",
        "There are 0 households in TAZ 211290\n",
        "There are 67 households in TAZ 211300\n",
        "There are 20495 residential units in TAZ 211300"
       ]
      },
      {
       "output_type": "stream",
       "stream": "stdout",
       "text": [
        "\n",
        "There are 0 households in TAZ 211310\n",
        "There are 68 households in TAZ 212010\n",
        "There are 2140 residential units in TAZ 212010"
       ]
      },
      {
       "output_type": "stream",
       "stream": "stdout",
       "text": [
        "\n",
        "There are 176 households in TAZ 212020\n",
        "There are 31110 residential units in TAZ 212020"
       ]
      },
      {
       "output_type": "stream",
       "stream": "stdout",
       "text": [
        "\n",
        "There are 0 households in TAZ 212030\n",
        "There are 0 households in TAZ 212040\n",
        "There are 0 households in TAZ 212050\n",
        "There are 44 households in TAZ 212060\n",
        "There are 3885 residential units in TAZ 212060"
       ]
      },
      {
       "output_type": "stream",
       "stream": "stdout",
       "text": [
        "\n",
        "There are 184 households in TAZ 212070\n",
        "There are 18660 residential units in TAZ 212070"
       ]
      },
      {
       "output_type": "stream",
       "stream": "stdout",
       "text": [
        "\n",
        "There are 228 households in TAZ 212080\n",
        "There are 22745 residential units in TAZ 212080"
       ]
      },
      {
       "output_type": "stream",
       "stream": "stdout",
       "text": [
        "\n",
        "There are 6 households in TAZ 212090\n",
        "There are 60 residential units in TAZ 212090"
       ]
      },
      {
       "output_type": "stream",
       "stream": "stdout",
       "text": [
        "\n",
        "Warning:  number of households exceeds number of resunits in TAZ 212090\n",
        "There are 0 households in TAZ 212100\n",
        "There are 74 households in TAZ 212110\n",
        "There are 7860 residential units in TAZ 212110"
       ]
      },
      {
       "output_type": "stream",
       "stream": "stdout",
       "text": [
        "\n",
        "There are 102 households in TAZ 212120\n",
        "There are 4415 residential units in TAZ 212120"
       ]
      },
      {
       "output_type": "stream",
       "stream": "stdout",
       "text": [
        "\n",
        "There are 47 households in TAZ 212130\n",
        "There are 30020 residential units in TAZ 212130"
       ]
      },
      {
       "output_type": "stream",
       "stream": "stdout",
       "text": [
        "\n",
        "There are 0 households in TAZ 212140\n",
        "There are 0 households in TAZ 212150\n",
        "There are 0 households in TAZ 212160\n",
        "There are 0 households in TAZ 212170\n",
        "There are 0 households in TAZ 212180\n",
        "There are 0 households in TAZ 212190\n",
        "There are 0 households in TAZ 212210"
       ]
      },
      {
       "output_type": "stream",
       "stream": "stdout",
       "text": [
        "\n",
        "There are 0 households in TAZ 212220\n",
        "There are 0 households in TAZ 213010\n",
        "There are 0 households in TAZ 213030\n",
        "There are 0 households in TAZ 213040\n",
        "There are 0 households in TAZ 213050\n",
        "There are 0 households in TAZ 213060\n",
        "There are 0 households in TAZ 213070\n",
        "There are 0 households in TAZ 213080"
       ]
      },
      {
       "output_type": "stream",
       "stream": "stdout",
       "text": [
        "\n",
        "There are 0 households in TAZ 213090\n",
        "There are 0 households in TAZ 213100\n",
        "There are 100 households in TAZ 213110\n",
        "There are 100 residential units in TAZ 213110"
       ]
      },
      {
       "output_type": "stream",
       "stream": "stdout",
       "text": [
        "\n",
        "Warning:  number of households exceeds number of resunits in TAZ 213110\n",
        "There are 2 households in TAZ 213120\n",
        "There are 950 residential units in TAZ 213120"
       ]
      },
      {
       "output_type": "stream",
       "stream": "stdout",
       "text": [
        "\n",
        "There are 0 households in TAZ 213140\n",
        "There are 0 households in TAZ 213150\n",
        "There are 0 households in TAZ 213160\n",
        "There are 0 households in TAZ 213170\n",
        "There are 0 households in TAZ 213180\n",
        "There are 0 households in TAZ 213190\n",
        "There are 0 households in TAZ 213200"
       ]
      },
      {
       "output_type": "stream",
       "stream": "stdout",
       "text": [
        "\n",
        "There are 12 households in TAZ 213210\n",
        "There are 13020 residential units in TAZ 213210"
       ]
      },
      {
       "output_type": "stream",
       "stream": "stdout",
       "text": [
        "\n",
        "There are 0 households in TAZ 213230\n",
        "There are 0 households in TAZ 213240\n",
        "There are 0 households in TAZ 213250\n",
        "There are 0 households in TAZ 213260\n",
        "There are 8 households in TAZ 213270\n",
        "There are 3470 residential units in TAZ 213270"
       ]
      },
      {
       "output_type": "stream",
       "stream": "stdout",
       "text": [
        "\n",
        "There are 5 households in TAZ 213280\n",
        "There are 80 residential units in TAZ 213280"
       ]
      },
      {
       "output_type": "stream",
       "stream": "stdout",
       "text": [
        "\n",
        "Warning:  number of households exceeds number of resunits in TAZ 213280\n",
        "There are 0 households in TAZ 213290\n",
        "There are 22 households in TAZ 213300\n",
        "There are 665 residential units in TAZ 213300"
       ]
      },
      {
       "output_type": "stream",
       "stream": "stdout",
       "text": [
        "\n",
        "There are 22 households in TAZ 214010\n",
        "There are 22970 residential units in TAZ 214010"
       ]
      },
      {
       "output_type": "stream",
       "stream": "stdout",
       "text": [
        "\n",
        "There are 12 households in TAZ 214020\n",
        "There are 9840 residential units in TAZ 214020"
       ]
      },
      {
       "output_type": "stream",
       "stream": "stdout",
       "text": [
        "\n",
        "There are 0 households in TAZ 214030\n",
        "There are 0 households in TAZ 214040\n",
        "There are 0 households in TAZ 214050\n",
        "There are 1 households in TAZ 214080\n",
        "There are 3890 residential units in TAZ 214080"
       ]
      },
      {
       "output_type": "stream",
       "stream": "stdout",
       "text": [
        "\n",
        "There are 0 households in TAZ 214090\n",
        "There are 7 households in TAZ 214100\n",
        "There are 1635 residential units in TAZ 214100"
       ]
      },
      {
       "output_type": "stream",
       "stream": "stdout",
       "text": [
        "\n",
        "There are 0 households in TAZ 214110\n",
        "There are 0 households in TAZ 214120\n",
        "There are 0 households in TAZ 214130\n",
        "There are 1 households in TAZ 214140\n",
        "There are 9895 residential units in TAZ 214140"
       ]
      },
      {
       "output_type": "stream",
       "stream": "stdout",
       "text": [
        "\n",
        "There are 0 households in TAZ 214150\n",
        "There are 0 households in TAZ 214160\n",
        "There are 0 households in TAZ 214170\n",
        "There are 0 households in TAZ 214180\n",
        "There are 0 households in TAZ 214190\n",
        "There are 0 households in TAZ 214200\n",
        "There are 0 households in TAZ 214210"
       ]
      },
      {
       "output_type": "stream",
       "stream": "stdout",
       "text": [
        "\n",
        "There are 0 households in TAZ 214220\n",
        "There are 0 households in TAZ 214230\n",
        "There are 0 households in TAZ 214240\n",
        "There are 0 households in TAZ 214250\n",
        "There are 0 households in TAZ 214260\n",
        "There are 0 households in TAZ 214270\n",
        "There are 0 households in TAZ 214280\n",
        "There are 0 households in TAZ 214290"
       ]
      },
      {
       "output_type": "stream",
       "stream": "stdout",
       "text": [
        "\n",
        "There are 0 households in TAZ 214300\n",
        "There are 0 households in TAZ 214310\n",
        "There are 2 households in TAZ 214320\n",
        "There are 275 residential units in TAZ 214320"
       ]
      },
      {
       "output_type": "stream",
       "stream": "stdout",
       "text": [
        "\n",
        "Warning:  number of households exceeds number of resunits in TAZ 214320\n",
        "There are 4 households in TAZ 301060\n",
        "There are 360 residential units in TAZ 301060"
       ]
      },
      {
       "output_type": "stream",
       "stream": "stdout",
       "text": [
        "\n",
        "Warning:  number of households exceeds number of resunits in TAZ 301060\n",
        "There are 0 households in TAZ 301070\n",
        "There are 156 households in TAZ 301080\n",
        "There are 7900 residential units in TAZ 301080"
       ]
      },
      {
       "output_type": "stream",
       "stream": "stdout",
       "text": [
        "\n",
        "There are 38 households in TAZ 301090\n",
        "There are 1900 residential units in TAZ 301090"
       ]
      },
      {
       "output_type": "stream",
       "stream": "stdout",
       "text": [
        "\n",
        "There are 379 households in TAZ 301100\n",
        "There are 630 residential units in TAZ 301100"
       ]
      },
      {
       "output_type": "stream",
       "stream": "stdout",
       "text": [
        "\n",
        "There are 123 households in TAZ 301110\n",
        "There are 320 residential units in TAZ 301110"
       ]
      },
      {
       "output_type": "stream",
       "stream": "stdout",
       "text": [
        "\n",
        "Warning:  number of households exceeds number of resunits in TAZ 301110\n",
        "There are 104 households in TAZ 301120\n",
        "There are 820 residential units in TAZ 301120"
       ]
      },
      {
       "output_type": "stream",
       "stream": "stdout",
       "text": [
        "\n",
        "There are 62 households in TAZ 301130\n",
        "There are 360 residential units in TAZ 301130"
       ]
      },
      {
       "output_type": "stream",
       "stream": "stdout",
       "text": [
        "\n",
        "Warning:  number of households exceeds number of resunits in TAZ 301130\n",
        "There are 0 households in TAZ 301240\n",
        "There are 0 households in TAZ 301250\n",
        "There are 0 households in TAZ 301260\n",
        "There are 95 households in TAZ 301270\n",
        "There are 420 residential units in TAZ 301270"
       ]
      },
      {
       "output_type": "stream",
       "stream": "stdout",
       "text": [
        "\n",
        "Warning:  number of households exceeds number of resunits in TAZ 301270\n",
        "There are 0 households in TAZ 301280\n",
        "There are 7 households in TAZ 301290\n",
        "There are 305 residential units in TAZ 301290"
       ]
      },
      {
       "output_type": "stream",
       "stream": "stdout",
       "text": [
        "\n",
        "Warning:  number of households exceeds number of resunits in TAZ 301290\n",
        "There are 7 households in TAZ 301300\n",
        "There are 220 residential units in TAZ 301300"
       ]
      },
      {
       "output_type": "stream",
       "stream": "stdout",
       "text": [
        "\n",
        "Warning:  number of households exceeds number of resunits in TAZ 301300\n",
        "There are 0 households in TAZ 301310\n",
        "There are 0 households in TAZ 301320\n",
        "There are 122 households in TAZ 301330\n",
        "There are 55 residential units in TAZ 301330"
       ]
      },
      {
       "output_type": "stream",
       "stream": "stdout",
       "text": [
        "\n",
        "Warning:  number of households exceeds number of resunits in TAZ 301330\n",
        "There are 129 households in TAZ 301340\n",
        "There are 1080 residential units in TAZ 301340"
       ]
      },
      {
       "output_type": "stream",
       "stream": "stdout",
       "text": [
        "\n",
        "There are 4 households in TAZ 301350\n",
        "There are 20 residential units in TAZ 301350"
       ]
      },
      {
       "output_type": "stream",
       "stream": "stdout",
       "text": [
        "\n",
        "Warning:  number of households exceeds number of resunits in TAZ 301350\n",
        "There are 4 households in TAZ 301360\n",
        "There are 120 residential units in TAZ 301360"
       ]
      },
      {
       "output_type": "stream",
       "stream": "stdout",
       "text": [
        "\n",
        "Warning:  number of households exceeds number of resunits in TAZ 301360\n",
        "There are 24 households in TAZ 301370\n",
        "There are 5100 residential units in TAZ 301370"
       ]
      },
      {
       "output_type": "stream",
       "stream": "stdout",
       "text": [
        "\n",
        "There are 0 households in TAZ 301450\n",
        "There are 54 households in TAZ 301460\n",
        "There are 23580 residential units in TAZ 301460"
       ]
      },
      {
       "output_type": "stream",
       "stream": "stdout",
       "text": [
        "\n",
        "There are 4 households in TAZ 301470\n",
        "There are 380 residential units in TAZ 301470"
       ]
      },
      {
       "output_type": "stream",
       "stream": "stdout",
       "text": [
        "\n",
        "Warning:  number of households exceeds number of resunits in TAZ 301470\n",
        "There are 11 households in TAZ 301480\n",
        "There are 60 residential units in TAZ 301480"
       ]
      },
      {
       "output_type": "stream",
       "stream": "stdout",
       "text": [
        "\n",
        "Warning:  number of households exceeds number of resunits in TAZ 301480\n",
        "There are 0 households in TAZ 301490\n",
        "There are 0 households in TAZ 301500\n",
        "There are 4 households in TAZ 301510\n",
        "There are 740 residential units in TAZ 301510"
       ]
      },
      {
       "output_type": "stream",
       "stream": "stdout",
       "text": [
        "\n",
        "There are 0 households in TAZ 301520\n",
        "There are 64 households in TAZ 301550\n",
        "There are 895 residential units in TAZ 301550"
       ]
      },
      {
       "output_type": "stream",
       "stream": "stdout",
       "text": [
        "\n",
        "There are 0 households in TAZ 302010\n",
        "There are 0 households in TAZ 302020\n",
        "There are 0 households in TAZ 302030\n",
        "There are 21 households in TAZ 302040\n",
        "There are 925 residential units in TAZ 302040"
       ]
      },
      {
       "output_type": "stream",
       "stream": "stdout",
       "text": [
        "\n",
        "There are 0 households in TAZ 302050\n",
        "There are 0 households in TAZ 302060\n",
        "There are 14 households in TAZ 302070\n",
        "There are 2395 residential units in TAZ 302070"
       ]
      },
      {
       "output_type": "stream",
       "stream": "stdout",
       "text": [
        "\n",
        "There are 129 households in TAZ 302080\n",
        "There are 160 residential units in TAZ 302080"
       ]
      },
      {
       "output_type": "stream",
       "stream": "stdout",
       "text": [
        "\n",
        "Warning:  number of households exceeds number of resunits in TAZ 302080\n",
        "There are 67 households in TAZ 302090\n",
        "There are 520 residential units in TAZ 302090"
       ]
      },
      {
       "output_type": "stream",
       "stream": "stdout",
       "text": [
        "\n",
        "There are 110 households in TAZ 302110\n",
        "There are 125 residential units in TAZ 302110"
       ]
      },
      {
       "output_type": "stream",
       "stream": "stdout",
       "text": [
        "\n",
        "Warning:  number of households exceeds number of resunits in TAZ 302110\n",
        "There are 0 households in TAZ 302120\n",
        "There are 0 households in TAZ 302130\n",
        "There are 0 households in TAZ 302140\n",
        "There are 92 households in TAZ 302150\n",
        "There are 1080 residential units in TAZ 302150"
       ]
      },
      {
       "output_type": "stream",
       "stream": "stdout",
       "text": [
        "\n",
        "There are 0 households in TAZ 302160\n",
        "There are 57 households in TAZ 302170\n",
        "There are 765 residential units in TAZ 302170"
       ]
      },
      {
       "output_type": "stream",
       "stream": "stdout",
       "text": [
        "\n",
        "There are 0 households in TAZ 302180\n",
        "There are 0 households in TAZ 302190\n",
        "There are 0 households in TAZ 302200\n",
        "There are 0 households in TAZ 302210\n",
        "There are 0 households in TAZ 302220\n",
        "There are 1 households in TAZ 302230\n",
        "There are 375 residential units in TAZ 302230"
       ]
      },
      {
       "output_type": "stream",
       "stream": "stdout",
       "text": [
        "\n",
        "Warning:  number of households exceeds number of resunits in TAZ 302230\n",
        "There are 0 households in TAZ 302240\n",
        "There are 0 households in TAZ 302250\n",
        "There are 34 households in TAZ 302260\n",
        "There are 26495 residential units in TAZ 302260"
       ]
      },
      {
       "output_type": "stream",
       "stream": "stdout",
       "text": [
        "\n",
        "There are 24 households in TAZ 302270\n",
        "There are 8765 residential units in TAZ 302270"
       ]
      },
      {
       "output_type": "stream",
       "stream": "stdout",
       "text": [
        "\n",
        "There are 0 households in TAZ 302280\n",
        "There are 0 households in TAZ 302290\n",
        "There are 0 households in TAZ 302300\n",
        "There are 0 households in TAZ 302310\n",
        "There are 15 households in TAZ 302320\n",
        "There are 21625 residential units in TAZ 302320"
       ]
      },
      {
       "output_type": "stream",
       "stream": "stdout",
       "text": [
        "\n",
        "There are 0 households in TAZ 302330\n",
        "There are 0 households in TAZ 302340\n",
        "There are 10 households in TAZ 303010\n",
        "There are 1025 residential units in TAZ 303010"
       ]
      },
      {
       "output_type": "stream",
       "stream": "stdout",
       "text": [
        "\n",
        "There are 0 households in TAZ 303020\n",
        "There are 0 households in TAZ 303030\n",
        "There are 0 households in TAZ 303040\n",
        "There are 26 households in TAZ 303050\n",
        "There are 13145 residential units in TAZ 303050"
       ]
      },
      {
       "output_type": "stream",
       "stream": "stdout",
       "text": [
        "\n",
        "There are 26 households in TAZ 303060\n",
        "There are 13970 residential units in TAZ 303060"
       ]
      },
      {
       "output_type": "stream",
       "stream": "stdout",
       "text": [
        "\n",
        "There are 20 households in TAZ 303070\n",
        "There are 5780 residential units in TAZ 303070"
       ]
      },
      {
       "output_type": "stream",
       "stream": "stdout",
       "text": [
        "\n",
        "There are 0 households in TAZ 303080\n",
        "There are 95 households in TAZ 303090\n",
        "There are 6770 residential units in TAZ 303090"
       ]
      },
      {
       "output_type": "stream",
       "stream": "stdout",
       "text": [
        "\n",
        "There are 0 households in TAZ 303100\n",
        "There are 0 households in TAZ 303110\n",
        "There are 0 households in TAZ 303120\n",
        "There are 0 households in TAZ 303130\n",
        "There are 77 households in TAZ 303140\n",
        "There are 12590 residential units in TAZ 303140"
       ]
      },
      {
       "output_type": "stream",
       "stream": "stdout",
       "text": [
        "\n",
        "There are 20 households in TAZ 303150\n",
        "There are 16285 residential units in TAZ 303150"
       ]
      },
      {
       "output_type": "stream",
       "stream": "stdout",
       "text": [
        "\n",
        "There are 11 households in TAZ 303160\n",
        "There are 2420 residential units in TAZ 303160"
       ]
      },
      {
       "output_type": "stream",
       "stream": "stdout",
       "text": [
        "\n",
        "There are 0 households in TAZ 303170\n",
        "There are 0 households in TAZ 303180\n",
        "There are 0 households in TAZ 303190\n",
        "There are 94 households in TAZ 303200\n",
        "There are 16120 residential units in TAZ 303200"
       ]
      },
      {
       "output_type": "stream",
       "stream": "stdout",
       "text": [
        "\n",
        "There are 0 households in TAZ 303210\n",
        "There are 0 households in TAZ 303220\n",
        "There are 51 households in TAZ 303230\n",
        "There are 65 residential units in TAZ 303230"
       ]
      },
      {
       "output_type": "stream",
       "stream": "stdout",
       "text": [
        "\n",
        "Warning:  number of households exceeds number of resunits in TAZ 303230\n",
        "There are 0 households in TAZ 304010\n",
        "There are 0 households in TAZ 304020\n",
        "There are 0 households in TAZ 304030\n",
        "There are 0 households in TAZ 304040\n",
        "There are 0 households in TAZ 304050\n",
        "There are 14 households in TAZ 304060\n",
        "There are 1250 residential units in TAZ 304060"
       ]
      },
      {
       "output_type": "stream",
       "stream": "stdout",
       "text": [
        "\n",
        "There are 159 households in TAZ 304070\n",
        "There are 20 residential units in TAZ 304070"
       ]
      },
      {
       "output_type": "stream",
       "stream": "stdout",
       "text": [
        "\n",
        "Warning:  number of households exceeds number of resunits in TAZ 304070\n",
        "There are 45 households in TAZ 304090\n",
        "There are 85 residential units in TAZ 304090"
       ]
      },
      {
       "output_type": "stream",
       "stream": "stdout",
       "text": [
        "\n",
        "Warning:  number of households exceeds number of resunits in TAZ 304090\n",
        "There are 87 households in TAZ 304100\n",
        "There are 125 residential units in TAZ 304100"
       ]
      },
      {
       "output_type": "stream",
       "stream": "stdout",
       "text": [
        "\n",
        "Warning:  number of households exceeds number of resunits in TAZ 304100\n",
        "There are 29 households in TAZ 304110\n",
        "There are 225 residential units in TAZ 304110"
       ]
      },
      {
       "output_type": "stream",
       "stream": "stdout",
       "text": [
        "\n",
        "Warning:  number of households exceeds number of resunits in TAZ 304110\n",
        "There are 0 households in TAZ 304120\n",
        "There are 109 households in TAZ 304130\n",
        "There are 855 residential units in TAZ 304130"
       ]
      },
      {
       "output_type": "stream",
       "stream": "stdout",
       "text": [
        "\n",
        "There are 8 households in TAZ 304140\n",
        "There are 420 residential units in TAZ 304140"
       ]
      },
      {
       "output_type": "stream",
       "stream": "stdout",
       "text": [
        "\n",
        "Warning:  number of households exceeds number of resunits in TAZ 304140\n",
        "There are 8 households in TAZ 304150\n",
        "There are 280 residential units in TAZ 304150"
       ]
      },
      {
       "output_type": "stream",
       "stream": "stdout",
       "text": [
        "\n",
        "Warning:  number of households exceeds number of resunits in TAZ 304150\n",
        "There are 118 households in TAZ 304160\n",
        "There are 1425 residential units in TAZ 304160"
       ]
      },
      {
       "output_type": "stream",
       "stream": "stdout",
       "text": [
        "\n",
        "There are 0 households in TAZ 304170\n",
        "There are 0 households in TAZ 304180\n",
        "There are 286 households in TAZ 304190\n",
        "There are 1635 residential units in TAZ 304190"
       ]
      },
      {
       "output_type": "stream",
       "stream": "stdout",
       "text": [
        "\n",
        "There are 148 households in TAZ 304200\n",
        "There are 475 residential units in TAZ 304200"
       ]
      },
      {
       "output_type": "stream",
       "stream": "stdout",
       "text": [
        "\n",
        "There are 3 households in TAZ 304210\n",
        "There are 105 residential units in TAZ 304210"
       ]
      },
      {
       "output_type": "stream",
       "stream": "stdout",
       "text": [
        "\n",
        "Warning:  number of households exceeds number of resunits in TAZ 304210\n",
        "There are 68 households in TAZ 304220\n",
        "There are 1430 residential units in TAZ 304220"
       ]
      },
      {
       "output_type": "stream",
       "stream": "stdout",
       "text": [
        "\n",
        "There are 0 households in TAZ 304230\n",
        "There are 13 households in TAZ 304240\n",
        "There are 910 residential units in TAZ 304240"
       ]
      },
      {
       "output_type": "stream",
       "stream": "stdout",
       "text": [
        "\n",
        "There are 0 households in TAZ 304250\n",
        "There are 209 households in TAZ 304260\n",
        "There are 710 residential units in TAZ 304260"
       ]
      },
      {
       "output_type": "stream",
       "stream": "stdout",
       "text": [
        "\n",
        "There are 213 households in TAZ 304270\n",
        "There are 475 residential units in TAZ 304270"
       ]
      },
      {
       "output_type": "stream",
       "stream": "stdout",
       "text": [
        "\n",
        "There are 0 households in TAZ 304280\n",
        "There are 0 households in TAZ 304290\n",
        "There are 20 households in TAZ 304300\n",
        "There are 165 residential units in TAZ 304300"
       ]
      },
      {
       "output_type": "stream",
       "stream": "stdout",
       "text": [
        "\n",
        "Warning:  number of households exceeds number of resunits in TAZ 304300\n",
        "There are 0 households in TAZ 304310\n",
        "There are 73 households in TAZ 304320\n",
        "There are 580 residential units in TAZ 304320"
       ]
      },
      {
       "output_type": "stream",
       "stream": "stdout",
       "text": [
        "\n",
        "There are 0 households in TAZ 304330\n",
        "There are 0 households in TAZ 304340\n",
        "There are 4 households in TAZ 304350\n",
        "There are 20 residential units in TAZ 304350"
       ]
      },
      {
       "output_type": "stream",
       "stream": "stdout",
       "text": [
        "\n",
        "Warning:  number of households exceeds number of resunits in TAZ 304350\n",
        "There are 10 households in TAZ 304360\n",
        "There are 3180 residential units in TAZ 304360"
       ]
      },
      {
       "output_type": "stream",
       "stream": "stdout",
       "text": [
        "\n",
        "There are 490 households in TAZ 304370\n",
        "There are 855 residential units in TAZ 304370"
       ]
      },
      {
       "output_type": "stream",
       "stream": "stdout",
       "text": [
        "\n",
        "There are 0 households in TAZ 304390\n",
        "There are 47 households in TAZ 304400\n",
        "There are 10335 residential units in TAZ 304400"
       ]
      },
      {
       "output_type": "stream",
       "stream": "stdout",
       "text": [
        "\n",
        "There are 0 households in TAZ 304410\n",
        "There are 126 households in TAZ 304420\n",
        "There are 11165 residential units in TAZ 304420"
       ]
      },
      {
       "output_type": "stream",
       "stream": "stdout",
       "text": [
        "\n",
        "There are 292 households in TAZ 304430\n",
        "There are 18845 residential units in TAZ 304430"
       ]
      },
      {
       "output_type": "stream",
       "stream": "stdout",
       "text": [
        "\n",
        "There are 124 households in TAZ 304440\n",
        "There are 4975 residential units in TAZ 304440"
       ]
      },
      {
       "output_type": "stream",
       "stream": "stdout",
       "text": [
        "\n",
        "There are 109 households in TAZ 304450\n",
        "There are 715 residential units in TAZ 304450"
       ]
      },
      {
       "output_type": "stream",
       "stream": "stdout",
       "text": [
        "\n",
        "There are 0 households in TAZ 304460\n",
        "There are 0 households in TAZ 304470\n",
        "There are 743 households in TAZ 304480\n",
        "There are 23305 residential units in TAZ 304480"
       ]
      },
      {
       "output_type": "stream",
       "stream": "stdout",
       "text": [
        "\n",
        "There are 95 households in TAZ 304490\n",
        "There are 1610 residential units in TAZ 304490"
       ]
      },
      {
       "output_type": "stream",
       "stream": "stdout",
       "text": [
        "\n",
        "There are 0 households in TAZ 304500\n",
        "There are 6 households in TAZ 304510\n",
        "There are 1620 residential units in TAZ 304510"
       ]
      },
      {
       "output_type": "stream",
       "stream": "stdout",
       "text": [
        "\n",
        "There are 73 households in TAZ 304520\n",
        "There are 1190 residential units in TAZ 304520"
       ]
      },
      {
       "output_type": "stream",
       "stream": "stdout",
       "text": [
        "\n",
        "There are 18 households in TAZ 304530\n",
        "There are 1850 residential units in TAZ 304530"
       ]
      },
      {
       "output_type": "stream",
       "stream": "stdout",
       "text": [
        "\n",
        "There are 568 households in TAZ 304540\n",
        "There are 8300 residential units in TAZ 304540"
       ]
      },
      {
       "output_type": "stream",
       "stream": "stdout",
       "text": [
        "\n",
        "There are 422 households in TAZ 304550\n",
        "There are 9550 residential units in TAZ 304550"
       ]
      },
      {
       "output_type": "stream",
       "stream": "stdout",
       "text": [
        "\n",
        "There are 0 households in TAZ 304560\n",
        "There are 0 households in TAZ 304570\n",
        "There are 330 households in TAZ 304580\n",
        "There are 50 residential units in TAZ 304580"
       ]
      },
      {
       "output_type": "stream",
       "stream": "stdout",
       "text": [
        "\n",
        "Warning:  number of households exceeds number of resunits in TAZ 304580\n",
        "There are 0 households in TAZ 304590\n",
        "There are 34 households in TAZ 304600\n",
        "There are 100 residential units in TAZ 304600"
       ]
      },
      {
       "output_type": "stream",
       "stream": "stdout",
       "text": [
        "\n",
        "Warning:  number of households exceeds number of resunits in TAZ 304600\n",
        "There are 263 households in TAZ 304610\n",
        "There are 20 residential units in TAZ 304610"
       ]
      },
      {
       "output_type": "stream",
       "stream": "stdout",
       "text": [
        "\n",
        "Warning:  number of households exceeds number of resunits in TAZ 304610\n",
        "There are 0 households in TAZ 305010\n",
        "There are 0 households in TAZ 305020\n",
        "There are 0 households in TAZ 305030\n",
        "There are 0 households in TAZ 305040\n",
        "There are 0 households in TAZ 305050\n",
        "There are 359 households in TAZ 305060\n",
        "There are 20270 residential units in TAZ 305060"
       ]
      },
      {
       "output_type": "stream",
       "stream": "stdout",
       "text": [
        "\n",
        "There are 0 households in TAZ 305070\n",
        "There are 0 households in TAZ 305080\n",
        "There are 9 households in TAZ 305090\n",
        "There are 1500 residential units in TAZ 305090"
       ]
      },
      {
       "output_type": "stream",
       "stream": "stdout",
       "text": [
        "\n",
        "There are 0 households in TAZ 305100\n",
        "There are 4 households in TAZ 305110\n",
        "There are 20 residential units in TAZ 305110"
       ]
      },
      {
       "output_type": "stream",
       "stream": "stdout",
       "text": [
        "\n",
        "Warning:  number of households exceeds number of resunits in TAZ 305110\n",
        "There are 67 households in TAZ 305130\n",
        "There are 1185 residential units in TAZ 305130"
       ]
      },
      {
       "output_type": "stream",
       "stream": "stdout",
       "text": [
        "\n",
        "There are 5 households in TAZ 306010\n",
        "There are 260 residential units in TAZ 306010"
       ]
      },
      {
       "output_type": "stream",
       "stream": "stdout",
       "text": [
        "\n",
        "Warning:  number of households exceeds number of resunits in TAZ 306010\n",
        "There are 4 households in TAZ 306020\n",
        "There are 1420 residential units in TAZ 306020"
       ]
      },
      {
       "output_type": "stream",
       "stream": "stdout",
       "text": [
        "\n",
        "There are 4 households in TAZ 306030\n",
        "There are 480 residential units in TAZ 306030"
       ]
      },
      {
       "output_type": "stream",
       "stream": "stdout",
       "text": [
        "\n",
        "There are 0 households in TAZ 306040\n",
        "There are 0 households in TAZ 306050\n",
        "There are 0 households in TAZ 306060\n",
        "There are 128 households in TAZ 306070\n",
        "There are 27115 residential units in TAZ 306070"
       ]
      },
      {
       "output_type": "stream",
       "stream": "stdout",
       "text": [
        "\n",
        "There are 0 households in TAZ 306080\n",
        "There are 0 households in TAZ 306090\n",
        "There are 0 households in TAZ 306100\n",
        "There are 13 households in TAZ 306110\n",
        "There are 150 residential units in TAZ 306110"
       ]
      },
      {
       "output_type": "stream",
       "stream": "stdout",
       "text": [
        "\n",
        "Warning:  number of households exceeds number of resunits in TAZ 306110\n",
        "There are 0 households in TAZ 306120\n",
        "There are 0 households in TAZ 306130\n",
        "There are 40 households in TAZ 306140\n",
        "There are 28775 residential units in TAZ 306140"
       ]
      },
      {
       "output_type": "stream",
       "stream": "stdout",
       "text": [
        "\n",
        "There are 30 households in TAZ 306150\n",
        "There are 21705 residential units in TAZ 306150"
       ]
      },
      {
       "output_type": "stream",
       "stream": "stdout",
       "text": [
        "\n",
        "There are 0 households in TAZ 306160\n",
        "There are 0 households in TAZ 306170\n",
        "There are 23 households in TAZ 306180\n",
        "There are 23450 residential units in TAZ 306180"
       ]
      },
      {
       "output_type": "stream",
       "stream": "stdout",
       "text": [
        "\n",
        "There are 21 households in TAZ 306190\n",
        "There are 29955 residential units in TAZ 306190"
       ]
      },
      {
       "output_type": "stream",
       "stream": "stdout",
       "text": [
        "\n",
        "There are 0 households in TAZ 306200\n",
        "There are 0 households in TAZ 306210\n",
        "There are 0 households in TAZ 306220\n",
        "There are 7 households in TAZ 306230\n",
        "There are 27460 residential units in TAZ 306230"
       ]
      },
      {
       "output_type": "stream",
       "stream": "stdout",
       "text": [
        "\n",
        "There are 0 households in TAZ 306240\n",
        "There are 0 households in TAZ 306250\n",
        "There are 0 households in TAZ 306260\n",
        "There are 0 households in TAZ 306270\n",
        "There are 0 households in TAZ 306280\n",
        "There are 0 households in TAZ 306290\n",
        "There are 0 households in TAZ 306300"
       ]
      },
      {
       "output_type": "stream",
       "stream": "stdout",
       "text": [
        "\n",
        "There are 0 households in TAZ 307010\n",
        "There are 0 households in TAZ 307020\n",
        "There are 22 households in TAZ 307030\n",
        "There are 85 residential units in TAZ 307030"
       ]
      },
      {
       "output_type": "stream",
       "stream": "stdout",
       "text": [
        "\n",
        "Warning:  number of households exceeds number of resunits in TAZ 307030\n",
        "There are 0 households in TAZ 307040\n",
        "There are 0 households in TAZ 307050\n",
        "There are 37 households in TAZ 307060\n",
        "There are 15550 residential units in TAZ 307060"
       ]
      },
      {
       "output_type": "stream",
       "stream": "stdout",
       "text": [
        "\n",
        "There are 15 households in TAZ 307070\n",
        "There are 80 residential units in TAZ 307070"
       ]
      },
      {
       "output_type": "stream",
       "stream": "stdout",
       "text": [
        "\n",
        "Warning:  number of households exceeds number of resunits in TAZ 307070\n",
        "There are 0 households in TAZ 307080\n",
        "There are 0 households in TAZ 307090\n",
        "There are 0 households in TAZ 307100\n",
        "There are 0 households in TAZ 307110\n",
        "There are 0 households in TAZ 307120\n",
        "There are 0 households in TAZ 307130\n",
        "There are 0 households in TAZ 307140"
       ]
      },
      {
       "output_type": "stream",
       "stream": "stdout",
       "text": [
        "\n",
        "There are 13 households in TAZ 307150\n",
        "There are 14770 residential units in TAZ 307150"
       ]
      },
      {
       "output_type": "stream",
       "stream": "stdout",
       "text": [
        "\n",
        "There are 0 households in TAZ 307160\n",
        "There are 27 households in TAZ 307170\n",
        "There are 10035 residential units in TAZ 307170"
       ]
      },
      {
       "output_type": "stream",
       "stream": "stdout",
       "text": [
        "\n",
        "There are 0 households in TAZ 307180\n",
        "There are 0 households in TAZ 307190\n",
        "There are 0 households in TAZ 307200\n",
        "There are 0 households in TAZ 307210\n",
        "There are 0 households in TAZ 307220\n",
        "There are 75 households in TAZ 307230\n",
        "There are 8615 residential units in TAZ 307230"
       ]
      },
      {
       "output_type": "stream",
       "stream": "stdout",
       "text": [
        "\n",
        "There are 0 households in TAZ 307240\n",
        "There are 479 households in TAZ 307250\n",
        "There are 2500 residential units in TAZ 307250"
       ]
      },
      {
       "output_type": "stream",
       "stream": "stdout",
       "text": [
        "\n",
        "There are 321 households in TAZ 307260\n",
        "There are 4150 residential units in TAZ 307260"
       ]
      },
      {
       "output_type": "stream",
       "stream": "stdout",
       "text": [
        "\n",
        "There are 107 households in TAZ 307270\n",
        "There are 9280 residential units in TAZ 307270"
       ]
      },
      {
       "output_type": "stream",
       "stream": "stdout",
       "text": [
        "\n",
        "There are 101 households in TAZ 307280\n",
        "There are 5775 residential units in TAZ 307280"
       ]
      },
      {
       "output_type": "stream",
       "stream": "stdout",
       "text": [
        "\n",
        "There are 55 households in TAZ 307290\n",
        "There are 5900 residential units in TAZ 307290"
       ]
      },
      {
       "output_type": "stream",
       "stream": "stdout",
       "text": [
        "\n",
        "There are 0 households in TAZ 307300\n",
        "There are 0 households in TAZ 307310\n",
        "There are 0 households in TAZ 307320\n",
        "There are 0 households in TAZ 307330\n",
        "There are 4 households in TAZ 307340\n",
        "There are 120 residential units in TAZ 307340"
       ]
      },
      {
       "output_type": "stream",
       "stream": "stdout",
       "text": [
        "\n",
        "Warning:  number of households exceeds number of resunits in TAZ 307340\n",
        "There are 4 households in TAZ 308010\n",
        "There are 360 residential units in TAZ 308010"
       ]
      },
      {
       "output_type": "stream",
       "stream": "stdout",
       "text": [
        "\n",
        "Warning:  number of households exceeds number of resunits in TAZ 308010\n",
        "There are 0 households in TAZ 308020\n",
        "There are 0 households in TAZ 308030\n",
        "There are 414 households in TAZ 308040\n",
        "There are 14035 residential units in TAZ 308040"
       ]
      },
      {
       "output_type": "stream",
       "stream": "stdout",
       "text": [
        "\n",
        "There are 25 households in TAZ 308050\n",
        "There are 1760 residential units in TAZ 308050"
       ]
      },
      {
       "output_type": "stream",
       "stream": "stdout",
       "text": [
        "\n",
        "There are 91 households in TAZ 308060\n",
        "There are 8200 residential units in TAZ 308060"
       ]
      },
      {
       "output_type": "stream",
       "stream": "stdout",
       "text": [
        "\n",
        "There are 15 households in TAZ 308070\n",
        "There are 5095 residential units in TAZ 308070"
       ]
      },
      {
       "output_type": "stream",
       "stream": "stdout",
       "text": [
        "\n",
        "There are 0 households in TAZ 308080\n",
        "There are 9 households in TAZ 308090\n",
        "There are 4315 residential units in TAZ 308090"
       ]
      },
      {
       "output_type": "stream",
       "stream": "stdout",
       "text": [
        "\n",
        "There are 85 households in TAZ 308100\n",
        "There are 3590 residential units in TAZ 308100"
       ]
      },
      {
       "output_type": "stream",
       "stream": "stdout",
       "text": [
        "\n",
        "There are 47 households in TAZ 308110\n",
        "There are 670 residential units in TAZ 308110"
       ]
      },
      {
       "output_type": "stream",
       "stream": "stdout",
       "text": [
        "\n",
        "There are 0 households in TAZ 308120\n",
        "There are 0 households in TAZ 308130\n",
        "There are 8 households in TAZ 308140\n",
        "There are 6885 residential units in TAZ 308140"
       ]
      },
      {
       "output_type": "stream",
       "stream": "stdout",
       "text": [
        "\n",
        "There are 41 households in TAZ 308150\n",
        "There are 3955 residential units in TAZ 308150"
       ]
      },
      {
       "output_type": "stream",
       "stream": "stdout",
       "text": [
        "\n",
        "There are 0 households in TAZ 308160\n",
        "There are 0 households in TAZ 308170\n",
        "There are 0 households in TAZ 308180\n",
        "There are 0 households in TAZ 308190\n",
        "There are 0 households in TAZ 308200\n",
        "There are 0 households in TAZ 308210\n",
        "There are 0 households in TAZ 308220"
       ]
      },
      {
       "output_type": "stream",
       "stream": "stdout",
       "text": [
        "\n",
        "There are 0 households in TAZ 308230\n",
        "There are 8 households in TAZ 308240\n",
        "There are 11985 residential units in TAZ 308240"
       ]
      },
      {
       "output_type": "stream",
       "stream": "stdout",
       "text": [
        "\n",
        "There are 0 households in TAZ 308250\n",
        "There are 4 households in TAZ 309010\n",
        "There are 360 residential units in TAZ 309010"
       ]
      },
      {
       "output_type": "stream",
       "stream": "stdout",
       "text": [
        "\n",
        "Warning:  number of households exceeds number of resunits in TAZ 309010\n",
        "There are 0 households in TAZ 309020\n",
        "There are 0 households in TAZ 309030\n",
        "There are 0 households in TAZ 309040\n",
        "There are 98 households in TAZ 309050\n",
        "There are 2030 residential units in TAZ 309050"
       ]
      },
      {
       "output_type": "stream",
       "stream": "stdout",
       "text": [
        "\n",
        "There are 347 households in TAZ 309060\n",
        "There are 8455 residential units in TAZ 309060"
       ]
      },
      {
       "output_type": "stream",
       "stream": "stdout",
       "text": [
        "\n",
        "There are 3 households in TAZ 309070\n",
        "There are 65 residential units in TAZ 309070"
       ]
      },
      {
       "output_type": "stream",
       "stream": "stdout",
       "text": [
        "\n",
        "Warning:  number of households exceeds number of resunits in TAZ 309070\n",
        "There are 0 households in TAZ 309080\n",
        "There are 114 households in TAZ 309090\n",
        "There are 3095 residential units in TAZ 309090"
       ]
      },
      {
       "output_type": "stream",
       "stream": "stdout",
       "text": [
        "\n",
        "There are 0 households in TAZ 309100\n",
        "There are 0 households in TAZ 309110\n",
        "There are 0 households in TAZ 309120\n",
        "There are 0 households in TAZ 309130\n",
        "There are 0 households in TAZ 309140\n",
        "There are 78 households in TAZ 309150\n",
        "There are 5440 residential units in TAZ 309150"
       ]
      },
      {
       "output_type": "stream",
       "stream": "stdout",
       "text": [
        "\n",
        "There are 0 households in TAZ 309160\n",
        "There are 0 households in TAZ 309170\n",
        "There are 0 households in TAZ 309180\n",
        "There are 0 households in TAZ 309190\n",
        "There are 0 households in TAZ 309200\n",
        "There are 303 households in TAZ 309210\n",
        "There are 10210 residential units in TAZ 309210"
       ]
      },
      {
       "output_type": "stream",
       "stream": "stdout",
       "text": [
        "\n",
        "There are 55 households in TAZ 309220\n",
        "There are 15055 residential units in TAZ 309220"
       ]
      },
      {
       "output_type": "stream",
       "stream": "stdout",
       "text": [
        "\n",
        "There are 42 households in TAZ 309230\n",
        "There are 12715 residential units in TAZ 309230"
       ]
      },
      {
       "output_type": "stream",
       "stream": "stdout",
       "text": [
        "\n",
        "There are 0 households in TAZ 309240\n",
        "There are 0 households in TAZ 309260\n",
        "There are 0 households in TAZ 309270\n",
        "There are 0 households in TAZ 309280\n",
        "There are 26 households in TAZ 309290\n",
        "There are 1300 residential units in TAZ 309290"
       ]
      },
      {
       "output_type": "stream",
       "stream": "stdout",
       "text": [
        "\n",
        "There are 63 households in TAZ 309300\n",
        "There are 4675 residential units in TAZ 309300"
       ]
      },
      {
       "output_type": "stream",
       "stream": "stdout",
       "text": [
        "\n",
        "There are 3 households in TAZ 309310\n",
        "There are 395 residential units in TAZ 309310"
       ]
      },
      {
       "output_type": "stream",
       "stream": "stdout",
       "text": [
        "\n",
        "Warning:  number of households exceeds number of resunits in TAZ 309310\n",
        "There are 9 households in TAZ 309320\n",
        "There are 750 residential units in TAZ 309320"
       ]
      },
      {
       "output_type": "stream",
       "stream": "stdout",
       "text": [
        "\n",
        "There are 0 households in TAZ 310010\n",
        "There are 0 households in TAZ 310020\n",
        "There are 0 households in TAZ 310030\n",
        "There are 49 households in TAZ 310040\n",
        "There are 12720 residential units in TAZ 310040"
       ]
      },
      {
       "output_type": "stream",
       "stream": "stdout",
       "text": [
        "\n",
        "There are 0 households in TAZ 310050\n",
        "There are 0 households in TAZ 310060\n",
        "There are 0 households in TAZ 310070\n",
        "There are 1 households in TAZ 310090\n",
        "There are 335 residential units in TAZ 310090"
       ]
      },
      {
       "output_type": "stream",
       "stream": "stdout",
       "text": [
        "\n",
        "Warning:  number of households exceeds number of resunits in TAZ 310090\n",
        "There are 4 households in TAZ 310100\n",
        "There are 1235 residential units in TAZ 310100"
       ]
      },
      {
       "output_type": "stream",
       "stream": "stdout",
       "text": [
        "\n",
        "There are 0 households in TAZ 310110\n",
        "There are 1 households in TAZ 310120\n",
        "There are 100 residential units in TAZ 310120"
       ]
      },
      {
       "output_type": "stream",
       "stream": "stdout",
       "text": [
        "\n",
        "Warning:  number of households exceeds number of resunits in TAZ 310120\n",
        "There are 0 households in TAZ 310130\n",
        "There are 1 households in TAZ 310140\n",
        "There are 1940 residential units in TAZ 310140"
       ]
      },
      {
       "output_type": "stream",
       "stream": "stdout",
       "text": [
        "\n",
        "There are 7 households in TAZ 310150\n",
        "There are 1165 residential units in TAZ 310150"
       ]
      },
      {
       "output_type": "stream",
       "stream": "stdout",
       "text": [
        "\n",
        "There are 0 households in TAZ 310160\n",
        "There are 20 households in TAZ 310170\n",
        "There are 3235 residential units in TAZ 310170"
       ]
      },
      {
       "output_type": "stream",
       "stream": "stdout",
       "text": [
        "\n",
        "There are 27 households in TAZ 310180\n",
        "There are 1470 residential units in TAZ 310180"
       ]
      },
      {
       "output_type": "stream",
       "stream": "stdout",
       "text": [
        "\n",
        "There are 0 households in TAZ 310190\n",
        "There are 2 households in TAZ 310200\n",
        "There are 620 residential units in TAZ 310200"
       ]
      },
      {
       "output_type": "stream",
       "stream": "stdout",
       "text": [
        "\n",
        "There are 124 households in TAZ 310210\n",
        "There are 7005 residential units in TAZ 310210"
       ]
      },
      {
       "output_type": "stream",
       "stream": "stdout",
       "text": [
        "\n",
        "There are 0 households in TAZ 310220\n",
        "There are 135 households in TAZ 310230\n",
        "There are 705 residential units in TAZ 310230"
       ]
      },
      {
       "output_type": "stream",
       "stream": "stdout",
       "text": [
        "\n",
        "There are 0 households in TAZ 310240\n",
        "There are 65 households in TAZ 310250\n",
        "There are 3695 residential units in TAZ 310250"
       ]
      },
      {
       "output_type": "stream",
       "stream": "stdout",
       "text": [
        "\n",
        "There are 0 households in TAZ 310260\n",
        "There are 0 households in TAZ 310270\n",
        "There are 41 households in TAZ 310280\n",
        "There are 21810 residential units in TAZ 310280"
       ]
      },
      {
       "output_type": "stream",
       "stream": "stdout",
       "text": [
        "\n",
        "There are 0 households in TAZ 310290\n",
        "There are 36 households in TAZ 310300\n",
        "There are 4275 residential units in TAZ 310300"
       ]
      },
      {
       "output_type": "stream",
       "stream": "stdout",
       "text": [
        "\n",
        "There are 162 households in TAZ 310310\n",
        "There are 1820 residential units in TAZ 310310"
       ]
      },
      {
       "output_type": "stream",
       "stream": "stdout",
       "text": [
        "\n",
        "There are 347 households in TAZ 310320\n",
        "There are 380 residential units in TAZ 310320"
       ]
      },
      {
       "output_type": "stream",
       "stream": "stdout",
       "text": [
        "\n",
        "Warning:  number of households exceeds number of resunits in TAZ 310320\n",
        "There are 8 households in TAZ 310330\n",
        "There are 540 residential units in TAZ 310330"
       ]
      },
      {
       "output_type": "stream",
       "stream": "stdout",
       "text": [
        "\n",
        "There are 0 households in TAZ 310340\n",
        "There are 173 households in TAZ 310350\n",
        "There are 520 residential units in TAZ 310350"
       ]
      },
      {
       "output_type": "stream",
       "stream": "stdout",
       "text": [
        "\n",
        "There are 0 households in TAZ 310360\n",
        "There are 14 households in TAZ 310370\n",
        "There are 860 residential units in TAZ 310370"
       ]
      },
      {
       "output_type": "stream",
       "stream": "stdout",
       "text": [
        "\n",
        "There are 64 households in TAZ 310380\n",
        "There are 10295 residential units in TAZ 310380"
       ]
      },
      {
       "output_type": "stream",
       "stream": "stdout",
       "text": [
        "\n",
        "There are 6 households in TAZ 311010\n",
        "There are 770 residential units in TAZ 311010"
       ]
      },
      {
       "output_type": "stream",
       "stream": "stdout",
       "text": [
        "\n",
        "There are 11 households in TAZ 311020\n",
        "There are 1635 residential units in TAZ 311020"
       ]
      },
      {
       "output_type": "stream",
       "stream": "stdout",
       "text": [
        "\n",
        "There are 9 households in TAZ 311040\n",
        "There are 7735 residential units in TAZ 311040"
       ]
      },
      {
       "output_type": "stream",
       "stream": "stdout",
       "text": [
        "\n",
        "There are 64 households in TAZ 311050\n",
        "There are 8400 residential units in TAZ 311050"
       ]
      },
      {
       "output_type": "stream",
       "stream": "stdout",
       "text": [
        "\n",
        "There are 2 households in TAZ 311060\n",
        "There are 455 residential units in TAZ 311060"
       ]
      },
      {
       "output_type": "stream",
       "stream": "stdout",
       "text": [
        "\n",
        "Warning:  number of households exceeds number of resunits in TAZ 311060\n",
        "There are 1 households in TAZ 311070\n",
        "There are 865 residential units in TAZ 311070"
       ]
      },
      {
       "output_type": "stream",
       "stream": "stdout",
       "text": [
        "\n",
        "There are 0 households in TAZ 311080\n",
        "There are 0 households in TAZ 311090\n",
        "There are 0 households in TAZ 311100\n",
        "There are 0 households in TAZ 311110\n",
        "There are 10 households in TAZ 311120\n",
        "There are 10930 residential units in TAZ 311120"
       ]
      },
      {
       "output_type": "stream",
       "stream": "stdout",
       "text": [
        "\n",
        "There are 0 households in TAZ 311130\n",
        "There are 0 households in TAZ 311140\n",
        "There are 0 households in TAZ 311150\n",
        "There are 0 households in TAZ 311160\n",
        "There are 0 households in TAZ 311170\n",
        "There are 0 households in TAZ 311180\n",
        "There are 32 households in TAZ 311190"
       ]
      },
      {
       "output_type": "stream",
       "stream": "stdout",
       "text": [
        "\n",
        "There are 1175 residential units in TAZ 311190"
       ]
      },
      {
       "output_type": "stream",
       "stream": "stdout",
       "text": [
        "\n",
        "There are 2 households in TAZ 311200\n",
        "There are 1030 residential units in TAZ 311200"
       ]
      },
      {
       "output_type": "stream",
       "stream": "stdout",
       "text": [
        "\n",
        "There are 12 households in TAZ 311210\n",
        "There are 3450 residential units in TAZ 311210"
       ]
      },
      {
       "output_type": "stream",
       "stream": "stdout",
       "text": [
        "\n",
        "There are 0 households in TAZ 311220\n",
        "There are 0 households in TAZ 311230\n",
        "There are 0 households in TAZ 311250\n",
        "There are 6 households in TAZ 311260\n",
        "There are 4120 residential units in TAZ 311260"
       ]
      },
      {
       "output_type": "stream",
       "stream": "stdout",
       "text": [
        "\n",
        "There are 0 households in TAZ 311270\n",
        "There are 6 households in TAZ 311280\n",
        "There are 220 residential units in TAZ 311280"
       ]
      },
      {
       "output_type": "stream",
       "stream": "stdout",
       "text": [
        "\n",
        "Warning:  number of households exceeds number of resunits in TAZ 311280\n",
        "There are 4 households in TAZ 311290\n",
        "There are 2250 residential units in TAZ 311290"
       ]
      },
      {
       "output_type": "stream",
       "stream": "stdout",
       "text": [
        "\n",
        "There are 6 households in TAZ 311300\n",
        "There are 1135 residential units in TAZ 311300"
       ]
      },
      {
       "output_type": "stream",
       "stream": "stdout",
       "text": [
        "\n",
        "There are 4 households in TAZ 311320\n",
        "There are 405 residential units in TAZ 311320"
       ]
      },
      {
       "output_type": "stream",
       "stream": "stdout",
       "text": [
        "\n",
        "Warning:  number of households exceeds number of resunits in TAZ 311320\n",
        "There are 412 households in TAZ 312010\n",
        "There are 1120 residential units in TAZ 312010"
       ]
      },
      {
       "output_type": "stream",
       "stream": "stdout",
       "text": [
        "\n",
        "There are 0 households in TAZ 312040\n",
        "There are 0 households in TAZ 312050\n",
        "There are 0 households in TAZ 312070\n",
        "There are 5 households in TAZ 312080\n",
        "There are 340 residential units in TAZ 312080"
       ]
      },
      {
       "output_type": "stream",
       "stream": "stdout",
       "text": [
        "\n",
        "Warning:  number of households exceeds number of resunits in TAZ 312080\n",
        "There are 149 households in TAZ 312090\n",
        "There are 280 residential units in TAZ 312090"
       ]
      },
      {
       "output_type": "stream",
       "stream": "stdout",
       "text": [
        "\n",
        "Warning:  number of households exceeds number of resunits in TAZ 312090\n",
        "There are 4 households in TAZ 312110\n",
        "There are 180 residential units in TAZ 312110"
       ]
      },
      {
       "output_type": "stream",
       "stream": "stdout",
       "text": [
        "\n",
        "Warning:  number of households exceeds number of resunits in TAZ 312110\n",
        "There are 0 households in TAZ 312140\n",
        "There are 6 households in TAZ 312150\n",
        "There are 520 residential units in TAZ 312150"
       ]
      },
      {
       "output_type": "stream",
       "stream": "stdout",
       "text": [
        "\n",
        "There are 0 households in TAZ 312160\n",
        "There are 0 households in TAZ 312170\n",
        "There are 0 households in TAZ 312180\n",
        "There are 2 households in TAZ 312190\n",
        "There are 15715 residential units in TAZ 312190"
       ]
      },
      {
       "output_type": "stream",
       "stream": "stdout",
       "text": [
        "\n",
        "There are 24 households in TAZ 312200\n",
        "There are 23740 residential units in TAZ 312200"
       ]
      },
      {
       "output_type": "stream",
       "stream": "stdout",
       "text": [
        "\n",
        "There are 0 households in TAZ 312250\n",
        "There are 15 households in TAZ 312260\n",
        "There are 18320 residential units in TAZ 312260"
       ]
      },
      {
       "output_type": "stream",
       "stream": "stdout",
       "text": [
        "\n",
        "There are 78 households in TAZ 312270\n",
        "There are 18430 residential units in TAZ 312270"
       ]
      },
      {
       "output_type": "stream",
       "stream": "stdout",
       "text": [
        "\n",
        "There are 0 households in TAZ 312280\n",
        "There are 163 households in TAZ 312290\n",
        "There are 15995 residential units in TAZ 312290"
       ]
      },
      {
       "output_type": "stream",
       "stream": "stdout",
       "text": [
        "\n",
        "There are 276 households in TAZ 312310\n",
        "There are 1240 residential units in TAZ 312310"
       ]
      },
      {
       "output_type": "stream",
       "stream": "stdout",
       "text": [
        "\n",
        "There are 139 households in TAZ 312320\n",
        "There are 100 residential units in TAZ 312320"
       ]
      },
      {
       "output_type": "stream",
       "stream": "stdout",
       "text": [
        "\n",
        "Warning:  number of households exceeds number of resunits in TAZ 312320\n",
        "There are 136 households in TAZ 312330\n",
        "There are 6080 residential units in TAZ 312330"
       ]
      },
      {
       "output_type": "stream",
       "stream": "stdout",
       "text": [
        "\n",
        "There are 107 households in TAZ 312340\n",
        "There are 11160 residential units in TAZ 312340"
       ]
      },
      {
       "output_type": "stream",
       "stream": "stdout",
       "text": [
        "\n",
        "There are 0 households in TAZ 312350\n",
        "There are 216 households in TAZ 312360\n",
        "There are 2340 residential units in TAZ 312360"
       ]
      },
      {
       "output_type": "stream",
       "stream": "stdout",
       "text": [
        "\n",
        "There are 1608 households in TAZ 313120\n",
        "There are 11340 residential units in TAZ 313120"
       ]
      },
      {
       "output_type": "stream",
       "stream": "stdout",
       "text": [
        "\n",
        "There are 12 households in TAZ 313190\n",
        "There are 50 residential units in TAZ 313190"
       ]
      },
      {
       "output_type": "stream",
       "stream": "stdout",
       "text": [
        "\n",
        "Warning:  number of households exceeds number of resunits in TAZ 313190\n",
        "There are 23 households in TAZ 313200\n",
        "There are 50 residential units in TAZ 313200"
       ]
      },
      {
       "output_type": "stream",
       "stream": "stdout",
       "text": [
        "\n",
        "Warning:  number of households exceeds number of resunits in TAZ 313200\n",
        "There are 405 households in TAZ 313230\n",
        "There are 125 residential units in TAZ 313230"
       ]
      },
      {
       "output_type": "stream",
       "stream": "stdout",
       "text": [
        "\n",
        "Warning:  number of households exceeds number of resunits in TAZ 313230\n",
        "There are 322 households in TAZ 313240\n",
        "There are 20 residential units in TAZ 313240"
       ]
      },
      {
       "output_type": "stream",
       "stream": "stdout",
       "text": [
        "\n",
        "Warning:  number of households exceeds number of resunits in TAZ 313240\n",
        "There are 247 households in TAZ 313250\n",
        "There are 875 residential units in TAZ 313250"
       ]
      },
      {
       "output_type": "stream",
       "stream": "stdout",
       "text": [
        "\n",
        "There are 86 households in TAZ 313260\n",
        "There are 240 residential units in TAZ 313260"
       ]
      },
      {
       "output_type": "stream",
       "stream": "stdout",
       "text": [
        "\n",
        "Warning:  number of households exceeds number of resunits in TAZ 313260\n",
        "There are 18 households in TAZ 313270\n",
        "There are 350 residential units in TAZ 313270"
       ]
      },
      {
       "output_type": "stream",
       "stream": "stdout",
       "text": [
        "\n",
        "Warning:  number of households exceeds number of resunits in TAZ 313270\n",
        "There are 24 households in TAZ 313280\n",
        "There are 400 residential units in TAZ 313280"
       ]
      },
      {
       "output_type": "stream",
       "stream": "stdout",
       "text": [
        "\n",
        "Warning:  number of households exceeds number of resunits in TAZ 313280\n",
        "There are 5 households in TAZ 313300\n",
        "There are 70 residential units in TAZ 313300"
       ]
      },
      {
       "output_type": "stream",
       "stream": "stdout",
       "text": [
        "\n",
        "Warning:  number of households exceeds number of resunits in TAZ 313300\n",
        "There are 3 households in TAZ 313320\n",
        "There are 145 residential units in TAZ 313320"
       ]
      },
      {
       "output_type": "stream",
       "stream": "stdout",
       "text": [
        "\n",
        "Warning:  number of households exceeds number of resunits in TAZ 313320\n",
        "There are 238 households in TAZ 313330\n",
        "There are 1550 residential units in TAZ 313330"
       ]
      },
      {
       "output_type": "stream",
       "stream": "stdout",
       "text": [
        "\n",
        "There are 1 households in TAZ 313340\n",
        "There are 35 residential units in TAZ 313340"
       ]
      },
      {
       "output_type": "stream",
       "stream": "stdout",
       "text": [
        "\n",
        "Warning:  number of households exceeds number of resunits in TAZ 313340\n",
        "There are 1 households in TAZ 313360\n",
        "There are 295 residential units in TAZ 313360"
       ]
      },
      {
       "output_type": "stream",
       "stream": "stdout",
       "text": [
        "\n",
        "Warning:  number of households exceeds number of resunits in TAZ 313360\n",
        "There are 4 households in TAZ 313380\n",
        "There are 310 residential units in TAZ 313380"
       ]
      },
      {
       "output_type": "stream",
       "stream": "stdout",
       "text": [
        "\n",
        "Warning:  number of households exceeds number of resunits in TAZ 313380\n",
        "There are 124 households in TAZ 313410\n",
        "There are 20475 residential units in TAZ 313410"
       ]
      },
      {
       "output_type": "stream",
       "stream": "stdout",
       "text": [
        "\n",
        "There are 317 households in TAZ 313420\n",
        "There are 18510 residential units in TAZ 313420"
       ]
      },
      {
       "output_type": "stream",
       "stream": "stdout",
       "text": [
        "\n",
        "There are 0 households in TAZ 313460\n",
        "There are 0 households in TAZ 401010\n",
        "There are 2 households in TAZ 401020\n",
        "There are 625 residential units in TAZ 401020"
       ]
      },
      {
       "output_type": "stream",
       "stream": "stdout",
       "text": [
        "\n",
        "There are 0 households in TAZ 401030\n",
        "There are 0 households in TAZ 401050\n",
        "There are 0 households in TAZ 401060\n",
        "There are 44 households in TAZ 401070\n",
        "There are 17505 residential units in TAZ 401070"
       ]
      },
      {
       "output_type": "stream",
       "stream": "stdout",
       "text": [
        "\n",
        "There are 3 households in TAZ 401080\n",
        "There are 2005 residential units in TAZ 401080"
       ]
      },
      {
       "output_type": "stream",
       "stream": "stdout",
       "text": [
        "\n",
        "There are 0 households in TAZ 401090\n",
        "There are 0 households in TAZ 401100\n",
        "There are 0 households in TAZ 401110\n",
        "There are 0 households in TAZ 401120\n",
        "There are 0 households in TAZ 401130\n",
        "There are 0 households in TAZ 401140\n",
        "There are 69 households in TAZ 401150"
       ]
      },
      {
       "output_type": "stream",
       "stream": "stdout",
       "text": [
        "\n",
        "There are 20325 residential units in TAZ 401150"
       ]
      },
      {
       "output_type": "stream",
       "stream": "stdout",
       "text": [
        "\n",
        "There are 0 households in TAZ 401160\n",
        "There are 0 households in TAZ 401170\n",
        "There are 0 households in TAZ 401180\n",
        "There are 0 households in TAZ 401190\n",
        "There are 26 households in TAZ 401200\n",
        "There are 12830 residential units in TAZ 401200"
       ]
      },
      {
       "output_type": "stream",
       "stream": "stdout",
       "text": [
        "\n",
        "There are 0 households in TAZ 401210\n",
        "There are 0 households in TAZ 401220\n",
        "There are 0 households in TAZ 401230\n",
        "There are 0 households in TAZ 401240\n",
        "There are 0 households in TAZ 401250\n",
        "There are 0 households in TAZ 401260\n",
        "There are 0 households in TAZ 401280"
       ]
      },
      {
       "output_type": "stream",
       "stream": "stdout",
       "text": [
        "\n",
        "There are 108 households in TAZ 401290\n",
        "There are 20 residential units in TAZ 401290"
       ]
      },
      {
       "output_type": "stream",
       "stream": "stdout",
       "text": [
        "\n",
        "Warning:  number of households exceeds number of resunits in TAZ 401290\n",
        "There are 6 households in TAZ 401300\n",
        "There are 2190 residential units in TAZ 401300"
       ]
      },
      {
       "output_type": "stream",
       "stream": "stdout",
       "text": [
        "\n",
        "There are 0 households in TAZ 401310\n",
        "There are 0 households in TAZ 401320\n",
        "There are 0 households in TAZ 401330\n",
        "There are 0 households in TAZ 401340\n",
        "There are 0 households in TAZ 401360\n",
        "There are 0 households in TAZ 401380\n",
        "There are 227 households in TAZ 401390"
       ]
      },
      {
       "output_type": "stream",
       "stream": "stdout",
       "text": [
        "\n",
        "There are 32130 residential units in TAZ 401390"
       ]
      },
      {
       "output_type": "stream",
       "stream": "stdout",
       "text": [
        "\n",
        "There are 5 households in TAZ 401400\n",
        "There are 40 residential units in TAZ 401400"
       ]
      },
      {
       "output_type": "stream",
       "stream": "stdout",
       "text": [
        "\n",
        "Warning:  number of households exceeds number of resunits in TAZ 401400\n",
        "There are 4 households in TAZ 402010\n",
        "There are 900 residential units in TAZ 402010"
       ]
      },
      {
       "output_type": "stream",
       "stream": "stdout",
       "text": [
        "\n",
        "There are 0 households in TAZ 402020\n",
        "There are 8 households in TAZ 402030\n",
        "There are 1570 residential units in TAZ 402030"
       ]
      },
      {
       "output_type": "stream",
       "stream": "stdout",
       "text": [
        "\n",
        "There are 1 households in TAZ 402040\n",
        "There are 1080 residential units in TAZ 402040"
       ]
      },
      {
       "output_type": "stream",
       "stream": "stdout",
       "text": [
        "\n",
        "There are 0 households in TAZ 402050\n",
        "There are 4 households in TAZ 402060\n",
        "There are 935 residential units in TAZ 402060"
       ]
      },
      {
       "output_type": "stream",
       "stream": "stdout",
       "text": [
        "\n",
        "There are 0 households in TAZ 402070\n",
        "There are 63 households in TAZ 402090\n",
        "There are 5580 residential units in TAZ 402090"
       ]
      },
      {
       "output_type": "stream",
       "stream": "stdout",
       "text": [
        "\n",
        "There are 0 households in TAZ 402100\n",
        "There are 177 households in TAZ 402110\n",
        "There are 605 residential units in TAZ 402110"
       ]
      },
      {
       "output_type": "stream",
       "stream": "stdout",
       "text": [
        "\n",
        "There are 90 households in TAZ 402120\n",
        "There are 660 residential units in TAZ 402120"
       ]
      },
      {
       "output_type": "stream",
       "stream": "stdout",
       "text": [
        "\n",
        "There are 4 households in TAZ 402130\n",
        "There are 300 residential units in TAZ 402130"
       ]
      },
      {
       "output_type": "stream",
       "stream": "stdout",
       "text": [
        "\n",
        "Warning:  number of households exceeds number of resunits in TAZ 402130\n",
        "There are 0 households in TAZ 402140\n",
        "There are 0 households in TAZ 402150\n",
        "There are 0 households in TAZ 402170\n",
        "There are 0 households in TAZ 402180\n",
        "There are 0 households in TAZ 402190\n",
        "There are 0 households in TAZ 402200\n",
        "There are 0 households in TAZ 402210"
       ]
      },
      {
       "output_type": "stream",
       "stream": "stdout",
       "text": [
        "\n",
        "There are 0 households in TAZ 402220\n",
        "There are 0 households in TAZ 402230\n",
        "There are 0 households in TAZ 402240\n",
        "There are 0 households in TAZ 402250\n",
        "There are 0 households in TAZ 402260\n",
        "There are 121 households in TAZ 402270\n",
        "There are 3610 residential units in TAZ 402270"
       ]
      },
      {
       "output_type": "stream",
       "stream": "stdout",
       "text": [
        "\n",
        "There are 244 households in TAZ 402280\n",
        "There are 280 residential units in TAZ 402280"
       ]
      },
      {
       "output_type": "stream",
       "stream": "stdout",
       "text": [
        "\n",
        "Warning:  number of households exceeds number of resunits in TAZ 402280\n",
        "There are 0 households in TAZ 402290\n",
        "There are 0 households in TAZ 402300\n",
        "There are 0 households in TAZ 402310\n",
        "There are 0 households in TAZ 402320\n",
        "There are 8 households in TAZ 402330\n",
        "There are 3720 residential units in TAZ 402330"
       ]
      },
      {
       "output_type": "stream",
       "stream": "stdout",
       "text": [
        "\n",
        "There are 0 households in TAZ 402340\n",
        "There are 0 households in TAZ 402350\n",
        "There are 0 households in TAZ 402360\n",
        "There are 4 households in TAZ 402370\n",
        "There are 40 residential units in TAZ 402370"
       ]
      },
      {
       "output_type": "stream",
       "stream": "stdout",
       "text": [
        "\n",
        "Warning:  number of households exceeds number of resunits in TAZ 402370\n",
        "There are 0 households in TAZ 402380\n",
        "There are 0 households in TAZ 402390\n",
        "There are 0 households in TAZ 402400\n",
        "There are 0 households in TAZ 402410\n",
        "There are 0 households in TAZ 402420\n",
        "There are 0 households in TAZ 402430\n",
        "There are 46 households in TAZ 402440"
       ]
      },
      {
       "output_type": "stream",
       "stream": "stdout",
       "text": [
        "\n",
        "There are 1165 residential units in TAZ 402440"
       ]
      },
      {
       "output_type": "stream",
       "stream": "stdout",
       "text": [
        "\n",
        "There are 0 households in TAZ 402450\n",
        "There are 0 households in TAZ 402460\n",
        "There are 71 households in TAZ 402470\n",
        "There are 970 residential units in TAZ 402470"
       ]
      },
      {
       "output_type": "stream",
       "stream": "stdout",
       "text": [
        "\n",
        "There are 0 households in TAZ 402480\n",
        "There are 7 households in TAZ 402490\n",
        "There are 740 residential units in TAZ 402490"
       ]
      },
      {
       "output_type": "stream",
       "stream": "stdout",
       "text": [
        "\n",
        "There are 0 households in TAZ 402500\n",
        "There are 0 households in TAZ 402510\n",
        "There are 0 households in TAZ 402520\n",
        "There are 0 households in TAZ 402530\n",
        "There are 0 households in TAZ 402540\n",
        "There are 0 households in TAZ 402550\n",
        "There are 5 households in TAZ 403020"
       ]
      },
      {
       "output_type": "stream",
       "stream": "stdout",
       "text": [
        "\n",
        "There are 760 residential units in TAZ 403020"
       ]
      },
      {
       "output_type": "stream",
       "stream": "stdout",
       "text": [
        "\n",
        "There are 16 households in TAZ 403050\n",
        "There are 380 residential units in TAZ 403050"
       ]
      },
      {
       "output_type": "stream",
       "stream": "stdout",
       "text": [
        "\n",
        "Warning:  number of households exceeds number of resunits in TAZ 403050\n",
        "There are 4 households in TAZ 403060\n",
        "There are 380 residential units in TAZ 403060"
       ]
      },
      {
       "output_type": "stream",
       "stream": "stdout",
       "text": [
        "\n",
        "Warning:  number of households exceeds number of resunits in TAZ 403060\n",
        "There are 0 households in TAZ 403080\n",
        "There are 23 households in TAZ 403090\n",
        "There are 1900 residential units in TAZ 403090"
       ]
      },
      {
       "output_type": "stream",
       "stream": "stdout",
       "text": [
        "\n",
        "There are 4 households in TAZ 403100\n",
        "There are 980 residential units in TAZ 403100"
       ]
      },
      {
       "output_type": "stream",
       "stream": "stdout",
       "text": [
        "\n",
        "There are 6 households in TAZ 403110\n",
        "There are 1030 residential units in TAZ 403110"
       ]
      },
      {
       "output_type": "stream",
       "stream": "stdout",
       "text": [
        "\n",
        "There are 0 households in TAZ 403120\n",
        "There are 0 households in TAZ 403130\n",
        "There are 0 households in TAZ 403140\n",
        "There are 0 households in TAZ 403150\n",
        "There are 0 households in TAZ 403160\n",
        "There are 0 households in TAZ 403170\n",
        "There are 0 households in TAZ 403180"
       ]
      },
      {
       "output_type": "stream",
       "stream": "stdout",
       "text": [
        "\n",
        "There are 20 households in TAZ 403190\n",
        "There are 10190 residential units in TAZ 403190"
       ]
      },
      {
       "output_type": "stream",
       "stream": "stdout",
       "text": [
        "\n",
        "There are 49 households in TAZ 403200\n",
        "There are 15820 residential units in TAZ 403200"
       ]
      },
      {
       "output_type": "stream",
       "stream": "stdout",
       "text": [
        "\n",
        "There are 0 households in TAZ 403210\n",
        "There are 20 households in TAZ 403220\n",
        "There are 16340 residential units in TAZ 403220"
       ]
      },
      {
       "output_type": "stream",
       "stream": "stdout",
       "text": [
        "\n",
        "There are 0 households in TAZ 403230\n",
        "There are 0 households in TAZ 403240\n",
        "There are 15 households in TAZ 403250\n",
        "There are 6520 residential units in TAZ 403250"
       ]
      },
      {
       "output_type": "stream",
       "stream": "stdout",
       "text": [
        "\n",
        "There are 25 households in TAZ 403260\n",
        "There are 6770 residential units in TAZ 403260"
       ]
      },
      {
       "output_type": "stream",
       "stream": "stdout",
       "text": [
        "\n",
        "There are 501 households in TAZ 404030\n",
        "There are 680 residential units in TAZ 404030"
       ]
      },
      {
       "output_type": "stream",
       "stream": "stdout",
       "text": [
        "\n",
        "There are 20 households in TAZ 404050\n",
        "There are 165 residential units in TAZ 404050"
       ]
      },
      {
       "output_type": "stream",
       "stream": "stdout",
       "text": [
        "\n",
        "Warning:  number of households exceeds number of resunits in TAZ 404050\n",
        "There are 25 households in TAZ 404080\n",
        "There are 22940 residential units in TAZ 404080"
       ]
      },
      {
       "output_type": "stream",
       "stream": "stdout",
       "text": [
        "\n",
        "There are 0 households in TAZ 404090\n",
        "There are 0 households in TAZ 404100\n",
        "There are 0 households in TAZ 404110\n",
        "There are 0 households in TAZ 404120\n",
        "There are 55 households in TAZ 404140\n",
        "There are 40 residential units in TAZ 404140"
       ]
      },
      {
       "output_type": "stream",
       "stream": "stdout",
       "text": [
        "\n",
        "Warning:  number of households exceeds number of resunits in TAZ 404140\n",
        "There are 0 households in TAZ 404150\n",
        "There are 0 households in TAZ 404160\n",
        "There are 0 households in TAZ 404170\n",
        "There are 0 households in TAZ 404180\n",
        "There are 0 households in TAZ 404190\n",
        "There are 84 households in TAZ 404200\n",
        "There are 13465 residential units in TAZ 404200"
       ]
      },
      {
       "output_type": "stream",
       "stream": "stdout",
       "text": [
        "\n",
        "There are 0 households in TAZ 404210\n",
        "There are 28 households in TAZ 404220\n",
        "There are 60 residential units in TAZ 404220"
       ]
      },
      {
       "output_type": "stream",
       "stream": "stdout",
       "text": [
        "\n",
        "Warning:  number of households exceeds number of resunits in TAZ 404220\n",
        "There are 18 households in TAZ 404240\n",
        "There are 160 residential units in TAZ 404240"
       ]
      },
      {
       "output_type": "stream",
       "stream": "stdout",
       "text": [
        "\n",
        "Warning:  number of households exceeds number of resunits in TAZ 404240\n",
        "There are 0 households in TAZ 404250\n",
        "There are 0 households in TAZ 404260\n",
        "There are 28 households in TAZ 404270\n",
        "There are 20835 residential units in TAZ 404270"
       ]
      },
      {
       "output_type": "stream",
       "stream": "stdout",
       "text": [
        "\n",
        "There are 0 households in TAZ 404280\n",
        "There are 0 households in TAZ 404290\n",
        "There are 64 households in TAZ 404320\n",
        "There are 200 residential units in TAZ 404320"
       ]
      },
      {
       "output_type": "stream",
       "stream": "stdout",
       "text": [
        "\n",
        "Warning:  number of households exceeds number of resunits in TAZ 404320\n",
        "There are 138 households in TAZ 404360\n",
        "There are 6150 residential units in TAZ 404360"
       ]
      },
      {
       "output_type": "stream",
       "stream": "stdout",
       "text": [
        "\n",
        "There are 0 households in TAZ 404370\n",
        "There are 4 households in TAZ 404400\n",
        "There are 1460 residential units in TAZ 404400"
       ]
      },
      {
       "output_type": "stream",
       "stream": "stdout",
       "text": [
        "\n",
        "There are 4 households in TAZ 404410\n",
        "There are 1120 residential units in TAZ 404410"
       ]
      },
      {
       "output_type": "stream",
       "stream": "stdout",
       "text": [
        "\n",
        "There are 14 households in TAZ 404420\n",
        "There are 460 residential units in TAZ 404420"
       ]
      },
      {
       "output_type": "stream",
       "stream": "stdout",
       "text": [
        "\n",
        "Warning:  number of households exceeds number of resunits in TAZ 404420\n",
        "There are 0 households in TAZ 404430\n",
        "There are 0 households in TAZ 404440\n",
        "There are 0 households in TAZ 404450\n",
        "There are 0 households in TAZ 404460\n",
        "There are 0 households in TAZ 404470\n",
        "There are 0 households in TAZ 404480\n",
        "There are 1 households in TAZ 405010"
       ]
      },
      {
       "output_type": "stream",
       "stream": "stdout",
       "text": [
        "\n",
        "There are 6715 residential units in TAZ 405010"
       ]
      },
      {
       "output_type": "stream",
       "stream": "stdout",
       "text": [
        "\n",
        "There are 283 households in TAZ 405020\n",
        "There are 995 residential units in TAZ 405020"
       ]
      },
      {
       "output_type": "stream",
       "stream": "stdout",
       "text": [
        "\n",
        "There are 0 households in TAZ 405030\n",
        "There are 40 households in TAZ 405050\n",
        "There are 530 residential units in TAZ 405050"
       ]
      },
      {
       "output_type": "stream",
       "stream": "stdout",
       "text": [
        "\n",
        "There are 128 households in TAZ 405060\n",
        "There are 500 residential units in TAZ 405060"
       ]
      },
      {
       "output_type": "stream",
       "stream": "stdout",
       "text": [
        "\n",
        "There are 0 households in TAZ 405070\n",
        "There are 0 households in TAZ 405080\n",
        "There are 0 households in TAZ 405090\n",
        "There are 9 households in TAZ 405100\n",
        "There are 8940 residential units in TAZ 405100"
       ]
      },
      {
       "output_type": "stream",
       "stream": "stdout",
       "text": [
        "\n",
        "There are 105 households in TAZ 405140\n",
        "There are 160 residential units in TAZ 405140"
       ]
      },
      {
       "output_type": "stream",
       "stream": "stdout",
       "text": [
        "\n",
        "Warning:  number of households exceeds number of resunits in TAZ 405140\n",
        "There are 13 households in TAZ 405150\n",
        "There are 5890 residential units in TAZ 405150"
       ]
      },
      {
       "output_type": "stream",
       "stream": "stdout",
       "text": [
        "\n",
        "There are 3 households in TAZ 405160\n",
        "There are 1175 residential units in TAZ 405160"
       ]
      },
      {
       "output_type": "stream",
       "stream": "stdout",
       "text": [
        "\n",
        "There are 14 households in TAZ 405170\n",
        "There are 15245 residential units in TAZ 405170"
       ]
      },
      {
       "output_type": "stream",
       "stream": "stdout",
       "text": [
        "\n",
        "There are 0 households in TAZ 405180\n",
        "There are 89 households in TAZ 405190\n",
        "There are 18440 residential units in TAZ 405190"
       ]
      },
      {
       "output_type": "stream",
       "stream": "stdout",
       "text": [
        "\n",
        "There are 0 households in TAZ 405200\n",
        "There are 2 households in TAZ 405210\n",
        "There are 23715 residential units in TAZ 405210"
       ]
      },
      {
       "output_type": "stream",
       "stream": "stdout",
       "text": [
        "\n",
        "There are 0 households in TAZ 405220\n",
        "There are 4 households in TAZ 405230\n",
        "There are 2935 residential units in TAZ 405230"
       ]
      },
      {
       "output_type": "stream",
       "stream": "stdout",
       "text": [
        "\n",
        "There are 9 households in TAZ 405250\n",
        "There are 2725 residential units in TAZ 405250"
       ]
      },
      {
       "output_type": "stream",
       "stream": "stdout",
       "text": [
        "\n",
        "There are 26 households in TAZ 405260\n",
        "There are 7075 residential units in TAZ 405260"
       ]
      },
      {
       "output_type": "stream",
       "stream": "stdout",
       "text": [
        "\n",
        "There are 0 households in TAZ 405270\n",
        "There are 0 households in TAZ 405280\n",
        "There are 8 households in TAZ 405290\n",
        "There are 4820 residential units in TAZ 405290"
       ]
      },
      {
       "output_type": "stream",
       "stream": "stdout",
       "text": [
        "\n",
        "There are 0 households in TAZ 405300\n",
        "There are 0 households in TAZ 405310\n",
        "There are 0 households in TAZ 405320\n",
        "There are 14 households in TAZ 405330\n",
        "There are 20130 residential units in TAZ 405330"
       ]
      },
      {
       "output_type": "stream",
       "stream": "stdout",
       "text": [
        "\n",
        "There are 0 households in TAZ 405340\n",
        "There are 0 households in TAZ 405350\n",
        "There are 0 households in TAZ 405360\n",
        "There are 0 households in TAZ 405370\n",
        "There are 6 households in TAZ 405380\n",
        "There are 3890 residential units in TAZ 405380"
       ]
      },
      {
       "output_type": "stream",
       "stream": "stdout",
       "text": [
        "\n",
        "There are 61 households in TAZ 405390\n",
        "There are 220 residential units in TAZ 405390"
       ]
      },
      {
       "output_type": "stream",
       "stream": "stdout",
       "text": [
        "\n",
        "Warning:  number of households exceeds number of resunits in TAZ 405390\n",
        "There are 237 households in TAZ 405400\n",
        "There are 640 residential units in TAZ 405400"
       ]
      },
      {
       "output_type": "stream",
       "stream": "stdout",
       "text": [
        "\n",
        "There are 694 households in TAZ 405410\n",
        "There are 120 residential units in TAZ 405410"
       ]
      },
      {
       "output_type": "stream",
       "stream": "stdout",
       "text": [
        "\n",
        "Warning:  number of households exceeds number of resunits in TAZ 405410\n",
        "There are 0 households in TAZ 405420\n",
        "There are 0 households in TAZ 405430\n",
        "There are 52 households in TAZ 405440\n",
        "There are 20760 residential units in TAZ 405440"
       ]
      },
      {
       "output_type": "stream",
       "stream": "stdout",
       "text": [
        "\n",
        "There are 0 households in TAZ 405450\n",
        "There are 0 households in TAZ 406010\n",
        "There are 0 households in TAZ 406020\n",
        "There are 0 households in TAZ 406030\n",
        "There are 0 households in TAZ 406040\n",
        "There are 0 households in TAZ 406050\n",
        "There are 0 households in TAZ 406060"
       ]
      },
      {
       "output_type": "stream",
       "stream": "stdout",
       "text": [
        "\n",
        "There are 60 households in TAZ 406070\n",
        "There are 17090 residential units in TAZ 406070"
       ]
      },
      {
       "output_type": "stream",
       "stream": "stdout",
       "text": [
        "\n",
        "There are 65 households in TAZ 406080\n",
        "There are 9625 residential units in TAZ 406080"
       ]
      },
      {
       "output_type": "stream",
       "stream": "stdout",
       "text": [
        "\n",
        "There are 0 households in TAZ 406090\n",
        "There are 133 households in TAZ 406100\n",
        "There are 20645 residential units in TAZ 406100"
       ]
      },
      {
       "output_type": "stream",
       "stream": "stdout",
       "text": [
        "\n",
        "There are 0 households in TAZ 406110\n",
        "There are 257 households in TAZ 406120\n",
        "There are 14660 residential units in TAZ 406120"
       ]
      },
      {
       "output_type": "stream",
       "stream": "stdout",
       "text": [
        "\n",
        "There are 0 households in TAZ 406130\n",
        "There are 0 households in TAZ 406140\n",
        "There are 27 households in TAZ 406150\n",
        "There are 23450 residential units in TAZ 406150"
       ]
      },
      {
       "output_type": "stream",
       "stream": "stdout",
       "text": [
        "\n",
        "There are 40 households in TAZ 406160\n",
        "There are 13595 residential units in TAZ 406160"
       ]
      },
      {
       "output_type": "stream",
       "stream": "stdout",
       "text": [
        "\n",
        "There are 27 households in TAZ 406170\n",
        "There are 1270 residential units in TAZ 406170"
       ]
      },
      {
       "output_type": "stream",
       "stream": "stdout",
       "text": [
        "\n",
        "There are 0 households in TAZ 406190\n",
        "There are 0 households in TAZ 406200\n",
        "There are 0 households in TAZ 406210\n",
        "There are 10 households in TAZ 406220\n",
        "There are 13760 residential units in TAZ 406220"
       ]
      },
      {
       "output_type": "stream",
       "stream": "stdout",
       "text": [
        "\n",
        "There are 5 households in TAZ 406230\n",
        "There are 2565 residential units in TAZ 406230"
       ]
      },
      {
       "output_type": "stream",
       "stream": "stdout",
       "text": [
        "\n",
        "There are 0 households in TAZ 406240\n",
        "There are 0 households in TAZ 406250\n",
        "There are 0 households in TAZ 406260\n",
        "There are 15 households in TAZ 406270\n",
        "There are 23020 residential units in TAZ 406270"
       ]
      },
      {
       "output_type": "stream",
       "stream": "stdout",
       "text": [
        "\n",
        "There are 0 households in TAZ 406280\n",
        "There are 7 households in TAZ 406290\n",
        "There are 80 residential units in TAZ 406290"
       ]
      },
      {
       "output_type": "stream",
       "stream": "stdout",
       "text": [
        "\n",
        "Warning:  number of households exceeds number of resunits in TAZ 406290\n",
        "There are 4 households in TAZ 406300\n",
        "There are 240 residential units in TAZ 406300"
       ]
      },
      {
       "output_type": "stream",
       "stream": "stdout",
       "text": [
        "\n",
        "Warning:  number of households exceeds number of resunits in TAZ 406300\n",
        "There are 0 households in TAZ 406310\n",
        "There are 0 households in TAZ 407010\n",
        "There are 0 households in TAZ 407020\n",
        "There are 0 households in TAZ 407030\n",
        "There are 0 households in TAZ 407040\n",
        "There are 0 households in TAZ 407050\n",
        "There are 25 households in TAZ 407060"
       ]
      },
      {
       "output_type": "stream",
       "stream": "stdout",
       "text": [
        "\n",
        "There are 19795 residential units in TAZ 407060"
       ]
      },
      {
       "output_type": "stream",
       "stream": "stdout",
       "text": [
        "\n",
        "There are 135 households in TAZ 407070\n",
        "There are 15980 residential units in TAZ 407070"
       ]
      },
      {
       "output_type": "stream",
       "stream": "stdout",
       "text": [
        "\n",
        "There are 215 households in TAZ 407080\n",
        "There are 9845 residential units in TAZ 407080"
       ]
      },
      {
       "output_type": "stream",
       "stream": "stdout",
       "text": [
        "\n",
        "There are 0 households in TAZ 407090\n",
        "There are 0 households in TAZ 407100\n",
        "There are 20 households in TAZ 407110\n",
        "There are 17955 residential units in TAZ 407110"
       ]
      },
      {
       "output_type": "stream",
       "stream": "stdout",
       "text": [
        "\n",
        "There are 20 households in TAZ 407120\n",
        "There are 13860 residential units in TAZ 407120"
       ]
      },
      {
       "output_type": "stream",
       "stream": "stdout",
       "text": [
        "\n",
        "There are 0 households in TAZ 407130\n",
        "There are 0 households in TAZ 407150\n",
        "There are 0 households in TAZ 407160\n",
        "There are 82 households in TAZ 407170\n",
        "There are 19895 residential units in TAZ 407170"
       ]
      },
      {
       "output_type": "stream",
       "stream": "stdout",
       "text": [
        "\n",
        "There are 2 households in TAZ 407180\n",
        "There are 12515 residential units in TAZ 407180"
       ]
      },
      {
       "output_type": "stream",
       "stream": "stdout",
       "text": [
        "\n",
        "There are 0 households in TAZ 407190\n",
        "There are 0 households in TAZ 407200\n",
        "There are 0 households in TAZ 407210\n",
        "There are 43 households in TAZ 407220\n",
        "There are 6940 residential units in TAZ 407220"
       ]
      },
      {
       "output_type": "stream",
       "stream": "stdout",
       "text": [
        "\n",
        "There are 0 households in TAZ 407230\n",
        "There are 0 households in TAZ 407240\n",
        "There are 0 households in TAZ 407250\n",
        "There are 0 households in TAZ 407260\n",
        "There are 0 households in TAZ 407270\n",
        "There are 164 households in TAZ 407280\n",
        "There are 10590 residential units in TAZ 407280"
       ]
      },
      {
       "output_type": "stream",
       "stream": "stdout",
       "text": [
        "\n",
        "There are 0 households in TAZ 407290\n",
        "There are 13 households in TAZ 407300\n",
        "There are 140 residential units in TAZ 407300"
       ]
      },
      {
       "output_type": "stream",
       "stream": "stdout",
       "text": [
        "\n",
        "Warning:  number of households exceeds number of resunits in TAZ 407300\n",
        "There are 130 households in TAZ 407310\n",
        "There are 18775 residential units in TAZ 407310"
       ]
      },
      {
       "output_type": "stream",
       "stream": "stdout",
       "text": [
        "\n",
        "There are 0 households in TAZ 407320\n",
        "There are 0 households in TAZ 407330\n",
        "There are 5 households in TAZ 407340\n",
        "There are 11295 residential units in TAZ 407340"
       ]
      },
      {
       "output_type": "stream",
       "stream": "stdout",
       "text": [
        "\n",
        "There are 0 households in TAZ 407350\n",
        "There are 0 households in TAZ 407360\n",
        "There are 42 households in TAZ 407370\n",
        "There are 8750 residential units in TAZ 407370"
       ]
      },
      {
       "output_type": "stream",
       "stream": "stdout",
       "text": [
        "\n",
        "There are 71 households in TAZ 407380\n",
        "There are 37335 residential units in TAZ 407380"
       ]
      },
      {
       "output_type": "stream",
       "stream": "stdout",
       "text": [
        "\n",
        "There are 4 households in TAZ 407390\n",
        "There are 440 residential units in TAZ 407390"
       ]
      },
      {
       "output_type": "stream",
       "stream": "stdout",
       "text": [
        "\n",
        "Warning:  number of households exceeds number of resunits in TAZ 407390\n",
        "There are 0 households in TAZ 407400\n",
        "There are 0 households in TAZ 408010\n",
        "There are 0 households in TAZ 408020\n",
        "There are 1 households in TAZ 408030\n",
        "There are 16985 residential units in TAZ 408030"
       ]
      },
      {
       "output_type": "stream",
       "stream": "stdout",
       "text": [
        "\n",
        "There are 0 households in TAZ 408040\n",
        "There are 8 households in TAZ 408050\n",
        "There are 2570 residential units in TAZ 408050"
       ]
      },
      {
       "output_type": "stream",
       "stream": "stdout",
       "text": [
        "\n",
        "There are 10 households in TAZ 408060\n",
        "There are 2015 residential units in TAZ 408060"
       ]
      },
      {
       "output_type": "stream",
       "stream": "stdout",
       "text": [
        "\n",
        "There are 52 households in TAZ 408070\n",
        "There are 12570 residential units in TAZ 408070"
       ]
      },
      {
       "output_type": "stream",
       "stream": "stdout",
       "text": [
        "\n",
        "There are 0 households in TAZ 408080\n",
        "There are 0 households in TAZ 408090\n",
        "There are 0 households in TAZ 408100\n",
        "There are 0 households in TAZ 408110\n",
        "There are 0 households in TAZ 408120\n",
        "There are 0 households in TAZ 408130\n",
        "There are 0 households in TAZ 408140"
       ]
      },
      {
       "output_type": "stream",
       "stream": "stdout",
       "text": [
        "\n",
        "There are 0 households in TAZ 408150\n",
        "There are 7 households in TAZ 408160\n",
        "There are 2825 residential units in TAZ 408160"
       ]
      },
      {
       "output_type": "stream",
       "stream": "stdout",
       "text": [
        "\n",
        "There are 4 households in TAZ 408170\n",
        "There are 7435 residential units in TAZ 408170"
       ]
      },
      {
       "output_type": "stream",
       "stream": "stdout",
       "text": [
        "\n",
        "There are 0 households in TAZ 408180\n",
        "There are 0 households in TAZ 408190\n",
        "There are 0 households in TAZ 408200\n",
        "There are 0 households in TAZ 408210\n",
        "There are 0 households in TAZ 408220\n",
        "There are 16 households in TAZ 408230\n",
        "There are 9930 residential units in TAZ 408230"
       ]
      },
      {
       "output_type": "stream",
       "stream": "stdout",
       "text": [
        "\n",
        "There are 0 households in TAZ 408240\n",
        "There are 0 households in TAZ 408250\n",
        "There are 31 households in TAZ 408260\n",
        "There are 10400 residential units in TAZ 408260"
       ]
      },
      {
       "output_type": "stream",
       "stream": "stdout",
       "text": [
        "\n",
        "There are 3 households in TAZ 408270\n",
        "There are 5525 residential units in TAZ 408270"
       ]
      },
      {
       "output_type": "stream",
       "stream": "stdout",
       "text": [
        "\n",
        "There are 0 households in TAZ 408280\n",
        "There are 0 households in TAZ 408290\n",
        "There are 26 households in TAZ 408310\n",
        "There are 5265 residential units in TAZ 408310"
       ]
      },
      {
       "output_type": "stream",
       "stream": "stdout",
       "text": [
        "\n",
        "There are 0 households in TAZ 408320\n",
        "There are 0 households in TAZ 408330\n",
        "There are 0 households in TAZ 408340\n",
        "There are 0 households in TAZ 408350\n",
        "There are 77 households in TAZ 408370\n",
        "There are 43710 residential units in TAZ 408370"
       ]
      },
      {
       "output_type": "stream",
       "stream": "stdout",
       "text": [
        "\n",
        "There are 0 households in TAZ 408380\n",
        "There are 0 households in TAZ 408390\n",
        "There are 0 households in TAZ 409010\n",
        "There are 0 households in TAZ 409020\n",
        "There are 0 households in TAZ 409030\n",
        "There are 0 households in TAZ 409040\n",
        "There are 0 households in TAZ 409050"
       ]
      },
      {
       "output_type": "stream",
       "stream": "stdout",
       "text": [
        "\n",
        "There are 0 households in TAZ 409060\n",
        "There are 0 households in TAZ 409070\n",
        "There are 0 households in TAZ 409090\n",
        "There are 0 households in TAZ 409100\n",
        "There are 0 households in TAZ 409110\n",
        "There are 73 households in TAZ 409120\n",
        "There are 60 residential units in TAZ 409120"
       ]
      },
      {
       "output_type": "stream",
       "stream": "stdout",
       "text": [
        "\n",
        "Warning:  number of households exceeds number of resunits in TAZ 409120\n",
        "There are 0 households in TAZ 409130\n",
        "There are 60 households in TAZ 409140\n",
        "There are 11590 residential units in TAZ 409140"
       ]
      },
      {
       "output_type": "stream",
       "stream": "stdout",
       "text": [
        "\n",
        "There are 0 households in TAZ 409150\n",
        "There are 0 households in TAZ 409160\n",
        "There are 0 households in TAZ 409170\n",
        "There are 0 households in TAZ 409180\n",
        "There are 0 households in TAZ 409190\n",
        "There are 0 households in TAZ 409200\n",
        "There are 0 households in TAZ 409210"
       ]
      },
      {
       "output_type": "stream",
       "stream": "stdout",
       "text": [
        "\n",
        "There are 0 households in TAZ 409220\n",
        "There are 0 households in TAZ 409230\n",
        "There are 0 households in TAZ 409240\n",
        "There are 9 households in TAZ 409250\n",
        "There are 6620 residential units in TAZ 409250"
       ]
      },
      {
       "output_type": "stream",
       "stream": "stdout",
       "text": [
        "\n",
        "There are 0 households in TAZ 409260\n",
        "There are 0 households in TAZ 409270\n",
        "There are 44 households in TAZ 409280\n",
        "There are 3855 residential units in TAZ 409280"
       ]
      },
      {
       "output_type": "stream",
       "stream": "stdout",
       "text": [
        "\n",
        "There are 0 households in TAZ 409290\n",
        "There are 0 households in TAZ 409300\n",
        "There are 0 households in TAZ 409310\n",
        "There are 7 households in TAZ 409320\n",
        "There are 24210 residential units in TAZ 409320"
       ]
      },
      {
       "output_type": "stream",
       "stream": "stdout",
       "text": [
        "\n",
        "There are 36 households in TAZ 409330\n",
        "There are 10740 residential units in TAZ 409330"
       ]
      },
      {
       "output_type": "stream",
       "stream": "stdout",
       "text": [
        "\n",
        "There are 0 households in TAZ 409340\n",
        "There are 7 households in TAZ 409350\n",
        "There are 3090 residential units in TAZ 409350"
       ]
      },
      {
       "output_type": "stream",
       "stream": "stdout",
       "text": [
        "\n",
        "There are 0 households in TAZ 409360\n",
        "There are 6 households in TAZ 409370\n",
        "There are 3135 residential units in TAZ 409370"
       ]
      },
      {
       "output_type": "stream",
       "stream": "stdout",
       "text": [
        "\n",
        "There are 6 households in TAZ 409380\n",
        "There are 13255 residential units in TAZ 409380"
       ]
      },
      {
       "output_type": "stream",
       "stream": "stdout",
       "text": [
        "\n",
        "There are 49 households in TAZ 409390\n",
        "There are 11545 residential units in TAZ 409390"
       ]
      },
      {
       "output_type": "stream",
       "stream": "stdout",
       "text": [
        "\n",
        "There are 0 households in TAZ 409400\n",
        "There are 17 households in TAZ 409410\n",
        "There are 14875 residential units in TAZ 409410"
       ]
      },
      {
       "output_type": "stream",
       "stream": "stdout",
       "text": [
        "\n",
        "There are 0 households in TAZ 409420\n",
        "There are 0 households in TAZ 409430\n",
        "There are 3 households in TAZ 410010\n",
        "There are 5075 residential units in TAZ 410010"
       ]
      },
      {
       "output_type": "stream",
       "stream": "stdout",
       "text": [
        "\n",
        "There are 83 households in TAZ 410020\n",
        "There are 9315 residential units in TAZ 410020"
       ]
      },
      {
       "output_type": "stream",
       "stream": "stdout",
       "text": [
        "\n",
        "There are 32 households in TAZ 410030\n",
        "There are 16260 residential units in TAZ 410030"
       ]
      },
      {
       "output_type": "stream",
       "stream": "stdout",
       "text": [
        "\n",
        "There are 0 households in TAZ 410040\n",
        "There are 0 households in TAZ 410050\n",
        "There are 0 households in TAZ 410060\n",
        "There are 0 households in TAZ 410070\n",
        "There are 0 households in TAZ 410080\n",
        "There are 0 households in TAZ 410090\n",
        "There are 116 households in TAZ 410100"
       ]
      },
      {
       "output_type": "stream",
       "stream": "stdout",
       "text": [
        "\n",
        "There are 340 residential units in TAZ 410100"
       ]
      },
      {
       "output_type": "stream",
       "stream": "stdout",
       "text": [
        "\n",
        "Warning:  number of households exceeds number of resunits in TAZ 410100\n",
        "There are 63 households in TAZ 410110\n",
        "There are 4205 residential units in TAZ 410110"
       ]
      },
      {
       "output_type": "stream",
       "stream": "stdout",
       "text": [
        "\n",
        "There are 0 households in TAZ 410120\n",
        "There are 0 households in TAZ 410130\n",
        "There are 0 households in TAZ 410140\n",
        "There are 4 households in TAZ 410150\n",
        "There are 730 residential units in TAZ 410150"
       ]
      },
      {
       "output_type": "stream",
       "stream": "stdout",
       "text": [
        "\n",
        "There are 0 households in TAZ 410160\n",
        "There are 6 households in TAZ 410170\n",
        "There are 12165 residential units in TAZ 410170"
       ]
      },
      {
       "output_type": "stream",
       "stream": "stdout",
       "text": [
        "\n",
        "There are 0 households in TAZ 410180\n",
        "There are 0 households in TAZ 410190\n",
        "There are 3 households in TAZ 410200\n",
        "There are 4570 residential units in TAZ 410200"
       ]
      },
      {
       "output_type": "stream",
       "stream": "stdout",
       "text": [
        "\n",
        "There are 0 households in TAZ 410210\n",
        "There are 36 households in TAZ 410220\n",
        "There are 19990 residential units in TAZ 410220"
       ]
      },
      {
       "output_type": "stream",
       "stream": "stdout",
       "text": [
        "\n",
        "There are 0 households in TAZ 410230\n",
        "There are 207 households in TAZ 410240\n",
        "There are 8840 residential units in TAZ 410240"
       ]
      },
      {
       "output_type": "stream",
       "stream": "stdout",
       "text": [
        "\n",
        "There are 0 households in TAZ 410250\n",
        "There are 42 households in TAZ 410260\n",
        "There are 2890 residential units in TAZ 410260"
       ]
      },
      {
       "output_type": "stream",
       "stream": "stdout",
       "text": [
        "\n",
        "There are 241 households in TAZ 410270\n",
        "There are 27320 residential units in TAZ 410270"
       ]
      },
      {
       "output_type": "stream",
       "stream": "stdout",
       "text": [
        "\n",
        "There are 0 households in TAZ 410280\n",
        "There are 196 households in TAZ 410290\n",
        "There are 9285 residential units in TAZ 410290"
       ]
      },
      {
       "output_type": "stream",
       "stream": "stdout",
       "text": [
        "\n",
        "There are 4 households in TAZ 410300\n",
        "There are 460 residential units in TAZ 410300"
       ]
      },
      {
       "output_type": "stream",
       "stream": "stdout",
       "text": [
        "\n",
        "Warning:  number of households exceeds number of resunits in TAZ 410300\n",
        "There are 0 households in TAZ 410310\n",
        "There are 0 households in TAZ 411010\n",
        "There are 85 households in TAZ 411020\n",
        "There are 11990 residential units in TAZ 411020"
       ]
      },
      {
       "output_type": "stream",
       "stream": "stdout",
       "text": [
        "\n",
        "There are 0 households in TAZ 411030\n",
        "There are 23 households in TAZ 411040\n",
        "There are 8145 residential units in TAZ 411040"
       ]
      },
      {
       "output_type": "stream",
       "stream": "stdout",
       "text": [
        "\n",
        "There are 17 households in TAZ 411050\n",
        "There are 5030 residential units in TAZ 411050"
       ]
      },
      {
       "output_type": "stream",
       "stream": "stdout",
       "text": [
        "\n",
        "There are 31 households in TAZ 411060\n",
        "There are 15845 residential units in TAZ 411060"
       ]
      },
      {
       "output_type": "stream",
       "stream": "stdout",
       "text": [
        "\n",
        "There are 51 households in TAZ 411070\n",
        "There are 8630 residential units in TAZ 411070"
       ]
      },
      {
       "output_type": "stream",
       "stream": "stdout",
       "text": [
        "\n",
        "There are 97 households in TAZ 411080\n",
        "There are 9680 residential units in TAZ 411080"
       ]
      },
      {
       "output_type": "stream",
       "stream": "stdout",
       "text": [
        "\n",
        "There are 40 households in TAZ 411090\n",
        "There are 11650 residential units in TAZ 411090"
       ]
      },
      {
       "output_type": "stream",
       "stream": "stdout",
       "text": [
        "\n",
        "There are 63 households in TAZ 411100\n",
        "There are 8870 residential units in TAZ 411100"
       ]
      },
      {
       "output_type": "stream",
       "stream": "stdout",
       "text": [
        "\n",
        "There are 0 households in TAZ 411110\n",
        "There are 0 households in TAZ 411120\n",
        "There are 1 households in TAZ 411150\n",
        "There are 5810 residential units in TAZ 411150"
       ]
      },
      {
       "output_type": "stream",
       "stream": "stdout",
       "text": [
        "\n",
        "There are 0 households in TAZ 411160\n",
        "There are 0 households in TAZ 411170\n",
        "There are 4 households in TAZ 411180\n",
        "There are 440 residential units in TAZ 411180"
       ]
      },
      {
       "output_type": "stream",
       "stream": "stdout",
       "text": [
        "\n",
        "Warning:  number of households exceeds number of resunits in TAZ 411180\n",
        "There are 173 households in TAZ 411190\n",
        "There are 1105 residential units in TAZ 411190"
       ]
      },
      {
       "output_type": "stream",
       "stream": "stdout",
       "text": [
        "\n",
        "There are 0 households in TAZ 412010\n",
        "There are 0 households in TAZ 412021\n",
        "There are 43 households in TAZ 412022\n",
        "There are 40 residential units in TAZ 412022"
       ]
      },
      {
       "output_type": "stream",
       "stream": "stdout",
       "text": [
        "\n",
        "Warning:  number of households exceeds number of resunits in TAZ 412022\n",
        "There are 0 households in TAZ 412031\n",
        "There are 0 households in TAZ 412032\n",
        "There are 16 households in TAZ 412033\n",
        "There are 130 residential units in TAZ 412033"
       ]
      },
      {
       "output_type": "stream",
       "stream": "stdout",
       "text": [
        "\n",
        "Warning:  number of households exceeds number of resunits in TAZ 412033\n",
        "There are 0 households in TAZ 412034\n",
        "There are 0 households in TAZ 412035\n",
        "There are 18 households in TAZ 412036\n",
        "There are 100 residential units in TAZ 412036"
       ]
      },
      {
       "output_type": "stream",
       "stream": "stdout",
       "text": [
        "\n",
        "Warning:  number of households exceeds number of resunits in TAZ 412036\n",
        "There are 18 households in TAZ 412037\n",
        "There are 40 residential units in TAZ 412037"
       ]
      },
      {
       "output_type": "stream",
       "stream": "stdout",
       "text": [
        "\n",
        "Warning:  number of households exceeds number of resunits in TAZ 412037\n",
        "There are 18 households in TAZ 412038\n",
        "There are 160 residential units in TAZ 412038"
       ]
      },
      {
       "output_type": "stream",
       "stream": "stdout",
       "text": [
        "\n",
        "Warning:  number of households exceeds number of resunits in TAZ 412038\n",
        "There are 17 households in TAZ 412039\n",
        "There are 205 residential units in TAZ 412039"
       ]
      },
      {
       "output_type": "stream",
       "stream": "stdout",
       "text": [
        "\n",
        "Warning:  number of households exceeds number of resunits in TAZ 412039\n",
        "There are 23 households in TAZ 412041\n",
        "There are 120 residential units in TAZ 412041"
       ]
      },
      {
       "output_type": "stream",
       "stream": "stdout",
       "text": [
        "\n",
        "Warning:  number of households exceeds number of resunits in TAZ 412041\n",
        "There are 14 households in TAZ 412042\n",
        "There are 60 residential units in TAZ 412042"
       ]
      },
      {
       "output_type": "stream",
       "stream": "stdout",
       "text": [
        "\n",
        "Warning:  number of households exceeds number of resunits in TAZ 412042\n",
        "There are 0 households in TAZ 412043\n",
        "There are 17 households in TAZ 412044\n",
        "There are 190 residential units in TAZ 412044"
       ]
      },
      {
       "output_type": "stream",
       "stream": "stdout",
       "text": [
        "\n",
        "Warning:  number of households exceeds number of resunits in TAZ 412044\n",
        "There are 13 households in TAZ 412045\n",
        "There are 185 residential units in TAZ 412045"
       ]
      },
      {
       "output_type": "stream",
       "stream": "stdout",
       "text": [
        "\n",
        "Warning:  number of households exceeds number of resunits in TAZ 412045\n",
        "There are 22 households in TAZ 412046\n",
        "There are 40 residential units in TAZ 412046"
       ]
      },
      {
       "output_type": "stream",
       "stream": "stdout",
       "text": [
        "\n",
        "Warning:  number of households exceeds number of resunits in TAZ 412046\n",
        "There are 0 households in TAZ 412047\n",
        "There are 23 households in TAZ 412048\n",
        "There are 20 residential units in TAZ 412048"
       ]
      },
      {
       "output_type": "stream",
       "stream": "stdout",
       "text": [
        "\n",
        "Warning:  number of households exceeds number of resunits in TAZ 412048\n",
        "There are 29 households in TAZ 412049\n",
        "There are 80 residential units in TAZ 412049"
       ]
      },
      {
       "output_type": "stream",
       "stream": "stdout",
       "text": [
        "\n",
        "Warning:  number of households exceeds number of resunits in TAZ 412049\n",
        "There are 5 households in TAZ 412051\n",
        "There are 20 residential units in TAZ 412051"
       ]
      },
      {
       "output_type": "stream",
       "stream": "stdout",
       "text": [
        "\n",
        "Warning:  number of households exceeds number of resunits in TAZ 412051\n",
        "There are 5 households in TAZ 412052\n",
        "There are 20 residential units in TAZ 412052"
       ]
      },
      {
       "output_type": "stream",
       "stream": "stdout",
       "text": [
        "\n",
        "Warning:  number of households exceeds number of resunits in TAZ 412052\n",
        "There are 4 households in TAZ 412053\n",
        "There are 40 residential units in TAZ 412053"
       ]
      },
      {
       "output_type": "stream",
       "stream": "stdout",
       "text": [
        "\n",
        "Warning:  number of households exceeds number of resunits in TAZ 412053\n",
        "There are 5 households in TAZ 412054\n",
        "There are 20 residential units in TAZ 412054"
       ]
      },
      {
       "output_type": "stream",
       "stream": "stdout",
       "text": [
        "\n",
        "Warning:  number of households exceeds number of resunits in TAZ 412054\n",
        "There are 5 households in TAZ 412055\n",
        "There are 40 residential units in TAZ 412055"
       ]
      },
      {
       "output_type": "stream",
       "stream": "stdout",
       "text": [
        "\n",
        "Warning:  number of households exceeds number of resunits in TAZ 412055\n",
        "There are 5 households in TAZ 412056\n",
        "There are 60 residential units in TAZ 412056"
       ]
      },
      {
       "output_type": "stream",
       "stream": "stdout",
       "text": [
        "\n",
        "Warning:  number of households exceeds number of resunits in TAZ 412056\n",
        "There are 0 households in TAZ 412061\n",
        "There are 90 households in TAZ 412062\n",
        "There are 20 residential units in TAZ 412062"
       ]
      },
      {
       "output_type": "stream",
       "stream": "stdout",
       "text": [
        "\n",
        "Warning:  number of households exceeds number of resunits in TAZ 412062\n",
        "There are 90 households in TAZ 412063\n",
        "There are 20 residential units in TAZ 412063"
       ]
      },
      {
       "output_type": "stream",
       "stream": "stdout",
       "text": [
        "\n",
        "Warning:  number of households exceeds number of resunits in TAZ 412063\n",
        "There are 0 households in TAZ 412064\n",
        "There are 0 households in TAZ 412065\n",
        "There are 88 households in TAZ 412066\n",
        "There are 20 residential units in TAZ 412066"
       ]
      },
      {
       "output_type": "stream",
       "stream": "stdout",
       "text": [
        "\n",
        "Warning:  number of households exceeds number of resunits in TAZ 412066\n",
        "There are 41 households in TAZ 412071\n",
        "There are 285 residential units in TAZ 412071"
       ]
      },
      {
       "output_type": "stream",
       "stream": "stdout",
       "text": [
        "\n",
        "Warning:  number of households exceeds number of resunits in TAZ 412071\n",
        "There are 0 households in TAZ 412072\n",
        "There are 0 households in TAZ 412073\n",
        "There are 38 households in TAZ 412074\n",
        "There are 165 residential units in TAZ 412074"
       ]
      },
      {
       "output_type": "stream",
       "stream": "stdout",
       "text": [
        "\n",
        "Warning:  number of households exceeds number of resunits in TAZ 412074\n",
        "There are 0 households in TAZ 412075\n",
        "There are 43 households in TAZ 412076\n",
        "There are 80 residential units in TAZ 412076"
       ]
      },
      {
       "output_type": "stream",
       "stream": "stdout",
       "text": [
        "\n",
        "Warning:  number of households exceeds number of resunits in TAZ 412076\n",
        "There are 29 households in TAZ 412081\n",
        "There are 155 residential units in TAZ 412081"
       ]
      },
      {
       "output_type": "stream",
       "stream": "stdout",
       "text": [
        "\n",
        "Warning:  number of households exceeds number of resunits in TAZ 412081\n",
        "There are 25 households in TAZ 412082\n",
        "There are 160 residential units in TAZ 412082"
       ]
      },
      {
       "output_type": "stream",
       "stream": "stdout",
       "text": [
        "\n",
        "Warning:  number of households exceeds number of resunits in TAZ 412082\n",
        "There are 32 households in TAZ 412083\n",
        "There are 40 residential units in TAZ 412083"
       ]
      },
      {
       "output_type": "stream",
       "stream": "stdout",
       "text": [
        "\n",
        "Warning:  number of households exceeds number of resunits in TAZ 412083\n",
        "There are 0 households in TAZ 412084\n",
        "There are 21 households in TAZ 412085\n",
        "There are 100 residential units in TAZ 412085"
       ]
      },
      {
       "output_type": "stream",
       "stream": "stdout",
       "text": [
        "\n",
        "Warning:  number of households exceeds number of resunits in TAZ 412085\n",
        "There are 19 households in TAZ 412090\n",
        "There are 1890 residential units in TAZ 412090"
       ]
      },
      {
       "output_type": "stream",
       "stream": "stdout",
       "text": [
        "\n",
        "There are 0 households in TAZ 412100\n",
        "There are 79 households in TAZ 412110\n",
        "There are 3145 residential units in TAZ 412110"
       ]
      },
      {
       "output_type": "stream",
       "stream": "stdout",
       "text": [
        "\n",
        "There are 59 households in TAZ 412121\n",
        "There are 60 residential units in TAZ 412121"
       ]
      },
      {
       "output_type": "stream",
       "stream": "stdout",
       "text": [
        "\n",
        "Warning:  number of households exceeds number of resunits in TAZ 412121\n",
        "There are 0 households in TAZ 412122\n",
        "There are 0 households in TAZ 412123\n",
        "There are 22 households in TAZ 412124\n",
        "There are 240 residential units in TAZ 412124"
       ]
      },
      {
       "output_type": "stream",
       "stream": "stdout",
       "text": [
        "\n",
        "Warning:  number of households exceeds number of resunits in TAZ 412124\n",
        "There are 0 households in TAZ 412125\n",
        "There are 0 households in TAZ 412151\n",
        "There are 55 households in TAZ 412152\n",
        "There are 60 residential units in TAZ 412152"
       ]
      },
      {
       "output_type": "stream",
       "stream": "stdout",
       "text": [
        "\n",
        "Warning:  number of households exceeds number of resunits in TAZ 412152\n",
        "There are 57 households in TAZ 412153\n",
        "There are 80 residential units in TAZ 412153"
       ]
      },
      {
       "output_type": "stream",
       "stream": "stdout",
       "text": [
        "\n",
        "Warning:  number of households exceeds number of resunits in TAZ 412153\n",
        "There are 0 households in TAZ 412154\n",
        "There are 28 households in TAZ 412155\n",
        "There are 295 residential units in TAZ 412155"
       ]
      },
      {
       "output_type": "stream",
       "stream": "stdout",
       "text": [
        "\n",
        "Warning:  number of households exceeds number of resunits in TAZ 412155\n",
        "There are 51 households in TAZ 412156\n",
        "There are 60 residential units in TAZ 412156"
       ]
      },
      {
       "output_type": "stream",
       "stream": "stdout",
       "text": [
        "\n",
        "Warning:  number of households exceeds number of resunits in TAZ 412156\n",
        "There are 7 households in TAZ 412161\n",
        "There are 40 residential units in TAZ 412161"
       ]
      },
      {
       "output_type": "stream",
       "stream": "stdout",
       "text": [
        "\n",
        "Warning:  number of households exceeds number of resunits in TAZ 412161\n",
        "There are 5 households in TAZ 412162\n",
        "There are 20 residential units in TAZ 412162"
       ]
      },
      {
       "output_type": "stream",
       "stream": "stdout",
       "text": [
        "\n",
        "Warning:  number of households exceeds number of resunits in TAZ 412162\n",
        "There are 8 households in TAZ 412163\n",
        "There are 60 residential units in TAZ 412163"
       ]
      },
      {
       "output_type": "stream",
       "stream": "stdout",
       "text": [
        "\n",
        "Warning:  number of households exceeds number of resunits in TAZ 412163\n",
        "There are 8 households in TAZ 412164\n",
        "There are 120 residential units in TAZ 412164"
       ]
      },
      {
       "output_type": "stream",
       "stream": "stdout",
       "text": [
        "\n",
        "Warning:  number of households exceeds number of resunits in TAZ 412164\n",
        "There are 5 households in TAZ 412165\n",
        "There are 20 residential units in TAZ 412165"
       ]
      },
      {
       "output_type": "stream",
       "stream": "stdout",
       "text": [
        "\n",
        "Warning:  number of households exceeds number of resunits in TAZ 412165\n",
        "There are 10 households in TAZ 412166\n",
        "There are 120 residential units in TAZ 412166"
       ]
      },
      {
       "output_type": "stream",
       "stream": "stdout",
       "text": [
        "\n",
        "Warning:  number of households exceeds number of resunits in TAZ 412166\n",
        "There are 0 households in TAZ 412167\n",
        "There are 10 households in TAZ 412168\n",
        "There are 80 residential units in TAZ 412168"
       ]
      },
      {
       "output_type": "stream",
       "stream": "stdout",
       "text": [
        "\n",
        "Warning:  number of households exceeds number of resunits in TAZ 412168\n",
        "There are 8 households in TAZ 412169\n",
        "There are 40 residential units in TAZ 412169"
       ]
      },
      {
       "output_type": "stream",
       "stream": "stdout",
       "text": [
        "\n",
        "Warning:  number of households exceeds number of resunits in TAZ 412169\n",
        "There are 65 households in TAZ 412171\n",
        "There are 60 residential units in TAZ 412171"
       ]
      },
      {
       "output_type": "stream",
       "stream": "stdout",
       "text": [
        "\n",
        "Warning:  number of households exceeds number of resunits in TAZ 412171\n",
        "There are 30 households in TAZ 412172\n",
        "There are 255 residential units in TAZ 412172"
       ]
      },
      {
       "output_type": "stream",
       "stream": "stdout",
       "text": [
        "\n",
        "Warning:  number of households exceeds number of resunits in TAZ 412172\n",
        "There are 0 households in TAZ 412173\n",
        "There are 64 households in TAZ 412174\n",
        "There are 60 residential units in TAZ 412174"
       ]
      },
      {
       "output_type": "stream",
       "stream": "stdout",
       "text": [
        "\n",
        "Warning:  number of households exceeds number of resunits in TAZ 412174\n",
        "There are 65 households in TAZ 412175\n",
        "There are 80 residential units in TAZ 412175"
       ]
      },
      {
       "output_type": "stream",
       "stream": "stdout",
       "text": [
        "\n",
        "Warning:  number of households exceeds number of resunits in TAZ 412175\n",
        "There are 0 households in TAZ 412176\n",
        "There are 0 households in TAZ 412180\n",
        "There are 0 households in TAZ 412190\n",
        "There are 41 households in TAZ 412201\n",
        "There are 60 residential units in TAZ 412201"
       ]
      },
      {
       "output_type": "stream",
       "stream": "stdout",
       "text": [
        "\n",
        "Warning:  number of households exceeds number of resunits in TAZ 412201\n",
        "There are 41 households in TAZ 412202\n",
        "There are 80 residential units in TAZ 412202"
       ]
      },
      {
       "output_type": "stream",
       "stream": "stdout",
       "text": [
        "\n",
        "Warning:  number of households exceeds number of resunits in TAZ 412202\n",
        "There are 41 households in TAZ 412203\n",
        "There are 60 residential units in TAZ 412203"
       ]
      },
      {
       "output_type": "stream",
       "stream": "stdout",
       "text": [
        "\n",
        "Warning:  number of households exceeds number of resunits in TAZ 412203\n",
        "There are 0 households in TAZ 412204\n",
        "There are 38 households in TAZ 412205\n",
        "There are 60 residential units in TAZ 412205"
       ]
      },
      {
       "output_type": "stream",
       "stream": "stdout",
       "text": [
        "\n",
        "Warning:  number of households exceeds number of resunits in TAZ 412205\n",
        "There are 38 households in TAZ 412206\n",
        "There are 80 residential units in TAZ 412206"
       ]
      },
      {
       "output_type": "stream",
       "stream": "stdout",
       "text": [
        "\n",
        "Warning:  number of households exceeds number of resunits in TAZ 412206\n",
        "There are 43 households in TAZ 412207\n",
        "There are 20 residential units in TAZ 412207"
       ]
      },
      {
       "output_type": "stream",
       "stream": "stdout",
       "text": [
        "\n",
        "Warning:  number of households exceeds number of resunits in TAZ 412207\n",
        "There are 41 households in TAZ 412208\n",
        "There are 60 residential units in TAZ 412208"
       ]
      },
      {
       "output_type": "stream",
       "stream": "stdout",
       "text": [
        "\n",
        "Warning:  number of households exceeds number of resunits in TAZ 412208\n",
        "There are 0 households in TAZ 412209\n",
        "There are 6 households in TAZ 412211\n",
        "There are 20 residential units in TAZ 412211"
       ]
      },
      {
       "output_type": "stream",
       "stream": "stdout",
       "text": [
        "\n",
        "Warning:  number of households exceeds number of resunits in TAZ 412211\n",
        "There are 6 households in TAZ 412212\n",
        "There are 60 residential units in TAZ 412212"
       ]
      },
      {
       "output_type": "stream",
       "stream": "stdout",
       "text": [
        "\n",
        "Warning:  number of households exceeds number of resunits in TAZ 412212\n",
        "There are 6 households in TAZ 412213\n",
        "There are 40 residential units in TAZ 412213"
       ]
      },
      {
       "output_type": "stream",
       "stream": "stdout",
       "text": [
        "\n",
        "Warning:  number of households exceeds number of resunits in TAZ 412213\n",
        "There are 6 households in TAZ 412214\n",
        "There are 100 residential units in TAZ 412214"
       ]
      },
      {
       "output_type": "stream",
       "stream": "stdout",
       "text": [
        "\n",
        "Warning:  number of households exceeds number of resunits in TAZ 412214\n",
        "There are 6 households in TAZ 412215\n",
        "There are 20 residential units in TAZ 412215"
       ]
      },
      {
       "output_type": "stream",
       "stream": "stdout",
       "text": [
        "\n",
        "Warning:  number of households exceeds number of resunits in TAZ 412215\n",
        "There are 6 households in TAZ 412221\n",
        "There are 20 residential units in TAZ 412221"
       ]
      },
      {
       "output_type": "stream",
       "stream": "stdout",
       "text": [
        "\n",
        "Warning:  number of households exceeds number of resunits in TAZ 412221\n",
        "There are 6 households in TAZ 412222\n",
        "There are 20 residential units in TAZ 412222"
       ]
      },
      {
       "output_type": "stream",
       "stream": "stdout",
       "text": [
        "\n",
        "Warning:  number of households exceeds number of resunits in TAZ 412222\n",
        "There are 6 households in TAZ 412223\n",
        "There are 60 residential units in TAZ 412223"
       ]
      },
      {
       "output_type": "stream",
       "stream": "stdout",
       "text": [
        "\n",
        "Warning:  number of households exceeds number of resunits in TAZ 412223\n",
        "There are 7 households in TAZ 412224\n",
        "There are 80 residential units in TAZ 412224"
       ]
      },
      {
       "output_type": "stream",
       "stream": "stdout",
       "text": [
        "\n",
        "Warning:  number of households exceeds number of resunits in TAZ 412224\n",
        "There are 0 households in TAZ 412231\n",
        "There are 0 households in TAZ 412232\n",
        "There are 62 households in TAZ 412233\n",
        "There are 40 residential units in TAZ 412233"
       ]
      },
      {
       "output_type": "stream",
       "stream": "stdout",
       "text": [
        "\n",
        "Warning:  number of households exceeds number of resunits in TAZ 412233\n",
        "There are 0 households in TAZ 412234\n",
        "There are 62 households in TAZ 412235\n",
        "There are 40 residential units in TAZ 412235"
       ]
      },
      {
       "output_type": "stream",
       "stream": "stdout",
       "text": [
        "\n",
        "Warning:  number of households exceeds number of resunits in TAZ 412235\n",
        "There are 62 households in TAZ 412236\n",
        "There are 20 residential units in TAZ 412236"
       ]
      },
      {
       "output_type": "stream",
       "stream": "stdout",
       "text": [
        "\n",
        "Warning:  number of households exceeds number of resunits in TAZ 412236\n",
        "There are 79 households in TAZ 412241\n",
        "There are 20 residential units in TAZ 412241"
       ]
      },
      {
       "output_type": "stream",
       "stream": "stdout",
       "text": [
        "\n",
        "Warning:  number of households exceeds number of resunits in TAZ 412241\n",
        "There are 79 households in TAZ 412242\n",
        "There are 20 residential units in TAZ 412242"
       ]
      },
      {
       "output_type": "stream",
       "stream": "stdout",
       "text": [
        "\n",
        "Warning:  number of households exceeds number of resunits in TAZ 412242\n",
        "There are 80 households in TAZ 412243\n",
        "There are 180 residential units in TAZ 412243"
       ]
      },
      {
       "output_type": "stream",
       "stream": "stdout",
       "text": [
        "\n",
        "Warning:  number of households exceeds number of resunits in TAZ 412243\n",
        "There are 0 households in TAZ 412244\n",
        "There are 0 households in TAZ 412245\n",
        "There are 79 households in TAZ 412246\n",
        "There are 60 residential units in TAZ 412246"
       ]
      },
      {
       "output_type": "stream",
       "stream": "stdout",
       "text": [
        "\n",
        "Warning:  number of households exceeds number of resunits in TAZ 412246\n",
        "There are 0 households in TAZ 412251\n",
        "There are 0 households in TAZ 412252\n",
        "There are 0 households in TAZ 412253\n",
        "There are 38 households in TAZ 412254\n",
        "There are 250 residential units in TAZ 412254"
       ]
      },
      {
       "output_type": "stream",
       "stream": "stdout",
       "text": [
        "\n",
        "Warning:  number of households exceeds number of resunits in TAZ 412254\n",
        "There are 52 households in TAZ 412255\n",
        "There are 240 residential units in TAZ 412255"
       ]
      },
      {
       "output_type": "stream",
       "stream": "stdout",
       "text": [
        "\n",
        "Warning:  number of households exceeds number of resunits in TAZ 412255\n",
        "There are 36 households in TAZ 412256\n",
        "There are 160 residential units in TAZ 412256"
       ]
      },
      {
       "output_type": "stream",
       "stream": "stdout",
       "text": [
        "\n",
        "Warning:  number of households exceeds number of resunits in TAZ 412256\n",
        "There are 30 households in TAZ 412257\n",
        "There are 20 residential units in TAZ 412257"
       ]
      },
      {
       "output_type": "stream",
       "stream": "stdout",
       "text": [
        "\n",
        "Warning:  number of households exceeds number of resunits in TAZ 412257\n",
        "There are 64 households in TAZ 412261\n",
        "There are 40 residential units in TAZ 412261"
       ]
      },
      {
       "output_type": "stream",
       "stream": "stdout",
       "text": [
        "\n",
        "Warning:  number of households exceeds number of resunits in TAZ 412261\n",
        "There are 0 households in TAZ 412262\n",
        "There are 13 households in TAZ 412263\n",
        "There are 540 residential units in TAZ 412263"
       ]
      },
      {
       "output_type": "stream",
       "stream": "stdout",
       "text": [
        "\n",
        "There are 0 households in TAZ 412264\n",
        "There are 0 households in TAZ 412265\n",
        "There are 0 households in TAZ 412266\n",
        "There are 16 households in TAZ 412270\n",
        "There are 500 residential units in TAZ 412270"
       ]
      },
      {
       "output_type": "stream",
       "stream": "stdout",
       "text": [
        "\n",
        "There are 23 households in TAZ 412280\n",
        "There are 850 residential units in TAZ 412280"
       ]
      },
      {
       "output_type": "stream",
       "stream": "stdout",
       "text": [
        "\n",
        "There are 4 households in TAZ 412290\n",
        "There are 920 residential units in TAZ 412290"
       ]
      },
      {
       "output_type": "stream",
       "stream": "stdout",
       "text": [
        "\n",
        "There are 0 households in TAZ 412301\n",
        "There are 8 households in TAZ 412303\n",
        "There are 140 residential units in TAZ 412303"
       ]
      },
      {
       "output_type": "stream",
       "stream": "stdout",
       "text": [
        "\n",
        "Warning:  number of households exceeds number of resunits in TAZ 412303\n",
        "There are 16 households in TAZ 412304\n",
        "There are 60 residential units in TAZ 412304"
       ]
      },
      {
       "output_type": "stream",
       "stream": "stdout",
       "text": [
        "\n",
        "Warning:  number of households exceeds number of resunits in TAZ 412304\n",
        "There are 14 households in TAZ 412321\n",
        "There are 80 residential units in TAZ 412321"
       ]
      },
      {
       "output_type": "stream",
       "stream": "stdout",
       "text": [
        "\n",
        "Warning:  number of households exceeds number of resunits in TAZ 412321\n",
        "There are 14 households in TAZ 412322\n",
        "There are 80 residential units in TAZ 412322"
       ]
      },
      {
       "output_type": "stream",
       "stream": "stdout",
       "text": [
        "\n",
        "Warning:  number of households exceeds number of resunits in TAZ 412322\n",
        "There are 2 households in TAZ 412323\n",
        "There are 200 residential units in TAZ 412323"
       ]
      },
      {
       "output_type": "stream",
       "stream": "stdout",
       "text": [
        "\n",
        "Warning:  number of households exceeds number of resunits in TAZ 412323\n",
        "There are 27 households in TAZ 412324\n",
        "There are 145 residential units in TAZ 412324"
       ]
      },
      {
       "output_type": "stream",
       "stream": "stdout",
       "text": [
        "\n",
        "Warning:  number of households exceeds number of resunits in TAZ 412324\n",
        "There are 0 households in TAZ 412330\n",
        "There are 0 households in TAZ 412340\n",
        "There are 0 households in TAZ 412350\n",
        "There are 99 households in TAZ 412360\n",
        "There are 2960 residential units in TAZ 412360"
       ]
      },
      {
       "output_type": "stream",
       "stream": "stdout",
       "text": [
        "\n",
        "There are 144 households in TAZ 412370\n",
        "There are 11470 residential units in TAZ 412370"
       ]
      },
      {
       "output_type": "stream",
       "stream": "stdout",
       "text": [
        "\n",
        "There are 62 households in TAZ 412380\n",
        "There are 6470 residential units in TAZ 412380"
       ]
      },
      {
       "output_type": "stream",
       "stream": "stdout",
       "text": [
        "\n",
        "There are 0 households in TAZ 412390\n",
        "There are 53 households in TAZ 412421\n",
        "There are 145 residential units in TAZ 412421"
       ]
      },
      {
       "output_type": "stream",
       "stream": "stdout",
       "text": [
        "\n",
        "Warning:  number of households exceeds number of resunits in TAZ 412421\n",
        "There are 0 households in TAZ 412422\n",
        "There are 65 households in TAZ 412423\n",
        "There are 20 residential units in TAZ 412423"
       ]
      },
      {
       "output_type": "stream",
       "stream": "stdout",
       "text": [
        "\n",
        "Warning:  number of households exceeds number of resunits in TAZ 412423\n",
        "There are 65 households in TAZ 412424\n",
        "There are 20 residential units in TAZ 412424"
       ]
      },
      {
       "output_type": "stream",
       "stream": "stdout",
       "text": [
        "\n",
        "Warning:  number of households exceeds number of resunits in TAZ 412424\n",
        "There are 0 households in TAZ 412425\n",
        "There are 5 households in TAZ 413020\n",
        "There are 400 residential units in TAZ 413020"
       ]
      },
      {
       "output_type": "stream",
       "stream": "stdout",
       "text": [
        "\n",
        "Warning:  number of households exceeds number of resunits in TAZ 413020\n",
        "There are 4 households in TAZ 413170\n",
        "There are 100 residential units in TAZ 413170"
       ]
      },
      {
       "output_type": "stream",
       "stream": "stdout",
       "text": [
        "\n",
        "Warning:  number of households exceeds number of resunits in TAZ 413170\n",
        "There are 176 households in TAZ 413180\n",
        "There are 190 residential units in TAZ 413180"
       ]
      },
      {
       "output_type": "stream",
       "stream": "stdout",
       "text": [
        "\n",
        "Warning:  number of households exceeds number of resunits in TAZ 413180\n",
        "There are 59 households in TAZ 413190\n",
        "There are 140 residential units in TAZ 413190"
       ]
      },
      {
       "output_type": "stream",
       "stream": "stdout",
       "text": [
        "\n",
        "Warning:  number of households exceeds number of resunits in TAZ 413190\n",
        "There are 0 households in TAZ 413200\n",
        "There are 0 households in TAZ 501010\n",
        "There are 49 households in TAZ 501020\n",
        "There are 13620 residential units in TAZ 501020"
       ]
      },
      {
       "output_type": "stream",
       "stream": "stdout",
       "text": [
        "\n",
        "There are 7 households in TAZ 501030\n",
        "There are 2615 residential units in TAZ 501030"
       ]
      },
      {
       "output_type": "stream",
       "stream": "stdout",
       "text": [
        "\n",
        "There are 0 households in TAZ 501040\n",
        "There are 0 households in TAZ 501050\n",
        "There are 0 households in TAZ 501060\n",
        "There are 0 households in TAZ 501070\n",
        "There are 0 households in TAZ 501080\n",
        "There are 0 households in TAZ 501090\n",
        "There are 0 households in TAZ 501100"
       ]
      },
      {
       "output_type": "stream",
       "stream": "stdout",
       "text": [
        "\n",
        "There are 0 households in TAZ 501110\n",
        "There are 72 households in TAZ 501120\n",
        "There are 5550 residential units in TAZ 501120"
       ]
      },
      {
       "output_type": "stream",
       "stream": "stdout",
       "text": [
        "\n",
        "There are 0 households in TAZ 501130\n",
        "There are 0 households in TAZ 501140\n",
        "There are 0 households in TAZ 502010\n",
        "There are 32 households in TAZ 502020\n",
        "There are 6570 residential units in TAZ 502020"
       ]
      },
      {
       "output_type": "stream",
       "stream": "stdout",
       "text": [
        "\n",
        "There are 0 households in TAZ 502030\n",
        "There are 1061 households in TAZ 502040\n",
        "There are 13010 residential units in TAZ 502040"
       ]
      },
      {
       "output_type": "stream",
       "stream": "stdout",
       "text": [
        "\n",
        "There are 0 households in TAZ 502050\n",
        "There are 7 households in TAZ 502060\n",
        "There are 22385 residential units in TAZ 502060"
       ]
      },
      {
       "output_type": "stream",
       "stream": "stdout",
       "text": [
        "\n",
        "There are 20 households in TAZ 502070\n",
        "There are 20325 residential units in TAZ 502070"
       ]
      },
      {
       "output_type": "stream",
       "stream": "stdout",
       "text": [
        "\n",
        "There are 0 households in TAZ 502080\n",
        "There are 0 households in TAZ 502090\n",
        "There are 0 households in TAZ 502100\n",
        "There are 0 households in TAZ 502110\n",
        "There are 0 households in TAZ 502120\n",
        "There are 148 households in TAZ 502130\n",
        "There are 7995 residential units in TAZ 502130"
       ]
      },
      {
       "output_type": "stream",
       "stream": "stdout",
       "text": [
        "\n",
        "There are 0 households in TAZ 502150\n",
        "There are 0 households in TAZ 502160\n",
        "There are 0 households in TAZ 502170\n",
        "There are 0 households in TAZ 502180\n",
        "There are 0 households in TAZ 502190\n",
        "There are 0 households in TAZ 502200\n",
        "There are 0 households in TAZ 502210"
       ]
      },
      {
       "output_type": "stream",
       "stream": "stdout",
       "text": [
        "\n",
        "There are 3 households in TAZ 502220\n",
        "There are 1295 residential units in TAZ 502220"
       ]
      },
      {
       "output_type": "stream",
       "stream": "stdout",
       "text": [
        "\n",
        "There are 481 households in TAZ 503010\n",
        "There are 8355 residential units in TAZ 503010"
       ]
      },
      {
       "output_type": "stream",
       "stream": "stdout",
       "text": [
        "\n",
        "There are 349 households in TAZ 503020\n",
        "There are 3970 residential units in TAZ 503020"
       ]
      },
      {
       "output_type": "stream",
       "stream": "stdout",
       "text": [
        "\n",
        "There are 0 households in TAZ 503030\n",
        "There are 0 households in TAZ 503040\n",
        "There are 0 households in TAZ 503050\n",
        "There are 10 households in TAZ 503060\n",
        "There are 7465 residential units in TAZ 503060"
       ]
      },
      {
       "output_type": "stream",
       "stream": "stdout",
       "text": [
        "\n",
        "There are 3 households in TAZ 503070\n",
        "There are 14245 residential units in TAZ 503070"
       ]
      },
      {
       "output_type": "stream",
       "stream": "stdout",
       "text": [
        "\n",
        "There are 16 households in TAZ 503080\n",
        "There are 1395 residential units in TAZ 503080"
       ]
      },
      {
       "output_type": "stream",
       "stream": "stdout",
       "text": [
        "\n",
        "There are 0 households in TAZ 503090\n",
        "There are 0 households in TAZ 503100\n",
        "There are 0 households in TAZ 503110\n",
        "There are 4 households in TAZ 503120\n",
        "There are 380 residential units in TAZ 503120"
       ]
      },
      {
       "output_type": "stream",
       "stream": "stdout",
       "text": [
        "\n",
        "Warning:  number of households exceeds number of resunits in TAZ 503120\n",
        "There are 112 households in TAZ 503130\n",
        "There are 4780 residential units in TAZ 503130"
       ]
      },
      {
       "output_type": "stream",
       "stream": "stdout",
       "text": [
        "\n",
        "There are 0 households in TAZ 503140\n",
        "There are 0 households in TAZ 503150\n",
        "There are 5 households in TAZ 503160\n",
        "There are 140 residential units in TAZ 503160"
       ]
      },
      {
       "output_type": "stream",
       "stream": "stdout",
       "text": [
        "\n",
        "Warning:  number of households exceeds number of resunits in TAZ 503160\n",
        "There are 0 households in TAZ 503180\n",
        "There are 0 households in TAZ 503190\n",
        "There are 0 households in TAZ 503200\n",
        "There are 0 households in TAZ 503210\n",
        "There are 0 households in TAZ 503220\n",
        "There are 5 households in TAZ 503230\n",
        "There are 16900 residential units in TAZ 503230"
       ]
      },
      {
       "output_type": "stream",
       "stream": "stdout",
       "text": [
        "\n",
        "There are 13 households in TAZ 503240\n",
        "There are 7950 residential units in TAZ 503240"
       ]
      },
      {
       "output_type": "stream",
       "stream": "stdout",
       "text": [
        "\n",
        "There are 116 households in TAZ 503260\n",
        "There are 20 residential units in TAZ 503260"
       ]
      },
      {
       "output_type": "stream",
       "stream": "stdout",
       "text": [
        "\n",
        "Warning:  number of households exceeds number of resunits in TAZ 503260\n",
        "There are 240 households in TAZ 503280\n",
        "There are 700 residential units in TAZ 503280"
       ]
      },
      {
       "output_type": "stream",
       "stream": "stdout",
       "text": [
        "\n",
        "There are 9 households in TAZ 503290\n",
        "There are 13760 residential units in TAZ 503290"
       ]
      },
      {
       "output_type": "stream",
       "stream": "stdout",
       "text": [
        "\n",
        "There are 9 households in TAZ 503300\n",
        "There are 220 residential units in TAZ 503300"
       ]
      },
      {
       "output_type": "stream",
       "stream": "stdout",
       "text": [
        "\n",
        "Warning:  number of households exceeds number of resunits in TAZ 503300\n",
        "There are 0 households in TAZ 503310\n",
        "There are 15 households in TAZ 503320\n",
        "There are 420 residential units in TAZ 503320"
       ]
      },
      {
       "output_type": "stream",
       "stream": "stdout",
       "text": [
        "\n",
        "Warning:  number of households exceeds number of resunits in TAZ 503320\n",
        "There are 16 households in TAZ 504010\n",
        "There are 1715 residential units in TAZ 504010"
       ]
      },
      {
       "output_type": "stream",
       "stream": "stdout",
       "text": [
        "\n",
        "There are 96 households in TAZ 504020\n",
        "There are 600 residential units in TAZ 504020"
       ]
      },
      {
       "output_type": "stream",
       "stream": "stdout",
       "text": [
        "\n",
        "There are 25 households in TAZ 504030\n",
        "There are 130 residential units in TAZ 504030"
       ]
      },
      {
       "output_type": "stream",
       "stream": "stdout",
       "text": [
        "\n",
        "Warning:  number of households exceeds number of resunits in TAZ 504030\n",
        "There are 289 households in TAZ 504050\n",
        "There are 75 residential units in TAZ 504050"
       ]
      },
      {
       "output_type": "stream",
       "stream": "stdout",
       "text": [
        "\n",
        "Warning:  number of households exceeds number of resunits in TAZ 504050\n",
        "There are 305 households in TAZ 504060\n",
        "There are 1000 residential units in TAZ 504060"
       ]
      },
      {
       "output_type": "stream",
       "stream": "stdout",
       "text": [
        "\n",
        "There are 118 households in TAZ 504090\n",
        "There are 20 residential units in TAZ 504090"
       ]
      },
      {
       "output_type": "stream",
       "stream": "stdout",
       "text": [
        "\n",
        "Warning:  number of households exceeds number of resunits in TAZ 504090\n",
        "There are 306 households in TAZ 504100\n",
        "There are 60 residential units in TAZ 504100"
       ]
      },
      {
       "output_type": "stream",
       "stream": "stdout",
       "text": [
        "\n",
        "Warning:  number of households exceeds number of resunits in TAZ 504100\n",
        "There are 720 households in TAZ 504120\n",
        "There are 9270 residential units in TAZ 504120"
       ]
      },
      {
       "output_type": "stream",
       "stream": "stdout",
       "text": [
        "\n",
        "There are 60 households in TAZ 504140\n",
        "There are 25 residential units in TAZ 504140"
       ]
      },
      {
       "output_type": "stream",
       "stream": "stdout",
       "text": [
        "\n",
        "Warning:  number of households exceeds number of resunits in TAZ 504140\n",
        "There are 6 households in TAZ 504150\n",
        "There are 95 residential units in TAZ 504150"
       ]
      },
      {
       "output_type": "stream",
       "stream": "stdout",
       "text": [
        "\n",
        "Warning:  number of households exceeds number of resunits in TAZ 504150\n",
        "There are 0 households in TAZ 504160\n",
        "There are 183 households in TAZ 504170\n",
        "There are 11590 residential units in TAZ 504170"
       ]
      },
      {
       "output_type": "stream",
       "stream": "stdout",
       "text": [
        "\n",
        "There are 12 households in TAZ 504180\n",
        "There are 25425 residential units in TAZ 504180"
       ]
      },
      {
       "output_type": "stream",
       "stream": "stdout",
       "text": [
        "\n",
        "There are 93 households in TAZ 504190\n",
        "There are 8245 residential units in TAZ 504190"
       ]
      },
      {
       "output_type": "stream",
       "stream": "stdout",
       "text": [
        "\n",
        "There are 504 households in TAZ 504200\n",
        "There are 14985 residential units in TAZ 504200"
       ]
      },
      {
       "output_type": "stream",
       "stream": "stdout",
       "text": [
        "\n",
        "There are 138 households in TAZ 504210\n",
        "There are 8520 residential units in TAZ 504210"
       ]
      },
      {
       "output_type": "stream",
       "stream": "stdout",
       "text": [
        "\n",
        "There are 19 households in TAZ 504220\n",
        "There are 2385 residential units in TAZ 504220"
       ]
      },
      {
       "output_type": "stream",
       "stream": "stdout",
       "text": [
        "\n",
        "There are 8 households in TAZ 504230\n",
        "There are 345 residential units in TAZ 504230"
       ]
      },
      {
       "output_type": "stream",
       "stream": "stdout",
       "text": [
        "\n",
        "Warning:  number of households exceeds number of resunits in TAZ 504230\n",
        "There are 0 households in TAZ 504260\n",
        "There are 0 households in TAZ 504270\n",
        "There are 0 households in TAZ 504280\n",
        "There are 55 households in TAZ 504290\n",
        "There are 115 residential units in TAZ 504290"
       ]
      },
      {
       "output_type": "stream",
       "stream": "stdout",
       "text": [
        "\n",
        "Warning:  number of households exceeds number of resunits in TAZ 504290\n",
        "There are 144 households in TAZ 504300\n",
        "There are 115 residential units in TAZ 504300"
       ]
      },
      {
       "output_type": "stream",
       "stream": "stdout",
       "text": [
        "\n",
        "Warning:  number of households exceeds number of resunits in TAZ 504300\n",
        "There are 56 households in TAZ 504310\n",
        "There are 200 residential units in TAZ 504310"
       ]
      },
      {
       "output_type": "stream",
       "stream": "stdout",
       "text": [
        "\n",
        "Warning:  number of households exceeds number of resunits in TAZ 504310\n",
        "There are 10 households in TAZ 504320\n",
        "There are 60 residential units in TAZ 504320"
       ]
      },
      {
       "output_type": "stream",
       "stream": "stdout",
       "text": [
        "\n",
        "Warning:  number of households exceeds number of resunits in TAZ 504320\n",
        "There are 27 households in TAZ 504340\n",
        "There are 120 residential units in TAZ 504340"
       ]
      },
      {
       "output_type": "stream",
       "stream": "stdout",
       "text": [
        "\n",
        "Warning:  number of households exceeds number of resunits in TAZ 504340\n",
        "There are 100 households in TAZ 504360\n",
        "There are 450 residential units in TAZ 504360"
       ]
      },
      {
       "output_type": "stream",
       "stream": "stdout",
       "text": [
        "\n",
        "Warning:  number of households exceeds number of resunits in TAZ 504360\n",
        "There are 244 households in TAZ 504370\n",
        "There are 1150 residential units in TAZ 504370"
       ]
      },
      {
       "output_type": "stream",
       "stream": "stdout",
       "text": [
        "\n",
        "There are 358 households in TAZ 504380\n",
        "There are 25 residential units in TAZ 504380"
       ]
      },
      {
       "output_type": "stream",
       "stream": "stdout",
       "text": [
        "\n",
        "Warning:  number of households exceeds number of resunits in TAZ 504380\n",
        "There are 329 households in TAZ 504410\n",
        "There are 25 residential units in TAZ 504410"
       ]
      },
      {
       "output_type": "stream",
       "stream": "stdout",
       "text": [
        "\n",
        "Warning:  number of households exceeds number of resunits in TAZ 504410\n",
        "There are 359 households in TAZ 504420\n",
        "There are 25 residential units in TAZ 504420"
       ]
      },
      {
       "output_type": "stream",
       "stream": "stdout",
       "text": [
        "\n",
        "Warning:  number of households exceeds number of resunits in TAZ 504420\n",
        "There are 409 households in TAZ 504430\n",
        "There are 25 residential units in TAZ 504430"
       ]
      },
      {
       "output_type": "stream",
       "stream": "stdout",
       "text": [
        "\n",
        "Warning:  number of households exceeds number of resunits in TAZ 504430\n",
        "There are 49 households in TAZ 504440\n",
        "There are 14135 residential units in TAZ 504440"
       ]
      },
      {
       "output_type": "stream",
       "stream": "stdout",
       "text": [
        "\n",
        "There are 0 households in TAZ 504450\n",
        "There are 50 households in TAZ 504460\n",
        "There are 2350 residential units in TAZ 504460"
       ]
      },
      {
       "output_type": "stream",
       "stream": "stdout",
       "text": [
        "\n",
        "There are 5 households in TAZ 504480\n",
        "There are 50 residential units in TAZ 504480"
       ]
      },
      {
       "output_type": "stream",
       "stream": "stdout",
       "text": [
        "\n",
        "Warning:  number of households exceeds number of resunits in TAZ 504480\n",
        "There are 262 households in TAZ 504520\n",
        "There are 25 residential units in TAZ 504520"
       ]
      },
      {
       "output_type": "stream",
       "stream": "stdout",
       "text": [
        "\n",
        "Warning:  number of households exceeds number of resunits in TAZ 504520\n",
        "There are 630 households in TAZ 504530\n",
        "There are 125 residential units in TAZ 504530"
       ]
      },
      {
       "output_type": "stream",
       "stream": "stdout",
       "text": [
        "\n",
        "Warning:  number of households exceeds number of resunits in TAZ 504530\n",
        "There are 999 households in TAZ 504550\n",
        "There are 100 residential units in TAZ 504550"
       ]
      },
      {
       "output_type": "stream",
       "stream": "stdout",
       "text": [
        "\n",
        "Warning:  number of households exceeds number of resunits in TAZ 504550\n",
        "There are 133 households in TAZ 504560\n",
        "There are 605 residential units in TAZ 504560"
       ]
      },
      {
       "output_type": "stream",
       "stream": "stdout",
       "text": [
        "\n",
        "There are 275 households in TAZ 504570\n",
        "There are 20 residential units in TAZ 504570"
       ]
      },
      {
       "output_type": "stream",
       "stream": "stdout",
       "text": [
        "\n",
        "Warning:  number of households exceeds number of resunits in TAZ 504570\n",
        "There are 3 households in TAZ 504580\n",
        "There are 205 residential units in TAZ 504580"
       ]
      },
      {
       "output_type": "stream",
       "stream": "stdout",
       "text": [
        "\n",
        "Warning:  number of households exceeds number of resunits in TAZ 504580\n",
        "There are 0 households in TAZ 504620\n",
        "There are 21 households in TAZ 504630\n",
        "There are 760 residential units in TAZ 504630"
       ]
      },
      {
       "output_type": "stream",
       "stream": "stdout",
       "text": [
        "\n",
        "There are 0 households in TAZ 504640\n",
        "There are 0 households in TAZ 504690\n",
        "There are 3 households in TAZ 504700\n",
        "There are 270 residential units in TAZ 504700"
       ]
      },
      {
       "output_type": "stream",
       "stream": "stdout",
       "text": [
        "\n",
        "Warning:  number of households exceeds number of resunits in TAZ 504700\n",
        "There are 0 households in TAZ 504710\n",
        "There are 0 households in TAZ 504720\n",
        "There are 29 households in TAZ 504730\n",
        "There are 2940 residential units in TAZ 504730"
       ]
      },
      {
       "output_type": "stream",
       "stream": "stdout",
       "text": [
        "\n",
        "There are 0 households in TAZ 504740\n",
        "There are 0 households in TAZ 504750\n",
        "There are 53 households in TAZ 504760\n",
        "There are 475 residential units in TAZ 504760"
       ]
      },
      {
       "output_type": "stream",
       "stream": "stdout",
       "text": [
        "\n",
        "There are 43 households in TAZ 504770\n",
        "There are 375 residential units in TAZ 504770"
       ]
      },
      {
       "output_type": "stream",
       "stream": "stdout",
       "text": [
        "\n",
        "Warning:  number of households exceeds number of resunits in TAZ 504770\n",
        "There are 139 households in TAZ 504790\n",
        "There are 565 residential units in TAZ 504790"
       ]
      },
      {
       "output_type": "stream",
       "stream": "stdout",
       "text": [
        "\n",
        "There are 0 households in TAZ 504800\n",
        "There are 0 households in TAZ 505010\n",
        "There are 46 households in TAZ 505020\n",
        "There are 26985 residential units in TAZ 505020"
       ]
      },
      {
       "output_type": "stream",
       "stream": "stdout",
       "text": [
        "\n",
        "There are 0 households in TAZ 505030\n",
        "There are 0 households in TAZ 505040\n",
        "There are 0 households in TAZ 505050\n",
        "There are 0 households in TAZ 505060\n",
        "There are 0 households in TAZ 505070\n",
        "There are 0 households in TAZ 505080\n",
        "There are 6 households in TAZ 505090"
       ]
      },
      {
       "output_type": "stream",
       "stream": "stdout",
       "text": [
        "\n",
        "There are 13275 residential units in TAZ 505090"
       ]
      },
      {
       "output_type": "stream",
       "stream": "stdout",
       "text": [
        "\n",
        "There are 0 households in TAZ 505100\n",
        "There are 0 households in TAZ 505110\n",
        "There are 0 households in TAZ 505120\n",
        "There are 0 households in TAZ 505130\n",
        "There are 0 households in TAZ 505140\n",
        "There are 0 households in TAZ 505150\n",
        "There are 0 households in TAZ 505160"
       ]
      },
      {
       "output_type": "stream",
       "stream": "stdout",
       "text": [
        "\n",
        "There are 0 households in TAZ 505210\n",
        "There are 0 households in TAZ 505220\n",
        "There are 0 households in TAZ 505230\n",
        "There are 0 households in TAZ 505240\n",
        "There are 16 households in TAZ 505250\n",
        "There are 25290 residential units in TAZ 505250"
       ]
      },
      {
       "output_type": "stream",
       "stream": "stdout",
       "text": [
        "\n",
        "There are 48 households in TAZ 505260\n",
        "There are 30565 residential units in TAZ 505260"
       ]
      },
      {
       "output_type": "stream",
       "stream": "stdout",
       "text": [
        "\n",
        "There are 0 households in TAZ 505270\n",
        "There are 0 households in TAZ 505280\n",
        "There are 0 households in TAZ 505290\n",
        "There are 85 households in TAZ 505300\n",
        "There are 16470 residential units in TAZ 505300"
       ]
      },
      {
       "output_type": "stream",
       "stream": "stdout",
       "text": [
        "\n",
        "There are 0 households in TAZ 506020\n",
        "There are 139 households in TAZ 506030\n",
        "There are 300 residential units in TAZ 506030"
       ]
      },
      {
       "output_type": "stream",
       "stream": "stdout",
       "text": [
        "\n",
        "Warning:  number of households exceeds number of resunits in TAZ 506030\n",
        "There are 0 households in TAZ 506040\n",
        "There are 0 households in TAZ 506050\n",
        "There are 0 households in TAZ 506060\n",
        "There are 0 households in TAZ 506070\n",
        "There are 0 households in TAZ 506080\n",
        "There are 0 households in TAZ 506090\n",
        "There are 0 households in TAZ 506100"
       ]
      },
      {
       "output_type": "stream",
       "stream": "stdout",
       "text": [
        "\n",
        "There are 0 households in TAZ 506110\n",
        "There are 0 households in TAZ 506120\n",
        "There are 27 households in TAZ 506140\n",
        "There are 890 residential units in TAZ 506140"
       ]
      },
      {
       "output_type": "stream",
       "stream": "stdout",
       "text": [
        "\n",
        "There are 0 households in TAZ 506150\n",
        "There are 0 households in TAZ 506160\n",
        "There are 8 households in TAZ 506170\n",
        "There are 19470 residential units in TAZ 506170"
       ]
      },
      {
       "output_type": "stream",
       "stream": "stdout",
       "text": [
        "\n",
        "There are 62 households in TAZ 506180\n",
        "There are 25615 residential units in TAZ 506180"
       ]
      },
      {
       "output_type": "stream",
       "stream": "stdout",
       "text": [
        "\n",
        "There are 0 households in TAZ 506190\n",
        "There are 0 households in TAZ 506200\n",
        "There are 0 households in TAZ 506220\n",
        "There are 0 households in TAZ 506230\n",
        "There are 0 households in TAZ 506240\n",
        "There are 0 households in TAZ 506250\n",
        "There are 0 households in TAZ 506260"
       ]
      },
      {
       "output_type": "stream",
       "stream": "stdout",
       "text": [
        "\n",
        "There are 0 households in TAZ 506270\n",
        "There are 0 households in TAZ 507010\n",
        "There are 0 households in TAZ 507020\n",
        "There are 0 households in TAZ 507030\n",
        "There are 0 households in TAZ 507040\n",
        "There are 0 households in TAZ 507050\n",
        "There are 0 households in TAZ 507060\n",
        "There are 0 households in TAZ 507070"
       ]
      },
      {
       "output_type": "stream",
       "stream": "stdout",
       "text": [
        "\n",
        "There are 0 households in TAZ 507080\n",
        "There are 0 households in TAZ 507100\n",
        "There are 0 households in TAZ 507110\n",
        "There are 0 households in TAZ 507120\n",
        "There are 0 households in TAZ 507130\n",
        "There are 0 households in TAZ 507140\n",
        "There are 0 households in TAZ 507150\n",
        "There are 0 households in TAZ 507160"
       ]
      },
      {
       "output_type": "stream",
       "stream": "stdout",
       "text": [
        "\n",
        "There are 0 households in TAZ 507170\n",
        "There are 73 households in TAZ 507180\n",
        "There are 9505 residential units in TAZ 507180"
       ]
      },
      {
       "output_type": "stream",
       "stream": "stdout",
       "text": [
        "\n",
        "There are 0 households in TAZ 507190\n",
        "There are 0 households in TAZ 507200\n",
        "There are 0 households in TAZ 507210\n",
        "There are 0 households in TAZ 507220\n",
        "There are 0 households in TAZ 507230\n",
        "There are 34 households in TAZ 507240\n",
        "There are 4890 residential units in TAZ 507240"
       ]
      },
      {
       "output_type": "stream",
       "stream": "stdout",
       "text": [
        "\n",
        "There are 33 households in TAZ 507250\n",
        "There are 1360 residential units in TAZ 507250"
       ]
      },
      {
       "output_type": "stream",
       "stream": "stdout",
       "text": [
        "\n",
        "There are 0 households in TAZ 507260\n",
        "There are 120 households in TAZ 507270\n",
        "There are 15785 residential units in TAZ 507270"
       ]
      },
      {
       "output_type": "stream",
       "stream": "stdout",
       "text": [
        "\n",
        "There are 0 households in TAZ 507280\n",
        "There are 5 households in TAZ 508010\n",
        "There are 3025 residential units in TAZ 508010"
       ]
      },
      {
       "output_type": "stream",
       "stream": "stdout",
       "text": [
        "\n",
        "There are 13 households in TAZ 508020\n",
        "There are 9575 residential units in TAZ 508020"
       ]
      },
      {
       "output_type": "stream",
       "stream": "stdout",
       "text": [
        "\n",
        "There are 21 households in TAZ 508030\n",
        "There are 14675 residential units in TAZ 508030"
       ]
      },
      {
       "output_type": "stream",
       "stream": "stdout",
       "text": [
        "\n",
        "There are 9 households in TAZ 508040\n",
        "There are 3325 residential units in TAZ 508040"
       ]
      },
      {
       "output_type": "stream",
       "stream": "stdout",
       "text": [
        "\n",
        "There are 0 households in TAZ 508050\n",
        "There are 11 households in TAZ 508060\n",
        "There are 1990 residential units in TAZ 508060"
       ]
      },
      {
       "output_type": "stream",
       "stream": "stdout",
       "text": [
        "\n",
        "There are 157 households in TAZ 508070\n",
        "There are 13955 residential units in TAZ 508070"
       ]
      },
      {
       "output_type": "stream",
       "stream": "stdout",
       "text": [
        "\n",
        "There are 0 households in TAZ 508080\n",
        "There are 46 households in TAZ 508090\n",
        "There are 7110 residential units in TAZ 508090"
       ]
      },
      {
       "output_type": "stream",
       "stream": "stdout",
       "text": [
        "\n",
        "There are 0 households in TAZ 508100\n",
        "There are 99 households in TAZ 508110\n",
        "There are 21420 residential units in TAZ 508110"
       ]
      },
      {
       "output_type": "stream",
       "stream": "stdout",
       "text": [
        "\n",
        "There are 0 households in TAZ 508120\n",
        "There are 124 households in TAZ 508130\n",
        "There are 3940 residential units in TAZ 508130"
       ]
      },
      {
       "output_type": "stream",
       "stream": "stdout",
       "text": [
        "\n",
        "There are 51 households in TAZ 508140\n",
        "There are 7925 residential units in TAZ 508140"
       ]
      },
      {
       "output_type": "stream",
       "stream": "stdout",
       "text": [
        "\n",
        "There are 38 households in TAZ 508150\n",
        "There are 500 residential units in TAZ 508150"
       ]
      },
      {
       "output_type": "stream",
       "stream": "stdout",
       "text": [
        "\n",
        "There are 0 households in TAZ 508160\n",
        "There are 0 households in TAZ 508170\n",
        "There are 9 households in TAZ 508180\n",
        "There are 14655 residential units in TAZ 508180"
       ]
      },
      {
       "output_type": "stream",
       "stream": "stdout",
       "text": [
        "\n",
        "There are 60 households in TAZ 508190\n",
        "There are 6780 residential units in TAZ 508190"
       ]
      },
      {
       "output_type": "stream",
       "stream": "stdout",
       "text": [
        "\n",
        "There are 0 households in TAZ 508200\n",
        "There are 66 households in TAZ 508210\n",
        "There are 3960 residential units in TAZ 508210"
       ]
      },
      {
       "output_type": "stream",
       "stream": "stdout",
       "text": [
        "\n",
        "There are 40 households in TAZ 508220\n",
        "There are 500 residential units in TAZ 508220"
       ]
      },
      {
       "output_type": "stream",
       "stream": "stdout",
       "text": [
        "\n",
        "There are 212 households in TAZ 508230\n",
        "There are 5435 residential units in TAZ 508230"
       ]
      },
      {
       "output_type": "stream",
       "stream": "stdout",
       "text": [
        "\n",
        "There are 0 households in TAZ 508240\n",
        "There are 0 households in TAZ 508250\n",
        "There are 10 households in TAZ 508260\n",
        "There are 4085 residential units in TAZ 508260"
       ]
      },
      {
       "output_type": "stream",
       "stream": "stdout",
       "text": [
        "\n",
        "There are 10 households in TAZ 508270\n",
        "There are 1955 residential units in TAZ 508270"
       ]
      },
      {
       "output_type": "stream",
       "stream": "stdout",
       "text": [
        "\n",
        "There are 21 households in TAZ 508280\n",
        "There are 10540 residential units in TAZ 508280"
       ]
      },
      {
       "output_type": "stream",
       "stream": "stdout",
       "text": [
        "\n",
        "There are 0 households in TAZ 508290\n",
        "There are 8 households in TAZ 508300\n",
        "There are 14860 residential units in TAZ 508300"
       ]
      },
      {
       "output_type": "stream",
       "stream": "stdout",
       "text": [
        "\n",
        "There are 0 households in TAZ 508310\n",
        "There are 0 households in TAZ 508320\n",
        "There are 0 households in TAZ 508330\n",
        "There are 7 households in TAZ 508340\n",
        "There are 1260 residential units in TAZ 508340"
       ]
      },
      {
       "output_type": "stream",
       "stream": "stdout",
       "text": [
        "\n",
        "There are 20 households in TAZ 508350\n",
        "There are 13105 residential units in TAZ 508350"
       ]
      },
      {
       "output_type": "stream",
       "stream": "stdout",
       "text": [
        "\n",
        "There are 2 households in TAZ 509010\n",
        "There are 18185 residential units in TAZ 509010"
       ]
      },
      {
       "output_type": "stream",
       "stream": "stdout",
       "text": [
        "\n",
        "There are 3 households in TAZ 509020\n",
        "There are 6980 residential units in TAZ 509020"
       ]
      },
      {
       "output_type": "stream",
       "stream": "stdout",
       "text": [
        "\n",
        "There are 0 households in TAZ 509030\n",
        "There are 25 households in TAZ 509040\n",
        "There are 11835 residential units in TAZ 509040"
       ]
      },
      {
       "output_type": "stream",
       "stream": "stdout",
       "text": [
        "\n",
        "There are 0 households in TAZ 509050\n",
        "There are 164 households in TAZ 509060\n",
        "There are 4430 residential units in TAZ 509060"
       ]
      },
      {
       "output_type": "stream",
       "stream": "stdout",
       "text": [
        "\n",
        "There are 0 households in TAZ 509070\n",
        "There are 0 households in TAZ 509080\n",
        "There are 0 households in TAZ 509090\n",
        "There are 0 households in TAZ 509100\n",
        "There are 0 households in TAZ 509110\n",
        "There are 49 households in TAZ 509120\n",
        "There are 13175 residential units in TAZ 509120"
       ]
      },
      {
       "output_type": "stream",
       "stream": "stdout",
       "text": [
        "\n",
        "There are 0 households in TAZ 509130\n",
        "There are 0 households in TAZ 509140\n",
        "There are 0 households in TAZ 509150\n",
        "There are 4 households in TAZ 509160\n",
        "There are 160 residential units in TAZ 509160"
       ]
      },
      {
       "output_type": "stream",
       "stream": "stdout",
       "text": [
        "\n",
        "Warning:  number of households exceeds number of resunits in TAZ 509160\n",
        "There are 0 households in TAZ 509170\n",
        "There are 0 households in TAZ 509180\n",
        "There are 0 households in TAZ 509190\n",
        "There are 0 households in TAZ 509200\n",
        "There are 0 households in TAZ 509210\n",
        "There are 0 households in TAZ 509220\n",
        "There are 16 households in TAZ 509230"
       ]
      },
      {
       "output_type": "stream",
       "stream": "stdout",
       "text": [
        "\n",
        "There are 26955 residential units in TAZ 509230"
       ]
      },
      {
       "output_type": "stream",
       "stream": "stdout",
       "text": [
        "\n",
        "There are 80 households in TAZ 509240\n",
        "There are 13255 residential units in TAZ 509240"
       ]
      },
      {
       "output_type": "stream",
       "stream": "stdout",
       "text": [
        "\n",
        "There are 0 households in TAZ 509250\n",
        "There are 0 households in TAZ 509260\n",
        "There are 0 households in TAZ 509270\n",
        "There are 0 households in TAZ 509280\n",
        "There are 92 households in TAZ 509300\n",
        "There are 580 residential units in TAZ 509300"
       ]
      },
      {
       "output_type": "stream",
       "stream": "stdout",
       "text": [
        "\n",
        "There are 0 households in TAZ 509310\n",
        "There are 0 households in TAZ 509320\n",
        "There are 12 households in TAZ 509330\n",
        "There are 395 residential units in TAZ 509330"
       ]
      },
      {
       "output_type": "stream",
       "stream": "stdout",
       "text": [
        "\n",
        "Warning:  number of households exceeds number of resunits in TAZ 509330\n",
        "There are 60 households in TAZ 509340\n",
        "There are 5945 residential units in TAZ 509340"
       ]
      },
      {
       "output_type": "stream",
       "stream": "stdout",
       "text": [
        "\n",
        "There are 0 households in TAZ 509350\n",
        "There are 2 households in TAZ 510010\n",
        "There are 4920 residential units in TAZ 510010"
       ]
      },
      {
       "output_type": "stream",
       "stream": "stdout",
       "text": [
        "\n",
        "There are 0 households in TAZ 510020\n",
        "There are 4 households in TAZ 510030\n",
        "There are 14150 residential units in TAZ 510030"
       ]
      },
      {
       "output_type": "stream",
       "stream": "stdout",
       "text": [
        "\n",
        "There are 17 households in TAZ 510040\n",
        "There are 4495 residential units in TAZ 510040"
       ]
      },
      {
       "output_type": "stream",
       "stream": "stdout",
       "text": [
        "\n",
        "There are 0 households in TAZ 510050\n",
        "There are 7 households in TAZ 510060\n",
        "There are 11090 residential units in TAZ 510060"
       ]
      },
      {
       "output_type": "stream",
       "stream": "stdout",
       "text": [
        "\n",
        "There are 0 households in TAZ 510070\n",
        "There are 0 households in TAZ 510080\n",
        "There are 0 households in TAZ 510090\n",
        "There are 7 households in TAZ 510100\n",
        "There are 4500 residential units in TAZ 510100"
       ]
      },
      {
       "output_type": "stream",
       "stream": "stdout",
       "text": [
        "\n",
        "There are 0 households in TAZ 510110\n",
        "There are 0 households in TAZ 510120\n",
        "There are 0 households in TAZ 510130\n",
        "There are 0 households in TAZ 510140\n",
        "There are 0 households in TAZ 510150\n",
        "There are 0 households in TAZ 510160\n",
        "There are 17 households in TAZ 510170"
       ]
      },
      {
       "output_type": "stream",
       "stream": "stdout",
       "text": [
        "\n",
        "There are 18300 residential units in TAZ 510170"
       ]
      },
      {
       "output_type": "stream",
       "stream": "stdout",
       "text": [
        "\n",
        "There are 0 households in TAZ 510180\n",
        "There are 23 households in TAZ 510190\n",
        "There are 19300 residential units in TAZ 510190"
       ]
      },
      {
       "output_type": "stream",
       "stream": "stdout",
       "text": [
        "\n",
        "There are 0 households in TAZ 510200\n",
        "There are 0 households in TAZ 510210\n",
        "There are 6 households in TAZ 510220\n",
        "There are 16360 residential units in TAZ 510220"
       ]
      },
      {
       "output_type": "stream",
       "stream": "stdout",
       "text": [
        "\n",
        "There are 0 households in TAZ 510230\n",
        "There are 0 households in TAZ 510240\n",
        "There are 65 households in TAZ 510250\n",
        "There are 22975 residential units in TAZ 510250"
       ]
      },
      {
       "output_type": "stream",
       "stream": "stdout",
       "text": [
        "\n",
        "There are 0 households in TAZ 510260\n",
        "There are 0 households in TAZ 510270\n",
        "There are 76 households in TAZ 510280\n",
        "There are 21175 residential units in TAZ 510280"
       ]
      },
      {
       "output_type": "stream",
       "stream": "stdout",
       "text": [
        "\n",
        "There are 15 households in TAZ 510290\n",
        "There are 17075 residential units in TAZ 510290"
       ]
      },
      {
       "output_type": "stream",
       "stream": "stdout",
       "text": [
        "\n",
        "There are 18 households in TAZ 510300\n",
        "There are 13760 residential units in TAZ 510300"
       ]
      },
      {
       "output_type": "stream",
       "stream": "stdout",
       "text": [
        "\n",
        "There are 4 households in TAZ 510310\n",
        "There are 13985 residential units in TAZ 510310"
       ]
      },
      {
       "output_type": "stream",
       "stream": "stdout",
       "text": [
        "\n",
        "There are 0 households in TAZ 510320\n",
        "There are 0 households in TAZ 510330\n",
        "There are 0 households in TAZ 510340\n",
        "There are 0 households in TAZ 511010\n",
        "There are 0 households in TAZ 511020\n",
        "There are 0 households in TAZ 511030\n",
        "There are 58 households in TAZ 511040"
       ]
      },
      {
       "output_type": "stream",
       "stream": "stdout",
       "text": [
        "\n",
        "There are 245 residential units in TAZ 511040"
       ]
      },
      {
       "output_type": "stream",
       "stream": "stdout",
       "text": [
        "\n",
        "Warning:  number of households exceeds number of resunits in TAZ 511040\n",
        "There are 12 households in TAZ 511060\n",
        "There are 440 residential units in TAZ 511060"
       ]
      },
      {
       "output_type": "stream",
       "stream": "stdout",
       "text": [
        "\n",
        "Warning:  number of households exceeds number of resunits in TAZ 511060\n",
        "There are 44 households in TAZ 511090\n",
        "There are 7990 residential units in TAZ 511090"
       ]
      },
      {
       "output_type": "stream",
       "stream": "stdout",
       "text": [
        "\n",
        "There are 0 households in TAZ 511100\n",
        "There are 0 households in TAZ 511110\n",
        "There are 63 households in TAZ 511120\n",
        "There are 11190 residential units in TAZ 511120"
       ]
      },
      {
       "output_type": "stream",
       "stream": "stdout",
       "text": [
        "\n",
        "There are 0 households in TAZ 511130\n",
        "There are 10 households in TAZ 511140\n",
        "There are 60 residential units in TAZ 511140"
       ]
      },
      {
       "output_type": "stream",
       "stream": "stdout",
       "text": [
        "\n",
        "Warning:  number of households exceeds number of resunits in TAZ 511140\n",
        "There are 11 households in TAZ 511190\n",
        "There are 2355 residential units in TAZ 511190"
       ]
      },
      {
       "output_type": "stream",
       "stream": "stdout",
       "text": [
        "\n",
        "There are 52 households in TAZ 511200\n",
        "There are 11030 residential units in TAZ 511200"
       ]
      },
      {
       "output_type": "stream",
       "stream": "stdout",
       "text": [
        "\n",
        "There are 42 households in TAZ 511210\n",
        "There are 9360 residential units in TAZ 511210"
       ]
      },
      {
       "output_type": "stream",
       "stream": "stdout",
       "text": [
        "\n",
        "There are 99 households in TAZ 511250\n",
        "There are 12840 residential units in TAZ 511250"
       ]
      },
      {
       "output_type": "stream",
       "stream": "stdout",
       "text": [
        "\n",
        "There are 1 households in TAZ 511260\n",
        "There are 17420 residential units in TAZ 511260"
       ]
      },
      {
       "output_type": "stream",
       "stream": "stdout",
       "text": [
        "\n",
        "There are 95 households in TAZ 511270\n",
        "There are 18330 residential units in TAZ 511270"
       ]
      },
      {
       "output_type": "stream",
       "stream": "stdout",
       "text": [
        "\n",
        "There are 28 households in TAZ 511280\n",
        "There are 7910 residential units in TAZ 511280"
       ]
      },
      {
       "output_type": "stream",
       "stream": "stdout",
       "text": [
        "\n",
        "There are 0 households in TAZ 511290\n",
        "There are 0 households in TAZ 511300\n",
        "There are 140 households in TAZ 511310\n",
        "There are 25840 residential units in TAZ 511310"
       ]
      },
      {
       "output_type": "stream",
       "stream": "stdout",
       "text": [
        "\n",
        "There are 7 households in TAZ 511330\n",
        "There are 125 residential units in TAZ 511330"
       ]
      },
      {
       "output_type": "stream",
       "stream": "stdout",
       "text": [
        "\n",
        "Warning:  number of households exceeds number of resunits in TAZ 511330\n",
        "There are 59 households in TAZ 511380\n",
        "There are 15490 residential units in TAZ 511380"
       ]
      },
      {
       "output_type": "stream",
       "stream": "stdout",
       "text": [
        "\n",
        "There are 7 households in TAZ 511390\n",
        "There are 8045 residential units in TAZ 511390"
       ]
      },
      {
       "output_type": "stream",
       "stream": "stdout",
       "text": [
        "\n",
        "There are 27 households in TAZ 511400\n",
        "There are 10885 residential units in TAZ 511400"
       ]
      },
      {
       "output_type": "stream",
       "stream": "stdout",
       "text": [
        "\n",
        "There are 38 households in TAZ 512020\n",
        "There are 320 residential units in TAZ 512020"
       ]
      },
      {
       "output_type": "stream",
       "stream": "stdout",
       "text": [
        "\n",
        "Warning:  number of households exceeds number of resunits in TAZ 512020\n",
        "There are 231 households in TAZ 512030\n",
        "There are 2200 residential units in TAZ 512030"
       ]
      },
      {
       "output_type": "stream",
       "stream": "stdout",
       "text": [
        "\n",
        "There are 5 households in TAZ 512040\n",
        "There are 1470 residential units in TAZ 512040"
       ]
      },
      {
       "output_type": "stream",
       "stream": "stdout",
       "text": [
        "\n",
        "There are 0 households in TAZ 512050\n",
        "There are 0 households in TAZ 512060\n",
        "There are 0 households in TAZ 512070\n",
        "There are 0 households in TAZ 512080\n",
        "There are 0 households in TAZ 512090\n",
        "There are 0 households in TAZ 512120\n",
        "There are 0 households in TAZ 512130\n",
        "There are 139 households in TAZ 512140"
       ]
      },
      {
       "output_type": "stream",
       "stream": "stdout",
       "text": [
        "\n",
        "There are 22855 residential units in TAZ 512140"
       ]
      },
      {
       "output_type": "stream",
       "stream": "stdout",
       "text": [
        "\n",
        "There are 42 households in TAZ 512150\n",
        "There are 1200 residential units in TAZ 512150"
       ]
      },
      {
       "output_type": "stream",
       "stream": "stdout",
       "text": [
        "\n",
        "There are 0 households in TAZ 512160\n",
        "There are 0 households in TAZ 512170\n",
        "There are 84 households in TAZ 512180\n",
        "There are 20 residential units in TAZ 512180"
       ]
      },
      {
       "output_type": "stream",
       "stream": "stdout",
       "text": [
        "\n",
        "Warning:  number of households exceeds number of resunits in TAZ 512180\n",
        "There are 4 households in TAZ 512190\n",
        "There are 580 residential units in TAZ 512190"
       ]
      },
      {
       "output_type": "stream",
       "stream": "stdout",
       "text": [
        "\n",
        "There are 5 households in TAZ 512210\n",
        "There are 800 residential units in TAZ 512210"
       ]
      },
      {
       "output_type": "stream",
       "stream": "stdout",
       "text": [
        "\n",
        "There are 29 households in TAZ 512220\n",
        "There are 1220 residential units in TAZ 512220"
       ]
      },
      {
       "output_type": "stream",
       "stream": "stdout",
       "text": [
        "\n",
        "There are 54 households in TAZ 513010\n",
        "There are 4770 residential units in TAZ 513010"
       ]
      },
      {
       "output_type": "stream",
       "stream": "stdout",
       "text": [
        "\n",
        "There are 0 households in TAZ 513020\n",
        "There are 56 households in TAZ 513030\n",
        "There are 1795 residential units in TAZ 513030"
       ]
      },
      {
       "output_type": "stream",
       "stream": "stdout",
       "text": [
        "\n",
        "There are 99 households in TAZ 513040\n",
        "There are 6580 residential units in TAZ 513040"
       ]
      },
      {
       "output_type": "stream",
       "stream": "stdout",
       "text": [
        "\n",
        "There are 0 households in TAZ 513050\n",
        "There are 0 households in TAZ 513060\n",
        "There are 0 households in TAZ 513080\n",
        "There are 0 households in TAZ 513090\n",
        "There are 4 households in TAZ 513100\n",
        "There are 780 residential units in TAZ 513100"
       ]
      },
      {
       "output_type": "stream",
       "stream": "stdout",
       "text": [
        "\n",
        "There are 0 households in TAZ 513110\n",
        "There are 50 households in TAZ 513120\n",
        "There are 4300 residential units in TAZ 513120"
       ]
      },
      {
       "output_type": "stream",
       "stream": "stdout",
       "text": [
        "\n",
        "There are 4 households in TAZ 513140\n",
        "There are 180 residential units in TAZ 513140"
       ]
      },
      {
       "output_type": "stream",
       "stream": "stdout",
       "text": [
        "\n",
        "Warning:  number of households exceeds number of resunits in TAZ 513140\n",
        "There are 8 households in TAZ 513160\n",
        "There are 1020 residential units in TAZ 513160"
       ]
      },
      {
       "output_type": "stream",
       "stream": "stdout",
       "text": [
        "\n",
        "There are 0 households in TAZ 513170\n",
        "There are 0 households in TAZ 513180\n",
        "There are 52 households in TAZ 513190\n",
        "There are 720 residential units in TAZ 513190"
       ]
      },
      {
       "output_type": "stream",
       "stream": "stdout",
       "text": [
        "\n",
        "There are 77 households in TAZ 513200\n",
        "There are 1765 residential units in TAZ 513200"
       ]
      },
      {
       "output_type": "stream",
       "stream": "stdout",
       "text": [
        "\n",
        "There are 0 households in TAZ 513210\n",
        "There are 94 households in TAZ 513250\n",
        "There are 80 residential units in TAZ 513250"
       ]
      },
      {
       "output_type": "stream",
       "stream": "stdout",
       "text": [
        "\n",
        "Warning:  number of households exceeds number of resunits in TAZ 513250\n",
        "There are 0 households in TAZ 513260\n",
        "There are 0 households in TAZ 514010\n",
        "There are 15 households in TAZ 514020\n",
        "There are 37265 residential units in TAZ 514020"
       ]
      },
      {
       "output_type": "stream",
       "stream": "stdout",
       "text": [
        "\n",
        "There are 73 households in TAZ 514030\n",
        "There are 8330 residential units in TAZ 514030"
       ]
      },
      {
       "output_type": "stream",
       "stream": "stdout",
       "text": [
        "\n",
        "There are 40 households in TAZ 514040\n",
        "There are 16225 residential units in TAZ 514040"
       ]
      },
      {
       "output_type": "stream",
       "stream": "stdout",
       "text": [
        "\n",
        "There are 0 households in TAZ 514050\n",
        "There are 0 households in TAZ 514060\n",
        "There are 359 households in TAZ 514070\n",
        "There are 43695 residential units in TAZ 514070"
       ]
      },
      {
       "output_type": "stream",
       "stream": "stdout",
       "text": [
        "\n",
        "There are 207 households in TAZ 514080\n",
        "There are 25185 residential units in TAZ 514080"
       ]
      },
      {
       "output_type": "stream",
       "stream": "stdout",
       "text": [
        "\n",
        "There are 0 households in TAZ 514090\n",
        "There are 0 households in TAZ 514100\n",
        "There are 0 households in TAZ 514110\n",
        "There are 0 households in TAZ 514120\n",
        "There are 0 households in TAZ 514130\n",
        "There are 0 households in TAZ 514140\n",
        "There are 0 households in TAZ 514150"
       ]
      },
      {
       "output_type": "stream",
       "stream": "stdout",
       "text": [
        "\n",
        "There are 0 households in TAZ 514160\n",
        "There are 0 households in TAZ 514170\n",
        "There are 0 households in TAZ 514180\n",
        "There are 17 households in TAZ 514190\n",
        "There are 1925 residential units in TAZ 514190"
       ]
      },
      {
       "output_type": "stream",
       "stream": "stdout",
       "text": [
        "\n",
        "There are 0 households in TAZ 514200\n",
        "There are 0 households in TAZ 514210\n",
        "There are 0 households in TAZ 514220\n",
        "There are 0 households in TAZ 514230\n",
        "There are 0 households in TAZ 514240\n",
        "There are 0 households in TAZ 514250\n",
        "There are 0 households in TAZ 514260"
       ]
      },
      {
       "output_type": "stream",
       "stream": "stdout",
       "text": [
        "\n",
        "There are 52 households in TAZ 514270\n",
        "There are 7810 residential units in TAZ 514270"
       ]
      },
      {
       "output_type": "stream",
       "stream": "stdout",
       "text": [
        "\n",
        "There are 0 households in TAZ 514280\n",
        "There are 18 households in TAZ 514290\n",
        "There are 190 residential units in TAZ 514290"
       ]
      },
      {
       "output_type": "stream",
       "stream": "stdout",
       "text": [
        "\n",
        "Warning:  number of households exceeds number of resunits in TAZ 514290\n",
        "There are 198 households in TAZ 514300\n",
        "There are 725 residential units in TAZ 514300"
       ]
      },
      {
       "output_type": "stream",
       "stream": "stdout",
       "text": [
        "\n",
        "There are 8 households in TAZ 514310\n",
        "There are 2975 residential units in TAZ 514310"
       ]
      },
      {
       "output_type": "stream",
       "stream": "stdout",
       "text": [
        "\n",
        "There are 0 households in TAZ 514320\n",
        "There are 0 households in TAZ 514330\n",
        "There are 0 households in TAZ 514340\n",
        "There are 0 households in TAZ 514350\n",
        "There are 0 households in TAZ 515010\n",
        "There are 0 households in TAZ 515020\n",
        "There are 0 households in TAZ 515030"
       ]
      },
      {
       "output_type": "stream",
       "stream": "stdout",
       "text": [
        "\n",
        "There are 0 households in TAZ 515040\n",
        "There are 0 households in TAZ 515060\n",
        "There are 0 households in TAZ 515070\n",
        "There are 1 households in TAZ 515080\n",
        "There are 18960 residential units in TAZ 515080"
       ]
      },
      {
       "output_type": "stream",
       "stream": "stdout",
       "text": [
        "\n",
        "There are 11 households in TAZ 515090\n",
        "There are 10785 residential units in TAZ 515090"
       ]
      },
      {
       "output_type": "stream",
       "stream": "stdout",
       "text": [
        "\n",
        "There are 16 households in TAZ 515100\n",
        "There are 10570 residential units in TAZ 515100"
       ]
      },
      {
       "output_type": "stream",
       "stream": "stdout",
       "text": [
        "\n",
        "There are 235 households in TAZ 515110\n",
        "There are 420 residential units in TAZ 515110"
       ]
      },
      {
       "output_type": "stream",
       "stream": "stdout",
       "text": [
        "\n",
        "Warning:  number of households exceeds number of resunits in TAZ 515110\n",
        "There are 0 households in TAZ 515120\n",
        "There are 0 households in TAZ 515130\n",
        "There are 0 households in TAZ 515140\n",
        "There are 0 households in TAZ 515150\n",
        "There are 44 households in TAZ 515160\n",
        "There are 28270 residential units in TAZ 515160"
       ]
      },
      {
       "output_type": "stream",
       "stream": "stdout",
       "text": [
        "\n",
        "There are 7 households in TAZ 515170\n",
        "There are 7775 residential units in TAZ 515170"
       ]
      },
      {
       "output_type": "stream",
       "stream": "stdout",
       "text": [
        "\n",
        "There are 0 households in TAZ 601010\n",
        "There are 272 households in TAZ 601020\n",
        "There are 24875 residential units in TAZ 601020"
       ]
      },
      {
       "output_type": "stream",
       "stream": "stdout",
       "text": [
        "\n",
        "There are 278 households in TAZ 601030\n",
        "There are 1720 residential units in TAZ 601030"
       ]
      },
      {
       "output_type": "stream",
       "stream": "stdout",
       "text": [
        "\n",
        "There are 0 households in TAZ 601040\n",
        "There are 1 households in TAZ 601050\n",
        "There are 3135 residential units in TAZ 601050"
       ]
      },
      {
       "output_type": "stream",
       "stream": "stdout",
       "text": [
        "\n",
        "There are 0 households in TAZ 601060\n",
        "There are 27 households in TAZ 601070\n",
        "There are 945 residential units in TAZ 601070"
       ]
      },
      {
       "output_type": "stream",
       "stream": "stdout",
       "text": [
        "\n",
        "There are 11 households in TAZ 601080\n",
        "There are 240 residential units in TAZ 601080"
       ]
      },
      {
       "output_type": "stream",
       "stream": "stdout",
       "text": [
        "\n",
        "Warning:  number of households exceeds number of resunits in TAZ 601080\n",
        "There are 0 households in TAZ 601090\n",
        "There are 0 households in TAZ 601100\n",
        "There are 0 households in TAZ 601110\n",
        "There are 3 households in TAZ 601120\n",
        "There are 75 residential units in TAZ 601120"
       ]
      },
      {
       "output_type": "stream",
       "stream": "stdout",
       "text": [
        "\n",
        "Warning:  number of households exceeds number of resunits in TAZ 601120\n",
        "There are 0 households in TAZ 601130\n",
        "There are 0 households in TAZ 601140\n",
        "There are 0 households in TAZ 601150\n",
        "There are 0 households in TAZ 601160\n",
        "There are 0 households in TAZ 601170\n",
        "There are 0 households in TAZ 601180\n",
        "There are 0 households in TAZ 602010\n",
        "There are 0 households in TAZ 602030"
       ]
      },
      {
       "output_type": "stream",
       "stream": "stdout",
       "text": [
        "\n",
        "There are 43 households in TAZ 602050\n",
        "There are 32995 residential units in TAZ 602050"
       ]
      },
      {
       "output_type": "stream",
       "stream": "stdout",
       "text": [
        "\n",
        "There are 0 households in TAZ 602060\n",
        "There are 0 households in TAZ 602070\n",
        "There are 2 households in TAZ 602090\n",
        "There are 1050 residential units in TAZ 602090"
       ]
      },
      {
       "output_type": "stream",
       "stream": "stdout",
       "text": [
        "\n",
        "There are 341 households in TAZ 602100\n",
        "There are 11525 residential units in TAZ 602100"
       ]
      },
      {
       "output_type": "stream",
       "stream": "stdout",
       "text": [
        "\n",
        "There are 0 households in TAZ 602110\n",
        "There are 0 households in TAZ 602120\n",
        "There are 0 households in TAZ 602130\n",
        "There are 0 households in TAZ 602140\n",
        "There are 0 households in TAZ 602150\n",
        "There are 0 households in TAZ 602160\n",
        "There are 0 households in TAZ 602170"
       ]
      },
      {
       "output_type": "stream",
       "stream": "stdout",
       "text": [
        "\n",
        "There are 0 households in TAZ 602180\n",
        "There are 0 households in TAZ 602190\n",
        "There are 0 households in TAZ 602200\n",
        "There are 0 households in TAZ 602210\n",
        "There are 0 households in TAZ 602220\n",
        "There are 0 households in TAZ 602230\n",
        "There are 0 households in TAZ 602240\n",
        "There are 0 households in TAZ 602250"
       ]
      },
      {
       "output_type": "stream",
       "stream": "stdout",
       "text": [
        "\n",
        "There are 0 households in TAZ 602260\n",
        "There are 0 households in TAZ 602270\n",
        "There are 0 households in TAZ 602290\n",
        "There are 0 households in TAZ 602300\n",
        "There are 45 households in TAZ 602310\n",
        "There are 1160 residential units in TAZ 602310"
       ]
      },
      {
       "output_type": "stream",
       "stream": "stdout",
       "text": [
        "\n",
        "There are 22 households in TAZ 602320\n",
        "There are 4490 residential units in TAZ 602320"
       ]
      },
      {
       "output_type": "stream",
       "stream": "stdout",
       "text": [
        "\n",
        "There are 16 households in TAZ 602330\n",
        "There are 965 residential units in TAZ 602330"
       ]
      },
      {
       "output_type": "stream",
       "stream": "stdout",
       "text": [
        "\n",
        "There are 0 households in TAZ 603010\n",
        "There are 3 households in TAZ 603020\n",
        "There are 1245 residential units in TAZ 603020"
       ]
      },
      {
       "output_type": "stream",
       "stream": "stdout",
       "text": [
        "\n",
        "There are 0 households in TAZ 603030\n",
        "There are 0 households in TAZ 603040\n",
        "There are 0 households in TAZ 603050\n",
        "There are 88 households in TAZ 603060\n",
        "There are 33285 residential units in TAZ 603060"
       ]
      },
      {
       "output_type": "stream",
       "stream": "stdout",
       "text": [
        "\n",
        "There are 0 households in TAZ 603070\n",
        "There are 0 households in TAZ 603080\n",
        "There are 109 households in TAZ 603090\n",
        "There are 77570 residential units in TAZ 603090"
       ]
      },
      {
       "output_type": "stream",
       "stream": "stdout",
       "text": [
        "\n",
        "There are 0 households in TAZ 603100\n",
        "There are 0 households in TAZ 603110\n",
        "There are 9 households in TAZ 604020\n",
        "There are 640 residential units in TAZ 604020"
       ]
      },
      {
       "output_type": "stream",
       "stream": "stdout",
       "text": [
        "\n",
        "There are 0 households in TAZ 604030\n",
        "There are 4 households in TAZ 604040\n",
        "There are 240 residential units in TAZ 604040"
       ]
      },
      {
       "output_type": "stream",
       "stream": "stdout",
       "text": [
        "\n",
        "Warning:  number of households exceeds number of resunits in TAZ 604040\n",
        "There are 0 households in TAZ 604050\n",
        "There are 0 households in TAZ 604060\n",
        "There are 742 households in TAZ 604070\n",
        "There are 17380 residential units in TAZ 604070"
       ]
      },
      {
       "output_type": "stream",
       "stream": "stdout",
       "text": [
        "\n",
        "There are 0 households in TAZ 604080\n",
        "There are 0 households in TAZ 604090\n",
        "There are 0 households in TAZ 604100\n",
        "There are 0 households in TAZ 604110\n",
        "There are 0 households in TAZ 604120\n",
        "There are 0 households in TAZ 604130\n",
        "There are 0 households in TAZ 604140"
       ]
      },
      {
       "output_type": "stream",
       "stream": "stdout",
       "text": [
        "\n",
        "There are 0 households in TAZ 604150\n",
        "There are 0 households in TAZ 604160\n",
        "There are 266 households in TAZ 604170\n",
        "There are 21565 residential units in TAZ 604170"
       ]
      },
      {
       "output_type": "stream",
       "stream": "stdout",
       "text": [
        "\n",
        "There are 195 households in TAZ 604180\n",
        "There are 2840 residential units in TAZ 604180"
       ]
      },
      {
       "output_type": "stream",
       "stream": "stdout",
       "text": [
        "\n",
        "There are 6 households in TAZ 604190\n",
        "There are 300 residential units in TAZ 604190"
       ]
      },
      {
       "output_type": "stream",
       "stream": "stdout",
       "text": [
        "\n",
        "Warning:  number of households exceeds number of resunits in TAZ 604190\n",
        "There are 0 households in TAZ 605020\n",
        "There are 156 households in TAZ 605030\n",
        "There are 300 residential units in TAZ 605030"
       ]
      },
      {
       "output_type": "stream",
       "stream": "stdout",
       "text": [
        "\n",
        "Warning:  number of households exceeds number of resunits in TAZ 605030\n",
        "There are 4 households in TAZ 605050\n",
        "There are 420 residential units in TAZ 605050"
       ]
      },
      {
       "output_type": "stream",
       "stream": "stdout",
       "text": [
        "\n",
        "Warning:  number of households exceeds number of resunits in TAZ 605050\n",
        "There are 12 households in TAZ 605060\n",
        "There are 160 residential units in TAZ 605060"
       ]
      },
      {
       "output_type": "stream",
       "stream": "stdout",
       "text": [
        "\n",
        "Warning:  number of households exceeds number of resunits in TAZ 605060\n",
        "There are 8 households in TAZ 605070\n",
        "There are 200 residential units in TAZ 605070"
       ]
      },
      {
       "output_type": "stream",
       "stream": "stdout",
       "text": [
        "\n",
        "Warning:  number of households exceeds number of resunits in TAZ 605070\n",
        "There are 6 households in TAZ 605080\n",
        "There are 19710 residential units in TAZ 605080"
       ]
      },
      {
       "output_type": "stream",
       "stream": "stdout",
       "text": [
        "\n",
        "There are 34 households in TAZ 605090\n",
        "There are 110 residential units in TAZ 605090"
       ]
      },
      {
       "output_type": "stream",
       "stream": "stdout",
       "text": [
        "\n",
        "Warning:  number of households exceeds number of resunits in TAZ 605090\n",
        "There are 63 households in TAZ 605100\n",
        "There are 7220 residential units in TAZ 605100"
       ]
      },
      {
       "output_type": "stream",
       "stream": "stdout",
       "text": [
        "\n",
        "There are 0 households in TAZ 605110\n",
        "There are 77 households in TAZ 605120\n",
        "There are 8940 residential units in TAZ 605120"
       ]
      },
      {
       "output_type": "stream",
       "stream": "stdout",
       "text": [
        "\n",
        "There are 45 households in TAZ 605130\n",
        "There are 390 residential units in TAZ 605130"
       ]
      },
      {
       "output_type": "stream",
       "stream": "stdout",
       "text": [
        "\n",
        "Warning:  number of households exceeds number of resunits in TAZ 605130\n",
        "There are 0 households in TAZ 605140\n",
        "There are 0 households in TAZ 605150\n",
        "There are 0 households in TAZ 605160\n",
        "There are 0 households in TAZ 605170\n",
        "There are 299 households in TAZ 605190\n",
        "There are 140 residential units in TAZ 605190"
       ]
      },
      {
       "output_type": "stream",
       "stream": "stdout",
       "text": [
        "\n",
        "Warning:  number of households exceeds number of resunits in TAZ 605190\n",
        "There are 0 households in TAZ 605220\n",
        "There are 252 households in TAZ 605240\n",
        "There are 5960 residential units in TAZ 605240"
       ]
      },
      {
       "output_type": "stream",
       "stream": "stdout",
       "text": [
        "\n",
        "There are 139 households in TAZ 605250\n",
        "There are 6760 residential units in TAZ 605250"
       ]
      },
      {
       "output_type": "stream",
       "stream": "stdout",
       "text": [
        "\n",
        "There are 180 households in TAZ 605260\n",
        "There are 3115 residential units in TAZ 605260"
       ]
      },
      {
       "output_type": "stream",
       "stream": "stdout",
       "text": [
        "\n",
        "There are 247 households in TAZ 605270\n",
        "There are 36145 residential units in TAZ 605270"
       ]
      },
      {
       "output_type": "stream",
       "stream": "stdout",
       "text": [
        "\n",
        "There are 249 households in TAZ 605280\n",
        "There are 14535 residential units in TAZ 605280"
       ]
      },
      {
       "output_type": "stream",
       "stream": "stdout",
       "text": [
        "\n",
        "There are 0 households in TAZ 605290\n",
        "There are 290 households in TAZ 605300\n",
        "There are 715 residential units in TAZ 605300"
       ]
      },
      {
       "output_type": "stream",
       "stream": "stdout",
       "text": [
        "\n",
        "There are 87 households in TAZ 605310\n",
        "There are 105 residential units in TAZ 605310"
       ]
      },
      {
       "output_type": "stream",
       "stream": "stdout",
       "text": [
        "\n",
        "Warning:  number of households exceeds number of resunits in TAZ 605310\n",
        "There are 0 households in TAZ 605330\n",
        "There are 0 households in TAZ 605340\n",
        "There are 0 households in TAZ 605350\n",
        "There are 230 households in TAZ 605360\n",
        "There are 3250 residential units in TAZ 605360"
       ]
      },
      {
       "output_type": "stream",
       "stream": "stdout",
       "text": [
        "\n",
        "There are 1 households in TAZ 605370\n",
        "There are 790 residential units in TAZ 605370"
       ]
      },
      {
       "output_type": "stream",
       "stream": "stdout",
       "text": [
        "\n",
        "There are 15 households in TAZ 605380\n",
        "There are 8160 residential units in TAZ 605380"
       ]
      },
      {
       "output_type": "stream",
       "stream": "stdout",
       "text": [
        "\n",
        "There are 123 households in TAZ 605390\n",
        "There are 4180 residential units in TAZ 605390"
       ]
      },
      {
       "output_type": "stream",
       "stream": "stdout",
       "text": [
        "\n",
        "There are 54 households in TAZ 605400\n",
        "There are 1645 residential units in TAZ 605400"
       ]
      },
      {
       "output_type": "stream",
       "stream": "stdout",
       "text": [
        "\n",
        "There are 69 households in TAZ 605450\n",
        "There are 1055 residential units in TAZ 605450"
       ]
      },
      {
       "output_type": "stream",
       "stream": "stdout",
       "text": [
        "\n",
        "There are 208 households in TAZ 605460\n",
        "There are 150 residential units in TAZ 605460"
       ]
      },
      {
       "output_type": "stream",
       "stream": "stdout",
       "text": [
        "\n",
        "Warning:  number of households exceeds number of resunits in TAZ 605460\n",
        "There are 420 households in TAZ 605470\n",
        "There are 1120 residential units in TAZ 605470"
       ]
      },
      {
       "output_type": "stream",
       "stream": "stdout",
       "text": [
        "\n",
        "There are 0 households in TAZ 605480\n",
        "There are 0 households in TAZ 605490\n",
        "There are 0 households in TAZ 605500\n",
        "There are 46 households in TAZ 605510\n",
        "There are 5175 residential units in TAZ 605510"
       ]
      },
      {
       "output_type": "stream",
       "stream": "stdout",
       "text": [
        "\n",
        "There are 0 households in TAZ 605520\n",
        "There are 30 households in TAZ 605530\n",
        "There are 7330 residential units in TAZ 605530"
       ]
      },
      {
       "output_type": "stream",
       "stream": "stdout",
       "text": [
        "\n",
        "There are 0 households in TAZ 605540\n",
        "There are 0 households in TAZ 605550\n",
        "There are 54 households in TAZ 606010\n",
        "There are 910 residential units in TAZ 606010"
       ]
      },
      {
       "output_type": "stream",
       "stream": "stdout",
       "text": [
        "\n",
        "There are 0 households in TAZ 606020\n",
        "There are 159 households in TAZ 606030\n",
        "There are 200 residential units in TAZ 606030"
       ]
      },
      {
       "output_type": "stream",
       "stream": "stdout",
       "text": [
        "\n",
        "Warning:  number of households exceeds number of resunits in TAZ 606030\n",
        "There are 120 households in TAZ 606040\n",
        "There are 3075 residential units in TAZ 606040"
       ]
      },
      {
       "output_type": "stream",
       "stream": "stdout",
       "text": [
        "\n",
        "There are 0 households in TAZ 606050\n",
        "There are 0 households in TAZ 606060\n",
        "There are 0 households in TAZ 606070\n",
        "There are 229 households in TAZ 606080\n",
        "There are 4595 residential units in TAZ 606080"
       ]
      },
      {
       "output_type": "stream",
       "stream": "stdout",
       "text": [
        "\n",
        "There are 16 households in TAZ 606090\n",
        "There are 805 residential units in TAZ 606090"
       ]
      },
      {
       "output_type": "stream",
       "stream": "stdout",
       "text": [
        "\n",
        "There are 221 households in TAZ 606100\n",
        "There are 10925 residential units in TAZ 606100"
       ]
      },
      {
       "output_type": "stream",
       "stream": "stdout",
       "text": [
        "\n",
        "There are 94 households in TAZ 606110\n",
        "There are 5495 residential units in TAZ 606110"
       ]
      },
      {
       "output_type": "stream",
       "stream": "stdout",
       "text": [
        "\n",
        "There are 0 households in TAZ 606120\n",
        "There are 0 households in TAZ 606130\n",
        "There are 0 households in TAZ 606140\n",
        "There are 0 households in TAZ 606150\n",
        "There are 0 households in TAZ 606160\n",
        "There are 91 households in TAZ 606170\n",
        "There are 21350 residential units in TAZ 606170"
       ]
      },
      {
       "output_type": "stream",
       "stream": "stdout",
       "text": [
        "\n",
        "There are 0 households in TAZ 606180\n",
        "There are 69 households in TAZ 606190\n",
        "There are 3595 residential units in TAZ 606190"
       ]
      },
      {
       "output_type": "stream",
       "stream": "stdout",
       "text": [
        "\n",
        "There are 30 households in TAZ 606200\n",
        "There are 1045 residential units in TAZ 606200"
       ]
      },
      {
       "output_type": "stream",
       "stream": "stdout",
       "text": [
        "\n",
        "There are 29 households in TAZ 606210\n",
        "There are 365 residential units in TAZ 606210"
       ]
      },
      {
       "output_type": "stream",
       "stream": "stdout",
       "text": [
        "\n",
        "Warning:  number of households exceeds number of resunits in TAZ 606210\n",
        "There are 3 households in TAZ 606220\n",
        "There are 5205 residential units in TAZ 606220"
       ]
      },
      {
       "output_type": "stream",
       "stream": "stdout",
       "text": [
        "\n",
        "There are 47 households in TAZ 606230\n",
        "There are 5040 residential units in TAZ 606230"
       ]
      },
      {
       "output_type": "stream",
       "stream": "stdout",
       "text": [
        "\n",
        "There are 30 households in TAZ 606240\n",
        "There are 24395 residential units in TAZ 606240"
       ]
      },
      {
       "output_type": "stream",
       "stream": "stdout",
       "text": [
        "\n",
        "There are 0 households in TAZ 606250\n",
        "There are 0 households in TAZ 606260\n",
        "There are 0 households in TAZ 606270\n",
        "There are 0 households in TAZ 606280\n",
        "There are 17 households in TAZ 606290\n",
        "There are 6220 residential units in TAZ 606290"
       ]
      },
      {
       "output_type": "stream",
       "stream": "stdout",
       "text": [
        "\n",
        "There are 0 households in TAZ 606300\n",
        "There are 0 households in TAZ 606310\n",
        "There are 150 households in TAZ 606320\n",
        "There are 24475 residential units in TAZ 606320"
       ]
      },
      {
       "output_type": "stream",
       "stream": "stdout",
       "text": [
        "\n",
        "There are 0 households in TAZ 606330\n",
        "There are 240 households in TAZ 606340\n",
        "There are 20080 residential units in TAZ 606340"
       ]
      },
      {
       "output_type": "stream",
       "stream": "stdout",
       "text": [
        "\n",
        "There are 148 households in TAZ 606350\n",
        "There are 19580 residential units in TAZ 606350"
       ]
      },
      {
       "output_type": "stream",
       "stream": "stdout",
       "text": [
        "\n",
        "There are 0 households in TAZ 606360\n",
        "There are 0 households in TAZ 606370\n",
        "There are 0 households in TAZ 606380\n",
        "There are 0 households in TAZ 606390\n",
        "There are 0 households in TAZ 606400\n",
        "There are 0 households in TAZ 606410\n",
        "There are 0 households in TAZ 606420"
       ]
      },
      {
       "output_type": "stream",
       "stream": "stdout",
       "text": [
        "\n",
        "There are 0 households in TAZ 606430\n",
        "There are 0 households in TAZ 606440\n",
        "There are 245 households in TAZ 607010\n",
        "There are 7180 residential units in TAZ 607010"
       ]
      },
      {
       "output_type": "stream",
       "stream": "stdout",
       "text": [
        "\n",
        "There are 0 households in TAZ 607020\n",
        "There are 60 households in TAZ 607030\n",
        "There are 13490 residential units in TAZ 607030"
       ]
      },
      {
       "output_type": "stream",
       "stream": "stdout",
       "text": [
        "\n",
        "There are 0 households in TAZ 607040\n",
        "There are 33 households in TAZ 607050\n",
        "There are 145 residential units in TAZ 607050"
       ]
      },
      {
       "output_type": "stream",
       "stream": "stdout",
       "text": [
        "\n",
        "Warning:  number of households exceeds number of resunits in TAZ 607050\n",
        "There are 6 households in TAZ 607060\n",
        "There are 75 residential units in TAZ 607060"
       ]
      },
      {
       "output_type": "stream",
       "stream": "stdout",
       "text": [
        "\n",
        "Warning:  number of households exceeds number of resunits in TAZ 607060\n",
        "There are 19 households in TAZ 607070\n",
        "There are 915 residential units in TAZ 607070"
       ]
      },
      {
       "output_type": "stream",
       "stream": "stdout",
       "text": [
        "\n",
        "There are 0 households in TAZ 607080\n",
        "There are 0 households in TAZ 607090\n",
        "There are 0 households in TAZ 607100\n",
        "There are 0 households in TAZ 607110\n",
        "There are 106 households in TAZ 607120\n",
        "There are 25 residential units in TAZ 607120"
       ]
      },
      {
       "output_type": "stream",
       "stream": "stdout",
       "text": [
        "\n",
        "Warning:  number of households exceeds number of resunits in TAZ 607120\n",
        "There are 91 households in TAZ 607130\n",
        "There are 1785 residential units in TAZ 607130"
       ]
      },
      {
       "output_type": "stream",
       "stream": "stdout",
       "text": [
        "\n",
        "There are 0 households in TAZ 607150\n",
        "There are 68 households in TAZ 607160\n",
        "There are 6875 residential units in TAZ 607160"
       ]
      },
      {
       "output_type": "stream",
       "stream": "stdout",
       "text": [
        "\n",
        "There are 42 households in TAZ 607170\n",
        "There are 765 residential units in TAZ 607170"
       ]
      },
      {
       "output_type": "stream",
       "stream": "stdout",
       "text": [
        "\n",
        "There are 212 households in TAZ 607180\n",
        "There are 1325 residential units in TAZ 607180"
       ]
      },
      {
       "output_type": "stream",
       "stream": "stdout",
       "text": [
        "\n",
        "There are 118 households in TAZ 607190\n",
        "There are 2165 residential units in TAZ 607190"
       ]
      },
      {
       "output_type": "stream",
       "stream": "stdout",
       "text": [
        "\n",
        "There are 86 households in TAZ 607200\n",
        "There are 4630 residential units in TAZ 607200"
       ]
      },
      {
       "output_type": "stream",
       "stream": "stdout",
       "text": [
        "\n",
        "There are 0 households in TAZ 607210\n",
        "There are 128 households in TAZ 607220\n",
        "There are 1545 residential units in TAZ 607220"
       ]
      },
      {
       "output_type": "stream",
       "stream": "stdout",
       "text": [
        "\n",
        "There are 0 households in TAZ 607230\n",
        "There are 29 households in TAZ 607240\n",
        "There are 1365 residential units in TAZ 607240"
       ]
      },
      {
       "output_type": "stream",
       "stream": "stdout",
       "text": [
        "\n",
        "There are 0 households in TAZ 607250\n",
        "There are 20 households in TAZ 607260\n",
        "There are 12465 residential units in TAZ 607260"
       ]
      },
      {
       "output_type": "stream",
       "stream": "stdout",
       "text": [
        "\n",
        "There are 148 households in TAZ 607270\n",
        "There are 1450 residential units in TAZ 607270"
       ]
      },
      {
       "output_type": "stream",
       "stream": "stdout",
       "text": [
        "\n",
        "There are 0 households in TAZ 607280\n",
        "There are 0 households in TAZ 607290\n",
        "There are 9 households in TAZ 607300\n",
        "There are 1900 residential units in TAZ 607300"
       ]
      },
      {
       "output_type": "stream",
       "stream": "stdout",
       "text": [
        "\n",
        "There are 0 households in TAZ 607310\n",
        "There are 0 households in TAZ 607320\n",
        "There are 85 households in TAZ 607330\n",
        "There are 550 residential units in TAZ 607330"
       ]
      },
      {
       "output_type": "stream",
       "stream": "stdout",
       "text": [
        "\n",
        "There are 34 households in TAZ 607340\n",
        "There are 250 residential units in TAZ 607340"
       ]
      },
      {
       "output_type": "stream",
       "stream": "stdout",
       "text": [
        "\n",
        "Warning:  number of households exceeds number of resunits in TAZ 607340\n",
        "There are 0 households in TAZ 607350\n",
        "There are 164 households in TAZ 607360\n",
        "There are 800 residential units in TAZ 607360"
       ]
      },
      {
       "output_type": "stream",
       "stream": "stdout",
       "text": [
        "\n",
        "There are 57 households in TAZ 607370\n",
        "There are 355 residential units in TAZ 607370"
       ]
      },
      {
       "output_type": "stream",
       "stream": "stdout",
       "text": [
        "\n",
        "Warning:  number of households exceeds number of resunits in TAZ 607370\n",
        "There are 206 households in TAZ 607380\n",
        "There are 2060 residential units in TAZ 607380"
       ]
      },
      {
       "output_type": "stream",
       "stream": "stdout",
       "text": [
        "\n",
        "There are 93 households in TAZ 607390\n",
        "There are 1415 residential units in TAZ 607390"
       ]
      },
      {
       "output_type": "stream",
       "stream": "stdout",
       "text": [
        "\n",
        "There are 5 households in TAZ 607400\n",
        "There are 3060 residential units in TAZ 607400"
       ]
      },
      {
       "output_type": "stream",
       "stream": "stdout",
       "text": [
        "\n",
        "There are 91 households in TAZ 607410\n",
        "There are 11105 residential units in TAZ 607410"
       ]
      },
      {
       "output_type": "stream",
       "stream": "stdout",
       "text": [
        "\n",
        "There are 0 households in TAZ 607420\n",
        "There are 75 households in TAZ 607430\n",
        "There are 4330 residential units in TAZ 607430"
       ]
      },
      {
       "output_type": "stream",
       "stream": "stdout",
       "text": [
        "\n",
        "There are 0 households in TAZ 607440\n",
        "There are 151 households in TAZ 607450\n",
        "There are 2170 residential units in TAZ 607450"
       ]
      },
      {
       "output_type": "stream",
       "stream": "stdout",
       "text": [
        "\n",
        "There are 0 households in TAZ 607460\n",
        "There are 0 households in TAZ 607470\n",
        "There are 88 households in TAZ 607480\n",
        "There are 4500 residential units in TAZ 607480"
       ]
      },
      {
       "output_type": "stream",
       "stream": "stdout",
       "text": [
        "\n",
        "There are 0 households in TAZ 607490\n",
        "There are 0 households in TAZ 607500\n",
        "There are 0 households in TAZ 607510\n",
        "There are 0 households in TAZ 607520\n",
        "There are 137 households in TAZ 607530\n",
        "There are 1870 residential units in TAZ 607530"
       ]
      },
      {
       "output_type": "stream",
       "stream": "stdout",
       "text": [
        "\n",
        "There are 0 households in TAZ 607540\n",
        "There are 0 households in TAZ 607550\n",
        "There are 0 households in TAZ 607560\n",
        "There are 42 households in TAZ 607570\n",
        "There are 3595 residential units in TAZ 607570"
       ]
      },
      {
       "output_type": "stream",
       "stream": "stdout",
       "text": [
        "\n",
        "There are 14 households in TAZ 607580\n",
        "There are 300 residential units in TAZ 607580"
       ]
      },
      {
       "output_type": "stream",
       "stream": "stdout",
       "text": [
        "\n",
        "Warning:  number of households exceeds number of resunits in TAZ 607580\n",
        "There are 0 households in TAZ 607590\n",
        "There are 50 households in TAZ 607600\n",
        "There are 800 residential units in TAZ 607600"
       ]
      },
      {
       "output_type": "stream",
       "stream": "stdout",
       "text": [
        "\n",
        "There are 0 households in TAZ 607620\n",
        "There are 26 households in TAZ 607640\n",
        "There are 2850 residential units in TAZ 607640"
       ]
      },
      {
       "output_type": "stream",
       "stream": "stdout",
       "text": [
        "\n",
        "There are 39 households in TAZ 607650\n",
        "There are 2665 residential units in TAZ 607650"
       ]
      },
      {
       "output_type": "stream",
       "stream": "stdout",
       "text": [
        "\n",
        "There are 8 households in TAZ 607660\n",
        "There are 2625 residential units in TAZ 607660"
       ]
      },
      {
       "output_type": "stream",
       "stream": "stdout",
       "text": [
        "\n",
        "There are 80 households in TAZ 607670\n",
        "There are 11665 residential units in TAZ 607670"
       ]
      },
      {
       "output_type": "stream",
       "stream": "stdout",
       "text": [
        "\n",
        "There are 101 households in TAZ 607680\n",
        "There are 9350 residential units in TAZ 607680"
       ]
      },
      {
       "output_type": "stream",
       "stream": "stdout",
       "text": [
        "\n",
        "There are 163 households in TAZ 607690\n",
        "There are 1500 residential units in TAZ 607690"
       ]
      },
      {
       "output_type": "stream",
       "stream": "stdout",
       "text": [
        "\n",
        "There are 0 households in TAZ 607700\n",
        "There are 0 households in TAZ 607710\n",
        "There are 0 households in TAZ 607720\n",
        "There are 0 households in TAZ 607730\n",
        "There are 0 households in TAZ 607740\n",
        "There are 0 households in TAZ 607750\n",
        "There are 68 households in TAZ 607760"
       ]
      },
      {
       "output_type": "stream",
       "stream": "stdout",
       "text": [
        "\n",
        "There are 2165 residential units in TAZ 607760"
       ]
      },
      {
       "output_type": "stream",
       "stream": "stdout",
       "text": [
        "\n",
        "There are 24 households in TAZ 607770\n",
        "There are 375 residential units in TAZ 607770"
       ]
      },
      {
       "output_type": "stream",
       "stream": "stdout",
       "text": [
        "\n",
        "Warning:  number of households exceeds number of resunits in TAZ 607770\n",
        "There are 0 households in TAZ 607780\n",
        "There are 0 households in TAZ 607790\n",
        "There are 0 households in TAZ 607800\n",
        "There are 5 households in TAZ 607810\n",
        "There are 775 residential units in TAZ 607810"
       ]
      },
      {
       "output_type": "stream",
       "stream": "stdout",
       "text": [
        "\n",
        "There are 0 households in TAZ 607820\n",
        "There are 0 households in TAZ 607840\n",
        "There are 17 households in TAZ 607850\n",
        "There are 6745 residential units in TAZ 607850"
       ]
      },
      {
       "output_type": "stream",
       "stream": "stdout",
       "text": [
        "\n",
        "There are 0 households in TAZ 607860\n",
        "There are 0 households in TAZ 607870\n",
        "There are 0 households in TAZ 607880\n",
        "There are 0 households in TAZ 607890\n",
        "There are 0 households in TAZ 607900\n",
        "There are 0 households in TAZ 607910\n",
        "There are 0 households in TAZ 607920"
       ]
      },
      {
       "output_type": "stream",
       "stream": "stdout",
       "text": [
        "\n",
        "There are 0 households in TAZ 607930\n",
        "There are 0 households in TAZ 701010\n",
        "There are 0 households in TAZ 701020\n",
        "There are 0 households in TAZ 701030\n",
        "There are 0 households in TAZ 701040\n",
        "There are 0 households in TAZ 701050\n",
        "There are 0 households in TAZ 702010\n",
        "There are 0 households in TAZ 702020"
       ]
      },
      {
       "output_type": "stream",
       "stream": "stdout",
       "text": [
        "\n",
        "There are 0 households in TAZ 702030\n",
        "There are 0 households in TAZ 702040\n",
        "There are 0 households in TAZ 702050\n",
        "There are 0 households in TAZ 702060\n",
        "There are 0 households in TAZ 702070\n",
        "There are 0 households in TAZ 702080\n",
        "There are 0 households in TAZ 702090\n",
        "There are 42 households in TAZ 702100"
       ]
      },
      {
       "output_type": "stream",
       "stream": "stdout",
       "text": [
        "\n",
        "There are 4280 residential units in TAZ 702100"
       ]
      },
      {
       "output_type": "stream",
       "stream": "stdout",
       "text": [
        "\n",
        "There are 21 households in TAZ 703010\n",
        "There are 620 residential units in TAZ 703010"
       ]
      },
      {
       "output_type": "stream",
       "stream": "stdout",
       "text": [
        "\n",
        "There are 0 households in TAZ 703020\n",
        "There are 0 households in TAZ 703040\n",
        "There are 0 households in TAZ 703050\n",
        "There are 60 households in TAZ 703060\n",
        "There are 220 residential units in TAZ 703060"
       ]
      },
      {
       "output_type": "stream",
       "stream": "stdout",
       "text": [
        "\n",
        "Warning:  number of households exceeds number of resunits in TAZ 703060\n",
        "There are 0 households in TAZ 703080\n",
        "There are 4 households in TAZ 703090\n",
        "There are 265 residential units in TAZ 703090"
       ]
      },
      {
       "output_type": "stream",
       "stream": "stdout",
       "text": [
        "\n",
        "Warning:  number of households exceeds number of resunits in TAZ 703090\n",
        "There are 0 households in TAZ 703100\n",
        "There are 36 households in TAZ 703110\n",
        "There are 440 residential units in TAZ 703110"
       ]
      },
      {
       "output_type": "stream",
       "stream": "stdout",
       "text": [
        "\n",
        "Warning:  number of households exceeds number of resunits in TAZ 703110\n",
        "There are 5 households in TAZ 703120\n",
        "There are 60 residential units in TAZ 703120"
       ]
      },
      {
       "output_type": "stream",
       "stream": "stdout",
       "text": [
        "\n",
        "Warning:  number of households exceeds number of resunits in TAZ 703120\n",
        "There are 9 households in TAZ 703130\n",
        "There are 80 residential units in TAZ 703130"
       ]
      },
      {
       "output_type": "stream",
       "stream": "stdout",
       "text": [
        "\n",
        "Warning:  number of households exceeds number of resunits in TAZ 703130\n",
        "There are 10 households in TAZ 703150\n",
        "There are 180 residential units in TAZ 703150"
       ]
      },
      {
       "output_type": "stream",
       "stream": "stdout",
       "text": [
        "\n",
        "Warning:  number of households exceeds number of resunits in TAZ 703150\n",
        "There are 68 households in TAZ 703160\n",
        "There are 245 residential units in TAZ 703160"
       ]
      },
      {
       "output_type": "stream",
       "stream": "stdout",
       "text": [
        "\n",
        "Warning:  number of households exceeds number of resunits in TAZ 703160\n",
        "There are 0 households in TAZ 703170\n",
        "There are 0 households in TAZ 704010\n",
        "There are 0 households in TAZ 704030\n",
        "There are 53 households in TAZ 704050\n",
        "There are 5600 residential units in TAZ 704050"
       ]
      },
      {
       "output_type": "stream",
       "stream": "stdout",
       "text": [
        "\n",
        "There are 45 households in TAZ 704060\n",
        "There are 18035 residential units in TAZ 704060"
       ]
      },
      {
       "output_type": "stream",
       "stream": "stdout",
       "text": [
        "\n",
        "There are 21 households in TAZ 704070\n",
        "There are 6895 residential units in TAZ 704070"
       ]
      },
      {
       "output_type": "stream",
       "stream": "stdout",
       "text": [
        "\n",
        "There are 31 households in TAZ 704080\n",
        "There are 9220 residential units in TAZ 704080"
       ]
      },
      {
       "output_type": "stream",
       "stream": "stdout",
       "text": [
        "\n",
        "There are 0 households in TAZ 704090\n",
        "There are 0 households in TAZ 704100\n",
        "There are 0 households in TAZ 704110\n",
        "There are 34 households in TAZ 704120\n",
        "There are 2345 residential units in TAZ 704120"
       ]
      },
      {
       "output_type": "stream",
       "stream": "stdout",
       "text": [
        "\n",
        "There are 31 households in TAZ 704130\n",
        "There are 2480 residential units in TAZ 704130"
       ]
      },
      {
       "output_type": "stream",
       "stream": "stdout",
       "text": [
        "\n",
        "There are 0 households in TAZ 704140\n",
        "There are 0 households in TAZ 704150\n",
        "There are 0 households in TAZ 704160\n",
        "There are 0 households in TAZ 704170\n",
        "There are 0 households in TAZ 704180\n",
        "There are 0 households in TAZ 704190\n",
        "There are 0 households in TAZ 704200"
       ]
      },
      {
       "output_type": "stream",
       "stream": "stdout",
       "text": [
        "\n",
        "There are 22 households in TAZ 704210\n",
        "There are 420 residential units in TAZ 704210"
       ]
      },
      {
       "output_type": "stream",
       "stream": "stdout",
       "text": [
        "\n",
        "Warning:  number of households exceeds number of resunits in TAZ 704210\n",
        "There are 0 households in TAZ 704220\n",
        "There are 0 households in TAZ 704230\n",
        "There are 0 households in TAZ 705010\n",
        "There are 0 households in TAZ 705020\n",
        "There are 0 households in TAZ 705030\n",
        "There are 0 households in TAZ 705050\n",
        "There are 0 households in TAZ 705060"
       ]
      },
      {
       "output_type": "stream",
       "stream": "stdout",
       "text": [
        "\n",
        "There are 0 households in TAZ 705070\n",
        "There are 0 households in TAZ 705080\n",
        "There are 0 households in TAZ 705090\n",
        "There are 65 households in TAZ 705100\n",
        "There are 355 residential units in TAZ 705100"
       ]
      },
      {
       "output_type": "stream",
       "stream": "stdout",
       "text": [
        "\n",
        "Warning:  number of households exceeds number of resunits in TAZ 705100\n",
        "There are 0 households in TAZ 705110\n",
        "There are 0 households in TAZ 705120\n",
        "There are 0 households in TAZ 705130\n",
        "There are 19 households in TAZ 705140\n",
        "There are 21745 residential units in TAZ 705140"
       ]
      },
      {
       "output_type": "stream",
       "stream": "stdout",
       "text": [
        "\n",
        "There are 0 households in TAZ 705150\n",
        "There are 0 households in TAZ 705160\n",
        "There are 0 households in TAZ 705170\n",
        "There are 108 households in TAZ 705180\n",
        "There are 13575 residential units in TAZ 705180"
       ]
      },
      {
       "output_type": "stream",
       "stream": "stdout",
       "text": [
        "\n",
        "There are 0 households in TAZ 706010\n",
        "There are 27 households in TAZ 706020\n",
        "There are 395 residential units in TAZ 706020"
       ]
      },
      {
       "output_type": "stream",
       "stream": "stdout",
       "text": [
        "\n",
        "Warning:  number of households exceeds number of resunits in TAZ 706020\n",
        "There are 0 households in TAZ 706030\n",
        "There are 5 households in TAZ 706060\n",
        "There are 60 residential units in TAZ 706060"
       ]
      },
      {
       "output_type": "stream",
       "stream": "stdout",
       "text": [
        "\n",
        "Warning:  number of households exceeds number of resunits in TAZ 706060\n",
        "There are 6 households in TAZ 706080\n",
        "There are 20 residential units in TAZ 706080"
       ]
      },
      {
       "output_type": "stream",
       "stream": "stdout",
       "text": [
        "\n",
        "Warning:  number of households exceeds number of resunits in TAZ 706080\n",
        "There are 6 households in TAZ 706090\n",
        "There are 100 residential units in TAZ 706090"
       ]
      },
      {
       "output_type": "stream",
       "stream": "stdout",
       "text": [
        "\n",
        "Warning:  number of households exceeds number of resunits in TAZ 706090\n",
        "There are 110 households in TAZ 706110\n",
        "There are 175 residential units in TAZ 706110"
       ]
      },
      {
       "output_type": "stream",
       "stream": "stdout",
       "text": [
        "\n",
        "Warning:  number of households exceeds number of resunits in TAZ 706110\n",
        "There are 81 households in TAZ 706120\n",
        "There are 20 residential units in TAZ 706120"
       ]
      },
      {
       "output_type": "stream",
       "stream": "stdout",
       "text": [
        "\n",
        "Warning:  number of households exceeds number of resunits in TAZ 706120\n",
        "There are 187 households in TAZ 706140\n",
        "There are 20 residential units in TAZ 706140"
       ]
      },
      {
       "output_type": "stream",
       "stream": "stdout",
       "text": [
        "\n",
        "Warning:  number of households exceeds number of resunits in TAZ 706140\n",
        "There are 60 households in TAZ 706160\n",
        "There are 50 residential units in TAZ 706160"
       ]
      },
      {
       "output_type": "stream",
       "stream": "stdout",
       "text": [
        "\n",
        "Warning:  number of households exceeds number of resunits in TAZ 706160\n",
        "There are 260 households in TAZ 706170\n",
        "There are 150 residential units in TAZ 706170"
       ]
      },
      {
       "output_type": "stream",
       "stream": "stdout",
       "text": [
        "\n",
        "Warning:  number of households exceeds number of resunits in TAZ 706170\n",
        "There are 24 households in TAZ 706200\n",
        "There are 25 residential units in TAZ 706200"
       ]
      },
      {
       "output_type": "stream",
       "stream": "stdout",
       "text": [
        "\n",
        "Warning:  number of households exceeds number of resunits in TAZ 706200\n",
        "There are 27 households in TAZ 706210\n",
        "There are 25 residential units in TAZ 706210"
       ]
      },
      {
       "output_type": "stream",
       "stream": "stdout",
       "text": [
        "\n",
        "Warning:  number of households exceeds number of resunits in TAZ 706210\n",
        "There are 9 households in TAZ 706230\n",
        "There are 65 residential units in TAZ 706230"
       ]
      },
      {
       "output_type": "stream",
       "stream": "stdout",
       "text": [
        "\n",
        "Warning:  number of households exceeds number of resunits in TAZ 706230\n",
        "There are 26 households in TAZ 706240\n",
        "There are 125 residential units in TAZ 706240"
       ]
      },
      {
       "output_type": "stream",
       "stream": "stdout",
       "text": [
        "\n",
        "Warning:  number of households exceeds number of resunits in TAZ 706240\n",
        "There are 7 households in TAZ 706250\n",
        "There are 25 residential units in TAZ 706250"
       ]
      },
      {
       "output_type": "stream",
       "stream": "stdout",
       "text": [
        "\n",
        "Warning:  number of households exceeds number of resunits in TAZ 706250\n",
        "There are 0 households in TAZ 802011\n",
        "There are 0 households in TAZ 802012\n",
        "There are 0 households in TAZ 802013\n",
        "There are 0 households in TAZ 802021\n",
        "There are 0 households in TAZ 802022\n",
        "There are 122 households in TAZ 802023\n",
        "There are 7020 residential units in TAZ 802023"
       ]
      },
      {
       "output_type": "stream",
       "stream": "stdout",
       "text": [
        "\n",
        "There are 0 households in TAZ 802031\n",
        "There are 0 households in TAZ 802032\n",
        "There are 0 households in TAZ 802033\n",
        "There are 0 households in TAZ 802034\n",
        "There are 0 households in TAZ 802035\n",
        "There are 0 households in TAZ 802036\n",
        "There are 95 households in TAZ 802040"
       ]
      },
      {
       "output_type": "stream",
       "stream": "stdout",
       "text": [
        "\n",
        "There are 16795 residential units in TAZ 802040"
       ]
      },
      {
       "output_type": "stream",
       "stream": "stdout",
       "text": [
        "\n",
        "There are 0 households in TAZ 802050\n",
        "There are 36 households in TAZ 802060\n",
        "There are 460 residential units in TAZ 802060"
       ]
      },
      {
       "output_type": "stream",
       "stream": "stdout",
       "text": [
        "\n",
        "Warning:  number of households exceeds number of resunits in TAZ 802060\n",
        "There are 39 households in TAZ 802070\n",
        "There are 280 residential units in TAZ 802070"
       ]
      },
      {
       "output_type": "stream",
       "stream": "stdout",
       "text": [
        "\n",
        "Warning:  number of households exceeds number of resunits in TAZ 802070\n",
        "There are 88 households in TAZ 802080\n",
        "There are 1655 residential units in TAZ 802080"
       ]
      },
      {
       "output_type": "stream",
       "stream": "stdout",
       "text": [
        "\n",
        "There are 104 households in TAZ 802090\n",
        "There are 2980 residential units in TAZ 802090"
       ]
      },
      {
       "output_type": "stream",
       "stream": "stdout",
       "text": [
        "\n",
        "There are 15 households in TAZ 802100\n",
        "There are 2930 residential units in TAZ 802100"
       ]
      },
      {
       "output_type": "stream",
       "stream": "stdout",
       "text": [
        "\n",
        "There are 20 households in TAZ 802110\n",
        "There are 895 residential units in TAZ 802110"
       ]
      },
      {
       "output_type": "stream",
       "stream": "stdout",
       "text": [
        "\n",
        "There are 141 households in TAZ 802120\n",
        "There are 3280 residential units in TAZ 802120"
       ]
      },
      {
       "output_type": "stream",
       "stream": "stdout",
       "text": [
        "\n",
        "There are 0 households in TAZ 802130\n",
        "There are 0 households in TAZ 802140\n",
        "There are 38 households in TAZ 802150\n",
        "There are 6735 residential units in TAZ 802150"
       ]
      },
      {
       "output_type": "stream",
       "stream": "stdout",
       "text": [
        "\n",
        "There are 138 households in TAZ 802160\n",
        "There are 8840 residential units in TAZ 802160"
       ]
      },
      {
       "output_type": "stream",
       "stream": "stdout",
       "text": [
        "\n",
        "There are 0 households in TAZ 802170\n",
        "There are 0 households in TAZ 802191\n",
        "There are 0 households in TAZ 802192\n",
        "There are 0 households in TAZ 802193\n",
        "There are 29 households in TAZ 802200\n",
        "There are 2595 residential units in TAZ 802200"
       ]
      },
      {
       "output_type": "stream",
       "stream": "stdout",
       "text": [
        "\n",
        "There are 31 households in TAZ 802210\n",
        "There are 21090 residential units in TAZ 802210"
       ]
      },
      {
       "output_type": "stream",
       "stream": "stdout",
       "text": [
        "\n",
        "There are 0 households in TAZ 802220\n",
        "There are 49 households in TAZ 802250\n",
        "There are 4830 residential units in TAZ 802250"
       ]
      },
      {
       "output_type": "stream",
       "stream": "stdout",
       "text": [
        "\n",
        "There are 39 households in TAZ 802260\n",
        "There are 1260 residential units in TAZ 802260"
       ]
      },
      {
       "output_type": "stream",
       "stream": "stdout",
       "text": [
        "\n",
        "There are 187 households in TAZ 802270\n",
        "There are 1760 residential units in TAZ 802270"
       ]
      },
      {
       "output_type": "stream",
       "stream": "stdout",
       "text": [
        "\n",
        "There are 44 households in TAZ 802290\n",
        "There are 735 residential units in TAZ 802290"
       ]
      },
      {
       "output_type": "stream",
       "stream": "stdout",
       "text": [
        "\n",
        "There are 66 households in TAZ 802300\n",
        "There are 205 residential units in TAZ 802300"
       ]
      },
      {
       "output_type": "stream",
       "stream": "stdout",
       "text": [
        "\n",
        "Warning:  number of households exceeds number of resunits in TAZ 802300\n",
        "There are 10 households in TAZ 802310\n",
        "There are 4335 residential units in TAZ 802310"
       ]
      },
      {
       "output_type": "stream",
       "stream": "stdout",
       "text": [
        "\n",
        "There are 0 households in TAZ 802321\n",
        "There are 140 households in TAZ 802322\n",
        "There are 2510 residential units in TAZ 802322"
       ]
      },
      {
       "output_type": "stream",
       "stream": "stdout",
       "text": [
        "\n",
        "There are 30 households in TAZ 802323\n",
        "There are 375 residential units in TAZ 802323"
       ]
      },
      {
       "output_type": "stream",
       "stream": "stdout",
       "text": [
        "\n",
        "Warning:  number of households exceeds number of resunits in TAZ 802323\n",
        "There are 0 households in TAZ 802330\n",
        "There are 302 households in TAZ 802340\n",
        "There are 4060 residential units in TAZ 802340"
       ]
      },
      {
       "output_type": "stream",
       "stream": "stdout",
       "text": [
        "\n",
        "There are 162 households in TAZ 802350\n",
        "There are 350 residential units in TAZ 802350"
       ]
      },
      {
       "output_type": "stream",
       "stream": "stdout",
       "text": [
        "\n",
        "Warning:  number of households exceeds number of resunits in TAZ 802350\n",
        "There are 37 households in TAZ 802360\n",
        "There are 80 residential units in TAZ 802360"
       ]
      },
      {
       "output_type": "stream",
       "stream": "stdout",
       "text": [
        "\n",
        "Warning:  number of households exceeds number of resunits in TAZ 802360\n",
        "There are 0 households in TAZ 802370\n",
        "There are 145 households in TAZ 802380\n",
        "There are 65 residential units in TAZ 802380"
       ]
      },
      {
       "output_type": "stream",
       "stream": "stdout",
       "text": [
        "\n",
        "Warning:  number of households exceeds number of resunits in TAZ 802380\n",
        "There are 85 households in TAZ 802390\n",
        "There are 1835 residential units in TAZ 802390"
       ]
      },
      {
       "output_type": "stream",
       "stream": "stdout",
       "text": [
        "\n",
        "There are 133 households in TAZ 802400\n",
        "There are 2365 residential units in TAZ 802400"
       ]
      },
      {
       "output_type": "stream",
       "stream": "stdout",
       "text": [
        "\n",
        "There are 0 households in TAZ 802410\n",
        "There are 57 households in TAZ 802420\n",
        "There are 1385 residential units in TAZ 802420"
       ]
      },
      {
       "output_type": "stream",
       "stream": "stdout",
       "text": [
        "\n",
        "There are 119 households in TAZ 802430\n",
        "There are 3920 residential units in TAZ 802430"
       ]
      },
      {
       "output_type": "stream",
       "stream": "stdout",
       "text": [
        "\n",
        "There are 124 households in TAZ 802441\n",
        "There are 33525 residential units in TAZ 802441"
       ]
      },
      {
       "output_type": "stream",
       "stream": "stdout",
       "text": [
        "\n",
        "There are 0 households in TAZ 802442\n",
        "There are 0 households in TAZ 802451\n",
        "There are 0 households in TAZ 802452\n",
        "There are 0 households in TAZ 802453\n",
        "There are 163 households in TAZ 802460\n",
        "There are 5880 residential units in TAZ 802460"
       ]
      },
      {
       "output_type": "stream",
       "stream": "stdout",
       "text": [
        "\n",
        "There are 0 households in TAZ 802470\n",
        "There are 17 households in TAZ 802480\n",
        "There are 13860 residential units in TAZ 802480"
       ]
      },
      {
       "output_type": "stream",
       "stream": "stdout",
       "text": [
        "\n",
        "There are 0 households in TAZ 802490\n",
        "There are 0 households in TAZ 802501\n",
        "There are 0 households in TAZ 802502\n",
        "There are 225 households in TAZ 802510\n",
        "There are 16990 residential units in TAZ 802510"
       ]
      },
      {
       "output_type": "stream",
       "stream": "stdout",
       "text": [
        "\n",
        "There are 0 households in TAZ 802520\n",
        "There are 372 households in TAZ 802530\n",
        "There are 16275 residential units in TAZ 802530"
       ]
      },
      {
       "output_type": "stream",
       "stream": "stdout",
       "text": [
        "\n",
        "There are 0 households in TAZ 802540\n",
        "There are 0 households in TAZ 802550\n",
        "There are 0 households in TAZ 803040\n",
        "There are 0 households in TAZ 803050\n",
        "There are 32 households in TAZ 803060\n",
        "There are 15825 residential units in TAZ 803060"
       ]
      },
      {
       "output_type": "stream",
       "stream": "stdout",
       "text": [
        "\n",
        "There are 119 households in TAZ 803070\n",
        "There are 29070 residential units in TAZ 803070"
       ]
      },
      {
       "output_type": "stream",
       "stream": "stdout",
       "text": [
        "\n",
        "There are 0 households in TAZ 803080\n",
        "There are 0 households in TAZ 803090\n",
        "There are 0 households in TAZ 803100\n",
        "There are 0 households in TAZ 803110\n",
        "There are 193 households in TAZ 803120\n",
        "There are 7495 residential units in TAZ 803120"
       ]
      },
      {
       "output_type": "stream",
       "stream": "stdout",
       "text": [
        "\n"
       ]
      }
     ],
     "prompt_number": 13
    },
    {
     "cell_type": "code",
     "collapsed": false,
     "input": [
      "households_urbansim[households_urbansim.building_id.isnull()].taz.value_counts()"
     ],
     "language": "python",
     "metadata": {},
     "outputs": [
      {
       "metadata": {},
       "output_type": "pyout",
       "prompt_number": 14,
       "text": [
        "504550    899\n",
        "405410    574\n",
        "504530    505\n",
        "202410    424\n",
        "504430    384\n",
        "504420    334\n",
        "504380    333\n",
        "210070    311\n",
        "504410    304\n",
        "313240    302\n",
        "313230    280\n",
        "304580    280\n",
        "504570    255\n",
        "504100    246\n",
        "304610    243\n",
        "504520    237\n",
        "504050    214\n",
        "202040    175\n",
        "706140    167\n",
        "605190    159\n",
        "304070    139\n",
        "706170    110\n",
        "504090     98\n",
        "503260     96\n",
        "401290     88\n",
        "607120     81\n",
        "802380     80\n",
        "412062     70\n",
        "412063     70\n",
        "412066     68\n",
        "301330     67\n",
        "512180     64\n",
        "706120     61\n",
        "412241     59\n",
        "412242     59\n",
        "605460     58\n",
        "106040     56\n",
        "412423     45\n",
        "412424     45\n",
        "412236     42\n",
        "312320     39\n",
        "504140     35\n",
        "504300     29\n",
        "412261     24\n",
        "412207     23\n",
        "412233     22\n",
        "412235     22\n",
        "412246     19\n",
        "404140     15\n",
        "513250     14\n",
        "409120     13\n",
        "706160     10\n",
        "412257     10\n",
        "412171      5\n",
        "412174      4\n",
        "412048      3\n",
        "412022      3\n",
        "706210      2\n",
        "Length: 58, dtype: int64"
       ]
      }
     ],
     "prompt_number": 14
    },
    {
     "cell_type": "code",
     "collapsed": false,
     "input": [
      "households_urbansim[households_urbansim.building_id.isnull()]"
     ],
     "language": "python",
     "metadata": {},
     "outputs": [
      {
       "html": [
        "<pre>\n",
        "&lt;class 'pandas.core.frame.DataFrame'&gt;\n",
        "Int64Index: 8374 entries, 444258 to 1156291\n",
        "Data columns (total 10 columns):\n",
        "age_of_head    8374  non-null values\n",
        "cars           8374  non-null values\n",
        "children       8374  non-null values\n",
        "income         8374  non-null values\n",
        "persons        8374  non-null values\n",
        "tenure         8374  non-null values\n",
        "workers        8374  non-null values\n",
        "serialno       8374  non-null values\n",
        "taz            8374  non-null values\n",
        "building_id    0  non-null values\n",
        "dtypes: float64(2), int32(3), int64(5)\n",
        "</pre>"
       ],
       "metadata": {},
       "output_type": "pyout",
       "prompt_number": 15,
       "text": [
        "<class 'pandas.core.frame.DataFrame'>\n",
        "Int64Index: 8374 entries, 444258 to 1156291\n",
        "Data columns (total 10 columns):\n",
        "age_of_head    8374  non-null values\n",
        "cars           8374  non-null values\n",
        "children       8374  non-null values\n",
        "income         8374  non-null values\n",
        "persons        8374  non-null values\n",
        "tenure         8374  non-null values\n",
        "workers        8374  non-null values\n",
        "serialno       8374  non-null values\n",
        "taz            8374  non-null values\n",
        "building_id    0  non-null values\n",
        "dtypes: float64(2), int32(3), int64(5)"
       ]
      }
     ],
     "prompt_number": 15
    },
    {
     "cell_type": "code",
     "collapsed": false,
     "input": [
      "import os\n",
      "from synthicity.utils import misc\n",
      "from drcog.models import dataset\n",
      "dset = dataset.DRCOGDataset(os.path.join(misc.data_dir(),'drcog.h5'))\n",
      "p = dset.parcels.set_index('parcel_id')\n",
      "z = dset.zones\n",
      "p['taz'] = z.external_zone_id[p.zone_id].values\n",
      "b = dset.buildings\n",
      "b['arbitrary'] = 30 + 5*b.residential_units\n",
      "h = dset.households\n",
      "hb = pd.merge(h,b,left_on='building_id',right_index=True)\n",
      "hbp = pd.merge(hb,p,left_on='parcel_id',right_index=True)\n",
      "bp = pd.merge(b,p,left_on='parcel_id',right_index=True)\n",
      "taz_hh_counts = hbp.groupby('taz').size()\n",
      "\n",
      "empty_units = b[(b.arbitrary>0)].arbitrary\n",
      "empty_units = empty_units[empty_units>0].order(ascending=False)\n",
      "alternatives = bp[['building_type_id','parcel_id','unit_price_residential','taz']]\n",
      "alternatives = alternatives.ix[np.repeat(empty_units.index,empty_units.values.astype('int'))]\n",
      "\n",
      "for taz in np.unique(households_urbansim.taz):\n",
      "    chooser_ids = households_urbansim.index.values[(households_urbansim.taz==taz)*(households_urbansim.building_id.isnull())]\n",
      "    if len(chooser_ids) > 0:\n",
      "        alts = alternatives[alternatives.taz==taz]\n",
      "        alternative_ids = alts.index.values\n",
      "        probabilities = np.ones(len(alternative_ids))\n",
      "        num_resunits = len(alts)\n",
      "        print 'There are %s residential units in TAZ %s' % (num_resunits, taz)\n",
      "        choices = unit_choice(chooser_ids,alternative_ids,probabilities)\n",
      "        #households_urbansim.building_id[np.in1d(households_urbansim.index.values,chooser_ids)] = choices.values\n",
      "        households_urbansim.loc[chooser_ids,'building_id'] = choices\n",
      "        if taz == 101020:\n",
      "            print choices\n",
      "        if num_hh > num_resunits:\n",
      "            print 'Warning:  number of households exceeds number of resunits in TAZ %s' % taz\n",
      "            \n",
      "households_urbansim[households_urbansim.building_id.isnull()]"
     ],
     "language": "python",
     "metadata": {},
     "outputs": [
      {
       "output_type": "stream",
       "stream": "stdout",
       "text": [
        "Fetching parcels\n",
        "Fetching modify_table"
       ]
      },
      {
       "output_type": "stream",
       "stream": "stdout",
       "text": [
        "\n",
        "Fetching zones"
       ]
      },
      {
       "output_type": "stream",
       "stream": "stdout",
       "text": [
        "\n",
        "Fetching modify_table\n",
        "Fetching buildings\n",
        "Fetching establishments"
       ]
      },
      {
       "output_type": "stream",
       "stream": "stdout",
       "text": [
        "\n",
        "Fetching modify_table\n",
        "Fetching modify_table"
       ]
      },
      {
       "output_type": "stream",
       "stream": "stdout",
       "text": [
        "\n",
        "Fetching households\n",
        "Fetching modify_table\n",
        "There are 120 residential units in TAZ 106040"
       ]
      },
      {
       "output_type": "stream",
       "stream": "stdout",
       "text": [
        "\n",
        "Warning:  number of households exceeds number of resunits in TAZ 106040\n",
        "There are 30 residential units in TAZ 202040"
       ]
      },
      {
       "output_type": "stream",
       "stream": "stdout",
       "text": [
        "\n",
        "Warning:  number of households exceeds number of resunits in TAZ 202040\n",
        "There are 240 residential units in TAZ 202410"
       ]
      },
      {
       "output_type": "stream",
       "stream": "stdout",
       "text": [
        "\n",
        "Warning:  number of households exceeds number of resunits in TAZ 202410\n",
        "There are 120 residential units in TAZ 210070"
       ]
      },
      {
       "output_type": "stream",
       "stream": "stdout",
       "text": [
        "\n",
        "Warning:  number of households exceeds number of resunits in TAZ 210070\n",
        "There are 65 residential units in TAZ 301330"
       ]
      },
      {
       "output_type": "stream",
       "stream": "stdout",
       "text": [
        "\n",
        "Warning:  number of households exceeds number of resunits in TAZ 301330\n",
        "There are 30 residential units in TAZ 304070"
       ]
      },
      {
       "output_type": "stream",
       "stream": "stdout",
       "text": [
        "\n",
        "Warning:  number of households exceeds number of resunits in TAZ 304070\n",
        "There are 70 residential units in TAZ 304580"
       ]
      },
      {
       "output_type": "stream",
       "stream": "stdout",
       "text": [
        "\n",
        "Warning:  number of households exceeds number of resunits in TAZ 304580\n",
        "There are 30 residential units in TAZ 304610"
       ]
      },
      {
       "output_type": "stream",
       "stream": "stdout",
       "text": [
        "\n",
        "Warning:  number of households exceeds number of resunits in TAZ 304610\n",
        "There are 150 residential units in TAZ 312320"
       ]
      },
      {
       "output_type": "stream",
       "stream": "stdout",
       "text": [
        "\n",
        "Warning:  number of households exceeds number of resunits in TAZ 312320\n",
        "There are 175 residential units in TAZ 313230"
       ]
      },
      {
       "output_type": "stream",
       "stream": "stdout",
       "text": [
        "\n",
        "Warning:  number of households exceeds number of resunits in TAZ 313230\n",
        "There are 30 residential units in TAZ 313240"
       ]
      },
      {
       "output_type": "stream",
       "stream": "stdout",
       "text": [
        "\n",
        "Warning:  number of households exceeds number of resunits in TAZ 313240\n",
        "There are 30 residential units in TAZ 401290"
       ]
      },
      {
       "output_type": "stream",
       "stream": "stdout",
       "text": [
        "\n",
        "Warning:  number of households exceeds number of resunits in TAZ 401290\n",
        "There are 60 residential units in TAZ 404140"
       ]
      },
      {
       "output_type": "stream",
       "stream": "stdout",
       "text": [
        "\n",
        "Warning:  number of households exceeds number of resunits in TAZ 404140\n",
        "There are 180 residential units in TAZ 405410"
       ]
      },
      {
       "output_type": "stream",
       "stream": "stdout",
       "text": [
        "\n",
        "Warning:  number of households exceeds number of resunits in TAZ 405410\n",
        "There are 90 residential units in TAZ 409120"
       ]
      },
      {
       "output_type": "stream",
       "stream": "stdout",
       "text": [
        "\n",
        "Warning:  number of households exceeds number of resunits in TAZ 409120\n",
        "There are 60 residential units in TAZ 412022"
       ]
      },
      {
       "output_type": "stream",
       "stream": "stdout",
       "text": [
        "\n",
        "Warning:  number of households exceeds number of resunits in TAZ 412022\n",
        "There are 30 residential units in TAZ 412048"
       ]
      },
      {
       "output_type": "stream",
       "stream": "stdout",
       "text": [
        "\n",
        "Warning:  number of households exceeds number of resunits in TAZ 412048\n",
        "There are 30 residential units in TAZ 412062"
       ]
      },
      {
       "output_type": "stream",
       "stream": "stdout",
       "text": [
        "\n",
        "Warning:  number of households exceeds number of resunits in TAZ 412062\n",
        "There are 30 residential units in TAZ 412063"
       ]
      },
      {
       "output_type": "stream",
       "stream": "stdout",
       "text": [
        "\n",
        "Warning:  number of households exceeds number of resunits in TAZ 412063\n",
        "There are 30 residential units in TAZ 412066"
       ]
      },
      {
       "output_type": "stream",
       "stream": "stdout",
       "text": [
        "\n",
        "Warning:  number of households exceeds number of resunits in TAZ 412066\n",
        "There are 90 residential units in TAZ 412171"
       ]
      },
      {
       "output_type": "stream",
       "stream": "stdout",
       "text": [
        "\n",
        "Warning:  number of households exceeds number of resunits in TAZ 412171\n",
        "There are 90 residential units in TAZ 412174"
       ]
      },
      {
       "output_type": "stream",
       "stream": "stdout",
       "text": [
        "\n",
        "Warning:  number of households exceeds number of resunits in TAZ 412174\n",
        "There are 30 residential units in TAZ 412207"
       ]
      },
      {
       "output_type": "stream",
       "stream": "stdout",
       "text": [
        "\n",
        "Warning:  number of households exceeds number of resunits in TAZ 412207\n",
        "There are 60 residential units in TAZ 412233"
       ]
      },
      {
       "output_type": "stream",
       "stream": "stdout",
       "text": [
        "\n",
        "Warning:  number of households exceeds number of resunits in TAZ 412233\n",
        "There are 60 residential units in TAZ 412235"
       ]
      },
      {
       "output_type": "stream",
       "stream": "stdout",
       "text": [
        "\n",
        "Warning:  number of households exceeds number of resunits in TAZ 412235\n",
        "There are 30 residential units in TAZ 412236"
       ]
      },
      {
       "output_type": "stream",
       "stream": "stdout",
       "text": [
        "\n",
        "Warning:  number of households exceeds number of resunits in TAZ 412236\n",
        "There are 30 residential units in TAZ 412241"
       ]
      },
      {
       "output_type": "stream",
       "stream": "stdout",
       "text": [
        "\n",
        "Warning:  number of households exceeds number of resunits in TAZ 412241\n",
        "There are 30 residential units in TAZ 412242"
       ]
      },
      {
       "output_type": "stream",
       "stream": "stdout",
       "text": [
        "\n",
        "Warning:  number of households exceeds number of resunits in TAZ 412242\n",
        "There are 90 residential units in TAZ 412246"
       ]
      },
      {
       "output_type": "stream",
       "stream": "stdout",
       "text": [
        "\n",
        "Warning:  number of households exceeds number of resunits in TAZ 412246\n",
        "There are 30 residential units in TAZ 412257"
       ]
      },
      {
       "output_type": "stream",
       "stream": "stdout",
       "text": [
        "\n",
        "Warning:  number of households exceeds number of resunits in TAZ 412257\n",
        "There are 60 residential units in TAZ 412261"
       ]
      },
      {
       "output_type": "stream",
       "stream": "stdout",
       "text": [
        "\n",
        "Warning:  number of households exceeds number of resunits in TAZ 412261\n",
        "There are 30 residential units in TAZ 412423"
       ]
      },
      {
       "output_type": "stream",
       "stream": "stdout",
       "text": [
        "\n",
        "Warning:  number of households exceeds number of resunits in TAZ 412423\n",
        "There are 30 residential units in TAZ 412424"
       ]
      },
      {
       "output_type": "stream",
       "stream": "stdout",
       "text": [
        "\n",
        "Warning:  number of households exceeds number of resunits in TAZ 412424\n",
        "There are 30 residential units in TAZ 503260"
       ]
      },
      {
       "output_type": "stream",
       "stream": "stdout",
       "text": [
        "\n",
        "Warning:  number of households exceeds number of resunits in TAZ 503260\n",
        "There are 105 residential units in TAZ 504050"
       ]
      },
      {
       "output_type": "stream",
       "stream": "stdout",
       "text": [
        "\n",
        "Warning:  number of households exceeds number of resunits in TAZ 504050\n",
        "There are 30 residential units in TAZ 504090"
       ]
      },
      {
       "output_type": "stream",
       "stream": "stdout",
       "text": [
        "\n",
        "Warning:  number of households exceeds number of resunits in TAZ 504090\n",
        "There are 90 residential units in TAZ 504100"
       ]
      },
      {
       "output_type": "stream",
       "stream": "stdout",
       "text": [
        "\n",
        "Warning:  number of households exceeds number of resunits in TAZ 504100\n",
        "There are 35 residential units in TAZ 504140"
       ]
      },
      {
       "output_type": "stream",
       "stream": "stdout",
       "text": [
        "\n",
        "Warning:  number of households exceeds number of resunits in TAZ 504140\n",
        "There are 165 residential units in TAZ 504300"
       ]
      },
      {
       "output_type": "stream",
       "stream": "stdout",
       "text": [
        "\n",
        "Warning:  number of households exceeds number of resunits in TAZ 504300\n",
        "There are 35 residential units in TAZ 504380"
       ]
      },
      {
       "output_type": "stream",
       "stream": "stdout",
       "text": [
        "\n",
        "Warning:  number of households exceeds number of resunits in TAZ 504380\n",
        "There are 35 residential units in TAZ 504410"
       ]
      },
      {
       "output_type": "stream",
       "stream": "stdout",
       "text": [
        "\n",
        "Warning:  number of households exceeds number of resunits in TAZ 504410\n",
        "There are 35 residential units in TAZ 504420"
       ]
      },
      {
       "output_type": "stream",
       "stream": "stdout",
       "text": [
        "\n",
        "Warning:  number of households exceeds number of resunits in TAZ 504420\n",
        "There are 35 residential units in TAZ 504430"
       ]
      },
      {
       "output_type": "stream",
       "stream": "stdout",
       "text": [
        "\n",
        "Warning:  number of households exceeds number of resunits in TAZ 504430\n",
        "There are 35 residential units in TAZ 504520"
       ]
      },
      {
       "output_type": "stream",
       "stream": "stdout",
       "text": [
        "\n",
        "Warning:  number of households exceeds number of resunits in TAZ 504520\n",
        "There are 175 residential units in TAZ 504530"
       ]
      },
      {
       "output_type": "stream",
       "stream": "stdout",
       "text": [
        "\n",
        "Warning:  number of households exceeds number of resunits in TAZ 504530\n",
        "There are 140 residential units in TAZ 504550"
       ]
      },
      {
       "output_type": "stream",
       "stream": "stdout",
       "text": [
        "\n",
        "Warning:  number of households exceeds number of resunits in TAZ 504550\n",
        "There are 30 residential units in TAZ 504570"
       ]
      },
      {
       "output_type": "stream",
       "stream": "stdout",
       "text": [
        "\n",
        "Warning:  number of households exceeds number of resunits in TAZ 504570\n",
        "There are 30 residential units in TAZ 512180"
       ]
      },
      {
       "output_type": "stream",
       "stream": "stdout",
       "text": [
        "\n",
        "Warning:  number of households exceeds number of resunits in TAZ 512180\n",
        "There are 120 residential units in TAZ 513250"
       ]
      },
      {
       "output_type": "stream",
       "stream": "stdout",
       "text": [
        "\n",
        "Warning:  number of households exceeds number of resunits in TAZ 513250\n",
        "There are 210 residential units in TAZ 605190"
       ]
      },
      {
       "output_type": "stream",
       "stream": "stdout",
       "text": [
        "\n",
        "Warning:  number of households exceeds number of resunits in TAZ 605190\n",
        "There are 210 residential units in TAZ 605460"
       ]
      },
      {
       "output_type": "stream",
       "stream": "stdout",
       "text": [
        "\n",
        "Warning:  number of households exceeds number of resunits in TAZ 605460\n",
        "There are 35 residential units in TAZ 607120"
       ]
      },
      {
       "output_type": "stream",
       "stream": "stdout",
       "text": [
        "\n",
        "Warning:  number of households exceeds number of resunits in TAZ 607120\n",
        "There are 30 residential units in TAZ 706120"
       ]
      },
      {
       "output_type": "stream",
       "stream": "stdout",
       "text": [
        "\n",
        "Warning:  number of households exceeds number of resunits in TAZ 706120\n",
        "There are 30 residential units in TAZ 706140"
       ]
      },
      {
       "output_type": "stream",
       "stream": "stdout",
       "text": [
        "\n",
        "Warning:  number of households exceeds number of resunits in TAZ 706140\n",
        "There are 70 residential units in TAZ 706160"
       ]
      },
      {
       "output_type": "stream",
       "stream": "stdout",
       "text": [
        "\n",
        "Warning:  number of households exceeds number of resunits in TAZ 706160\n",
        "There are 210 residential units in TAZ 706170"
       ]
      },
      {
       "output_type": "stream",
       "stream": "stdout",
       "text": [
        "\n",
        "Warning:  number of households exceeds number of resunits in TAZ 706170\n",
        "There are 35 residential units in TAZ 706210"
       ]
      },
      {
       "output_type": "stream",
       "stream": "stdout",
       "text": [
        "\n",
        "Warning:  number of households exceeds number of resunits in TAZ 706210\n",
        "There are 95 residential units in TAZ 802380"
       ]
      },
      {
       "output_type": "stream",
       "stream": "stdout",
       "text": [
        "\n",
        "Warning:  number of households exceeds number of resunits in TAZ 802380\n"
       ]
      },
      {
       "html": [
        "<pre>\n",
        "&lt;class 'pandas.core.frame.DataFrame'&gt;\n",
        "Int64Index: 5479 entries, 1155240 to 1156291\n",
        "Data columns (total 10 columns):\n",
        "age_of_head    5479  non-null values\n",
        "cars           5479  non-null values\n",
        "children       5479  non-null values\n",
        "income         5479  non-null values\n",
        "persons        5479  non-null values\n",
        "tenure         5479  non-null values\n",
        "workers        5479  non-null values\n",
        "serialno       5479  non-null values\n",
        "taz            5479  non-null values\n",
        "building_id    0  non-null values\n",
        "dtypes: float64(2), int32(3), int64(5)\n",
        "</pre>"
       ],
       "metadata": {},
       "output_type": "pyout",
       "prompt_number": 16,
       "text": [
        "<class 'pandas.core.frame.DataFrame'>\n",
        "Int64Index: 5479 entries, 1155240 to 1156291\n",
        "Data columns (total 10 columns):\n",
        "age_of_head    5479  non-null values\n",
        "cars           5479  non-null values\n",
        "children       5479  non-null values\n",
        "income         5479  non-null values\n",
        "persons        5479  non-null values\n",
        "tenure         5479  non-null values\n",
        "workers        5479  non-null values\n",
        "serialno       5479  non-null values\n",
        "taz            5479  non-null values\n",
        "building_id    0  non-null values\n",
        "dtypes: float64(2), int32(3), int64(5)"
       ]
      }
     ],
     "prompt_number": 16
    },
    {
     "cell_type": "code",
     "collapsed": false,
     "input": [
      "import os\n",
      "from synthicity.utils import misc\n",
      "from drcog.models import dataset\n",
      "dset = dataset.DRCOGDataset(os.path.join(misc.data_dir(),'drcog.h5'))\n",
      "p = dset.parcels.set_index('parcel_id')\n",
      "z = dset.zones\n",
      "p['taz'] = z.external_zone_id[p.zone_id].values\n",
      "b = dset.buildings\n",
      "b['arbitrary'] = 10 + 5*b.residential_units\n",
      "h = dset.households\n",
      "hb = pd.merge(h,b,left_on='building_id',right_index=True)\n",
      "hbp = pd.merge(hb,p,left_on='parcel_id',right_index=True)\n",
      "bp = pd.merge(b,p,left_on='parcel_id',right_index=True)\n",
      "taz_hh_counts = hbp.groupby('taz').size()\n",
      "\n",
      "empty_units = b[(b.arbitrary>0)].arbitrary\n",
      "empty_units = empty_units[empty_units>0].order(ascending=False)\n",
      "alternatives = bp[['building_type_id','parcel_id','unit_price_residential','taz']]\n",
      "alternatives = alternatives.ix[np.repeat(empty_units.index,empty_units.values.astype('int'))]\n",
      "\n",
      "for taz in np.unique(households_urbansim.taz):\n",
      "    chooser_ids = households_urbansim.index.values[(households_urbansim.taz==taz)*(households_urbansim.building_id.isnull())]\n",
      "    if len(chooser_ids) > 0:\n",
      "        alts = alternatives[alternatives.taz==taz]\n",
      "        alternative_ids = alts.index.values\n",
      "        probabilities = np.ones(len(alternative_ids))\n",
      "        num_resunits = len(alts)\n",
      "        print 'There are %s residential units in TAZ %s' % (num_resunits, taz)\n",
      "        choices = unit_choice(chooser_ids,alternative_ids,probabilities)\n",
      "        #households_urbansim.building_id[np.in1d(households_urbansim.index.values,chooser_ids)] = choices.values\n",
      "        households_urbansim.loc[chooser_ids,'building_id'] = choices\n",
      "        if taz == 101020:\n",
      "            print choices\n",
      "        if num_hh > num_resunits:\n",
      "            print 'Warning:  number of households exceeds number of resunits in TAZ %s' % taz\n",
      "            \n",
      "households_urbansim[households_urbansim.building_id.isnull()]"
     ],
     "language": "python",
     "metadata": {},
     "outputs": [
      {
       "output_type": "stream",
       "stream": "stdout",
       "text": [
        "Fetching parcels\n",
        "Fetching modify_table"
       ]
      },
      {
       "output_type": "stream",
       "stream": "stdout",
       "text": [
        "\n",
        "Fetching zones"
       ]
      },
      {
       "output_type": "stream",
       "stream": "stdout",
       "text": [
        "\n",
        "Fetching modify_table\n",
        "Fetching buildings\n",
        "Fetching establishments"
       ]
      },
      {
       "output_type": "stream",
       "stream": "stdout",
       "text": [
        "\n",
        "Fetching modify_table"
       ]
      },
      {
       "output_type": "stream",
       "stream": "stdout",
       "text": [
        "\n",
        "Fetching modify_table"
       ]
      },
      {
       "output_type": "stream",
       "stream": "stdout",
       "text": [
        "\n",
        "Fetching households\n",
        "Fetching modify_table\n",
        "There are 10 residential units in TAZ 202040"
       ]
      },
      {
       "output_type": "stream",
       "stream": "stdout",
       "text": [
        "\n",
        "Warning:  number of households exceeds number of resunits in TAZ 202040\n",
        "There are 100 residential units in TAZ 202410"
       ]
      },
      {
       "output_type": "stream",
       "stream": "stdout",
       "text": [
        "\n",
        "Warning:  number of households exceeds number of resunits in TAZ 202410\n",
        "There are 40 residential units in TAZ 210070"
       ]
      },
      {
       "output_type": "stream",
       "stream": "stdout",
       "text": [
        "\n",
        "Warning:  number of households exceeds number of resunits in TAZ 210070\n",
        "There are 45 residential units in TAZ 301330"
       ]
      },
      {
       "output_type": "stream",
       "stream": "stdout",
       "text": [
        "\n",
        "Warning:  number of households exceeds number of resunits in TAZ 301330\n",
        "There are 10 residential units in TAZ 304070"
       ]
      },
      {
       "output_type": "stream",
       "stream": "stdout",
       "text": [
        "\n",
        "Warning:  number of households exceeds number of resunits in TAZ 304070\n",
        "There are 30 residential units in TAZ 304580"
       ]
      },
      {
       "output_type": "stream",
       "stream": "stdout",
       "text": [
        "\n",
        "Warning:  number of households exceeds number of resunits in TAZ 304580\n",
        "There are 10 residential units in TAZ 304610"
       ]
      },
      {
       "output_type": "stream",
       "stream": "stdout",
       "text": [
        "\n",
        "Warning:  number of households exceeds number of resunits in TAZ 304610\n",
        "There are 75 residential units in TAZ 313230"
       ]
      },
      {
       "output_type": "stream",
       "stream": "stdout",
       "text": [
        "\n",
        "Warning:  number of households exceeds number of resunits in TAZ 313230\n",
        "There are 10 residential units in TAZ 313240"
       ]
      },
      {
       "output_type": "stream",
       "stream": "stdout",
       "text": [
        "\n",
        "Warning:  number of households exceeds number of resunits in TAZ 313240\n",
        "There are 10 residential units in TAZ 401290"
       ]
      },
      {
       "output_type": "stream",
       "stream": "stdout",
       "text": [
        "\n",
        "Warning:  number of households exceeds number of resunits in TAZ 401290\n",
        "There are 60 residential units in TAZ 405410"
       ]
      },
      {
       "output_type": "stream",
       "stream": "stdout",
       "text": [
        "\n",
        "Warning:  number of households exceeds number of resunits in TAZ 405410\n",
        "There are 10 residential units in TAZ 412062"
       ]
      },
      {
       "output_type": "stream",
       "stream": "stdout",
       "text": [
        "\n",
        "Warning:  number of households exceeds number of resunits in TAZ 412062\n",
        "There are 10 residential units in TAZ 412063"
       ]
      },
      {
       "output_type": "stream",
       "stream": "stdout",
       "text": [
        "\n",
        "Warning:  number of households exceeds number of resunits in TAZ 412063\n",
        "There are 10 residential units in TAZ 412066"
       ]
      },
      {
       "output_type": "stream",
       "stream": "stdout",
       "text": [
        "\n",
        "Warning:  number of households exceeds number of resunits in TAZ 412066\n",
        "There are 10 residential units in TAZ 412236"
       ]
      },
      {
       "output_type": "stream",
       "stream": "stdout",
       "text": [
        "\n",
        "Warning:  number of households exceeds number of resunits in TAZ 412236\n",
        "There are 10 residential units in TAZ 412241"
       ]
      },
      {
       "output_type": "stream",
       "stream": "stdout",
       "text": [
        "\n",
        "Warning:  number of households exceeds number of resunits in TAZ 412241\n",
        "There are 10 residential units in TAZ 412242"
       ]
      },
      {
       "output_type": "stream",
       "stream": "stdout",
       "text": [
        "\n",
        "Warning:  number of households exceeds number of resunits in TAZ 412242\n",
        "There are 10 residential units in TAZ 412423"
       ]
      },
      {
       "output_type": "stream",
       "stream": "stdout",
       "text": [
        "\n",
        "Warning:  number of households exceeds number of resunits in TAZ 412423\n",
        "There are 10 residential units in TAZ 412424"
       ]
      },
      {
       "output_type": "stream",
       "stream": "stdout",
       "text": [
        "\n",
        "Warning:  number of households exceeds number of resunits in TAZ 412424\n",
        "There are 10 residential units in TAZ 503260"
       ]
      },
      {
       "output_type": "stream",
       "stream": "stdout",
       "text": [
        "\n",
        "Warning:  number of households exceeds number of resunits in TAZ 503260\n",
        "There are 45 residential units in TAZ 504050"
       ]
      },
      {
       "output_type": "stream",
       "stream": "stdout",
       "text": [
        "\n",
        "Warning:  number of households exceeds number of resunits in TAZ 504050\n",
        "There are 10 residential units in TAZ 504090"
       ]
      },
      {
       "output_type": "stream",
       "stream": "stdout",
       "text": [
        "\n",
        "Warning:  number of households exceeds number of resunits in TAZ 504090\n",
        "There are 30 residential units in TAZ 504100"
       ]
      },
      {
       "output_type": "stream",
       "stream": "stdout",
       "text": [
        "\n",
        "Warning:  number of households exceeds number of resunits in TAZ 504100\n",
        "There are 15 residential units in TAZ 504380"
       ]
      },
      {
       "output_type": "stream",
       "stream": "stdout",
       "text": [
        "\n",
        "Warning:  number of households exceeds number of resunits in TAZ 504380\n",
        "There are 15 residential units in TAZ 504410"
       ]
      },
      {
       "output_type": "stream",
       "stream": "stdout",
       "text": [
        "\n",
        "Warning:  number of households exceeds number of resunits in TAZ 504410\n",
        "There are 15 residential units in TAZ 504420"
       ]
      },
      {
       "output_type": "stream",
       "stream": "stdout",
       "text": [
        "\n",
        "Warning:  number of households exceeds number of resunits in TAZ 504420\n",
        "There are 15 residential units in TAZ 504430"
       ]
      },
      {
       "output_type": "stream",
       "stream": "stdout",
       "text": [
        "\n",
        "Warning:  number of households exceeds number of resunits in TAZ 504430\n",
        "There are 15 residential units in TAZ 504520"
       ]
      },
      {
       "output_type": "stream",
       "stream": "stdout",
       "text": [
        "\n",
        "Warning:  number of households exceeds number of resunits in TAZ 504520\n",
        "There are 75 residential units in TAZ 504530"
       ]
      },
      {
       "output_type": "stream",
       "stream": "stdout",
       "text": [
        "\n",
        "Warning:  number of households exceeds number of resunits in TAZ 504530\n",
        "There are 60 residential units in TAZ 504550"
       ]
      },
      {
       "output_type": "stream",
       "stream": "stdout",
       "text": [
        "\n",
        "Warning:  number of households exceeds number of resunits in TAZ 504550\n",
        "There are 10 residential units in TAZ 504570"
       ]
      },
      {
       "output_type": "stream",
       "stream": "stdout",
       "text": [
        "\n",
        "Warning:  number of households exceeds number of resunits in TAZ 504570\n",
        "There are 10 residential units in TAZ 512180"
       ]
      },
      {
       "output_type": "stream",
       "stream": "stdout",
       "text": [
        "\n",
        "Warning:  number of households exceeds number of resunits in TAZ 512180\n",
        "There are 15 residential units in TAZ 607120"
       ]
      },
      {
       "output_type": "stream",
       "stream": "stdout",
       "text": [
        "\n",
        "Warning:  number of households exceeds number of resunits in TAZ 607120\n",
        "There are 10 residential units in TAZ 706120"
       ]
      },
      {
       "output_type": "stream",
       "stream": "stdout",
       "text": [
        "\n",
        "Warning:  number of households exceeds number of resunits in TAZ 706120\n",
        "There are 10 residential units in TAZ 706140"
       ]
      },
      {
       "output_type": "stream",
       "stream": "stdout",
       "text": [
        "\n",
        "Warning:  number of households exceeds number of resunits in TAZ 706140\n"
       ]
      },
      {
       "html": [
        "<pre>\n",
        "&lt;class 'pandas.core.frame.DataFrame'&gt;\n",
        "Int64Index: 4682 entries, 1155240 to 1156291\n",
        "Data columns (total 10 columns):\n",
        "age_of_head    4682  non-null values\n",
        "cars           4682  non-null values\n",
        "children       4682  non-null values\n",
        "income         4682  non-null values\n",
        "persons        4682  non-null values\n",
        "tenure         4682  non-null values\n",
        "workers        4682  non-null values\n",
        "serialno       4682  non-null values\n",
        "taz            4682  non-null values\n",
        "building_id    0  non-null values\n",
        "dtypes: float64(2), int32(3), int64(5)\n",
        "</pre>"
       ],
       "metadata": {},
       "output_type": "pyout",
       "prompt_number": 17,
       "text": [
        "<class 'pandas.core.frame.DataFrame'>\n",
        "Int64Index: 4682 entries, 1155240 to 1156291\n",
        "Data columns (total 10 columns):\n",
        "age_of_head    4682  non-null values\n",
        "cars           4682  non-null values\n",
        "children       4682  non-null values\n",
        "income         4682  non-null values\n",
        "persons        4682  non-null values\n",
        "tenure         4682  non-null values\n",
        "workers        4682  non-null values\n",
        "serialno       4682  non-null values\n",
        "taz            4682  non-null values\n",
        "building_id    0  non-null values\n",
        "dtypes: float64(2), int32(3), int64(5)"
       ]
      }
     ],
     "prompt_number": 17
    },
    {
     "cell_type": "code",
     "collapsed": false,
     "input": [
      "unplaced_hh = households_urbansim[households_urbansim.building_id.isnull()]"
     ],
     "language": "python",
     "metadata": {},
     "outputs": [],
     "prompt_number": 18
    },
    {
     "cell_type": "code",
     "collapsed": false,
     "input": [
      "bp[bp.taz==405410].index.values[0]"
     ],
     "language": "python",
     "metadata": {},
     "outputs": [
      {
       "metadata": {},
       "output_type": "pyout",
       "prompt_number": 19,
       "text": [
        "474330"
       ]
      }
     ],
     "prompt_number": 19
    },
    {
     "cell_type": "code",
     "collapsed": false,
     "input": [
      "for idx in unplaced_hh.index.values:\n",
      "    taz = unplaced_hh.taz[unplaced_hh.index.values==idx].values[0]\n",
      "    bids = bp[bp.taz==taz].index.values\n",
      "    if len(bids)>0:\n",
      "        bid = bids[0]\n",
      "        households_urbansim.building_id[households_urbansim.index.values==idx] = bid\n",
      "    else:\n",
      "        print 'No structure in TAZ %s' % taz\n",
      "households_urbansim[households_urbansim.building_id.isnull()]"
     ],
     "language": "python",
     "metadata": {},
     "outputs": [
      {
       "html": [
        "<div style=\"max-height:1000px;max-width:1500px;overflow:auto;\">\n",
        "<table border=\"1\" class=\"dataframe\">\n",
        "  <tbody>\n",
        "    <tr>\n",
        "      <td>Int64Index([], dtype=int64)</td>\n",
        "      <td>Empty DataFrame</td>\n",
        "    </tr>\n",
        "  </tbody>\n",
        "</table>\n",
        "</div>"
       ],
       "metadata": {},
       "output_type": "pyout",
       "prompt_number": 20,
       "text": [
        "Empty DataFrame\n",
        "Columns: [age_of_head, cars, children, income, persons, tenure, workers, serialno, taz, building_id]\n",
        "Index: []"
       ]
      }
     ],
     "prompt_number": 20
    },
    {
     "cell_type": "code",
     "collapsed": false,
     "input": [
      "previous_totals = hbp.groupby('taz').size()\n",
      "current_totals = households_urbansim.groupby('taz').size()\n",
      "#missing_zones = list(set(hbp.groupby('taz').size().index.values) - set(households.groupby('taz').size().index.values))\n",
      "# previous_totals[np.in1d(previous_totals.index.values,missing_zones)]\n",
      "# previous_totals[np.in1d(current_totals.index.values,missing_zones)]\n",
      "a = pd.DataFrame({'previous':previous_totals,'current':current_totals})"
     ],
     "language": "python",
     "metadata": {},
     "outputs": [],
     "prompt_number": 21
    },
    {
     "cell_type": "code",
     "collapsed": false,
     "input": [
      "persons = persons[['serialno','pnum','person_id','household_id']]"
     ],
     "language": "python",
     "metadata": {},
     "outputs": [],
     "prompt_number": 22
    },
    {
     "cell_type": "code",
     "collapsed": false,
     "input": [
      "households_urbansim.building_id = households_urbansim.building_id.astype('int32')"
     ],
     "language": "python",
     "metadata": {},
     "outputs": [],
     "prompt_number": 23
    },
    {
     "cell_type": "code",
     "collapsed": false,
     "input": [
      "households_urbansim.to_csv('c://users//janowicz//desktop//drcog_new_households.csv')\n",
      "persons.to_csv('c://users//janowicz//desktop//drcog_new_persons.csv',index=False)"
     ],
     "language": "python",
     "metadata": {},
     "outputs": [],
     "prompt_number": 24
    }
   ],
   "metadata": {}
  }
 ]
}