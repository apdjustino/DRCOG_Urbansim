{
 "metadata": {
  "name": ""
 },
 "nbformat": 3,
 "nbformat_minor": 0,
 "worksheets": [
  {
   "cells": [
    {
     "cell_type": "heading",
     "level": 1,
     "metadata": {},
     "source": [
      "Indicator examples"
     ]
    },
    {
     "cell_type": "heading",
     "level": 4,
     "metadata": {},
     "source": [
      "Execute this top cell first, then proceed with the examples below"
     ]
    },
    {
     "cell_type": "code",
     "collapsed": false,
     "input": [
      "import numpy as np, pandas as pd, os\n",
      "from synthicity.utils import misc\n",
      "from drcog.models import dataset####in the src dir, not examples, to mesh with opus\n",
      "dset = dataset.DRCOGDataset(os.path.join(misc.data_dir(),'drcog.h5'))\n",
      "buildings = dset.fetch('buildings')[['building_type_id','improvement_value','land_area','non_residential_sqft','parcel_id','residential_units','sqft_per_unit','stories','tax_exempt','year_built','bldg_sq_ft','unit_price_non_residential','unit_price_residential','building_sqft_per_job','non_residential_units','base_year_jobs','all_units']]\n",
      "establishments = dset.fetch('establishments')\n",
      "households = dset.fetch('households')\n",
      "parcels = dset.fetch('parcels')\n",
      "zones = dset.fetch('zones')\n",
      "##Merge buildings and parcels\n",
      "buildings = pd.merge(buildings,parcels,left_on='parcel_id',right_index=True)\n",
      "##Merge households with bulidings/parcels\n",
      "households = pd.merge(households,buildings,left_on='building_id',right_index=True)\n",
      "##Merge establishments with bulidings/parcels\n",
      "establishments = pd.merge(establishments,buildings,left_on='building_id',right_index=True)"
     ],
     "language": "python",
     "metadata": {},
     "outputs": []
    },
    {
     "cell_type": "heading",
     "level": 2,
     "metadata": {},
     "source": [
      "Employment Variables"
     ]
    },
    {
     "cell_type": "code",
     "collapsed": false,
     "input": [
      "establishments.employees"
     ],
     "language": "python",
     "metadata": {},
     "outputs": []
    },
    {
     "cell_type": "code",
     "collapsed": false,
     "input": [
      "establishments.employees.sum()"
     ],
     "language": "python",
     "metadata": {},
     "outputs": []
    },
    {
     "cell_type": "code",
     "collapsed": false,
     "input": [
      "establishments.employees.describe()"
     ],
     "language": "python",
     "metadata": {},
     "outputs": []
    },
    {
     "cell_type": "code",
     "collapsed": false,
     "input": [
      "establishments.groupby('zone_id').employees.sum()"
     ],
     "language": "python",
     "metadata": {},
     "outputs": []
    },
    {
     "cell_type": "code",
     "collapsed": false,
     "input": [
      "establishments.groupby('county_id').employees.sum()"
     ],
     "language": "python",
     "metadata": {},
     "outputs": []
    },
    {
     "cell_type": "code",
     "collapsed": false,
     "input": [
      "establishments.groupby('city_id').employees.sum()"
     ],
     "language": "python",
     "metadata": {},
     "outputs": []
    },
    {
     "cell_type": "code",
     "collapsed": false,
     "input": [
      "establishments[establishments.sector_id==33]"
     ],
     "language": "python",
     "metadata": {},
     "outputs": []
    },
    {
     "cell_type": "code",
     "collapsed": false,
     "input": [
      "establishments[establishments.sector_id==33].groupby('county_id').employees.sum()"
     ],
     "language": "python",
     "metadata": {},
     "outputs": []
    },
    {
     "cell_type": "code",
     "collapsed": false,
     "input": [
      "establishments[establishments.dist_rail<2600].groupby('county_id').employees.sum()"
     ],
     "language": "python",
     "metadata": {},
     "outputs": []
    },
    {
     "cell_type": "code",
     "collapsed": false,
     "input": [
      "establishments[(establishments.dist_rail<2600)*(establishments.sector_id==54)].groupby('county_id').employees.sum()"
     ],
     "language": "python",
     "metadata": {},
     "outputs": []
    },
    {
     "cell_type": "code",
     "collapsed": false,
     "input": [
      "non_home_based_establishments = establishments[establishments.home_based_status==0]"
     ],
     "language": "python",
     "metadata": {},
     "outputs": []
    },
    {
     "cell_type": "code",
     "collapsed": false,
     "input": [
      "print non_home_based_establishments.groupby('city_id').employees.sum()\n",
      "print non_home_based_establishments.groupby('city_id').employees.mean()\n",
      "print non_home_based_establishments.groupby('city_id').employees.median()"
     ],
     "language": "python",
     "metadata": {},
     "outputs": []
    },
    {
     "cell_type": "code",
     "collapsed": false,
     "input": [
      "zonal_employment = establishments.groupby('zone_id').employees.sum()\n",
      "zonal_acreage = parcels.groupby('zone_id').parcel_sqft.sum()/43560.0\n",
      "employment_density = zonal_employment/zonal_acreage\n",
      "print employment_density"
     ],
     "language": "python",
     "metadata": {},
     "outputs": []
    },
    {
     "cell_type": "heading",
     "level": 2,
     "metadata": {},
     "source": [
      "Households Variables"
     ]
    },
    {
     "cell_type": "code",
     "collapsed": false,
     "input": [
      "households.groupby('zone_id').persons.sum()"
     ],
     "language": "python",
     "metadata": {},
     "outputs": []
    },
    {
     "cell_type": "code",
     "collapsed": false,
     "input": [
      "households.groupby('zone_id').size()"
     ],
     "language": "python",
     "metadata": {},
     "outputs": []
    },
    {
     "cell_type": "code",
     "collapsed": false,
     "input": [
      "households.groupby('county_id').children.sum()"
     ],
     "language": "python",
     "metadata": {},
     "outputs": []
    },
    {
     "cell_type": "code",
     "collapsed": false,
     "input": [
      "households.groupby('county_id').children.sum()*1.0/households.children.sum()"
     ],
     "language": "python",
     "metadata": {},
     "outputs": []
    },
    {
     "cell_type": "code",
     "collapsed": false,
     "input": [
      "households.groupby('county_id').cars.sum()*1.0/households.groupby('county_id').size()"
     ],
     "language": "python",
     "metadata": {},
     "outputs": []
    },
    {
     "cell_type": "code",
     "collapsed": false,
     "input": [
      "workers = households.groupby('county_id').workers.sum()\n",
      "employment = establishments.groupby('county_id').employees.sum()\n",
      "employment*1.0/workers"
     ],
     "language": "python",
     "metadata": {},
     "outputs": []
    },
    {
     "cell_type": "code",
     "collapsed": false,
     "input": [
      "households[households.race_id==1].groupby(['county_id']).age_of_head.mean()"
     ],
     "language": "python",
     "metadata": {},
     "outputs": []
    },
    {
     "cell_type": "code",
     "collapsed": false,
     "input": [
      "households.groupby(['county_id','race_id']).income.median()"
     ],
     "language": "python",
     "metadata": {},
     "outputs": []
    },
    {
     "cell_type": "code",
     "collapsed": false,
     "input": [
      "###Per capita income\n",
      "zonal_income = households.groupby('zone_id').income.sum()\n",
      "zonal_persons = households.groupby('zone_id').persons.sum()\n",
      "per_capita_income = zonal_income*1.0/zonal_persons\n",
      "print per_capita_income"
     ],
     "language": "python",
     "metadata": {},
     "outputs": []
    }
   ],
   "metadata": {}
  }
 ]
}