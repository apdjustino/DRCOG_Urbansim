{
 "metadata": {
  "name": ""
 },
 "nbformat": 3,
 "nbformat_minor": 0,
 "worksheets": [
  {
   "cells": [
    {
     "cell_type": "code",
     "collapsed": false,
     "input": [
      "q1 = \"select parcel_id, county_id, parcel_sqft, land_value, zone_id, lu_type_id, centroid_x, centroid_y, tax_exempt_flag, school_district, zoning_id from parcels\"\n",
      "q2 = \"select parcel_id, dist_bus, dist_rail, in_ugb, in_uga, env_constr_park, env_constr_lake, env_constr_floodplain, env_constr_river, env_constr_landslide, far_id from parcels_spatial\""
     ],
     "language": "python",
     "metadata": {},
     "outputs": [],
     "prompt_number": 1
    },
    {
     "cell_type": "code",
     "collapsed": false,
     "input": [
      "import psycopg2\n",
      "import pandas.io.sql as sql\n",
      "conn_string = \"host='localhost' port=5432 dbname='drcog' user='postgres' password='postgres'\"\n",
      "conn = psycopg2.connect(conn_string)\n",
      "cur = conn.cursor()\n",
      "parcels1 = sql.read_frame(q1,conn)\n",
      "parcels2 = sql.read_frame(q2,conn)\n",
      "buildings = sql.read_frame('select * from buildings',conn)"
     ],
     "language": "python",
     "metadata": {},
     "outputs": [],
     "prompt_number": 2
    },
    {
     "cell_type": "code",
     "collapsed": false,
     "input": [
      "parcels1"
     ],
     "language": "python",
     "metadata": {},
     "outputs": [
      {
       "html": [
        "<pre>\n",
        "&lt;class 'pandas.core.frame.DataFrame'&gt;\n",
        "Int64Index: 949484 entries, 0 to 949483\n",
        "Data columns (total 11 columns):\n",
        "parcel_id          949484  non-null values\n",
        "county_id          949484  non-null values\n",
        "parcel_sqft        949484  non-null values\n",
        "land_value         949484  non-null values\n",
        "zone_id            949484  non-null values\n",
        "lu_type_id         949484  non-null values\n",
        "centroid_x         949484  non-null values\n",
        "centroid_y         949484  non-null values\n",
        "tax_exempt_flag    949484  non-null values\n",
        "school_district    949484  non-null values\n",
        "zoning_id          949484  non-null values\n",
        "dtypes: int64(11)\n",
        "</pre>"
       ],
       "metadata": {},
       "output_type": "pyout",
       "prompt_number": 3,
       "text": [
        "<class 'pandas.core.frame.DataFrame'>\n",
        "Int64Index: 949484 entries, 0 to 949483\n",
        "Data columns (total 11 columns):\n",
        "parcel_id          949484  non-null values\n",
        "county_id          949484  non-null values\n",
        "parcel_sqft        949484  non-null values\n",
        "land_value         949484  non-null values\n",
        "zone_id            949484  non-null values\n",
        "lu_type_id         949484  non-null values\n",
        "centroid_x         949484  non-null values\n",
        "centroid_y         949484  non-null values\n",
        "tax_exempt_flag    949484  non-null values\n",
        "school_district    949484  non-null values\n",
        "zoning_id          949484  non-null values\n",
        "dtypes: int64(11)"
       ]
      }
     ],
     "prompt_number": 3
    },
    {
     "cell_type": "code",
     "collapsed": false,
     "input": [
      "parcels2"
     ],
     "language": "python",
     "metadata": {},
     "outputs": [
      {
       "html": [
        "<pre>\n",
        "&lt;class 'pandas.core.frame.DataFrame'&gt;\n",
        "Int64Index: 950968 entries, 0 to 950967\n",
        "Data columns (total 11 columns):\n",
        "parcel_id                950968  non-null values\n",
        "dist_bus                 950968  non-null values\n",
        "dist_rail                950968  non-null values\n",
        "in_ugb                   950968  non-null values\n",
        "in_uga                   950968  non-null values\n",
        "env_constr_park          950968  non-null values\n",
        "env_constr_lake          950968  non-null values\n",
        "env_constr_floodplain    950968  non-null values\n",
        "env_constr_river         950968  non-null values\n",
        "env_constr_landslide     950968  non-null values\n",
        "far_id                   949376  non-null values\n",
        "dtypes: float64(6), int64(5)\n",
        "</pre>"
       ],
       "metadata": {},
       "output_type": "pyout",
       "prompt_number": 4,
       "text": [
        "<class 'pandas.core.frame.DataFrame'>\n",
        "Int64Index: 950968 entries, 0 to 950967\n",
        "Data columns (total 11 columns):\n",
        "parcel_id                950968  non-null values\n",
        "dist_bus                 950968  non-null values\n",
        "dist_rail                950968  non-null values\n",
        "in_ugb                   950968  non-null values\n",
        "in_uga                   950968  non-null values\n",
        "env_constr_park          950968  non-null values\n",
        "env_constr_lake          950968  non-null values\n",
        "env_constr_floodplain    950968  non-null values\n",
        "env_constr_river         950968  non-null values\n",
        "env_constr_landslide     950968  non-null values\n",
        "far_id                   949376  non-null values\n",
        "dtypes: float64(6), int64(5)"
       ]
      }
     ],
     "prompt_number": 4
    },
    {
     "cell_type": "code",
     "collapsed": false,
     "input": [
      "import pandas as pd\n",
      "parcels = pd.merge(parcels1,parcels2,left_on='parcel_id',right_on='parcel_id')"
     ],
     "language": "python",
     "metadata": {},
     "outputs": [],
     "prompt_number": 5
    },
    {
     "cell_type": "code",
     "collapsed": false,
     "input": [
      "parcels.far_id = parcels.far_id.fillna(0)"
     ],
     "language": "python",
     "metadata": {},
     "outputs": [],
     "prompt_number": 6
    },
    {
     "cell_type": "code",
     "collapsed": false,
     "input": [
      "parcels['prop_constrained'] = parcels.env_constr_park + parcels.env_constr_lake + parcels.env_constr_floodplain + parcels.env_constr_river + parcels.env_constr_landslide"
     ],
     "language": "python",
     "metadata": {},
     "outputs": [],
     "prompt_number": 7
    },
    {
     "cell_type": "code",
     "collapsed": false,
     "input": [
      "parcels.prop_constrained[parcels.prop_constrained>1.0] = 1.0"
     ],
     "language": "python",
     "metadata": {},
     "outputs": [],
     "prompt_number": 8
    },
    {
     "cell_type": "code",
     "collapsed": false,
     "input": [
      "import numpy as np\n",
      "np.unique(parcels.zone_id)"
     ],
     "language": "python",
     "metadata": {},
     "outputs": [
      {
       "metadata": {},
       "output_type": "pyout",
       "prompt_number": 9,
       "text": [
        "88240      1\n",
        "88595      2\n",
        "88727      3\n",
        "93445      4\n",
        "94051      5\n",
        "93046      6\n",
        "78418      7\n",
        "149567     8\n",
        "79607      9\n",
        "100882    10\n",
        "99333     11\n",
        "98762     12\n",
        "106139    13\n",
        "89451     14\n",
        "106657    15\n",
        "...\n",
        "696695    2790\n",
        "672868    2791\n",
        "694409    2792\n",
        "696230    2793\n",
        "662713    2794\n",
        "685050    2795\n",
        "686915    2796\n",
        "663273    2797\n",
        "674536    2798\n",
        "664698    2799\n",
        "690652    2800\n",
        "678826    2801\n",
        "678621    2802\n",
        "669819    2803\n",
        "680824    2804\n",
        "Name: zone_id, Length: 2797, dtype: int64"
       ]
      }
     ],
     "prompt_number": 9
    },
    {
     "cell_type": "code",
     "collapsed": false,
     "input": [
      "# store = pd.HDFStore('c:\\\\urbansim\\\\data\\\\drcog.h5')\n",
      "# store['parcels'] = parcels\n",
      "# store.close()"
     ],
     "language": "python",
     "metadata": {},
     "outputs": [],
     "prompt_number": 10
    },
    {
     "cell_type": "code",
     "collapsed": false,
     "input": [
      "buildings"
     ],
     "language": "python",
     "metadata": {},
     "outputs": [
      {
       "html": [
        "<pre>\n",
        "&lt;class 'pandas.core.frame.DataFrame'&gt;\n",
        "Int64Index: 881751 entries, 0 to 881750\n",
        "Data columns (total 14 columns):\n",
        "building_id             881751  non-null values\n",
        "building_type_id        881751  non-null values\n",
        "improvement_value       881751  non-null values\n",
        "land_area               881751  non-null values\n",
        "non_residential_sqft    881751  non-null values\n",
        "parcel_id               881751  non-null values\n",
        "residential_units       881751  non-null values\n",
        "sqft_per_unit           881751  non-null values\n",
        "stories                 881751  non-null values\n",
        "tax_exempt              881751  non-null values\n",
        "year_built              881751  non-null values\n",
        "building_quality_id     881751  non-null values\n",
        "srcparc_id              881751  non-null values\n",
        "bldg_sq_ft              881751  non-null values\n",
        "dtypes: int64(13), object(1)\n",
        "</pre>"
       ],
       "metadata": {},
       "output_type": "pyout",
       "prompt_number": 11,
       "text": [
        "<class 'pandas.core.frame.DataFrame'>\n",
        "Int64Index: 881751 entries, 0 to 881750\n",
        "Data columns (total 14 columns):\n",
        "building_id             881751  non-null values\n",
        "building_type_id        881751  non-null values\n",
        "improvement_value       881751  non-null values\n",
        "land_area               881751  non-null values\n",
        "non_residential_sqft    881751  non-null values\n",
        "parcel_id               881751  non-null values\n",
        "residential_units       881751  non-null values\n",
        "sqft_per_unit           881751  non-null values\n",
        "stories                 881751  non-null values\n",
        "tax_exempt              881751  non-null values\n",
        "year_built              881751  non-null values\n",
        "building_quality_id     881751  non-null values\n",
        "srcparc_id              881751  non-null values\n",
        "bldg_sq_ft              881751  non-null values\n",
        "dtypes: int64(13), object(1)"
       ]
      }
     ],
     "prompt_number": 11
    },
    {
     "cell_type": "code",
     "collapsed": false,
     "input": [
      "parcels"
     ],
     "language": "python",
     "metadata": {},
     "outputs": [
      {
       "html": [
        "<pre>\n",
        "&lt;class 'pandas.core.frame.DataFrame'&gt;\n",
        "Int64Index: 949484 entries, 0 to 949483\n",
        "Data columns (total 22 columns):\n",
        "parcel_id                949484  non-null values\n",
        "county_id                949484  non-null values\n",
        "parcel_sqft              949484  non-null values\n",
        "land_value               949484  non-null values\n",
        "zone_id                  949484  non-null values\n",
        "lu_type_id               949484  non-null values\n",
        "centroid_x               949484  non-null values\n",
        "centroid_y               949484  non-null values\n",
        "tax_exempt_flag          949484  non-null values\n",
        "school_district          949484  non-null values\n",
        "zoning_id                949484  non-null values\n",
        "dist_bus                 949484  non-null values\n",
        "dist_rail                949484  non-null values\n",
        "in_ugb                   949484  non-null values\n",
        "in_uga                   949484  non-null values\n",
        "env_constr_park          949484  non-null values\n",
        "env_constr_lake          949484  non-null values\n",
        "env_constr_floodplain    949484  non-null values\n",
        "env_constr_river         949484  non-null values\n",
        "env_constr_landslide     949484  non-null values\n",
        "far_id                   949484  non-null values\n",
        "prop_constrained         949484  non-null values\n",
        "dtypes: float64(7), int64(15)\n",
        "</pre>"
       ],
       "metadata": {},
       "output_type": "pyout",
       "prompt_number": 12,
       "text": [
        "<class 'pandas.core.frame.DataFrame'>\n",
        "Int64Index: 949484 entries, 0 to 949483\n",
        "Data columns (total 22 columns):\n",
        "parcel_id                949484  non-null values\n",
        "county_id                949484  non-null values\n",
        "parcel_sqft              949484  non-null values\n",
        "land_value               949484  non-null values\n",
        "zone_id                  949484  non-null values\n",
        "lu_type_id               949484  non-null values\n",
        "centroid_x               949484  non-null values\n",
        "centroid_y               949484  non-null values\n",
        "tax_exempt_flag          949484  non-null values\n",
        "school_district          949484  non-null values\n",
        "zoning_id                949484  non-null values\n",
        "dist_bus                 949484  non-null values\n",
        "dist_rail                949484  non-null values\n",
        "in_ugb                   949484  non-null values\n",
        "in_uga                   949484  non-null values\n",
        "env_constr_park          949484  non-null values\n",
        "env_constr_lake          949484  non-null values\n",
        "env_constr_floodplain    949484  non-null values\n",
        "env_constr_river         949484  non-null values\n",
        "env_constr_landslide     949484  non-null values\n",
        "far_id                   949484  non-null values\n",
        "prop_constrained         949484  non-null values\n",
        "dtypes: float64(7), int64(15)"
       ]
      }
     ],
     "prompt_number": 12
    },
    {
     "cell_type": "code",
     "collapsed": false,
     "input": [
      "bp = pd.merge(buildings,parcels,left_on='parcel_id',right_on='parcel_id')"
     ],
     "language": "python",
     "metadata": {},
     "outputs": [],
     "prompt_number": 13
    },
    {
     "cell_type": "code",
     "collapsed": false,
     "input": [
      "bp"
     ],
     "language": "python",
     "metadata": {},
     "outputs": [
      {
       "html": [
        "<pre>\n",
        "&lt;class 'pandas.core.frame.DataFrame'&gt;\n",
        "Int64Index: 881750 entries, 0 to 881749\n",
        "Data columns (total 35 columns):\n",
        "building_id              881750  non-null values\n",
        "building_type_id         881750  non-null values\n",
        "improvement_value        881750  non-null values\n",
        "land_area                881750  non-null values\n",
        "non_residential_sqft     881750  non-null values\n",
        "parcel_id                881750  non-null values\n",
        "residential_units        881750  non-null values\n",
        "sqft_per_unit            881750  non-null values\n",
        "stories                  881750  non-null values\n",
        "tax_exempt               881750  non-null values\n",
        "year_built               881750  non-null values\n",
        "building_quality_id      881750  non-null values\n",
        "srcparc_id               881750  non-null values\n",
        "bldg_sq_ft               881750  non-null values\n",
        "county_id                881750  non-null values\n",
        "parcel_sqft              881750  non-null values\n",
        "land_value               881750  non-null values\n",
        "zone_id                  881750  non-null values\n",
        "lu_type_id               881750  non-null values\n",
        "centroid_x               881750  non-null values\n",
        "centroid_y               881750  non-null values\n",
        "tax_exempt_flag          881750  non-null values\n",
        "school_district          881750  non-null values\n",
        "zoning_id                881750  non-null values\n",
        "dist_bus                 881750  non-null values\n",
        "dist_rail                881750  non-null values\n",
        "in_ugb                   881750  non-null values\n",
        "in_uga                   881750  non-null values\n",
        "env_constr_park          881750  non-null values\n",
        "env_constr_lake          881750  non-null values\n",
        "env_constr_floodplain    881750  non-null values\n",
        "env_constr_river         881750  non-null values\n",
        "env_constr_landslide     881750  non-null values\n",
        "far_id                   881750  non-null values\n",
        "prop_constrained         881750  non-null values\n",
        "dtypes: float64(7), int64(27), object(1)\n",
        "</pre>"
       ],
       "metadata": {},
       "output_type": "pyout",
       "prompt_number": 14,
       "text": [
        "<class 'pandas.core.frame.DataFrame'>\n",
        "Int64Index: 881750 entries, 0 to 881749\n",
        "Data columns (total 35 columns):\n",
        "building_id              881750  non-null values\n",
        "building_type_id         881750  non-null values\n",
        "improvement_value        881750  non-null values\n",
        "land_area                881750  non-null values\n",
        "non_residential_sqft     881750  non-null values\n",
        "parcel_id                881750  non-null values\n",
        "residential_units        881750  non-null values\n",
        "sqft_per_unit            881750  non-null values\n",
        "stories                  881750  non-null values\n",
        "tax_exempt               881750  non-null values\n",
        "year_built               881750  non-null values\n",
        "building_quality_id      881750  non-null values\n",
        "srcparc_id               881750  non-null values\n",
        "bldg_sq_ft               881750  non-null values\n",
        "county_id                881750  non-null values\n",
        "parcel_sqft              881750  non-null values\n",
        "land_value               881750  non-null values\n",
        "zone_id                  881750  non-null values\n",
        "lu_type_id               881750  non-null values\n",
        "centroid_x               881750  non-null values\n",
        "centroid_y               881750  non-null values\n",
        "tax_exempt_flag          881750  non-null values\n",
        "school_district          881750  non-null values\n",
        "zoning_id                881750  non-null values\n",
        "dist_bus                 881750  non-null values\n",
        "dist_rail                881750  non-null values\n",
        "in_ugb                   881750  non-null values\n",
        "in_uga                   881750  non-null values\n",
        "env_constr_park          881750  non-null values\n",
        "env_constr_lake          881750  non-null values\n",
        "env_constr_floodplain    881750  non-null values\n",
        "env_constr_river         881750  non-null values\n",
        "env_constr_landslide     881750  non-null values\n",
        "far_id                   881750  non-null values\n",
        "prop_constrained         881750  non-null values\n",
        "dtypes: float64(7), int64(27), object(1)"
       ]
      }
     ],
     "prompt_number": 14
    }
   ],
   "metadata": {}
  }
 ]
}