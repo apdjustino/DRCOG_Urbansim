{
 "worksheets": [
  {
   "cells": [
    {
     "cell_type": "code",
     "execution_count": null,
     "metadata": {},
     "outputs": [
      {
       "output_type": "stream",
       "stream": "stdout",
       "text": [
        "Fetching parcels\n",
        "Fetching modify_table"
       ]
      },
      {
       "output_type": "stream",
       "stream": "stdout",
       "text": [
        "\n",
        "Fetching buildings"
       ]
      },
      {
       "output_type": "stream",
       "stream": "stdout",
       "text": [
        "\n",
        "Fetching establishments"
       ]
      },
      {
       "output_type": "stream",
       "stream": "stdout",
       "text": [
        "\n",
        "Fetching modify_table"
       ]
      },
      {
       "output_type": "stream",
       "stream": "stdout",
       "text": [
        "\n",
        "Fetching modify_table"
       ]
      },
      {
       "output_type": "stream",
       "stream": "stdout",
       "text": [
        "\n",
        "Fetching households_for_estimation"
       ]
      },
      {
       "output_type": "stream",
       "stream": "stdout",
       "text": [
        "\n",
        "Fetching modify_table\n",
        "Fetching households\n",
        "Fetching modify_table"
       ]
      },
      {
       "output_type": "stream",
       "stream": "stdout",
       "text": [
        "\n",
        "Fetching zones"
       ]
      },
      {
       "output_type": "stream",
       "stream": "stdout",
       "text": [
        "\n",
        "Fetching modify_table\n",
        "Fetching travel_data"
       ]
      },
      {
       "output_type": "stream",
       "stream": "stdout",
       "text": [
        "\n",
        "Fetching modify_table"
       ]
      },
      {
       "output_type": "stream",
       "stream": "stdout",
       "text": [
        "\n",
        "Fetching parcel_coords"
       ]
      },
      {
       "output_type": "stream",
       "stream": "stdout",
       "text": [
        "\n",
        "Fetching modify_table"
       ]
      },
      {
       "output_type": "stream",
       "stream": "stdout",
       "text": [
        "\n"
       ]
      }
     ],
     "input": [
      "import numpy as np, pandas as pd, os\n",
      "from synthicity.utils import misc\n",
      "from drcog.models import regression_model_estimation, choice_model_estimation, dataset\n",
      "dset = dataset.DRCOGDataset(os.path.join(misc.data_dir(),'drcog.h5'))\n",
      "np.random.seed(1)\n",
      "\n",
      "##Variable Library\n",
      "from drcog.variables import variable_library\n",
      "variable_library.calculate_variables(dset)\n",
      "\n",
      "buildings = dset.fetch('buildings')[['building_type_id','improvement_value','land_area','non_residential_sqft','parcel_id','residential_units','sqft_per_unit','stories','tax_exempt','year_built','bldg_sq_ft','unit_price_non_residential','unit_price_residential','building_sqft_per_job','non_residential_units','base_year_jobs','all_units']]\n",
      "establishments = dset.fetch('establishments')\n",
      "del establishments['zone_id']\n",
      "del establishments['county_id']\n",
      "households = dset.fetch('households')\n",
      "del households['zone_id']\n",
      "del households['county_id']\n",
      "parcels = dset.fetch('parcels')\n",
      "parcels_urbancen = dset.store.parcels_urbancen.set_index('parcel_id')\n",
      "parcels['urbancenter_id'] = parcels_urbancen.urban_cen\n",
      "zones = dset.fetch('zones')\n",
      "pz = pd.merge(parcels.reset_index(),zones,left_on='zone_id',right_index=True,how='left')\n",
      "pz = pz.set_index('parcel_id')\n",
      "bpz = pd.merge(buildings,pz,left_on='parcel_id',right_index=True)\n",
      "\n",
      "##Merge buildings and parcels\n",
      "buildings = pd.merge(buildings,parcels,left_on='parcel_id',right_index=True)\n",
      "\n",
      "##Merge households with bulidings/parcels\n",
      "households = pd.merge(households,buildings,left_on='building_id',right_index=True)\n",
      "\n",
      "##Merge establishments with bulidings/parcels\n",
      "establishments = pd.merge(establishments,buildings,left_on='building_id',right_index=True)\n",
      "\n",
      "#####Export household points\n",
      "hh = households[['building_id']].reset_index()\n",
      "hh['parcel_id'] = bpz.parcel_id[hh.building_id].values\n",
      "hh['urbancenter_id'] = bpz.urbancenter_id[hh.building_id].values\n",
      "hh['x'] = bpz.x[hh.building_id].values.astype('int64')\n",
      "hh['y'] = bpz.y[hh.building_id].values.astype('int64')\n",
      "hh['taz05_id'] = bpz.external_zone_id[hh.building_id].values\n",
      "hh['dist_trans'] = np.minimum(bpz.dist_rail[hh.building_id].values, bpz.dist_bus[hh.building_id].values)/5280.0\n",
      "big_parcels = parcels.index.values[parcels.parcel_sqft>= 435600]\n",
      "big_parcel_ids_with_hh = np.unique(hh.parcel_id[np.in1d(hh.parcel_id,big_parcels)].values)\n",
      "parcel_coords = dset.parcel_coords\n",
      "parcel_coords.x = parcel_coords.x.astype('int64')\n",
      "parcel_coords.y = parcel_coords.y.astype('int64')\n",
      "for parcel_id in big_parcel_ids_with_hh:\n",
      "    idx_hh_on_parcel = np.in1d(hh.parcel_id,[parcel_id,])\n",
      "    coords = parcel_coords[parcel_coords.parcel_id==parcel_id]\n",
      "    idx_coord = np.random.choice(coords.index,size=idx_hh_on_parcel.sum(),replace=True)\n",
      "    x = coords.x.loc[idx_coord].values\n",
      "    y = coords.y.loc[idx_coord].values\n",
      "    hh.x[idx_hh_on_parcel] = x\n",
      "    hh.y[idx_hh_on_parcel] = y"
     ],
     "language": "python",
     "prompt_number": 1
    },
    {
     "cell_type": "code",
     "execution_count": null,
     "metadata": {},
     "outputs": [
      {
       "output_type": "pyout",
       "html": [
        "<div style=\"max-height:1000px;max-width:1500px;overflow:auto;\">\n",
        "<table border=\"1\" class=\"dataframe\">\n",
        "  <thead>\n",
        "    <tr style=\"text-align: right;\">\n",
        "      <th></th>\n",
        "      <th>household_id</th>\n",
        "      <th>building_id</th>\n",
        "      <th>parcel_id</th>\n",
        "      <th>x</th>\n",
        "      <th>y</th>\n",
        "      <th>taz05_id</th>\n",
        "      <th>dist_trans</th>\n",
        "    </tr>\n",
        "  </thead>\n",
        "  <tbody>\n",
        "    <tr>\n",
        "      <th>count</th>\n",
        "      <td> 1160869.000000</td>\n",
        "      <td> 1160869.000000</td>\n",
        "      <td> 1160869.000000</td>\n",
        "      <td> 1160869.000000</td>\n",
        "      <td> 1160869.000000</td>\n",
        "      <td> 1160869.000000</td>\n",
        "      <td> 1160869.000000</td>\n",
        "    </tr>\n",
        "    <tr>\n",
        "      <th>mean</th>\n",
        "      <td>  580435.179291</td>\n",
        "      <td>  473059.299294</td>\n",
        "      <td>    1468.339839</td>\n",
        "      <td> 3145353.709304</td>\n",
        "      <td> 1699498.501644</td>\n",
        "      <td>     245.442482</td>\n",
        "      <td>       0.931423</td>\n",
        "    </tr>\n",
        "    <tr>\n",
        "      <th>std</th>\n",
        "      <td>  335114.414025</td>\n",
        "      <td>  294924.760137</td>\n",
        "      <td>  314365.345610</td>\n",
        "      <td>   45183.335625</td>\n",
        "      <td>   62198.538595</td>\n",
        "      <td>  170944.540782</td>\n",
        "      <td>       2.704356</td>\n",
        "    </tr>\n",
        "    <tr>\n",
        "      <th>min</th>\n",
        "      <td>       1.000000</td>\n",
        "      <td>       1.000000</td>\n",
        "      <td>       1.000000</td>\n",
        "      <td> 2890124.000000</td>\n",
        "      <td> 1472247.000000</td>\n",
        "      <td>  101010.000000</td>\n",
        "      <td>       0.003409</td>\n",
        "    </tr>\n",
        "    <tr>\n",
        "      <th>25%</th>\n",
        "      <td>  290218.000000</td>\n",
        "      <td>  191967.000000</td>\n",
        "      <td>  238158.000000</td>\n",
        "      <td> 3116973.000000</td>\n",
        "      <td> 1661996.000000</td>\n",
        "      <td>  211200.000000</td>\n",
        "      <td>       0.097727</td>\n",
        "    </tr>\n",
        "    <tr>\n",
        "      <th>50%</th>\n",
        "      <td>  580435.000000</td>\n",
        "      <td>  466724.000000</td>\n",
        "      <td>  563020.000000</td>\n",
        "      <td> 3145512.000000</td>\n",
        "      <td> 1690691.000000</td>\n",
        "      <td>  404450.000000</td>\n",
        "      <td>       0.185227</td>\n",
        "    </tr>\n",
        "    <tr>\n",
        "      <th>75%</th>\n",
        "      <td>  870652.000000</td>\n",
        "      <td>  711175.000000</td>\n",
        "      <td>  776663.000000</td>\n",
        "      <td> 3173554.000000</td>\n",
        "      <td> 1735880.000000</td>\n",
        "      <td>  506240.000000</td>\n",
        "      <td>       0.412121</td>\n",
        "    </tr>\n",
        "    <tr>\n",
        "      <th>max</th>\n",
        "      <td> 1160870.000000</td>\n",
        "      <td> 1015771.000000</td>\n",
        "      <td> 1128921.000000</td>\n",
        "      <td> 3503103.000000</td>\n",
        "      <td> 1885594.000000</td>\n",
        "      <td>  803120.000000</td>\n",
        "      <td>      51.506818</td>\n",
        "    </tr>\n",
        "  </tbody>\n",
        "</table>\n",
        "</div>"
       ],
       "metadata": {}
      }
     ],
     "input": [
      "hh.describe()"
     ],
     "language": "python",
     "prompt_number": 2
    },
    {
     "cell_type": "code",
     "execution_count": null,
     "metadata": {},
     "outputs": [],
     "input": [
      "e = establishments.reset_index()\n",
      "for idx in e.index:\n",
      "    for job in range(e.employees[idx]):\n",
      "        bids.append(e.building_id[idx])\n",
      "        eids.append(e.index[idx])\n",
      "        hbs.append(e.home_based_status[idx])\n",
      "        sids.append(e.sector_id[idx])\n",
      "print len(bids)\n",
      "print len(eids)\n",
      "print len(hbs)\n",
      "print len(sids)\n",
      "jobs = pd.DataFrame({'job_id':range(1,len(bids)+1),'building_id':bids,'establishment_id':eids,'home_based_status':hbs,'sector_id':sids})\n",
      "jobs['parcel_id'] = bpz.parcel_id[jobs.building_id].values\n",
      "jobs['urbancenter_id'] = bpz.urbancenter_id[jobs.building_id].values\n",
      "jobs['x'] = bpz.centroid_x[jobs.building_id].values.astype('int64')\n",
      "jobs['y'] = bpz.centroid_y[jobs.building_id].values.astype('int64')\n",
      "big_parcel_ids_with_jobs = np.unique(jobs.parcel_id[np.in1d(jobs.parcel_id,big_parcels)].values)\n",
      "for parcel_id in big_parcel_ids_with_jobs:\n",
      "    idx_jobs_on_parcel = np.in1d(jobs.parcel_id,[parcel_id,])\n",
      "    coords = parcel_coords[parcel_coords.parcel_id==parcel_id]\n",
      "    idx_coord = np.random.choice(coords.index,size=idx_jobs_on_parcel.sum(),replace=True)\n",
      "    x = coords.x.loc[idx_coord].values\n",
      "    y = coords.y.loc[idx_coord].values\n",
      "    jobs.x[idx_jobs_on_parcel] = x\n",
      "    jobs.y[idx_jobs_on_parcel] = y"
     ],
     "language": "python"
    },
    {
     "cell_type": "code",
     "execution_count": null,
     "metadata": {},
     "outputs": [],
     "input": [
      "jobs.describe()"
     ],
     "language": "python"
    }
   ]
  }
 ],
 "cells": [],
 "metadata": {
  "name": ""
 },
 "nbformat": 3,
 "nbformat_minor": 0
}