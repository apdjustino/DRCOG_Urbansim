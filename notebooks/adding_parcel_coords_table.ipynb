{
 "metadata": {
  "name": ""
 },
 "nbformat": 3,
 "nbformat_minor": 0,
 "worksheets": [
  {
   "cells": [
    {
     "cell_type": "code",
     "collapsed": false,
     "input": [
      "import numpy as np, pandas as pd, os"
     ],
     "language": "python",
     "metadata": {},
     "outputs": [],
     "prompt_number": 1
    },
    {
     "cell_type": "code",
     "collapsed": false,
     "input": [
      "import psycopg2\n",
      "import pandas.io.sql as sql\n",
      "conn_string = \"host='localhost' port=5432 dbname='drcog_backup' user='postgres' password='postgres'\"\n",
      "conn = psycopg2.connect(conn_string)\n",
      "cur = conn.cursor()\n",
      "parcel_coords = sql.read_frame('select * from parcel_coords',conn)"
     ],
     "language": "python",
     "metadata": {},
     "outputs": [],
     "prompt_number": 2
    },
    {
     "cell_type": "code",
     "collapsed": false,
     "input": [
      "parcel_coords.tail()"
     ],
     "language": "python",
     "metadata": {},
     "outputs": [
      {
       "html": [
        "<div style=\"max-height:1000px;max-width:1500px;overflow:auto;\">\n",
        "<table border=\"1\" class=\"dataframe\">\n",
        "  <thead>\n",
        "    <tr style=\"text-align: right;\">\n",
        "      <th></th>\n",
        "      <th>parcel_id</th>\n",
        "      <th>x</th>\n",
        "      <th>y</th>\n",
        "    </tr>\n",
        "  </thead>\n",
        "  <tbody>\n",
        "    <tr>\n",
        "      <th>3162507</th>\n",
        "      <td> 528782</td>\n",
        "      <td> 3196638</td>\n",
        "      <td> 1710424</td>\n",
        "    </tr>\n",
        "    <tr>\n",
        "      <th>3162508</th>\n",
        "      <td> 528782</td>\n",
        "      <td> 3197942</td>\n",
        "      <td> 1710724</td>\n",
        "    </tr>\n",
        "    <tr>\n",
        "      <th>3162509</th>\n",
        "      <td> 528782</td>\n",
        "      <td> 3197549</td>\n",
        "      <td> 1710087</td>\n",
        "    </tr>\n",
        "    <tr>\n",
        "      <th>3162510</th>\n",
        "      <td> 528782</td>\n",
        "      <td> 3196717</td>\n",
        "      <td> 1710411</td>\n",
        "    </tr>\n",
        "    <tr>\n",
        "      <th>3162511</th>\n",
        "      <td> 528782</td>\n",
        "      <td> 3197585</td>\n",
        "      <td> 1710767</td>\n",
        "    </tr>\n",
        "  </tbody>\n",
        "</table>\n",
        "</div>"
       ],
       "metadata": {},
       "output_type": "pyout",
       "prompt_number": 3,
       "text": [
        "         parcel_id        x        y\n",
        "3162507     528782  3196638  1710424\n",
        "3162508     528782  3197942  1710724\n",
        "3162509     528782  3197549  1710087\n",
        "3162510     528782  3196717  1710411\n",
        "3162511     528782  3197585  1710767"
       ]
      }
     ],
     "prompt_number": 3
    },
    {
     "cell_type": "code",
     "collapsed": false,
     "input": [
      "store = pd.HDFStore('c:\\\\urbansim\\\\data\\\\drcog.h5')"
     ],
     "language": "python",
     "metadata": {},
     "outputs": [],
     "prompt_number": 4
    },
    {
     "cell_type": "code",
     "collapsed": false,
     "input": [
      "store['parcel_coords'] = parcel_coords"
     ],
     "language": "python",
     "metadata": {},
     "outputs": [],
     "prompt_number": 5
    },
    {
     "cell_type": "code",
     "collapsed": false,
     "input": [
      "store.close()"
     ],
     "language": "python",
     "metadata": {},
     "outputs": [],
     "prompt_number": 6
    }
   ],
   "metadata": {}
  }
 ]
}