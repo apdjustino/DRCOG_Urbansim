{
 "metadata": {
  "name": ""
 },
 "nbformat": 3,
 "nbformat_minor": 0,
 "worksheets": [
  {
   "cells": [
    {
     "cell_type": "code",
     "collapsed": false,
     "input": [
      "import numpy as np, pandas as pd, os"
     ],
     "language": "python",
     "metadata": {},
     "outputs": [],
     "prompt_number": 5
    },
    {
     "cell_type": "code",
     "collapsed": false,
     "input": [
      "import psycopg2\n",
      "import pandas.io.sql as sql\n",
      "conn_string = \"host='localhost' port=5432 dbname='drcog' user='postgres' password='postgres'\"\n",
      "conn = psycopg2.connect(conn_string)\n",
      "cur = conn.cursor()\n",
      "parcel_coords = sql.read_frame('select * from parcel_coords',conn)"
     ],
     "language": "python",
     "metadata": {},
     "outputs": [],
     "prompt_number": 1
    },
    {
     "cell_type": "code",
     "collapsed": false,
     "input": [
      "parcel_coords.tail()"
     ],
     "language": "python",
     "metadata": {},
     "outputs": [
      {
       "html": [
        "<div style=\"max-height:1000px;max-width:1500px;overflow:auto;\">\n",
        "<table border=\"1\" class=\"dataframe\">\n",
        "  <thead>\n",
        "    <tr style=\"text-align: right;\">\n",
        "      <th></th>\n",
        "      <th>parcel_id</th>\n",
        "      <th>x</th>\n",
        "      <th>y</th>\n",
        "    </tr>\n",
        "  </thead>\n",
        "  <tbody>\n",
        "    <tr>\n",
        "      <th>3162507</th>\n",
        "      <td> 528782</td>\n",
        "      <td> 3198015</td>\n",
        "      <td> 1709653</td>\n",
        "    </tr>\n",
        "    <tr>\n",
        "      <th>3162508</th>\n",
        "      <td> 528782</td>\n",
        "      <td> 3197453</td>\n",
        "      <td> 1710509</td>\n",
        "    </tr>\n",
        "    <tr>\n",
        "      <th>3162509</th>\n",
        "      <td> 528782</td>\n",
        "      <td> 3197326</td>\n",
        "      <td> 1710639</td>\n",
        "    </tr>\n",
        "    <tr>\n",
        "      <th>3162510</th>\n",
        "      <td> 528782</td>\n",
        "      <td> 3196753</td>\n",
        "      <td> 1709861</td>\n",
        "    </tr>\n",
        "    <tr>\n",
        "      <th>3162511</th>\n",
        "      <td> 528782</td>\n",
        "      <td> 3197348</td>\n",
        "      <td> 1709829</td>\n",
        "    </tr>\n",
        "  </tbody>\n",
        "</table>\n",
        "</div>"
       ],
       "metadata": {},
       "output_type": "pyout",
       "prompt_number": 4,
       "text": [
        "         parcel_id        x        y\n",
        "3162507     528782  3198015  1709653\n",
        "3162508     528782  3197453  1710509\n",
        "3162509     528782  3197326  1710639\n",
        "3162510     528782  3196753  1709861\n",
        "3162511     528782  3197348  1709829"
       ]
      }
     ],
     "prompt_number": 4
    },
    {
     "cell_type": "code",
     "collapsed": false,
     "input": [
      "store = pd.HDFStore('c:\\\\urbansim\\\\data\\\\drcog.h5')"
     ],
     "language": "python",
     "metadata": {},
     "outputs": [],
     "prompt_number": 6
    },
    {
     "cell_type": "code",
     "collapsed": false,
     "input": [
      "store['parcel_coords'] = parcel_coords"
     ],
     "language": "python",
     "metadata": {},
     "outputs": [],
     "prompt_number": 7
    },
    {
     "cell_type": "code",
     "collapsed": false,
     "input": [
      "store.close()"
     ],
     "language": "python",
     "metadata": {},
     "outputs": [],
     "prompt_number": 8
    }
   ],
   "metadata": {}
  }
 ]
}