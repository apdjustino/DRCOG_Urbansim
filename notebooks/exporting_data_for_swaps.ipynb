{
 "metadata": {
  "name": ""
 },
 "nbformat": 3,
 "nbformat_minor": 0,
 "worksheets": [
  {
   "cells": [
    {
     "cell_type": "code",
     "collapsed": false,
     "input": [
      "import numpy as np, pandas as pd, os\n",
      "from synthicity.utils import misc\n",
      "from drcog.models import elcm_simulation, hlcm_simulation, regression_model_simulation, dataset\n",
      "dset = dataset.DRCOGDataset(os.path.join(misc.data_dir(),'drcog.h5'))\n",
      "\n",
      "#Variable Library\n",
      "from drcog.variables import variable_library\n",
      "variable_library.calculate_variables(dset)"
     ],
     "language": "python",
     "metadata": {},
     "outputs": [
      {
       "output_type": "stream",
       "stream": "stdout",
       "text": [
        "Fetching parcels\n",
        "Fetching modify_table"
       ]
      },
      {
       "output_type": "stream",
       "stream": "stdout",
       "text": [
        "\n",
        "Fetching buildings"
       ]
      },
      {
       "output_type": "stream",
       "stream": "stdout",
       "text": [
        "\n",
        "Fetching establishments"
       ]
      },
      {
       "output_type": "stream",
       "stream": "stdout",
       "text": [
        "\n",
        "Fetching modify_table"
       ]
      },
      {
       "output_type": "stream",
       "stream": "stdout",
       "text": [
        "\n",
        "Fetching modify_table"
       ]
      },
      {
       "output_type": "stream",
       "stream": "stdout",
       "text": [
        "\n",
        "Fetching households_for_estimation"
       ]
      },
      {
       "output_type": "stream",
       "stream": "stdout",
       "text": [
        "\n",
        "Fetching modify_table\n",
        "Fetching households\n",
        "Fetching modify_table\n",
        "Fetching zones"
       ]
      },
      {
       "output_type": "stream",
       "stream": "stdout",
       "text": [
        "\n",
        "Fetching modify_table\n",
        "Fetching travel_data"
       ]
      },
      {
       "output_type": "stream",
       "stream": "stdout",
       "text": [
        "\n",
        "Fetching modify_table"
       ]
      },
      {
       "output_type": "stream",
       "stream": "stdout",
       "text": [
        "\n"
       ]
      }
     ],
     "prompt_number": 1
    },
    {
     "cell_type": "code",
     "collapsed": false,
     "input": [
      "establishments = dset.establishments\n",
      "households = dset.households\n",
      "households_for_estimation = dset.households_for_estimation\n",
      "buildings = dset.buildings"
     ],
     "language": "python",
     "metadata": {},
     "outputs": [],
     "prompt_number": 2
    },
    {
     "cell_type": "code",
     "collapsed": false,
     "input": [
      "def export_uc(variable,name):\n",
      "    df = pd.DataFrame({'values':variable}, index=variable.index)\n",
      "    df = df[df.values>0]\n",
      "    df.to_csv('c://users//janowicz//desktop//%s.csv'%name)"
     ],
     "language": "python",
     "metadata": {},
     "outputs": [],
     "prompt_number": 17
    },
    {
     "cell_type": "code",
     "collapsed": false,
     "input": [
      "variable = buildings.groupby('parcel_id').non_residential_sqft.sum()\n",
      "export_uc(variable,'non_residential_sqft')"
     ],
     "language": "python",
     "metadata": {},
     "outputs": [],
     "prompt_number": 18
    },
    {
     "cell_type": "code",
     "collapsed": false,
     "input": [
      "variable = buildings.groupby('parcel_id').residential_units.sum()\n",
      "export_uc(variable,'residential_units')"
     ],
     "language": "python",
     "metadata": {},
     "outputs": [],
     "prompt_number": 19
    },
    {
     "cell_type": "code",
     "collapsed": false,
     "input": [
      "dset.travel_data.columns"
     ],
     "language": "python",
     "metadata": {},
     "outputs": [
      {
       "metadata": {},
       "output_type": "pyout",
       "prompt_number": 3,
       "text": [
        "Index([u'am_bike_to_work_travel_time', u'am_walk_time_in_minutes', u'am_biking_person_trips', u'am_pk_period_drive_alone_vehicle_trips', u'am_transit_person_trip_table', u'am_total_transit_time_walk', u'single_vehicle_to_work_travel_cost', u'am_single_vehicle_to_work_travel_time', u'am_walking_person_trips', u'gid'], dtype=object)"
       ]
      }
     ],
     "prompt_number": 3
    },
    {
     "cell_type": "code",
     "collapsed": false,
     "input": [
      "td = dset.travel_data\n",
      "td.am_single_vehicle_to_work_travel_time = td.am_single_vehicle_to_work_travel_time*2"
     ],
     "language": "python",
     "metadata": {},
     "outputs": [],
     "prompt_number": 5
    },
    {
     "cell_type": "code",
     "collapsed": false,
     "input": [
      "td.head()"
     ],
     "language": "python",
     "metadata": {},
     "outputs": [
      {
       "html": [
        "<div style=\"max-height:1000px;max-width:1500px;overflow:auto;\">\n",
        "<table border=\"1\" class=\"dataframe\">\n",
        "  <thead>\n",
        "    <tr style=\"text-align: right;\">\n",
        "      <th></th>\n",
        "      <th></th>\n",
        "      <th>am_bike_to_work_travel_time</th>\n",
        "      <th>am_walk_time_in_minutes</th>\n",
        "      <th>am_biking_person_trips</th>\n",
        "      <th>am_pk_period_drive_alone_vehicle_trips</th>\n",
        "      <th>am_transit_person_trip_table</th>\n",
        "      <th>am_total_transit_time_walk</th>\n",
        "      <th>single_vehicle_to_work_travel_cost</th>\n",
        "      <th>am_single_vehicle_to_work_travel_time</th>\n",
        "      <th>am_walking_person_trips</th>\n",
        "      <th>gid</th>\n",
        "    </tr>\n",
        "    <tr>\n",
        "      <th>from_zone_id</th>\n",
        "      <th>to_zone_id</th>\n",
        "      <th></th>\n",
        "      <th></th>\n",
        "      <th></th>\n",
        "      <th></th>\n",
        "      <th></th>\n",
        "      <th></th>\n",
        "      <th></th>\n",
        "      <th></th>\n",
        "      <th></th>\n",
        "      <th></th>\n",
        "    </tr>\n",
        "  </thead>\n",
        "  <tbody>\n",
        "    <tr>\n",
        "      <th>5 </th>\n",
        "      <th>90  </th>\n",
        "      <td> 180.679993</td>\n",
        "      <td>NaN</td>\n",
        "      <td>NaN</td>\n",
        "      <td> 0</td>\n",
        "      <td> 0</td>\n",
        "      <td>NaN</td>\n",
        "      <td>  5.32</td>\n",
        "      <td> 124.339996</td>\n",
        "      <td>NaN</td>\n",
        "      <td>  6626</td>\n",
        "    </tr>\n",
        "    <tr>\n",
        "      <th>6 </th>\n",
        "      <th>2558</th>\n",
        "      <td> 453.390015</td>\n",
        "      <td>NaN</td>\n",
        "      <td>NaN</td>\n",
        "      <td> 0</td>\n",
        "      <td> 0</td>\n",
        "      <td>NaN</td>\n",
        "      <td> 10.95</td>\n",
        "      <td> 203.419998</td>\n",
        "      <td>NaN</td>\n",
        "      <td> 11926</td>\n",
        "    </tr>\n",
        "    <tr>\n",
        "      <th>7 </th>\n",
        "      <th>762 </th>\n",
        "      <td> 337.440002</td>\n",
        "      <td>NaN</td>\n",
        "      <td>NaN</td>\n",
        "      <td> 0</td>\n",
        "      <td> 0</td>\n",
        "      <td>NaN</td>\n",
        "      <td>  7.79</td>\n",
        "      <td> 145.119995</td>\n",
        "      <td>NaN</td>\n",
        "      <td> 12962</td>\n",
        "    </tr>\n",
        "    <tr>\n",
        "      <th>10</th>\n",
        "      <th>2764</th>\n",
        "      <td> 247.100006</td>\n",
        "      <td>NaN</td>\n",
        "      <td>NaN</td>\n",
        "      <td> 0</td>\n",
        "      <td> 0</td>\n",
        "      <td>NaN</td>\n",
        "      <td>  6.49</td>\n",
        "      <td> 147.740005</td>\n",
        "      <td>NaN</td>\n",
        "      <td> 18996</td>\n",
        "    </tr>\n",
        "    <tr>\n",
        "      <th>11</th>\n",
        "      <th>2033</th>\n",
        "      <td> 317.130005</td>\n",
        "      <td>NaN</td>\n",
        "      <td>NaN</td>\n",
        "      <td> 0</td>\n",
        "      <td> 0</td>\n",
        "      <td>NaN</td>\n",
        "      <td>  8.86</td>\n",
        "      <td> 164.080002</td>\n",
        "      <td>NaN</td>\n",
        "      <td> 23958</td>\n",
        "    </tr>\n",
        "  </tbody>\n",
        "</table>\n",
        "</div>"
       ],
       "metadata": {},
       "output_type": "pyout",
       "prompt_number": 10,
       "text": [
        "                         am_bike_to_work_travel_time  am_walk_time_in_minutes  \\\n",
        "from_zone_id to_zone_id                                                         \n",
        "5            90                           180.679993                      NaN   \n",
        "6            2558                         453.390015                      NaN   \n",
        "7            762                          337.440002                      NaN   \n",
        "10           2764                         247.100006                      NaN   \n",
        "11           2033                         317.130005                      NaN   \n",
        "\n",
        "                         am_biking_person_trips  \\\n",
        "from_zone_id to_zone_id                           \n",
        "5            90                             NaN   \n",
        "6            2558                           NaN   \n",
        "7            762                            NaN   \n",
        "10           2764                           NaN   \n",
        "11           2033                           NaN   \n",
        "\n",
        "                         am_pk_period_drive_alone_vehicle_trips  \\\n",
        "from_zone_id to_zone_id                                           \n",
        "5            90                                               0   \n",
        "6            2558                                             0   \n",
        "7            762                                              0   \n",
        "10           2764                                             0   \n",
        "11           2033                                             0   \n",
        "\n",
        "                         am_transit_person_trip_table  \\\n",
        "from_zone_id to_zone_id                                 \n",
        "5            90                                     0   \n",
        "6            2558                                   0   \n",
        "7            762                                    0   \n",
        "10           2764                                   0   \n",
        "11           2033                                   0   \n",
        "\n",
        "                         am_total_transit_time_walk  \\\n",
        "from_zone_id to_zone_id                               \n",
        "5            90                                 NaN   \n",
        "6            2558                               NaN   \n",
        "7            762                                NaN   \n",
        "10           2764                               NaN   \n",
        "11           2033                               NaN   \n",
        "\n",
        "                         single_vehicle_to_work_travel_cost  \\\n",
        "from_zone_id to_zone_id                                       \n",
        "5            90                                        5.32   \n",
        "6            2558                                     10.95   \n",
        "7            762                                       7.79   \n",
        "10           2764                                      6.49   \n",
        "11           2033                                      8.86   \n",
        "\n",
        "                         am_single_vehicle_to_work_travel_time  \\\n",
        "from_zone_id to_zone_id                                          \n",
        "5            90                                     124.339996   \n",
        "6            2558                                   203.419998   \n",
        "7            762                                    145.119995   \n",
        "10           2764                                   147.740005   \n",
        "11           2033                                   164.080002   \n",
        "\n",
        "                         am_walking_person_trips    gid  \n",
        "from_zone_id to_zone_id                                  \n",
        "5            90                              NaN   6626  \n",
        "6            2558                            NaN  11926  \n",
        "7            762                             NaN  12962  \n",
        "10           2764                            NaN  18996  \n",
        "11           2033                            NaN  23958  "
       ]
      }
     ],
     "prompt_number": 10
    },
    {
     "cell_type": "code",
     "collapsed": false,
     "input": [
      "td.to_csv('C:\\\\urbansim\\\\data\\\\swap\\\\travel_data.csv')"
     ],
     "language": "python",
     "metadata": {},
     "outputs": [],
     "prompt_number": 8
    },
    {
     "cell_type": "code",
     "collapsed": false,
     "input": [
      "td2 = pd.read_csv('C:\\\\urbansim\\\\data\\\\swap\\\\travel_data.csv', index_col=['from_zone_id','to_zone_id'])"
     ],
     "language": "python",
     "metadata": {},
     "outputs": [],
     "prompt_number": 11
    },
    {
     "cell_type": "code",
     "collapsed": false,
     "input": [
      "td2.head()"
     ],
     "language": "python",
     "metadata": {},
     "outputs": [
      {
       "html": [
        "<div style=\"max-height:1000px;max-width:1500px;overflow:auto;\">\n",
        "<table border=\"1\" class=\"dataframe\">\n",
        "  <thead>\n",
        "    <tr style=\"text-align: right;\">\n",
        "      <th></th>\n",
        "      <th></th>\n",
        "      <th>am_bike_to_work_travel_time</th>\n",
        "      <th>am_walk_time_in_minutes</th>\n",
        "      <th>am_biking_person_trips</th>\n",
        "      <th>am_pk_period_drive_alone_vehicle_trips</th>\n",
        "      <th>am_transit_person_trip_table</th>\n",
        "      <th>am_total_transit_time_walk</th>\n",
        "      <th>single_vehicle_to_work_travel_cost</th>\n",
        "      <th>am_single_vehicle_to_work_travel_time</th>\n",
        "      <th>am_walking_person_trips</th>\n",
        "      <th>gid</th>\n",
        "    </tr>\n",
        "    <tr>\n",
        "      <th>from_zone_id</th>\n",
        "      <th>to_zone_id</th>\n",
        "      <th></th>\n",
        "      <th></th>\n",
        "      <th></th>\n",
        "      <th></th>\n",
        "      <th></th>\n",
        "      <th></th>\n",
        "      <th></th>\n",
        "      <th></th>\n",
        "      <th></th>\n",
        "      <th></th>\n",
        "    </tr>\n",
        "  </thead>\n",
        "  <tbody>\n",
        "    <tr>\n",
        "      <th>5 </th>\n",
        "      <th>90  </th>\n",
        "      <td> 180.679993</td>\n",
        "      <td>NaN</td>\n",
        "      <td>NaN</td>\n",
        "      <td> 0</td>\n",
        "      <td> 0</td>\n",
        "      <td>NaN</td>\n",
        "      <td>  5.32</td>\n",
        "      <td> 124.339996</td>\n",
        "      <td>NaN</td>\n",
        "      <td>  6626</td>\n",
        "    </tr>\n",
        "    <tr>\n",
        "      <th>6 </th>\n",
        "      <th>2558</th>\n",
        "      <td> 453.390015</td>\n",
        "      <td>NaN</td>\n",
        "      <td>NaN</td>\n",
        "      <td> 0</td>\n",
        "      <td> 0</td>\n",
        "      <td>NaN</td>\n",
        "      <td> 10.95</td>\n",
        "      <td> 203.419998</td>\n",
        "      <td>NaN</td>\n",
        "      <td> 11926</td>\n",
        "    </tr>\n",
        "    <tr>\n",
        "      <th>7 </th>\n",
        "      <th>762 </th>\n",
        "      <td> 337.440002</td>\n",
        "      <td>NaN</td>\n",
        "      <td>NaN</td>\n",
        "      <td> 0</td>\n",
        "      <td> 0</td>\n",
        "      <td>NaN</td>\n",
        "      <td>  7.79</td>\n",
        "      <td> 145.119995</td>\n",
        "      <td>NaN</td>\n",
        "      <td> 12962</td>\n",
        "    </tr>\n",
        "    <tr>\n",
        "      <th>10</th>\n",
        "      <th>2764</th>\n",
        "      <td> 247.100006</td>\n",
        "      <td>NaN</td>\n",
        "      <td>NaN</td>\n",
        "      <td> 0</td>\n",
        "      <td> 0</td>\n",
        "      <td>NaN</td>\n",
        "      <td>  6.49</td>\n",
        "      <td> 147.740005</td>\n",
        "      <td>NaN</td>\n",
        "      <td> 18996</td>\n",
        "    </tr>\n",
        "    <tr>\n",
        "      <th>11</th>\n",
        "      <th>2033</th>\n",
        "      <td> 317.130005</td>\n",
        "      <td>NaN</td>\n",
        "      <td>NaN</td>\n",
        "      <td> 0</td>\n",
        "      <td> 0</td>\n",
        "      <td>NaN</td>\n",
        "      <td>  8.86</td>\n",
        "      <td> 164.080002</td>\n",
        "      <td>NaN</td>\n",
        "      <td> 23958</td>\n",
        "    </tr>\n",
        "  </tbody>\n",
        "</table>\n",
        "</div>"
       ],
       "metadata": {},
       "output_type": "pyout",
       "prompt_number": 15,
       "text": [
        "                         am_bike_to_work_travel_time  am_walk_time_in_minutes  \\\n",
        "from_zone_id to_zone_id                                                         \n",
        "5            90                           180.679993                      NaN   \n",
        "6            2558                         453.390015                      NaN   \n",
        "7            762                          337.440002                      NaN   \n",
        "10           2764                         247.100006                      NaN   \n",
        "11           2033                         317.130005                      NaN   \n",
        "\n",
        "                         am_biking_person_trips  \\\n",
        "from_zone_id to_zone_id                           \n",
        "5            90                             NaN   \n",
        "6            2558                           NaN   \n",
        "7            762                            NaN   \n",
        "10           2764                           NaN   \n",
        "11           2033                           NaN   \n",
        "\n",
        "                         am_pk_period_drive_alone_vehicle_trips  \\\n",
        "from_zone_id to_zone_id                                           \n",
        "5            90                                               0   \n",
        "6            2558                                             0   \n",
        "7            762                                              0   \n",
        "10           2764                                             0   \n",
        "11           2033                                             0   \n",
        "\n",
        "                         am_transit_person_trip_table  \\\n",
        "from_zone_id to_zone_id                                 \n",
        "5            90                                     0   \n",
        "6            2558                                   0   \n",
        "7            762                                    0   \n",
        "10           2764                                   0   \n",
        "11           2033                                   0   \n",
        "\n",
        "                         am_total_transit_time_walk  \\\n",
        "from_zone_id to_zone_id                               \n",
        "5            90                                 NaN   \n",
        "6            2558                               NaN   \n",
        "7            762                                NaN   \n",
        "10           2764                               NaN   \n",
        "11           2033                               NaN   \n",
        "\n",
        "                         single_vehicle_to_work_travel_cost  \\\n",
        "from_zone_id to_zone_id                                       \n",
        "5            90                                        5.32   \n",
        "6            2558                                     10.95   \n",
        "7            762                                       7.79   \n",
        "10           2764                                      6.49   \n",
        "11           2033                                      8.86   \n",
        "\n",
        "                         am_single_vehicle_to_work_travel_time  \\\n",
        "from_zone_id to_zone_id                                          \n",
        "5            90                                     124.339996   \n",
        "6            2558                                   203.419998   \n",
        "7            762                                    145.119995   \n",
        "10           2764                                   147.740005   \n",
        "11           2033                                   164.080002   \n",
        "\n",
        "                         am_walking_person_trips    gid  \n",
        "from_zone_id to_zone_id                                  \n",
        "5            90                              NaN   6626  \n",
        "6            2558                            NaN  11926  \n",
        "7            762                             NaN  12962  \n",
        "10           2764                            NaN  18996  \n",
        "11           2033                            NaN  23958  "
       ]
      }
     ],
     "prompt_number": 15
    },
    {
     "cell_type": "code",
     "collapsed": false,
     "input": [
      "dist_rail = dset.parcels[['dist_rail']]"
     ],
     "language": "python",
     "metadata": {},
     "outputs": [],
     "prompt_number": 2
    },
    {
     "cell_type": "code",
     "collapsed": false,
     "input": [
      "dist_rail.to_csv('C:\\\\urbansim\\\\data\\\\swap\\\\parcel_dist_rail.csv')"
     ],
     "language": "python",
     "metadata": {},
     "outputs": [],
     "prompt_number": 5
    },
    {
     "cell_type": "code",
     "collapsed": false,
     "input": [
      "dist_rail.dist_rail.index.values.max()"
     ],
     "language": "python",
     "metadata": {},
     "outputs": [
      {
       "metadata": {},
       "output_type": "pyout",
       "prompt_number": 8,
       "text": [
        "1128935"
       ]
      }
     ],
     "prompt_number": 8
    },
    {
     "cell_type": "code",
     "collapsed": false,
     "input": [
      "if dset.parcels.index.name != 'parcel_id':\n",
      "    print 'yoyo'\n",
      "    dset.parcels = dset.parcels.set_index('parcel_id')"
     ],
     "language": "python",
     "metadata": {},
     "outputs": [
      {
       "output_type": "stream",
       "stream": "stdout",
       "text": [
        "yoyo\n"
       ]
      }
     ],
     "prompt_number": 22
    },
    {
     "cell_type": "code",
     "collapsed": false,
     "input": [
      "p2 = pd.read_csv('C:\\\\urbansim\\\\data\\\\swap\\\\parcel_dist_rail.csv', index_col=['parcel_id'])"
     ],
     "language": "python",
     "metadata": {},
     "outputs": [],
     "prompt_number": 10
    },
    {
     "cell_type": "code",
     "collapsed": false,
     "input": [
      "p2.dist_rail"
     ],
     "language": "python",
     "metadata": {},
     "outputs": [
      {
       "metadata": {},
       "output_type": "pyout",
       "prompt_number": 15,
       "text": [
        "parcel_id\n",
        "1120000      123324\n",
        "1120001      151541\n",
        "1120002      152660\n",
        "1120003       72416\n",
        "1120004       82803\n",
        "1120005      109602\n",
        "1120006      114092\n",
        "1120007       64585\n",
        "1120008       64683\n",
        "1120009       65086\n",
        "1120010       64487\n",
        "1120011       66009\n",
        "1120012       65978\n",
        "1120013       65898\n",
        "1120014       65948\n",
        "...\n",
        "612086         8194\n",
        "612087         8168\n",
        "612088         8140\n",
        "612089         8114\n",
        "612090         8088\n",
        "612091         8062\n",
        "612092         8023\n",
        "612093         8197\n",
        "612094         8218\n",
        "612095         8240\n",
        "612096         8264\n",
        "1062940      159529\n",
        "1078965      108407\n",
        "1085170      116760\n",
        "1078882      108734\n",
        "Name: dist_rail, Length: 949484, dtype: int64"
       ]
      }
     ],
     "prompt_number": 15
    },
    {
     "cell_type": "code",
     "collapsed": false,
     "input": [
      "dist_rail.di"
     ],
     "language": "python",
     "metadata": {},
     "outputs": [
      {
       "html": [
        "<pre>\n",
        "&lt;class 'pandas.core.frame.DataFrame'&gt;\n",
        "Int64Index: 949484 entries, 1120000 to 1078882\n",
        "Data columns (total 1 columns):\n",
        "dist_rail    949484  non-null values\n",
        "dtypes: int64(1)\n",
        "</pre>"
       ],
       "metadata": {},
       "output_type": "pyout",
       "prompt_number": 14,
       "text": [
        "<class 'pandas.core.frame.DataFrame'>\n",
        "Int64Index: 949484 entries, 1120000 to 1078882\n",
        "Data columns (total 1 columns):\n",
        "dist_rail    949484  non-null values\n",
        "dtypes: int64(1)"
       ]
      }
     ],
     "prompt_number": 14
    },
    {
     "cell_type": "code",
     "collapsed": false,
     "input": [
      "dset.parcels"
     ],
     "language": "python",
     "metadata": {},
     "outputs": [
      {
       "html": [
        "<pre>\n",
        "&lt;class 'pandas.core.frame.DataFrame'&gt;\n",
        "Int64Index: 949484 entries, 1120000 to 1078882\n",
        "Data columns (total 32 columns):\n",
        "county_id                       949484  non-null values\n",
        "parcel_sqft                     949484  non-null values\n",
        "land_value                      949484  non-null values\n",
        "zone_id                         949484  non-null values\n",
        "lu_type_id                      949484  non-null values\n",
        "centroid_x                      949484  non-null values\n",
        "centroid_y                      949484  non-null values\n",
        "tax_exempt_flag                 949484  non-null values\n",
        "school_district                 949484  non-null values\n",
        "zoning_id                       949484  non-null values\n",
        "dist_bus                        949484  non-null values\n",
        "dist_rail                       949484  non-null values\n",
        "in_ugb                          949484  non-null values\n",
        "in_uga                          949484  non-null values\n",
        "env_constr_park                 949484  non-null values\n",
        "env_constr_lake                 949484  non-null values\n",
        "env_constr_floodplain           949484  non-null values\n",
        "env_constr_river                949484  non-null values\n",
        "env_constr_landslide            949484  non-null values\n",
        "far_id                          949484  non-null values\n",
        "prop_constrained                949484  non-null values\n",
        "in_denver                       949484  non-null values\n",
        "ln_dist_rail                    949484  non-null values\n",
        "ln_dist_bus                     949484  non-null values\n",
        "ln_land_value                   949484  non-null values\n",
        "land_value_per_sqft             949484  non-null values\n",
        "rail_within_mile                949484  non-null values\n",
        "cherry_creek_school_district    949484  non-null values\n",
        "acres                           949484  non-null values\n",
        "ln_acres                        949484  non-null values\n",
        "nonres_far                      686965  non-null values\n",
        "ln_units_per_acre               686965  non-null values\n",
        "dtypes: float64(15), int32(3), int64(14)\n",
        "</pre>"
       ],
       "metadata": {},
       "output_type": "pyout",
       "prompt_number": 25,
       "text": [
        "<class 'pandas.core.frame.DataFrame'>\n",
        "Int64Index: 949484 entries, 1120000 to 1078882\n",
        "Data columns (total 32 columns):\n",
        "county_id                       949484  non-null values\n",
        "parcel_sqft                     949484  non-null values\n",
        "land_value                      949484  non-null values\n",
        "zone_id                         949484  non-null values\n",
        "lu_type_id                      949484  non-null values\n",
        "centroid_x                      949484  non-null values\n",
        "centroid_y                      949484  non-null values\n",
        "tax_exempt_flag                 949484  non-null values\n",
        "school_district                 949484  non-null values\n",
        "zoning_id                       949484  non-null values\n",
        "dist_bus                        949484  non-null values\n",
        "dist_rail                       949484  non-null values\n",
        "in_ugb                          949484  non-null values\n",
        "in_uga                          949484  non-null values\n",
        "env_constr_park                 949484  non-null values\n",
        "env_constr_lake                 949484  non-null values\n",
        "env_constr_floodplain           949484  non-null values\n",
        "env_constr_river                949484  non-null values\n",
        "env_constr_landslide            949484  non-null values\n",
        "far_id                          949484  non-null values\n",
        "prop_constrained                949484  non-null values\n",
        "in_denver                       949484  non-null values\n",
        "ln_dist_rail                    949484  non-null values\n",
        "ln_dist_bus                     949484  non-null values\n",
        "ln_land_value                   949484  non-null values\n",
        "land_value_per_sqft             949484  non-null values\n",
        "rail_within_mile                949484  non-null values\n",
        "cherry_creek_school_district    949484  non-null values\n",
        "acres                           949484  non-null values\n",
        "ln_acres                        949484  non-null values\n",
        "nonres_far                      686965  non-null values\n",
        "ln_units_per_acre               686965  non-null values\n",
        "dtypes: float64(15), int32(3), int64(14)"
       ]
      }
     ],
     "prompt_number": 25
    }
   ],
   "metadata": {}
  }
 ]
}