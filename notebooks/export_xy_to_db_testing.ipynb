{
 "metadata": {
  "name": ""
 },
 "nbformat": 3,
 "nbformat_minor": 0,
 "worksheets": [
  {
   "cells": [
    {
     "cell_type": "code",
     "collapsed": false,
     "input": [
      "import pandas as pd\n",
      "hh = pd.read_csv('c://urbansim//data//travel_model//2015//households2012.csv')\n",
      "jobs = pd.read_csv('c://urbansim//data//travel_model//2015//jobs2012.csv')"
     ],
     "language": "python",
     "metadata": {},
     "outputs": [],
     "prompt_number": 1
    },
    {
     "cell_type": "code",
     "collapsed": false,
     "input": [
      "hh.dtypes"
     ],
     "language": "python",
     "metadata": {},
     "outputs": [
      {
       "metadata": {},
       "output_type": "pyout",
       "prompt_number": 5,
       "text": [
        "tempid              int64\n",
        "parcel_id           int64\n",
        "urbancenter_id     object\n",
        "x                   int64\n",
        "y                   int64\n",
        "taz05_id            int64\n",
        "dist_trans        float64\n",
        "dtype: object"
       ]
      }
     ],
     "prompt_number": 5
    },
    {
     "cell_type": "code",
     "collapsed": false,
     "input": [
      "jobs.dtypes"
     ],
     "language": "python",
     "metadata": {},
     "outputs": [
      {
       "metadata": {},
       "output_type": "pyout",
       "prompt_number": 4,
       "text": [
        "tempid             int64\n",
        "parcel_id          int64\n",
        "urbancenter_id    object\n",
        "x                  int64\n",
        "y                  int64\n",
        "taz05_id           int64\n",
        "jobtypename       object\n",
        "dtype: object"
       ]
      }
     ],
     "prompt_number": 4
    },
    {
     "cell_type": "code",
     "collapsed": false,
     "input": [
      "import psycopg2\n",
      "import cStringIO"
     ],
     "language": "python",
     "metadata": {},
     "outputs": [],
     "prompt_number": 6
    },
    {
     "cell_type": "code",
     "collapsed": false,
     "input": [
      "conn_string = \"host='paris.urbansim.org' dbname='denver' user='drcog' password='M0untains#' port=5433\"\n",
      "conn = psycopg2.connect(conn_string)\n",
      "cursor = conn.cursor()"
     ],
     "language": "python",
     "metadata": {},
     "outputs": [],
     "prompt_number": 10
    },
    {
     "cell_type": "code",
     "collapsed": false,
     "input": [
      "cursor.execute(\"DROP TABLE IF EXISTS jobs_xy;\")\n",
      "conn.commit()\n",
      "\n",
      "cursor.execute(\"CREATE TABLE jobs_xy (tempid integer,parcel_id integer,urbancenter_id text,x integer,y integer,taz05_id integer,jobtypename text);\")\n",
      "conn.commit()\n",
      "\n",
      "output = cStringIO.StringIO()\n",
      "jobs.to_csv(output, sep='\\t', header=False, index=False)\n",
      "output.seek(0)\n",
      "cursor.copy_from(output, 'jobs_xy', columns =tuple(jobs.columns.values.tolist()))\n",
      "conn.commit()"
     ],
     "language": "python",
     "metadata": {},
     "outputs": [],
     "prompt_number": 11
    },
    {
     "cell_type": "code",
     "collapsed": false,
     "input": [
      "cursor.execute(\"DROP TABLE IF EXISTS hh_xy;\")\n",
      "conn.commit()\n",
      "\n",
      "cursor.execute(\"CREATE TABLE hh_xy (tempid integer,parcel_id integer,urbancenter_id text,x integer,y integer,taz05_id integer,dist_trans numeric);\")\n",
      "conn.commit()\n",
      "\n",
      "output = cStringIO.StringIO()\n",
      "hh.to_csv(output, sep='\\t', header=False, index=False)\n",
      "output.seek(0)\n",
      "cursor.copy_from(output, 'hh_xy', columns =tuple(hh.columns.values.tolist()))\n",
      "conn.commit()"
     ],
     "language": "python",
     "metadata": {},
     "outputs": [],
     "prompt_number": 12
    },
    {
     "cell_type": "code",
     "collapsed": false,
     "input": [],
     "language": "python",
     "metadata": {},
     "outputs": []
    }
   ],
   "metadata": {}
  }
 ]
}