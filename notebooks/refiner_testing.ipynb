{
 "metadata": {
  "name": ""
 },
 "nbformat": 3,
 "nbformat_minor": 0,
 "worksheets": [
  {
   "cells": [
    {
     "cell_type": "code",
     "collapsed": false,
     "input": [
      "import numpy as np, pandas as pd, os\n",
      "from synthicity.utils import misc\n",
      "from drcog.models import elcm_simulation, hlcm_simulation, regression_model_simulation, dataset\n",
      "dset = dataset.DRCOGDataset(os.path.join(misc.data_dir(),'drcog.h5'))\n",
      "np.random.seed(1)\n",
      "\n",
      "#Variable Library\n",
      "from drcog.variables import variable_library\n",
      "variable_library.calculate_variables(dset)\n",
      "b = dset.buildings\n",
      "e = dset.establishments\n",
      "hh = dset.households\n",
      "zone_refine = pd.read_csv(os.path.join(misc.data_dir(),'zone_demand_refine.csv'))"
     ],
     "language": "python",
     "metadata": {},
     "outputs": [
      {
       "output_type": "stream",
       "stream": "stdout",
       "text": [
        "Fetching parcels\n",
        "Fetching modify_table"
       ]
      },
      {
       "output_type": "stream",
       "stream": "stdout",
       "text": [
        "\n",
        "Fetching buildings"
       ]
      },
      {
       "output_type": "stream",
       "stream": "stdout",
       "text": [
        "\n",
        "Fetching establishments"
       ]
      },
      {
       "output_type": "stream",
       "stream": "stdout",
       "text": [
        "\n",
        "Fetching modify_table"
       ]
      },
      {
       "output_type": "stream",
       "stream": "stdout",
       "text": [
        "\n",
        "Fetching modify_table"
       ]
      },
      {
       "output_type": "stream",
       "stream": "stdout",
       "text": [
        "\n",
        "Fetching households_for_estimation"
       ]
      },
      {
       "output_type": "stream",
       "stream": "stdout",
       "text": [
        "\n",
        "Fetching modify_table\n",
        "Fetching households\n",
        "Fetching modify_table"
       ]
      },
      {
       "output_type": "stream",
       "stream": "stdout",
       "text": [
        "\n",
        "Fetching zones"
       ]
      },
      {
       "output_type": "stream",
       "stream": "stdout",
       "text": [
        "\n",
        "Fetching modify_table\n",
        "Fetching travel_data"
       ]
      },
      {
       "output_type": "stream",
       "stream": "stdout",
       "text": [
        "\n",
        "Fetching modify_table"
       ]
      },
      {
       "output_type": "stream",
       "stream": "stdout",
       "text": [
        "\n"
       ]
      }
     ],
     "prompt_number": 1
    },
    {
     "cell_type": "code",
     "collapsed": false,
     "input": [
      "b[np.in1d(b.zone_id,[1822,1853,1857,1845,1860,1846,1858,1848,1851])].groupby('zone_id').size()"
     ],
     "language": "python",
     "metadata": {},
     "outputs": [
      {
       "metadata": {},
       "output_type": "pyout",
       "prompt_number": 3,
       "text": [
        "zone_id\n",
        "1848        6\n",
        "1851       19\n",
        "1853       39\n",
        "1860        4\n",
        "dtype: int64"
       ]
      }
     ],
     "prompt_number": 3
    },
    {
     "cell_type": "code",
     "collapsed": false,
     "input": [
      "print (hh.zone_id==1656).sum()\n",
      "print (hh.zone_id==1874).sum()\n",
      "print (e.zone_id==1656).sum()\n",
      "print (e.zone_id==1874).sum()"
     ],
     "language": "python",
     "metadata": {},
     "outputs": [
      {
       "output_type": "stream",
       "stream": "stdout",
       "text": [
        "2634\n",
        "342\n",
        "398\n",
        "41\n"
       ]
      }
     ],
     "prompt_number": 26
    },
    {
     "cell_type": "code",
     "collapsed": false,
     "input": [
      "def relocate_agents(agents_joined,zone_id,number_of_agents):\n",
      "    agent_pool = agents_joined[agents_joined.zone_id!=zone_id]\n",
      "    shuffled_ids = agent_pool.index.values\n",
      "    np.random.shuffle(shuffled_ids)\n",
      "    agents_to_relocate = shuffled_ids[:number_of_agents]\n",
      "    idx_agents_to_relocate = np.in1d(agents_joined.index.values,agents_to_relocate)\n",
      "    try:\n",
      "        new_building_id = b[b.zone_id==zone_id].index.values[0]\n",
      "        agents_joined.building_id[idx_agents_to_relocate] = new_building_id\n",
      "    except:\n",
      "        print 'No buildings in specified zone.  Cannot place agents.'\n",
      "        \n",
      "def unplace_agents(agents_joined,zone_id,number_of_agents):\n",
      "    number_of_agents = -number_of_agents #flip the sign\n",
      "    agent_pool = agents_joined[agents_joined.zone_id==zone_id] ##Notice the equality instead of disequality\n",
      "    if len(agent_pool) > number_of_agents:\n",
      "        shuffled_ids = agent_pool.index.values\n",
      "        np.random.shuffle(shuffled_ids)\n",
      "        agents_to_relocate = shuffled_ids[:number_of_agents]\n",
      "        idx_agents_to_relocate = np.in1d(agents_joined.index.values,agents_to_relocate)\n",
      "        agents_joined.building_id[idx_agents_to_relocate] = -1 #unplace"
     ],
     "language": "python",
     "metadata": {},
     "outputs": [],
     "prompt_number": 2
    },
    {
     "cell_type": "code",
     "collapsed": false,
     "input": [
      "def relocate_estabs(agents_joined,zone_id,number_of_agents):\n",
      "    agent_pool = agents_joined[(agents_joined.zone_id!=zone_id)]\n",
      "    e_sample = agent_pool.reindex(np.random.permutation(agent_pool.index))\n",
      "    e_to_move = e_sample[np.cumsum(e_sample['employees'].values)<abs(number_of_agents+10)]\n",
      "    shuffled_ids = e_to_move.index.values\n",
      "    np.random.shuffle(shuffled_ids)\n",
      "    agents_to_relocate = shuffled_ids\n",
      "    idx_agents_to_relocate = np.in1d(agents_joined.index.values,agents_to_relocate)\n",
      "    try:\n",
      "        new_building_id = b[b.zone_id==zone_id].index.values[0]\n",
      "        agents_joined.building_id[idx_agents_to_relocate] = new_building_id\n",
      "    except:\n",
      "        print 'No buildings in specified zone.  Cannot place agents.'"
     ],
     "language": "python",
     "metadata": {},
     "outputs": [],
     "prompt_number": 3
    },
    {
     "cell_type": "code",
     "collapsed": false,
     "input": [
      "def unplace_estabs(agents_joined,zone_id,number_of_agents):\n",
      "    number_of_agents = -number_of_agents #flip the sign\n",
      "    agent_pool = agents_joined[agents_joined.zone_id==zone_id] ##Notice the equality instead of disequality\n",
      "    if agent_pool.employees.sum() > number_of_agents:\n",
      "        e_sample = agent_pool.reindex(np.random.permutation(agent_pool.index))\n",
      "        e_to_move = e_sample[np.cumsum(e_sample['employees'].values)<abs(number_of_agents)]\n",
      "        shuffled_ids = e_to_move.index.values\n",
      "        np.random.shuffle(shuffled_ids)\n",
      "        agents_to_relocate = shuffled_ids\n",
      "        idx_agents_to_relocate = np.in1d(agents_joined.index.values,agents_to_relocate)\n",
      "        agents_joined.building_id[idx_agents_to_relocate] = -1 #unplace"
     ],
     "language": "python",
     "metadata": {},
     "outputs": [],
     "prompt_number": 4
    },
    {
     "cell_type": "code",
     "collapsed": false,
     "input": [
      "current_year=2011\n",
      "for zone in zone_refine.zone_id.values:\n",
      "    idx_zone = (zone_refine.zone_id==zone)\n",
      "    hh_shift = zone_refine.annual_hh_shift[idx_zone].values[0]\n",
      "    emp_shift = zone_refine.annual_emp_shift[idx_zone].values[0]\n",
      "    if hh_shift > 0:\n",
      "        relocate_agents(hh,zone,hh_shift)\n",
      "    if emp_shift > 0:\n",
      "        relocate_estabs(e,zone,emp_shift)\n",
      "    if current_year < 2040:\n",
      "        if hh_shift < 0:\n",
      "            unplace_agents(hh,zone,hh_shift)\n",
      "        if emp_shift < 0:\n",
      "            unplace_agents(e,zone,emp_shift)"
     ],
     "language": "python",
     "metadata": {},
     "outputs": [],
     "prompt_number": 5
    },
    {
     "cell_type": "code",
     "collapsed": false,
     "input": [
      "variable_library.calculate_variables(dset)\n",
      "hh = dset.households\n",
      "e = dset.establishments\n",
      "print (hh.zone_id==1656).sum()\n",
      "print (hh.zone_id==1874).sum()\n",
      "print (e.zone_id==1656).sum()\n",
      "print (e.zone_id==1874).sum()"
     ],
     "language": "python",
     "metadata": {},
     "outputs": [
      {
       "output_type": "stream",
       "stream": "stdout",
       "text": [
        "2234\n",
        "400\n",
        "423\n",
        "21\n"
       ]
      }
     ],
     "prompt_number": 6
    },
    {
     "cell_type": "code",
     "collapsed": false,
     "input": [
      "zone_refine.head(50)"
     ],
     "language": "python",
     "metadata": {},
     "outputs": [
      {
       "html": [
        "<div style=\"max-height:1000px;max-width:1500px;overflow:auto;\">\n",
        "<table border=\"1\" class=\"dataframe\">\n",
        "  <thead>\n",
        "    <tr style=\"text-align: right;\">\n",
        "      <th></th>\n",
        "      <th>zone_id</th>\n",
        "      <th>annual_hh_shift</th>\n",
        "      <th>annual_emp_shift</th>\n",
        "    </tr>\n",
        "  </thead>\n",
        "  <tbody>\n",
        "    <tr>\n",
        "      <th>0 </th>\n",
        "      <td> 1656</td>\n",
        "      <td> 100</td>\n",
        "      <td> 100</td>\n",
        "    </tr>\n",
        "    <tr>\n",
        "      <th>1 </th>\n",
        "      <td> 1874</td>\n",
        "      <td> -20</td>\n",
        "      <td> -20</td>\n",
        "    </tr>\n",
        "    <tr>\n",
        "      <th>2 </th>\n",
        "      <td> 1875</td>\n",
        "      <td>   0</td>\n",
        "      <td>   0</td>\n",
        "    </tr>\n",
        "    <tr>\n",
        "      <th>3 </th>\n",
        "      <td> 1876</td>\n",
        "      <td>   0</td>\n",
        "      <td>   0</td>\n",
        "    </tr>\n",
        "    <tr>\n",
        "      <th>4 </th>\n",
        "      <td> 1877</td>\n",
        "      <td>   0</td>\n",
        "      <td>   0</td>\n",
        "    </tr>\n",
        "    <tr>\n",
        "      <th>5 </th>\n",
        "      <td> 1878</td>\n",
        "      <td>   0</td>\n",
        "      <td>   0</td>\n",
        "    </tr>\n",
        "    <tr>\n",
        "      <th>6 </th>\n",
        "      <td> 1879</td>\n",
        "      <td>   0</td>\n",
        "      <td>   0</td>\n",
        "    </tr>\n",
        "    <tr>\n",
        "      <th>7 </th>\n",
        "      <td> 1880</td>\n",
        "      <td>   0</td>\n",
        "      <td>   0</td>\n",
        "    </tr>\n",
        "    <tr>\n",
        "      <th>8 </th>\n",
        "      <td> 1881</td>\n",
        "      <td>   0</td>\n",
        "      <td>   0</td>\n",
        "    </tr>\n",
        "    <tr>\n",
        "      <th>9 </th>\n",
        "      <td> 1882</td>\n",
        "      <td>   0</td>\n",
        "      <td>   0</td>\n",
        "    </tr>\n",
        "    <tr>\n",
        "      <th>10</th>\n",
        "      <td> 2082</td>\n",
        "      <td>   0</td>\n",
        "      <td>   0</td>\n",
        "    </tr>\n",
        "    <tr>\n",
        "      <th>11</th>\n",
        "      <td> 2083</td>\n",
        "      <td>   0</td>\n",
        "      <td>   0</td>\n",
        "    </tr>\n",
        "    <tr>\n",
        "      <th>12</th>\n",
        "      <td> 2084</td>\n",
        "      <td>   0</td>\n",
        "      <td>   0</td>\n",
        "    </tr>\n",
        "    <tr>\n",
        "      <th>13</th>\n",
        "      <td> 2085</td>\n",
        "      <td>   0</td>\n",
        "      <td>   0</td>\n",
        "    </tr>\n",
        "    <tr>\n",
        "      <th>14</th>\n",
        "      <td> 2090</td>\n",
        "      <td>   0</td>\n",
        "      <td>   0</td>\n",
        "    </tr>\n",
        "    <tr>\n",
        "      <th>15</th>\n",
        "      <td>    2</td>\n",
        "      <td> 200</td>\n",
        "      <td> 200</td>\n",
        "    </tr>\n",
        "    <tr>\n",
        "      <th>16</th>\n",
        "      <td> 2091</td>\n",
        "      <td>   0</td>\n",
        "      <td>   0</td>\n",
        "    </tr>\n",
        "    <tr>\n",
        "      <th>17</th>\n",
        "      <td> 2092</td>\n",
        "      <td>   0</td>\n",
        "      <td>   0</td>\n",
        "    </tr>\n",
        "    <tr>\n",
        "      <th>18</th>\n",
        "      <td> 2093</td>\n",
        "      <td>   0</td>\n",
        "      <td>   0</td>\n",
        "    </tr>\n",
        "    <tr>\n",
        "      <th>19</th>\n",
        "      <td> 2094</td>\n",
        "      <td>   0</td>\n",
        "      <td>   0</td>\n",
        "    </tr>\n",
        "    <tr>\n",
        "      <th>20</th>\n",
        "      <td> 2095</td>\n",
        "      <td>   0</td>\n",
        "      <td>   0</td>\n",
        "    </tr>\n",
        "    <tr>\n",
        "      <th>21</th>\n",
        "      <td> 2096</td>\n",
        "      <td>   0</td>\n",
        "      <td>   0</td>\n",
        "    </tr>\n",
        "    <tr>\n",
        "      <th>22</th>\n",
        "      <td> 2097</td>\n",
        "      <td>   0</td>\n",
        "      <td>   0</td>\n",
        "    </tr>\n",
        "    <tr>\n",
        "      <th>23</th>\n",
        "      <td> 2098</td>\n",
        "      <td>   0</td>\n",
        "      <td>   0</td>\n",
        "    </tr>\n",
        "    <tr>\n",
        "      <th>24</th>\n",
        "      <td> 2099</td>\n",
        "      <td>   0</td>\n",
        "      <td>   0</td>\n",
        "    </tr>\n",
        "    <tr>\n",
        "      <th>25</th>\n",
        "      <td> 2100</td>\n",
        "      <td>   0</td>\n",
        "      <td>   0</td>\n",
        "    </tr>\n",
        "    <tr>\n",
        "      <th>26</th>\n",
        "      <td> 2101</td>\n",
        "      <td>   0</td>\n",
        "      <td>   0</td>\n",
        "    </tr>\n",
        "    <tr>\n",
        "      <th>27</th>\n",
        "      <td> 2102</td>\n",
        "      <td>   0</td>\n",
        "      <td>   0</td>\n",
        "    </tr>\n",
        "    <tr>\n",
        "      <th>28</th>\n",
        "      <td> 2111</td>\n",
        "      <td>   0</td>\n",
        "      <td>   0</td>\n",
        "    </tr>\n",
        "    <tr>\n",
        "      <th>29</th>\n",
        "      <td> 2112</td>\n",
        "      <td>   0</td>\n",
        "      <td>   0</td>\n",
        "    </tr>\n",
        "    <tr>\n",
        "      <th>30</th>\n",
        "      <td> 2173</td>\n",
        "      <td>   0</td>\n",
        "      <td>   0</td>\n",
        "    </tr>\n",
        "    <tr>\n",
        "      <th>31</th>\n",
        "      <td> 2174</td>\n",
        "      <td>   0</td>\n",
        "      <td>   0</td>\n",
        "    </tr>\n",
        "    <tr>\n",
        "      <th>32</th>\n",
        "      <td> 2175</td>\n",
        "      <td>   0</td>\n",
        "      <td>   0</td>\n",
        "    </tr>\n",
        "    <tr>\n",
        "      <th>33</th>\n",
        "      <td> 2176</td>\n",
        "      <td>   0</td>\n",
        "      <td>   0</td>\n",
        "    </tr>\n",
        "    <tr>\n",
        "      <th>34</th>\n",
        "      <td> 2177</td>\n",
        "      <td>   0</td>\n",
        "      <td>   0</td>\n",
        "    </tr>\n",
        "    <tr>\n",
        "      <th>35</th>\n",
        "      <td> 2178</td>\n",
        "      <td>   0</td>\n",
        "      <td>   0</td>\n",
        "    </tr>\n",
        "    <tr>\n",
        "      <th>36</th>\n",
        "      <td> 2181</td>\n",
        "      <td>   0</td>\n",
        "      <td>   0</td>\n",
        "    </tr>\n",
        "    <tr>\n",
        "      <th>37</th>\n",
        "      <td> 2207</td>\n",
        "      <td>   0</td>\n",
        "      <td>   0</td>\n",
        "    </tr>\n",
        "    <tr>\n",
        "      <th>38</th>\n",
        "      <td> 2208</td>\n",
        "      <td>   0</td>\n",
        "      <td>   0</td>\n",
        "    </tr>\n",
        "    <tr>\n",
        "      <th>39</th>\n",
        "      <td> 2209</td>\n",
        "      <td>   0</td>\n",
        "      <td>   0</td>\n",
        "    </tr>\n",
        "    <tr>\n",
        "      <th>40</th>\n",
        "      <td> 2210</td>\n",
        "      <td>   0</td>\n",
        "      <td>   0</td>\n",
        "    </tr>\n",
        "    <tr>\n",
        "      <th>41</th>\n",
        "      <td> 2211</td>\n",
        "      <td>   0</td>\n",
        "      <td>   0</td>\n",
        "    </tr>\n",
        "    <tr>\n",
        "      <th>42</th>\n",
        "      <td> 2212</td>\n",
        "      <td>   0</td>\n",
        "      <td>   0</td>\n",
        "    </tr>\n",
        "    <tr>\n",
        "      <th>43</th>\n",
        "      <td> 2213</td>\n",
        "      <td>   0</td>\n",
        "      <td>   0</td>\n",
        "    </tr>\n",
        "    <tr>\n",
        "      <th>44</th>\n",
        "      <td> 2214</td>\n",
        "      <td>   0</td>\n",
        "      <td>   0</td>\n",
        "    </tr>\n",
        "    <tr>\n",
        "      <th>45</th>\n",
        "      <td> 2215</td>\n",
        "      <td>   0</td>\n",
        "      <td>   0</td>\n",
        "    </tr>\n",
        "    <tr>\n",
        "      <th>46</th>\n",
        "      <td> 2216</td>\n",
        "      <td>   0</td>\n",
        "      <td>   0</td>\n",
        "    </tr>\n",
        "    <tr>\n",
        "      <th>47</th>\n",
        "      <td> 2217</td>\n",
        "      <td>   0</td>\n",
        "      <td>   0</td>\n",
        "    </tr>\n",
        "    <tr>\n",
        "      <th>48</th>\n",
        "      <td> 2218</td>\n",
        "      <td>   0</td>\n",
        "      <td>   0</td>\n",
        "    </tr>\n",
        "    <tr>\n",
        "      <th>49</th>\n",
        "      <td> 2219</td>\n",
        "      <td>   0</td>\n",
        "      <td>   0</td>\n",
        "    </tr>\n",
        "  </tbody>\n",
        "</table>\n",
        "</div>"
       ],
       "metadata": {},
       "output_type": "pyout",
       "prompt_number": 8,
       "text": [
        "    zone_id  annual_hh_shift  annual_emp_shift\n",
        "0      1656              100               100\n",
        "1      1874              -20               -20\n",
        "2      1875                0                 0\n",
        "3      1876                0                 0\n",
        "4      1877                0                 0\n",
        "5      1878                0                 0\n",
        "6      1879                0                 0\n",
        "7      1880                0                 0\n",
        "8      1881                0                 0\n",
        "9      1882                0                 0\n",
        "10     2082                0                 0\n",
        "11     2083                0                 0\n",
        "12     2084                0                 0\n",
        "13     2085                0                 0\n",
        "14     2090                0                 0\n",
        "15        2              200               200\n",
        "16     2091                0                 0\n",
        "17     2092                0                 0\n",
        "18     2093                0                 0\n",
        "19     2094                0                 0\n",
        "20     2095                0                 0\n",
        "21     2096                0                 0\n",
        "22     2097                0                 0\n",
        "23     2098                0                 0\n",
        "24     2099                0                 0\n",
        "25     2100                0                 0\n",
        "26     2101                0                 0\n",
        "27     2102                0                 0\n",
        "28     2111                0                 0\n",
        "29     2112                0                 0\n",
        "30     2173                0                 0\n",
        "31     2174                0                 0\n",
        "32     2175                0                 0\n",
        "33     2176                0                 0\n",
        "34     2177                0                 0\n",
        "35     2178                0                 0\n",
        "36     2181                0                 0\n",
        "37     2207                0                 0\n",
        "38     2208                0                 0\n",
        "39     2209                0                 0\n",
        "40     2210                0                 0\n",
        "41     2211                0                 0\n",
        "42     2212                0                 0\n",
        "43     2213                0                 0\n",
        "44     2214                0                 0\n",
        "45     2215                0                 0\n",
        "46     2216                0                 0\n",
        "47     2217                0                 0\n",
        "48     2218                0                 0\n",
        "49     2219                0                 0"
       ]
      }
     ],
     "prompt_number": 8
    },
    {
     "cell_type": "code",
     "collapsed": false,
     "input": [
      "e_sample = e.reindex(np.random.permutation(e.index))\n",
      "e_sample.index.name = 'establishment_id'"
     ],
     "language": "python",
     "metadata": {},
     "outputs": [],
     "prompt_number": 45
    },
    {
     "cell_type": "code",
     "collapsed": false,
     "input": [
      "num = 200\n",
      "e_to_move = e_sample[np.cumsum(e_sample['employees'].values)<abs(num)]"
     ],
     "language": "python",
     "metadata": {},
     "outputs": [],
     "prompt_number": 47
    },
    {
     "cell_type": "code",
     "collapsed": false,
     "input": [
      "e_to_move.employees.sum()"
     ],
     "language": "python",
     "metadata": {},
     "outputs": [
      {
       "metadata": {},
       "output_type": "pyout",
       "prompt_number": 49,
       "text": [
        "90"
       ]
      }
     ],
     "prompt_number": 49
    },
    {
     "cell_type": "code",
     "collapsed": false,
     "input": [
      "for zone in zone_refine.zone_id.values:\n",
      "    idx_zone = (zone_refine.zone_id==zone)\n",
      "    hh_shift = zone_refine.annual_hh_shift[idx_zone].values[0]\n",
      "    emp_shift = zone_refine.annual_emp_shift[idx_zone].values[0]\n",
      "    if hh_shift > 0:\n",
      "        relocate_agents(hbp,household_set,zone,hh_shift)\n",
      "    if emp_shift > 0:\n",
      "        relocate_agents(jbp,job_set,zone,emp_shift)\n",
      "    if current_year < 2040:\n",
      "        if hh_shift < 0:\n",
      "            unplace_agents(hbp,household_set,zone,hh_shift)\n",
      "        if emp_shift < 0:\n",
      "            unplace_agents(jbp,job_set,zone,emp_shift)"
     ],
     "language": "python",
     "metadata": {},
     "outputs": [
      {
       "ename": "NameError",
       "evalue": "name 'hbp' is not defined",
       "output_type": "pyerr",
       "traceback": [
        "\u001b[1;31m---------------------------------------------------------------------------\u001b[0m\n\u001b[1;31mNameError\u001b[0m                                 Traceback (most recent call last)",
        "\u001b[1;32m<ipython-input-27-77fa25c3cbdb>\u001b[0m in \u001b[0;36m<module>\u001b[1;34m()\u001b[0m\n\u001b[0;32m      4\u001b[0m     \u001b[0memp_shift\u001b[0m \u001b[1;33m=\u001b[0m \u001b[0mzone_refine\u001b[0m\u001b[1;33m.\u001b[0m\u001b[0mannual_emp_shift\u001b[0m\u001b[1;33m[\u001b[0m\u001b[0midx_zone\u001b[0m\u001b[1;33m]\u001b[0m\u001b[1;33m.\u001b[0m\u001b[0mvalues\u001b[0m\u001b[1;33m[\u001b[0m\u001b[1;36m0\u001b[0m\u001b[1;33m]\u001b[0m\u001b[1;33m\u001b[0m\u001b[0m\n\u001b[0;32m      5\u001b[0m     \u001b[1;32mif\u001b[0m \u001b[0mhh_shift\u001b[0m \u001b[1;33m>\u001b[0m \u001b[1;36m0\u001b[0m\u001b[1;33m:\u001b[0m\u001b[1;33m\u001b[0m\u001b[0m\n\u001b[1;32m----> 6\u001b[1;33m         \u001b[0mrelocate_agents\u001b[0m\u001b[1;33m(\u001b[0m\u001b[0mhbp\u001b[0m\u001b[1;33m,\u001b[0m\u001b[0mhousehold_set\u001b[0m\u001b[1;33m,\u001b[0m\u001b[0mzone\u001b[0m\u001b[1;33m,\u001b[0m\u001b[0mhh_shift\u001b[0m\u001b[1;33m)\u001b[0m\u001b[1;33m\u001b[0m\u001b[0m\n\u001b[0m\u001b[0;32m      7\u001b[0m     \u001b[1;32mif\u001b[0m \u001b[0memp_shift\u001b[0m \u001b[1;33m>\u001b[0m \u001b[1;36m0\u001b[0m\u001b[1;33m:\u001b[0m\u001b[1;33m\u001b[0m\u001b[0m\n\u001b[0;32m      8\u001b[0m         \u001b[0mrelocate_agents\u001b[0m\u001b[1;33m(\u001b[0m\u001b[0mjbp\u001b[0m\u001b[1;33m,\u001b[0m\u001b[0mjob_set\u001b[0m\u001b[1;33m,\u001b[0m\u001b[0mzone\u001b[0m\u001b[1;33m,\u001b[0m\u001b[0memp_shift\u001b[0m\u001b[1;33m)\u001b[0m\u001b[1;33m\u001b[0m\u001b[0m\n",
        "\u001b[1;31mNameError\u001b[0m: name 'hbp' is not defined"
       ]
      }
     ],
     "prompt_number": 27
    },
    {
     "cell_type": "code",
     "collapsed": false,
     "input": [
      "e.groupby('zone_id').employees.sum()"
     ],
     "language": "python",
     "metadata": {},
     "outputs": [
      {
       "metadata": {},
       "output_type": "pyout",
       "prompt_number": 60,
       "text": [
        "zone_id\n",
        "1            1\n",
        "2           79\n",
        "3           76\n",
        "4           36\n",
        "5            1\n",
        "6          211\n",
        "7          174\n",
        "8          358\n",
        "9          388\n",
        "10         451\n",
        "11         346\n",
        "12         142\n",
        "13         491\n",
        "15         358\n",
        "16         236\n",
        "...\n",
        "2786        285\n",
        "2787         29\n",
        "2788       1187\n",
        "2789        154\n",
        "2790        194\n",
        "2791         81\n",
        "2792        286\n",
        "2793        109\n",
        "2795        487\n",
        "2796        694\n",
        "2797        155\n",
        "2798          8\n",
        "2799         12\n",
        "2800         95\n",
        "2804         26\n",
        "Name: employees, Length: 2606, dtype: int32"
       ]
      }
     ],
     "prompt_number": 60
    },
    {
     "cell_type": "code",
     "collapsed": false,
     "input": [
      "hh.groupby('zone_id').size().tail(20)"
     ],
     "language": "python",
     "metadata": {},
     "outputs": [
      {
       "metadata": {},
       "output_type": "pyout",
       "prompt_number": 62,
       "text": [
        "zone_id\n",
        "2784        435\n",
        "2785        172\n",
        "2786        839\n",
        "2787         76\n",
        "2788         75\n",
        "2789        167\n",
        "2790         32\n",
        "2791         82\n",
        "2792         78\n",
        "2793        298\n",
        "2795        681\n",
        "2796       1154\n",
        "2797         69\n",
        "2798         22\n",
        "2799         55\n",
        "2800        758\n",
        "2801        184\n",
        "2802        170\n",
        "2803        757\n",
        "2804        143\n",
        "dtype: int64"
       ]
      }
     ],
     "prompt_number": 62
    },
    {
     "cell_type": "code",
     "collapsed": false,
     "input": [
      "dset.store.buildings[['residential_units',]]"
     ],
     "language": "python",
     "metadata": {},
     "outputs": [
      {
       "html": [
        "<pre>\n",
        "&lt;class 'pandas.core.frame.DataFrame'&gt;\n",
        "Int64Index: 881751 entries, 55152 to 1015771\n",
        "Data columns (total 1 columns):\n",
        "residential_units    881751  non-null values\n",
        "dtypes: int32(1)\n",
        "</pre>"
       ],
       "metadata": {},
       "output_type": "pyout",
       "prompt_number": 4,
       "text": [
        "<class 'pandas.core.frame.DataFrame'>\n",
        "Int64Index: 881751 entries, 55152 to 1015771\n",
        "Data columns (total 1 columns):\n",
        "residential_units    881751  non-null values\n",
        "dtypes: int32(1)"
       ]
      }
     ],
     "prompt_number": 4
    },
    {
     "cell_type": "code",
     "collapsed": false,
     "input": [
      "e = establishments.reset_index()\n",
      "bids = []\n",
      "eids = []\n",
      "hbs = []\n",
      "sids = []\n",
      "for idx in e.index:\n",
      "    for job in range(e.employees[idx]):\n",
      "        bids.append(e.building_id[idx])\n",
      "        eids.append(e.index[idx])\n",
      "        hbs.append(e.home_based_status[idx])\n",
      "        sids.append(e.sector_id[idx])\n",
      "print len(bids)\n",
      "print len(eids)\n",
      "print len(hbs)\n",
      "print len(sids)\n",
      "jobs = pd.DataFrame({'tempid':range(1,len(bids)+1),'building_id':bids,'establishment_id':eids,'home_based_status':hbs,'sector_id':sids})"
     ],
     "language": "python",
     "metadata": {},
     "outputs": [
      {
       "output_type": "stream",
       "stream": "stdout",
       "text": [
        "1606882\n",
        "1606882\n",
        "1606882\n",
        "1606882\n"
       ]
      }
     ],
     "prompt_number": 2
    },
    {
     "cell_type": "code",
     "collapsed": false,
     "input": [
      "jobs"
     ],
     "language": "python",
     "metadata": {},
     "outputs": [
      {
       "html": [
        "<pre>\n",
        "&lt;class 'pandas.core.frame.DataFrame'&gt;\n",
        "Int64Index: 1606882 entries, 0 to 1606881\n",
        "Data columns (total 5 columns):\n",
        "building_id          1606882  non-null values\n",
        "establishment_id     1606882  non-null values\n",
        "home_based_status    1606882  non-null values\n",
        "sector_id            1606882  non-null values\n",
        "tempid               1606882  non-null values\n",
        "dtypes: int64(5)\n",
        "</pre>"
       ],
       "metadata": {},
       "output_type": "pyout",
       "prompt_number": 3,
       "text": [
        "<class 'pandas.core.frame.DataFrame'>\n",
        "Int64Index: 1606882 entries, 0 to 1606881\n",
        "Data columns (total 5 columns):\n",
        "building_id          1606882  non-null values\n",
        "establishment_id     1606882  non-null values\n",
        "home_based_status    1606882  non-null values\n",
        "sector_id            1606882  non-null values\n",
        "tempid               1606882  non-null values\n",
        "dtypes: int64(5)"
       ]
      }
     ],
     "prompt_number": 3
    },
    {
     "cell_type": "code",
     "collapsed": false,
     "input": [
      "buildings[['residential_units','centroid_x','centroid_y','external_zone_id']]"
     ],
     "language": "python",
     "metadata": {},
     "outputs": [
      {
       "html": [
        "<pre>\n",
        "&lt;class 'pandas.core.frame.DataFrame'&gt;\n",
        "Int64Index: 754153 entries, 55152 to 1015771\n",
        "Data columns (total 4 columns):\n",
        "residential_units    754153  non-null values\n",
        "centroid_x           754153  non-null values\n",
        "centroid_y           754153  non-null values\n",
        "external_zone_id     754153  non-null values\n",
        "dtypes: int32(2), int64(2)\n",
        "</pre>"
       ],
       "metadata": {},
       "output_type": "pyout",
       "prompt_number": 4,
       "text": [
        "<class 'pandas.core.frame.DataFrame'>\n",
        "Int64Index: 754153 entries, 55152 to 1015771\n",
        "Data columns (total 4 columns):\n",
        "residential_units    754153  non-null values\n",
        "centroid_x           754153  non-null values\n",
        "centroid_y           754153  non-null values\n",
        "external_zone_id     754153  non-null values\n",
        "dtypes: int32(2), int64(2)"
       ]
      }
     ],
     "prompt_number": 4
    },
    {
     "cell_type": "code",
     "collapsed": false,
     "input": [
      "np.unique(buildings.external_zone_id)"
     ],
     "language": "python",
     "metadata": {},
     "outputs": [
      {
       "metadata": {},
       "output_type": "pyout",
       "prompt_number": 5,
       "text": [
        "building_id\n",
        "12617          101010\n",
        "13011          101020\n",
        "12491          101030\n",
        "117777         101040\n",
        "17617          101050\n",
        "2589           101060\n",
        "2103           101070\n",
        "35744          101080\n",
        "18842          101090\n",
        "12033          101100\n",
        "20053          101110\n",
        "21339          101120\n",
        "27209          101130\n",
        "13294          102010\n",
        "13726          102020\n",
        "...\n",
        "516621         802480\n",
        "610774         802490\n",
        "566786         802501\n",
        "553868         802502\n",
        "608588         802510\n",
        "513063         802520\n",
        "557639         802530\n",
        "570779         802540\n",
        "564022         802550\n",
        "62597          803050\n",
        "55589          803060\n",
        "43937          803080\n",
        "103466         803090\n",
        "120567         803100\n",
        "20747          803110\n",
        "Name: external_zone_id, Length: 2681, dtype: int32"
       ]
      }
     ],
     "prompt_number": 5
    },
    {
     "cell_type": "code",
     "collapsed": false,
     "input": [
      "jobs['x'] = buildings.centroid_x[jobs.building_id].values\n",
      "jobs['y'] = buildings.centroid_y[jobs.building_id].values\n",
      "jobs['taz05_id'] = buildings.external_zone_id[jobs.building_id].values\n",
      "jobs['sector_id_six'] = 1*(jobs.sector_id==61) + 2*(jobs.sector_id==71) + 3*np.in1d(jobs.sector_id,[11,21,22,23,31,32,33,42,48,49]) + 4*np.in1d(jobs.sector_id,[7221,7222,7224]) + 5*np.in1d(jobs.sector_id,[44,45,7211,7212,7213,7223]) + 6*np.in1d(jobs.sector_id,[51,52,53,54,55,56,62,81,92])\n",
      "jobs['jobtypename'] = ''\n",
      "jobs.jobtypename[jobs.sector_id_six==1] = 'Education'\n",
      "jobs.jobtypename[jobs.sector_id_six==2] = 'Entertainment'\n",
      "jobs.jobtypename[jobs.sector_id_six==3] = 'Production'\n",
      "jobs.jobtypename[jobs.sector_id_six==4] = 'Restaurant'\n",
      "jobs.jobtypename[jobs.sector_id_six==5] = 'Retail'\n",
      "jobs.jobtypename[jobs.sector_id_six==6] = 'Service'\n",
      "jobs['urbancenter_id'] = 0"
     ],
     "language": "python",
     "metadata": {},
     "outputs": [],
     "prompt_number": 13
    },
    {
     "cell_type": "code",
     "collapsed": false,
     "input": [
      "np.unique(dset.zones['external_zone_id'].values)"
     ],
     "language": "python",
     "metadata": {},
     "outputs": [
      {
       "metadata": {},
       "output_type": "pyout",
       "prompt_number": 5,
       "text": [
        "array([101010, 101020, 101030, ..., 803100, 803110, 803120])"
       ]
      }
     ],
     "prompt_number": 5
    },
    {
     "cell_type": "code",
     "collapsed": false,
     "input": [
      "jobs.tail()"
     ],
     "language": "python",
     "metadata": {},
     "outputs": [
      {
       "html": [
        "<div style=\"max-height:1000px;max-width:1500px;overflow:auto;\">\n",
        "<table border=\"1\" class=\"dataframe\">\n",
        "  <thead>\n",
        "    <tr style=\"text-align: right;\">\n",
        "      <th></th>\n",
        "      <th>building_id</th>\n",
        "      <th>establishment_id</th>\n",
        "      <th>home_based_status</th>\n",
        "      <th>sector_id</th>\n",
        "      <th>tempid</th>\n",
        "      <th>x</th>\n",
        "      <th>y</th>\n",
        "      <th>taz05_id</th>\n",
        "      <th>sector_id_six</th>\n",
        "      <th>jobtypename</th>\n",
        "      <th>urbancenter_id</th>\n",
        "    </tr>\n",
        "  </thead>\n",
        "  <tbody>\n",
        "    <tr>\n",
        "      <th>1606877</th>\n",
        "      <td> 367318</td>\n",
        "      <td> 202188</td>\n",
        "      <td> 1</td>\n",
        "      <td> 81</td>\n",
        "      <td> 1606878</td>\n",
        "      <td> 3075432</td>\n",
        "      <td> 1244915</td>\n",
        "      <td> 107080</td>\n",
        "      <td> 6</td>\n",
        "      <td>    Service</td>\n",
        "      <td> 0</td>\n",
        "    </tr>\n",
        "    <tr>\n",
        "      <th>1606878</th>\n",
        "      <td> 256128</td>\n",
        "      <td> 202189</td>\n",
        "      <td> 1</td>\n",
        "      <td> 23</td>\n",
        "      <td> 1606879</td>\n",
        "      <td> 3132919</td>\n",
        "      <td> 1655657</td>\n",
        "      <td> 508250</td>\n",
        "      <td> 3</td>\n",
        "      <td> Production</td>\n",
        "      <td> 0</td>\n",
        "    </tr>\n",
        "    <tr>\n",
        "      <th>1606879</th>\n",
        "      <td> 399735</td>\n",
        "      <td> 202190</td>\n",
        "      <td> 1</td>\n",
        "      <td> 52</td>\n",
        "      <td> 1606880</td>\n",
        "      <td> 3003022</td>\n",
        "      <td> 1240716</td>\n",
        "      <td> 101110</td>\n",
        "      <td> 6</td>\n",
        "      <td>    Service</td>\n",
        "      <td> 0</td>\n",
        "    </tr>\n",
        "    <tr>\n",
        "      <th>1606880</th>\n",
        "      <td> 871464</td>\n",
        "      <td> 202191</td>\n",
        "      <td> 1</td>\n",
        "      <td> 54</td>\n",
        "      <td> 1606881</td>\n",
        "      <td> 3037898</td>\n",
        "      <td> 1750666</td>\n",
        "      <td> 201010</td>\n",
        "      <td> 6</td>\n",
        "      <td>    Service</td>\n",
        "      <td> 0</td>\n",
        "    </tr>\n",
        "    <tr>\n",
        "      <th>1606881</th>\n",
        "      <td> 524578</td>\n",
        "      <td> 202192</td>\n",
        "      <td> 1</td>\n",
        "      <td> 54</td>\n",
        "      <td> 1606882</td>\n",
        "      <td> 3127188</td>\n",
        "      <td> 1667861</td>\n",
        "      <td> 408220</td>\n",
        "      <td> 6</td>\n",
        "      <td>    Service</td>\n",
        "      <td> 0</td>\n",
        "    </tr>\n",
        "  </tbody>\n",
        "</table>\n",
        "</div>"
       ],
       "metadata": {},
       "output_type": "pyout",
       "prompt_number": 14,
       "text": [
        "         building_id  establishment_id  home_based_status  sector_id   tempid  \\\n",
        "1606877       367318            202188                  1         81  1606878   \n",
        "1606878       256128            202189                  1         23  1606879   \n",
        "1606879       399735            202190                  1         52  1606880   \n",
        "1606880       871464            202191                  1         54  1606881   \n",
        "1606881       524578            202192                  1         54  1606882   \n",
        "\n",
        "               x        y  taz05_id  sector_id_six jobtypename  urbancenter_id  \n",
        "1606877  3075432  1244915    107080              6     Service               0  \n",
        "1606878  3132919  1655657    508250              3  Production               0  \n",
        "1606879  3003022  1240716    101110              6     Service               0  \n",
        "1606880  3037898  1750666    201010              6     Service               0  \n",
        "1606881  3127188  1667861    408220              6     Service               0  "
       ]
      }
     ],
     "prompt_number": 14
    },
    {
     "cell_type": "code",
     "collapsed": false,
     "input": [
      "jobs[jobs.building_id==-1]"
     ],
     "language": "python",
     "metadata": {},
     "outputs": [
      {
       "html": [
        "<pre>\n",
        "&lt;class 'pandas.core.frame.DataFrame'&gt;\n",
        "Int64Index: 1849 entries, 1564619 to 1606861\n",
        "Data columns (total 8 columns):\n",
        "building_id          1849  non-null values\n",
        "establishment_id     1849  non-null values\n",
        "home_based_status    1849  non-null values\n",
        "sector_id            1849  non-null values\n",
        "tempid               1849  non-null values\n",
        "x                    0  non-null values\n",
        "y                    0  non-null values\n",
        "taz05_id             0  non-null values\n",
        "dtypes: float64(3), int64(5)\n",
        "</pre>"
       ],
       "metadata": {},
       "output_type": "pyout",
       "prompt_number": 10,
       "text": [
        "<class 'pandas.core.frame.DataFrame'>\n",
        "Int64Index: 1849 entries, 1564619 to 1606861\n",
        "Data columns (total 8 columns):\n",
        "building_id          1849  non-null values\n",
        "establishment_id     1849  non-null values\n",
        "home_based_status    1849  non-null values\n",
        "sector_id            1849  non-null values\n",
        "tempid               1849  non-null values\n",
        "x                    0  non-null values\n",
        "y                    0  non-null values\n",
        "taz05_id             0  non-null values\n",
        "dtypes: float64(3), int64(5)"
       ]
      }
     ],
     "prompt_number": 10
    },
    {
     "cell_type": "code",
     "collapsed": false,
     "input": [
      "establishments[establishments.building_id==-1]"
     ],
     "language": "python",
     "metadata": {},
     "outputs": [
      {
       "html": [
        "<pre>\n",
        "&lt;class 'pandas.core.frame.DataFrame'&gt;\n",
        "Int64Index: 1849 entries, 406861368 to 416085617\n",
        "Data columns (total 11 columns):\n",
        "building_id             1849  non-null values\n",
        "home_based_status       1849  non-null values\n",
        "infogroup_id            1849  non-null values\n",
        "qcew_id                 1849  non-null values\n",
        "sector_id               1849  non-null values\n",
        "employees               1849  non-null values\n",
        "zone_id                 0  non-null values\n",
        "county_id               0  non-null values\n",
        "sector_id_six           1849  non-null values\n",
        "sector_id_retail_agg    1849  non-null values\n",
        "nonres_sqft             0  non-null values\n",
        "dtypes: float64(3), int32(7), object(1)\n",
        "</pre>"
       ],
       "metadata": {},
       "output_type": "pyout",
       "prompt_number": 32,
       "text": [
        "<class 'pandas.core.frame.DataFrame'>\n",
        "Int64Index: 1849 entries, 406861368 to 416085617\n",
        "Data columns (total 11 columns):\n",
        "building_id             1849  non-null values\n",
        "home_based_status       1849  non-null values\n",
        "infogroup_id            1849  non-null values\n",
        "qcew_id                 1849  non-null values\n",
        "sector_id               1849  non-null values\n",
        "employees               1849  non-null values\n",
        "zone_id                 0  non-null values\n",
        "county_id               0  non-null values\n",
        "sector_id_six           1849  non-null values\n",
        "sector_id_retail_agg    1849  non-null values\n",
        "nonres_sqft             0  non-null values\n",
        "dtypes: float64(3), int32(7), object(1)"
       ]
      }
     ],
     "prompt_number": 32
    },
    {
     "cell_type": "code",
     "collapsed": false,
     "input": [
      "alternatives = buildings[(buildings.residential_units>0)]\n",
      "\n",
      "hlcm_simulation.simulate(dset, year=sim_year,\n",
      "                         depvar = 'building_id',alternatives=alternatives,simulation_table = 'households',output_names = (\"drcog-coeff-hlcm-%s.csv\",\"DRCOG HOUSEHOLD LOCATION CHOICE MODELS (%s)\",\"hh_location_%s\",\"household_building_ids\"),\n",
      "                         agents_groupby= ['income_3_tenure',],\n",
      "                         transition_config = {'Enabled':True,'control_totals_table':'annual_household_control_totals','scaling_factor':1.0},\n",
      "                         relocation_config = {'Enabled':True,'relocation_rates_table':'annual_household_relocation_rates','scaling_factor':1.0},\n",
      "                         )"
     ],
     "language": "python",
     "metadata": {},
     "outputs": [
      {
       "output_type": "stream",
       "stream": "stdout",
       "text": [
        "Fetching annual_household_control_totals\n",
        "Fetching modify_table\n",
        "total_number_of_households    23538\n",
        "persons                       45227\n",
        "dtype: int32\n",
        "Adding agents to match target of 68765 \n",
        "Histogram of agents by year:\n"
       ]
      },
      {
       "output_type": "stream",
       "stream": "stdout",
       "text": [
        "2011    23538\n",
        "dtype: int64\n",
        "Histogram of relocation rates:"
       ]
      },
      {
       "output_type": "stream",
       "stream": "stdout",
       "text": [
        "\n",
        "0.00148    156891\n",
        "0.00000    151587\n",
        "0.00309    128645\n",
        "0.00274    126702\n",
        "0.00145    113687\n",
        "0.00311     75448\n",
        "0.00183     64158\n",
        "0.00348     59075\n",
        "0.00540     55346\n",
        "0.00184     49096\n",
        "0.00110     39096\n",
        "0.00220     30741\n",
        "0.00402     26679\n",
        "0.00099     19702\n",
        "0.00130     17099\n",
        "0.00124     16598\n",
        "0.00199     12906\n",
        "0.00111     12166\n",
        "0.00132     12111\n",
        "0.00117      9626\n",
        "0.00222      6566\n",
        "dtype: int64"
       ]
      },
      {
       "output_type": "stream",
       "stream": "stdout",
       "text": [
        "\n",
        "2448 agents are moving\n",
        "Total new agents and movers = 25947"
       ]
      },
      {
       "output_type": "stream",
       "stream": "stdout",
       "text": [
        "\n",
        "Assigning units to 6208 agents of segment 1"
       ]
      },
      {
       "output_type": "stream",
       "stream": "stdout",
       "text": [
        "\n",
        "Assigning units to 7307 agents of segment 2\n",
        "Assigning units to 4900 agents of segment 3\n",
        "Assigning units to 3803 agents of segment 4\n",
        "Assigning units to 3729 agents of segment 5\n",
        "Assigned 25947 agents to 13344 locations with 0 unplaced"
       ]
      },
      {
       "output_type": "stream",
       "stream": "stdout",
       "text": [
        "\n"
       ]
      }
     ],
     "prompt_number": 2
    },
    {
     "cell_type": "code",
     "collapsed": false,
     "input": [
      "alternatives = buildings[(buildings.non_residential_sqft>0)]\n",
      "\n",
      "elcm_simulation.simulate(dset, year=sim_year, \n",
      "                         depvar = 'building_id',alternatives=alternatives,simulation_table = 'establishments',output_names = (\"drcog-coeff-elcm-%s.csv\",\"DRCOG EMPLOYMENT LOCATION CHOICE MODELS (%s)\",\"emp_location_%s\",\"establishment_building_ids\"),\n",
      "                         agents_groupby= ['sector_id_retail_agg',],\n",
      "                         transition_config = {'Enabled':True,'control_totals_table':'annual_employment_control_totals','scaling_factor':1.0})"
     ],
     "language": "python",
     "metadata": {},
     "outputs": [
      {
       "output_type": "stream",
       "stream": "stdout",
       "text": [
        "Fetching annual_employment_control_totals\n",
        "Fetching modify_table\n",
        "                                 total_number_of_jobs\n",
        "sector_id_six home_based_status                      \n",
        "1             1                                  7276\n",
        "2             1                                 23908\n",
        "3             1                                  5197\n",
        "4             1                                 10395\n",
        "5             1                                 13513\n",
        "6             1                                 62368\n",
        "1             0                                 95218\n",
        "2             0                                312859\n",
        "3             0                                 68013\n",
        "4             0                                136026\n",
        "5             0                                176833\n",
        "6             0                                816154\n",
        "Adding agents to match target of 1727760 \n",
        "action\n",
        "6680\n",
        "action"
       ]
      },
      {
       "output_type": "stream",
       "stream": "stdout",
       "text": [
        "\n",
        "23031\n",
        "action\n",
        "-10467\n",
        "action"
       ]
      },
      {
       "output_type": "stream",
       "stream": "stdout",
       "text": [
        "\n",
        "10306\n",
        "action\n",
        "10690\n",
        "action"
       ]
      },
      {
       "output_type": "stream",
       "stream": "stdout",
       "text": [
        "\n",
        "34805\n",
        "action"
       ]
      },
      {
       "output_type": "stream",
       "stream": "stdout",
       "text": [
        "\n",
        "-16660\n",
        "action"
       ]
      },
      {
       "output_type": "stream",
       "stream": "stdout",
       "text": [
        "\n",
        "280118\n",
        "action"
       ]
      },
      {
       "output_type": "stream",
       "stream": "stdout",
       "text": [
        "\n",
        "-271403\n",
        "action"
       ]
      },
      {
       "output_type": "stream",
       "stream": "stdout",
       "text": [
        "\n",
        "10785\n",
        "action\n",
        "-15220\n",
        "action"
       ]
      },
      {
       "output_type": "stream",
       "stream": "stdout",
       "text": [
        "\n",
        "58213\n",
        "Histogram of agents by year:\n"
       ]
      },
      {
       "output_type": "stream",
       "stream": "stdout",
       "text": [
        "2011    106692\n",
        "dtype: int64\n",
        "Total new agents and movers = 108209\n",
        "Assigning units to 23 agents of segment 11"
       ]
      },
      {
       "output_type": "stream",
       "stream": "stdout",
       "text": [
        "\n",
        "Assigning units to 239 agents of segment 23\n",
        "Assigning units to 3 agents of segment 31\n",
        "Assigning units to 2 agents of segment 33\n",
        "Assigning units to 10 agents of segment 42\n",
        "Assigning units to 5445 agents of segment 44\n",
        "Assigning units to 4937 agents of segment 45"
       ]
      },
      {
       "output_type": "stream",
       "stream": "stdout",
       "text": [
        "\n",
        "Assigning units to 55 agents of segment 48\n",
        "Assigning units to 3 agents of segment 49\n",
        "Assigning units to 1064 agents of segment 51\n",
        "Assigning units to 4134 agents of segment 52"
       ]
      },
      {
       "output_type": "stream",
       "stream": "stdout",
       "text": [
        "\n",
        "Assigning units to 5522 agents of segment 53"
       ]
      },
      {
       "output_type": "stream",
       "stream": "stdout",
       "text": [
        "\n",
        "Assigning units to 16194 agents of segment 54"
       ]
      },
      {
       "output_type": "stream",
       "stream": "stdout",
       "text": [
        "\n",
        "Assigning units to 189 agents of segment 55"
       ]
      },
      {
       "output_type": "stream",
       "stream": "stdout",
       "text": [
        "\n",
        "Assigning units to 5727 agents of segment 56"
       ]
      },
      {
       "output_type": "stream",
       "stream": "stdout",
       "text": [
        "\n",
        "Assigning units to 6699 agents of segment 61"
       ]
      },
      {
       "output_type": "stream",
       "stream": "stdout",
       "text": [
        "\n",
        "Assigning units to 2672 agents of segment 62\n",
        "Assigning units to 37769 agents of segment 71"
       ]
      },
      {
       "output_type": "stream",
       "stream": "stdout",
       "text": [
        "\n",
        "WARNING: not enough options to fit agents, will result in unplaced agents"
       ]
      },
      {
       "output_type": "stream",
       "stream": "stdout",
       "text": [
        "\n",
        "Assigning units to 6095 agents of segment 81\n",
        "Assigning units to 43 agents of segment 92"
       ]
      },
      {
       "output_type": "stream",
       "stream": "stdout",
       "text": [
        "\n",
        "WARNING: not enough options to fit agents, will result in unplaced agents\n",
        "WARNING: not enough options to fit agents, will result in unplaced agents\n",
        "Assigning units to 203 agents of segment 7211"
       ]
      },
      {
       "output_type": "stream",
       "stream": "stdout",
       "text": [
        "\n",
        "Assigning units to 3134 agents of segment 7221\n",
        "Assigning units to 3220 agents of segment 7222"
       ]
      },
      {
       "output_type": "stream",
       "stream": "stdout",
       "text": [
        "\n",
        "Assigning units to 204 agents of segment 7223"
       ]
      },
      {
       "output_type": "stream",
       "stream": "stdout",
       "text": [
        "\n",
        "Assigning units to 4623 agents of segment 7224\n",
        "Assigned 108209 agents to 25015 locations with 25416 unplaced"
       ]
      },
      {
       "output_type": "stream",
       "stream": "stdout",
       "text": [
        "\n"
       ]
      }
     ],
     "prompt_number": 3
    },
    {
     "cell_type": "code",
     "collapsed": false,
     "input": [
      "regression_model_simulation.simulate(dset, year=sim_year, output_varname='unit_price_residential',\n",
      "                                     simulation_table='buildings', output_names = [\"drcog-coeff-reshedonic-%s.csv\",\"DRCOG RESHEDONIC MODEL (%s)\",\"resprice_%s\"],\n",
      "                                     agents_groupby = 'building_type_id', segment_ids = [2,3,20,24])"
     ],
     "language": "python",
     "metadata": {},
     "outputs": [
      {
       "output_type": "stream",
       "stream": "stdout",
       "text": [
        "Generating rents on 24111 buildings\n",
        "Generating rents on 14447 buildings\n",
        "Generating rents on 740753 buildings"
       ]
      },
      {
       "output_type": "stream",
       "stream": "stdout",
       "text": [
        "\n",
        "Generating rents on 31263 buildings"
       ]
      },
      {
       "output_type": "stream",
       "stream": "stdout",
       "text": [
        "\n"
       ]
      }
     ],
     "prompt_number": 4
    },
    {
     "cell_type": "code",
     "collapsed": false,
     "input": [
      "regression_model_simulation.simulate(dset, year=sim_year, \n",
      "                                     output_varname='unit_price_non_residential', simulation_table='buildings', output_names = [\"drcog-coeff-nrhedonic-%s.csv\",\"DRCOG NRHEDONIC MODEL (%s)\",\"nrprice_%s\"],\n",
      "                                     agents_groupby = 'building_type_id', segment_ids = [5,8,11,16,17,18,21,23,9,22])"
     ],
     "language": "python",
     "metadata": {},
     "outputs": [
      {
       "output_type": "stream",
       "stream": "stdout",
       "text": [
        "Generating rents on 7211 buildings\n",
        "Generating rents on 845 buildings\n",
        "Generating rents on 2736 buildings\n",
        "Generating rents on 1029 buildings\n",
        "Generating rents on 1808 buildings\n",
        "Generating rents on 2394 buildings\n",
        "Generating rents on 11837 buildings\n",
        "Generating rents on 1280 buildings"
       ]
      },
      {
       "output_type": "stream",
       "stream": "stdout",
       "text": [
        "\n",
        "Generating rents on 11726 buildings\n",
        "Generating rents on 790 buildings\n"
       ]
      }
     ],
     "prompt_number": 5
    },
    {
     "cell_type": "code",
     "collapsed": false,
     "input": [
      "developer_configuration = {\n",
      "                           'enforce_environmental_constraints':True,\n",
      "                           'enforce_allowable_use_constraints':True,\n",
      "                           'enforce_ugb':False,\n",
      "                           'outside_ugb_allowable_density':1.0,\n",
      "                           'uga_policies':False,\n",
      "                           'inside_uga_allowable_density':1.0,\n",
      "                           'max_allowable_far_field_name':'far',\n",
      "                           'land_property_acquisition_cost_factor':1.0,\n",
      "                           'profit_factor':1.0,\n",
      "                           'min_building_sqft':400,\n",
      "                           'min_lot_sqft':500,\n",
      "                           'zonal_levers':True\n",
      "                           }\n",
      "\n",
      "from urbandeveloper import proforma_developer_model\n",
      "buildings, newbuildings = proforma_developer_model.run(dset,hh_zone1,emp_zone1,developer_configuration,sim_year)\n",
      "dset.d['buildings'] = pd.concat([buildings,newbuildings])"
     ],
     "language": "python",
     "metadata": {},
     "outputs": [
      {
       "output_type": "stream",
       "stream": "stdout",
       "text": [
        "industrial Fri Apr 11 17:30:14 2014\n",
        "residential"
       ]
      },
      {
       "output_type": "stream",
       "stream": "stdout",
       "text": [
        " Fri Apr 11 17:30:18 2014\n",
        "retail"
       ]
      },
      {
       "output_type": "stream",
       "stream": "stdout",
       "text": [
        " Fri Apr 11 17:30:21 2014\n",
        "office"
       ]
      },
      {
       "output_type": "stream",
       "stream": "stdout",
       "text": [
        " Fri Apr 11 17:30:25 2014\n",
        "Fetching zoning"
       ]
      },
      {
       "output_type": "stream",
       "stream": "stdout",
       "text": [
        "\n",
        "Fetching modify_table\n",
        "Fetching fars\n",
        "Fetching modify_table\n",
        "2"
       ]
      },
      {
       "output_type": "stream",
       "stream": "stdout",
       "text": [
        " 294.689887129\n",
        "3 "
       ]
      },
      {
       "output_type": "stream",
       "stream": "stdout",
       "text": [
        "294.689887129\n",
        "5 "
       ]
      },
      {
       "output_type": "stream",
       "stream": "stdout",
       "text": [
        "111.465344077\n",
        "9 "
       ]
      },
      {
       "output_type": "stream",
       "stream": "stdout",
       "text": [
        "27.8990690346\n",
        "17 "
       ]
      },
      {
       "output_type": "stream",
       "stream": "stdout",
       "text": [
        "89.2201291344\n",
        "18 "
       ]
      },
      {
       "output_type": "stream",
       "stream": "stdout",
       "text": [
        "89.2201291344\n",
        "20 "
       ]
      },
      {
       "output_type": "stream",
       "stream": "stdout",
       "text": [
        "288.672116156\n",
        "22 "
       ]
      },
      {
       "output_type": "stream",
       "stream": "stdout",
       "text": [
        "31.784575281\n",
        "24 "
       ]
      },
      {
       "output_type": "stream",
       "stream": "stdout",
       "text": [
        "294.666027128\n",
        "2335 new buildings for btyp 3"
       ]
      },
      {
       "output_type": "stream",
       "stream": "stdout",
       "text": [
        "\n",
        "2491 new buildings for btyp 2"
       ]
      },
      {
       "output_type": "stream",
       "stream": "stdout",
       "text": [
        "\n",
        "2561 new buildings for btyp 24"
       ]
      },
      {
       "output_type": "stream",
       "stream": "stdout",
       "text": [
        "\n",
        "2458 new buildings for btyp 20"
       ]
      },
      {
       "output_type": "stream",
       "stream": "stdout",
       "text": [
        "\n",
        "306 new buildings for btyp 5"
       ]
      },
      {
       "output_type": "stream",
       "stream": "stdout",
       "text": [
        "\n",
        "310 new buildings for btyp 17"
       ]
      },
      {
       "output_type": "stream",
       "stream": "stdout",
       "text": [
        "\n",
        "228 new buildings for btyp 18"
       ]
      },
      {
       "output_type": "stream",
       "stream": "stdout",
       "text": [
        "\n",
        "122 new buildings for btyp 9"
       ]
      },
      {
       "output_type": "stream",
       "stream": "stdout",
       "text": [
        "\n",
        "103 new buildings for btyp 22"
       ]
      },
      {
       "output_type": "stream",
       "stream": "stdout",
       "text": [
        "\n",
        "       building_type_id  building_sqft   lot_size  residential_units  \\\n",
        "count          10566.00       10566.00   10566.00           10566.00   \n",
        "mean              12.60        3275.62   22177.25               1.78   \n",
        "std                9.61        8049.87   35870.86               3.41   \n",
        "min                2.00         400.00     513.00               0.00   \n",
        "25%                3.00         623.03    6225.25               1.00   \n",
        "50%               17.00         835.80    8249.50               1.00   \n",
        "75%               20.00        1752.60   15459.50               1.00   \n",
        "max               24.00      146882.19  199818.00              90.00   \n",
        "\n",
        "       net_residential_units  \n",
        "count               10566.00  \n",
        "mean                   -0.54  \n",
        "std                     9.87  \n",
        "min                  -216.00  \n",
        "25%                     0.00  \n",
        "50%                     0.00  \n",
        "75%                     1.00  \n",
        "max                    90.00  "
       ]
      },
      {
       "output_type": "stream",
       "stream": "stdout",
       "text": [
        "\n",
        "building_type_id\n",
        "2                   5203096.33\n",
        "3                   6297830.38\n",
        "5                   4739535.87\n",
        "9                   1567143.18\n",
        "17                  3915675.79\n",
        "18                  2255506.63\n",
        "20                  4318938.28\n",
        "22                  1437377.25\n",
        "24                  4875112.35\n",
        "Name: building_sqft, dtype: float64\n",
        "building_type_id\n",
        "2                   4733\n",
        "3                   5354\n",
        "5                      0\n",
        "9                      0\n",
        "17                     0\n",
        "18                     0\n",
        "20                  4141\n",
        "22                     0\n",
        "24                  4535\n",
        "Name: residential_units, dtype: float64\n",
        "Applying price shifts\n"
       ]
      }
     ],
     "prompt_number": 6
    },
    {
     "cell_type": "code",
     "collapsed": false,
     "input": [
      "# sim_year = 2015\n",
      "# urbancanvas_scenario_id = 0\n",
      "\n",
      "# def export_to_urbancanvas(building_df,current_year,urbancanvas_scenario_id):\n",
      "#     import pandas.io.sql as sql\n",
      "#     import psycopg2\n",
      "#     import cStringIO\n",
      "#     conn_string = \"host='paris.urbansim.org' dbname='denver' user='drcog' password='M0untains#' port=5433\"\n",
      "#     conn=psycopg2.connect(conn_string)\n",
      "#     cur = conn.cursor()\n",
      "    \n",
      "#     if urbancanvas_scenario_id == 0:\n",
      "#         query = \"select nextval('developmentproject_id_seq');\"\n",
      "#         nextval = sql.read_frame(query,conn)\n",
      "#         nextval = nextval.values[0][0]\n",
      "#         query = \"select max(id)+1 from scenario_project;\"\n",
      "#         id = sql.read_frame(query,conn)\n",
      "#         id = id.values[0][0]\n",
      "#         query = \"INSERT INTO scenario(id, name) VALUES(%s, 'Run #%s');\" % (nextval,nextval)\n",
      "#         cur.execute(query)\n",
      "#         conn.commit()\n",
      "#         query = \"INSERT INTO scenario_project(id, scenario, project) VALUES(%s, %s, 1);\" % (id,nextval)\n",
      "#         cur.execute(query)\n",
      "#         conn.commit()\n",
      "#         query = \"select max(id)+1 from scenario_project;\"\n",
      "#         id = sql.read_frame(query,conn)\n",
      "#         id = id.values[0][0]\n",
      "#         query = \"INSERT INTO scenario_project(id, scenario, project) VALUES(%s, %s, %s);\" % (id,nextval,nextval)\n",
      "#         cur.execute(query)\n",
      "#         conn.commit()\n",
      "#     else:\n",
      "#         nextval = urbancanvas_scenario_id\n",
      "#     nextval_string = '{' + str(nextval) + '}'\n",
      "#     building_df['projects'] = nextval_string\n",
      "    \n",
      "#     valid_from = '{' + str(current_year) + '-1-1}'\n",
      "#     building_df['valid_from'] = valid_from\n",
      "#     building_df['land_area'] = 0\n",
      "#     building_df['tax_exempt'] = 0\n",
      "#     building_df['srcparc_id'] = '0'\n",
      "#     building_df['building_id'] = building_df.index.values\n",
      "#     building_df['stories'] = 30 ###For testing!\n",
      "#     del building_df['unit_price_residential']\n",
      "#     del building_df['unit_price_non_residential']\n",
      "#     del building_df['building_sqft_per_job']\n",
      "#     del building_df['base_year_jobs']\n",
      "#     del building_df['non_residential_units']\n",
      "#     del building_df['all_units']\n",
      "    \n",
      "#     print 'Exporting %s buildings to Urbancanvas database for project %s and year %s.' % (building_df.index.size,nextval,current_year)\n",
      "#     output = cStringIO.StringIO()\n",
      "#     building_df.to_csv(output, sep='\\t', header=False, index=False)\n",
      "#     output.seek(0)\n",
      "#     cur.copy_from(output, 'building_footprints', columns =tuple(building_df.columns.values.tolist()))\n",
      "#     conn.commit()\n",
      "    \n",
      "#     return nextval\n",
      "\n",
      "# nv = export_to_urbancanvas(newbuildings, sim_year, urbancanvas_scenario_id)"
     ],
     "language": "python",
     "metadata": {},
     "outputs": [],
     "prompt_number": 7
    },
    {
     "cell_type": "code",
     "collapsed": false,
     "input": [
      "urbancanvas_scenario_id = 0\n",
      "from drcog.variables import urbancanvas_export\n",
      "nv = urbancanvas_export.export_to_urbancanvas(newbuildings, sim_year, urbancanvas_scenario_id)"
     ],
     "language": "python",
     "metadata": {},
     "outputs": [
      {
       "output_type": "stream",
       "stream": "stdout",
       "text": [
        "Exporting 10566 buildings to Urbancanvas database for project 160 and year 2011.\n"
       ]
      }
     ],
     "prompt_number": 8
    },
    {
     "cell_type": "code",
     "collapsed": false,
     "input": [
      "nv"
     ],
     "language": "python",
     "metadata": {},
     "outputs": [
      {
       "metadata": {},
       "output_type": "pyout",
       "prompt_number": 9,
       "text": [
        "160"
       ]
      }
     ],
     "prompt_number": 9
    }
   ],
   "metadata": {}
  }
 ]
}