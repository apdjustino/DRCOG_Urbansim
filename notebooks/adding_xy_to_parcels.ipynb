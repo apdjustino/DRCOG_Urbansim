{
 "metadata": {
  "name": ""
 },
 "nbformat": 3,
 "nbformat_minor": 0,
 "worksheets": [
  {
   "cells": [
    {
     "cell_type": "code",
     "collapsed": false,
     "input": [
      "import numpy as np, pandas as pd, os\n",
      "from synthicity.utils import misc\n",
      "from drcog.models import elcm_simulation, hlcm_simulation, regression_model_simulation, dataset\n",
      "dset = dataset.DRCOGDataset(os.path.join(misc.data_dir(),'drcog.h5'))\n",
      "parcels = dset.parcels"
     ],
     "language": "python",
     "metadata": {},
     "outputs": [
      {
       "output_type": "stream",
       "stream": "stdout",
       "text": [
        "Fetching parcels\n",
        "Fetching modify_table"
       ]
      },
      {
       "output_type": "stream",
       "stream": "stdout",
       "text": [
        "\n"
       ]
      }
     ],
     "prompt_number": 3
    },
    {
     "cell_type": "code",
     "collapsed": false,
     "input": [
      "dset.store.parcels"
     ],
     "language": "python",
     "metadata": {},
     "outputs": [
      {
       "html": [
        "<pre>\n",
        "&lt;class 'pandas.core.frame.DataFrame'&gt;\n",
        "Int64Index: 949484 entries, 1 to 1128935\n",
        "Data columns (total 23 columns):\n",
        "county_id                949484  non-null values\n",
        "parcel_sqft              949484  non-null values\n",
        "land_value               949484  non-null values\n",
        "zone_id                  949484  non-null values\n",
        "city_id                  949484  non-null values\n",
        "gen_lu_type_id           949484  non-null values\n",
        "lu_type_id               949484  non-null values\n",
        "tax_exempt_flag          949484  non-null values\n",
        "school_district          949484  non-null values\n",
        "zoning_id                949484  non-null values\n",
        "dist_bus                 949484  non-null values\n",
        "dist_rail                949484  non-null values\n",
        "in_ugb                   949484  non-null values\n",
        "in_uga                   949484  non-null values\n",
        "env_constr_park          949484  non-null values\n",
        "env_constr_lake          949484  non-null values\n",
        "env_constr_floodplain    949484  non-null values\n",
        "env_constr_river         949484  non-null values\n",
        "env_constr_landslide     949484  non-null values\n",
        "far_id                   949484  non-null values\n",
        "prop_constrained         949484  non-null values\n",
        "centroid_x               949484  non-null values\n",
        "centroid_y               949484  non-null values\n",
        "dtypes: float32(7), int32(14), int64(2)\n",
        "</pre>"
       ],
       "metadata": {},
       "output_type": "pyout",
       "prompt_number": 6,
       "text": [
        "<class 'pandas.core.frame.DataFrame'>\n",
        "Int64Index: 949484 entries, 1 to 1128935\n",
        "Data columns (total 23 columns):\n",
        "county_id                949484  non-null values\n",
        "parcel_sqft              949484  non-null values\n",
        "land_value               949484  non-null values\n",
        "zone_id                  949484  non-null values\n",
        "city_id                  949484  non-null values\n",
        "gen_lu_type_id           949484  non-null values\n",
        "lu_type_id               949484  non-null values\n",
        "tax_exempt_flag          949484  non-null values\n",
        "school_district          949484  non-null values\n",
        "zoning_id                949484  non-null values\n",
        "dist_bus                 949484  non-null values\n",
        "dist_rail                949484  non-null values\n",
        "in_ugb                   949484  non-null values\n",
        "in_uga                   949484  non-null values\n",
        "env_constr_park          949484  non-null values\n",
        "env_constr_lake          949484  non-null values\n",
        "env_constr_floodplain    949484  non-null values\n",
        "env_constr_river         949484  non-null values\n",
        "env_constr_landslide     949484  non-null values\n",
        "far_id                   949484  non-null values\n",
        "prop_constrained         949484  non-null values\n",
        "centroid_x               949484  non-null values\n",
        "centroid_y               949484  non-null values\n",
        "dtypes: float32(7), int32(14), int64(2)"
       ]
      }
     ],
     "prompt_number": 6
    },
    {
     "cell_type": "code",
     "collapsed": false,
     "input": [
      "misc.data_dir()"
     ],
     "language": "python",
     "metadata": {},
     "outputs": [
      {
       "metadata": {},
       "output_type": "pyout",
       "prompt_number": 3,
       "text": [
        "'c:\\\\urbansim\\\\data'"
       ]
      }
     ],
     "prompt_number": 3
    },
    {
     "cell_type": "code",
     "collapsed": false,
     "input": [
      "parcels.columns"
     ],
     "language": "python",
     "metadata": {},
     "outputs": [
      {
       "ename": "NameError",
       "evalue": "name 'parcels' is not defined",
       "output_type": "pyerr",
       "traceback": [
        "\u001b[1;31m---------------------------------------------------------------------------\u001b[0m\n\u001b[1;31mNameError\u001b[0m                                 Traceback (most recent call last)",
        "\u001b[1;32m<ipython-input-1-e098aa358884>\u001b[0m in \u001b[0;36m<module>\u001b[1;34m()\u001b[0m\n\u001b[1;32m----> 1\u001b[1;33m \u001b[0mparcels\u001b[0m\u001b[1;33m.\u001b[0m\u001b[0mcolumns\u001b[0m\u001b[1;33m\u001b[0m\u001b[0m\n\u001b[0m",
        "\u001b[1;31mNameError\u001b[0m: name 'parcels' is not defined"
       ]
      }
     ],
     "prompt_number": 1
    },
    {
     "cell_type": "code",
     "collapsed": false,
     "input": [],
     "language": "python",
     "metadata": {},
     "outputs": [],
     "prompt_number": 4
    },
    {
     "cell_type": "code",
     "collapsed": false,
     "input": [
      "parcels = parcels.sort_index()"
     ],
     "language": "python",
     "metadata": {},
     "outputs": [],
     "prompt_number": 5
    },
    {
     "cell_type": "code",
     "collapsed": false,
     "input": [
      "import psycopg2\n",
      "import pandas.io.sql as sql\n",
      "conn_string = \"host='paris.urbansim.org' port=5433 dbname='denver' user='drcog' password='M0untains#'\"\n",
      "conn = psycopg2.connect(conn_string)\n",
      "cur = conn.cursor()\n",
      "parcels_ref = sql.read_frame('select parcel_id, parcel_sqft,centroid_x,centroid_y from parcels_for_reference',conn)"
     ],
     "language": "python",
     "metadata": {},
     "outputs": [],
     "prompt_number": 6
    },
    {
     "cell_type": "code",
     "collapsed": false,
     "input": [
      "parcels_ref = parcels_ref.set_index('parcel_id')\n",
      "parcels_ref = parcels_ref.sort_index()"
     ],
     "language": "python",
     "metadata": {},
     "outputs": [],
     "prompt_number": 7
    },
    {
     "cell_type": "code",
     "collapsed": false,
     "input": [
      "parcels_ref.tail()"
     ],
     "language": "python",
     "metadata": {},
     "outputs": [
      {
       "html": [
        "<div style=\"max-height:1000px;max-width:1500px;overflow:auto;\">\n",
        "<table border=\"1\" class=\"dataframe\">\n",
        "  <thead>\n",
        "    <tr style=\"text-align: right;\">\n",
        "      <th></th>\n",
        "      <th>parcel_sqft</th>\n",
        "      <th>centroid_x</th>\n",
        "      <th>centroid_y</th>\n",
        "    </tr>\n",
        "    <tr>\n",
        "      <th>parcel_id</th>\n",
        "      <th></th>\n",
        "      <th></th>\n",
        "      <th></th>\n",
        "    </tr>\n",
        "  </thead>\n",
        "  <tbody>\n",
        "    <tr>\n",
        "      <th>1128930</th>\n",
        "      <td>  57444</td>\n",
        "      <td> 3253951</td>\n",
        "      <td> 1557284</td>\n",
        "    </tr>\n",
        "    <tr>\n",
        "      <th>1128932</th>\n",
        "      <td> 108764</td>\n",
        "      <td> 3260487</td>\n",
        "      <td> 1568146</td>\n",
        "    </tr>\n",
        "    <tr>\n",
        "      <th>1128933</th>\n",
        "      <td>  38235</td>\n",
        "      <td> 3260421</td>\n",
        "      <td> 1568760</td>\n",
        "    </tr>\n",
        "    <tr>\n",
        "      <th>1128934</th>\n",
        "      <td> 113718</td>\n",
        "      <td> 3260292</td>\n",
        "      <td> 1565251</td>\n",
        "    </tr>\n",
        "    <tr>\n",
        "      <th>1128935</th>\n",
        "      <td>  24011</td>\n",
        "      <td> 3256371</td>\n",
        "      <td> 1569931</td>\n",
        "    </tr>\n",
        "  </tbody>\n",
        "</table>\n",
        "</div>"
       ],
       "metadata": {},
       "output_type": "pyout",
       "prompt_number": 8,
       "text": [
        "           parcel_sqft  centroid_x  centroid_y\n",
        "parcel_id                                     \n",
        "1128930          57444     3253951     1557284\n",
        "1128932         108764     3260487     1568146\n",
        "1128933          38235     3260421     1568760\n",
        "1128934         113718     3260292     1565251\n",
        "1128935          24011     3256371     1569931"
       ]
      }
     ],
     "prompt_number": 8
    },
    {
     "cell_type": "code",
     "collapsed": false,
     "input": [
      "parcels[['parcel_sqft']].tail()"
     ],
     "language": "python",
     "metadata": {},
     "outputs": [
      {
       "html": [
        "<div style=\"max-height:1000px;max-width:1500px;overflow:auto;\">\n",
        "<table border=\"1\" class=\"dataframe\">\n",
        "  <thead>\n",
        "    <tr style=\"text-align: right;\">\n",
        "      <th></th>\n",
        "      <th>parcel_sqft</th>\n",
        "    </tr>\n",
        "    <tr>\n",
        "      <th>parcel_id</th>\n",
        "      <th></th>\n",
        "    </tr>\n",
        "  </thead>\n",
        "  <tbody>\n",
        "    <tr>\n",
        "      <th>1128930</th>\n",
        "      <td>       0</td>\n",
        "    </tr>\n",
        "    <tr>\n",
        "      <th>1128932</th>\n",
        "      <td> 1636528</td>\n",
        "    </tr>\n",
        "    <tr>\n",
        "      <th>1128933</th>\n",
        "      <td> 3187557</td>\n",
        "    </tr>\n",
        "    <tr>\n",
        "      <th>1128934</th>\n",
        "      <td>  113718</td>\n",
        "    </tr>\n",
        "    <tr>\n",
        "      <th>1128935</th>\n",
        "      <td> 1707626</td>\n",
        "    </tr>\n",
        "  </tbody>\n",
        "</table>\n",
        "</div>"
       ],
       "metadata": {},
       "output_type": "pyout",
       "prompt_number": 9,
       "text": [
        "           parcel_sqft\n",
        "parcel_id             \n",
        "1128930              0\n",
        "1128932        1636528\n",
        "1128933        3187557\n",
        "1128934         113718\n",
        "1128935        1707626"
       ]
      }
     ],
     "prompt_number": 9
    },
    {
     "cell_type": "code",
     "collapsed": false,
     "input": [
      "parcels['centroid_x'] = parcels_ref.centroid_x\n",
      "parcels['centroid_y'] = parcels_ref.centroid_y"
     ],
     "language": "python",
     "metadata": {},
     "outputs": [],
     "prompt_number": 10
    },
    {
     "cell_type": "code",
     "collapsed": false,
     "input": [
      "parcels[['parcel_sqft','centroid_x','centroid_y']].head()"
     ],
     "language": "python",
     "metadata": {},
     "outputs": [
      {
       "html": [
        "<div style=\"max-height:1000px;max-width:1500px;overflow:auto;\">\n",
        "<table border=\"1\" class=\"dataframe\">\n",
        "  <thead>\n",
        "    <tr style=\"text-align: right;\">\n",
        "      <th></th>\n",
        "      <th>parcel_sqft</th>\n",
        "      <th>centroid_x</th>\n",
        "      <th>centroid_y</th>\n",
        "    </tr>\n",
        "    <tr>\n",
        "      <th>parcel_id</th>\n",
        "      <th></th>\n",
        "      <th></th>\n",
        "      <th></th>\n",
        "    </tr>\n",
        "  </thead>\n",
        "  <tbody>\n",
        "    <tr>\n",
        "      <th>1</th>\n",
        "      <td>   20479</td>\n",
        "      <td> 3174135</td>\n",
        "      <td> 1695429</td>\n",
        "    </tr>\n",
        "    <tr>\n",
        "      <th>2</th>\n",
        "      <td>   17777</td>\n",
        "      <td> 3180889</td>\n",
        "      <td> 1695592</td>\n",
        "    </tr>\n",
        "    <tr>\n",
        "      <th>3</th>\n",
        "      <td>   59025</td>\n",
        "      <td> 3175519</td>\n",
        "      <td> 1699844</td>\n",
        "    </tr>\n",
        "    <tr>\n",
        "      <th>4</th>\n",
        "      <td> 1640178</td>\n",
        "      <td> 3192128</td>\n",
        "      <td> 1747750</td>\n",
        "    </tr>\n",
        "    <tr>\n",
        "      <th>5</th>\n",
        "      <td>       0</td>\n",
        "      <td> 3154372</td>\n",
        "      <td> 1747898</td>\n",
        "    </tr>\n",
        "  </tbody>\n",
        "</table>\n",
        "</div>"
       ],
       "metadata": {},
       "output_type": "pyout",
       "prompt_number": 11,
       "text": [
        "           parcel_sqft  centroid_x  centroid_y\n",
        "parcel_id                                     \n",
        "1                20479     3174135     1695429\n",
        "2                17777     3180889     1695592\n",
        "3                59025     3175519     1699844\n",
        "4              1640178     3192128     1747750\n",
        "5                    0     3154372     1747898"
       ]
      }
     ],
     "prompt_number": 11
    },
    {
     "cell_type": "code",
     "collapsed": false,
     "input": [
      "parcels_ref.head()"
     ],
     "language": "python",
     "metadata": {},
     "outputs": [
      {
       "html": [
        "<div style=\"max-height:1000px;max-width:1500px;overflow:auto;\">\n",
        "<table border=\"1\" class=\"dataframe\">\n",
        "  <thead>\n",
        "    <tr style=\"text-align: right;\">\n",
        "      <th></th>\n",
        "      <th>parcel_sqft</th>\n",
        "      <th>centroid_x</th>\n",
        "      <th>centroid_y</th>\n",
        "    </tr>\n",
        "    <tr>\n",
        "      <th>parcel_id</th>\n",
        "      <th></th>\n",
        "      <th></th>\n",
        "      <th></th>\n",
        "    </tr>\n",
        "  </thead>\n",
        "  <tbody>\n",
        "    <tr>\n",
        "      <th>1</th>\n",
        "      <td>  20479</td>\n",
        "      <td> 3174135</td>\n",
        "      <td> 1695429</td>\n",
        "    </tr>\n",
        "    <tr>\n",
        "      <th>2</th>\n",
        "      <td>  17777</td>\n",
        "      <td> 3180889</td>\n",
        "      <td> 1695592</td>\n",
        "    </tr>\n",
        "    <tr>\n",
        "      <th>3</th>\n",
        "      <td>  59025</td>\n",
        "      <td> 3175519</td>\n",
        "      <td> 1699844</td>\n",
        "    </tr>\n",
        "    <tr>\n",
        "      <th>4</th>\n",
        "      <td> 285497</td>\n",
        "      <td> 3192128</td>\n",
        "      <td> 1747750</td>\n",
        "    </tr>\n",
        "    <tr>\n",
        "      <th>5</th>\n",
        "      <td>  27156</td>\n",
        "      <td> 3154372</td>\n",
        "      <td> 1747898</td>\n",
        "    </tr>\n",
        "  </tbody>\n",
        "</table>\n",
        "</div>"
       ],
       "metadata": {},
       "output_type": "pyout",
       "prompt_number": 12,
       "text": [
        "           parcel_sqft  centroid_x  centroid_y\n",
        "parcel_id                                     \n",
        "1                20479     3174135     1695429\n",
        "2                17777     3180889     1695592\n",
        "3                59025     3175519     1699844\n",
        "4               285497     3192128     1747750\n",
        "5                27156     3154372     1747898"
       ]
      }
     ],
     "prompt_number": 12
    },
    {
     "cell_type": "code",
     "collapsed": false,
     "input": [
      "store = pd.HDFStore('c:\\\\urbansim\\\\data\\\\drcog.h5')"
     ],
     "language": "python",
     "metadata": {},
     "outputs": [],
     "prompt_number": 13
    },
    {
     "cell_type": "code",
     "collapsed": false,
     "input": [
      "store['parcels'] = parcels"
     ],
     "language": "python",
     "metadata": {},
     "outputs": [],
     "prompt_number": 14
    },
    {
     "cell_type": "code",
     "collapsed": false,
     "input": [
      "store.close()"
     ],
     "language": "python",
     "metadata": {},
     "outputs": [],
     "prompt_number": 15
    }
   ],
   "metadata": {}
  }
 ]
}