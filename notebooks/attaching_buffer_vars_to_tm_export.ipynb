{
 "metadata": {
  "name": ""
 },
 "nbformat": 3,
 "nbformat_minor": 0,
 "worksheets": [
  {
   "cells": [
    {
     "cell_type": "code",
     "collapsed": false,
     "input": [
      "import numpy as np, pandas as pd, os\n",
      "from synthicity.utils import misc\n",
      "from drcog.models import regression_model_estimation, choice_model_estimation, dataset\n",
      "dset = dataset.DRCOGDataset(os.path.join(misc.data_dir(),'drcog.h5'))"
     ],
     "language": "python",
     "metadata": {},
     "outputs": [],
     "prompt_number": 1
    },
    {
     "cell_type": "code",
     "collapsed": false,
     "input": [
      "import psycopg2\n",
      "import pandas.io.sql as sql\n",
      "conn_string = \"host='paris.urbansim.org' port=5433 dbname='denver' user='drcog' password='M0untains#'\"\n",
      "conn = psycopg2.connect(conn_string)\n",
      "cur = conn.cursor()\n",
      "hh_buffer = sql.read_frame('select * from hh_buffer',conn)\n",
      "hh_job_buffer = sql.read_frame('select * from hh_job_buffer',conn)\n",
      "job_buffer = sql.read_frame('select * from job_buffer',conn)\n",
      "job_hh_buffer = sql.read_frame('select * from job_hh_buffer',conn)"
     ],
     "language": "python",
     "metadata": {},
     "outputs": [],
     "prompt_number": 2
    },
    {
     "cell_type": "code",
     "collapsed": false,
     "input": [
      "hh_buffer = hh_buffer.set_index('taz05_id')\n",
      "hh_job_buffer = hh_job_buffer.set_index('taz05_id')\n",
      "job_buffer = job_buffer.set_index('taz05_id')\n",
      "job_hh_buffer = job_hh_buffer.set_index('taz05_id')"
     ],
     "language": "python",
     "metadata": {},
     "outputs": [],
     "prompt_number": 19
    },
    {
     "cell_type": "code",
     "collapsed": false,
     "input": [
      "print hh_buffer\n",
      "print hh_job_buffer\n",
      "print job_buffer\n",
      "print job_hh_buffer"
     ],
     "language": "python",
     "metadata": {},
     "outputs": [
      {
       "output_type": "stream",
       "stream": "stdout",
       "text": [
        "<class 'pandas.core.frame.DataFrame'>\n",
        "Int64Index: 2508 entries, 301490 to 403090\n",
        "Data columns (total 1 columns):\n",
        "hhvirhhbuffer    2508  non-null values\n",
        "dtypes: int64(1)\n",
        "<class 'pandas.core.frame.DataFrame'>\n",
        "Int64Index: 2453 entries, 301490 to 512130\n",
        "Data columns (total 1 columns):\n",
        "hhvirempbuffer    2453  non-null values\n",
        "dtypes: int64(1)\n",
        "<class 'pandas.core.frame.DataFrame'>\n",
        "Int64Index: 2576 entries, 301490 to 102250\n",
        "Data columns (total 7 columns):\n",
        "empdensempcentroid           2576  non-null values\n",
        "eddensempcentroid            2576  non-null values\n",
        "entdensempcentroid           2576  non-null values\n",
        "servdensempcentroid          2576  non-null values\n",
        "proddensempcentroid          2576  non-null values\n",
        "restaurantdensempcentroid    2576  non-null values\n",
        "retaildensempcentroid        2576  non-null values\n",
        "dtypes: int64(7)\n",
        "<class 'pandas.core.frame.DataFrame'>\n",
        "Int64Index: 2550 entries, 301490 to 502110\n",
        "Data columns (total 4 columns):\n",
        "total_jobs                             2550  non-null values\n",
        "retaildenshhcentroid                   2550  non-null values\n",
        "restaurantemploymenthouseholdbuffer    2550  non-null values\n",
        "retailemploymenthouseholdbuffer        2550  non-null values\n",
        "dtypes: int64(4)\n"
       ]
      }
     ],
     "prompt_number": 20
    },
    {
     "cell_type": "code",
     "collapsed": false,
     "input": [
      "fixed_vars = pd.read_csv('C:\\\\urbansim\\\\data\\\\travel_model\\\\fixed.csv')"
     ],
     "language": "python",
     "metadata": {},
     "outputs": [],
     "prompt_number": 7
    },
    {
     "cell_type": "code",
     "collapsed": false,
     "input": [
      "taz = fixed_vars[['TAZ05_ID']]\n",
      "taz.columns = ['taz05_id']\n",
      "taz = taz.set_index('taz05_id')"
     ],
     "language": "python",
     "metadata": {},
     "outputs": [],
     "prompt_number": 13
    },
    {
     "cell_type": "code",
     "collapsed": false,
     "input": [
      "for df in [hh_buffer, hh_job_buffer, job_buffer, job_hh_buffer]:\n",
      "    for column in df.columns:\n",
      "        taz[column] = df[column]"
     ],
     "language": "python",
     "metadata": {},
     "outputs": [],
     "prompt_number": 23
    },
    {
     "cell_type": "code",
     "collapsed": false,
     "input": [
      "taz = taz.fillna(0)"
     ],
     "language": "python",
     "metadata": {},
     "outputs": [],
     "prompt_number": 25
    },
    {
     "cell_type": "code",
     "collapsed": false,
     "input": [
      "taz.to_csv('c://users//janowicz//desktop//test_buffers.csv')"
     ],
     "language": "python",
     "metadata": {},
     "outputs": [],
     "prompt_number": 30
    },
    {
     "cell_type": "code",
     "collapsed": false,
     "input": [
      "taz = taz.rename(columns={'hhvirhhbuffer': 'HouseholdsVirtualHHCentroidBuffer', 'hhvirempbuffer': 'HouseholdsEmpVirtualCentroidBuffer', 'empdensempcentroid': 'EmpDensEmpCentroid', \n",
      "                          'eddensempcentroid': 'EdDensEmpCentroid', 'entdensempcentroid': 'EntDensEmpCentroid', 'servdensempcentroid': 'ServDensEmpCentroid', \n",
      "                          'proddensempcentroid': 'ProdDensEmpCentroid', 'restaurantdensempcentroid': 'RestaurantDensEmpCentroid', 'retaildensempcentroid': 'RetailDensEmpCentroid', \n",
      "                          'restaurantemploymenthouseholdbuffer': 'RestaurantEmploymentHouseholdBuffer', 'retailemploymenthouseholdbuffer': 'RetailEmploymentHouseholdBuffer',\n",
      "                          'servdenshhcentroid': 'ServDensHHCentroid', })"
     ],
     "language": "python",
     "metadata": {},
     "outputs": [],
     "prompt_number": 34
    },
    {
     "cell_type": "code",
     "collapsed": false,
     "input": [
      "taz"
     ],
     "language": "python",
     "metadata": {},
     "outputs": [
      {
       "html": [
        "<pre>\n",
        "&lt;class 'pandas.core.frame.DataFrame'&gt;\n",
        "Int64Index: 2804 entries, 101010 to 803120\n",
        "Data columns (total 14 columns):\n",
        "ZoneID                                 2804  non-null values\n",
        "HouseholdsVirtualHHCentroidBuffer      2804  non-null values\n",
        "HouseholdsEmpVirtualCentroidBuffer     2804  non-null values\n",
        "EmpDensEmpCentroid                     2804  non-null values\n",
        "EdDensEmpCentroid                      2804  non-null values\n",
        "EntDensEmpCentroid                     2804  non-null values\n",
        "ServDensEmpCentroid                    2804  non-null values\n",
        "ProdDensEmpCentroid                    2804  non-null values\n",
        "RestaurantDensEmpCentroid              2804  non-null values\n",
        "RetailDensEmpCentroid                  2804  non-null values\n",
        "total_jobs                             2804  non-null values\n",
        "retaildenshhcentroid                   2804  non-null values\n",
        "RestaurantEmploymentHouseholdBuffer    2804  non-null values\n",
        "RetailEmploymentHouseholdBuffer        2804  non-null values\n",
        "dtypes: float64(13), int64(1)\n",
        "</pre>"
       ],
       "metadata": {},
       "output_type": "pyout",
       "prompt_number": 35,
       "text": [
        "<class 'pandas.core.frame.DataFrame'>\n",
        "Int64Index: 2804 entries, 101010 to 803120\n",
        "Data columns (total 14 columns):\n",
        "ZoneID                                 2804  non-null values\n",
        "HouseholdsVirtualHHCentroidBuffer      2804  non-null values\n",
        "HouseholdsEmpVirtualCentroidBuffer     2804  non-null values\n",
        "EmpDensEmpCentroid                     2804  non-null values\n",
        "EdDensEmpCentroid                      2804  non-null values\n",
        "EntDensEmpCentroid                     2804  non-null values\n",
        "ServDensEmpCentroid                    2804  non-null values\n",
        "ProdDensEmpCentroid                    2804  non-null values\n",
        "RestaurantDensEmpCentroid              2804  non-null values\n",
        "RetailDensEmpCentroid                  2804  non-null values\n",
        "total_jobs                             2804  non-null values\n",
        "retaildenshhcentroid                   2804  non-null values\n",
        "RestaurantEmploymentHouseholdBuffer    2804  non-null values\n",
        "RetailEmploymentHouseholdBuffer        2804  non-null values\n",
        "dtypes: float64(13), int64(1)"
       ]
      }
     ],
     "prompt_number": 35
    },
    {
     "cell_type": "code",
     "collapsed": false,
     "input": [
      "\n",
      "taz['resden'] = taz.HouseholdsVirtualHHCentroidBuffer/1000.0\n",
      "taz['retden'] = (taz.RestaurantEmploymentHouseholdBuffer + taz.RetailEmploymentHouseholdBuffer)/1000.0\n",
      "taz['MixedUseDensityHouseholdCentroid'] = (taz.retden*taz.resden)/np.maximum(np.array([.0001]*2804),(taz.retden+taz.resden))"
     ],
     "language": "python",
     "metadata": {},
     "outputs": [],
     "prompt_number": 38
    },
    {
     "cell_type": "code",
     "collapsed": false,
     "input": [
      "taz['resden'] = taz.HouseholdsEmpVirtualCentroidBuffer/1000.0\n",
      "taz['retden'] = (taz.RestaurantDensEmpCentroid + taz.RetailDensEmpCentroid)/1000.0\n",
      "taz['MixedUseDensityEmploymentCentroid'] = (taz.retden*taz.resden)/np.maximum(np.array([.0001]*2804),(taz.retden+taz.resden))"
     ],
     "language": "python",
     "metadata": {},
     "outputs": [],
     "prompt_number": 40
    },
    {
     "cell_type": "code",
     "collapsed": false,
     "input": [
      "taz.MixedUseDensityEmploymentCentroid"
     ],
     "language": "python",
     "metadata": {},
     "outputs": [
      {
       "metadata": {},
       "output_type": "pyout",
       "prompt_number": 41,
       "text": [
        "taz05_id\n",
        "101010      0.000000\n",
        "101020      0.000000\n",
        "101030      0.000000\n",
        "101040      0.000000\n",
        "101050      0.000000\n",
        "101060      0.000000\n",
        "101070      0.000000\n",
        "101080      0.132680\n",
        "101090      0.000000\n",
        "101100      0.000000\n",
        "101110      0.000000\n",
        "101120      0.000000\n",
        "101130      0.000000\n",
        "102010      0.000000\n",
        "102020      0.088297\n",
        "...\n",
        "802502      0.017102\n",
        "802510      0.000000\n",
        "802520      0.003977\n",
        "802530      0.004971\n",
        "802540      0.000996\n",
        "802550      0.000000\n",
        "803040      0.001810\n",
        "803050      0.000000\n",
        "803060      0.000000\n",
        "803070      0.012627\n",
        "803080      0.001983\n",
        "803090      0.000000\n",
        "803100      0.000000\n",
        "803110      0.000000\n",
        "803120      0.002357\n",
        "Name: MixedUseDensityEmploymentCentroid, Length: 2804, dtype: float64"
       ]
      }
     ],
     "prompt_number": 41
    },
    {
     "cell_type": "code",
     "collapsed": false,
     "input": [
      "pc = dset.store.parcel_coords"
     ],
     "language": "python",
     "metadata": {},
     "outputs": [],
     "prompt_number": 44
    },
    {
     "cell_type": "code",
     "collapsed": false,
     "input": [
      "pc.describe()"
     ],
     "language": "python",
     "metadata": {},
     "outputs": [
      {
       "html": [
        "<div style=\"max-height:1000px;max-width:1500px;overflow:auto;\">\n",
        "<table border=\"1\" class=\"dataframe\">\n",
        "  <thead>\n",
        "    <tr style=\"text-align: right;\">\n",
        "      <th></th>\n",
        "      <th>parcel_id</th>\n",
        "      <th>x</th>\n",
        "      <th>y</th>\n",
        "    </tr>\n",
        "  </thead>\n",
        "  <tbody>\n",
        "    <tr>\n",
        "      <th>count</th>\n",
        "      <td> 3162512.000000</td>\n",
        "      <td>  3162512.000000</td>\n",
        "      <td>  3162512.000000</td>\n",
        "    </tr>\n",
        "    <tr>\n",
        "      <th>mean</th>\n",
        "      <td>  597105.712568</td>\n",
        "      <td>  3184116.360599</td>\n",
        "      <td>  1689391.047672</td>\n",
        "    </tr>\n",
        "    <tr>\n",
        "      <th>std</th>\n",
        "      <td>  381059.180516</td>\n",
        "      <td>   364443.952330</td>\n",
        "      <td>   221446.650327</td>\n",
        "    </tr>\n",
        "    <tr>\n",
        "      <th>min</th>\n",
        "      <td>       1.000000</td>\n",
        "      <td>        0.000000</td>\n",
        "      <td>        0.000000</td>\n",
        "    </tr>\n",
        "    <tr>\n",
        "      <th>25%</th>\n",
        "      <td>  219557.000000</td>\n",
        "      <td>  3110447.000000</td>\n",
        "      <td>  1628409.000000</td>\n",
        "    </tr>\n",
        "    <tr>\n",
        "      <th>50%</th>\n",
        "      <td>  608138.000000</td>\n",
        "      <td>  3170916.000000</td>\n",
        "      <td>  1697839.000000</td>\n",
        "    </tr>\n",
        "    <tr>\n",
        "      <th>75%</th>\n",
        "      <td>  963874.250000</td>\n",
        "      <td>  3250266.000000</td>\n",
        "      <td>  1774834.000000</td>\n",
        "    </tr>\n",
        "    <tr>\n",
        "      <th>max</th>\n",
        "      <td> 1128935.000000</td>\n",
        "      <td> 96610777.000000</td>\n",
        "      <td> 51331606.000000</td>\n",
        "    </tr>\n",
        "  </tbody>\n",
        "</table>\n",
        "</div>"
       ],
       "metadata": {},
       "output_type": "pyout",
       "prompt_number": 46,
       "text": [
        "            parcel_id                x                y\n",
        "count  3162512.000000   3162512.000000   3162512.000000\n",
        "mean    597105.712568   3184116.360599   1689391.047672\n",
        "std     381059.180516    364443.952330    221446.650327\n",
        "min          1.000000         0.000000         0.000000\n",
        "25%     219557.000000   3110447.000000   1628409.000000\n",
        "50%     608138.000000   3170916.000000   1697839.000000\n",
        "75%     963874.250000   3250266.000000   1774834.000000\n",
        "max    1128935.000000  96610777.000000  51331606.000000"
       ]
      }
     ],
     "prompt_number": 46
    }
   ],
   "metadata": {}
  }
 ]
}