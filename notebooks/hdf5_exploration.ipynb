{
 "metadata": {
  "name": ""
 },
 "nbformat": 3,
 "nbformat_minor": 0,
 "worksheets": [
  {
   "cells": [
    {
     "cell_type": "code",
     "collapsed": false,
     "input": [
      "import numpy as np, pandas as pd, os\n",
      "from synthicity.utils import misc\n",
      "from drcog.models import elcm_simulation, hlcm_simulation, regression_model_simulation, dataset\n",
      "dset = dataset.DRCOGDataset(os.path.join(misc.data_dir(),'drcog.h5'))"
     ],
     "language": "python",
     "metadata": {},
     "outputs": [],
     "prompt_number": 1
    },
    {
     "cell_type": "code",
     "collapsed": false,
     "input": [
      "dset.store"
     ],
     "language": "python",
     "metadata": {},
     "outputs": [
      {
       "metadata": {},
       "output_type": "pyout",
       "prompt_number": 2,
       "text": [
        "<class 'pandas.io.pytables.HDFStore'>\n",
        "File path: c:\\urbansim\\data\\drcog.h5\n",
        "/annual_employment_control_totals             frame        (shape->[492,3])     \n",
        "/annual_household_control_totals              frame        (shape->[41,2])      \n",
        "/annual_household_relocation_rates            frame        (shape->[21,5])      \n",
        "/annual_job_relocation_rates                  frame        (shape->[31,1])      \n",
        "/building_sqft_per_job                        frame        (shape->[67296,1])   \n",
        "/buildings                                    frame        (shape->[881751,13]) \n",
        "/establishments                               frame        (shape->[202193,6])  \n",
        "/fars                                         frame        (shape->[2336,3])    \n",
        "/households                                   frame        (shape->[1160387,11])\n",
        "/households_for_estimation                    frame        (shape->[1442,10])   \n",
        "/parcel_coords                                frame        (shape->[3162512,3]) \n",
        "/parcels                                      frame        (shape->[949484,22]) \n",
        "/parcels_urbancen                             frame        (shape->[950968,2])  \n",
        "/target_vacancies                             frame        (shape->[154,1])     \n",
        "/travel_data                                  frame        (shape->[7862416,10])\n",
        "/zones                                        frame        (shape->[2804,32])   \n",
        "/zoning                                       frame        (shape->[32,24])     \n",
        "/zoning_building_type                         frame        (shape->[352,2])     "
       ]
      }
     ],
     "prompt_number": 2
    },
    {
     "cell_type": "code",
     "collapsed": false,
     "input": [
      "pc = dset.store.parcel_coords"
     ],
     "language": "python",
     "metadata": {},
     "outputs": [],
     "prompt_number": 3
    },
    {
     "cell_type": "code",
     "collapsed": false,
     "input": [
      "pc.describe()"
     ],
     "language": "python",
     "metadata": {},
     "outputs": [
      {
       "html": [
        "<div style=\"max-height:1000px;max-width:1500px;overflow:auto;\">\n",
        "<table border=\"1\" class=\"dataframe\">\n",
        "  <thead>\n",
        "    <tr style=\"text-align: right;\">\n",
        "      <th></th>\n",
        "      <th>parcel_id</th>\n",
        "      <th>x</th>\n",
        "      <th>y</th>\n",
        "    </tr>\n",
        "  </thead>\n",
        "  <tbody>\n",
        "    <tr>\n",
        "      <th>count</th>\n",
        "      <td> 3162512.000000</td>\n",
        "      <td>  3162512.000000</td>\n",
        "      <td>  3162512.000000</td>\n",
        "    </tr>\n",
        "    <tr>\n",
        "      <th>mean</th>\n",
        "      <td>  597105.712568</td>\n",
        "      <td>  3184116.360599</td>\n",
        "      <td>  1689391.047672</td>\n",
        "    </tr>\n",
        "    <tr>\n",
        "      <th>std</th>\n",
        "      <td>  381059.180516</td>\n",
        "      <td>   364443.952330</td>\n",
        "      <td>   221446.650327</td>\n",
        "    </tr>\n",
        "    <tr>\n",
        "      <th>min</th>\n",
        "      <td>       1.000000</td>\n",
        "      <td>        0.000000</td>\n",
        "      <td>        0.000000</td>\n",
        "    </tr>\n",
        "    <tr>\n",
        "      <th>25%</th>\n",
        "      <td>  219557.000000</td>\n",
        "      <td>  3110447.000000</td>\n",
        "      <td>  1628409.000000</td>\n",
        "    </tr>\n",
        "    <tr>\n",
        "      <th>50%</th>\n",
        "      <td>  608138.000000</td>\n",
        "      <td>  3170916.000000</td>\n",
        "      <td>  1697839.000000</td>\n",
        "    </tr>\n",
        "    <tr>\n",
        "      <th>75%</th>\n",
        "      <td>  963874.250000</td>\n",
        "      <td>  3250266.000000</td>\n",
        "      <td>  1774834.000000</td>\n",
        "    </tr>\n",
        "    <tr>\n",
        "      <th>max</th>\n",
        "      <td> 1128935.000000</td>\n",
        "      <td> 96610777.000000</td>\n",
        "      <td> 51331606.000000</td>\n",
        "    </tr>\n",
        "  </tbody>\n",
        "</table>\n",
        "</div>"
       ],
       "metadata": {},
       "output_type": "pyout",
       "prompt_number": 5,
       "text": [
        "            parcel_id                x                y\n",
        "count  3162512.000000   3162512.000000   3162512.000000\n",
        "mean    597105.712568   3184116.360599   1689391.047672\n",
        "std     381059.180516    364443.952330    221446.650327\n",
        "min          1.000000         0.000000         0.000000\n",
        "25%     219557.000000   3110447.000000   1628409.000000\n",
        "50%     608138.000000   3170916.000000   1697839.000000\n",
        "75%     963874.250000   3250266.000000   1774834.000000\n",
        "max    1128935.000000  96610777.000000  51331606.000000"
       ]
      }
     ],
     "prompt_number": 5
    }
   ],
   "metadata": {}
  }
 ]
}