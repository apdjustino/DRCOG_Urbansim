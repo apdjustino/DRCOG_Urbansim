{
 "metadata": {
  "name": ""
 },
 "nbformat": 3,
 "nbformat_minor": 0,
 "worksheets": [
  {
   "cells": [
    {
     "cell_type": "code",
     "collapsed": false,
     "input": [
      "import numpy as np, pandas as pd, os\n",
      "from synthicity.utils import misc\n",
      "from drcog.models import elcm_simulation, hlcm_simulation, regression_model_simulation, dataset\n",
      "dset = dataset.DRCOGDataset(os.path.join(misc.data_dir(),'drcog.h5'))"
     ],
     "language": "python",
     "metadata": {},
     "outputs": [],
     "prompt_number": 1
    },
    {
     "cell_type": "code",
     "collapsed": false,
     "input": [
      "dset.store"
     ],
     "language": "python",
     "metadata": {},
     "outputs": [
      {
       "metadata": {},
       "output_type": "pyout",
       "prompt_number": 2,
       "text": [
        "<class 'pandas.io.pytables.HDFStore'>\n",
        "File path: c:\\urbansim\\data\\drcog.h5\n",
        "/annual_employment_control_totals             frame        (shape->[492,3])     \n",
        "/annual_household_control_totals              frame        (shape->[41,2])      \n",
        "/annual_household_relocation_rates            frame        (shape->[21,5])      \n",
        "/annual_job_relocation_rates                  frame        (shape->[31,1])      \n",
        "/building_sqft_per_job                        frame        (shape->[67296,1])   \n",
        "/buildings                                    frame        (shape->[881751,13]) \n",
        "/establishments                               frame        (shape->[202193,6])  \n",
        "/fars                                         frame        (shape->[2336,3])    \n",
        "/households                                   frame        (shape->[1160387,11])\n",
        "/households_for_estimation                    frame        (shape->[1442,10])   \n",
        "/parcel_coords                                frame        (shape->[3162512,3]) \n",
        "/parcels                                      frame        (shape->[949484,22]) \n",
        "/parcels_urbancen                             frame        (shape->[950968,2])  \n",
        "/target_vacancies                             frame        (shape->[154,1])     \n",
        "/travel_data                                  frame        (shape->[7862416,10])\n",
        "/zones                                        frame        (shape->[2804,32])   \n",
        "/zoning                                       frame        (shape->[32,24])     \n",
        "/zoning_building_type                         frame        (shape->[352,2])     "
       ]
      }
     ],
     "prompt_number": 2
    },
    {
     "cell_type": "code",
     "collapsed": false,
     "input": [
      "p = dset.store.parcels"
     ],
     "language": "python",
     "metadata": {},
     "outputs": [],
     "prompt_number": 3
    },
    {
     "cell_type": "code",
     "collapsed": false,
     "input": [
      "p"
     ],
     "language": "python",
     "metadata": {},
     "outputs": [
      {
       "html": [
        "<pre>\n",
        "&lt;class 'pandas.core.frame.DataFrame'&gt;\n",
        "Int64Index: 949484 entries, 0 to 949483\n",
        "Data columns (total 22 columns):\n",
        "parcel_id                949484  non-null values\n",
        "county_id                949484  non-null values\n",
        "parcel_sqft              949484  non-null values\n",
        "land_value               949484  non-null values\n",
        "zone_id                  949484  non-null values\n",
        "lu_type_id               949484  non-null values\n",
        "centroid_x               949484  non-null values\n",
        "centroid_y               949484  non-null values\n",
        "tax_exempt_flag          949484  non-null values\n",
        "school_district          949484  non-null values\n",
        "zoning_id                949484  non-null values\n",
        "dist_bus                 949484  non-null values\n",
        "dist_rail                949484  non-null values\n",
        "in_ugb                   949484  non-null values\n",
        "in_uga                   949484  non-null values\n",
        "env_constr_park          949484  non-null values\n",
        "env_constr_lake          949484  non-null values\n",
        "env_constr_floodplain    949484  non-null values\n",
        "env_constr_river         949484  non-null values\n",
        "env_constr_landslide     949484  non-null values\n",
        "far_id                   949484  non-null values\n",
        "prop_constrained         949484  non-null values\n",
        "dtypes: float64(7), int64(15)\n",
        "</pre>"
       ],
       "metadata": {},
       "output_type": "pyout",
       "prompt_number": 4,
       "text": [
        "<class 'pandas.core.frame.DataFrame'>\n",
        "Int64Index: 949484 entries, 0 to 949483\n",
        "Data columns (total 22 columns):\n",
        "parcel_id                949484  non-null values\n",
        "county_id                949484  non-null values\n",
        "parcel_sqft              949484  non-null values\n",
        "land_value               949484  non-null values\n",
        "zone_id                  949484  non-null values\n",
        "lu_type_id               949484  non-null values\n",
        "centroid_x               949484  non-null values\n",
        "centroid_y               949484  non-null values\n",
        "tax_exempt_flag          949484  non-null values\n",
        "school_district          949484  non-null values\n",
        "zoning_id                949484  non-null values\n",
        "dist_bus                 949484  non-null values\n",
        "dist_rail                949484  non-null values\n",
        "in_ugb                   949484  non-null values\n",
        "in_uga                   949484  non-null values\n",
        "env_constr_park          949484  non-null values\n",
        "env_constr_lake          949484  non-null values\n",
        "env_constr_floodplain    949484  non-null values\n",
        "env_constr_river         949484  non-null values\n",
        "env_constr_landslide     949484  non-null values\n",
        "far_id                   949484  non-null values\n",
        "prop_constrained         949484  non-null values\n",
        "dtypes: float64(7), int64(15)"
       ]
      }
     ],
     "prompt_number": 4
    }
   ],
   "metadata": {}
  }
 ]
}