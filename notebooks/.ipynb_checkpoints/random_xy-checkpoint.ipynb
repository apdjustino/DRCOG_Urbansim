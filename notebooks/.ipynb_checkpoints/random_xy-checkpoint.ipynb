{
 "metadata": {
  "name": ""
 },
 "nbformat": 3,
 "nbformat_minor": 0,
 "worksheets": [
  {
   "cells": [
    {
     "cell_type": "code",
     "collapsed": false,
     "input": [
      "import numpy as np, pandas as pd, os\n",
      "from synthicity.utils import misc\n",
      "from drcog.models import regression_model_estimation, choice_model_estimation, dataset\n",
      "dset = dataset.DRCOGDataset(os.path.join(misc.data_dir(),'drcog.h5'))\n",
      "np.random.seed(1)\n",
      "\n",
      "##Variable Library\n",
      "from drcog.variables import variable_library\n",
      "variable_library.calculate_variables(dset)\n",
      "\n",
      "buildings = dset.fetch('buildings')[['building_type_id','improvement_value','land_area','non_residential_sqft','parcel_id','residential_units','sqft_per_unit','stories','tax_exempt','year_built','bldg_sq_ft','unit_price_non_residential','unit_price_residential','building_sqft_per_job','non_residential_units','base_year_jobs','all_units']]\n",
      "establishments = dset.fetch('establishments')\n",
      "del establishments['zone_id']\n",
      "del establishments['county_id']\n",
      "households = dset.fetch('households')\n",
      "del households['zone_id']\n",
      "del households['county_id']\n",
      "parcels = dset.fetch('parcels')\n",
      "zones = dset.fetch('zones')\n",
      "pz = pd.merge(parcels.reset_index(),zones,left_on='zone_id',right_index=True,how='left')\n",
      "pz = pz.set_index('parcel_id')\n",
      "bpz = pd.merge(buildings,pz,left_on='parcel_id',right_index=True)\n",
      "\n",
      "##Merge buildings and parcels\n",
      "buildings = pd.merge(buildings,parcels,left_on='parcel_id',right_index=True)\n",
      "\n",
      "##Merge households with bulidings/parcels\n",
      "households = pd.merge(households,buildings,left_on='building_id',right_index=True)\n",
      "\n",
      "##Merge establishments with bulidings/parcels\n",
      "establishments = pd.merge(establishments,buildings,left_on='building_id',right_index=True)\n",
      "\n",
      "#####Export jobs table\n",
      "e = establishments.reset_index()\n",
      "bids = []\n",
      "eids = []\n",
      "hbs = []\n",
      "sids = []\n",
      "for idx in e.index:\n",
      "    for job in range(e.employees[idx]):\n",
      "        bids.append(e.building_id[idx])\n",
      "        eids.append(e.index[idx])\n",
      "        hbs.append(e.home_based_status[idx])\n",
      "        sids.append(e.sector_id[idx])\n",
      "print len(bids)\n",
      "print len(eids)\n",
      "print len(hbs)\n",
      "print len(sids)\n",
      "jobs = pd.DataFrame({'job_id':range(1,len(bids)+1),'building_id':bids,'establishment_id':eids,'home_based_status':hbs,'sector_id':sids})\n",
      "jobs['parcel_id'] = bpz.parcel_id[jobs.building_id].values\n",
      "jobs['x'] = bpz.centroid_x[jobs.building_id].values\n",
      "jobs['y'] = bpz.centroid_y[jobs.building_id].values\n",
      "jobs['taz05_id'] = bpz.external_zone_id[jobs.building_id].values\n",
      "jobs['sector_id_six'] = 1*(jobs.sector_id==61) + 2*(jobs.sector_id==71) + 3*np.in1d(jobs.sector_id,[11,21,22,23,31,32,33,42,48,49]) + 4*np.in1d(jobs.sector_id,[7221,7222,7224]) + 5*np.in1d(jobs.sector_id,[44,45,7211,7212,7213,7223]) + 6*np.in1d(jobs.sector_id,[51,52,53,54,55,56,62,81,92])\n",
      "jobs['jobtypename'] = ''\n",
      "jobs.jobtypename[jobs.sector_id_six==1] = 'Education'\n",
      "jobs.jobtypename[jobs.sector_id_six==2] = 'Entertainment'\n",
      "jobs.jobtypename[jobs.sector_id_six==3] = 'Production'\n",
      "jobs.jobtypename[jobs.sector_id_six==4] = 'Restaurant'\n",
      "jobs.jobtypename[jobs.sector_id_six==5] = 'Retail'\n",
      "jobs.jobtypename[jobs.sector_id_six==6] = 'Service'\n",
      "jobs['urbancenter_id'] = 0\n",
      "del jobs['sector_id_six']\n",
      "del jobs['building_id']\n",
      "del jobs['establishment_id']\n",
      "del jobs['home_based_status']\n",
      "del jobs['sector_id']\n",
      "jobs.rename(columns={'job_id':'tempid'},inplace=True)\n",
      "#jobs.to_csv(tm_input_dir+'\\\\jobs%s.csv'%sim_year,index=False)\n",
      "\n",
      "#####Export household points\n",
      "hh = households[['building_id']].reset_index()\n",
      "hh['parcel_id'] = bpz.parcel_id[hh.building_id].values\n",
      "hh['x'] = bpz.centroid_x[hh.building_id].values\n",
      "hh['y'] = bpz.centroid_y[hh.building_id].values\n",
      "hh['taz05_id'] = bpz.external_zone_id[hh.building_id].values\n",
      "hh['dist_trans'] = np.minimum(bpz.dist_rail[hh.building_id].values, bpz.dist_bus[hh.building_id].values)/5280.0\n",
      "hh['urbancenter_id'] = 0\n",
      "hh_by_parcel = hh.groupby('parcel_id').size()"
     ],
     "language": "python",
     "metadata": {},
     "outputs": [
      {
       "output_type": "stream",
       "stream": "stdout",
       "text": [
        "Fetching parcels\n",
        "Fetching modify_table"
       ]
      },
      {
       "output_type": "stream",
       "stream": "stdout",
       "text": [
        "\n",
        "Fetching buildings"
       ]
      },
      {
       "output_type": "stream",
       "stream": "stdout",
       "text": [
        "\n",
        "Fetching establishments"
       ]
      },
      {
       "output_type": "stream",
       "stream": "stdout",
       "text": [
        "\n",
        "Fetching modify_table"
       ]
      },
      {
       "output_type": "stream",
       "stream": "stdout",
       "text": [
        "\n",
        "Fetching modify_table"
       ]
      },
      {
       "output_type": "stream",
       "stream": "stdout",
       "text": [
        "\n",
        "Fetching households_for_estimation"
       ]
      },
      {
       "output_type": "stream",
       "stream": "stdout",
       "text": [
        "\n",
        "Fetching modify_table\n",
        "Fetching households\n",
        "Fetching modify_table\n",
        "Fetching zones"
       ]
      },
      {
       "output_type": "stream",
       "stream": "stdout",
       "text": [
        "\n",
        "Fetching modify_table\n",
        "Fetching travel_data"
       ]
      },
      {
       "output_type": "stream",
       "stream": "stdout",
       "text": [
        "\n",
        "Fetching modify_table"
       ]
      },
      {
       "output_type": "stream",
       "stream": "stdout",
       "text": [
        "\n",
        "1605001"
       ]
      },
      {
       "output_type": "stream",
       "stream": "stdout",
       "text": [
        "\n",
        "1605001\n",
        "1605001\n",
        "1605001\n"
       ]
      }
     ],
     "prompt_number": 1
    },
    {
     "cell_type": "code",
     "collapsed": false,
     "input": [
      "parcel_coords = dset.parcel_coords"
     ],
     "language": "python",
     "metadata": {},
     "outputs": [
      {
       "output_type": "stream",
       "stream": "stdout",
       "text": [
        "Fetching parcel_coords\n",
        "Fetching modify_table"
       ]
      },
      {
       "output_type": "stream",
       "stream": "stdout",
       "text": [
        "\n"
       ]
      }
     ],
     "prompt_number": 2
    },
    {
     "cell_type": "code",
     "collapsed": false,
     "input": [
      "parcel_coords.x = parcel_coords.x.astype('int64')\n",
      "parcel_coords.y = parcel_coords.y.astype('int64')"
     ],
     "language": "python",
     "metadata": {},
     "outputs": [],
     "prompt_number": 3
    },
    {
     "cell_type": "code",
     "collapsed": false,
     "input": [
      "big_parcels = parcels.index.values[parcels.parcel_sqft>= 435600]"
     ],
     "language": "python",
     "metadata": {},
     "outputs": [],
     "prompt_number": 4
    },
    {
     "cell_type": "code",
     "collapsed": false,
     "input": [
      "big_parcel_ids_with_hh = np.unique(hh.parcel_id[np.in1d(hh.parcel_id,big_parcels)].values)"
     ],
     "language": "python",
     "metadata": {},
     "outputs": [],
     "prompt_number": 5
    },
    {
     "cell_type": "code",
     "collapsed": false,
     "input": [
      "len(big_parcel_ids_with_hh)"
     ],
     "language": "python",
     "metadata": {},
     "outputs": [
      {
       "metadata": {},
       "output_type": "pyout",
       "prompt_number": 6,
       "text": [
        "9869"
       ]
      }
     ],
     "prompt_number": 6
    },
    {
     "cell_type": "code",
     "collapsed": false,
     "input": [
      "i = 0\n",
      "for parcel_id in big_parcel_ids_with_hh:\n",
      "    idx_hh_on_parcel = np.in1d(hh.parcel_id,[parcel_id,])\n",
      "    coords = parcel_coords[parcel_coords.parcel_id==parcel_id]\n",
      "    idx_coord = np.random.choice(coords.index,size=idx_hh_on_parcel.sum(),replace=True)\n",
      "    x = coords.x.loc[idx_coord].values\n",
      "    y = coords.y.loc[idx_coord].values\n",
      "    print hh.x[idx_hh_on_parcel]\n",
      "    hh.x[idx_hh_on_parcel] = x\n",
      "    hh.y[idx_hh_on_parcel] = y\n",
      "    print hh.x[idx_hh_on_parcel]\n",
      "    i+=1\n",
      "    if i==20:\n",
      "        break\n",
      "    "
     ],
     "language": "python",
     "metadata": {},
     "outputs": [
      {
       "output_type": "stream",
       "stream": "stdout",
       "text": [
        "251549    3140736\n",
        "251550    3140736\n",
        "251551    3140736\n",
        "251552    3140736\n",
        "251553    3140736\n",
        "251554    3140736\n",
        "251555    3140736\n",
        "251556    3140736\n",
        "251557    3140736\n",
        "251558    3140736\n",
        "251559    3140736\n",
        "251560    3140736\n",
        "251658    3140736\n",
        "251659    3140736\n",
        "251660    3140736\n",
        "...\n",
        "417802    3140736\n",
        "428372    3140736\n",
        "428373    3140736\n",
        "428374    3140736\n",
        "428375    3140736\n",
        "428376    3140736\n",
        "428377    3140736\n",
        "619170    3140736\n",
        "619171    3140736\n",
        "619172    3140736\n",
        "619173    3140736\n",
        "619174    3140736\n",
        "619175    3140736\n",
        "619176    3140736\n",
        "619177    3140736\n",
        "Name: x, Length: 120, dtype: int64\n",
        "251549    3140661\n",
        "251550    3140572\n",
        "251551    3140424\n",
        "251552    3140661\n",
        "251553    3140494\n",
        "251554    3140494\n",
        "251555    3141155\n",
        "251556    3140717\n",
        "251557    3141179\n",
        "251558    3140424\n",
        "251559    3141182\n",
        "251560    3140692\n",
        "251658    3140661\n",
        "251659    3141182\n",
        "251660    3140692\n",
        "...\n",
        "417802    3141155\n",
        "428372    3140717\n",
        "428373    3140424\n",
        "428374    3140572\n",
        "428375    3140692\n",
        "428376    3140494\n",
        "428377    3141155\n",
        "619170    3140424\n",
        "619171    3140572\n",
        "619172    3141182\n",
        "619173    3140513\n",
        "619174    3141155\n",
        "619175    3141182\n",
        "619176    3140717\n",
        "619177    3141182\n",
        "Name: x, Length: 120, dtype: int64\n",
        "35486    3176919\n",
        "35487    3176919\n",
        "35488    3176919\n",
        "35489    3176919\n",
        "35490    3176919\n",
        "35491    3176919\n",
        "35492    3176919\n",
        "35493    3176919\n",
        "35494    3176919\n",
        "35495    3176919\n",
        "35496    3176919\n",
        "35497    3176919\n",
        "35498    3176919\n",
        "35499    3176919\n",
        "35500    3176919\n",
        "...\n",
        "427628    3176919\n",
        "427629    3176919\n",
        "427630    3176919\n",
        "427667    3176919\n",
        "427668    3176919\n",
        "427669    3176919\n",
        "427670    3176919\n",
        "427671    3176919\n",
        "427672    3176919\n",
        "427673    3176919\n",
        "427674    3176919\n",
        "427675    3176919\n",
        "427676    3176919\n",
        "427677    3176919\n",
        "427678    3176919\n",
        "Name: x, Length: 128, dtype: int64"
       ]
      },
      {
       "output_type": "stream",
       "stream": "stdout",
       "text": [
        "\n",
        "35486    3176519\n",
        "35487    3177400\n",
        "35488    3176787\n",
        "35489    3176911\n",
        "35490    3176519\n",
        "35491    3176519\n",
        "35492    3176911\n",
        "35493    3177064\n",
        "35494    3177064\n",
        "35495    3177400\n",
        "35496    3176519\n",
        "35497    3176581\n",
        "35498    3177253\n",
        "35499    3176582\n",
        "35500    3176519\n",
        "...\n",
        "427628    3177253\n",
        "427629    3176519\n",
        "427630    3176519\n",
        "427667    3176787\n",
        "427668    3176519\n",
        "427669    3176787\n",
        "427670    3176519\n",
        "427671    3177400\n",
        "427672    3177400\n",
        "427673    3176911\n",
        "427674    3176787\n",
        "427675    3176519\n",
        "427676    3177400\n",
        "427677    3176519\n",
        "427678    3177064\n",
        "Name: x, Length: 128, dtype: int64\n",
        "331516    3156662\n",
        "331517    3156662\n",
        "331518    3156662\n",
        "331519    3156662\n",
        "331520    3156662\n",
        "331521    3156662\n",
        "331522    3156662\n",
        "331523    3156662\n",
        "331524    3156662\n",
        "331525    3156662\n",
        "331526    3156662\n",
        "331527    3156662\n",
        "331528    3156662\n",
        "331529    3156662\n",
        "331530    3156662\n",
        "...\n",
        "582055    3156662\n",
        "582056    3156662\n",
        "582057    3156662\n",
        "582058    3156662\n",
        "582059    3156662\n",
        "582062    3156662\n",
        "582063    3156662\n",
        "582064    3156662\n",
        "582065    3156662\n",
        "582066    3156662\n",
        "582067    3156662\n",
        "582068    3156662\n",
        "582069    3156662\n",
        "582070    3156662\n",
        "582071    3156662\n",
        "Name: x, Length: 122, dtype: int64"
       ]
      },
      {
       "output_type": "stream",
       "stream": "stdout",
       "text": [
        "\n",
        "331516    3156610\n",
        "331517    3156472\n",
        "331518    3156800\n",
        "331519    3156610\n",
        "331520    3156472\n",
        "331521    3156909\n",
        "331522    3156919\n",
        "331523    3156694\n",
        "331524    3156472\n",
        "331525    3156748\n",
        "331526    3156748\n",
        "331527    3156610\n",
        "331528    3156848\n",
        "331529    3156919\n",
        "331530    3156800\n",
        "...\n",
        "582055    3156848\n",
        "582056    3156610\n",
        "582057    3156909\n",
        "582058    3156919\n",
        "582059    3156472\n",
        "582062    3156610\n",
        "582063    3156583\n",
        "582064    3156848\n",
        "582065    3156610\n",
        "582066    3156848\n",
        "582067    3156583\n",
        "582068    3156848\n",
        "582069    3156909\n",
        "582070    3156729\n",
        "582071    3156694\n",
        "Name: x, Length: 122, dtype: int64\n",
        "525562    3144349\n",
        "525563    3144349\n",
        "550817    3144349\n",
        "550818    3144349\n",
        "550819    3144349\n",
        "550820    3144349\n",
        "550821    3144349\n",
        "550822    3144349\n",
        "550823    3144349\n",
        "580698    3144349\n",
        "580699    3144349\n",
        "580700    3144349\n",
        "580702    3144349\n",
        "580703    3144349\n",
        "580704    3144349\n",
        "...\n",
        "1002146    3144349\n",
        "1002147    3144349\n",
        "1002152    3144349\n",
        "1002154    3144349\n",
        "1019527    3144349\n",
        "1019528    3144349\n",
        "1019529    3144349\n",
        "1019530    3144349\n",
        "1019534    3144349\n",
        "1052329    3144349\n",
        "1070096    3144349\n",
        "1071562    3144349\n",
        "1078676    3144349\n",
        "1094690    3144349\n",
        "1132298    3144349\n",
        "Name: x, Length: 81, dtype: int64"
       ]
      },
      {
       "output_type": "stream",
       "stream": "stdout",
       "text": [
        "\n",
        "525562    3144243\n",
        "525563    3144138\n",
        "550817    3143855\n",
        "550818    3144980\n",
        "550819    3143855\n",
        "550820    3144210\n",
        "550821    3144117\n",
        "550822    3144416\n",
        "550823    3144210\n",
        "580698    3144126\n",
        "580699    3144126\n",
        "580700    3144126\n",
        "580702    3144416\n",
        "580703    3144210\n",
        "580704    3143855\n",
        "...\n",
        "1002146    3144117\n",
        "1002147    3144138\n",
        "1002152    3144117\n",
        "1002154    3144126\n",
        "1019527    3144126\n",
        "1019528    3144117\n",
        "1019529    3144117\n",
        "1019530    3144210\n",
        "1019534    3144117\n",
        "1052329    3144980\n",
        "1070096    3144850\n",
        "1071562    3144156\n",
        "1078676    3144980\n",
        "1094690    3144156\n",
        "1132298    3144156\n",
        "Name: x, Length: 81, dtype: int64\n",
        "750710    3434175\n",
        "Name: x, dtype: int64"
       ]
      },
      {
       "output_type": "stream",
       "stream": "stdout",
       "text": [
        "\n",
        "750710    3434134\n",
        "Name: x, dtype: int64\n",
        "863190    3412837\n",
        "Name: x, dtype: int64\n",
        "863190    3411674\n",
        "Name: x, dtype: int64\n",
        "454085    3424658\n",
        "454086    3424658\n",
        "941826    3424658\n",
        "Name: x, dtype: int64"
       ]
      },
      {
       "output_type": "stream",
       "stream": "stdout",
       "text": [
        "\n",
        "454085    3423131\n",
        "454086    3425006\n",
        "941826    3423446\n",
        "Name: x, dtype: int64\n",
        "331142    3404732\n",
        "331143    3404732\n",
        "808095    3404732\n",
        "Name: x, dtype: int64"
       ]
      },
      {
       "output_type": "stream",
       "stream": "stdout",
       "text": [
        "\n",
        "331142    3405084\n",
        "331143    3404234\n",
        "808095    3404294\n",
        "Name: x, dtype: int64\n",
        "780033    3394098\n",
        "Name: x, dtype: int64"
       ]
      },
      {
       "output_type": "stream",
       "stream": "stdout",
       "text": [
        "\n",
        "780033    3394116\n",
        "Name: x, dtype: int64\n",
        "505850    3395036\n",
        "Name: x, dtype: int64\n",
        "505850    3396270\n",
        "Name: x, dtype: int64\n",
        "460860    3386498\n",
        "460861    3386498\n",
        "551795    3386498\n",
        "551796    3386498\n",
        "661955    3386498\n",
        "Name: x, dtype: int64"
       ]
      },
      {
       "output_type": "stream",
       "stream": "stdout",
       "text": [
        "\n",
        "460860    3386728\n",
        "460861    3386177\n",
        "551795    3386213\n",
        "551796    3386517\n",
        "661955    3386481\n",
        "Name: x, dtype: int64\n",
        "618804    3386935\n",
        "Name: x, dtype: int64"
       ]
      },
      {
       "output_type": "stream",
       "stream": "stdout",
       "text": [
        "\n",
        "618804    3386922\n",
        "Name: x, dtype: int64\n",
        "699381    3386975\n",
        "699382    3386975\n",
        "Name: x, dtype: int64\n",
        "699381    3386626\n",
        "699382    3387320\n",
        "Name: x, dtype: int64"
       ]
      },
      {
       "output_type": "stream",
       "stream": "stdout",
       "text": [
        "\n",
        "863192    3358228\n",
        "Name: x, dtype: int64\n",
        "863192    3358084\n",
        "Name: x, dtype: int64\n",
        "581966    3360074\n",
        "Name: x, dtype: int64"
       ]
      },
      {
       "output_type": "stream",
       "stream": "stdout",
       "text": [
        "\n",
        "581966    3360584\n",
        "Name: x, dtype: int64\n",
        "581970     3329864\n",
        "581971     3329864\n",
        "958363     3329864\n",
        "1052772    3329864\n",
        "Name: x, dtype: int64\n",
        "581970     3330354\n",
        "581971     3330619\n",
        "958363     3330972\n",
        "1052772    3330619\n",
        "Name: x, dtype: int64"
       ]
      },
      {
       "output_type": "stream",
       "stream": "stdout",
       "text": [
        "\n",
        "454080    3329839\n",
        "454081    3329839\n",
        "581968    3329839\n",
        "581969    3329839\n",
        "Name: x, dtype: int64\n",
        "454080    3329459\n",
        "454081    3329263\n",
        "581968    3329056\n",
        "581969    3330348\n",
        "Name: x, dtype: int64"
       ]
      },
      {
       "output_type": "stream",
       "stream": "stdout",
       "text": [
        "\n",
        "958366    3338597\n",
        "Name: x, dtype: int64\n",
        "958366    3338994\n",
        "Name: x, dtype: int64\n",
        "722229    3339087\n",
        "722230    3339087\n",
        "Name: x, dtype: int64"
       ]
      },
      {
       "output_type": "stream",
       "stream": "stdout",
       "text": [
        "\n",
        "722229    3339329\n",
        "722230    3339229\n",
        "Name: x, dtype: int64\n",
        "693653    3340179\n",
        "Name: x, dtype: int64"
       ]
      },
      {
       "output_type": "stream",
       "stream": "stdout",
       "text": [
        "\n",
        "693653    3340625\n",
        "Name: x, dtype: int64\n"
       ]
      }
     ],
     "prompt_number": 7
    },
    {
     "cell_type": "code",
     "collapsed": false,
     "input": [
      "big_parcel_ids_with_jobs = np.unique(jobs.parcel_id[np.in1d(jobs.parcel_id,big_parcels)].values)\n",
      "print len(big_parcel_ids_with_jobs)"
     ],
     "language": "python",
     "metadata": {},
     "outputs": [
      {
       "output_type": "stream",
       "stream": "stdout",
       "text": [
        "3544\n"
       ]
      }
     ],
     "prompt_number": 8
    },
    {
     "cell_type": "code",
     "collapsed": false,
     "input": [
      "i = 0\n",
      "for parcel_id in big_parcel_ids_with_jobs:\n",
      "    idx_jobs_on_parcel = np.in1d(jobs.parcel_id,[parcel_id,])\n",
      "    coords = parcel_coords[parcel_coords.parcel_id==parcel_id]\n",
      "    idx_coord = np.random.choice(coords.index,size=idx_jobs_on_parcel.sum(),replace=True)\n",
      "    x = coords.x.loc[idx_coord].values\n",
      "    y = coords.y.loc[idx_coord].values\n",
      "    print jobs.x[idx_jobs_on_parcel]\n",
      "    jobs.x[idx_jobs_on_parcel] = x\n",
      "    jobs.y[idx_jobs_on_parcel] = y\n",
      "    print jobs.x[idx_jobs_on_parcel]\n",
      "    i+=1\n",
      "    if i==20:\n",
      "        break\n",
      "    "
     ],
     "language": "python",
     "metadata": {},
     "outputs": [
      {
       "output_type": "stream",
       "stream": "stdout",
       "text": [
        "1446282    3140736\n",
        "1446418    3140736\n",
        "1490201    3140736\n",
        "1490202    3140736\n",
        "1490203    3140736\n",
        "1490204    3140736\n",
        "1490205    3140736\n",
        "1490206    3140736\n",
        "1490207    3140736\n",
        "1490208    3140736\n",
        "1490209    3140736\n",
        "1490210    3140736\n",
        "1490211    3140736\n",
        "1490212    3140736\n",
        "1490213    3140736\n",
        "1490214    3140736\n",
        "1490215    3140736\n",
        "Name: x, dtype: int64\n",
        "1446282    3140513\n",
        "1446418    3140572\n",
        "1490201    3140513\n",
        "1490202    3140494\n",
        "1490203    3141179\n",
        "1490204    3140513\n",
        "1490205    3140494\n",
        "1490206    3141179\n",
        "1490207    3140661\n",
        "1490208    3140424\n",
        "1490209    3141179\n",
        "1490210    3140692\n",
        "1490211    3141179\n",
        "1490212    3141179\n",
        "1490213    3141182\n",
        "1490214    3141182\n",
        "1490215    3140692\n",
        "Name: x, dtype: int64"
       ]
      },
      {
       "output_type": "stream",
       "stream": "stdout",
       "text": [
        "\n",
        "1446419    3176919\n",
        "1446420    3176919\n",
        "1446421    3176919\n",
        "Name: x, dtype: int64\n",
        "1446419    3177253\n",
        "1446420    3176911\n",
        "1446421    3177075\n",
        "Name: x, dtype: int64"
       ]
      },
      {
       "output_type": "stream",
       "stream": "stdout",
       "text": [
        "\n",
        "1446525    3156662\n",
        "1446526    3156662\n",
        "1446527    3156662\n",
        "1446528    3156662\n",
        "1446529    3156662\n",
        "1446530    3156662\n",
        "1446531    3156662\n",
        "1446532    3156662\n",
        "1446533    3156662\n",
        "1537615    3156662\n",
        "1537616    3156662\n",
        "1537617    3156662\n",
        "1537618    3156662\n",
        "Name: x, dtype: int64\n",
        "1446525    3156800\n",
        "1446526    3156472\n",
        "1446527    3156848\n",
        "1446528    3156919\n",
        "1446529    3156610\n",
        "1446530    3156472\n",
        "1446531    3156472\n",
        "1446532    3156848\n",
        "1446533    3156748\n",
        "1537615    3156848\n",
        "1537616    3156694\n",
        "1537617    3156583\n",
        "1537618    3156472\n",
        "Name: x, dtype: int64"
       ]
      },
      {
       "output_type": "stream",
       "stream": "stdout",
       "text": [
        "\n",
        "1446535    3144349\n",
        "1446536    3144349\n",
        "1446537    3144349\n",
        "1446669    3144349\n",
        "1497121    3144349\n",
        "1497122    3144349\n",
        "1497123    3144349\n",
        "1497124    3144349\n",
        "1497125    3144349\n",
        "Name: x, dtype: int64\n",
        "1446535    3143855\n",
        "1446536    3144138\n",
        "1446537    3144156\n",
        "1446669    3144138\n",
        "1497121    3144210\n",
        "1497122    3143855\n",
        "1497123    3144126\n",
        "1497124    3144416\n",
        "1497125    3144850\n",
        "Name: x, dtype: int64"
       ]
      },
      {
       "output_type": "stream",
       "stream": "stdout",
       "text": [
        "\n",
        "1534484    3493706\n",
        "1534485    3493706\n",
        "Name: x, dtype: int64\n",
        "1534484    3493115\n",
        "1534485    3492634\n",
        "Name: x, dtype: int64"
       ]
      },
      {
       "output_type": "stream",
       "stream": "stdout",
       "text": [
        "\n",
        "1576357    3470823\n",
        "Name: x, dtype: int64\n",
        "1576357    3471376\n",
        "Name: x, dtype: int64\n",
        "1578602    3394098\n",
        "Name: x, dtype: int64"
       ]
      },
      {
       "output_type": "stream",
       "stream": "stdout",
       "text": [
        "\n",
        "1578602    3393492\n",
        "Name: x, dtype: int64\n",
        "1525667    3391577\n",
        "1525668    3391577\n",
        "1525669    3391577\n",
        "1525670    3391577\n",
        "1525671    3391577\n",
        "1525672    3391577\n",
        "Name: x, dtype: int64\n",
        "1525667    3390326\n",
        "1525668    3389608\n",
        "1525669    3389850\n",
        "1525670    3393261\n",
        "1525671    3394235\n",
        "1525672    3390344\n",
        "Name: x, dtype: int64"
       ]
      },
      {
       "output_type": "stream",
       "stream": "stdout",
       "text": [
        "\n",
        "1589185    3396940\n",
        "Name: x, dtype: int64\n",
        "1589185    3396763\n",
        "Name: x, dtype: int64\n",
        "1587032    3387461\n",
        "Name: x, dtype: int64"
       ]
      },
      {
       "output_type": "stream",
       "stream": "stdout",
       "text": [
        "\n",
        "1587032    3388011\n",
        "Name: x, dtype: int64\n",
        "1599514    3386935\n",
        "Name: x, dtype: int64\n",
        "1599514    3386579\n",
        "Name: x, dtype: int64"
       ]
      },
      {
       "output_type": "stream",
       "stream": "stdout",
       "text": [
        "\n",
        "1586948    3358228\n",
        "1586949    3358228\n",
        "Name: x, dtype: int64\n",
        "1586948    3358084\n",
        "1586949    3357946\n",
        "Name: x, dtype: int64"
       ]
      },
      {
       "output_type": "stream",
       "stream": "stdout",
       "text": [
        "\n",
        "1529789    3324178\n",
        "1529790    3324178\n",
        "1529791    3324178\n",
        "Name: x, dtype: int64\n",
        "1529789    3325272\n",
        "1529790    3323985\n",
        "1529791    3324033\n",
        "Name: x, dtype: int64"
       ]
      },
      {
       "output_type": "stream",
       "stream": "stdout",
       "text": [
        "\n",
        "1582437    3333919\n",
        "Name: x, dtype: int64\n",
        "1582437    3333622\n",
        "Name: x, dtype: int64\n",
        "121803    3337646\n",
        "121804    3337646\n",
        "Name: x, dtype: int64"
       ]
      },
      {
       "output_type": "stream",
       "stream": "stdout",
       "text": [
        "\n",
        "121803    3338527\n",
        "121804    3337933\n",
        "Name: x, dtype: int64"
       ]
      },
      {
       "output_type": "stream",
       "stream": "stdout",
       "text": [
        "\n",
        "1580955    3331567\n",
        "Name: x, dtype: int64\n",
        "1580955    3331784\n",
        "Name: x, dtype: int64\n",
        "1538323    3329839\n",
        "Name: x, dtype: int64"
       ]
      },
      {
       "output_type": "stream",
       "stream": "stdout",
       "text": [
        "\n",
        "1538323    3329259\n",
        "Name: x, dtype: int64\n",
        "1587562    3321966\n",
        "Name: x, dtype: int64\n",
        "1587562    3322558\n",
        "Name: x, dtype: int64"
       ]
      },
      {
       "output_type": "stream",
       "stream": "stdout",
       "text": [
        "\n",
        "1491187    3340076\n",
        "1491188    3340076\n",
        "1491189    3340076\n",
        "1491190    3340076\n",
        "1491191    3340076\n",
        "Name: x, dtype: int64\n",
        "1491187    3340271\n",
        "1491188    3340705\n",
        "1491189    3340082\n",
        "1491190    3340359\n",
        "1491191    3341018\n",
        "Name: x, dtype: int64"
       ]
      },
      {
       "output_type": "stream",
       "stream": "stdout",
       "text": [
        "\n",
        "121805    3340116\n",
        "Name: x, dtype: int64\n",
        "121805    3340579\n",
        "Name: x, dtype: int64\n"
       ]
      }
     ],
     "prompt_number": 9
    },
    {
     "cell_type": "code",
     "collapsed": false,
     "input": [
      "hh.x.dtype"
     ],
     "language": "python",
     "metadata": {},
     "outputs": [
      {
       "metadata": {},
       "output_type": "pyout",
       "prompt_number": 8,
       "text": [
        "dtype('float64')"
       ]
      }
     ],
     "prompt_number": 8
    },
    {
     "cell_type": "code",
     "collapsed": false,
     "input": [
      "coords.x.dtype"
     ],
     "language": "python",
     "metadata": {},
     "outputs": [
      {
       "metadata": {},
       "output_type": "pyout",
       "prompt_number": 9,
       "text": [
        "dtype('float64')"
       ]
      }
     ],
     "prompt_number": 9
    },
    {
     "cell_type": "code",
     "collapsed": false,
     "input": [
      "jobs.x.dtype"
     ],
     "language": "python",
     "metadata": {},
     "outputs": [
      {
       "metadata": {},
       "output_type": "pyout",
       "prompt_number": 12,
       "text": [
        "dtype('float64')"
       ]
      }
     ],
     "prompt_number": 12
    }
   ],
   "metadata": {}
  }
 ]
}