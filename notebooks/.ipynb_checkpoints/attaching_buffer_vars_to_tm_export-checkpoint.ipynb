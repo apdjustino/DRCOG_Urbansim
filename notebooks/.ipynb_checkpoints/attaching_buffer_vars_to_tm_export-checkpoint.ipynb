{
 "metadata": {
  "name": ""
 },
 "nbformat": 3,
 "nbformat_minor": 0,
 "worksheets": [
  {
   "cells": [
    {
     "cell_type": "code",
     "collapsed": false,
     "input": [
      "import numpy as np, pandas as pd, os\n",
      "from synthicity.utils import misc\n",
      "from drcog.models import regression_model_estimation, choice_model_estimation, dataset\n",
      "dset = dataset.DRCOGDataset(os.path.join(misc.data_dir(),'drcog.h5'))"
     ],
     "language": "python",
     "metadata": {},
     "outputs": [
      {
       "ename": "ImportError",
       "evalue": "cannot import name regression_model_estimation",
       "output_type": "pyerr",
       "traceback": [
        "\u001b[1;31m---------------------------------------------------------------------------\u001b[0m\n\u001b[1;31mImportError\u001b[0m                               Traceback (most recent call last)",
        "\u001b[1;32m<ipython-input-10-ec54dbff633e>\u001b[0m in \u001b[0;36m<module>\u001b[1;34m()\u001b[0m\n\u001b[0;32m      1\u001b[0m \u001b[1;32mimport\u001b[0m \u001b[0mnumpy\u001b[0m \u001b[1;32mas\u001b[0m \u001b[0mnp\u001b[0m\u001b[1;33m,\u001b[0m \u001b[0mpandas\u001b[0m \u001b[1;32mas\u001b[0m \u001b[0mpd\u001b[0m\u001b[1;33m,\u001b[0m \u001b[0mos\u001b[0m\u001b[1;33m\u001b[0m\u001b[0m\n\u001b[0;32m      2\u001b[0m \u001b[1;32mfrom\u001b[0m \u001b[0msynthicity\u001b[0m\u001b[1;33m.\u001b[0m\u001b[0mutils\u001b[0m \u001b[1;32mimport\u001b[0m \u001b[0mmisc\u001b[0m\u001b[1;33m\u001b[0m\u001b[0m\n\u001b[1;32m----> 3\u001b[1;33m \u001b[1;32mfrom\u001b[0m \u001b[0mdrcog\u001b[0m\u001b[1;33m.\u001b[0m\u001b[0mmodels\u001b[0m \u001b[1;32mimport\u001b[0m \u001b[0mregression_model_estimation\u001b[0m\u001b[1;33m,\u001b[0m \u001b[0mchoice_model_estimation\u001b[0m\u001b[1;33m,\u001b[0m \u001b[0mdataset\u001b[0m\u001b[1;33m\u001b[0m\u001b[0m\n\u001b[0m\u001b[0;32m      4\u001b[0m \u001b[0mdset\u001b[0m \u001b[1;33m=\u001b[0m \u001b[0mdataset\u001b[0m\u001b[1;33m.\u001b[0m\u001b[0mDRCOGDataset\u001b[0m\u001b[1;33m(\u001b[0m\u001b[0mos\u001b[0m\u001b[1;33m.\u001b[0m\u001b[0mpath\u001b[0m\u001b[1;33m.\u001b[0m\u001b[0mjoin\u001b[0m\u001b[1;33m(\u001b[0m\u001b[0mmisc\u001b[0m\u001b[1;33m.\u001b[0m\u001b[0mdata_dir\u001b[0m\u001b[1;33m(\u001b[0m\u001b[1;33m)\u001b[0m\u001b[1;33m,\u001b[0m\u001b[1;34m'drcog.h5'\u001b[0m\u001b[1;33m)\u001b[0m\u001b[1;33m)\u001b[0m\u001b[1;33m\u001b[0m\u001b[0m\n",
        "\u001b[1;31mImportError\u001b[0m: cannot import name regression_model_estimation"
       ]
      }
     ],
     "prompt_number": 10
    },
    {
     "cell_type": "code",
     "collapsed": false,
     "input": [
      "import psycopg2\n",
      "import pandas.io.sql as sql\n",
      "conn_string = \"host='paris.urbansim.org' port=5433 dbname='denver' user='drcog' password='M0untains#'\"\n",
      "conn = psycopg2.connect(conn_string)\n",
      "cur = conn.cursor()\n",
      "hh_buffer = sql.read_frame('select * from hh_buffer',conn)\n",
      "hh_job_buffer = sql.read_frame('select * from hh_job_buffer',conn)\n",
      "job_buffer = sql.read_frame('select * from job_buffer',conn)\n",
      "job_hh_buffer = sql.read_frame('select * from job_hh_buffer',conn)"
     ],
     "language": "python",
     "metadata": {},
     "outputs": [],
     "prompt_number": 1
    },
    {
     "cell_type": "code",
     "collapsed": false,
     "input": [
      "hh_buffer"
     ],
     "language": "python",
     "metadata": {},
     "outputs": [
      {
       "html": [
        "<pre>\n",
        "&lt;class 'pandas.core.frame.DataFrame'&gt;\n",
        "Int64Index: 2508 entries, 0 to 2507\n",
        "Data columns (total 2 columns):\n",
        "taz05_id         2508  non-null values\n",
        "hhvirhhbuffer    2508  non-null values\n",
        "dtypes: int64(2)\n",
        "</pre>"
       ],
       "metadata": {},
       "output_type": "pyout",
       "prompt_number": 2,
       "text": [
        "<class 'pandas.core.frame.DataFrame'>\n",
        "Int64Index: 2508 entries, 0 to 2507\n",
        "Data columns (total 2 columns):\n",
        "taz05_id         2508  non-null values\n",
        "hhvirhhbuffer    2508  non-null values\n",
        "dtypes: int64(2)"
       ]
      }
     ],
     "prompt_number": 2
    },
    {
     "cell_type": "code",
     "collapsed": false,
     "input": [
      "hh_job_buffer"
     ],
     "language": "python",
     "metadata": {},
     "outputs": [
      {
       "html": [
        "<pre>\n",
        "&lt;class 'pandas.core.frame.DataFrame'&gt;\n",
        "Int64Index: 2453 entries, 0 to 2452\n",
        "Data columns (total 2 columns):\n",
        "taz05_id          2453  non-null values\n",
        "hhvirempbuffer    2453  non-null values\n",
        "dtypes: int64(2)\n",
        "</pre>"
       ],
       "metadata": {},
       "output_type": "pyout",
       "prompt_number": 3,
       "text": [
        "<class 'pandas.core.frame.DataFrame'>\n",
        "Int64Index: 2453 entries, 0 to 2452\n",
        "Data columns (total 2 columns):\n",
        "taz05_id          2453  non-null values\n",
        "hhvirempbuffer    2453  non-null values\n",
        "dtypes: int64(2)"
       ]
      }
     ],
     "prompt_number": 3
    },
    {
     "cell_type": "code",
     "collapsed": false,
     "input": [
      "job_buffer"
     ],
     "language": "python",
     "metadata": {},
     "outputs": [
      {
       "html": [
        "<pre>\n",
        "&lt;class 'pandas.core.frame.DataFrame'&gt;\n",
        "Int64Index: 2576 entries, 0 to 2575\n",
        "Data columns (total 8 columns):\n",
        "taz05_id                     2576  non-null values\n",
        "empdensempcentroid           2576  non-null values\n",
        "eddensempcentroid            2576  non-null values\n",
        "entdensempcentroid           2576  non-null values\n",
        "servdensempcentroid          2576  non-null values\n",
        "proddensempcentroid          2576  non-null values\n",
        "restaurantdensempcentroid    2576  non-null values\n",
        "retaildensempcentroid        2576  non-null values\n",
        "dtypes: int64(8)\n",
        "</pre>"
       ],
       "metadata": {},
       "output_type": "pyout",
       "prompt_number": 4,
       "text": [
        "<class 'pandas.core.frame.DataFrame'>\n",
        "Int64Index: 2576 entries, 0 to 2575\n",
        "Data columns (total 8 columns):\n",
        "taz05_id                     2576  non-null values\n",
        "empdensempcentroid           2576  non-null values\n",
        "eddensempcentroid            2576  non-null values\n",
        "entdensempcentroid           2576  non-null values\n",
        "servdensempcentroid          2576  non-null values\n",
        "proddensempcentroid          2576  non-null values\n",
        "restaurantdensempcentroid    2576  non-null values\n",
        "retaildensempcentroid        2576  non-null values\n",
        "dtypes: int64(8)"
       ]
      }
     ],
     "prompt_number": 4
    },
    {
     "cell_type": "code",
     "collapsed": false,
     "input": [
      "job_hh_buffer"
     ],
     "language": "python",
     "metadata": {},
     "outputs": [
      {
       "html": [
        "<pre>\n",
        "&lt;class 'pandas.core.frame.DataFrame'&gt;\n",
        "Int64Index: 2550 entries, 0 to 2549\n",
        "Data columns (total 5 columns):\n",
        "taz05_id                               2550  non-null values\n",
        "total_jobs                             2550  non-null values\n",
        "retaildenshhcentroid                   2550  non-null values\n",
        "restaurantemploymenthouseholdbuffer    2550  non-null values\n",
        "retailemploymenthouseholdbuffer        2550  non-null values\n",
        "dtypes: int64(5)\n",
        "</pre>"
       ],
       "metadata": {},
       "output_type": "pyout",
       "prompt_number": 5,
       "text": [
        "<class 'pandas.core.frame.DataFrame'>\n",
        "Int64Index: 2550 entries, 0 to 2549\n",
        "Data columns (total 5 columns):\n",
        "taz05_id                               2550  non-null values\n",
        "total_jobs                             2550  non-null values\n",
        "retaildenshhcentroid                   2550  non-null values\n",
        "restaurantemploymenthouseholdbuffer    2550  non-null values\n",
        "retailemploymenthouseholdbuffer        2550  non-null values\n",
        "dtypes: int64(5)"
       ]
      }
     ],
     "prompt_number": 5
    },
    {
     "cell_type": "code",
     "collapsed": false,
     "input": [],
     "language": "python",
     "metadata": {},
     "outputs": []
    }
   ],
   "metadata": {}
  }
 ]
}