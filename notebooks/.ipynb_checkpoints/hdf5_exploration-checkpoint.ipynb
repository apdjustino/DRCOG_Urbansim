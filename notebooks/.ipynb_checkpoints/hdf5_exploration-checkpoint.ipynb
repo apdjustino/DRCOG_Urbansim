{
 "metadata": {
  "name": ""
 },
 "nbformat": 3,
 "nbformat_minor": 0,
 "worksheets": [
  {
   "cells": [
    {
     "cell_type": "code",
     "collapsed": false,
     "input": [
      "import numpy as np, pandas as pd, os\n",
      "from synthicity.utils import misc\n",
      "from drcog.models import elcm_simulation, hlcm_simulation, regression_model_simulation, dataset\n",
      "dset = dataset.DRCOGDataset(os.path.join(misc.data_dir(),'drcog.h5'))"
     ],
     "language": "python",
     "metadata": {},
     "outputs": [],
     "prompt_number": 1
    },
    {
     "cell_type": "code",
     "collapsed": false,
     "input": [
      "dset.store"
     ],
     "language": "python",
     "metadata": {},
     "outputs": [
      {
       "metadata": {},
       "output_type": "pyout",
       "prompt_number": 2,
       "text": [
        "<class 'pandas.io.pytables.HDFStore'>\n",
        "File path: c:/urbansim\\data\\drcog.h5\n",
        "/annual_employment_control_totals             frame        (shape->[492,3])     \n",
        "/annual_household_control_totals              frame        (shape->[41,2])      \n",
        "/annual_household_relocation_rates            frame        (shape->[21,5])      \n",
        "/annual_job_relocation_rates                  frame        (shape->[31,1])      \n",
        "/building_sqft_per_job                        frame        (shape->[67296,1])   \n",
        "/buildings                                    frame        (shape->[881751,13]) \n",
        "/establishments                               frame        (shape->[202193,6])  \n",
        "/fars                                         frame        (shape->[2336,3])    \n",
        "/households                                   frame        (shape->[1160387,11])\n",
        "/households_for_estimation                    frame        (shape->[1442,10])   \n",
        "/parcels                                      frame        (shape->[949484,22]) \n",
        "/target_vacancies                             frame        (shape->[154,1])     \n",
        "/travel_data                                  frame        (shape->[7862416,10])\n",
        "/zones                                        frame        (shape->[2804,32])   \n",
        "/zoning                                       frame        (shape->[32,24])     \n",
        "/zoning_building_type                         frame        (shape->[352,2])     "
       ]
      }
     ],
     "prompt_number": 2
    }
   ],
   "metadata": {}
  }
 ]
}