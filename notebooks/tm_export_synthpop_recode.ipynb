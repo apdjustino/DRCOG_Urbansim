{
 "metadata": {
  "name": ""
 },
 "nbformat": 3,
 "nbformat_minor": 0,
 "worksheets": [
  {
   "cells": [
    {
     "cell_type": "code",
     "collapsed": false,
     "input": [
      "import pandas as pd, numpy as np\n",
      "import psycopg2\n",
      "import pandas.io.sql as sql\n",
      "conn_string = \"host='paris.urbansim.org' port=5433 dbname='denver' user='urbancanvas' password='Visua1ization'\"\n",
      "conn = psycopg2.connect(conn_string)\n",
      "cur = conn.cursor()\n",
      "pums_hh = sql.read_frame('select * from pums_hh',conn)\n",
      "pums_p = sql.read_frame('select * from pums_person',conn)\n",
      "pums_hh = pums_hh.set_index('serialno')\n",
      "pums_p = pums_p.set_index('serialno')\n",
      "pums_hh = pums_hh[(pums_hh.type==1)*(pums_hh.np>0)]\n",
      "## Need not replace all 99's right?  They won't join?"
     ],
     "language": "python",
     "metadata": {},
     "outputs": [],
     "prompt_number": 1
    },
    {
     "cell_type": "code",
     "collapsed": false,
     "input": [
      "pums_p.naicsp07[pums_p.naicsp07=='N.A.////'] = '0'\n",
      "pums_p.naicsp07[pums_p.naicsp07==''] = '0'\n",
      "pums_p.naicsp07 = pums_p.naicsp07.str.slice(0,3)\n",
      "pums_p.naicsp07[pums_p.naicsp07=='22S'] = '221'\n",
      "pums_p.naicsp07[pums_p.naicsp07=='23'] = '230'\n",
      "pums_p.naicsp07[pums_p.naicsp07=='31M'] = '313'\n",
      "pums_p.naicsp07[pums_p.naicsp07=='33M'] = '331'\n",
      "pums_p.naicsp07[pums_p.naicsp07=='3MS'] = '311'\n",
      "pums_p.naicsp07[pums_p.naicsp07=='42S'] = '423'\n",
      "pums_p.naicsp07[pums_p.naicsp07=='4M'] = '443'\n",
      "pums_p.naicsp07[pums_p.naicsp07=='4MS'] = '443'\n",
      "pums_p.naicsp07[pums_p.naicsp07=='52M'] = '522'\n",
      "pums_p.naicsp07[pums_p.naicsp07=='53M'] = '532'\n",
      "pums_p.naicsp07[pums_p.naicsp07=='55'] = '561'\n",
      "pums_p.naicsp07[pums_p.naicsp07=='92M'] = '921'"
     ],
     "language": "python",
     "metadata": {},
     "outputs": [],
     "prompt_number": 2
    },
    {
     "cell_type": "code",
     "collapsed": false,
     "input": [
      "pums_p['indnaics'] = pums_p.naicsp07.astype('float').astype('int32')"
     ],
     "language": "python",
     "metadata": {},
     "outputs": [],
     "prompt_number": 5
    },
    {
     "cell_type": "code",
     "collapsed": false,
     "input": [
      "pums_p.agep[(pums_p.relp==0)*(pums_p.agep<16)] = 16"
     ],
     "language": "python",
     "metadata": {},
     "outputs": [],
     "prompt_number": 12
    },
    {
     "cell_type": "code",
     "collapsed": false,
     "input": [
      "pums_p[(pums_p.relp==0)*(pums_p.agep<16)]"
     ],
     "language": "python",
     "metadata": {},
     "outputs": [
      {
       "html": [
        "<pre>\n",
        "&lt;class 'pandas.core.frame.DataFrame'&gt;\n",
        "Int64Index: 0 entries\n",
        "Data columns (total 21 columns):\n",
        "puma        0  non-null values\n",
        "agep        0  non-null values\n",
        "relp        0  non-null values\n",
        "esr         0  non-null values\n",
        "sch         0  non-null values\n",
        "schg        0  non-null values\n",
        "sporder     0  non-null values\n",
        "paug        0  non-null values\n",
        "ddp         0  non-null values\n",
        "sex         0  non-null values\n",
        "wkw         0  non-null values\n",
        "wkhp        0  non-null values\n",
        "rac1p       0  non-null values\n",
        "hisp        0  non-null values\n",
        "msp         0  non-null values\n",
        "povpip      0  non-null values\n",
        "pernp       0  non-null values\n",
        "pincp       0  non-null values\n",
        "indp07      0  non-null values\n",
        "naicsp07    0  non-null values\n",
        "indnaics    0  non-null values\n",
        "dtypes: int32(1), int64(18), object(2)\n",
        "</pre>"
       ],
       "metadata": {},
       "output_type": "pyout",
       "prompt_number": 13,
       "text": [
        "<class 'pandas.core.frame.DataFrame'>\n",
        "Int64Index: 0 entries\n",
        "Data columns (total 21 columns):\n",
        "puma        0  non-null values\n",
        "agep        0  non-null values\n",
        "relp        0  non-null values\n",
        "esr         0  non-null values\n",
        "sch         0  non-null values\n",
        "schg        0  non-null values\n",
        "sporder     0  non-null values\n",
        "paug        0  non-null values\n",
        "ddp         0  non-null values\n",
        "sex         0  non-null values\n",
        "wkw         0  non-null values\n",
        "wkhp        0  non-null values\n",
        "rac1p       0  non-null values\n",
        "hisp        0  non-null values\n",
        "msp         0  non-null values\n",
        "povpip      0  non-null values\n",
        "pernp       0  non-null values\n",
        "pincp       0  non-null values\n",
        "indp07      0  non-null values\n",
        "naicsp07    0  non-null values\n",
        "indnaics    0  non-null values\n",
        "dtypes: int32(1), int64(18), object(2)"
       ]
      }
     ],
     "prompt_number": 13
    },
    {
     "cell_type": "code",
     "collapsed": false,
     "input": [
      "pums_p.groupby('naicsp07').size()"
     ],
     "language": "python",
     "metadata": {},
     "outputs": [
      {
       "metadata": {},
       "output_type": "pyout",
       "prompt_number": 3,
       "text": [
        "naicsp07\n",
        "0           63621\n",
        "111           133\n",
        "112            69\n",
        "113            46\n",
        "114             7\n",
        "115            34\n",
        "211           109\n",
        "212            78\n",
        "213           332\n",
        "221           504\n",
        "230          4558\n",
        "311           532\n",
        "312           228\n",
        "313            21\n",
        "314            49\n",
        "...\n",
        "623          752\n",
        "624         1325\n",
        "711          528\n",
        "712          333\n",
        "713         1141\n",
        "721          669\n",
        "722         3934\n",
        "811          851\n",
        "812         1052\n",
        "813         1105\n",
        "814          497\n",
        "921         2398\n",
        "923          320\n",
        "928          404\n",
        "992          440\n",
        "Length: 89, dtype: int64"
       ]
      }
     ],
     "prompt_number": 3
    },
    {
     "cell_type": "code",
     "collapsed": false,
     "input": [
      "for x in np.unique(pums_p.naicsp07):  print x"
     ],
     "language": "python",
     "metadata": {},
     "outputs": [
      {
       "output_type": "stream",
       "stream": "stdout",
       "text": [
        "0\n",
        "111\n",
        "112\n",
        "113\n",
        "114\n",
        "115\n",
        "211\n",
        "212\n",
        "213\n",
        "221\n",
        "230\n",
        "311\n",
        "312\n",
        "313\n",
        "314\n",
        "315\n",
        "316\n",
        "321\n",
        "322\n",
        "323\n",
        "324\n",
        "325\n",
        "326\n",
        "327\n",
        "331\n",
        "332\n",
        "333\n",
        "334\n",
        "335\n",
        "336\n",
        "337\n",
        "339\n",
        "423\n",
        "424\n",
        "425\n",
        "441\n",
        "442\n",
        "443\n",
        "444\n",
        "445\n",
        "446\n",
        "447\n",
        "448\n",
        "451\n",
        "452\n",
        "453\n",
        "454\n",
        "481\n",
        "482\n",
        "483\n",
        "484\n",
        "485\n",
        "486\n",
        "487\n",
        "488\n",
        "491\n",
        "492\n",
        "493\n",
        "511\n",
        "512\n",
        "515\n",
        "517\n",
        "518\n",
        "519\n",
        "522\n",
        "524\n",
        "531\n",
        "532\n",
        "541\n",
        "561\n",
        "562\n",
        "611\n",
        "621\n",
        "622\n",
        "623\n",
        "624\n",
        "711\n",
        "712\n",
        "713\n",
        "721\n",
        "722\n",
        "811\n",
        "812\n",
        "813\n",
        "814\n",
        "921\n",
        "923\n",
        "928\n",
        "992\n"
       ]
      }
     ],
     "prompt_number": 4
    },
    {
     "cell_type": "code",
     "collapsed": false,
     "input": [
      "pums_p.indp07.isnull().sum()"
     ],
     "language": "python",
     "metadata": {},
     "outputs": [
      {
       "metadata": {},
       "output_type": "pyout",
       "prompt_number": 12,
       "text": [
        "0"
       ]
      }
     ],
     "prompt_number": 12
    },
    {
     "cell_type": "code",
     "collapsed": false,
     "input": [
      "pums_p.indp07[pums_p.indp07=='N.A.'] = '0'\n",
      "pums_p.indp07[pums_p.indp07==''] = '0'"
     ],
     "language": "python",
     "metadata": {},
     "outputs": [],
     "prompt_number": 13
    },
    {
     "cell_type": "code",
     "collapsed": false,
     "input": [
      "pums_p['indnaics'] = pums_p.indp07.astype('float').astype('int32')"
     ],
     "language": "python",
     "metadata": {},
     "outputs": [],
     "prompt_number": 18
    },
    {
     "cell_type": "code",
     "collapsed": false,
     "input": [
      "pums_p.astype"
     ],
     "language": "python",
     "metadata": {},
     "outputs": []
    },
    {
     "cell_type": "code",
     "collapsed": false,
     "input": [
      "pums_p['age'] = pums_p.agep\n",
      "pums_p['relate'] = pums_p.relp\n",
      "pums_p['esr_recode'] = 0*(pums_p.esr.isin([-99,6])) + 1*(pums_p.esr.isin([1,4])) + 2*(pums_p.esr.isin([2,5])) + 3*(pums_p.esr==3)\n",
      "pums_p['grade'] = pums_p.schg*(pums_p.schg>0) + 0*(pums_p.schg==-99)\n",
      "pums_p['pnum'] = pums_p.sporder\n",
      "pums_p['paug'] = 0\n",
      "pums_p['ddp'] = 0\n",
      "pums_p['sex'] = pums_p.sex\n",
      "pums_p['weeks'] = 0*(pums_p.wkw==-99) + 7*(pums_p.wkw==6) + 20*(pums_p.wkw==5) + 33*(pums_p.wkw==4) + 44*(pums_p.wkw==3) + 49*(pums_p.wkw==2) + 52*(pums_p.wkw==1)\n",
      "pums_p['hours'] = pums_p.wkhp*(pums_p.wkhp>0) + 0*(pums_p.wkhp==-99)\n",
      "pums_p['race1'] = pums_p.rac1p\n",
      "pums_p['hispan'] = pums_p.hisp\n",
      "pums_p['msp'] = pums_p.msp ##Get rid of -99's in the whole dataframe at end\n",
      "pums_p['poverty'] = pums_p.povpip\n",
      "#pums_p['earns'] = pums_p.pernp ##Needs the inflation adjustment #####NEED PERNP INSTEAD OF PINC\n",
      "#pums_p['indnaics'] = pums_p.naicsp07  ####NEED INDP07\n",
      "pums_p['pemploy'] = 1*(pums_p.wkhp>=25) + 2*(pums_p.wkhp<25)*(pums_p.wkhp>0) + 3*(pums_p.wkhp<1)\n",
      "pums_p['pstudent'] = 1*(pums_p.schg<=5)*(pums_p.schg>0) + 2*(pums_p.schg>5) + 3*(pums_p.schg==-99)\n",
      "pums_p['padkid'] = 1*(pums_p.agep>=18)*(pums_p.agep<=24)*(pums_p.relp.isin([1,2,4,5]))\n",
      "pums_p.padkid[pums_p.padkid==0] = 2\n",
      "pums_p['pagecat'] = 0*(pums_p.agep<=5) + 1*(pums_p.agep>=6)*(pums_p.agep<=11) + 2*(pums_p.agep>=12)*(pums_p.agep<=15) + 3*(pums_p.agep>=16)*(pums_p.agep<=17) \\\n",
      "                    + 4*(pums_p.agep>=18)*(pums_p.agep<=24) + 5*(pums_p.agep>=25)*(pums_p.agep<=34) + 6*(pums_p.agep>=35)*(pums_p.agep<=49) \\\n",
      "                    + 7*(pums_p.agep>=50)*(pums_p.agep<=64) + 8*(pums_p.agep>=65)*(pums_p.agep<=79) + 9*(pums_p.agep>=80)\n",
      "pums_p['ptype'] = 1*(pums_p.agep>=16)*(pums_p.wkhp>=25)*(pums_p.schg==-99) + 2*(pums_p.agep>=16)*(pums_p.wkhp>0)*(pums_p.wkhp<25)*(pums_p.schg==-99) + 3*(pums_p.schg>5) \\\n",
      "                  + 4*(pums_p.schg==-99)*(pums_p.wkhp==-99)*(pums_p.agep>=16)*(pums_p.agep<=64) + 5*(pums_p.schg==-99)*(pums_p.wkhp==-99)*(pums_p.agep>=65) \\\n",
      "                  + 6*(pums_p.schg<6)*(pums_p.wkhp<25)*(pums_p.agep>=16)*(pums_p.agep<=19) + 7*(pums_p.agep>=6)*(pums_p.agep<=15) + 8*(pums_p.agep<=5)  \n",
      "        ##The categories are not mutually exclusive, I need better bin defintion\n",
      "joined = pd.merge(pums_p, pums_hh, left_index=True, right_index=True)"
     ],
     "language": "python",
     "metadata": {},
     "outputs": [],
     "prompt_number": 3
    },
    {
     "cell_type": "code",
     "collapsed": false,
     "input": [
      "pums_p.ptype.value_counts()"
     ],
     "language": "python",
     "metadata": {},
     "outputs": [
      {
       "metadata": {},
       "output_type": "pyout",
       "prompt_number": 4,
       "text": [
        "1     59859\n",
        "7     17234\n",
        "5     12697\n",
        "4     11197\n",
        "8     10354\n",
        "3      9187\n",
        "2      6942\n",
        "6      3872\n",
        "0       648\n",
        "10      259\n",
        "dtype: int64"
       ]
      }
     ],
     "prompt_number": 4
    },
    {
     "cell_type": "code",
     "collapsed": false,
     "input": [
      "joined['serialno'] = joined.index.values\n",
      "joined['is_worker'] = np.in1d(joined.esr,[1,2,3,4,5]).astype('int32')"
     ],
     "language": "python",
     "metadata": {},
     "outputs": [],
     "prompt_number": 5
    },
    {
     "cell_type": "code",
     "collapsed": false,
     "input": [
      "num_children = joined[joined.agep<18].groupby('serialno').size()\n",
      "num_adults = joined[joined.agep>=18].groupby('serialno').size()\n",
      "num_workers = joined.groupby('serialno').is_worker.sum()"
     ],
     "language": "python",
     "metadata": {},
     "outputs": [],
     "prompt_number": 6
    },
    {
     "cell_type": "code",
     "collapsed": false,
     "input": [
      "pums_p.index.values"
     ],
     "language": "python",
     "metadata": {},
     "outputs": [
      {
       "metadata": {},
       "output_type": "pyout",
       "prompt_number": 7,
       "text": [
        "array([2007000000027, 2007000000027, 2007000000027, ..., 2011001501376,\n",
        "       2011001501693, 2011001501745], dtype=int64)"
       ]
      }
     ],
     "prompt_number": 7
    },
    {
     "cell_type": "code",
     "collapsed": false,
     "input": [
      "pums_hh['age_of_head'] = joined[joined.relp==0].agep"
     ],
     "language": "python",
     "metadata": {},
     "outputs": [],
     "prompt_number": 8
    },
    {
     "cell_type": "code",
     "collapsed": false,
     "input": [
      "pums_hh['hhagecat'] = 1*(pums_hh.age_of_head<65) + 2*(pums_hh.age_of_head>=65)\n",
      "pums_hh['hhagecat3'] = 1*(pums_hh.age_of_head<45) + 2*(pums_hh.age_of_head>=45)*(pums_hh.age_of_head<65) + 3*(pums_hh.age_of_head>=65)"
     ],
     "language": "python",
     "metadata": {},
     "outputs": [],
     "prompt_number": 9
    },
    {
     "cell_type": "code",
     "collapsed": false,
     "input": [
      "pums_hh['hhsizecat'] = pums_hh.np*(pums_hh.np<=5) + 5*(pums_hh.np>5)\n",
      "pums_hh['hhsizecat6'] = pums_hh.np*(pums_hh.np<=6) + 6*(pums_hh.np>6)\n",
      "pums_hh['hfamily'] = 1*(pums_hh.hht>3) + 2*(pums_hh.hht<=3)\n",
      "pums_hh['hunittype'] = 0\n",
      "pums_hh['hnoccat'] = 0*(pums_hh.noc==0) + 1*(pums_hh.noc>0)\n",
      "pums_hh['hnccat6'] = num_children*(num_children<5) + 5*(num_children>=5)\n",
      "pums_hh['hnacat6'] =  num_adults*(num_adults<5) + 5*(num_adults>=5)\n",
      "pums_hh['hwrkrcat'] = num_workers*(num_workers<3) + 3*(num_workers>=3)\n",
      "pums_hh['hwrkrcat5'] = num_workers*(num_workers<4) + 4*(num_workers>=4)\n",
      "pums_hh['h0005'] = joined[joined.agep<=5].groupby('serialno').size()\n",
      "pums_hh['h0611'] = joined[(joined.agep>=6)*(joined.agep<=11)].groupby('serialno').size()\n",
      "pums_hh['h1215'] = joined[(joined.agep>=12)*(joined.agep<=15)].groupby('serialno').size()\n",
      "pums_hh['h1617'] = joined[(joined.agep>=16)*(joined.agep<=17)].groupby('serialno').size()\n",
      "pums_hh['h1824'] = joined[(joined.agep>=18)*(joined.agep<=24)].groupby('serialno').size()\n",
      "pums_hh['h2534'] = joined[(joined.agep>=25)*(joined.agep<=34)].groupby('serialno').size()\n",
      "pums_hh['h3549'] = joined[(joined.agep>=35)*(joined.agep<=49)].groupby('serialno').size()\n",
      "pums_hh['h5064'] = joined[(joined.agep>=50)*(joined.agep<=64)].groupby('serialno').size()\n",
      "pums_hh['h6579'] = joined[(joined.agep>=65)*(joined.agep<=79)].groupby('serialno').size()\n",
      "pums_hh['h80up'] = joined[(joined.agep>=80)].groupby('serialno').size()\n",
      "pums_hh['hworkers'] = num_workers\n",
      "pums_hh['hwork_f'] = joined[joined.ptype==1].groupby('serialno').size()\n",
      "pums_hh['hwork_p'] = joined[joined.ptype==2].groupby('serialno').size()\n",
      "pums_hh['huniv'] = joined[joined.ptype==3].groupby('serialno').size()\n",
      "pums_hh['hnwork'] = joined[joined.ptype==4].groupby('serialno').size()\n",
      "pums_hh['hretire'] = joined[joined.ptype==5].groupby('serialno').size()\n",
      "pums_hh['hpresch'] = joined[joined.ptype==8].groupby('serialno').size()\n",
      "pums_hh['hschpred'] = joined[joined.ptype==7].groupby('serialno').size()\n",
      "pums_hh['hschdriv'] = joined[joined.ptype==6].groupby('serialno').size()\n",
      "pums_hh['hadnwst'] = joined[(joined.agep>=16)*(joined.wkhp==-99)*(joined.schg>0)].groupby('serialno').size()\n",
      "pums_hh['hadwpst'] = joined[(joined.agep>=16)*(joined.wkhp>0)*(joined.schg>0)].groupby('serialno').size()\n",
      "pums_hh['hadkids'] = joined[(joined.agep>=18)*(joined.relp==2)].groupby('serialno').size()"
     ],
     "language": "python",
     "metadata": {},
     "outputs": [],
     "prompt_number": 10
    },
    {
     "cell_type": "code",
     "collapsed": false,
     "input": [
      "pums_hh.columns"
     ],
     "language": "python",
     "metadata": {},
     "outputs": [
      {
       "metadata": {},
       "output_type": "pyout",
       "prompt_number": 11,
       "text": [
        "Index([u'puma', u'hincp', u'wif', u'veh', u'noc', u'nrc', u'np', u'hht', u'type', u'ten', u'age_of_head', u'hhagecat', u'hhagecat3', u'hhsizecat', u'hhsizecat6', u'hfamily', u'hunittype', u'hnoccat', u'hnccat6', u'hnacat6', u'hwrkrcat', u'hwrkrcat5', u'h0005', u'h0611', u'h1215', u'h1617', u'h1824', u'h2534', u'h3549', u'h5064', u'h6579', u'h80up', u'hworkers', u'hwork_f', u'hwork_p', u'huniv', u'hnwork', u'hretire', u'hpresch', u'hschpred', u'hschdriv', u'hadnwst', u'hadwpst', u'hadkids'], dtype=object)"
       ]
      }
     ],
     "prompt_number": 11
    },
    {
     "cell_type": "code",
     "collapsed": false,
     "input": [
      "print pums_p.esr.describe()\n",
      "pums_p.columns"
     ],
     "language": "python",
     "metadata": {},
     "outputs": [
      {
       "output_type": "stream",
       "stream": "stdout",
       "text": [
        "count    132249.000000\n",
        "mean        -18.411754\n",
        "std          41.221715\n",
        "min         -99.000000\n",
        "25%           1.000000\n",
        "50%           1.000000\n",
        "75%           3.000000\n",
        "max           6.000000\n",
        "dtype: float64\n"
       ]
      },
      {
       "metadata": {},
       "output_type": "pyout",
       "prompt_number": 12,
       "text": [
        "Index([u'puma', u'agep', u'relp', u'esr', u'sch', u'schg', u'sporder', u'paug', u'ddp', u'sex', u'wkw', u'wkhp', u'rac1p', u'hisp', u'msp', u'povpip', u'pincp', u'naicsp07', u'age', u'relate', u'esr_recode', u'grade', u'pnum', u'weeks', u'hours', u'race1', u'hispan', u'poverty', u'pemploy', u'pstudent', u'padkid', u'pagecat', u'ptype'], dtype=object)"
       ]
      }
     ],
     "prompt_number": 12
    },
    {
     "cell_type": "code",
     "collapsed": false,
     "input": [
      "joined.esr.describe()"
     ],
     "language": "python",
     "metadata": {},
     "outputs": [
      {
       "metadata": {},
       "output_type": "pyout",
       "prompt_number": 13,
       "text": [
        "count    129813.000000\n",
        "mean        -18.826966\n",
        "std          41.456634\n",
        "min         -99.000000\n",
        "25%           1.000000\n",
        "50%           1.000000\n",
        "75%           3.000000\n",
        "max           6.000000\n",
        "dtype: float64"
       ]
      }
     ],
     "prompt_number": 13
    },
    {
     "cell_type": "code",
     "collapsed": false,
     "input": [
      "pums_hh['puma5'] = pums_hh.puma  ##Needs to be updated by urbansim!!\n",
      "pums_hh['hinc'] = pums_hh.hincp ##Still need ADJINC  to adjust HINCP to constant dollars.  Also, consider putting in terms of 1999 dollars.\n",
      "pums_hh['persons'] = pums_hh.np\n",
      "pums_hh.hht[pums_hh.hht==-99] = 0\n",
      "pums_hh['unittype'] = pums_hh.type - 1\n",
      "pums_hh['hinccat1'] = 1*(pums_hh.hinc<20000) + 2*(pums_hh.hinc>=20000)*(pums_hh.hinc<50000) + 3*(pums_hh.hinc>=50000)*(pums_hh.hinc<100000) + 4*(pums_hh.hinc>=100000)\n",
      "pums_hh['hinccat2'] = 1*(pums_hh.hinc<10000) + 2*(pums_hh.hinc>=10000)*(pums_hh.hinc<20000) + 3*(pums_hh.hinc>=20000)*(pums_hh.hinc<30000) + \\\n",
      "                      4*(pums_hh.hinc>=30000)*(pums_hh.hinc<40000) + 5*(pums_hh.hinc>=40000)*(pums_hh.hinc<50000) + 6*(pums_hh.hinc>=50000)*(pums_hh.hinc<60000) + \\\n",
      "                      7*(pums_hh.hinc>=60000)*(pums_hh.hinc<75000) + 8*(pums_hh.hinc>=75000)*(pums_hh.hinc<100000) +  9*(pums_hh.hinc>=100000)\n",
      "pums_hh['hownrent'] = 1*(pums_hh.ten<3) + 2*(pums_hh.ten>2)\n",
      "pums_hh['bucketBin'] = 0\n",
      "pums_hh['originalpuma'] = pums_hh.puma"
     ],
     "language": "python",
     "metadata": {},
     "outputs": [],
     "prompt_number": 14
    },
    {
     "cell_type": "code",
     "collapsed": false,
     "input": [
      "household = sql.read_frame('select * from synthetic_hh',conn)\n",
      "person = sql.read_frame('select * from synthetic_persons',conn)"
     ],
     "language": "python",
     "metadata": {},
     "outputs": [],
     "prompt_number": 16
    },
    {
     "cell_type": "code",
     "collapsed": false,
     "input": [
      "household.head()"
     ],
     "language": "python",
     "metadata": {},
     "outputs": [
      {
       "html": [
        "<div style=\"max-height:1000px;max-width:1500px;overflow:auto;\">\n",
        "<table border=\"1\" class=\"dataframe\">\n",
        "  <thead>\n",
        "    <tr style=\"text-align: right;\">\n",
        "      <th></th>\n",
        "      <th>state</th>\n",
        "      <th>county</th>\n",
        "      <th>taz</th>\n",
        "      <th>serialno</th>\n",
        "    </tr>\n",
        "  </thead>\n",
        "  <tbody>\n",
        "    <tr>\n",
        "      <th>0</th>\n",
        "      <td> 8</td>\n",
        "      <td> 1</td>\n",
        "      <td> 202120</td>\n",
        "      <td> 2010000000000</td>\n",
        "    </tr>\n",
        "    <tr>\n",
        "      <th>1</th>\n",
        "      <td> 8</td>\n",
        "      <td> 1</td>\n",
        "      <td> 202120</td>\n",
        "      <td> 2010000000000</td>\n",
        "    </tr>\n",
        "    <tr>\n",
        "      <th>2</th>\n",
        "      <td> 8</td>\n",
        "      <td> 1</td>\n",
        "      <td> 202120</td>\n",
        "      <td> 2010000000000</td>\n",
        "    </tr>\n",
        "    <tr>\n",
        "      <th>3</th>\n",
        "      <td> 8</td>\n",
        "      <td> 1</td>\n",
        "      <td> 202120</td>\n",
        "      <td> 2010000000000</td>\n",
        "    </tr>\n",
        "    <tr>\n",
        "      <th>4</th>\n",
        "      <td> 8</td>\n",
        "      <td> 1</td>\n",
        "      <td> 202120</td>\n",
        "      <td> 2010000000000</td>\n",
        "    </tr>\n",
        "  </tbody>\n",
        "</table>\n",
        "</div>"
       ],
       "metadata": {},
       "output_type": "pyout",
       "prompt_number": 21,
       "text": [
        "   state  county     taz       serialno\n",
        "0      8       1  202120  2010000000000\n",
        "1      8       1  202120  2010000000000\n",
        "2      8       1  202120  2010000000000\n",
        "3      8       1  202120  2010000000000\n",
        "4      8       1  202120  2010000000000"
       ]
      }
     ],
     "prompt_number": 21
    },
    {
     "cell_type": "code",
     "collapsed": false,
     "input": [
      "person.head()"
     ],
     "language": "python",
     "metadata": {},
     "outputs": [
      {
       "html": [
        "<div style=\"max-height:1000px;max-width:1500px;overflow:auto;\">\n",
        "<table border=\"1\" class=\"dataframe\">\n",
        "  <thead>\n",
        "    <tr style=\"text-align: right;\">\n",
        "      <th></th>\n",
        "      <th>state</th>\n",
        "      <th>county</th>\n",
        "      <th>taz</th>\n",
        "      <th>serialno</th>\n",
        "      <th>pnum</th>\n",
        "    </tr>\n",
        "  </thead>\n",
        "  <tbody>\n",
        "    <tr>\n",
        "      <th>0</th>\n",
        "      <td> 8</td>\n",
        "      <td> 1</td>\n",
        "      <td> 202120</td>\n",
        "      <td> 2007000000000</td>\n",
        "      <td> 1</td>\n",
        "    </tr>\n",
        "    <tr>\n",
        "      <th>1</th>\n",
        "      <td> 8</td>\n",
        "      <td> 1</td>\n",
        "      <td> 202120</td>\n",
        "      <td> 2011000000000</td>\n",
        "      <td> 1</td>\n",
        "    </tr>\n",
        "    <tr>\n",
        "      <th>2</th>\n",
        "      <td> 8</td>\n",
        "      <td> 1</td>\n",
        "      <td> 202120</td>\n",
        "      <td> 2011000000000</td>\n",
        "      <td> 1</td>\n",
        "    </tr>\n",
        "    <tr>\n",
        "      <th>3</th>\n",
        "      <td> 8</td>\n",
        "      <td> 1</td>\n",
        "      <td> 202120</td>\n",
        "      <td> 2010000000000</td>\n",
        "      <td> 1</td>\n",
        "    </tr>\n",
        "    <tr>\n",
        "      <th>4</th>\n",
        "      <td> 8</td>\n",
        "      <td> 1</td>\n",
        "      <td> 202120</td>\n",
        "      <td> 2007000000000</td>\n",
        "      <td> 1</td>\n",
        "    </tr>\n",
        "  </tbody>\n",
        "</table>\n",
        "</div>"
       ],
       "metadata": {},
       "output_type": "pyout",
       "prompt_number": 20,
       "text": [
        "   state  county     taz       serialno  pnum\n",
        "0      8       1  202120  2007000000000     1\n",
        "1      8       1  202120  2011000000000     1\n",
        "2      8       1  202120  2011000000000     1\n",
        "3      8       1  202120  2010000000000     1\n",
        "4      8       1  202120  2007000000000     1"
       ]
      }
     ],
     "prompt_number": 20
    },
    {
     "cell_type": "code",
     "collapsed": false,
     "input": [
      "parcels['centroid_x'] = parcels_ref.centroid_x\n",
      "parcels['centroid_y'] = parcels_ref.centroid_y"
     ],
     "language": "python",
     "metadata": {},
     "outputs": [],
     "prompt_number": 10
    },
    {
     "cell_type": "code",
     "collapsed": false,
     "input": [
      "parcels[['parcel_sqft','centroid_x','centroid_y']].head()"
     ],
     "language": "python",
     "metadata": {},
     "outputs": [
      {
       "html": [
        "<div style=\"max-height:1000px;max-width:1500px;overflow:auto;\">\n",
        "<table border=\"1\" class=\"dataframe\">\n",
        "  <thead>\n",
        "    <tr style=\"text-align: right;\">\n",
        "      <th></th>\n",
        "      <th>parcel_sqft</th>\n",
        "      <th>centroid_x</th>\n",
        "      <th>centroid_y</th>\n",
        "    </tr>\n",
        "    <tr>\n",
        "      <th>parcel_id</th>\n",
        "      <th></th>\n",
        "      <th></th>\n",
        "      <th></th>\n",
        "    </tr>\n",
        "  </thead>\n",
        "  <tbody>\n",
        "    <tr>\n",
        "      <th>1</th>\n",
        "      <td>   20479</td>\n",
        "      <td> 3174135</td>\n",
        "      <td> 1695429</td>\n",
        "    </tr>\n",
        "    <tr>\n",
        "      <th>2</th>\n",
        "      <td>   17777</td>\n",
        "      <td> 3180889</td>\n",
        "      <td> 1695592</td>\n",
        "    </tr>\n",
        "    <tr>\n",
        "      <th>3</th>\n",
        "      <td>   59025</td>\n",
        "      <td> 3175519</td>\n",
        "      <td> 1699844</td>\n",
        "    </tr>\n",
        "    <tr>\n",
        "      <th>4</th>\n",
        "      <td> 1640178</td>\n",
        "      <td> 3192128</td>\n",
        "      <td> 1747750</td>\n",
        "    </tr>\n",
        "    <tr>\n",
        "      <th>5</th>\n",
        "      <td>       0</td>\n",
        "      <td> 3154372</td>\n",
        "      <td> 1747898</td>\n",
        "    </tr>\n",
        "  </tbody>\n",
        "</table>\n",
        "</div>"
       ],
       "metadata": {},
       "output_type": "pyout",
       "prompt_number": 11,
       "text": [
        "           parcel_sqft  centroid_x  centroid_y\n",
        "parcel_id                                     \n",
        "1                20479     3174135     1695429\n",
        "2                17777     3180889     1695592\n",
        "3                59025     3175519     1699844\n",
        "4              1640178     3192128     1747750\n",
        "5                    0     3154372     1747898"
       ]
      }
     ],
     "prompt_number": 11
    },
    {
     "cell_type": "code",
     "collapsed": false,
     "input": [
      "parcels_ref.head()"
     ],
     "language": "python",
     "metadata": {},
     "outputs": [
      {
       "html": [
        "<div style=\"max-height:1000px;max-width:1500px;overflow:auto;\">\n",
        "<table border=\"1\" class=\"dataframe\">\n",
        "  <thead>\n",
        "    <tr style=\"text-align: right;\">\n",
        "      <th></th>\n",
        "      <th>parcel_sqft</th>\n",
        "      <th>centroid_x</th>\n",
        "      <th>centroid_y</th>\n",
        "    </tr>\n",
        "    <tr>\n",
        "      <th>parcel_id</th>\n",
        "      <th></th>\n",
        "      <th></th>\n",
        "      <th></th>\n",
        "    </tr>\n",
        "  </thead>\n",
        "  <tbody>\n",
        "    <tr>\n",
        "      <th>1</th>\n",
        "      <td>  20479</td>\n",
        "      <td> 3174135</td>\n",
        "      <td> 1695429</td>\n",
        "    </tr>\n",
        "    <tr>\n",
        "      <th>2</th>\n",
        "      <td>  17777</td>\n",
        "      <td> 3180889</td>\n",
        "      <td> 1695592</td>\n",
        "    </tr>\n",
        "    <tr>\n",
        "      <th>3</th>\n",
        "      <td>  59025</td>\n",
        "      <td> 3175519</td>\n",
        "      <td> 1699844</td>\n",
        "    </tr>\n",
        "    <tr>\n",
        "      <th>4</th>\n",
        "      <td> 285497</td>\n",
        "      <td> 3192128</td>\n",
        "      <td> 1747750</td>\n",
        "    </tr>\n",
        "    <tr>\n",
        "      <th>5</th>\n",
        "      <td>  27156</td>\n",
        "      <td> 3154372</td>\n",
        "      <td> 1747898</td>\n",
        "    </tr>\n",
        "  </tbody>\n",
        "</table>\n",
        "</div>"
       ],
       "metadata": {},
       "output_type": "pyout",
       "prompt_number": 12,
       "text": [
        "           parcel_sqft  centroid_x  centroid_y\n",
        "parcel_id                                     \n",
        "1                20479     3174135     1695429\n",
        "2                17777     3180889     1695592\n",
        "3                59025     3175519     1699844\n",
        "4               285497     3192128     1747750\n",
        "5                27156     3154372     1747898"
       ]
      }
     ],
     "prompt_number": 12
    },
    {
     "cell_type": "code",
     "collapsed": false,
     "input": [
      "store = pd.HDFStore('c:\\\\urbansim\\\\data\\\\drcog.h5')"
     ],
     "language": "python",
     "metadata": {},
     "outputs": [],
     "prompt_number": 13
    },
    {
     "cell_type": "code",
     "collapsed": false,
     "input": [
      "store['parcels'] = parcels"
     ],
     "language": "python",
     "metadata": {},
     "outputs": [],
     "prompt_number": 14
    },
    {
     "cell_type": "code",
     "collapsed": false,
     "input": [
      "store.close()"
     ],
     "language": "python",
     "metadata": {},
     "outputs": [],
     "prompt_number": 15
    }
   ],
   "metadata": {}
  }
 ]
}