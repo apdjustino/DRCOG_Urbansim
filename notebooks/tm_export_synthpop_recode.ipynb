{
 "metadata": {
  "name": ""
 },
 "nbformat": 3,
 "nbformat_minor": 0,
 "worksheets": [
  {
   "cells": [
    {
     "cell_type": "code",
     "collapsed": false,
     "input": [
      "import pandas as pd, numpy as np\n",
      "import psycopg2\n",
      "import pandas.io.sql as sql\n",
      "conn_string = \"host='paris.urbansim.org' port=5433 dbname='denver' user='urbancanvas' password='Visua1ization'\"\n",
      "conn = psycopg2.connect(conn_string)\n",
      "cur = conn.cursor()\n",
      "pums_hh = sql.read_frame('select * from pums_hh',conn)\n",
      "pums_p = sql.read_frame('select * from pums_person',conn)\n",
      "pums_hh = pums_hh.set_index('serialno')\n",
      "pums_p = pums_p.set_index('serialno')\n",
      "pums_hh = pums_hh[(pums_hh.type==1)*(pums_hh.np>0)]\n",
      "## Need not replace all 99's right?  They won't join?"
     ],
     "language": "python",
     "metadata": {},
     "outputs": [],
     "prompt_number": 1
    },
    {
     "cell_type": "code",
     "collapsed": false,
     "input": [
      "pums_p['ptype'] = 1*(pums_p.agep>=16)*(pums_p.wkhp>=25)*(pums_p.schg==-99) + 2*(pums_p.agep>=16)*(pums_p.wkhp>0)*(pums_p.wkhp<25)*(pums_p.schg==-99) + 3*(pums_p.schg>5) \\\n",
      "                  + 4*(pums_p.schg==-99)*(pums_p.wkhp==-99)*(pums_p.agep>=16)*(pums_p.agep<=64) + 5*(pums_p.schg==-99)*(pums_p.wkhp==-99)*(pums_p.agep>=65) \\\n",
      "                  + 6*(pums_p.schg<6)*(pums_p.wkhp<25)*(pums_p.agep>=16)*(pums_p.agep<=19) + 7*(pums_p.agep>=6)*(pums_p.agep<=15) + 8*(pums_p.agep<=5)  \n",
      "        ##The categories are not mutually exclusive, I need better bin defintion\n",
      "joined = pd.merge(pums_p, pums_hh, left_index=True, right_index=True)"
     ],
     "language": "python",
     "metadata": {},
     "outputs": [],
     "prompt_number": 48
    },
    {
     "cell_type": "code",
     "collapsed": false,
     "input": [
      "pums_p.ptype.value_counts()"
     ],
     "language": "python",
     "metadata": {},
     "outputs": [
      {
       "metadata": {},
       "output_type": "pyout",
       "prompt_number": 46,
       "text": [
        "1     59859\n",
        "7     17234\n",
        "5     12697\n",
        "4     11197\n",
        "8     10354\n",
        "3      9187\n",
        "2      6942\n",
        "6      3872\n",
        "0       648\n",
        "10      259\n",
        "dtype: int64"
       ]
      }
     ],
     "prompt_number": 46
    },
    {
     "cell_type": "code",
     "collapsed": false,
     "input": [
      "joined['serialno'] = joined.index.values\n",
      "joined['is_worker'] = np.in1d(joined.esr,[1,2,3,4,5]).astype('int32')"
     ],
     "language": "python",
     "metadata": {},
     "outputs": [],
     "prompt_number": 49
    },
    {
     "cell_type": "code",
     "collapsed": false,
     "input": [
      "num_children = joined[joined.agep<18].groupby('serialno').size()\n",
      "num_adults = joined[joined.agep>=18].groupby('serialno').size()\n",
      "num_workers = joined.groupby('serialno').is_worker.sum()"
     ],
     "language": "python",
     "metadata": {},
     "outputs": [],
     "prompt_number": 50
    },
    {
     "cell_type": "code",
     "collapsed": false,
     "input": [
      "pums_p.index.values"
     ],
     "language": "python",
     "metadata": {},
     "outputs": [
      {
       "metadata": {},
       "output_type": "pyout",
       "prompt_number": 12,
       "text": [
        "array([2007000000027, 2007000000027, 2007000000027, ..., 2011001501376,\n",
        "       2011001501693, 2011001501745], dtype=int64)"
       ]
      }
     ],
     "prompt_number": 12
    },
    {
     "cell_type": "code",
     "collapsed": false,
     "input": [
      "pums_hh['age_of_head'] = joined[joined.relp==0].agep"
     ],
     "language": "python",
     "metadata": {},
     "outputs": [],
     "prompt_number": 2
    },
    {
     "cell_type": "code",
     "collapsed": false,
     "input": [
      "pums_hh['hhagecat'] = 1*(pums_hh.age_of_head<65) + 2*(pums_hh.age_of_head>=65)\n",
      "pums_hh['hhagecat3'] = 1*(pums_hh.age_of_head<45) + 2*(pums_hh.age_of_head>=45)*(pums_hh.age_of_head<65) + 3*(pums_hh.age_of_head>=65)"
     ],
     "language": "python",
     "metadata": {},
     "outputs": [],
     "prompt_number": 6
    },
    {
     "cell_type": "code",
     "collapsed": false,
     "input": [
      "pums_hh['hhsizecat'] = pums_hh.np*(pums_hh.np<=5) + 5*(pums_hh.np>5)\n",
      "pums_hh['hhsizecat6'] = pums_hh.np*(pums_hh.np<=6) + 6*(pums_hh.np>6)\n",
      "pums_hh['hfamily'] = 1*(pums_hh.hht>3) + 2*(pums_hh.hht<=3)\n",
      "pums_hh['hunittype'] = 0\n",
      "pums_hh['hnoccat'] = 0*(pums_hh.noc==0) + 1*(pums_hh.noc>0)\n",
      "pums_hh['hnccat6'] = num_children*(num_children<5) + 5*(num_children>=5)\n",
      "pums_hh['hnacat6'] =  num_adults*(num_adults<5) + 5*(num_adults>=5)\n",
      "pums_hh['hwrkrcat'] = num_workers*(num_workers<3) + 3*(num_workers>=3)\n",
      "pums_hh['hwrkrcat5'] = num_workers*(num_workers<4) + 4*(num_workers>=4)\n",
      "pums_hh['h0005'] = joined[joined.agep<=5].groupby('serialno').size()\n",
      "pums_hh['h0611'] = joined[(joined.agep>=6)*(joined.agep<=11)].groupby('serialno').size()\n",
      "pums_hh['h1215'] = joined[(joined.agep>=12)*(joined.agep<=15)].groupby('serialno').size()\n",
      "pums_hh['h1617'] = joined[(joined.agep>=16)*(joined.agep<=17)].groupby('serialno').size()\n",
      "pums_hh['h1824'] = joined[(joined.agep>=18)*(joined.agep<=24)].groupby('serialno').size()\n",
      "pums_hh['h2534'] = joined[(joined.agep>=25)*(joined.agep<=34)].groupby('serialno').size()\n",
      "pums_hh['h3549'] = joined[(joined.agep>=35)*(joined.agep<=49)].groupby('serialno').size()\n",
      "pums_hh['h5064'] = joined[(joined.agep>=50)*(joined.agep<=64)].groupby('serialno').size()\n",
      "pums_hh['h6579'] = joined[(joined.agep>=65)*(joined.agep<=79)].groupby('serialno').size()\n",
      "pums_hh['h80up'] = joined[(joined.agep>=80)].groupby('serialno').size()\n",
      "pums_hh['hworkers'] = num_workers\n",
      "pums_hh['hwork_f'] = joined[joined.ptype==1].groupby('serialno').size()\n",
      "pums_hh['hwork_p'] = joined[joined.ptype==2].groupby('serialno').size()\n",
      "pums_hh['huniv'] = joined[joined.ptype==3].groupby('serialno').size()\n",
      "pums_hh['hnwork'] = joined[joined.ptype==4].groupby('serialno').size()\n",
      "pums_hh['hretire'] = joined[joined.ptype==5].groupby('serialno').size()\n",
      "pums_hh['hpresch'] = joined[joined.ptype==8].groupby('serialno').size()\n",
      "pums_hh['hschpred'] = joined[joined.ptype==7].groupby('serialno').size()\n",
      "pums_hh['hschdriv'] = joined[joined.ptype==6].groupby('serialno').size()\n",
      "pums_hh['hadnwst'] = joined[(joined.agep>=16)*(joined.wkhp==-99)*(joined.schg>0)].groupby('serialno').size()\n",
      "pums_hh['hadwpst'] = joined[(joined.agep>=16)*(joined.wkhp>0)*(joined.schg>0)].groupby('serialno').size()\n",
      "pums_hh['hadkids'] = joined[(joined.agep>=18)*(joined.relp==2)].groupby('serialno').size()"
     ],
     "language": "python",
     "metadata": {},
     "outputs": [],
     "prompt_number": 56
    },
    {
     "cell_type": "code",
     "collapsed": false,
     "input": [
      "pums_hh.describe()"
     ],
     "language": "python",
     "metadata": {},
     "outputs": [
      {
       "html": [
        "<div style=\"max-height:1000px;max-width:1500px;overflow:auto;\">\n",
        "<table border=\"1\" class=\"dataframe\">\n",
        "  <thead>\n",
        "    <tr style=\"text-align: right;\">\n",
        "      <th></th>\n",
        "      <th>serialno</th>\n",
        "      <th>puma</th>\n",
        "      <th>hincp</th>\n",
        "      <th>wif</th>\n",
        "      <th>veh</th>\n",
        "      <th>noc</th>\n",
        "      <th>nrc</th>\n",
        "      <th>np</th>\n",
        "      <th>hht</th>\n",
        "      <th>type</th>\n",
        "      <th>ten</th>\n",
        "      <th>hinc</th>\n",
        "      <th>persons</th>\n",
        "    </tr>\n",
        "  </thead>\n",
        "  <tbody>\n",
        "    <tr>\n",
        "      <th>count</th>\n",
        "      <td> 5.895900e+04</td>\n",
        "      <td> 58959.000000</td>\n",
        "      <td>   58959.000000</td>\n",
        "      <td> 58959.000000</td>\n",
        "      <td> 58959.000000</td>\n",
        "      <td> 58959.000000</td>\n",
        "      <td> 58959.000000</td>\n",
        "      <td> 58959.000000</td>\n",
        "      <td> 58959.000000</td>\n",
        "      <td> 58959.000000</td>\n",
        "      <td> 58959.000000</td>\n",
        "      <td>   58959.000000</td>\n",
        "      <td> 58959.000000</td>\n",
        "    </tr>\n",
        "    <tr>\n",
        "      <th>mean</th>\n",
        "      <td> 2.009033e+12</td>\n",
        "      <td>   811.643278</td>\n",
        "      <td>   76633.084822</td>\n",
        "      <td>   -40.075561</td>\n",
        "      <td>    -6.106650</td>\n",
        "      <td>    -7.340389</td>\n",
        "      <td>    -7.303686</td>\n",
        "      <td>     2.243067</td>\n",
        "      <td>    -5.257467</td>\n",
        "      <td>     1.058261</td>\n",
        "      <td>    -6.209010</td>\n",
        "      <td>   76633.084822</td>\n",
        "      <td>     2.243067</td>\n",
        "    </tr>\n",
        "    <tr>\n",
        "      <th>std</th>\n",
        "      <td> 1.417193e+09</td>\n",
        "      <td>     6.457510</td>\n",
        "      <td>   81938.897526</td>\n",
        "      <td>    49.559596</td>\n",
        "      <td>    27.222004</td>\n",
        "      <td>    26.858425</td>\n",
        "      <td>    26.870342</td>\n",
        "      <td>     1.420374</td>\n",
        "      <td>    27.525200</td>\n",
        "      <td>     0.297919</td>\n",
        "      <td>    27.187601</td>\n",
        "      <td>   81938.897526</td>\n",
        "      <td>     1.420374</td>\n",
        "    </tr>\n",
        "    <tr>\n",
        "      <th>min</th>\n",
        "      <td> 2.007000e+12</td>\n",
        "      <td>   801.000000</td>\n",
        "      <td>  -16600.000000</td>\n",
        "      <td>   -99.000000</td>\n",
        "      <td>   -99.000000</td>\n",
        "      <td>   -99.000000</td>\n",
        "      <td>   -99.000000</td>\n",
        "      <td>     0.000000</td>\n",
        "      <td>   -99.000000</td>\n",
        "      <td>     1.000000</td>\n",
        "      <td>   -99.000000</td>\n",
        "      <td>  -16600.000000</td>\n",
        "      <td>     0.000000</td>\n",
        "    </tr>\n",
        "    <tr>\n",
        "      <th>25%</th>\n",
        "      <td> 2.008000e+12</td>\n",
        "      <td>   806.000000</td>\n",
        "      <td>   25400.000000</td>\n",
        "      <td>   -99.000000</td>\n",
        "      <td>     1.000000</td>\n",
        "      <td>     0.000000</td>\n",
        "      <td>     0.000000</td>\n",
        "      <td>     1.000000</td>\n",
        "      <td>     1.000000</td>\n",
        "      <td>     1.000000</td>\n",
        "      <td>     1.000000</td>\n",
        "      <td>   25400.000000</td>\n",
        "      <td>     1.000000</td>\n",
        "    </tr>\n",
        "    <tr>\n",
        "      <th>50%</th>\n",
        "      <td> 2.009001e+12</td>\n",
        "      <td>   812.000000</td>\n",
        "      <td>   57000.000000</td>\n",
        "      <td>     1.000000</td>\n",
        "      <td>     2.000000</td>\n",
        "      <td>     0.000000</td>\n",
        "      <td>     0.000000</td>\n",
        "      <td>     2.000000</td>\n",
        "      <td>     1.000000</td>\n",
        "      <td>     1.000000</td>\n",
        "      <td>     1.000000</td>\n",
        "      <td>   57000.000000</td>\n",
        "      <td>     2.000000</td>\n",
        "    </tr>\n",
        "    <tr>\n",
        "      <th>75%</th>\n",
        "      <td> 2.010001e+12</td>\n",
        "      <td>   817.000000</td>\n",
        "      <td>  101000.000000</td>\n",
        "      <td>     2.000000</td>\n",
        "      <td>     2.000000</td>\n",
        "      <td>     1.000000</td>\n",
        "      <td>     1.000000</td>\n",
        "      <td>     3.000000</td>\n",
        "      <td>     4.000000</td>\n",
        "      <td>     1.000000</td>\n",
        "      <td>     3.000000</td>\n",
        "      <td>  101000.000000</td>\n",
        "      <td>     3.000000</td>\n",
        "    </tr>\n",
        "    <tr>\n",
        "      <th>max</th>\n",
        "      <td> 2.011002e+12</td>\n",
        "      <td>   822.000000</td>\n",
        "      <td> 1073000.000000</td>\n",
        "      <td>     3.000000</td>\n",
        "      <td>     6.000000</td>\n",
        "      <td>    11.000000</td>\n",
        "      <td>    11.000000</td>\n",
        "      <td>    15.000000</td>\n",
        "      <td>     7.000000</td>\n",
        "      <td>     3.000000</td>\n",
        "      <td>     4.000000</td>\n",
        "      <td> 1073000.000000</td>\n",
        "      <td>    15.000000</td>\n",
        "    </tr>\n",
        "  </tbody>\n",
        "</table>\n",
        "</div>"
       ],
       "metadata": {},
       "output_type": "pyout",
       "prompt_number": 12,
       "text": [
        "           serialno          puma           hincp           wif           veh  \\\n",
        "count  5.895900e+04  58959.000000    58959.000000  58959.000000  58959.000000   \n",
        "mean   2.009033e+12    811.643278    76633.084822    -40.075561     -6.106650   \n",
        "std    1.417193e+09      6.457510    81938.897526     49.559596     27.222004   \n",
        "min    2.007000e+12    801.000000   -16600.000000    -99.000000    -99.000000   \n",
        "25%    2.008000e+12    806.000000    25400.000000    -99.000000      1.000000   \n",
        "50%    2.009001e+12    812.000000    57000.000000      1.000000      2.000000   \n",
        "75%    2.010001e+12    817.000000   101000.000000      2.000000      2.000000   \n",
        "max    2.011002e+12    822.000000  1073000.000000      3.000000      6.000000   \n",
        "\n",
        "                noc           nrc            np           hht          type  \\\n",
        "count  58959.000000  58959.000000  58959.000000  58959.000000  58959.000000   \n",
        "mean      -7.340389     -7.303686      2.243067     -5.257467      1.058261   \n",
        "std       26.858425     26.870342      1.420374     27.525200      0.297919   \n",
        "min      -99.000000    -99.000000      0.000000    -99.000000      1.000000   \n",
        "25%        0.000000      0.000000      1.000000      1.000000      1.000000   \n",
        "50%        0.000000      0.000000      2.000000      1.000000      1.000000   \n",
        "75%        1.000000      1.000000      3.000000      4.000000      1.000000   \n",
        "max       11.000000     11.000000     15.000000      7.000000      3.000000   \n",
        "\n",
        "                ten            hinc       persons  \n",
        "count  58959.000000    58959.000000  58959.000000  \n",
        "mean      -6.209010    76633.084822      2.243067  \n",
        "std       27.187601    81938.897526      1.420374  \n",
        "min      -99.000000   -16600.000000      0.000000  \n",
        "25%        1.000000    25400.000000      1.000000  \n",
        "50%        1.000000    57000.000000      2.000000  \n",
        "75%        3.000000   101000.000000      3.000000  \n",
        "max        4.000000  1073000.000000     15.000000  "
       ]
      }
     ],
     "prompt_number": 12
    },
    {
     "cell_type": "code",
     "collapsed": false,
     "input": [
      "print pums_p.esr.describe()\n",
      "pums_p.columns"
     ],
     "language": "python",
     "metadata": {},
     "outputs": [
      {
       "output_type": "stream",
       "stream": "stdout",
       "text": [
        "count    132249.000000\n",
        "mean        -18.411754\n",
        "std          41.221715\n",
        "min         -99.000000\n",
        "25%           1.000000\n",
        "50%           1.000000\n",
        "75%           3.000000\n",
        "max           6.000000\n",
        "dtype: float64\n"
       ]
      },
      {
       "metadata": {},
       "output_type": "pyout",
       "prompt_number": 25,
       "text": [
        "Index([u'puma', u'agep', u'relp', u'esr', u'sch', u'schg', u'sporder', u'paug', u'ddp', u'sex', u'wkw', u'wkhp', u'rac1p', u'hisp', u'msp', u'povpip', u'pincp', u'naicsp07'], dtype=object)"
       ]
      }
     ],
     "prompt_number": 25
    },
    {
     "cell_type": "code",
     "collapsed": false,
     "input": [
      "joined.esr.describe()"
     ],
     "language": "python",
     "metadata": {},
     "outputs": [
      {
       "metadata": {},
       "output_type": "pyout",
       "prompt_number": 26,
       "text": [
        "count    129813.000000\n",
        "mean        -18.826966\n",
        "std          41.456634\n",
        "min         -99.000000\n",
        "25%           1.000000\n",
        "50%           1.000000\n",
        "75%           3.000000\n",
        "max           6.000000\n",
        "dtype: float64"
       ]
      }
     ],
     "prompt_number": 26
    },
    {
     "cell_type": "code",
     "collapsed": false,
     "input": [
      "pums_hh['puma5'] = pums_hh.puma  ##Needs to be updated by urbansim!!\n",
      "pums_hh['hinc'] = pums_hh.hincp ##Still need ADJINC  to adjust HINCP to constant dollars.  Also, consider putting in terms of 1999 dollars.\n",
      "pums_hh['persons'] = pums_hh.np\n",
      "pums_hh.hht[pums_hh.hht==-99] = 0\n",
      "pums_hh['unittype'] = pums_hh.type - 1\n",
      "pums_hh['hinccat1'] = 1*(pums_hh.hinc<20000) + 2*(pums_hh.hinc>=20000)*(pums_hh.hinc<50000) + 3*(pums_hh.hinc>=50000)*(pums_hh.hinc<100000) + 4*(pums_hh.hinc>=100000)\n",
      "pums_hh['hinccat2'] = 1*(pums_hh.hinc<10000) + 2*(pums_hh.hinc>=10000)*(pums_hh.hinc<20000) + 3*(pums_hh.hinc>=20000)*(pums_hh.hinc<30000) + \\\n",
      "                      4*(pums_hh.hinc>=30000)*(pums_hh.hinc<40000) + 5*(pums_hh.hinc>=40000)*(pums_hh.hinc<50000) + 6*(pums_hh.hinc>=50000)*(pums_hh.hinc<60000) + \\\n",
      "                      7*(pums_hh.hinc>=60000)*(pums_hh.hinc<75000) + 8*(pums_hh.hinc>=75000)*(pums_hh.hinc<100000) +  9*(pums_hh.hinc>=100000)\n",
      "pums_hh['hownrent'] = 1*(pums_hh.ten<3) + 2*(pums_hh.ten>2)\n",
      "pums_hh['bucketBin'] = 0\n",
      "pums_hh['originalpuma'] = pums_hh.puma"
     ],
     "language": "python",
     "metadata": {},
     "outputs": [],
     "prompt_number": 53
    },
    {
     "cell_type": "code",
     "collapsed": false,
     "input": [
      "pums_hh.hownrent.describe()"
     ],
     "language": "python",
     "metadata": {},
     "outputs": [
      {
       "metadata": {},
       "output_type": "pyout",
       "prompt_number": 54,
       "text": [
        "count    54302.000000\n",
        "mean         1.288866\n",
        "std          0.453240\n",
        "min          1.000000\n",
        "25%          1.000000\n",
        "50%          1.000000\n",
        "75%          2.000000\n",
        "max          2.000000\n",
        "dtype: float64"
       ]
      }
     ],
     "prompt_number": 54
    },
    {
     "cell_type": "code",
     "collapsed": false,
     "input": [
      "(pums_hh.type - 1).describe()"
     ],
     "language": "python",
     "metadata": {},
     "outputs": [
      {
       "metadata": {},
       "output_type": "pyout",
       "prompt_number": 15,
       "text": [
        "count    58959.000000\n",
        "mean         0.058261\n",
        "std          0.297919\n",
        "min          0.000000\n",
        "25%          0.000000\n",
        "50%          0.000000\n",
        "75%          0.000000\n",
        "max          2.000000\n",
        "dtype: float64"
       ]
      }
     ],
     "prompt_number": 15
    },
    {
     "cell_type": "code",
     "collapsed": false,
     "input": [
      "parcels[['parcel_sqft']].tail()"
     ],
     "language": "python",
     "metadata": {},
     "outputs": [
      {
       "html": [
        "<div style=\"max-height:1000px;max-width:1500px;overflow:auto;\">\n",
        "<table border=\"1\" class=\"dataframe\">\n",
        "  <thead>\n",
        "    <tr style=\"text-align: right;\">\n",
        "      <th></th>\n",
        "      <th>parcel_sqft</th>\n",
        "    </tr>\n",
        "    <tr>\n",
        "      <th>parcel_id</th>\n",
        "      <th></th>\n",
        "    </tr>\n",
        "  </thead>\n",
        "  <tbody>\n",
        "    <tr>\n",
        "      <th>1128930</th>\n",
        "      <td>       0</td>\n",
        "    </tr>\n",
        "    <tr>\n",
        "      <th>1128932</th>\n",
        "      <td> 1636528</td>\n",
        "    </tr>\n",
        "    <tr>\n",
        "      <th>1128933</th>\n",
        "      <td> 3187557</td>\n",
        "    </tr>\n",
        "    <tr>\n",
        "      <th>1128934</th>\n",
        "      <td>  113718</td>\n",
        "    </tr>\n",
        "    <tr>\n",
        "      <th>1128935</th>\n",
        "      <td> 1707626</td>\n",
        "    </tr>\n",
        "  </tbody>\n",
        "</table>\n",
        "</div>"
       ],
       "metadata": {},
       "output_type": "pyout",
       "prompt_number": 9,
       "text": [
        "           parcel_sqft\n",
        "parcel_id             \n",
        "1128930              0\n",
        "1128932        1636528\n",
        "1128933        3187557\n",
        "1128934         113718\n",
        "1128935        1707626"
       ]
      }
     ],
     "prompt_number": 9
    },
    {
     "cell_type": "code",
     "collapsed": false,
     "input": [
      "parcels['centroid_x'] = parcels_ref.centroid_x\n",
      "parcels['centroid_y'] = parcels_ref.centroid_y"
     ],
     "language": "python",
     "metadata": {},
     "outputs": [],
     "prompt_number": 10
    },
    {
     "cell_type": "code",
     "collapsed": false,
     "input": [
      "parcels[['parcel_sqft','centroid_x','centroid_y']].head()"
     ],
     "language": "python",
     "metadata": {},
     "outputs": [
      {
       "html": [
        "<div style=\"max-height:1000px;max-width:1500px;overflow:auto;\">\n",
        "<table border=\"1\" class=\"dataframe\">\n",
        "  <thead>\n",
        "    <tr style=\"text-align: right;\">\n",
        "      <th></th>\n",
        "      <th>parcel_sqft</th>\n",
        "      <th>centroid_x</th>\n",
        "      <th>centroid_y</th>\n",
        "    </tr>\n",
        "    <tr>\n",
        "      <th>parcel_id</th>\n",
        "      <th></th>\n",
        "      <th></th>\n",
        "      <th></th>\n",
        "    </tr>\n",
        "  </thead>\n",
        "  <tbody>\n",
        "    <tr>\n",
        "      <th>1</th>\n",
        "      <td>   20479</td>\n",
        "      <td> 3174135</td>\n",
        "      <td> 1695429</td>\n",
        "    </tr>\n",
        "    <tr>\n",
        "      <th>2</th>\n",
        "      <td>   17777</td>\n",
        "      <td> 3180889</td>\n",
        "      <td> 1695592</td>\n",
        "    </tr>\n",
        "    <tr>\n",
        "      <th>3</th>\n",
        "      <td>   59025</td>\n",
        "      <td> 3175519</td>\n",
        "      <td> 1699844</td>\n",
        "    </tr>\n",
        "    <tr>\n",
        "      <th>4</th>\n",
        "      <td> 1640178</td>\n",
        "      <td> 3192128</td>\n",
        "      <td> 1747750</td>\n",
        "    </tr>\n",
        "    <tr>\n",
        "      <th>5</th>\n",
        "      <td>       0</td>\n",
        "      <td> 3154372</td>\n",
        "      <td> 1747898</td>\n",
        "    </tr>\n",
        "  </tbody>\n",
        "</table>\n",
        "</div>"
       ],
       "metadata": {},
       "output_type": "pyout",
       "prompt_number": 11,
       "text": [
        "           parcel_sqft  centroid_x  centroid_y\n",
        "parcel_id                                     \n",
        "1                20479     3174135     1695429\n",
        "2                17777     3180889     1695592\n",
        "3                59025     3175519     1699844\n",
        "4              1640178     3192128     1747750\n",
        "5                    0     3154372     1747898"
       ]
      }
     ],
     "prompt_number": 11
    },
    {
     "cell_type": "code",
     "collapsed": false,
     "input": [
      "parcels_ref.head()"
     ],
     "language": "python",
     "metadata": {},
     "outputs": [
      {
       "html": [
        "<div style=\"max-height:1000px;max-width:1500px;overflow:auto;\">\n",
        "<table border=\"1\" class=\"dataframe\">\n",
        "  <thead>\n",
        "    <tr style=\"text-align: right;\">\n",
        "      <th></th>\n",
        "      <th>parcel_sqft</th>\n",
        "      <th>centroid_x</th>\n",
        "      <th>centroid_y</th>\n",
        "    </tr>\n",
        "    <tr>\n",
        "      <th>parcel_id</th>\n",
        "      <th></th>\n",
        "      <th></th>\n",
        "      <th></th>\n",
        "    </tr>\n",
        "  </thead>\n",
        "  <tbody>\n",
        "    <tr>\n",
        "      <th>1</th>\n",
        "      <td>  20479</td>\n",
        "      <td> 3174135</td>\n",
        "      <td> 1695429</td>\n",
        "    </tr>\n",
        "    <tr>\n",
        "      <th>2</th>\n",
        "      <td>  17777</td>\n",
        "      <td> 3180889</td>\n",
        "      <td> 1695592</td>\n",
        "    </tr>\n",
        "    <tr>\n",
        "      <th>3</th>\n",
        "      <td>  59025</td>\n",
        "      <td> 3175519</td>\n",
        "      <td> 1699844</td>\n",
        "    </tr>\n",
        "    <tr>\n",
        "      <th>4</th>\n",
        "      <td> 285497</td>\n",
        "      <td> 3192128</td>\n",
        "      <td> 1747750</td>\n",
        "    </tr>\n",
        "    <tr>\n",
        "      <th>5</th>\n",
        "      <td>  27156</td>\n",
        "      <td> 3154372</td>\n",
        "      <td> 1747898</td>\n",
        "    </tr>\n",
        "  </tbody>\n",
        "</table>\n",
        "</div>"
       ],
       "metadata": {},
       "output_type": "pyout",
       "prompt_number": 12,
       "text": [
        "           parcel_sqft  centroid_x  centroid_y\n",
        "parcel_id                                     \n",
        "1                20479     3174135     1695429\n",
        "2                17777     3180889     1695592\n",
        "3                59025     3175519     1699844\n",
        "4               285497     3192128     1747750\n",
        "5                27156     3154372     1747898"
       ]
      }
     ],
     "prompt_number": 12
    },
    {
     "cell_type": "code",
     "collapsed": false,
     "input": [
      "store = pd.HDFStore('c:\\\\urbansim\\\\data\\\\drcog.h5')"
     ],
     "language": "python",
     "metadata": {},
     "outputs": [],
     "prompt_number": 13
    },
    {
     "cell_type": "code",
     "collapsed": false,
     "input": [
      "store['parcels'] = parcels"
     ],
     "language": "python",
     "metadata": {},
     "outputs": [],
     "prompt_number": 14
    },
    {
     "cell_type": "code",
     "collapsed": false,
     "input": [
      "store.close()"
     ],
     "language": "python",
     "metadata": {},
     "outputs": [],
     "prompt_number": 15
    }
   ],
   "metadata": {}
  }
 ]
}