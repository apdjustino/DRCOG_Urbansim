{
 "metadata": {
  "name": ""
 },
 "nbformat": 3,
 "nbformat_minor": 0,
 "worksheets": [
  {
   "cells": [
    {
     "cell_type": "code",
     "collapsed": false,
     "input": [
      "import pandas as pd\n",
      "import numpy as np\n",
      "\n",
      "hh = pd.read_csv('C:\\\\urbansim\\\\data\\\\travel_model\\\\2015\\\\housing_units2015.csv')\n",
      "print (hh.x<1).sum()\n",
      "print (hh.y<1).sum()\n",
      "print (hh.taz05_id<0).sum()\n",
      "\n",
      "synth_hh = pd.read_csv('C:\\\\urbansim\\\\data\\\\travel_model\\\\2015\\\\SynHH2015.csv')\n",
      "synth_p = pd.read_csv('C:\\\\urbansim\\\\data\\\\travel_model\\\\2015\\\\SynPers2015.csv')\n",
      "print len(np.unique(synth_hh.hhid))\n",
      "print len(np.unique(synth_p.hhid))\n",
      "print (np.unique(synth_hh.hhid).values != np.unique(synth_p.hhid).values).sum()"
     ],
     "language": "python",
     "metadata": {},
     "outputs": [],
     "prompt_number": 1
    },
    {
     "cell_type": "code",
     "collapsed": false,
     "input": [
      "import numpy as np, pandas as pd, os\n",
      "from synthicity.utils import misc\n",
      "from drcog.models import regression_model_estimation, choice_model_estimation, dataset\n",
      "dset = dataset.DRCOGDataset(os.path.join(misc.data_dir(),'drcog.h5'))\n",
      "np.random.seed(1)\n",
      "\n",
      "##Variable Library\n",
      "from drcog.variables import variable_library\n",
      "variable_library.calculate_variables(dset)\n",
      "\n",
      "buildings = dset.fetch('buildings')[['building_type_id','improvement_value','land_area','non_residential_sqft','parcel_id','residential_units','sqft_per_unit','stories','tax_exempt','year_built','bldg_sq_ft','unit_price_non_residential','unit_price_residential','building_sqft_per_job','non_residential_units','base_year_jobs','all_units']]\n",
      "parcels = dset.fetch('parcels')\n",
      "parcels_urbancen = dset.store.parcels_urbancen.set_index('parcel_id')\n",
      "parcels['urbancenter_id'] = parcels_urbancen.urban_cen\n",
      "zones = dset.fetch('zones')\n",
      "pz = pd.merge(parcels.reset_index(),zones,left_on='zone_id',right_index=True,how='left')\n",
      "pz = pz.set_index('parcel_id')\n",
      "bpz = pd.merge(buildings,pz,left_on='parcel_id',right_index=True)\n",
      "print bpz[['x','y']].describe()\n",
      "\n",
      "establishments = dset.fetch('establishments')\n",
      "del establishments['zone_id']\n",
      "del establishments['county_id']        \n",
      "##Merge establishments with bulidings/parcels\n",
      "establishments = pd.merge(establishments,buildings,left_on='building_id',right_index=True)\n",
      "\n",
      "##Available parcel coordinates (includes random x,y for big parcels)\n",
      "parcel_coords = dset.parcel_coords\n",
      "parcel_coords.x = parcel_coords.x.astype('int64')\n",
      "parcel_coords.y = parcel_coords.y.astype('int64')\n",
      "big_parcels = parcels.index.values[parcels.parcel_sqft>= 435600]\n",
      "print parcel_coords[['x','y']].describe()\n",
      "\n",
      "e = establishments.reset_index()\n",
      "bids = []\n",
      "eids = []\n",
      "hbs = []\n",
      "sids = []\n",
      "for idx in e.index:\n",
      "    for job in range(e.employees[idx]):\n",
      "        bids.append(e.building_id[idx])\n",
      "        eids.append(e.index[idx])\n",
      "        hbs.append(e.home_based_status[idx])\n",
      "        sids.append(e.sector_id[idx])\n",
      "\n",
      "jobs = pd.DataFrame({'job_id':range(1,len(bids)+1),'building_id':bids,'establishment_id':eids,'home_based_status':hbs,'sector_id':sids})\n",
      "jobs['parcel_id'] = bpz.parcel_id[jobs.building_id].values\n",
      "jobs['urbancenter_id'] = bpz.urbancenter_id[jobs.building_id].values\n",
      "jobs['x'] = bpz.x[jobs.building_id].values.astype('int64')\n",
      "jobs['y'] = bpz.y[jobs.building_id].values.astype('int64')\n",
      "print jobs[['x','y']].describe()\n",
      "jobs['taz05_id'] = bpz.external_zone_id[jobs.building_id].values\n",
      "jobs['sector_id_six'] = 1*(jobs.sector_id==61) + 2*(jobs.sector_id==71) + 3*np.in1d(jobs.sector_id,[11,21,22,23,31,32,33,42,48,49]) + 4*np.in1d(jobs.sector_id,[7221,7222,7224]) + 5*np.in1d(jobs.sector_id,[44,45,7211,7212,7213,7223]) + 6*np.in1d(jobs.sector_id,[51,52,53,54,55,56,62,81,92])\n",
      "jobs['jobtypename'] = ''\n",
      "jobs.jobtypename[jobs.sector_id_six==1] = 'Education'\n",
      "jobs.jobtypename[jobs.sector_id_six==2] = 'Entertainment'\n",
      "jobs.jobtypename[jobs.sector_id_six==3] = 'Production'\n",
      "jobs.jobtypename[jobs.sector_id_six==4] = 'Restaurant'\n",
      "jobs.jobtypename[jobs.sector_id_six==5] = 'Retail'\n",
      "jobs.jobtypename[jobs.sector_id_six==6] = 'Service'\n",
      "big_parcel_ids_with_jobs = np.unique(jobs.parcel_id[np.in1d(jobs.parcel_id,big_parcels)].values)\n",
      "for parcel_id in big_parcel_ids_with_jobs:\n",
      "    idx_jobs_on_parcel = np.in1d(jobs.parcel_id,[parcel_id,])\n",
      "    coords = parcel_coords[parcel_coords.parcel_id==parcel_id]\n",
      "    idx_coord = np.random.choice(coords.index,size=idx_jobs_on_parcel.sum(),replace=True)\n",
      "    x = coords.x.loc[idx_coord].values\n",
      "    y = coords.y.loc[idx_coord].values\n",
      "    jobs.x[idx_jobs_on_parcel] = x\n",
      "    jobs.y[idx_jobs_on_parcel] = y\n",
      "del jobs['sector_id_six']\n",
      "del jobs['building_id']\n",
      "del jobs['establishment_id']\n",
      "del jobs['home_based_status']\n",
      "del jobs['sector_id']\n",
      "jobs.rename(columns={'job_id':'tempid'},inplace=True)"
     ],
     "language": "python",
     "metadata": {},
     "outputs": [
      {
       "output_type": "stream",
       "stream": "stdout",
       "text": [
        "Fetching parcels\n",
        "Fetching modify_table"
       ]
      },
      {
       "output_type": "stream",
       "stream": "stdout",
       "text": [
        "\n",
        "Fetching buildings"
       ]
      },
      {
       "output_type": "stream",
       "stream": "stdout",
       "text": [
        "\n",
        "Fetching establishments"
       ]
      },
      {
       "output_type": "stream",
       "stream": "stdout",
       "text": [
        "\n",
        "Fetching modify_table"
       ]
      },
      {
       "output_type": "stream",
       "stream": "stdout",
       "text": [
        "\n",
        "Fetching modify_table"
       ]
      },
      {
       "output_type": "stream",
       "stream": "stdout",
       "text": [
        "\n",
        "Fetching households_for_estimation"
       ]
      },
      {
       "output_type": "stream",
       "stream": "stdout",
       "text": [
        "\n",
        "Fetching modify_table\n",
        "Fetching households\n",
        "Fetching modify_table"
       ]
      },
      {
       "output_type": "stream",
       "stream": "stdout",
       "text": [
        "\n",
        "Fetching zones"
       ]
      },
      {
       "output_type": "stream",
       "stream": "stdout",
       "text": [
        "\n",
        "Fetching modify_table\n",
        "Fetching travel_data"
       ]
      },
      {
       "output_type": "stream",
       "stream": "stdout",
       "text": [
        "\n",
        "Fetching modify_table"
       ]
      },
      {
       "output_type": "stream",
       "stream": "stdout",
       "text": [
        "\n",
        "                    x               y\n",
        "count   881750.000000   881750.000000\n",
        "mean   3144436.201901  1701875.798045\n",
        "std      49418.503640    70245.735035\n",
        "min    2887889.000000  1472411.000000\n",
        "25%    3114606.000000  1654203.000000\n",
        "50%    3144059.500000  1692533.000000\n",
        "75%    3174067.750000  1748442.000000\n",
        "max    3503278.000000  1885392.000000"
       ]
      },
      {
       "output_type": "stream",
       "stream": "stdout",
       "text": [
        "\n",
        "Fetching parcel_coords"
       ]
      },
      {
       "output_type": "stream",
       "stream": "stdout",
       "text": [
        "\n",
        "Fetching modify_table"
       ]
      },
      {
       "output_type": "stream",
       "stream": "stdout",
       "text": [
        "\n",
        "                    x               y\n",
        "count  3162512.000000  3162512.000000\n",
        "mean   3182831.423264  1705442.081687\n",
        "std     107253.625533    98444.320674\n",
        "min    2881134.000000  1471931.000000\n",
        "25%    3110470.000000  1639741.000000\n",
        "50%    3170913.000000  1705134.000000\n",
        "75%    3250269.000000  1783339.000000\n",
        "max    3505283.000000  1891260.000000"
       ]
      },
      {
       "output_type": "stream",
       "stream": "stdout",
       "text": [
        "\n",
        "                    x               y\n",
        "count  1605001.000000  1605001.000000\n",
        "mean   3143024.325172  1698605.975305\n",
        "std      40269.686028    56584.968178\n",
        "min    2921499.000000  1473259.000000\n",
        "25%    3117541.000000  1662086.000000\n",
        "50%    3144090.000000  1694108.000000\n",
        "75%    3170342.000000  1721673.000000\n",
        "max    3501703.000000  1885037.000000"
       ]
      },
      {
       "output_type": "stream",
       "stream": "stdout",
       "text": [
        "\n"
       ]
      }
     ],
     "prompt_number": 1
    },
    {
     "cell_type": "code",
     "collapsed": false,
     "input": [
      "jobs[['x','y']].describe()"
     ],
     "language": "python",
     "metadata": {},
     "outputs": [
      {
       "html": [
        "<div style=\"max-height:1000px;max-width:1500px;overflow:auto;\">\n",
        "<table border=\"1\" class=\"dataframe\">\n",
        "  <thead>\n",
        "    <tr style=\"text-align: right;\">\n",
        "      <th></th>\n",
        "      <th>x</th>\n",
        "      <th>y</th>\n",
        "    </tr>\n",
        "  </thead>\n",
        "  <tbody>\n",
        "    <tr>\n",
        "      <th>count</th>\n",
        "      <td> 1605001.000000</td>\n",
        "      <td> 1605001.000000</td>\n",
        "    </tr>\n",
        "    <tr>\n",
        "      <th>mean</th>\n",
        "      <td> 3143025.737672</td>\n",
        "      <td> 1698607.378752</td>\n",
        "    </tr>\n",
        "    <tr>\n",
        "      <th>std</th>\n",
        "      <td>   40270.787520</td>\n",
        "      <td>   56588.927076</td>\n",
        "    </tr>\n",
        "    <tr>\n",
        "      <th>min</th>\n",
        "      <td> 2921499.000000</td>\n",
        "      <td> 1473259.000000</td>\n",
        "    </tr>\n",
        "    <tr>\n",
        "      <th>25%</th>\n",
        "      <td> 3117545.000000</td>\n",
        "      <td> 1662086.000000</td>\n",
        "    </tr>\n",
        "    <tr>\n",
        "      <th>50%</th>\n",
        "      <td> 3144086.000000</td>\n",
        "      <td> 1694122.000000</td>\n",
        "    </tr>\n",
        "    <tr>\n",
        "      <th>75%</th>\n",
        "      <td> 3170338.000000</td>\n",
        "      <td> 1721673.000000</td>\n",
        "    </tr>\n",
        "    <tr>\n",
        "      <th>max</th>\n",
        "      <td> 3503917.000000</td>\n",
        "      <td> 1885037.000000</td>\n",
        "    </tr>\n",
        "  </tbody>\n",
        "</table>\n",
        "</div>"
       ],
       "metadata": {},
       "output_type": "pyout",
       "prompt_number": 2,
       "text": [
        "                    x               y\n",
        "count  1605001.000000  1605001.000000\n",
        "mean   3143025.737672  1698607.378752\n",
        "std      40270.787520    56588.927076\n",
        "min    2921499.000000  1473259.000000\n",
        "25%    3117545.000000  1662086.000000\n",
        "50%    3144086.000000  1694122.000000\n",
        "75%    3170338.000000  1721673.000000\n",
        "max    3503917.000000  1885037.000000"
       ]
      }
     ],
     "prompt_number": 2
    },
    {
     "cell_type": "code",
     "collapsed": false,
     "input": [
      "import numpy as np, pandas as pd, os\n",
      "from synthicity.utils import misc\n",
      "from drcog.models import regression_model_estimation, choice_model_estimation, dataset, refiner\n",
      "dset = dataset.DRCOGDataset(os.path.join(misc.data_dir(),'drcog.h5'))\n",
      "from drcog.variables import variable_library\n",
      "variable_library.calculate_variables(dset)\n",
      "\n",
      "sim_year = 2013\n",
      "refiner.run(dset, sim_year)"
     ],
     "language": "python",
     "metadata": {},
     "outputs": [
      {
       "output_type": "stream",
       "stream": "stdout",
       "text": [
        "Fetching parcels\n",
        "Fetching modify_table"
       ]
      },
      {
       "output_type": "stream",
       "stream": "stdout",
       "text": [
        "\n",
        "Fetching buildings"
       ]
      },
      {
       "output_type": "stream",
       "stream": "stdout",
       "text": [
        "\n",
        "Fetching establishments"
       ]
      },
      {
       "output_type": "stream",
       "stream": "stdout",
       "text": [
        "\n",
        "Fetching modify_table"
       ]
      },
      {
       "output_type": "stream",
       "stream": "stdout",
       "text": [
        "\n",
        "Fetching modify_table"
       ]
      },
      {
       "output_type": "stream",
       "stream": "stdout",
       "text": [
        "\n",
        "Fetching households_for_estimation"
       ]
      },
      {
       "output_type": "stream",
       "stream": "stdout",
       "text": [
        "\n",
        "Fetching modify_table\n",
        "Fetching households\n",
        "Fetching modify_table"
       ]
      },
      {
       "output_type": "stream",
       "stream": "stdout",
       "text": [
        "\n",
        "Fetching zones"
       ]
      },
      {
       "output_type": "stream",
       "stream": "stdout",
       "text": [
        "\n",
        "Fetching modify_table\n",
        "Fetching travel_data"
       ]
      },
      {
       "output_type": "stream",
       "stream": "stdout",
       "text": [
        "\n",
        "Fetching modify_table"
       ]
      },
      {
       "output_type": "stream",
       "stream": "stdout",
       "text": [
        "\n",
        "No buildings in specified zone."
       ]
      },
      {
       "output_type": "stream",
       "stream": "stdout",
       "text": [
        "\n",
        "Constructing small structure to place agents\n",
        "No buildings in specified zone."
       ]
      },
      {
       "output_type": "stream",
       "stream": "stdout",
       "text": [
        "\n",
        "Constructing small structure to place agents\n",
        "No buildings in specified zone."
       ]
      },
      {
       "output_type": "stream",
       "stream": "stdout",
       "text": [
        "\n",
        "Constructing small structure to place agents"
       ]
      },
      {
       "output_type": "stream",
       "stream": "stdout",
       "text": [
        "\n",
        "No buildings in specified zone."
       ]
      },
      {
       "output_type": "stream",
       "stream": "stdout",
       "text": [
        "\n",
        "Constructing small structure to place agents"
       ]
      },
      {
       "output_type": "stream",
       "stream": "stdout",
       "text": [
        "\n",
        "No buildings in specified zone."
       ]
      },
      {
       "output_type": "stream",
       "stream": "stdout",
       "text": [
        "\n",
        "Constructing small structure to place agents\n",
        "No buildings in specified zone."
       ]
      },
      {
       "output_type": "stream",
       "stream": "stdout",
       "text": [
        "\n",
        "Constructing small structure to place agents\n",
        "No buildings in specified zone."
       ]
      },
      {
       "output_type": "stream",
       "stream": "stdout",
       "text": [
        "\n",
        "Constructing small structure to place agents\n",
        "No buildings in specified zone."
       ]
      },
      {
       "output_type": "stream",
       "stream": "stdout",
       "text": [
        "\n",
        "Constructing small structure to place agents\n",
        "No buildings in specified zone."
       ]
      },
      {
       "output_type": "stream",
       "stream": "stdout",
       "text": [
        "\n",
        "Constructing small structure to place agents\n",
        "No buildings in specified zone."
       ]
      },
      {
       "output_type": "stream",
       "stream": "stdout",
       "text": [
        "\n",
        "Constructing small structure to place agents\n",
        "No buildings in specified zone."
       ]
      },
      {
       "output_type": "stream",
       "stream": "stdout",
       "text": [
        "\n",
        "Constructing small structure to place agents\n",
        "No buildings in specified zone."
       ]
      },
      {
       "output_type": "stream",
       "stream": "stdout",
       "text": [
        "\n",
        "Constructing small structure to place agents\n",
        "No buildings in specified zone."
       ]
      },
      {
       "output_type": "stream",
       "stream": "stdout",
       "text": [
        "\n",
        "Constructing small structure to place agents\n",
        "No buildings in specified zone."
       ]
      },
      {
       "output_type": "stream",
       "stream": "stdout",
       "text": [
        "\n",
        "Constructing small structure to place agents\n",
        "No buildings in specified zone."
       ]
      },
      {
       "output_type": "stream",
       "stream": "stdout",
       "text": [
        "\n",
        "Constructing small structure to place agents\n",
        "No buildings in specified zone."
       ]
      },
      {
       "output_type": "stream",
       "stream": "stdout",
       "text": [
        "\n",
        "Constructing small structure to place agents\n",
        "No buildings in specified zone."
       ]
      },
      {
       "output_type": "stream",
       "stream": "stdout",
       "text": [
        "\n",
        "Constructing small structure to place agents\n",
        "No buildings in specified zone."
       ]
      },
      {
       "output_type": "stream",
       "stream": "stdout",
       "text": [
        "\n",
        "Constructing small structure to place agents\n",
        "No buildings in specified zone."
       ]
      },
      {
       "output_type": "stream",
       "stream": "stdout",
       "text": [
        "\n",
        "Constructing small structure to place agents\n",
        "No buildings in specified zone."
       ]
      },
      {
       "output_type": "stream",
       "stream": "stdout",
       "text": [
        "\n",
        "Constructing small structure to place agents\n",
        "No buildings in specified zone."
       ]
      },
      {
       "output_type": "stream",
       "stream": "stdout",
       "text": [
        "\n",
        "Constructing small structure to place agents\n",
        "No buildings in specified zone."
       ]
      },
      {
       "output_type": "stream",
       "stream": "stdout",
       "text": [
        "\n",
        "Constructing small structure to place agents\n",
        "No buildings in specified zone."
       ]
      },
      {
       "output_type": "stream",
       "stream": "stdout",
       "text": [
        "\n",
        "Constructing small structure to place agents\n",
        "No buildings in specified zone."
       ]
      },
      {
       "output_type": "stream",
       "stream": "stdout",
       "text": [
        "\n",
        "Constructing small structure to place agents\n",
        "No buildings in specified zone."
       ]
      },
      {
       "output_type": "stream",
       "stream": "stdout",
       "text": [
        "\n",
        "Constructing small structure to place agents\n",
        "No buildings in specified zone."
       ]
      },
      {
       "output_type": "stream",
       "stream": "stdout",
       "text": [
        "\n",
        "Constructing small structure to place agents\n",
        "No buildings in specified zone."
       ]
      },
      {
       "output_type": "stream",
       "stream": "stdout",
       "text": [
        "\n",
        "Constructing small structure to place agents\n",
        "No buildings in specified zone."
       ]
      },
      {
       "output_type": "stream",
       "stream": "stdout",
       "text": [
        "\n",
        "Constructing small structure to place agents\n",
        "No buildings in specified zone."
       ]
      },
      {
       "output_type": "stream",
       "stream": "stdout",
       "text": [
        "\n",
        "Constructing small structure to place agents\n"
       ]
      }
     ],
     "prompt_number": 1
    },
    {
     "cell_type": "code",
     "collapsed": false,
     "input": [
      "dset.parcels.x.isnull().sum()"
     ],
     "language": "python",
     "metadata": {},
     "outputs": [
      {
       "metadata": {},
       "output_type": "pyout",
       "prompt_number": 5,
       "text": [
        "2"
       ]
      }
     ],
     "prompt_number": 5
    },
    {
     "cell_type": "code",
     "collapsed": false,
     "input": [
      "dset.parcels[['x','y']].describe()"
     ],
     "language": "python",
     "metadata": {},
     "outputs": [
      {
       "html": [
        "<div style=\"max-height:1000px;max-width:1500px;overflow:auto;\">\n",
        "<table border=\"1\" class=\"dataframe\">\n",
        "  <thead>\n",
        "    <tr style=\"text-align: right;\">\n",
        "      <th></th>\n",
        "      <th>x</th>\n",
        "      <th>y</th>\n",
        "    </tr>\n",
        "  </thead>\n",
        "  <tbody>\n",
        "    <tr>\n",
        "      <th>count</th>\n",
        "      <td>  949484.000000</td>\n",
        "      <td>  949484.000000</td>\n",
        "    </tr>\n",
        "    <tr>\n",
        "      <th>mean</th>\n",
        "      <td> 3145177.076667</td>\n",
        "      <td> 1700240.999813</td>\n",
        "    </tr>\n",
        "    <tr>\n",
        "      <th>std</th>\n",
        "      <td>   55332.772747</td>\n",
        "      <td>   71084.681992</td>\n",
        "    </tr>\n",
        "    <tr>\n",
        "      <th>min</th>\n",
        "      <td> 2887889.000000</td>\n",
        "      <td> 1472248.000000</td>\n",
        "    </tr>\n",
        "    <tr>\n",
        "      <th>25%</th>\n",
        "      <td> 3114749.000000</td>\n",
        "      <td> 1652022.000000</td>\n",
        "    </tr>\n",
        "    <tr>\n",
        "      <th>50%</th>\n",
        "      <td> 3145977.000000</td>\n",
        "      <td> 1692499.000000</td>\n",
        "    </tr>\n",
        "    <tr>\n",
        "      <th>75%</th>\n",
        "      <td> 3179069.000000</td>\n",
        "      <td> 1748392.000000</td>\n",
        "    </tr>\n",
        "    <tr>\n",
        "      <th>max</th>\n",
        "      <td> 3503749.000000</td>\n",
        "      <td> 1886418.000000</td>\n",
        "    </tr>\n",
        "  </tbody>\n",
        "</table>\n",
        "</div>"
       ],
       "metadata": {},
       "output_type": "pyout",
       "prompt_number": 7,
       "text": [
        "                    x               y\n",
        "count   949484.000000   949484.000000\n",
        "mean   3145177.076667  1700240.999813\n",
        "std      55332.772747    71084.681992\n",
        "min    2887889.000000  1472248.000000\n",
        "25%    3114749.000000  1652022.000000\n",
        "50%    3145977.000000  1692499.000000\n",
        "75%    3179069.000000  1748392.000000\n",
        "max    3503749.000000  1886418.000000"
       ]
      }
     ],
     "prompt_number": 7
    },
    {
     "cell_type": "code",
     "collapsed": false,
     "input": [
      "z = dset.zones"
     ],
     "language": "python",
     "metadata": {},
     "outputs": [],
     "prompt_number": 8
    },
    {
     "cell_type": "code",
     "collapsed": false,
     "input": [
      "print z.zonecentroid_x.describe()\n",
      "print z.zonecentroid_y.describe()\n",
      "print z.zonecentroid_x.isnull().sum()\n",
      "print z.zonecentroid_y.isnull().sum()"
     ],
     "language": "python",
     "metadata": {},
     "outputs": [
      {
       "output_type": "stream",
       "stream": "stdout",
       "text": [
        "count       2804.000000\n",
        "mean     3146421.865906\n",
        "std        48216.242973\n",
        "min      2927350.000000\n",
        "25%      3115305.000000\n",
        "50%      3143710.000000\n",
        "75%      3177725.000000\n",
        "max      3414770.000000\n",
        "dtype: float64\n",
        "count       2804.000000\n",
        "mean     1706572.690442\n",
        "std        69223.715800\n",
        "min      1478860.000000\n",
        "25%      1664557.500000\n",
        "50%      1698365.000000\n",
        "75%      1756882.500000\n",
        "max      1881480.000000\n",
        "dtype: float64\n",
        "0\n",
        "0\n"
       ]
      }
     ],
     "prompt_number": 12
    },
    {
     "cell_type": "code",
     "collapsed": false,
     "input": [
      "import numpy as np, pandas as pd, os\n",
      "from synthicity.utils import misc\n",
      "from drcog.models import regression_model_estimation, choice_model_estimation, dataset, refiner\n",
      "dset = dataset.DRCOGDataset(os.path.join(misc.data_dir(),'drcog.h5'))\n",
      "from drcog.variables import variable_library\n",
      "variable_library.calculate_variables(dset)\n",
      "zone_refine = pd.read_csv(os.path.join(misc.data_dir(),'zone_demand_refine.csv'))"
     ],
     "language": "python",
     "metadata": {},
     "outputs": [
      {
       "output_type": "stream",
       "stream": "stdout",
       "text": [
        "Fetching parcels\n",
        "Fetching modify_table"
       ]
      },
      {
       "output_type": "stream",
       "stream": "stdout",
       "text": [
        "\n",
        "Fetching buildings"
       ]
      },
      {
       "output_type": "stream",
       "stream": "stdout",
       "text": [
        "\n",
        "Fetching establishments"
       ]
      },
      {
       "output_type": "stream",
       "stream": "stdout",
       "text": [
        "\n",
        "Fetching modify_table"
       ]
      },
      {
       "output_type": "stream",
       "stream": "stdout",
       "text": [
        "\n",
        "Fetching modify_table"
       ]
      },
      {
       "output_type": "stream",
       "stream": "stdout",
       "text": [
        "\n",
        "Fetching households_for_estimation"
       ]
      },
      {
       "output_type": "stream",
       "stream": "stdout",
       "text": [
        "\n",
        "Fetching modify_table\n",
        "Fetching households\n",
        "Fetching modify_table"
       ]
      },
      {
       "output_type": "stream",
       "stream": "stdout",
       "text": [
        "\n",
        "Fetching zones"
       ]
      },
      {
       "output_type": "stream",
       "stream": "stdout",
       "text": [
        "\n",
        "Fetching modify_table\n",
        "Fetching travel_data"
       ]
      },
      {
       "output_type": "stream",
       "stream": "stdout",
       "text": [
        "\n",
        "Fetching modify_table"
       ]
      },
      {
       "output_type": "stream",
       "stream": "stdout",
       "text": [
        "\n"
       ]
      }
     ],
     "prompt_number": 1
    },
    {
     "cell_type": "code",
     "collapsed": false,
     "input": [
      "z = dset.zones\n",
      "for zone in zone_refine.zone_id.values:\n",
      "    idx_zone = (zone_refine.zone_id==zone)\n",
      "    hh_shift = zone_refine.annual_hh_shift[idx_zone].values[0]\n",
      "    emp_shift = zone_refine.annual_emp_shift[idx_zone].values[0]\n",
      "    zone_id = zone\n",
      "    if emp_shift > 0:\n",
      "        if zone_id not in dset.parcels.zone_id.values:\n",
      "            print 'yoyo'\n",
      "            county = z.county.values[z.index.values==zone_id][0]\n",
      "            x = z.zonecentroid_x.values[z.index.values==zone_id][0]\n",
      "            y = z.zonecentroid_y.values[z.index.values==zone_id][0]\n",
      "            print x\n",
      "            print y\n",
      "            print type(x)\n",
      "            print type(y)\n",
      "            \n",
      "            if county == 'Denver':\n",
      "                county_id = 8031\n",
      "            elif county == 'Adams':\n",
      "                county_id = 8001\n",
      "            elif county == 'Arapahoe':\n",
      "                county_id = 8005\n",
      "            elif county == 'Boulder':\n",
      "                county_id = 8013\n",
      "            elif county == 'Broomfield':\n",
      "                county_id = 8014\n",
      "            elif county == 'Clear Creek':\n",
      "                county_id = 8019\n",
      "            elif county == 'Douglas':\n",
      "                county_id = 8035\n",
      "            elif county == 'Elbert':\n",
      "                county_id = 8039\n",
      "            elif county == 'Gilpin':\n",
      "                county_id = 8047\n",
      "            elif county == 'Jefferson':\n",
      "                county_id = 8059\n",
      "            elif county == 'Weld':\n",
      "                county_id = 8123\n",
      "            pid = dset.parcels.index.values.max()+1\n",
      "            newparcel = pd.DataFrame({'county_id':[county_id],'parcel_sqft':[43560],'land_value':[0],'zone_id':[zone_id],\n",
      "                                         'centroid_x':[x],'centroid_y':[y],'dist_bus':[6000],'dist_rail':[6000],'in_ugb':[1],'in_uga':[0],\n",
      "                                         'prop_constrained':[0.0],'acres':[1.0] })\n",
      "            newparcel.index = np.array([pid])\n",
      "            print newparcel"
     ],
     "language": "python",
     "metadata": {},
     "outputs": [
      {
       "output_type": "stream",
       "stream": "stdout",
       "text": [
        "yoyo\n",
        "3.14108e+06\n",
        "1.69671e+06\n",
        "<type 'numpy.float32'>\n",
        "<type 'numpy.float32'>\n",
        "         acres  centroid_x  centroid_y  county_id  dist_bus  dist_rail  \\\n",
        "1128936      1     3141080     1696710       8031      6000       6000   \n",
        "\n",
        "         in_uga  in_ugb  land_value  parcel_sqft  prop_constrained  zone_id  \n",
        "1128936       0       1           0        43560                 0     1822  \n",
        "yoyo\n",
        "3.1416e+06\n",
        "1.69822e+06\n",
        "<type 'numpy.float32'>\n",
        "<type 'numpy.float32'>\n",
        "         acres  centroid_x  centroid_y  county_id  dist_bus  dist_rail  \\\n",
        "1128936      1     3141600     1698220       8031      6000       6000   \n",
        "\n",
        "         in_uga  in_ugb  land_value  parcel_sqft  prop_constrained  zone_id  \n",
        "1128936       0       1           0        43560                 0     1845  \n"
       ]
      }
     ],
     "prompt_number": 5
    },
    {
     "cell_type": "code",
     "collapsed": false,
     "input": [
      "dset.parcels"
     ],
     "language": "python",
     "metadata": {},
     "outputs": [
      {
       "html": [
        "<pre>\n",
        "&lt;class 'pandas.core.frame.DataFrame'&gt;\n",
        "Int64Index: 949484 entries, 434515 to 996465\n",
        "Data columns (total 34 columns):\n",
        "county_id                       949484  non-null values\n",
        "parcel_sqft                     949484  non-null values\n",
        "land_value                      949484  non-null values\n",
        "zone_id                         949484  non-null values\n",
        "lu_type_id                      949484  non-null values\n",
        "centroid_x                      949484  non-null values\n",
        "centroid_y                      949484  non-null values\n",
        "tax_exempt_flag                 949484  non-null values\n",
        "school_district                 949484  non-null values\n",
        "zoning_id                       949484  non-null values\n",
        "x                               949484  non-null values\n",
        "y                               949484  non-null values\n",
        "dist_bus                        949484  non-null values\n",
        "dist_rail                       949484  non-null values\n",
        "in_ugb                          949484  non-null values\n",
        "in_uga                          949484  non-null values\n",
        "env_constr_park                 949484  non-null values\n",
        "env_constr_lake                 949484  non-null values\n",
        "env_constr_floodplain           949484  non-null values\n",
        "env_constr_river                949484  non-null values\n",
        "env_constr_landslide            949484  non-null values\n",
        "far_id                          949376  non-null values\n",
        "prop_constrained                949484  non-null values\n",
        "in_denver                       949484  non-null values\n",
        "ln_dist_rail                    949484  non-null values\n",
        "ln_dist_bus                     949484  non-null values\n",
        "ln_land_value                   949484  non-null values\n",
        "land_value_per_sqft             949484  non-null values\n",
        "rail_within_mile                949484  non-null values\n",
        "cherry_creek_school_district    949484  non-null values\n",
        "acres                           949484  non-null values\n",
        "ln_acres                        949484  non-null values\n",
        "nonres_far                      798789  non-null values\n",
        "ln_units_per_acre               798789  non-null values\n",
        "dtypes: float64(17), int32(3), int64(14)\n",
        "</pre>"
       ],
       "metadata": {},
       "output_type": "pyout",
       "prompt_number": 6,
       "text": [
        "<class 'pandas.core.frame.DataFrame'>\n",
        "Int64Index: 949484 entries, 434515 to 996465\n",
        "Data columns (total 34 columns):\n",
        "county_id                       949484  non-null values\n",
        "parcel_sqft                     949484  non-null values\n",
        "land_value                      949484  non-null values\n",
        "zone_id                         949484  non-null values\n",
        "lu_type_id                      949484  non-null values\n",
        "centroid_x                      949484  non-null values\n",
        "centroid_y                      949484  non-null values\n",
        "tax_exempt_flag                 949484  non-null values\n",
        "school_district                 949484  non-null values\n",
        "zoning_id                       949484  non-null values\n",
        "x                               949484  non-null values\n",
        "y                               949484  non-null values\n",
        "dist_bus                        949484  non-null values\n",
        "dist_rail                       949484  non-null values\n",
        "in_ugb                          949484  non-null values\n",
        "in_uga                          949484  non-null values\n",
        "env_constr_park                 949484  non-null values\n",
        "env_constr_lake                 949484  non-null values\n",
        "env_constr_floodplain           949484  non-null values\n",
        "env_constr_river                949484  non-null values\n",
        "env_constr_landslide            949484  non-null values\n",
        "far_id                          949376  non-null values\n",
        "prop_constrained                949484  non-null values\n",
        "in_denver                       949484  non-null values\n",
        "ln_dist_rail                    949484  non-null values\n",
        "ln_dist_bus                     949484  non-null values\n",
        "ln_land_value                   949484  non-null values\n",
        "land_value_per_sqft             949484  non-null values\n",
        "rail_within_mile                949484  non-null values\n",
        "cherry_creek_school_district    949484  non-null values\n",
        "acres                           949484  non-null values\n",
        "ln_acres                        949484  non-null values\n",
        "nonres_far                      798789  non-null values\n",
        "ln_units_per_acre               798789  non-null values\n",
        "dtypes: float64(17), int32(3), int64(14)"
       ]
      }
     ],
     "prompt_number": 6
    },
    {
     "cell_type": "code",
     "collapsed": false,
     "input": [
      "dset.store.parcels[['centroid_x','x','centroid_y','y']].head()"
     ],
     "language": "python",
     "metadata": {},
     "outputs": [
      {
       "html": [
        "<div style=\"max-height:1000px;max-width:1500px;overflow:auto;\">\n",
        "<table border=\"1\" class=\"dataframe\">\n",
        "  <thead>\n",
        "    <tr style=\"text-align: right;\">\n",
        "      <th></th>\n",
        "      <th>centroid_x</th>\n",
        "      <th>x</th>\n",
        "      <th>centroid_y</th>\n",
        "      <th>y</th>\n",
        "    </tr>\n",
        "  </thead>\n",
        "  <tbody>\n",
        "    <tr>\n",
        "      <th>0</th>\n",
        "      <td> 3078318</td>\n",
        "      <td> 3078324</td>\n",
        "      <td> 1219160</td>\n",
        "      <td> 1765449</td>\n",
        "    </tr>\n",
        "    <tr>\n",
        "      <th>1</th>\n",
        "      <td> 3086266</td>\n",
        "      <td> 3086267</td>\n",
        "      <td> 1694794</td>\n",
        "      <td> 1694795</td>\n",
        "    </tr>\n",
        "    <tr>\n",
        "      <th>2</th>\n",
        "      <td> 3117033</td>\n",
        "      <td> 3117034</td>\n",
        "      <td> 1676494</td>\n",
        "      <td> 1676495</td>\n",
        "    </tr>\n",
        "    <tr>\n",
        "      <th>3</th>\n",
        "      <td> 3206387</td>\n",
        "      <td> 3206387</td>\n",
        "      <td> 1696114</td>\n",
        "      <td> 1696115</td>\n",
        "    </tr>\n",
        "    <tr>\n",
        "      <th>4</th>\n",
        "      <td> 3137129</td>\n",
        "      <td> 3137129</td>\n",
        "      <td> 1745327</td>\n",
        "      <td> 1745328</td>\n",
        "    </tr>\n",
        "  </tbody>\n",
        "</table>\n",
        "</div>"
       ],
       "metadata": {},
       "output_type": "pyout",
       "prompt_number": 8,
       "text": [
        "   centroid_x        x  centroid_y        y\n",
        "0     3078318  3078324     1219160  1765449\n",
        "1     3086266  3086267     1694794  1694795\n",
        "2     3117033  3117034     1676494  1676495\n",
        "3     3206387  3206387     1696114  1696115\n",
        "4     3137129  3137129     1745327  1745328"
       ]
      }
     ],
     "prompt_number": 8
    }
   ],
   "metadata": {}
  }
 ]
}