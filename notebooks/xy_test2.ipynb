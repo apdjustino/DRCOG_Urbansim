{
 "metadata": {
  "name": ""
 },
 "nbformat": 3,
 "nbformat_minor": 0,
 "worksheets": [
  {
   "cells": [
    {
     "cell_type": "code",
     "collapsed": false,
     "input": [
      "import numpy as np, pandas as pd, os\n",
      "from synthicity.utils import misc\n",
      "from drcog.models import regression_model_estimation, choice_model_estimation, dataset\n",
      "dset = dataset.DRCOGDataset(os.path.join(misc.data_dir(),'drcog.h5'))\n",
      "np.random.seed(1)\n",
      "\n",
      "##Variable Library\n",
      "from drcog.variables import variable_library\n",
      "variable_library.calculate_variables(dset)\n",
      "\n",
      "buildings = dset.fetch('buildings')[['building_type_id','improvement_value','land_area','non_residential_sqft','parcel_id','residential_units','sqft_per_unit','stories','tax_exempt','year_built','bldg_sq_ft','unit_price_non_residential','unit_price_residential','building_sqft_per_job','non_residential_units','base_year_jobs','all_units']]\n",
      "parcels = dset.fetch('parcels')\n",
      "parcels_urbancen = dset.store.parcels_urbancen.set_index('parcel_id')\n",
      "parcels['urbancenter_id'] = parcels_urbancen.urban_cen\n",
      "zones = dset.fetch('zones')\n",
      "pz = pd.merge(parcels.reset_index(),zones,left_on='zone_id',right_index=True,how='left')\n",
      "pz = pz.set_index('parcel_id')\n",
      "bpz = pd.merge(buildings,pz,left_on='parcel_id',right_index=True)\n",
      "print bpz[['x','y']].describe()\n",
      "\n",
      "establishments = dset.fetch('establishments')\n",
      "del establishments['zone_id']\n",
      "del establishments['county_id']        \n",
      "##Merge establishments with bulidings/parcels\n",
      "establishments = pd.merge(establishments,buildings,left_on='building_id',right_index=True)\n",
      "\n",
      "##Available parcel coordinates (includes random x,y for big parcels)\n",
      "parcel_coords = dset.parcel_coords\n",
      "parcel_coords.x = parcel_coords.x.astype('int64')\n",
      "parcel_coords.y = parcel_coords.y.astype('int64')\n",
      "big_parcels = parcels.index.values[parcels.parcel_sqft>= 435600]\n",
      "print parcel_coords[['x','y']].describe()\n",
      "\n",
      "e = establishments.reset_index()\n",
      "bids = []\n",
      "eids = []\n",
      "hbs = []\n",
      "sids = []\n",
      "for idx in e.index:\n",
      "    for job in range(e.employees[idx]):\n",
      "        bids.append(e.building_id[idx])\n",
      "        eids.append(e.index[idx])\n",
      "        hbs.append(e.home_based_status[idx])\n",
      "        sids.append(e.sector_id[idx])\n",
      "\n",
      "jobs = pd.DataFrame({'job_id':range(1,len(bids)+1),'building_id':bids,'establishment_id':eids,'home_based_status':hbs,'sector_id':sids})\n",
      "jobs['parcel_id'] = bpz.parcel_id[jobs.building_id].values\n",
      "jobs['urbancenter_id'] = bpz.urbancenter_id[jobs.building_id].values\n",
      "jobs['x'] = bpz.x[jobs.building_id].values.astype('int64')\n",
      "jobs['y'] = bpz.y[jobs.building_id].values.astype('int64')\n",
      "print jobs[['x','y']].describe()\n",
      "jobs['taz05_id'] = bpz.external_zone_id[jobs.building_id].values\n",
      "jobs['sector_id_six'] = 1*(jobs.sector_id==61) + 2*(jobs.sector_id==71) + 3*np.in1d(jobs.sector_id,[11,21,22,23,31,32,33,42,48,49]) + 4*np.in1d(jobs.sector_id,[7221,7222,7224]) + 5*np.in1d(jobs.sector_id,[44,45,7211,7212,7213,7223]) + 6*np.in1d(jobs.sector_id,[51,52,53,54,55,56,62,81,92])\n",
      "jobs['jobtypename'] = ''\n",
      "jobs.jobtypename[jobs.sector_id_six==1] = 'Education'\n",
      "jobs.jobtypename[jobs.sector_id_six==2] = 'Entertainment'\n",
      "jobs.jobtypename[jobs.sector_id_six==3] = 'Production'\n",
      "jobs.jobtypename[jobs.sector_id_six==4] = 'Restaurant'\n",
      "jobs.jobtypename[jobs.sector_id_six==5] = 'Retail'\n",
      "jobs.jobtypename[jobs.sector_id_six==6] = 'Service'\n",
      "big_parcel_ids_with_jobs = np.unique(jobs.parcel_id[np.in1d(jobs.parcel_id,big_parcels)].values)\n",
      "for parcel_id in big_parcel_ids_with_jobs:\n",
      "    idx_jobs_on_parcel = np.in1d(jobs.parcel_id,[parcel_id,])\n",
      "    coords = parcel_coords[parcel_coords.parcel_id==parcel_id]\n",
      "    idx_coord = np.random.choice(coords.index,size=idx_jobs_on_parcel.sum(),replace=True)\n",
      "    x = coords.x.loc[idx_coord].values\n",
      "    y = coords.y.loc[idx_coord].values\n",
      "    jobs.x[idx_jobs_on_parcel] = x\n",
      "    jobs.y[idx_jobs_on_parcel] = y\n",
      "del jobs['sector_id_six']\n",
      "del jobs['building_id']\n",
      "del jobs['establishment_id']\n",
      "del jobs['home_based_status']\n",
      "del jobs['sector_id']\n",
      "jobs.rename(columns={'job_id':'tempid'},inplace=True)"
     ],
     "language": "python",
     "metadata": {},
     "outputs": [
      {
       "output_type": "stream",
       "stream": "stdout",
       "text": [
        "Fetching parcels\n",
        "Fetching modify_table"
       ]
      },
      {
       "output_type": "stream",
       "stream": "stdout",
       "text": [
        "\n",
        "Fetching buildings"
       ]
      },
      {
       "output_type": "stream",
       "stream": "stdout",
       "text": [
        "\n",
        "Fetching establishments"
       ]
      },
      {
       "output_type": "stream",
       "stream": "stdout",
       "text": [
        "\n",
        "Fetching modify_table"
       ]
      },
      {
       "output_type": "stream",
       "stream": "stdout",
       "text": [
        "\n",
        "Fetching modify_table"
       ]
      },
      {
       "output_type": "stream",
       "stream": "stdout",
       "text": [
        "\n",
        "Fetching households_for_estimation"
       ]
      },
      {
       "output_type": "stream",
       "stream": "stdout",
       "text": [
        "\n",
        "Fetching modify_table\n",
        "Fetching households\n",
        "Fetching modify_table"
       ]
      },
      {
       "output_type": "stream",
       "stream": "stdout",
       "text": [
        "\n",
        "Fetching zones"
       ]
      },
      {
       "output_type": "stream",
       "stream": "stdout",
       "text": [
        "\n",
        "Fetching modify_table\n",
        "Fetching travel_data"
       ]
      },
      {
       "output_type": "stream",
       "stream": "stdout",
       "text": [
        "\n",
        "Fetching modify_table"
       ]
      },
      {
       "output_type": "stream",
       "stream": "stdout",
       "text": [
        "\n",
        "                    x               y\n",
        "count   881750.000000   881750.000000\n",
        "mean   3144436.201901  1701875.798045\n",
        "std      49418.503640    70245.735035\n",
        "min    2887889.000000  1472411.000000\n",
        "25%    3114606.000000  1654203.000000\n",
        "50%    3144059.500000  1692533.000000\n",
        "75%    3174067.750000  1748442.000000\n",
        "max    3503278.000000  1885392.000000"
       ]
      },
      {
       "output_type": "stream",
       "stream": "stdout",
       "text": [
        "\n",
        "Fetching parcel_coords"
       ]
      },
      {
       "output_type": "stream",
       "stream": "stdout",
       "text": [
        "\n",
        "Fetching modify_table"
       ]
      },
      {
       "output_type": "stream",
       "stream": "stdout",
       "text": [
        "\n",
        "                    x               y\n",
        "count  3162512.000000  3162512.000000\n",
        "mean   3182831.423264  1705442.081687\n",
        "std     107253.625533    98444.320674\n",
        "min    2881134.000000  1471931.000000\n",
        "25%    3110470.000000  1639741.000000\n",
        "50%    3170913.000000  1705134.000000\n",
        "75%    3250269.000000  1783339.000000\n",
        "max    3505283.000000  1891260.000000"
       ]
      },
      {
       "output_type": "stream",
       "stream": "stdout",
       "text": [
        "\n",
        "                    x               y\n",
        "count  1605001.000000  1605001.000000\n",
        "mean   3143024.325172  1698605.975305\n",
        "std      40269.686028    56584.968178\n",
        "min    2921499.000000  1473259.000000\n",
        "25%    3117541.000000  1662086.000000\n",
        "50%    3144090.000000  1694108.000000\n",
        "75%    3170342.000000  1721673.000000\n",
        "max    3501703.000000  1885037.000000"
       ]
      },
      {
       "output_type": "stream",
       "stream": "stdout",
       "text": [
        "\n"
       ]
      }
     ],
     "prompt_number": 1
    },
    {
     "cell_type": "code",
     "collapsed": false,
     "input": [
      "jobs[['x','y']].describe()"
     ],
     "language": "python",
     "metadata": {},
     "outputs": [
      {
       "html": [
        "<div style=\"max-height:1000px;max-width:1500px;overflow:auto;\">\n",
        "<table border=\"1\" class=\"dataframe\">\n",
        "  <thead>\n",
        "    <tr style=\"text-align: right;\">\n",
        "      <th></th>\n",
        "      <th>x</th>\n",
        "      <th>y</th>\n",
        "    </tr>\n",
        "  </thead>\n",
        "  <tbody>\n",
        "    <tr>\n",
        "      <th>count</th>\n",
        "      <td> 1605001.000000</td>\n",
        "      <td> 1605001.000000</td>\n",
        "    </tr>\n",
        "    <tr>\n",
        "      <th>mean</th>\n",
        "      <td> 3143025.737672</td>\n",
        "      <td> 1698607.378752</td>\n",
        "    </tr>\n",
        "    <tr>\n",
        "      <th>std</th>\n",
        "      <td>   40270.787520</td>\n",
        "      <td>   56588.927076</td>\n",
        "    </tr>\n",
        "    <tr>\n",
        "      <th>min</th>\n",
        "      <td> 2921499.000000</td>\n",
        "      <td> 1473259.000000</td>\n",
        "    </tr>\n",
        "    <tr>\n",
        "      <th>25%</th>\n",
        "      <td> 3117545.000000</td>\n",
        "      <td> 1662086.000000</td>\n",
        "    </tr>\n",
        "    <tr>\n",
        "      <th>50%</th>\n",
        "      <td> 3144086.000000</td>\n",
        "      <td> 1694122.000000</td>\n",
        "    </tr>\n",
        "    <tr>\n",
        "      <th>75%</th>\n",
        "      <td> 3170338.000000</td>\n",
        "      <td> 1721673.000000</td>\n",
        "    </tr>\n",
        "    <tr>\n",
        "      <th>max</th>\n",
        "      <td> 3503917.000000</td>\n",
        "      <td> 1885037.000000</td>\n",
        "    </tr>\n",
        "  </tbody>\n",
        "</table>\n",
        "</div>"
       ],
       "metadata": {},
       "output_type": "pyout",
       "prompt_number": 2,
       "text": [
        "                    x               y\n",
        "count  1605001.000000  1605001.000000\n",
        "mean   3143025.737672  1698607.378752\n",
        "std      40270.787520    56588.927076\n",
        "min    2921499.000000  1473259.000000\n",
        "25%    3117545.000000  1662086.000000\n",
        "50%    3144086.000000  1694122.000000\n",
        "75%    3170338.000000  1721673.000000\n",
        "max    3503917.000000  1885037.000000"
       ]
      }
     ],
     "prompt_number": 2
    }
   ],
   "metadata": {}
  }
 ]
}