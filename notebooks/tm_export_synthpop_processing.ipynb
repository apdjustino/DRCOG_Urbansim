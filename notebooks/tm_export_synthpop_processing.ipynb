{
 "metadata": {
  "name": ""
 },
 "nbformat": 3,
 "nbformat_minor": 0,
 "worksheets": [
  {
   "cells": [
    {
     "cell_type": "code",
     "collapsed": false,
     "input": [
      "import pandas as pd, numpy as np\n",
      "import psycopg2\n",
      "import pandas.io.sql as sql\n",
      "conn_string = \"host='paris.urbansim.org' dbname='denver' user='drcog' password='M0untains#' port=5433\"\n",
      "conn = psycopg2.connect(conn_string)\n",
      "cur = conn.cursor()\n",
      "pums_hh = sql.read_frame('select * from pums_hh',conn)\n",
      "pums_p = sql.read_frame('select * from pums_person',conn)\n",
      "pums_hh = pums_hh.set_index('serialno')\n",
      "pums_p = pums_p.set_index('serialno')\n",
      "pums_hh = pums_hh[(pums_hh.type==1)*(pums_hh.np>0)]\n",
      "pums_p['age'] = pums_p.agep\n",
      "pums_p['relate'] = pums_p.relp\n",
      "pums_p['esr_recode'] = 0*(pums_p.esr.isin([-99,6])) + 1*(pums_p.esr.isin([1,4])) + 2*(pums_p.esr.isin([2,5])) + 3*(pums_p.esr==3)\n",
      "pums_p['grade'] = pums_p.schg*(pums_p.schg>0) + 0*(pums_p.schg==-99)\n",
      "pums_p['pnum'] = pums_p.sporder\n",
      "pums_p['paug'] = 0\n",
      "pums_p['ddp'] = 0\n",
      "pums_p['sex'] = pums_p.sex\n",
      "pums_p['weeks'] = 0*(pums_p.wkw==-99) + 7*(pums_p.wkw==6) + 20*(pums_p.wkw==5) + 33*(pums_p.wkw==4) + 44*(pums_p.wkw==3) + 49*(pums_p.wkw==2) + 52*(pums_p.wkw==1)\n",
      "pums_p['hours'] = pums_p.wkhp*(pums_p.wkhp>0) + 0*(pums_p.wkhp==-99)\n",
      "pums_p['race1'] = pums_p.rac1p\n",
      "pums_p['hispan'] = pums_p.hisp\n",
      "pums_p['msp'] = pums_p.msp ##Get rid of -99's in the whole dataframe at end\n",
      "pums_p['poverty'] = pums_p.povpip\n",
      "pums_hh.adjinc = pums_hh.adjinc*.000001\n",
      "pums_p['inc_adjustment'] = pums_hh.adjinc[pums_p.index.values].values\n",
      "pums_p['earns'] = pums_p.pernp*pums_p.inc_adjustment*.74 ##Adjustment from 2011 dollars to 1999 dollars\n",
      "\n",
      "pums_p['indnaics'] = pums_p.indp07\n",
      "pums_p['pemploy'] = 1*(pums_p.wkhp>=25) + 2*(pums_p.wkhp<25)*(pums_p.wkhp>0) + 3*(pums_p.wkhp<1)\n",
      "pums_p['pstudent'] = 1*(pums_p.schg<=5)*(pums_p.schg>0) + 2*(pums_p.schg>5) + 3*(pums_p.schg==-99)\n",
      "pums_p['padkid'] = 1*(pums_p.agep>=18)*(pums_p.agep<=24)*(pums_p.relp.isin([1,2,4,5]))\n",
      "pums_p.padkid[pums_p.padkid==0] = 2\n",
      "pums_p['pagecat'] = 0*(pums_p.agep<=5) + 1*(pums_p.agep>=6)*(pums_p.agep<=11) + 2*(pums_p.agep>=12)*(pums_p.agep<=15) + 3*(pums_p.agep>=16)*(pums_p.agep<=17) \\\n",
      "                    + 4*(pums_p.agep>=18)*(pums_p.agep<=24) + 5*(pums_p.agep>=25)*(pums_p.agep<=34) + 6*(pums_p.agep>=35)*(pums_p.agep<=49) \\\n",
      "                    + 7*(pums_p.agep>=50)*(pums_p.agep<=64) + 8*(pums_p.agep>=65)*(pums_p.agep<=79) + 9*(pums_p.agep>=80)\n",
      "pums_p['ptype'] = 1*(pums_p.agep>=16)*(pums_p.wkhp>=25)*(pums_p.schg==-99) + 2*(pums_p.agep>=16)*(pums_p.wkhp>0)*(pums_p.wkhp<25)*(pums_p.schg==-99) + 3*(pums_p.schg>5) \\\n",
      "                  + 4*(pums_p.schg==-99)*(pums_p.wkhp==-99)*(pums_p.agep>=16)*(pums_p.agep<=64) + 5*(pums_p.schg==-99)*(pums_p.wkhp==-99)*(pums_p.agep>=65) \\\n",
      "                  + 6*(pums_p.schg<6)*(pums_p.wkhp<25)*(pums_p.agep>=16)*(pums_p.agep<=19) + 7*(pums_p.agep>=6)*(pums_p.agep<=15) + 8*(pums_p.agep<=5)  \n",
      "        \n",
      "joined = pd.merge(pums_p, pums_hh, left_index=True, right_index=True)\n",
      "joined['serialno'] = joined.index.values\n",
      "joined['is_worker'] = np.in1d(joined.esr,[1,2,3,4,5]).astype('int32')\n",
      "\n",
      "num_children = joined[joined.agep<18].groupby('serialno').size()\n",
      "num_adults = joined[joined.agep>=18].groupby('serialno').size()\n",
      "num_workers = joined.groupby('serialno').is_worker.sum()\n",
      "\n",
      "pums_hh['age_of_head'] = joined[joined.relp==0].agep\n",
      "pums_hh['children'] = num_children\n",
      "\n",
      "pums_hh['hhagecat'] = 1*(pums_hh.age_of_head<65) + 2*(pums_hh.age_of_head>=65)\n",
      "pums_hh['hhagecat3'] = 1*(pums_hh.age_of_head<45) + 2*(pums_hh.age_of_head>=45)*(pums_hh.age_of_head<65) + 3*(pums_hh.age_of_head>=65)\n",
      "\n",
      "pums_hh['hsizecat'] = pums_hh.np*(pums_hh.np<=5) + 5*(pums_hh.np>5)\n",
      "pums_hh['hsizecat6'] = pums_hh.np*(pums_hh.np<=6) + 6*(pums_hh.np>6)\n",
      "pums_hh['hfamily'] = 1*(pums_hh.hht>3) + 2*(pums_hh.hht<=3)\n",
      "pums_hh['hunittype'] = 0\n",
      "pums_hh['hnoccat'] = 0*(pums_hh.noc==0) + 1*(pums_hh.noc>0)\n",
      "pums_hh['hnccat6'] = num_children*(num_children<5) + 5*(num_children>=5)\n",
      "pums_hh['hnacat6'] =  num_adults*(num_adults<5) + 5*(num_adults>=5)\n",
      "pums_hh['hwrkrcat'] = num_workers*(num_workers<3) + 3*(num_workers>=3)\n",
      "pums_hh['hwrkcat5'] = num_workers*(num_workers<4) + 4*(num_workers>=4)\n",
      "pums_hh['h0005'] = joined[joined.agep<=5].groupby('serialno').size()\n",
      "pums_hh['h0611'] = joined[(joined.agep>=6)*(joined.agep<=11)].groupby('serialno').size()\n",
      "pums_hh['h1215'] = joined[(joined.agep>=12)*(joined.agep<=15)].groupby('serialno').size()\n",
      "pums_hh['h1617'] = joined[(joined.agep>=16)*(joined.agep<=17)].groupby('serialno').size()\n",
      "pums_hh['h1824'] = joined[(joined.agep>=18)*(joined.agep<=24)].groupby('serialno').size()\n",
      "pums_hh['h2534'] = joined[(joined.agep>=25)*(joined.agep<=34)].groupby('serialno').size()\n",
      "pums_hh['h3549'] = joined[(joined.agep>=35)*(joined.agep<=49)].groupby('serialno').size()\n",
      "pums_hh['h5064'] = joined[(joined.agep>=50)*(joined.agep<=64)].groupby('serialno').size()\n",
      "pums_hh['h6579'] = joined[(joined.agep>=65)*(joined.agep<=79)].groupby('serialno').size()\n",
      "pums_hh['h80up'] = joined[(joined.agep>=80)].groupby('serialno').size()\n",
      "pums_hh['hworkers'] = num_workers\n",
      "pums_hh['hwork_f'] = joined[joined.ptype==1].groupby('serialno').size()\n",
      "pums_hh['hwork_p'] = joined[joined.ptype==2].groupby('serialno').size()\n",
      "pums_hh['huniv'] = joined[joined.ptype==3].groupby('serialno').size()\n",
      "pums_hh['hnwork'] = joined[joined.ptype==4].groupby('serialno').size()\n",
      "pums_hh['hretire'] = joined[joined.ptype==5].groupby('serialno').size()\n",
      "pums_hh['hpresch'] = joined[joined.ptype==8].groupby('serialno').size()\n",
      "pums_hh['hschpred'] = joined[joined.ptype==7].groupby('serialno').size()\n",
      "pums_hh['hschdriv'] = joined[joined.ptype==6].groupby('serialno').size()\n",
      "pums_hh['hadnwst'] = joined[(joined.agep>=16)*(joined.wkhp==-99)*(joined.schg>0)].groupby('serialno').size()\n",
      "pums_hh['hadwpst'] = joined[(joined.agep>=16)*(joined.wkhp>0)*(joined.schg>0)].groupby('serialno').size()\n",
      "pums_hh['hadkids'] = joined[(joined.agep>=18)*(joined.relp==2)].groupby('serialno').size()\n",
      "\n",
      "pums_hh['puma5'] = pums_hh.puma  ##Needs to be updated by urbansim!!\n",
      "pums_hh['hinc'] = pums_hh.hincp*pums_hh.adjinc*.74 ##Adjustment from 2011 dollars to 1999 dollars\n",
      "pums_hh['persons'] = pums_hh.np\n",
      "pums_hh.hht[pums_hh.hht==-99] = 0\n",
      "pums_hh['unittype'] = pums_hh.type - 1\n",
      "pums_hh['hinccat1'] = 1*(pums_hh.hinc<20000) + 2*(pums_hh.hinc>=20000)*(pums_hh.hinc<50000) + 3*(pums_hh.hinc>=50000)*(pums_hh.hinc<100000) + 4*(pums_hh.hinc>=100000)\n",
      "pums_hh['hinccat2'] = 1*(pums_hh.hinc<10000) + 2*(pums_hh.hinc>=10000)*(pums_hh.hinc<20000) + 3*(pums_hh.hinc>=20000)*(pums_hh.hinc<30000) + \\\n",
      "                      4*(pums_hh.hinc>=30000)*(pums_hh.hinc<40000) + 5*(pums_hh.hinc>=40000)*(pums_hh.hinc<50000) + 6*(pums_hh.hinc>=50000)*(pums_hh.hinc<60000) + \\\n",
      "                      7*(pums_hh.hinc>=60000)*(pums_hh.hinc<75000) + 8*(pums_hh.hinc>=75000)*(pums_hh.hinc<100000) +  9*(pums_hh.hinc>=100000)\n",
      "pums_hh['hownrent'] = 1*(pums_hh.ten<3) + 2*(pums_hh.ten>2)\n",
      "pums_hh['bucketBin'] = 0\n",
      "pums_hh['originalpuma'] = pums_hh.puma"
     ],
     "language": "python",
     "metadata": {},
     "outputs": [],
     "prompt_number": 1
    },
    {
     "cell_type": "code",
     "collapsed": false,
     "input": [
      "from drcog.variables import pums_vars\n",
      "pums_hh, pums_p = pums_vars.get_pums()"
     ],
     "language": "python",
     "metadata": {},
     "outputs": [],
     "prompt_number": 1
    },
    {
     "cell_type": "code",
     "collapsed": false,
     "input": [
      "import pandas as pd, numpy as np\n",
      "import os\n",
      "from synthicity.utils import misc\n",
      "from drcog.models import dataset\n",
      "dset = dataset.DRCOGDataset(os.path.join(misc.data_dir(),'drcog.h5'))\n",
      "from drcog.variables import variable_library\n",
      "variable_library.calculate_variables(dset)\n",
      "p = dset.parcels.set_index('parcel_id')\n",
      "z = dset.zones\n",
      "p['taz'] = z.external_zone_id[p.zone_id].values\n",
      "b = dset.buildings\n",
      "h = dset.households\n",
      "del h['taz']\n",
      "hb = pd.merge(h,b,left_on='building_id',right_index=True)\n",
      "hbp = pd.merge(hb,p,left_on='parcel_id',right_index=True)\n",
      "bp = pd.merge(b,p,left_on='parcel_id',right_index=True)"
     ],
     "language": "python",
     "metadata": {},
     "outputs": [
      {
       "output_type": "stream",
       "stream": "stdout",
       "text": [
        "Fetching parcels\n",
        "Fetching modify_table"
       ]
      },
      {
       "output_type": "stream",
       "stream": "stdout",
       "text": [
        "\n",
        "Fetching zones"
       ]
      },
      {
       "output_type": "stream",
       "stream": "stdout",
       "text": [
        "\n",
        "Fetching modify_table\n",
        "Fetching buildings\n",
        "Fetching establishments"
       ]
      },
      {
       "output_type": "stream",
       "stream": "stdout",
       "text": [
        "\n",
        "Fetching modify_table"
       ]
      },
      {
       "output_type": "stream",
       "stream": "stdout",
       "text": [
        "\n",
        "Fetching modify_table"
       ]
      },
      {
       "output_type": "stream",
       "stream": "stdout",
       "text": [
        "\n",
        "Fetching households\n",
        "Fetching modify_table\n"
       ]
      }
     ],
     "prompt_number": 1
    },
    {
     "cell_type": "code",
     "collapsed": false,
     "input": [],
     "language": "python",
     "metadata": {},
     "outputs": [],
     "prompt_number": 1
    },
    {
     "cell_type": "code",
     "collapsed": false,
     "input": [
      "import pandas as pd, numpy as np\n",
      "import os\n",
      "from synthicity.utils import misc\n",
      "from drcog.models import dataset\n",
      "dset = dataset.DRCOGDataset(os.path.join(misc.data_dir(),'drcog.h5'))\n",
      "from drcog.variables import variable_library\n",
      "variable_library.calculate_variables(dset)"
     ],
     "language": "python",
     "metadata": {},
     "outputs": [
      {
       "output_type": "stream",
       "stream": "stdout",
       "text": [
        "Fetching parcels\n",
        "Fetching modify_table"
       ]
      },
      {
       "output_type": "stream",
       "stream": "stdout",
       "text": [
        "\n",
        "Fetching buildings"
       ]
      },
      {
       "output_type": "stream",
       "stream": "stdout",
       "text": [
        "\n",
        "Fetching establishments"
       ]
      },
      {
       "output_type": "stream",
       "stream": "stdout",
       "text": [
        "\n",
        "Fetching modify_table"
       ]
      },
      {
       "output_type": "stream",
       "stream": "stdout",
       "text": [
        "\n",
        "Fetching modify_table"
       ]
      },
      {
       "output_type": "stream",
       "stream": "stdout",
       "text": [
        "\n",
        "Fetching households_for_estimation"
       ]
      },
      {
       "output_type": "stream",
       "stream": "stdout",
       "text": [
        "\n",
        "Fetching modify_table\n",
        "Fetching households\n",
        "Fetching modify_table"
       ]
      },
      {
       "output_type": "stream",
       "stream": "stdout",
       "text": [
        "\n",
        "Fetching zones"
       ]
      },
      {
       "output_type": "stream",
       "stream": "stdout",
       "text": [
        "\n",
        "Fetching modify_table\n",
        "Fetching travel_data"
       ]
      },
      {
       "output_type": "stream",
       "stream": "stdout",
       "text": [
        "\n",
        "Fetching modify_table"
       ]
      },
      {
       "output_type": "stream",
       "stream": "stdout",
       "text": [
        "\n"
       ]
      }
     ],
     "prompt_number": 2
    },
    {
     "cell_type": "code",
     "collapsed": false,
     "input": [
      "h = dset.fetch('households')[['serialno','building_id']]\n",
      "b = dset.fetch('buildings')[['residential_units','parcel_id','building_type_id']]\n",
      "p = dset.fetch('parcels')[['zone_id']]\n",
      "z = dset.fetch('zones')[['external_zone_id']]\n",
      "p['taz'] = z.external_zone_id[p.zone_id].values\n",
      "hb = pd.merge(h,b,left_on='building_id',right_index=True)\n",
      "hbp = pd.merge(hb,p,left_on='parcel_id',right_index=True)\n",
      "bp = pd.merge(b,p,left_on='parcel_id',right_index=True)"
     ],
     "language": "python",
     "metadata": {},
     "outputs": [],
     "prompt_number": 3
    },
    {
     "cell_type": "code",
     "collapsed": false,
     "input": [
      "h_for_export = hbp[['taz','serialno','residential_units','building_type_id']]"
     ],
     "language": "python",
     "metadata": {},
     "outputs": [],
     "prompt_number": 4
    },
    {
     "cell_type": "code",
     "collapsed": false,
     "input": [
      "hh_for_export = pd.merge(h_for_export,pums_hh,left_on='serialno',right_index=True)"
     ],
     "language": "python",
     "metadata": {},
     "outputs": [],
     "prompt_number": 5
    },
    {
     "cell_type": "code",
     "collapsed": false,
     "input": [
      "hh_for_export['bldgsz'] = 2\n",
      "hh_for_export.bldgsz[hh_for_export.residential_units==2] = 4\n",
      "hh_for_export.bldgsz[np.in1d(hh_for_export.residential_units,[3,4])] = 5\n",
      "hh_for_export.bldgsz[np.in1d(hh_for_export.residential_units,[5,6,7,8,9])] = 6\n",
      "hh_for_export.bldgsz[(hh_for_export.residential_units>=10)*(hh_for_export.residential_units<=19)] = 7\n",
      "hh_for_export.bldgsz[(hh_for_export.residential_units>=20)*(hh_for_export.residential_units<=49)] = 8\n",
      "hh_for_export.bldgsz[(hh_for_export.residential_units>=50)] = 9\n",
      "hh_for_export.bldgsz[(hh_for_export.residential_units==1)*(hh_for_export.building_type_id==24)] = 3\n",
      "hh_for_export['htypdwel'] = 1*(hh_for_export.bldgsz==2) + 2*(hh_for_export.bldgsz!=2)\n",
      "hh_for_export.index.name = 'hhid'"
     ],
     "language": "python",
     "metadata": {},
     "outputs": [],
     "prompt_number": 6
    },
    {
     "cell_type": "code",
     "collapsed": false,
     "input": [
      "hh_for_export = hh_for_export[['taz','serialno','puma5','hinc','persons','hht','unittype','noc','bldgsz','ten','hinccat1',\n",
      "                               'hinccat2','hhagecat','hhagecat3','hsizecat','hsizecat6','hfamily','hunittype','hnoccat','hnccat6',\n",
      "                               'hnacat6','hwrkrcat','hwrkcat5','h0005','h0611','h1215','h1617','h1824','h2534','h3549','h5064','h6579',\n",
      "                               'h80up','hworkers','hwork_f','hwork_p','huniv','hnwork','hretire','hpresch','hschpred','hschdriv',\n",
      "                               'htypdwel','hownrent','hadnwst','hadwpst','hadkids','bucketBin','originalpuma']]"
     ],
     "language": "python",
     "metadata": {},
     "outputs": [],
     "prompt_number": 7
    },
    {
     "cell_type": "code",
     "collapsed": false,
     "input": [
      "hh_for_export = hh_for_export.rename(columns={'ten':'tenure'})"
     ],
     "language": "python",
     "metadata": {},
     "outputs": [],
     "prompt_number": 8
    },
    {
     "cell_type": "code",
     "collapsed": false,
     "input": [
      "hh_for_export = hh_for_export.fillna(0)"
     ],
     "language": "python",
     "metadata": {},
     "outputs": [],
     "prompt_number": 9
    },
    {
     "cell_type": "code",
     "collapsed": false,
     "input": [
      "persons = dset.fetch('persons')"
     ],
     "language": "python",
     "metadata": {},
     "outputs": [
      {
       "output_type": "stream",
       "stream": "stdout",
       "text": [
        "Fetching persons\n",
        "Fetching modify_table\n"
       ]
      }
     ],
     "prompt_number": 10
    },
    {
     "cell_type": "code",
     "collapsed": false,
     "input": [
      "pums_p['serial'] = pums_p.index.values\n",
      "pums_p['phispan'] = (pums_p.hispan>1).astype('int32')\n",
      "persons['personid'] = persons.index.values\n",
      "persons_for_export = pd.merge(persons,pums_p,left_on=['serialno','pnum'],right_on=['serial','pnum'])"
     ],
     "language": "python",
     "metadata": {},
     "outputs": [],
     "prompt_number": 11
    },
    {
     "cell_type": "code",
     "collapsed": false,
     "input": [
      "persons_for_export = persons_for_export[['personid','household_id','age','relate','esr','grade','pnum','paug','ddp','sex','weeks','hours',\n",
      "                                         'race1','hispan','msp','poverty','earns','indnaics','pagecat','pemploy','pstudent','phispan','ptype','padkid']]"
     ],
     "language": "python",
     "metadata": {},
     "outputs": [],
     "prompt_number": 12
    },
    {
     "cell_type": "code",
     "collapsed": false,
     "input": [
      "persons_for_export = persons_for_export.fillna(0)\n",
      "persons_for_export = persons_for_export.rename(columns={'household_id':'hhid'})"
     ],
     "language": "python",
     "metadata": {},
     "outputs": [],
     "prompt_number": 13
    },
    {
     "cell_type": "code",
     "collapsed": false,
     "input": [
      "hh_for_export.to_csv('c://users//janowicz//desktop//drcog_hh_tmexport.csv')\n",
      "persons_for_export.to_csv('c://users//janowicz//desktop//drcog_persons_tmexport.csv',index=False)"
     ],
     "language": "python",
     "metadata": {},
     "outputs": [],
     "prompt_number": 14
    },
    {
     "cell_type": "code",
     "collapsed": false,
     "input": [
      "print pums_hh[['puma']].head()\n",
      "print pums_p[['age']].head()"
     ],
     "language": "python",
     "metadata": {},
     "outputs": [
      {
       "output_type": "stream",
       "stream": "stdout",
       "text": [
        "               puma\n",
        "serialno           \n",
        "2007000000027   802\n",
        "2007000000094   811\n",
        "2007000000181   815\n",
        "2007000000250   813\n",
        "2007000000372   820\n",
        "               age\n",
        "serialno          \n",
        "2007000000027   51\n",
        "2007000000027   24\n",
        "2007000000027    2\n",
        "2007000000094   73\n",
        "2007000000094   73\n"
       ]
      }
     ],
     "prompt_number": 2
    }
   ],
   "metadata": {}
  }
 ]
}